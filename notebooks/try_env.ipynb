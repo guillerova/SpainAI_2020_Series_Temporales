{
 "cells": [
  {
   "cell_type": "code",
   "execution_count": 1,
   "id": "worst-canal",
   "metadata": {},
   "outputs": [
    {
     "name": "stderr",
     "output_type": "stream",
     "text": [
      "/home/alejandro.vaca/miniconda/envs/series_temporales/lib/python3.7/site-packages/pandas_datareader/compat/__init__.py:7: FutureWarning: pandas.util.testing is deprecated. Use the functions in the public API at pandas.testing instead.\n",
      "  from pandas.util.testing import assert_frame_equal\n",
      "/home/alejandro.vaca/miniconda/envs/series_temporales/lib/python3.7/site-packages/empyrical/utils.py:32: UserWarning: Unable to import pandas_datareader. Suppressing import error and continuing. All data reading functionality will raise errors; but has been deprecated and will be removed in a later version.\n",
      "  warnings.warn(msg)\n"
     ]
    }
   ],
   "source": [
    "from env import MyEnv"
   ]
  },
  {
   "cell_type": "code",
   "execution_count": 2,
   "id": "accepting-understanding",
   "metadata": {},
   "outputs": [],
   "source": [
    "env = MyEnv(\"observations_df.csv\", \"assets_df.csv\", n_assets=96)"
   ]
  },
  {
   "cell_type": "code",
   "execution_count": 3,
   "id": "handmade-contract",
   "metadata": {},
   "outputs": [],
   "source": [
    "obs = env.reset()"
   ]
  },
  {
   "cell_type": "code",
   "execution_count": 4,
   "id": "promotional-following",
   "metadata": {},
   "outputs": [
    {
     "data": {
      "text/plain": [
       "array([ 0.        ,  0.        ,  0.        , -0.05476269,  0.01608004,\n",
       "        0.        ,  0.        ,  0.        ,  0.        , -0.18728971,\n",
       "       -0.58778525,  0.80901699, -0.8660254 , -0.5       ,  1.        ,\n",
       "        1.        ,  0.        ,  1.        ,  1.        ,  1.        ,\n",
       "        0.        ,  1.        ,  0.        ,  1.        ,  1.        ,\n",
       "        0.        ,  1.        ,  1.        ,  1.        ,  1.        ,\n",
       "        1.        ,  1.        ,  1.        ,  1.        ,  1.        ,\n",
       "        1.        ,  1.        ,  0.        ,  1.        ,  1.        ,\n",
       "        1.        ,  1.        ,  1.        ,  1.        ,  1.        ,\n",
       "        1.        ,  1.        ,  1.        ,  1.        ,  1.        ,\n",
       "        1.        ,  1.        ,  1.        ,  1.        ,  1.        ,\n",
       "        1.        ,  1.        ,  0.        ,  1.        ,  1.        ,\n",
       "        1.        ,  1.        ,  1.        ,  0.        ,  1.        ,\n",
       "        0.        ,  1.        ,  1.        ,  0.        ,  1.        ,\n",
       "        1.        ,  1.        ,  1.        ,  1.        ,  1.        ,\n",
       "        1.        ,  0.        ,  1.        ,  0.        ,  1.        ,\n",
       "        0.        ,  1.        ,  1.        ,  1.        ,  1.        ,\n",
       "        1.        ,  1.        ,  1.        ,  0.        ,  0.        ,\n",
       "        0.        ,  0.        ,  1.        ,  1.        ,  1.        ,\n",
       "        1.        ,  1.        ,  1.        ,  0.        ,  1.        ,\n",
       "        1.        ,  0.        ,  1.        ,  1.        ,  1.        ,\n",
       "        1.        ,  0.        ,  1.        ,  1.        ,  1.        ])"
      ]
     },
     "execution_count": 4,
     "metadata": {},
     "output_type": "execute_result"
    }
   ],
   "source": [
    "obs"
   ]
  },
  {
   "cell_type": "code",
   "execution_count": 6,
   "id": "embedded-prime",
   "metadata": {},
   "outputs": [
    {
     "data": {
      "text/plain": [
       "(9296, 110)"
      ]
     },
     "execution_count": 6,
     "metadata": {},
     "output_type": "execute_result"
    }
   ],
   "source": [
    "env.game_df.shape"
   ]
  },
  {
   "cell_type": "code",
   "execution_count": 7,
   "id": "super-salad",
   "metadata": {},
   "outputs": [
    {
     "data": {
      "text/plain": [
       "(9296, 96)"
      ]
     },
     "execution_count": 7,
     "metadata": {},
     "output_type": "execute_result"
    }
   ],
   "source": [
    "env.assets_game.shape"
   ]
  },
  {
   "cell_type": "code",
   "execution_count": null,
   "id": "measured-examination",
   "metadata": {},
   "outputs": [],
   "source": []
  }
 ],
 "metadata": {
  "kernelspec": {
   "display_name": "Python [conda env:series_temporales] *",
   "language": "python",
   "name": "conda-env-series_temporales-py"
  },
  "language_info": {
   "codemirror_mode": {
    "name": "ipython",
    "version": 3
   },
   "file_extension": ".py",
   "mimetype": "text/x-python",
   "name": "python",
   "nbconvert_exporter": "python",
   "pygments_lexer": "ipython3",
   "version": "3.7.9"
  }
 },
 "nbformat": 4,
 "nbformat_minor": 5
}
