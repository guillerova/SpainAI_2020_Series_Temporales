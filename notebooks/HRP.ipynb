{
 "cells": [
  {
   "cell_type": "code",
   "execution_count": 1,
   "id": "thousand-philippines",
   "metadata": {},
   "outputs": [],
   "source": [
    "from data_utils import get_total_df_from_candles, read_all_candles, read_all_scores\n",
    "import matplotlib.pyplot as plt \n",
    "import pandas as pd\n",
    "import numpy as np\n",
    "from submission_utils import get_submission_markowitz, test_submission, general_weights_fixer"
   ]
  },
  {
   "cell_type": "code",
   "execution_count": 2,
   "id": "meaning-indication",
   "metadata": {},
   "outputs": [],
   "source": [
    "from portfoliolab.estimators import ReturnsEstimators, RiskEstimators"
   ]
  },
  {
   "cell_type": "code",
   "execution_count": 4,
   "id": "agricultural-little",
   "metadata": {},
   "outputs": [],
   "source": [
    "from portfoliolab.clustering import HierarchicalRiskParity, HierarchicalEqualRiskContribution\n",
    "from portfoliolab.clustering import NestedClusteredOptimisation\n",
    "#cov = risk_estimators.exponential_covariance(df_daily, price_data=True)"
   ]
  },
  {
   "cell_type": "code",
   "execution_count": 5,
   "id": "answering-cemetery",
   "metadata": {},
   "outputs": [
    {
     "name": "stderr",
     "output_type": "stream",
     "text": [
      "Getting candles data for Darwins...: 100%|██████████| 96/96 [00:03<00:00, 26.96it/s]\n"
     ]
    }
   ],
   "source": [
    "candles = read_all_candles()"
   ]
  },
  {
   "cell_type": "code",
   "execution_count": 6,
   "id": "careful-delay",
   "metadata": {},
   "outputs": [
    {
     "name": "stderr",
     "output_type": "stream",
     "text": [
      "100%|██████████| 94/94 [00:02<00:00, 37.72it/s]\n"
     ]
    }
   ],
   "source": [
    "scores = read_all_scores()"
   ]
  },
  {
   "cell_type": "code",
   "execution_count": 7,
   "id": "flying-frederick",
   "metadata": {},
   "outputs": [],
   "source": [
    "def mean_score(df):\n",
    "    return df[\"Pf\"].mean()"
   ]
  },
  {
   "cell_type": "code",
   "execution_count": 8,
   "id": "adjusted-drinking",
   "metadata": {},
   "outputs": [],
   "source": [
    "def _compute_weighted_mean(df):\n",
    "    means = df[\"Pf\"].values  # mean_score\n",
    "    weights = np.linspace(0.0, 1.0, len(means))\n",
    "    mean = sum([mu * w / sum(weights) for mu, w in zip(means, weights)]) / len(means)\n",
    "    return mean"
   ]
  },
  {
   "cell_type": "code",
   "execution_count": 9,
   "id": "signed-wells",
   "metadata": {},
   "outputs": [],
   "source": [
    "mean_scores = {k: _compute_weighted_mean(v) for k,v in scores.items()}"
   ]
  },
  {
   "cell_type": "code",
   "execution_count": 10,
   "id": "valuable-lease",
   "metadata": {},
   "outputs": [],
   "source": [
    "badscores = [k for k,v in mean_scores.items() if v < 5]"
   ]
  },
  {
   "cell_type": "code",
   "execution_count": 11,
   "id": "olympic-greensboro",
   "metadata": {},
   "outputs": [],
   "source": [
    "#mean_scores"
   ]
  },
  {
   "cell_type": "code",
   "execution_count": 12,
   "id": "mature-inquiry",
   "metadata": {},
   "outputs": [],
   "source": [
    "candles_not_scores = {k:v for k,v in candles.items() if k not in scores}"
   ]
  },
  {
   "cell_type": "code",
   "execution_count": 13,
   "id": "brief-subscription",
   "metadata": {},
   "outputs": [
    {
     "data": {
      "text/plain": [
       "dict_keys(['MUF', 'MMY'])"
      ]
     },
     "execution_count": 13,
     "metadata": {},
     "output_type": "execute_result"
    }
   ],
   "source": [
    "candles_not_scores.keys()"
   ]
  },
  {
   "cell_type": "code",
   "execution_count": 14,
   "id": "valued-strength",
   "metadata": {},
   "outputs": [],
   "source": [
    "candles_scores = {k:v for k,v in candles.items() if k in scores}"
   ]
  },
  {
   "cell_type": "code",
   "execution_count": 15,
   "id": "prompt-memorial",
   "metadata": {},
   "outputs": [],
   "source": [
    "candles_closes = {k:v[[\"close\"]] for k, v in candles_scores.items()}"
   ]
  },
  {
   "cell_type": "code",
   "execution_count": 16,
   "id": "productive-moral",
   "metadata": {},
   "outputs": [
    {
     "data": {
      "text/html": [
       "<div>\n",
       "<style scoped>\n",
       "    .dataframe tbody tr th:only-of-type {\n",
       "        vertical-align: middle;\n",
       "    }\n",
       "\n",
       "    .dataframe tbody tr th {\n",
       "        vertical-align: top;\n",
       "    }\n",
       "\n",
       "    .dataframe thead th {\n",
       "        text-align: right;\n",
       "    }\n",
       "</style>\n",
       "<table border=\"1\" class=\"dataframe\">\n",
       "  <thead>\n",
       "    <tr style=\"text-align: right;\">\n",
       "      <th></th>\n",
       "      <th>close</th>\n",
       "    </tr>\n",
       "    <tr>\n",
       "      <th>date</th>\n",
       "      <th></th>\n",
       "    </tr>\n",
       "  </thead>\n",
       "  <tbody>\n",
       "    <tr>\n",
       "      <th>2018-12-19 01:00:00</th>\n",
       "      <td>519.23</td>\n",
       "    </tr>\n",
       "    <tr>\n",
       "      <th>2018-12-19 02:00:00</th>\n",
       "      <td>519.63</td>\n",
       "    </tr>\n",
       "    <tr>\n",
       "      <th>2018-12-19 03:00:00</th>\n",
       "      <td>519.95</td>\n",
       "    </tr>\n",
       "    <tr>\n",
       "      <th>2018-12-19 04:00:00</th>\n",
       "      <td>520.09</td>\n",
       "    </tr>\n",
       "    <tr>\n",
       "      <th>2018-12-19 05:00:00</th>\n",
       "      <td>520.06</td>\n",
       "    </tr>\n",
       "  </tbody>\n",
       "</table>\n",
       "</div>"
      ],
      "text/plain": [
       "                      close\n",
       "date                       \n",
       "2018-12-19 01:00:00  519.23\n",
       "2018-12-19 02:00:00  519.63\n",
       "2018-12-19 03:00:00  519.95\n",
       "2018-12-19 04:00:00  520.09\n",
       "2018-12-19 05:00:00  520.06"
      ]
     },
     "execution_count": 16,
     "metadata": {},
     "output_type": "execute_result"
    }
   ],
   "source": [
    "candles_closes[\"ZVQ\"].head()"
   ]
  },
  {
   "cell_type": "code",
   "execution_count": 17,
   "id": "lesbian-virtue",
   "metadata": {},
   "outputs": [],
   "source": [
    "def _process_df(df, name):\n",
    "    df.columns = [name]\n",
    "    return df"
   ]
  },
  {
   "cell_type": "code",
   "execution_count": 18,
   "id": "young-alliance",
   "metadata": {},
   "outputs": [],
   "source": [
    "candle_closes = {k: _process_df(v, k) for k, v in candles_closes.items()}"
   ]
  },
  {
   "cell_type": "code",
   "execution_count": 19,
   "id": "wanted-observer",
   "metadata": {},
   "outputs": [],
   "source": [
    "df = pd.concat(candles_closes.values(), keys=candles_closes.keys(), axis=1)"
   ]
  },
  {
   "cell_type": "code",
   "execution_count": 20,
   "id": "welcome-beijing",
   "metadata": {},
   "outputs": [
    {
     "data": {
      "text/html": [
       "<div>\n",
       "<style scoped>\n",
       "    .dataframe tbody tr th:only-of-type {\n",
       "        vertical-align: middle;\n",
       "    }\n",
       "\n",
       "    .dataframe tbody tr th {\n",
       "        vertical-align: top;\n",
       "    }\n",
       "\n",
       "    .dataframe thead tr th {\n",
       "        text-align: left;\n",
       "    }\n",
       "\n",
       "    .dataframe thead tr:last-of-type th {\n",
       "        text-align: right;\n",
       "    }\n",
       "</style>\n",
       "<table border=\"1\" class=\"dataframe\">\n",
       "  <thead>\n",
       "    <tr>\n",
       "      <th></th>\n",
       "      <th>ZVQ</th>\n",
       "      <th>NCT</th>\n",
       "      <th>YAX</th>\n",
       "      <th>OOS</th>\n",
       "      <th>GFJ</th>\n",
       "      <th>FIR</th>\n",
       "      <th>USX</th>\n",
       "      <th>FSK</th>\n",
       "      <th>TMF</th>\n",
       "      <th>TDD</th>\n",
       "      <th>...</th>\n",
       "      <th>AZG</th>\n",
       "      <th>OJG</th>\n",
       "      <th>WWT</th>\n",
       "      <th>BOT</th>\n",
       "      <th>TXR</th>\n",
       "      <th>RAT</th>\n",
       "      <th>DIG</th>\n",
       "      <th>SRI</th>\n",
       "      <th>PHI</th>\n",
       "      <th>RWJ</th>\n",
       "    </tr>\n",
       "    <tr>\n",
       "      <th></th>\n",
       "      <th>ZVQ</th>\n",
       "      <th>NCT</th>\n",
       "      <th>YAX</th>\n",
       "      <th>OOS</th>\n",
       "      <th>GFJ</th>\n",
       "      <th>FIR</th>\n",
       "      <th>USX</th>\n",
       "      <th>FSK</th>\n",
       "      <th>TMF</th>\n",
       "      <th>TDD</th>\n",
       "      <th>...</th>\n",
       "      <th>AZG</th>\n",
       "      <th>OJG</th>\n",
       "      <th>WWT</th>\n",
       "      <th>BOT</th>\n",
       "      <th>TXR</th>\n",
       "      <th>RAT</th>\n",
       "      <th>DIG</th>\n",
       "      <th>SRI</th>\n",
       "      <th>PHI</th>\n",
       "      <th>RWJ</th>\n",
       "    </tr>\n",
       "    <tr>\n",
       "      <th>date</th>\n",
       "      <th></th>\n",
       "      <th></th>\n",
       "      <th></th>\n",
       "      <th></th>\n",
       "      <th></th>\n",
       "      <th></th>\n",
       "      <th></th>\n",
       "      <th></th>\n",
       "      <th></th>\n",
       "      <th></th>\n",
       "      <th></th>\n",
       "      <th></th>\n",
       "      <th></th>\n",
       "      <th></th>\n",
       "      <th></th>\n",
       "      <th></th>\n",
       "      <th></th>\n",
       "      <th></th>\n",
       "      <th></th>\n",
       "      <th></th>\n",
       "      <th></th>\n",
       "    </tr>\n",
       "  </thead>\n",
       "  <tbody>\n",
       "    <tr>\n",
       "      <th>2018-12-19 01:00:00</th>\n",
       "      <td>519.23</td>\n",
       "      <td>NaN</td>\n",
       "      <td>NaN</td>\n",
       "      <td>NaN</td>\n",
       "      <td>NaN</td>\n",
       "      <td>NaN</td>\n",
       "      <td>NaN</td>\n",
       "      <td>154.69</td>\n",
       "      <td>NaN</td>\n",
       "      <td>116.07</td>\n",
       "      <td>...</td>\n",
       "      <td>129.87</td>\n",
       "      <td>NaN</td>\n",
       "      <td>129.98</td>\n",
       "      <td>NaN</td>\n",
       "      <td>NaN</td>\n",
       "      <td>140.36</td>\n",
       "      <td>NaN</td>\n",
       "      <td>92.19</td>\n",
       "      <td>NaN</td>\n",
       "      <td>NaN</td>\n",
       "    </tr>\n",
       "    <tr>\n",
       "      <th>2018-12-19 02:00:00</th>\n",
       "      <td>519.63</td>\n",
       "      <td>NaN</td>\n",
       "      <td>NaN</td>\n",
       "      <td>NaN</td>\n",
       "      <td>NaN</td>\n",
       "      <td>NaN</td>\n",
       "      <td>NaN</td>\n",
       "      <td>155.01</td>\n",
       "      <td>NaN</td>\n",
       "      <td>116.25</td>\n",
       "      <td>...</td>\n",
       "      <td>129.95</td>\n",
       "      <td>NaN</td>\n",
       "      <td>130.02</td>\n",
       "      <td>NaN</td>\n",
       "      <td>NaN</td>\n",
       "      <td>140.55</td>\n",
       "      <td>NaN</td>\n",
       "      <td>92.11</td>\n",
       "      <td>NaN</td>\n",
       "      <td>NaN</td>\n",
       "    </tr>\n",
       "    <tr>\n",
       "      <th>2018-12-19 03:00:00</th>\n",
       "      <td>519.95</td>\n",
       "      <td>NaN</td>\n",
       "      <td>NaN</td>\n",
       "      <td>NaN</td>\n",
       "      <td>NaN</td>\n",
       "      <td>NaN</td>\n",
       "      <td>NaN</td>\n",
       "      <td>155.08</td>\n",
       "      <td>NaN</td>\n",
       "      <td>116.45</td>\n",
       "      <td>...</td>\n",
       "      <td>130.07</td>\n",
       "      <td>NaN</td>\n",
       "      <td>130.10</td>\n",
       "      <td>NaN</td>\n",
       "      <td>NaN</td>\n",
       "      <td>140.51</td>\n",
       "      <td>NaN</td>\n",
       "      <td>92.12</td>\n",
       "      <td>NaN</td>\n",
       "      <td>NaN</td>\n",
       "    </tr>\n",
       "    <tr>\n",
       "      <th>2018-12-19 04:00:00</th>\n",
       "      <td>520.09</td>\n",
       "      <td>NaN</td>\n",
       "      <td>NaN</td>\n",
       "      <td>NaN</td>\n",
       "      <td>NaN</td>\n",
       "      <td>NaN</td>\n",
       "      <td>NaN</td>\n",
       "      <td>155.16</td>\n",
       "      <td>NaN</td>\n",
       "      <td>116.65</td>\n",
       "      <td>...</td>\n",
       "      <td>130.26</td>\n",
       "      <td>NaN</td>\n",
       "      <td>130.50</td>\n",
       "      <td>NaN</td>\n",
       "      <td>NaN</td>\n",
       "      <td>140.57</td>\n",
       "      <td>NaN</td>\n",
       "      <td>92.18</td>\n",
       "      <td>NaN</td>\n",
       "      <td>NaN</td>\n",
       "    </tr>\n",
       "    <tr>\n",
       "      <th>2018-12-19 05:00:00</th>\n",
       "      <td>520.06</td>\n",
       "      <td>NaN</td>\n",
       "      <td>NaN</td>\n",
       "      <td>NaN</td>\n",
       "      <td>NaN</td>\n",
       "      <td>NaN</td>\n",
       "      <td>NaN</td>\n",
       "      <td>155.23</td>\n",
       "      <td>NaN</td>\n",
       "      <td>116.30</td>\n",
       "      <td>...</td>\n",
       "      <td>130.07</td>\n",
       "      <td>NaN</td>\n",
       "      <td>130.28</td>\n",
       "      <td>NaN</td>\n",
       "      <td>NaN</td>\n",
       "      <td>140.50</td>\n",
       "      <td>NaN</td>\n",
       "      <td>92.07</td>\n",
       "      <td>NaN</td>\n",
       "      <td>NaN</td>\n",
       "    </tr>\n",
       "  </tbody>\n",
       "</table>\n",
       "<p>5 rows × 94 columns</p>\n",
       "</div>"
      ],
      "text/plain": [
       "                        ZVQ NCT YAX OOS GFJ FIR USX     FSK TMF     TDD  ...  \\\n",
       "                        ZVQ NCT YAX OOS GFJ FIR USX     FSK TMF     TDD  ...   \n",
       "date                                                                     ...   \n",
       "2018-12-19 01:00:00  519.23 NaN NaN NaN NaN NaN NaN  154.69 NaN  116.07  ...   \n",
       "2018-12-19 02:00:00  519.63 NaN NaN NaN NaN NaN NaN  155.01 NaN  116.25  ...   \n",
       "2018-12-19 03:00:00  519.95 NaN NaN NaN NaN NaN NaN  155.08 NaN  116.45  ...   \n",
       "2018-12-19 04:00:00  520.09 NaN NaN NaN NaN NaN NaN  155.16 NaN  116.65  ...   \n",
       "2018-12-19 05:00:00  520.06 NaN NaN NaN NaN NaN NaN  155.23 NaN  116.30  ...   \n",
       "\n",
       "                        AZG OJG     WWT BOT TXR     RAT DIG    SRI PHI RWJ  \n",
       "                        AZG OJG     WWT BOT TXR     RAT DIG    SRI PHI RWJ  \n",
       "date                                                                        \n",
       "2018-12-19 01:00:00  129.87 NaN  129.98 NaN NaN  140.36 NaN  92.19 NaN NaN  \n",
       "2018-12-19 02:00:00  129.95 NaN  130.02 NaN NaN  140.55 NaN  92.11 NaN NaN  \n",
       "2018-12-19 03:00:00  130.07 NaN  130.10 NaN NaN  140.51 NaN  92.12 NaN NaN  \n",
       "2018-12-19 04:00:00  130.26 NaN  130.50 NaN NaN  140.57 NaN  92.18 NaN NaN  \n",
       "2018-12-19 05:00:00  130.07 NaN  130.28 NaN NaN  140.50 NaN  92.07 NaN NaN  \n",
       "\n",
       "[5 rows x 94 columns]"
      ]
     },
     "execution_count": 20,
     "metadata": {},
     "output_type": "execute_result"
    }
   ],
   "source": [
    "df.head()"
   ]
  },
  {
   "cell_type": "code",
   "execution_count": 21,
   "id": "addressed-climb",
   "metadata": {},
   "outputs": [],
   "source": [
    "df.columns = df.columns.droplevel()"
   ]
  },
  {
   "cell_type": "code",
   "execution_count": 22,
   "id": "measured-editing",
   "metadata": {},
   "outputs": [
    {
     "data": {
      "text/html": [
       "<div>\n",
       "<style scoped>\n",
       "    .dataframe tbody tr th:only-of-type {\n",
       "        vertical-align: middle;\n",
       "    }\n",
       "\n",
       "    .dataframe tbody tr th {\n",
       "        vertical-align: top;\n",
       "    }\n",
       "\n",
       "    .dataframe thead th {\n",
       "        text-align: right;\n",
       "    }\n",
       "</style>\n",
       "<table border=\"1\" class=\"dataframe\">\n",
       "  <thead>\n",
       "    <tr style=\"text-align: right;\">\n",
       "      <th></th>\n",
       "      <th>ZVQ</th>\n",
       "      <th>NCT</th>\n",
       "      <th>YAX</th>\n",
       "      <th>OOS</th>\n",
       "      <th>GFJ</th>\n",
       "      <th>FIR</th>\n",
       "      <th>USX</th>\n",
       "      <th>FSK</th>\n",
       "      <th>TMF</th>\n",
       "      <th>TDD</th>\n",
       "      <th>...</th>\n",
       "      <th>AZG</th>\n",
       "      <th>OJG</th>\n",
       "      <th>WWT</th>\n",
       "      <th>BOT</th>\n",
       "      <th>TXR</th>\n",
       "      <th>RAT</th>\n",
       "      <th>DIG</th>\n",
       "      <th>SRI</th>\n",
       "      <th>PHI</th>\n",
       "      <th>RWJ</th>\n",
       "    </tr>\n",
       "    <tr>\n",
       "      <th>date</th>\n",
       "      <th></th>\n",
       "      <th></th>\n",
       "      <th></th>\n",
       "      <th></th>\n",
       "      <th></th>\n",
       "      <th></th>\n",
       "      <th></th>\n",
       "      <th></th>\n",
       "      <th></th>\n",
       "      <th></th>\n",
       "      <th></th>\n",
       "      <th></th>\n",
       "      <th></th>\n",
       "      <th></th>\n",
       "      <th></th>\n",
       "      <th></th>\n",
       "      <th></th>\n",
       "      <th></th>\n",
       "      <th></th>\n",
       "      <th></th>\n",
       "      <th></th>\n",
       "    </tr>\n",
       "  </thead>\n",
       "  <tbody>\n",
       "    <tr>\n",
       "      <th>2018-12-19 01:00:00</th>\n",
       "      <td>519.23</td>\n",
       "      <td>NaN</td>\n",
       "      <td>NaN</td>\n",
       "      <td>NaN</td>\n",
       "      <td>NaN</td>\n",
       "      <td>NaN</td>\n",
       "      <td>NaN</td>\n",
       "      <td>154.69</td>\n",
       "      <td>NaN</td>\n",
       "      <td>116.07</td>\n",
       "      <td>...</td>\n",
       "      <td>129.87</td>\n",
       "      <td>NaN</td>\n",
       "      <td>129.98</td>\n",
       "      <td>NaN</td>\n",
       "      <td>NaN</td>\n",
       "      <td>140.36</td>\n",
       "      <td>NaN</td>\n",
       "      <td>92.19</td>\n",
       "      <td>NaN</td>\n",
       "      <td>NaN</td>\n",
       "    </tr>\n",
       "    <tr>\n",
       "      <th>2018-12-19 02:00:00</th>\n",
       "      <td>519.63</td>\n",
       "      <td>NaN</td>\n",
       "      <td>NaN</td>\n",
       "      <td>NaN</td>\n",
       "      <td>NaN</td>\n",
       "      <td>NaN</td>\n",
       "      <td>NaN</td>\n",
       "      <td>155.01</td>\n",
       "      <td>NaN</td>\n",
       "      <td>116.25</td>\n",
       "      <td>...</td>\n",
       "      <td>129.95</td>\n",
       "      <td>NaN</td>\n",
       "      <td>130.02</td>\n",
       "      <td>NaN</td>\n",
       "      <td>NaN</td>\n",
       "      <td>140.55</td>\n",
       "      <td>NaN</td>\n",
       "      <td>92.11</td>\n",
       "      <td>NaN</td>\n",
       "      <td>NaN</td>\n",
       "    </tr>\n",
       "    <tr>\n",
       "      <th>2018-12-19 03:00:00</th>\n",
       "      <td>519.95</td>\n",
       "      <td>NaN</td>\n",
       "      <td>NaN</td>\n",
       "      <td>NaN</td>\n",
       "      <td>NaN</td>\n",
       "      <td>NaN</td>\n",
       "      <td>NaN</td>\n",
       "      <td>155.08</td>\n",
       "      <td>NaN</td>\n",
       "      <td>116.45</td>\n",
       "      <td>...</td>\n",
       "      <td>130.07</td>\n",
       "      <td>NaN</td>\n",
       "      <td>130.10</td>\n",
       "      <td>NaN</td>\n",
       "      <td>NaN</td>\n",
       "      <td>140.51</td>\n",
       "      <td>NaN</td>\n",
       "      <td>92.12</td>\n",
       "      <td>NaN</td>\n",
       "      <td>NaN</td>\n",
       "    </tr>\n",
       "    <tr>\n",
       "      <th>2018-12-19 04:00:00</th>\n",
       "      <td>520.09</td>\n",
       "      <td>NaN</td>\n",
       "      <td>NaN</td>\n",
       "      <td>NaN</td>\n",
       "      <td>NaN</td>\n",
       "      <td>NaN</td>\n",
       "      <td>NaN</td>\n",
       "      <td>155.16</td>\n",
       "      <td>NaN</td>\n",
       "      <td>116.65</td>\n",
       "      <td>...</td>\n",
       "      <td>130.26</td>\n",
       "      <td>NaN</td>\n",
       "      <td>130.50</td>\n",
       "      <td>NaN</td>\n",
       "      <td>NaN</td>\n",
       "      <td>140.57</td>\n",
       "      <td>NaN</td>\n",
       "      <td>92.18</td>\n",
       "      <td>NaN</td>\n",
       "      <td>NaN</td>\n",
       "    </tr>\n",
       "    <tr>\n",
       "      <th>2018-12-19 05:00:00</th>\n",
       "      <td>520.06</td>\n",
       "      <td>NaN</td>\n",
       "      <td>NaN</td>\n",
       "      <td>NaN</td>\n",
       "      <td>NaN</td>\n",
       "      <td>NaN</td>\n",
       "      <td>NaN</td>\n",
       "      <td>155.23</td>\n",
       "      <td>NaN</td>\n",
       "      <td>116.30</td>\n",
       "      <td>...</td>\n",
       "      <td>130.07</td>\n",
       "      <td>NaN</td>\n",
       "      <td>130.28</td>\n",
       "      <td>NaN</td>\n",
       "      <td>NaN</td>\n",
       "      <td>140.50</td>\n",
       "      <td>NaN</td>\n",
       "      <td>92.07</td>\n",
       "      <td>NaN</td>\n",
       "      <td>NaN</td>\n",
       "    </tr>\n",
       "  </tbody>\n",
       "</table>\n",
       "<p>5 rows × 94 columns</p>\n",
       "</div>"
      ],
      "text/plain": [
       "                        ZVQ  NCT  YAX  OOS  GFJ  FIR  USX     FSK  TMF  \\\n",
       "date                                                                     \n",
       "2018-12-19 01:00:00  519.23  NaN  NaN  NaN  NaN  NaN  NaN  154.69  NaN   \n",
       "2018-12-19 02:00:00  519.63  NaN  NaN  NaN  NaN  NaN  NaN  155.01  NaN   \n",
       "2018-12-19 03:00:00  519.95  NaN  NaN  NaN  NaN  NaN  NaN  155.08  NaN   \n",
       "2018-12-19 04:00:00  520.09  NaN  NaN  NaN  NaN  NaN  NaN  155.16  NaN   \n",
       "2018-12-19 05:00:00  520.06  NaN  NaN  NaN  NaN  NaN  NaN  155.23  NaN   \n",
       "\n",
       "                        TDD  ...     AZG  OJG     WWT  BOT  TXR     RAT  DIG  \\\n",
       "date                         ...                                               \n",
       "2018-12-19 01:00:00  116.07  ...  129.87  NaN  129.98  NaN  NaN  140.36  NaN   \n",
       "2018-12-19 02:00:00  116.25  ...  129.95  NaN  130.02  NaN  NaN  140.55  NaN   \n",
       "2018-12-19 03:00:00  116.45  ...  130.07  NaN  130.10  NaN  NaN  140.51  NaN   \n",
       "2018-12-19 04:00:00  116.65  ...  130.26  NaN  130.50  NaN  NaN  140.57  NaN   \n",
       "2018-12-19 05:00:00  116.30  ...  130.07  NaN  130.28  NaN  NaN  140.50  NaN   \n",
       "\n",
       "                       SRI  PHI  RWJ  \n",
       "date                                  \n",
       "2018-12-19 01:00:00  92.19  NaN  NaN  \n",
       "2018-12-19 02:00:00  92.11  NaN  NaN  \n",
       "2018-12-19 03:00:00  92.12  NaN  NaN  \n",
       "2018-12-19 04:00:00  92.18  NaN  NaN  \n",
       "2018-12-19 05:00:00  92.07  NaN  NaN  \n",
       "\n",
       "[5 rows x 94 columns]"
      ]
     },
     "execution_count": 22,
     "metadata": {},
     "output_type": "execute_result"
    }
   ],
   "source": [
    "df.head()"
   ]
  },
  {
   "cell_type": "code",
   "execution_count": 23,
   "id": "effective-monkey",
   "metadata": {},
   "outputs": [],
   "source": [
    "df.index.rename(\"Date\", inplace=True)"
   ]
  },
  {
   "cell_type": "code",
   "execution_count": 24,
   "id": "developed-tuesday",
   "metadata": {},
   "outputs": [],
   "source": [
    "df_daily = df.resample(\"D\").aggregate(\"mean\")"
   ]
  },
  {
   "cell_type": "code",
   "execution_count": 25,
   "id": "personalized-pursuit",
   "metadata": {},
   "outputs": [],
   "source": [
    "#after = df_daily.index >= \"2020-02-01\"\n",
    "#df_daily = df_daily.loc[after]"
   ]
  },
  {
   "cell_type": "code",
   "execution_count": null,
   "id": "unsigned-harmony",
   "metadata": {},
   "outputs": [],
   "source": []
  },
  {
   "cell_type": "code",
   "execution_count": 26,
   "id": "atomic-venue",
   "metadata": {},
   "outputs": [],
   "source": [
    "hrp = HierarchicalRiskParity()"
   ]
  },
  {
   "cell_type": "code",
   "execution_count": null,
   "id": "different-residence",
   "metadata": {},
   "outputs": [],
   "source": []
  },
  {
   "cell_type": "code",
   "execution_count": 27,
   "id": "homeless-advancement",
   "metadata": {},
   "outputs": [],
   "source": [
    "hrp.allocate(asset_names=df_daily.columns, asset_prices=df_daily)"
   ]
  },
  {
   "cell_type": "code",
   "execution_count": 28,
   "id": "complimentary-missile",
   "metadata": {},
   "outputs": [],
   "source": [
    "#constraints = {\"XRX\": (0.0, 0.10), \"ERQ\": (0.06, 0.10)}\n",
    "#hrp.apply_weight_constraints(constraints=constraints)"
   ]
  },
  {
   "cell_type": "code",
   "execution_count": 29,
   "id": "sunrise-static",
   "metadata": {},
   "outputs": [],
   "source": [
    "hrp_weights = hrp.weights.sort_values(by=0, ascending=False, axis=1)"
   ]
  },
  {
   "cell_type": "code",
   "execution_count": 36,
   "id": "legendary-relevance",
   "metadata": {},
   "outputs": [],
   "source": [
    "import matplotlib.pyplot as plt\n",
    "\n",
    "plt.rcParams[\"figure.figsize\"] = (15, 12)\n",
    "plt.rcParams['axes.labelsize'] = 'xx-large'\n",
    "plt.rcParams['xtick.labelsize'] = 'x-large'"
   ]
  },
  {
   "cell_type": "code",
   "execution_count": 37,
   "id": "greater-union",
   "metadata": {},
   "outputs": [
    {
     "data": {
      "text/plain": [
       "{'icoord': [[65.0, 65.0, 75.0, 75.0],\n",
       "  [95.0, 95.0, 105.0, 105.0],\n",
       "  [165.0, 165.0, 175.0, 175.0],\n",
       "  [205.0, 205.0, 215.0, 215.0],\n",
       "  [195.0, 195.0, 210.0, 210.0],\n",
       "  [315.0, 315.0, 325.0, 325.0],\n",
       "  [305.0, 305.0, 320.0, 320.0],\n",
       "  [295.0, 295.0, 312.5, 312.5],\n",
       "  [365.0, 365.0, 375.0, 375.0],\n",
       "  [425.0, 425.0, 435.0, 435.0],\n",
       "  [455.0, 455.0, 465.0, 465.0],\n",
       "  [445.0, 445.0, 460.0, 460.0],\n",
       "  [430.0, 430.0, 452.5, 452.5],\n",
       "  [525.0, 525.0, 535.0, 535.0],\n",
       "  [515.0, 515.0, 530.0, 530.0],\n",
       "  [545.0, 545.0, 555.0, 555.0],\n",
       "  [575.0, 575.0, 585.0, 585.0],\n",
       "  [565.0, 565.0, 580.0, 580.0],\n",
       "  [625.0, 625.0, 635.0, 635.0],\n",
       "  [655.0, 655.0, 665.0, 665.0],\n",
       "  [645.0, 645.0, 660.0, 660.0],\n",
       "  [630.0, 630.0, 652.5, 652.5],\n",
       "  [615.0, 615.0, 641.25, 641.25],\n",
       "  [605.0, 605.0, 628.125, 628.125],\n",
       "  [595.0, 595.0, 616.5625, 616.5625],\n",
       "  [572.5, 572.5, 605.78125, 605.78125],\n",
       "  [705.0, 705.0, 715.0, 715.0],\n",
       "  [695.0, 695.0, 710.0, 710.0],\n",
       "  [685.0, 685.0, 702.5, 702.5],\n",
       "  [675.0, 675.0, 693.75, 693.75],\n",
       "  [725.0, 725.0, 735.0, 735.0],\n",
       "  [805.0, 805.0, 815.0, 815.0],\n",
       "  [835.0, 835.0, 845.0, 845.0],\n",
       "  [825.0, 825.0, 840.0, 840.0],\n",
       "  [810.0, 810.0, 832.5, 832.5],\n",
       "  [795.0, 795.0, 821.25, 821.25],\n",
       "  [785.0, 785.0, 808.125, 808.125],\n",
       "  [865.0, 865.0, 875.0, 875.0],\n",
       "  [855.0, 855.0, 870.0, 870.0],\n",
       "  [796.5625, 796.5625, 862.5, 862.5],\n",
       "  [775.0, 775.0, 829.53125, 829.53125],\n",
       "  [765.0, 765.0, 802.265625, 802.265625],\n",
       "  [755.0, 755.0, 783.6328125, 783.6328125],\n",
       "  [745.0, 745.0, 769.31640625, 769.31640625],\n",
       "  [730.0, 730.0, 757.158203125, 757.158203125],\n",
       "  [684.375, 684.375, 743.5791015625, 743.5791015625],\n",
       "  [589.140625, 589.140625, 713.97705078125, 713.97705078125],\n",
       "  [550.0, 550.0, 651.558837890625, 651.558837890625],\n",
       "  [522.5, 522.5, 600.7794189453125, 600.7794189453125],\n",
       "  [505.0, 505.0, 561.6397094726562, 561.6397094726562],\n",
       "  [495.0, 495.0, 533.3198547363281, 533.3198547363281],\n",
       "  [485.0, 485.0, 514.1599273681641, 514.1599273681641],\n",
       "  [475.0, 475.0, 499.57996368408203, 499.57996368408203],\n",
       "  [905.0, 905.0, 915.0, 915.0],\n",
       "  [895.0, 895.0, 910.0, 910.0],\n",
       "  [925.0, 925.0, 935.0, 935.0],\n",
       "  [902.5, 902.5, 930.0, 930.0],\n",
       "  [885.0, 885.0, 916.25, 916.25],\n",
       "  [487.289981842041, 487.289981842041, 900.625, 900.625],\n",
       "  [441.25, 441.25, 693.9574909210205, 693.9574909210205],\n",
       "  [415.0, 415.0, 567.6037454605103, 567.6037454605103],\n",
       "  [405.0, 405.0, 491.3018727302551, 491.3018727302551],\n",
       "  [395.0, 395.0, 448.15093636512756, 448.15093636512756],\n",
       "  [385.0, 385.0, 421.5754681825638, 421.5754681825638],\n",
       "  [370.0, 370.0, 403.2877340912819, 403.2877340912819],\n",
       "  [355.0, 355.0, 386.64386704564095, 386.64386704564095],\n",
       "  [345.0, 345.0, 370.8219335228205, 370.8219335228205],\n",
       "  [335.0, 335.0, 357.91096676141024, 357.91096676141024],\n",
       "  [303.75, 303.75, 346.4554833807051, 346.4554833807051],\n",
       "  [285.0, 285.0, 325.10274169035256, 325.10274169035256],\n",
       "  [275.0, 275.0, 305.0513708451763, 305.0513708451763],\n",
       "  [265.0, 265.0, 290.02568542258814, 290.02568542258814],\n",
       "  [255.0, 255.0, 277.51284271129407, 277.51284271129407],\n",
       "  [245.0, 245.0, 266.25642135564703, 266.25642135564703],\n",
       "  [235.0, 235.0, 255.62821067782352, 255.62821067782352],\n",
       "  [225.0, 225.0, 245.31410533891176, 245.31410533891176],\n",
       "  [202.5, 202.5, 235.15705266945588, 235.15705266945588],\n",
       "  [185.0, 185.0, 218.82852633472794, 218.82852633472794],\n",
       "  [170.0, 170.0, 201.91426316736397, 201.91426316736397],\n",
       "  [155.0, 155.0, 185.95713158368198, 185.95713158368198],\n",
       "  [145.0, 145.0, 170.478565791841, 170.478565791841],\n",
       "  [135.0, 135.0, 157.7392828959205, 157.7392828959205],\n",
       "  [125.0, 125.0, 146.36964144796025, 146.36964144796025],\n",
       "  [115.0, 115.0, 135.68482072398012, 135.68482072398012],\n",
       "  [100.0, 100.0, 125.34241036199006, 125.34241036199006],\n",
       "  [85.0, 85.0, 112.67120518099503, 112.67120518099503],\n",
       "  [70.0, 70.0, 98.83560259049752, 98.83560259049752],\n",
       "  [55.0, 55.0, 84.41780129524875, 84.41780129524875],\n",
       "  [45.0, 45.0, 69.70890064762438, 69.70890064762438],\n",
       "  [35.0, 35.0, 57.35445032381219, 57.35445032381219],\n",
       "  [25.0, 25.0, 46.177225161906094, 46.177225161906094],\n",
       "  [15.0, 15.0, 35.58861258095305, 35.58861258095305],\n",
       "  [5.0, 5.0, 25.294306290476523, 25.294306290476523]],\n",
       " 'dcoord': [[0.0, 0.4891983237910776, 0.4891983237910776, 0.0],\n",
       "  [0.0, 0.603179077886493, 0.603179077886493, 0.0],\n",
       "  [0.0, 0.5018814601078625, 0.5018814601078625, 0.0],\n",
       "  [0.0, 0.2627736668694183, 0.2627736668694183, 0.0],\n",
       "  [0.0, 0.6088267405428247, 0.6088267405428247, 0.2627736668694183],\n",
       "  [0.0, 0.5126451014103227, 0.5126451014103227, 0.0],\n",
       "  [0.0, 0.5553332332933083, 0.5553332332933083, 0.5126451014103227],\n",
       "  [0.0, 0.6022790051130789, 0.6022790051130789, 0.5553332332933083],\n",
       "  [0.0, 0.5629698038083393, 0.5629698038083393, 0.0],\n",
       "  [0.0, 0.41849731181932337, 0.41849731181932337, 0.0],\n",
       "  [0.0, 0.3476276743874112, 0.3476276743874112, 0.0],\n",
       "  [0.0, 0.5445181356024793, 0.5445181356024793, 0.3476276743874112],\n",
       "  [0.41849731181932337,\n",
       "   0.5618140261688026,\n",
       "   0.5618140261688026,\n",
       "   0.5445181356024793],\n",
       "  [0.0, 0.3771869562962113, 0.3771869562962113, 0.0],\n",
       "  [0.0, 0.5514480936588683, 0.5514480936588683, 0.3771869562962113],\n",
       "  [0.0, 0.5425218889593304, 0.5425218889593304, 0.0],\n",
       "  [0.0, 0.5488487952068402, 0.5488487952068402, 0.0],\n",
       "  [0.0, 0.549367818496861, 0.549367818496861, 0.5488487952068402],\n",
       "  [0.0, 0.4604345773288535, 0.4604345773288535, 0.0],\n",
       "  [0.0, 0.3410205272413964, 0.3410205272413964, 0.0],\n",
       "  [0.0, 0.48560786649312015, 0.48560786649312015, 0.3410205272413964],\n",
       "  [0.4604345773288535,\n",
       "   0.5231061077831151,\n",
       "   0.5231061077831151,\n",
       "   0.48560786649312015],\n",
       "  [0.0, 0.5536921527347123, 0.5536921527347123, 0.5231061077831151],\n",
       "  [0.0, 0.5600758877152274, 0.5600758877152274, 0.5536921527347123],\n",
       "  [0.0, 0.5600848150057275, 0.5600848150057275, 0.5600758877152274],\n",
       "  [0.549367818496861,\n",
       "   0.5608119114284218,\n",
       "   0.5608119114284218,\n",
       "   0.5600848150057275],\n",
       "  [0.0, 0.46840153714521476, 0.46840153714521476, 0.0],\n",
       "  [0.0, 0.5093378053904893, 0.5093378053904893, 0.46840153714521476],\n",
       "  [0.0, 0.5387299880273976, 0.5387299880273976, 0.5093378053904893],\n",
       "  [0.0, 0.5432540842000178, 0.5432540842000178, 0.5387299880273976],\n",
       "  [0.0, 0.5298914983277238, 0.5298914983277238, 0.0],\n",
       "  [0.0, 0.2548627081391077, 0.2548627081391077, 0.0],\n",
       "  [0.0, 0.2885827437668441, 0.2885827437668441, 0.0],\n",
       "  [0.0, 0.2887299776607895, 0.2887299776607895, 0.2885827437668441],\n",
       "  [0.2548627081391077,\n",
       "   0.3943602414037196,\n",
       "   0.3943602414037196,\n",
       "   0.2887299776607895],\n",
       "  [0.0, 0.40394306529509827, 0.40394306529509827, 0.3943602414037196],\n",
       "  [0.0, 0.40630038149132963, 0.40630038149132963, 0.40394306529509827],\n",
       "  [0.0, 0.4038811706430494, 0.4038811706430494, 0.0],\n",
       "  [0.0, 0.4261103143553322, 0.4261103143553322, 0.4038811706430494],\n",
       "  [0.40630038149132963,\n",
       "   0.4956157786027398,\n",
       "   0.4956157786027398,\n",
       "   0.4261103143553322],\n",
       "  [0.0, 0.5061126356849827, 0.5061126356849827, 0.4956157786027398],\n",
       "  [0.0, 0.5264883664431722, 0.5264883664431722, 0.5061126356849827],\n",
       "  [0.0, 0.5350607442150844, 0.5350607442150844, 0.5264883664431722],\n",
       "  [0.0, 0.5426509006718776, 0.5426509006718776, 0.5350607442150844],\n",
       "  [0.5298914983277238,\n",
       "   0.5536605458220768,\n",
       "   0.5536605458220768,\n",
       "   0.5426509006718776],\n",
       "  [0.5432540842000178,\n",
       "   0.5630719314616917,\n",
       "   0.5630719314616917,\n",
       "   0.5536605458220768],\n",
       "  [0.5608119114284218,\n",
       "   0.566692156289462,\n",
       "   0.566692156289462,\n",
       "   0.5630719314616917],\n",
       "  [0.5425218889593304,\n",
       "   0.5676134247883854,\n",
       "   0.5676134247883854,\n",
       "   0.566692156289462],\n",
       "  [0.5514480936588683,\n",
       "   0.5690474496911484,\n",
       "   0.5690474496911484,\n",
       "   0.5676134247883854],\n",
       "  [0.0, 0.5713230259669217, 0.5713230259669217, 0.5690474496911484],\n",
       "  [0.0, 0.5715855141621418, 0.5715855141621418, 0.5713230259669217],\n",
       "  [0.0, 0.5727608576011458, 0.5727608576011458, 0.5715855141621418],\n",
       "  [0.0, 0.5763939624944037, 0.5763939624944037, 0.5727608576011458],\n",
       "  [0.0, 0.1795132307101624, 0.1795132307101624, 0.0],\n",
       "  [0.0, 0.24464259645450137, 0.24464259645450137, 0.1795132307101624],\n",
       "  [0.0, 0.557552688093242, 0.557552688093242, 0.0],\n",
       "  [0.24464259645450137,\n",
       "   0.5595176494088457,\n",
       "   0.5595176494088457,\n",
       "   0.557552688093242],\n",
       "  [0.0, 0.5792495144581478, 0.5792495144581478, 0.5595176494088457],\n",
       "  [0.5763939624944037,\n",
       "   0.5816098348549481,\n",
       "   0.5816098348549481,\n",
       "   0.5792495144581478],\n",
       "  [0.5618140261688026,\n",
       "   0.5835709040039607,\n",
       "   0.5835709040039607,\n",
       "   0.5816098348549481],\n",
       "  [0.0, 0.5859394166635319, 0.5859394166635319, 0.5835709040039607],\n",
       "  [0.0, 0.5865492306703676, 0.5865492306703676, 0.5859394166635319],\n",
       "  [0.0, 0.5866344688134171, 0.5866344688134171, 0.5865492306703676],\n",
       "  [0.0, 0.5881878951491607, 0.5881878951491607, 0.5866344688134171],\n",
       "  [0.5629698038083393,\n",
       "   0.5886849751777261,\n",
       "   0.5886849751777261,\n",
       "   0.5881878951491607],\n",
       "  [0.0, 0.5927351853905756, 0.5927351853905756, 0.5886849751777261],\n",
       "  [0.0, 0.5963681748718656, 0.5963681748718656, 0.5927351853905756],\n",
       "  [0.0, 0.6030505783099789, 0.6030505783099789, 0.5963681748718656],\n",
       "  [0.6022790051130789,\n",
       "   0.6032205235235286,\n",
       "   0.6032205235235286,\n",
       "   0.6030505783099789],\n",
       "  [0.0, 0.6045122000423151, 0.6045122000423151, 0.6032205235235286],\n",
       "  [0.0, 0.606967873943918, 0.606967873943918, 0.6045122000423151],\n",
       "  [0.0, 0.6114572756947128, 0.6114572756947128, 0.606967873943918],\n",
       "  [0.0, 0.6119272832616633, 0.6119272832616633, 0.6114572756947128],\n",
       "  [0.0, 0.6119436248544469, 0.6119436248544469, 0.6119272832616633],\n",
       "  [0.0, 0.6126867062373722, 0.6126867062373722, 0.6119436248544469],\n",
       "  [0.0, 0.6132862300753213, 0.6132862300753213, 0.6126867062373722],\n",
       "  [0.6088267405428247,\n",
       "   0.6138159333220342,\n",
       "   0.6138159333220342,\n",
       "   0.6132862300753213],\n",
       "  [0.0, 0.614133535967545, 0.614133535967545, 0.6138159333220342],\n",
       "  [0.5018814601078625,\n",
       "   0.6149146282208613,\n",
       "   0.6149146282208613,\n",
       "   0.614133535967545],\n",
       "  [0.0, 0.6178551610207687, 0.6178551610207687, 0.6149146282208613],\n",
       "  [0.0, 0.6182717848972247, 0.6182717848972247, 0.6178551610207687],\n",
       "  [0.0, 0.6200967666421104, 0.6200967666421104, 0.6182717848972247],\n",
       "  [0.0, 0.6210394512428337, 0.6210394512428337, 0.6200967666421104],\n",
       "  [0.0, 0.6219485509268431, 0.6219485509268431, 0.6210394512428337],\n",
       "  [0.603179077886493,\n",
       "   0.626226795977304,\n",
       "   0.626226795977304,\n",
       "   0.6219485509268431],\n",
       "  [0.0, 0.6295196581521502, 0.6295196581521502, 0.626226795977304],\n",
       "  [0.4891983237910776,\n",
       "   0.6337783524229902,\n",
       "   0.6337783524229902,\n",
       "   0.6295196581521502],\n",
       "  [0.0, 0.6347519200443588, 0.6347519200443588, 0.6337783524229902],\n",
       "  [0.0, 0.6411162141141027, 0.6411162141141027, 0.6347519200443588],\n",
       "  [0.0, 0.6436497494755979, 0.6436497494755979, 0.6411162141141027],\n",
       "  [0.0, 0.6482746331609776, 0.6482746331609776, 0.6436497494755979],\n",
       "  [0.0, 0.6518857261821277, 0.6518857261821277, 0.6482746331609776],\n",
       "  [0.0, 0.6710327860842569, 0.6710327860842569, 0.6518857261821277]],\n",
       " 'ivl': ['UPP',\n",
       "  'PME',\n",
       "  'ERQ',\n",
       "  'UEI',\n",
       "  'FSK',\n",
       "  'SYO',\n",
       "  'XRX',\n",
       "  'TXR',\n",
       "  'BSX',\n",
       "  'HZY',\n",
       "  'ZCD',\n",
       "  'CSB',\n",
       "  'FNM',\n",
       "  'IDT',\n",
       "  'PEW',\n",
       "  'ZVQ',\n",
       "  'UYZ',\n",
       "  'SKN',\n",
       "  'NVL',\n",
       "  'VRT',\n",
       "  'AWW',\n",
       "  'BZC',\n",
       "  'WWT',\n",
       "  'FFV',\n",
       "  'PUL',\n",
       "  'OJG',\n",
       "  'MET',\n",
       "  'TER',\n",
       "  'ZXW',\n",
       "  'BOT',\n",
       "  'NSC',\n",
       "  'ACY',\n",
       "  'AUX',\n",
       "  'LEN',\n",
       "  'OXR',\n",
       "  'ZUJ',\n",
       "  'REU',\n",
       "  'JNE',\n",
       "  'VVC',\n",
       "  'SEH',\n",
       "  'JTL',\n",
       "  'AZG',\n",
       "  'BGN',\n",
       "  'BFS',\n",
       "  'ZTY',\n",
       "  'YEC',\n",
       "  'CBY',\n",
       "  'TDD',\n",
       "  'TMF',\n",
       "  'NCT',\n",
       "  'CIS',\n",
       "  'THA',\n",
       "  'YAX',\n",
       "  'BAX',\n",
       "  'MCA',\n",
       "  'GRU',\n",
       "  'LWK',\n",
       "  'ULT',\n",
       "  'HCC',\n",
       "  'NYD',\n",
       "  'PHI',\n",
       "  'ZAB',\n",
       "  'NWO',\n",
       "  'TKT',\n",
       "  'YFC',\n",
       "  'TRO',\n",
       "  'WFJ',\n",
       "  'GRI',\n",
       "  'ULI',\n",
       "  'EOP',\n",
       "  'GFJ',\n",
       "  'PPT',\n",
       "  'OOS',\n",
       "  'RAT',\n",
       "  'JHI',\n",
       "  'HEO',\n",
       "  'GGR',\n",
       "  'RWJ',\n",
       "  'WXN',\n",
       "  'LWE',\n",
       "  'SBY',\n",
       "  'SKI',\n",
       "  'SHC',\n",
       "  'EEY',\n",
       "  'DIG',\n",
       "  'HQU',\n",
       "  'FIR',\n",
       "  'DZF',\n",
       "  'LUG',\n",
       "  'SRI',\n",
       "  'USX',\n",
       "  'ERO',\n",
       "  'LHB',\n",
       "  'NYP'],\n",
       " 'leaves': [50,\n",
       "  80,\n",
       "  83,\n",
       "  53,\n",
       "  7,\n",
       "  70,\n",
       "  52,\n",
       "  88,\n",
       "  78,\n",
       "  19,\n",
       "  41,\n",
       "  12,\n",
       "  81,\n",
       "  38,\n",
       "  36,\n",
       "  0,\n",
       "  14,\n",
       "  62,\n",
       "  63,\n",
       "  29,\n",
       "  25,\n",
       "  72,\n",
       "  86,\n",
       "  39,\n",
       "  21,\n",
       "  85,\n",
       "  69,\n",
       "  66,\n",
       "  30,\n",
       "  87,\n",
       "  77,\n",
       "  28,\n",
       "  43,\n",
       "  79,\n",
       "  73,\n",
       "  75,\n",
       "  27,\n",
       "  48,\n",
       "  32,\n",
       "  24,\n",
       "  49,\n",
       "  84,\n",
       "  56,\n",
       "  61,\n",
       "  20,\n",
       "  16,\n",
       "  33,\n",
       "  9,\n",
       "  8,\n",
       "  1,\n",
       "  13,\n",
       "  58,\n",
       "  2,\n",
       "  46,\n",
       "  37,\n",
       "  60,\n",
       "  40,\n",
       "  11,\n",
       "  47,\n",
       "  55,\n",
       "  92,\n",
       "  18,\n",
       "  45,\n",
       "  59,\n",
       "  64,\n",
       "  15,\n",
       "  34,\n",
       "  26,\n",
       "  42,\n",
       "  74,\n",
       "  4,\n",
       "  35,\n",
       "  3,\n",
       "  89,\n",
       "  22,\n",
       "  10,\n",
       "  65,\n",
       "  93,\n",
       "  51,\n",
       "  23,\n",
       "  68,\n",
       "  76,\n",
       "  57,\n",
       "  82,\n",
       "  90,\n",
       "  71,\n",
       "  5,\n",
       "  44,\n",
       "  31,\n",
       "  91,\n",
       "  6,\n",
       "  17,\n",
       "  54,\n",
       "  67],\n",
       " 'color_list': ['C0',\n",
       "  'C0',\n",
       "  'C0',\n",
       "  'C1',\n",
       "  'C0',\n",
       "  'C0',\n",
       "  'C0',\n",
       "  'C0',\n",
       "  'C0',\n",
       "  'C2',\n",
       "  'C3',\n",
       "  'C0',\n",
       "  'C0',\n",
       "  'C4',\n",
       "  'C0',\n",
       "  'C0',\n",
       "  'C0',\n",
       "  'C0',\n",
       "  'C5',\n",
       "  'C6',\n",
       "  'C0',\n",
       "  'C0',\n",
       "  'C0',\n",
       "  'C0',\n",
       "  'C0',\n",
       "  'C0',\n",
       "  'C7',\n",
       "  'C0',\n",
       "  'C0',\n",
       "  'C0',\n",
       "  'C0',\n",
       "  'C8',\n",
       "  'C8',\n",
       "  'C8',\n",
       "  'C8',\n",
       "  'C8',\n",
       "  'C8',\n",
       "  'C9',\n",
       "  'C9',\n",
       "  'C0',\n",
       "  'C0',\n",
       "  'C0',\n",
       "  'C0',\n",
       "  'C0',\n",
       "  'C0',\n",
       "  'C0',\n",
       "  'C0',\n",
       "  'C0',\n",
       "  'C0',\n",
       "  'C0',\n",
       "  'C0',\n",
       "  'C0',\n",
       "  'C0',\n",
       "  'C1',\n",
       "  'C1',\n",
       "  'C0',\n",
       "  'C0',\n",
       "  'C0',\n",
       "  'C0',\n",
       "  'C0',\n",
       "  'C0',\n",
       "  'C0',\n",
       "  'C0',\n",
       "  'C0',\n",
       "  'C0',\n",
       "  'C0',\n",
       "  'C0',\n",
       "  'C0',\n",
       "  'C0',\n",
       "  'C0',\n",
       "  'C0',\n",
       "  'C0',\n",
       "  'C0',\n",
       "  'C0',\n",
       "  'C0',\n",
       "  'C0',\n",
       "  'C0',\n",
       "  'C0',\n",
       "  'C0',\n",
       "  'C0',\n",
       "  'C0',\n",
       "  'C0',\n",
       "  'C0',\n",
       "  'C0',\n",
       "  'C0',\n",
       "  'C0',\n",
       "  'C0',\n",
       "  'C0',\n",
       "  'C0',\n",
       "  'C0',\n",
       "  'C0',\n",
       "  'C0',\n",
       "  'C0'],\n",
       " 'leaves_color_list': ['C0',\n",
       "  'C0',\n",
       "  'C0',\n",
       "  'C0',\n",
       "  'C0',\n",
       "  'C0',\n",
       "  'C0',\n",
       "  'C0',\n",
       "  'C0',\n",
       "  'C0',\n",
       "  'C0',\n",
       "  'C0',\n",
       "  'C0',\n",
       "  'C0',\n",
       "  'C0',\n",
       "  'C0',\n",
       "  'C0',\n",
       "  'C0',\n",
       "  'C0',\n",
       "  'C0',\n",
       "  'C1',\n",
       "  'C1',\n",
       "  'C0',\n",
       "  'C0',\n",
       "  'C0',\n",
       "  'C0',\n",
       "  'C0',\n",
       "  'C0',\n",
       "  'C0',\n",
       "  'C0',\n",
       "  'C0',\n",
       "  'C0',\n",
       "  'C0',\n",
       "  'C0',\n",
       "  'C0',\n",
       "  'C0',\n",
       "  'C0',\n",
       "  'C0',\n",
       "  'C0',\n",
       "  'C0',\n",
       "  'C0',\n",
       "  'C0',\n",
       "  'C2',\n",
       "  'C2',\n",
       "  'C0',\n",
       "  'C3',\n",
       "  'C3',\n",
       "  'C0',\n",
       "  'C0',\n",
       "  'C0',\n",
       "  'C0',\n",
       "  'C0',\n",
       "  'C4',\n",
       "  'C4',\n",
       "  'C0',\n",
       "  'C0',\n",
       "  'C0',\n",
       "  'C0',\n",
       "  'C0',\n",
       "  'C0',\n",
       "  'C0',\n",
       "  'C0',\n",
       "  'C5',\n",
       "  'C5',\n",
       "  'C0',\n",
       "  'C6',\n",
       "  'C6',\n",
       "  'C0',\n",
       "  'C0',\n",
       "  'C0',\n",
       "  'C7',\n",
       "  'C7',\n",
       "  'C0',\n",
       "  'C0',\n",
       "  'C0',\n",
       "  'C0',\n",
       "  'C0',\n",
       "  'C0',\n",
       "  'C8',\n",
       "  'C8',\n",
       "  'C8',\n",
       "  'C8',\n",
       "  'C8',\n",
       "  'C8',\n",
       "  'C8',\n",
       "  'C9',\n",
       "  'C9',\n",
       "  'C9',\n",
       "  'C0',\n",
       "  'C1',\n",
       "  'C1',\n",
       "  'C1',\n",
       "  'C0',\n",
       "  'C0']}"
      ]
     },
     "execution_count": 37,
     "metadata": {},
     "output_type": "execute_result"
    },
    {
     "data": {
      "image/png": "[encoded data removed]",
      "text/plain": [
       "<Figure size 1080x864 with 1 Axes>"
      ]
     },
     "metadata": {
      "needs_background": "light"
     },
     "output_type": "display_data"
    }
   ],
   "source": [
    "hrp.plot_clusters(assets=df_daily.columns)"
   ]
  },
  {
   "cell_type": "code",
   "execution_count": 102,
   "id": "overall-quilt",
   "metadata": {},
   "outputs": [
    {
     "data": {
      "text/html": [
       "<div>\n",
       "<style scoped>\n",
       "    .dataframe tbody tr th:only-of-type {\n",
       "        vertical-align: middle;\n",
       "    }\n",
       "\n",
       "    .dataframe tbody tr th {\n",
       "        vertical-align: top;\n",
       "    }\n",
       "\n",
       "    .dataframe thead th {\n",
       "        text-align: right;\n",
       "    }\n",
       "</style>\n",
       "<table border=\"1\" class=\"dataframe\">\n",
       "  <thead>\n",
       "    <tr style=\"text-align: right;\">\n",
       "      <th></th>\n",
       "      <th>XRX</th>\n",
       "      <th>ERQ</th>\n",
       "      <th>BSX</th>\n",
       "      <th>CSB</th>\n",
       "      <th>TXR</th>\n",
       "      <th>NCT</th>\n",
       "      <th>IDT</th>\n",
       "      <th>PHI</th>\n",
       "      <th>NYD</th>\n",
       "      <th>PME</th>\n",
       "      <th>...</th>\n",
       "      <th>USX</th>\n",
       "      <th>GFJ</th>\n",
       "      <th>LWE</th>\n",
       "      <th>EEY</th>\n",
       "      <th>GGR</th>\n",
       "      <th>WXN</th>\n",
       "      <th>OOS</th>\n",
       "      <th>DIG</th>\n",
       "      <th>SBY</th>\n",
       "      <th>SKI</th>\n",
       "    </tr>\n",
       "  </thead>\n",
       "  <tbody>\n",
       "    <tr>\n",
       "      <th>0</th>\n",
       "      <td>0.200567</td>\n",
       "      <td>0.048611</td>\n",
       "      <td>0.047382</td>\n",
       "      <td>0.044467</td>\n",
       "      <td>0.04356</td>\n",
       "      <td>0.035558</td>\n",
       "      <td>0.02614</td>\n",
       "      <td>0.019574</td>\n",
       "      <td>0.019015</td>\n",
       "      <td>0.018986</td>\n",
       "      <td>...</td>\n",
       "      <td>0.001569</td>\n",
       "      <td>0.001559</td>\n",
       "      <td>0.001545</td>\n",
       "      <td>0.00142</td>\n",
       "      <td>0.001398</td>\n",
       "      <td>0.001315</td>\n",
       "      <td>0.00124</td>\n",
       "      <td>0.001122</td>\n",
       "      <td>0.000571</td>\n",
       "      <td>0.000554</td>\n",
       "    </tr>\n",
       "  </tbody>\n",
       "</table>\n",
       "<p>1 rows × 94 columns</p>\n",
       "</div>"
      ],
      "text/plain": [
       "        XRX       ERQ       BSX       CSB      TXR       NCT      IDT  \\\n",
       "0  0.200567  0.048611  0.047382  0.044467  0.04356  0.035558  0.02614   \n",
       "\n",
       "        PHI       NYD       PME  ...       USX       GFJ       LWE      EEY  \\\n",
       "0  0.019574  0.019015  0.018986  ...  0.001569  0.001559  0.001545  0.00142   \n",
       "\n",
       "        GGR       WXN      OOS       DIG       SBY       SKI  \n",
       "0  0.001398  0.001315  0.00124  0.001122  0.000571  0.000554  \n",
       "\n",
       "[1 rows x 94 columns]"
      ]
     },
     "execution_count": 102,
     "metadata": {},
     "output_type": "execute_result"
    }
   ],
   "source": [
    "hrp_weights"
   ]
  },
  {
   "cell_type": "code",
   "execution_count": 28,
   "id": "extra-jersey",
   "metadata": {},
   "outputs": [],
   "source": [
    "risk_estimators = RiskEstimators()"
   ]
  },
  {
   "cell_type": "code",
   "execution_count": 29,
   "id": "waiting-fundamental",
   "metadata": {},
   "outputs": [],
   "source": [
    "cov = risk_estimators.exponential_covariance(df_daily, price_data=True)"
   ]
  },
  {
   "cell_type": "code",
   "execution_count": 30,
   "id": "sound-butter",
   "metadata": {},
   "outputs": [],
   "source": [
    "return_estimator = ReturnsEstimators()"
   ]
  },
  {
   "cell_type": "code",
   "execution_count": 31,
   "id": "demographic-layer",
   "metadata": {},
   "outputs": [],
   "source": [
    "returns = return_estimator.calculate_exponential_historical_returns(df_daily)"
   ]
  },
  {
   "cell_type": "code",
   "execution_count": 32,
   "id": "phantom-counter",
   "metadata": {},
   "outputs": [],
   "source": [
    "nco = NestedClusteredOptimisation()"
   ]
  },
  {
   "cell_type": "code",
   "execution_count": 95,
   "id": "increased-click",
   "metadata": {},
   "outputs": [
    {
     "data": {
      "text/plain": [
       "ZVQ    0.025839\n",
       "NCT    0.034006\n",
       "YAX    0.142309\n",
       "OOS    0.203846\n",
       "GFJ    0.124964\n",
       "         ...   \n",
       "RAT    0.033257\n",
       "DIG    0.179604\n",
       "SRI    0.233964\n",
       "PHI    0.171153\n",
       "RWJ    0.050441\n",
       "Name: 2020-06-17 00:00:00, Length: 94, dtype: float64"
      ]
     },
     "execution_count": 95,
     "metadata": {},
     "output_type": "execute_result"
    }
   ],
   "source": [
    "returns"
   ]
  },
  {
   "cell_type": "code",
   "execution_count": 100,
   "id": "vanilla-chapter",
   "metadata": {},
   "outputs": [],
   "source": [
    "assets_cov = df_daily.cov()\n",
    "\n",
    "# Calculate empirical means of assets\n",
    "assets_mean = df_daily.mean()"
   ]
  },
  {
   "cell_type": "code",
   "execution_count": 105,
   "id": "grateful-spread",
   "metadata": {},
   "outputs": [],
   "source": [
    "stock_returns = return_estimator.calculate_returns(df_daily)"
   ]
  },
  {
   "cell_type": "code",
   "execution_count": 106,
   "id": "governmental-scholarship",
   "metadata": {},
   "outputs": [],
   "source": [
    "cov_matrix = stock_returns.cov()"
   ]
  },
  {
   "cell_type": "code",
   "execution_count": 109,
   "id": "complete-roads",
   "metadata": {},
   "outputs": [],
   "source": [
    "exponential_cov = risk_estimators.exponential_covariance(df_daily, price_data=True,\n",
    "                                                         window_span=60)"
   ]
  },
  {
   "cell_type": "code",
   "execution_count": 1,
   "id": "under-mistake",
   "metadata": {},
   "outputs": [
    {
     "ename": "NameError",
     "evalue": "name 'return_estimator' is not defined",
     "output_type": "error",
     "traceback": [
      "\u001b[0;31m---------------------------------------------------------------------------\u001b[0m",
      "\u001b[0;31mNameError\u001b[0m                                 Traceback (most recent call last)",
      "\u001b[0;32m<ipython-input-1-32ba1f0cdc77>\u001b[0m in \u001b[0;36m<module>\u001b[0;34m\u001b[0m\n\u001b[0;32m----> 1\u001b[0;31m \u001b[0mreturns\u001b[0m \u001b[0;34m=\u001b[0m \u001b[0mreturn_estimator\u001b[0m\u001b[0;34m.\u001b[0m\u001b[0mcalculate_exponential_historical_returns\u001b[0m\u001b[0;34m(\u001b[0m\u001b[0mdf_daily\u001b[0m\u001b[0;34m)\u001b[0m\u001b[0;34m\u001b[0m\u001b[0;34m\u001b[0m\u001b[0m\n\u001b[0m",
      "\u001b[0;31mNameError\u001b[0m: name 'return_estimator' is not defined"
     ]
    }
   ],
   "source": [
    "returns = return_estimator.calculate_exponential_historical_returns(df_daily)"
   ]
  },
  {
   "cell_type": "code",
   "execution_count": null,
   "id": "opened-weather",
   "metadata": {},
   "outputs": [],
   "source": []
  },
  {
   "cell_type": "code",
   "execution_count": 44,
   "id": "underlying-swimming",
   "metadata": {},
   "outputs": [],
   "source": [
    "# Find optimal weights using the NCO algorithm\n",
    "w_nco = nco.allocate_nco(cov, returns.values.reshape(-1, 1))"
   ]
  },
  {
   "cell_type": "code",
   "execution_count": 45,
   "id": "peaceful-logic",
   "metadata": {},
   "outputs": [],
   "source": [
    "we = w_nco.iloc[0,:].values"
   ]
  },
  {
   "cell_type": "code",
   "execution_count": 46,
   "id": "excellent-orbit",
   "metadata": {},
   "outputs": [],
   "source": [
    "#w_nco = np.clip(w_nco, 0, 1)\n",
    "#w_nco = w_nco / w_nco.sum()"
   ]
  },
  {
   "cell_type": "code",
   "execution_count": 49,
   "id": "western-captain",
   "metadata": {},
   "outputs": [],
   "source": [
    "we = np.clip(we, 0, np.inf)"
   ]
  },
  {
   "cell_type": "code",
   "execution_count": 52,
   "id": "atlantic-steam",
   "metadata": {},
   "outputs": [],
   "source": [
    "we /= we.sum()"
   ]
  },
  {
   "cell_type": "code",
   "execution_count": 54,
   "id": "white-computer",
   "metadata": {},
   "outputs": [
    {
     "data": {
      "text/plain": [
       "1.0"
      ]
     },
     "execution_count": 54,
     "metadata": {},
     "output_type": "execute_result"
    }
   ],
   "source": [
    "we.sum()"
   ]
  },
  {
   "cell_type": "code",
   "execution_count": null,
   "id": "damaged-prime",
   "metadata": {},
   "outputs": [],
   "source": []
  },
  {
   "cell_type": "code",
   "execution_count": 274,
   "id": "grateful-prompt",
   "metadata": {},
   "outputs": [
    {
     "data": {
      "text/plain": [
       "1.0"
      ]
     },
     "execution_count": 274,
     "metadata": {},
     "output_type": "execute_result"
    }
   ],
   "source": [
    "sum(weights)"
   ]
  },
  {
   "cell_type": "code",
   "execution_count": 275,
   "id": "played-decimal",
   "metadata": {},
   "outputs": [
    {
     "data": {
      "text/plain": [
       "1.0"
      ]
     },
     "execution_count": 275,
     "metadata": {},
     "output_type": "execute_result"
    }
   ],
   "source": [
    "weights.sum()"
   ]
  },
  {
   "cell_type": "code",
   "execution_count": 590,
   "id": "effective-pennsylvania",
   "metadata": {},
   "outputs": [],
   "source": [
    "weights = hrp_weights.iloc[:, :].values[0]"
   ]
  },
  {
   "cell_type": "code",
   "execution_count": 591,
   "id": "representative-sydney",
   "metadata": {},
   "outputs": [],
   "source": [
    "weights = np.clip(weights, 0, 1)"
   ]
  },
  {
   "cell_type": "code",
   "execution_count": 592,
   "id": "documented-generator",
   "metadata": {},
   "outputs": [],
   "source": [
    "weights = general_weights_fixer(weights)"
   ]
  },
  {
   "cell_type": "code",
   "execution_count": 593,
   "id": "forbidden-interview",
   "metadata": {},
   "outputs": [],
   "source": [
    "weights = weights / sum(weights)"
   ]
  },
  {
   "cell_type": "code",
   "execution_count": 544,
   "id": "printable-ecology",
   "metadata": {},
   "outputs": [],
   "source": [
    "weights = np.around(np.array(weights), 2)"
   ]
  },
  {
   "cell_type": "code",
   "execution_count": 557,
   "id": "threaded-novelty",
   "metadata": {},
   "outputs": [],
   "source": [
    "weights = weights / weights.sum()"
   ]
  },
  {
   "cell_type": "code",
   "execution_count": 558,
   "id": "complimentary-capture",
   "metadata": {},
   "outputs": [],
   "source": [
    "weights = general_weights_fixer(weights)"
   ]
  },
  {
   "cell_type": "code",
   "execution_count": 559,
   "id": "covered-newton",
   "metadata": {},
   "outputs": [],
   "source": [
    "weights = np.array(weights)"
   ]
  },
  {
   "cell_type": "code",
   "execution_count": 594,
   "id": "solid-olympus",
   "metadata": {},
   "outputs": [
    {
     "data": {
      "text/plain": [
       "1.0"
      ]
     },
     "execution_count": 594,
     "metadata": {},
     "output_type": "execute_result"
    }
   ],
   "source": [
    "sum(weights)"
   ]
  },
  {
   "cell_type": "code",
   "execution_count": 595,
   "id": "appointed-supervisor",
   "metadata": {},
   "outputs": [
    {
     "data": {
      "text/plain": [
       "array([0.2002, 0.0486, 0.0474, 0.0445, 0.0436, 0.0356, 0.0261, 0.0196,\n",
       "       0.019 , 0.019 , 0.0167, 0.0164, 0.0159, 0.0149, 0.0145, 0.0144,\n",
       "       0.0132, 0.0117, 0.0117, 0.0115, 0.0111, 0.011 , 0.0108, 0.0105,\n",
       "       0.0099, 0.0096, 0.0096, 0.0095, 0.0094, 0.0093, 0.0091, 0.0089,\n",
       "       0.0089, 0.0087, 0.0083, 0.0071, 0.007 , 0.007 , 0.0068, 0.0067,\n",
       "       0.0066, 0.0064, 0.0063, 0.0061, 0.0061, 0.0059, 0.0059, 0.0058,\n",
       "       0.0052, 0.0051, 0.005 , 0.0047, 0.0047, 0.0045, 0.0045, 0.0045,\n",
       "       0.0043, 0.0042, 0.0042, 0.0041, 0.0033, 0.0032, 0.0032, 0.0032,\n",
       "       0.003 , 0.003 , 0.0029, 0.0028, 0.0025, 0.0025, 0.0025, 0.0025,\n",
       "       0.0024, 0.0023, 0.0023, 0.0022, 0.0022, 0.0022, 0.0022, 0.0021,\n",
       "       0.002 , 0.0019, 0.0018, 0.0017, 0.0016, 0.0016, 0.0015, 0.0014,\n",
       "       0.0014, 0.0013, 0.0012, 0.0011, 0.0006, 0.0006])"
      ]
     },
     "execution_count": 595,
     "metadata": {},
     "output_type": "execute_result"
    }
   ],
   "source": [
    "weights"
   ]
  },
  {
   "cell_type": "code",
   "execution_count": 403,
   "id": "differential-standing",
   "metadata": {},
   "outputs": [],
   "source": [
    "weights[0] += 9.992007221626409e-16\n"
   ]
  },
  {
   "cell_type": "code",
   "execution_count": 354,
   "id": "happy-cameroon",
   "metadata": {},
   "outputs": [],
   "source": [
    "weights[-1] = 0\n",
    "weights[-2] = 0"
   ]
  },
  {
   "cell_type": "code",
   "execution_count": null,
   "id": "significant-identifier",
   "metadata": {},
   "outputs": [],
   "source": []
  },
  {
   "cell_type": "code",
   "execution_count": 58,
   "id": "promising-yacht",
   "metadata": {},
   "outputs": [],
   "source": [
    "# herc.allocate(asset_prices=df_daily.loc[df_daily.index >= \"2020-05-01\"], asset_names=df_daily.columns, risk_measure='equal_weighting')"
   ]
  },
  {
   "cell_type": "code",
   "execution_count": 63,
   "id": "floating-laser",
   "metadata": {},
   "outputs": [],
   "source": [
    "weights_dict = {asset: w for asset, w in zip(w_nco.columns, we)}"
   ]
  },
  {
   "cell_type": "code",
   "execution_count": 64,
   "id": "dutch-visiting",
   "metadata": {},
   "outputs": [
    {
     "data": {
      "text/plain": [
       "1.0"
      ]
     },
     "execution_count": 64,
     "metadata": {},
     "output_type": "execute_result"
    }
   ],
   "source": [
    "sum(weights_dict.values())"
   ]
  },
  {
   "cell_type": "code",
   "execution_count": null,
   "id": "driven-disability",
   "metadata": {},
   "outputs": [],
   "source": []
  },
  {
   "cell_type": "code",
   "execution_count": 57,
   "id": "palestinian-transsexual",
   "metadata": {},
   "outputs": [],
   "source": [
    "df_daily = df_daily.loc[:, w_nco.columns]"
   ]
  },
  {
   "cell_type": "code",
   "execution_count": 58,
   "id": "buried-senegal",
   "metadata": {},
   "outputs": [],
   "source": [
    "df_daily = df_daily.pct_change()"
   ]
  },
  {
   "cell_type": "code",
   "execution_count": 59,
   "id": "accurate-raleigh",
   "metadata": {},
   "outputs": [],
   "source": [
    "df_daily_after = df_daily.loc[df_daily.index >= \"2020-05-01\"]"
   ]
  },
  {
   "cell_type": "code",
   "execution_count": 103,
   "id": "sporting-hunger",
   "metadata": {},
   "outputs": [
    {
     "name": "stderr",
     "output_type": "stream",
     "text": [
      "48it [00:00, 6103.77it/s]\n"
     ]
    }
   ],
   "source": [
    "from tqdm import tqdm\n",
    "import numpy as np\n",
    "perc_returns = []\n",
    "\n",
    "for _, row in tqdm(df_daily_after.iterrows()):\n",
    "    perc_returns.append(\n",
    "        np.dot( hrp_weights.iloc[:, :].values[0], row.values)\n",
    "    )"
   ]
  },
  {
   "cell_type": "code",
   "execution_count": 80,
   "id": "scenic-protest",
   "metadata": {},
   "outputs": [
    {
     "data": {
      "text/html": [
       "<div>\n",
       "<style scoped>\n",
       "    .dataframe tbody tr th:only-of-type {\n",
       "        vertical-align: middle;\n",
       "    }\n",
       "\n",
       "    .dataframe tbody tr th {\n",
       "        vertical-align: top;\n",
       "    }\n",
       "\n",
       "    .dataframe thead th {\n",
       "        text-align: right;\n",
       "    }\n",
       "</style>\n",
       "<table border=\"1\" class=\"dataframe\">\n",
       "  <thead>\n",
       "    <tr style=\"text-align: right;\">\n",
       "      <th></th>\n",
       "      <th>XRX</th>\n",
       "      <th>ERQ</th>\n",
       "      <th>BSX</th>\n",
       "      <th>CSB</th>\n",
       "      <th>TXR</th>\n",
       "      <th>NCT</th>\n",
       "      <th>IDT</th>\n",
       "      <th>PHI</th>\n",
       "      <th>NYD</th>\n",
       "      <th>PME</th>\n",
       "      <th>...</th>\n",
       "      <th>USX</th>\n",
       "      <th>GFJ</th>\n",
       "      <th>LWE</th>\n",
       "      <th>EEY</th>\n",
       "      <th>GGR</th>\n",
       "      <th>WXN</th>\n",
       "      <th>OOS</th>\n",
       "      <th>DIG</th>\n",
       "      <th>SBY</th>\n",
       "      <th>SKI</th>\n",
       "    </tr>\n",
       "    <tr>\n",
       "      <th>Date</th>\n",
       "      <th></th>\n",
       "      <th></th>\n",
       "      <th></th>\n",
       "      <th></th>\n",
       "      <th></th>\n",
       "      <th></th>\n",
       "      <th></th>\n",
       "      <th></th>\n",
       "      <th></th>\n",
       "      <th></th>\n",
       "      <th></th>\n",
       "      <th></th>\n",
       "      <th></th>\n",
       "      <th></th>\n",
       "      <th></th>\n",
       "      <th></th>\n",
       "      <th></th>\n",
       "      <th></th>\n",
       "      <th></th>\n",
       "      <th></th>\n",
       "      <th></th>\n",
       "    </tr>\n",
       "  </thead>\n",
       "  <tbody>\n",
       "    <tr>\n",
       "      <th>2020-05-01</th>\n",
       "      <td>-1.110223e-16</td>\n",
       "      <td>0.000000e+00</td>\n",
       "      <td>-1.110223e-16</td>\n",
       "      <td>0.000000</td>\n",
       "      <td>0.000000e+00</td>\n",
       "      <td>0.0</td>\n",
       "      <td>1.222366e-02</td>\n",
       "      <td>0.000477</td>\n",
       "      <td>0.000000e+00</td>\n",
       "      <td>0.000000e+00</td>\n",
       "      <td>...</td>\n",
       "      <td>-0.002401</td>\n",
       "      <td>0.010031</td>\n",
       "      <td>-0.005553</td>\n",
       "      <td>-0.004148</td>\n",
       "      <td>-0.007804</td>\n",
       "      <td>-0.004759</td>\n",
       "      <td>0.000782</td>\n",
       "      <td>-0.004029</td>\n",
       "      <td>0.002217</td>\n",
       "      <td>-0.002165</td>\n",
       "    </tr>\n",
       "    <tr>\n",
       "      <th>2020-05-02</th>\n",
       "      <td>0.000000e+00</td>\n",
       "      <td>0.000000e+00</td>\n",
       "      <td>0.000000e+00</td>\n",
       "      <td>0.000000</td>\n",
       "      <td>0.000000e+00</td>\n",
       "      <td>0.0</td>\n",
       "      <td>0.000000e+00</td>\n",
       "      <td>0.000000</td>\n",
       "      <td>0.000000e+00</td>\n",
       "      <td>0.000000e+00</td>\n",
       "      <td>...</td>\n",
       "      <td>0.000000</td>\n",
       "      <td>0.000000</td>\n",
       "      <td>0.000000</td>\n",
       "      <td>0.000000</td>\n",
       "      <td>0.000000</td>\n",
       "      <td>0.000000</td>\n",
       "      <td>0.000000</td>\n",
       "      <td>0.000000</td>\n",
       "      <td>0.000000</td>\n",
       "      <td>0.000000</td>\n",
       "    </tr>\n",
       "    <tr>\n",
       "      <th>2020-05-03</th>\n",
       "      <td>-1.110223e-16</td>\n",
       "      <td>2.904027e-04</td>\n",
       "      <td>-2.220446e-16</td>\n",
       "      <td>0.000584</td>\n",
       "      <td>4.440892e-16</td>\n",
       "      <td>0.0</td>\n",
       "      <td>4.440892e-16</td>\n",
       "      <td>0.007792</td>\n",
       "      <td>-3.330669e-16</td>\n",
       "      <td>-1.110223e-16</td>\n",
       "      <td>...</td>\n",
       "      <td>-0.001174</td>\n",
       "      <td>0.010720</td>\n",
       "      <td>0.003499</td>\n",
       "      <td>0.003434</td>\n",
       "      <td>-0.003814</td>\n",
       "      <td>0.006312</td>\n",
       "      <td>0.001273</td>\n",
       "      <td>0.002690</td>\n",
       "      <td>0.004671</td>\n",
       "      <td>0.007220</td>\n",
       "    </tr>\n",
       "    <tr>\n",
       "      <th>2020-05-04</th>\n",
       "      <td>2.220446e-16</td>\n",
       "      <td>2.220446e-16</td>\n",
       "      <td>4.440892e-16</td>\n",
       "      <td>-0.000862</td>\n",
       "      <td>-5.551115e-16</td>\n",
       "      <td>0.0</td>\n",
       "      <td>-5.551115e-16</td>\n",
       "      <td>0.003710</td>\n",
       "      <td>4.440892e-16</td>\n",
       "      <td>2.220446e-16</td>\n",
       "      <td>...</td>\n",
       "      <td>0.000847</td>\n",
       "      <td>-0.003345</td>\n",
       "      <td>0.000987</td>\n",
       "      <td>0.001572</td>\n",
       "      <td>-0.000796</td>\n",
       "      <td>0.001171</td>\n",
       "      <td>-0.001132</td>\n",
       "      <td>0.001309</td>\n",
       "      <td>0.000021</td>\n",
       "      <td>0.002041</td>\n",
       "    </tr>\n",
       "    <tr>\n",
       "      <th>2020-05-05</th>\n",
       "      <td>0.000000e+00</td>\n",
       "      <td>0.000000e+00</td>\n",
       "      <td>0.000000e+00</td>\n",
       "      <td>0.015394</td>\n",
       "      <td>0.000000e+00</td>\n",
       "      <td>0.0</td>\n",
       "      <td>4.984382e-05</td>\n",
       "      <td>-0.001409</td>\n",
       "      <td>0.000000e+00</td>\n",
       "      <td>0.000000e+00</td>\n",
       "      <td>...</td>\n",
       "      <td>0.005622</td>\n",
       "      <td>-0.015140</td>\n",
       "      <td>-0.001148</td>\n",
       "      <td>-0.000214</td>\n",
       "      <td>0.003777</td>\n",
       "      <td>-0.000070</td>\n",
       "      <td>-0.005576</td>\n",
       "      <td>-0.000479</td>\n",
       "      <td>-0.002978</td>\n",
       "      <td>-0.000974</td>\n",
       "    </tr>\n",
       "  </tbody>\n",
       "</table>\n",
       "<p>5 rows × 94 columns</p>\n",
       "</div>"
      ],
      "text/plain": [
       "                     XRX           ERQ           BSX       CSB           TXR  \\\n",
       "Date                                                                           \n",
       "2020-05-01 -1.110223e-16  0.000000e+00 -1.110223e-16  0.000000  0.000000e+00   \n",
       "2020-05-02  0.000000e+00  0.000000e+00  0.000000e+00  0.000000  0.000000e+00   \n",
       "2020-05-03 -1.110223e-16  2.904027e-04 -2.220446e-16  0.000584  4.440892e-16   \n",
       "2020-05-04  2.220446e-16  2.220446e-16  4.440892e-16 -0.000862 -5.551115e-16   \n",
       "2020-05-05  0.000000e+00  0.000000e+00  0.000000e+00  0.015394  0.000000e+00   \n",
       "\n",
       "            NCT           IDT       PHI           NYD           PME  ...  \\\n",
       "Date                                                                 ...   \n",
       "2020-05-01  0.0  1.222366e-02  0.000477  0.000000e+00  0.000000e+00  ...   \n",
       "2020-05-02  0.0  0.000000e+00  0.000000  0.000000e+00  0.000000e+00  ...   \n",
       "2020-05-03  0.0  4.440892e-16  0.007792 -3.330669e-16 -1.110223e-16  ...   \n",
       "2020-05-04  0.0 -5.551115e-16  0.003710  4.440892e-16  2.220446e-16  ...   \n",
       "2020-05-05  0.0  4.984382e-05 -0.001409  0.000000e+00  0.000000e+00  ...   \n",
       "\n",
       "                 USX       GFJ       LWE       EEY       GGR       WXN  \\\n",
       "Date                                                                     \n",
       "2020-05-01 -0.002401  0.010031 -0.005553 -0.004148 -0.007804 -0.004759   \n",
       "2020-05-02  0.000000  0.000000  0.000000  0.000000  0.000000  0.000000   \n",
       "2020-05-03 -0.001174  0.010720  0.003499  0.003434 -0.003814  0.006312   \n",
       "2020-05-04  0.000847 -0.003345  0.000987  0.001572 -0.000796  0.001171   \n",
       "2020-05-05  0.005622 -0.015140 -0.001148 -0.000214  0.003777 -0.000070   \n",
       "\n",
       "                 OOS       DIG       SBY       SKI  \n",
       "Date                                                \n",
       "2020-05-01  0.000782 -0.004029  0.002217 -0.002165  \n",
       "2020-05-02  0.000000  0.000000  0.000000  0.000000  \n",
       "2020-05-03  0.001273  0.002690  0.004671  0.007220  \n",
       "2020-05-04 -0.001132  0.001309  0.000021  0.002041  \n",
       "2020-05-05 -0.005576 -0.000479 -0.002978 -0.000974  \n",
       "\n",
       "[5 rows x 94 columns]"
      ]
     },
     "execution_count": 80,
     "metadata": {},
     "output_type": "execute_result"
    }
   ],
   "source": [
    "df_daily_after.head()"
   ]
  },
  {
   "cell_type": "code",
   "execution_count": 104,
   "id": "abandoned-system",
   "metadata": {
    "scrolled": true
   },
   "outputs": [
    {
     "data": {
      "text/plain": [
       "0.0010923161462554453"
      ]
     },
     "execution_count": 104,
     "metadata": {},
     "output_type": "execute_result"
    }
   ],
   "source": [
    "np.std(perc_returns)"
   ]
  },
  {
   "cell_type": "code",
   "execution_count": 105,
   "id": "irish-number",
   "metadata": {},
   "outputs": [
    {
     "data": {
      "text/plain": [
       "0.00037386377092969524"
      ]
     },
     "execution_count": 105,
     "metadata": {},
     "output_type": "execute_result"
    }
   ],
   "source": [
    "np.mean(perc_returns)"
   ]
  },
  {
   "cell_type": "code",
   "execution_count": 61,
   "id": "ruled-smoke",
   "metadata": {},
   "outputs": [
    {
     "data": {
      "text/plain": [
       "0.9714071134547694"
      ]
     },
     "execution_count": 61,
     "metadata": {},
     "output_type": "execute_result"
    }
   ],
   "source": [
    "(np.mean(perc_returns) / np.std(perc_returns))**(2/12)"
   ]
  },
  {
   "cell_type": "code",
   "execution_count": 166,
   "id": "lightweight-houston",
   "metadata": {},
   "outputs": [
    {
     "data": {
      "text/plain": [
       "0.863063612455785"
      ]
     },
     "execution_count": 166,
     "metadata": {},
     "output_type": "execute_result"
    }
   ],
   "source": [
    "(np.mean(perc_returns) / np.std(perc_returns))**(2/12)"
   ]
  },
  {
   "cell_type": "code",
   "execution_count": 108,
   "id": "technological-ottawa",
   "metadata": {},
   "outputs": [],
   "source": [
    "submissionguay = pd.read_csv(\"submission_2503_2.csv\", parse_dates=True, index_col=\"eod_ts\")"
   ]
  },
  {
   "cell_type": "code",
   "execution_count": 109,
   "id": "renewable-median",
   "metadata": {},
   "outputs": [],
   "source": [
    "test_submission(submissionguay)"
   ]
  },
  {
   "cell_type": "code",
   "execution_count": 76,
   "id": "hungry-brick",
   "metadata": {},
   "outputs": [],
   "source": [
    "submissionguay.columns = [col.replace(\"allo_\", \"\") for col in submissionguay.columns]"
   ]
  },
  {
   "cell_type": "code",
   "execution_count": 77,
   "id": "quality-bunch",
   "metadata": {},
   "outputs": [],
   "source": [
    "submissionguay = submissionguay.loc[:, df_daily_after.columns]"
   ]
  },
  {
   "cell_type": "code",
   "execution_count": 79,
   "id": "smaller-closer",
   "metadata": {},
   "outputs": [
    {
     "data": {
      "text/html": [
       "<div>\n",
       "<style scoped>\n",
       "    .dataframe tbody tr th:only-of-type {\n",
       "        vertical-align: middle;\n",
       "    }\n",
       "\n",
       "    .dataframe tbody tr th {\n",
       "        vertical-align: top;\n",
       "    }\n",
       "\n",
       "    .dataframe thead th {\n",
       "        text-align: right;\n",
       "    }\n",
       "</style>\n",
       "<table border=\"1\" class=\"dataframe\">\n",
       "  <thead>\n",
       "    <tr style=\"text-align: right;\">\n",
       "      <th></th>\n",
       "      <th>ZVQ</th>\n",
       "      <th>NCT</th>\n",
       "      <th>YAX</th>\n",
       "      <th>OOS</th>\n",
       "      <th>GFJ</th>\n",
       "      <th>FIR</th>\n",
       "      <th>USX</th>\n",
       "      <th>FSK</th>\n",
       "      <th>TMF</th>\n",
       "      <th>TDD</th>\n",
       "      <th>...</th>\n",
       "      <th>AZG</th>\n",
       "      <th>OJG</th>\n",
       "      <th>WWT</th>\n",
       "      <th>BOT</th>\n",
       "      <th>TXR</th>\n",
       "      <th>RAT</th>\n",
       "      <th>DIG</th>\n",
       "      <th>SRI</th>\n",
       "      <th>PHI</th>\n",
       "      <th>RWJ</th>\n",
       "    </tr>\n",
       "    <tr>\n",
       "      <th>Date</th>\n",
       "      <th></th>\n",
       "      <th></th>\n",
       "      <th></th>\n",
       "      <th></th>\n",
       "      <th></th>\n",
       "      <th></th>\n",
       "      <th></th>\n",
       "      <th></th>\n",
       "      <th></th>\n",
       "      <th></th>\n",
       "      <th></th>\n",
       "      <th></th>\n",
       "      <th></th>\n",
       "      <th></th>\n",
       "      <th></th>\n",
       "      <th></th>\n",
       "      <th></th>\n",
       "      <th></th>\n",
       "      <th></th>\n",
       "      <th></th>\n",
       "      <th></th>\n",
       "    </tr>\n",
       "  </thead>\n",
       "  <tbody>\n",
       "    <tr>\n",
       "      <th>2020-05-01</th>\n",
       "      <td>0.005690</td>\n",
       "      <td>0.0</td>\n",
       "      <td>0.012694</td>\n",
       "      <td>0.000782</td>\n",
       "      <td>0.010031</td>\n",
       "      <td>0.0</td>\n",
       "      <td>-0.002401</td>\n",
       "      <td>0.000000e+00</td>\n",
       "      <td>2.220446e-16</td>\n",
       "      <td>0.005728</td>\n",
       "      <td>...</td>\n",
       "      <td>0.005834</td>\n",
       "      <td>3.812844e-04</td>\n",
       "      <td>0.000000e+00</td>\n",
       "      <td>0.000000</td>\n",
       "      <td>0.000000e+00</td>\n",
       "      <td>2.299006e-03</td>\n",
       "      <td>-0.004029</td>\n",
       "      <td>-0.001652</td>\n",
       "      <td>0.000477</td>\n",
       "      <td>0.0</td>\n",
       "    </tr>\n",
       "    <tr>\n",
       "      <th>2020-05-02</th>\n",
       "      <td>0.000000</td>\n",
       "      <td>0.0</td>\n",
       "      <td>0.000000</td>\n",
       "      <td>0.000000</td>\n",
       "      <td>0.000000</td>\n",
       "      <td>0.0</td>\n",
       "      <td>0.000000</td>\n",
       "      <td>0.000000e+00</td>\n",
       "      <td>0.000000e+00</td>\n",
       "      <td>0.000000</td>\n",
       "      <td>...</td>\n",
       "      <td>0.000000</td>\n",
       "      <td>0.000000e+00</td>\n",
       "      <td>0.000000e+00</td>\n",
       "      <td>0.000000</td>\n",
       "      <td>0.000000e+00</td>\n",
       "      <td>0.000000e+00</td>\n",
       "      <td>0.000000</td>\n",
       "      <td>0.000000</td>\n",
       "      <td>0.000000</td>\n",
       "      <td>0.0</td>\n",
       "    </tr>\n",
       "    <tr>\n",
       "      <th>2020-05-03</th>\n",
       "      <td>0.000496</td>\n",
       "      <td>0.0</td>\n",
       "      <td>0.002856</td>\n",
       "      <td>0.001273</td>\n",
       "      <td>0.010720</td>\n",
       "      <td>0.0</td>\n",
       "      <td>-0.001174</td>\n",
       "      <td>6.661338e-16</td>\n",
       "      <td>-1.110223e-16</td>\n",
       "      <td>-0.001584</td>\n",
       "      <td>...</td>\n",
       "      <td>-0.000187</td>\n",
       "      <td>2.325903e-04</td>\n",
       "      <td>6.661338e-16</td>\n",
       "      <td>0.005864</td>\n",
       "      <td>4.440892e-16</td>\n",
       "      <td>1.877687e-03</td>\n",
       "      <td>0.002690</td>\n",
       "      <td>0.000139</td>\n",
       "      <td>0.007792</td>\n",
       "      <td>0.0</td>\n",
       "    </tr>\n",
       "    <tr>\n",
       "      <th>2020-05-04</th>\n",
       "      <td>0.000050</td>\n",
       "      <td>0.0</td>\n",
       "      <td>0.000000</td>\n",
       "      <td>-0.001132</td>\n",
       "      <td>-0.003345</td>\n",
       "      <td>0.0</td>\n",
       "      <td>0.000847</td>\n",
       "      <td>-5.551115e-16</td>\n",
       "      <td>0.000000e+00</td>\n",
       "      <td>-0.003981</td>\n",
       "      <td>...</td>\n",
       "      <td>-0.000909</td>\n",
       "      <td>-2.220446e-16</td>\n",
       "      <td>-6.661338e-16</td>\n",
       "      <td>-0.001376</td>\n",
       "      <td>-5.551115e-16</td>\n",
       "      <td>-5.551115e-16</td>\n",
       "      <td>0.001309</td>\n",
       "      <td>0.001419</td>\n",
       "      <td>0.003710</td>\n",
       "      <td>0.0</td>\n",
       "    </tr>\n",
       "    <tr>\n",
       "      <th>2020-05-05</th>\n",
       "      <td>-0.003053</td>\n",
       "      <td>0.0</td>\n",
       "      <td>0.000000</td>\n",
       "      <td>-0.005576</td>\n",
       "      <td>-0.015140</td>\n",
       "      <td>0.0</td>\n",
       "      <td>0.005622</td>\n",
       "      <td>0.000000e+00</td>\n",
       "      <td>0.000000e+00</td>\n",
       "      <td>-0.006457</td>\n",
       "      <td>...</td>\n",
       "      <td>0.000610</td>\n",
       "      <td>1.462435e-04</td>\n",
       "      <td>0.000000e+00</td>\n",
       "      <td>-0.008279</td>\n",
       "      <td>0.000000e+00</td>\n",
       "      <td>4.929908e-04</td>\n",
       "      <td>-0.000479</td>\n",
       "      <td>0.005453</td>\n",
       "      <td>-0.001409</td>\n",
       "      <td>0.0</td>\n",
       "    </tr>\n",
       "  </tbody>\n",
       "</table>\n",
       "<p>5 rows × 94 columns</p>\n",
       "</div>"
      ],
      "text/plain": [
       "                 ZVQ  NCT       YAX       OOS       GFJ  FIR       USX  \\\n",
       "Date                                                                     \n",
       "2020-05-01  0.005690  0.0  0.012694  0.000782  0.010031  0.0 -0.002401   \n",
       "2020-05-02  0.000000  0.0  0.000000  0.000000  0.000000  0.0  0.000000   \n",
       "2020-05-03  0.000496  0.0  0.002856  0.001273  0.010720  0.0 -0.001174   \n",
       "2020-05-04  0.000050  0.0  0.000000 -0.001132 -0.003345  0.0  0.000847   \n",
       "2020-05-05 -0.003053  0.0  0.000000 -0.005576 -0.015140  0.0  0.005622   \n",
       "\n",
       "                     FSK           TMF       TDD  ...       AZG           OJG  \\\n",
       "Date                                              ...                           \n",
       "2020-05-01  0.000000e+00  2.220446e-16  0.005728  ...  0.005834  3.812844e-04   \n",
       "2020-05-02  0.000000e+00  0.000000e+00  0.000000  ...  0.000000  0.000000e+00   \n",
       "2020-05-03  6.661338e-16 -1.110223e-16 -0.001584  ... -0.000187  2.325903e-04   \n",
       "2020-05-04 -5.551115e-16  0.000000e+00 -0.003981  ... -0.000909 -2.220446e-16   \n",
       "2020-05-05  0.000000e+00  0.000000e+00 -0.006457  ...  0.000610  1.462435e-04   \n",
       "\n",
       "                     WWT       BOT           TXR           RAT       DIG  \\\n",
       "Date                                                                       \n",
       "2020-05-01  0.000000e+00  0.000000  0.000000e+00  2.299006e-03 -0.004029   \n",
       "2020-05-02  0.000000e+00  0.000000  0.000000e+00  0.000000e+00  0.000000   \n",
       "2020-05-03  6.661338e-16  0.005864  4.440892e-16  1.877687e-03  0.002690   \n",
       "2020-05-04 -6.661338e-16 -0.001376 -5.551115e-16 -5.551115e-16  0.001309   \n",
       "2020-05-05  0.000000e+00 -0.008279  0.000000e+00  4.929908e-04 -0.000479   \n",
       "\n",
       "                 SRI       PHI  RWJ  \n",
       "Date                                 \n",
       "2020-05-01 -0.001652  0.000477  0.0  \n",
       "2020-05-02  0.000000  0.000000  0.0  \n",
       "2020-05-03  0.000139  0.007792  0.0  \n",
       "2020-05-04  0.001419  0.003710  0.0  \n",
       "2020-05-05  0.005453 -0.001409  0.0  \n",
       "\n",
       "[5 rows x 94 columns]"
      ]
     },
     "execution_count": 79,
     "metadata": {},
     "output_type": "execute_result"
    }
   ],
   "source": [
    "df_daily_after.head()"
   ]
  },
  {
   "cell_type": "code",
   "execution_count": 80,
   "id": "satellite-guyana",
   "metadata": {},
   "outputs": [
    {
     "name": "stderr",
     "output_type": "stream",
     "text": [
      "48it [00:00, 1967.21it/s]\n"
     ]
    }
   ],
   "source": [
    "perc_returns2 = []\n",
    "\n",
    "for _, row in tqdm(df_daily_after.iterrows()):\n",
    "    perc_returns2.append(\n",
    "        np.dot(submissionguay.iloc[0, :].values, row.values)\n",
    "    )"
   ]
  },
  {
   "cell_type": "code",
   "execution_count": 81,
   "id": "taken-roads",
   "metadata": {},
   "outputs": [
    {
     "data": {
      "text/plain": [
       "0.8570001428789437"
      ]
     },
     "execution_count": 81,
     "metadata": {},
     "output_type": "execute_result"
    }
   ],
   "source": [
    "(np.mean(perc_returns2) / np.std(perc_returns2))**(2/12)"
   ]
  },
  {
   "cell_type": "code",
   "execution_count": 82,
   "id": "rural-hygiene",
   "metadata": {},
   "outputs": [
    {
     "data": {
      "text/plain": [
       "0.0007799789703389651"
      ]
     },
     "execution_count": 82,
     "metadata": {},
     "output_type": "execute_result"
    }
   ],
   "source": [
    "np.std(perc_returns2)"
   ]
  },
  {
   "cell_type": "code",
   "execution_count": 83,
   "id": "wrapped-recipient",
   "metadata": {},
   "outputs": [
    {
     "data": {
      "text/plain": [
       "0.0002013606609934709"
      ]
     },
     "execution_count": 83,
     "metadata": {},
     "output_type": "execute_result"
    }
   ],
   "source": [
    "np.std(perc_returns)"
   ]
  },
  {
   "cell_type": "code",
   "execution_count": 107,
   "id": "bright-anger",
   "metadata": {},
   "outputs": [
    {
     "data": {
      "text/plain": [
       "0.00030900695855182815"
      ]
     },
     "execution_count": 107,
     "metadata": {},
     "output_type": "execute_result"
    }
   ],
   "source": [
    "np.mean(perc_returns2)"
   ]
  },
  {
   "cell_type": "code",
   "execution_count": 65,
   "id": "afraid-truck",
   "metadata": {},
   "outputs": [],
   "source": [
    "submission = get_submission_markowitz(weights_dict, [k for k in weights_dict.keys()])"
   ]
  },
  {
   "cell_type": "code",
   "execution_count": 66,
   "id": "ideal-runner",
   "metadata": {},
   "outputs": [],
   "source": [
    "test_submission(submission)"
   ]
  },
  {
   "cell_type": "code",
   "execution_count": 600,
   "id": "thirty-medicare",
   "metadata": {},
   "outputs": [
    {
     "data": {
      "text/plain": [
       "1.0"
      ]
     },
     "execution_count": 600,
     "metadata": {},
     "output_type": "execute_result"
    }
   ],
   "source": [
    "sum(submission.iloc[0,:].values)"
   ]
  },
  {
   "cell_type": "code",
   "execution_count": 601,
   "id": "checked-richards",
   "metadata": {},
   "outputs": [
    {
     "data": {
      "text/plain": [
       "1.0000000000000004"
      ]
     },
     "execution_count": 601,
     "metadata": {},
     "output_type": "execute_result"
    }
   ],
   "source": [
    "submission.iloc[0,:].values.sum()"
   ]
  },
  {
   "cell_type": "code",
   "execution_count": 429,
   "id": "swiss-premises",
   "metadata": {},
   "outputs": [
    {
     "data": {
      "text/plain": [
       "0.9919999996200204"
      ]
     },
     "execution_count": 429,
     "metadata": {},
     "output_type": "execute_result"
    }
   ],
   "source": [
    "sum(submissionguay.iloc[0,:].values)"
   ]
  },
  {
   "cell_type": "code",
   "execution_count": 430,
   "id": "authentic-transport",
   "metadata": {},
   "outputs": [
    {
     "data": {
      "text/plain": [
       "array([0.2012012 , 0.04904905, 0.04704705, 0.04404404, 0.04404404,\n",
       "       0.03603604, 0.02602603, 0.02002002, 0.01901902, 0.01901902,\n",
       "       0.01701702, 0.01601602, 0.01601602, 0.01501502, 0.01401401,\n",
       "       0.01401401, 0.01301301, 0.01201201, 0.01201201, 0.01201201,\n",
       "       0.01101101, 0.01101101, 0.01101101, 0.01101101, 0.01001001,\n",
       "       0.01001001, 0.01001001, 0.01001001, 0.00900901, 0.00900901,\n",
       "       0.00900901, 0.00900901, 0.00900901, 0.00900901, 0.00800801,\n",
       "       0.00700701, 0.00700701, 0.00700701, 0.00700701, 0.00700701,\n",
       "       0.00700701, 0.00600601, 0.00600601, 0.00600601, 0.00600601,\n",
       "       0.00600601, 0.00600601, 0.00600601, 0.00500501, 0.00500501,\n",
       "       0.00500501, 0.00500501, 0.00500501, 0.00500501, 0.004004  ,\n",
       "       0.004004  , 0.004004  , 0.004004  , 0.004004  , 0.004004  ,\n",
       "       0.003003  , 0.003003  , 0.003003  , 0.003003  , 0.003003  ,\n",
       "       0.003003  , 0.003003  , 0.003003  , 0.002002  , 0.002002  ,\n",
       "       0.002002  , 0.002002  , 0.002002  , 0.002002  , 0.002002  ,\n",
       "       0.002002  , 0.002002  , 0.002002  , 0.002002  , 0.002002  ,\n",
       "       0.002002  , 0.002002  , 0.002002  , 0.002002  , 0.002002  ,\n",
       "       0.002002  , 0.002002  , 0.001001  , 0.001001  , 0.001001  ,\n",
       "       0.001001  , 0.001001  , 0.001001  , 0.001001  ])"
      ]
     },
     "execution_count": 430,
     "metadata": {},
     "output_type": "execute_result"
    }
   ],
   "source": [
    "submission.iloc[0,:].values"
   ]
  },
  {
   "cell_type": "code",
   "execution_count": 602,
   "id": "brave-homework",
   "metadata": {},
   "outputs": [],
   "source": [
    "submission = submission.div(submission.sum(axis=1), axis=0)"
   ]
  },
  {
   "cell_type": "code",
   "execution_count": 376,
   "id": "successful-eligibility",
   "metadata": {},
   "outputs": [],
   "source": [
    "submission.iloc[:,:] = submission.iloc[:,:].astype(float)"
   ]
  },
  {
   "cell_type": "code",
   "execution_count": 68,
   "id": "offensive-politics",
   "metadata": {},
   "outputs": [],
   "source": [
    "test_submission(submission)"
   ]
  },
  {
   "cell_type": "code",
   "execution_count": 579,
   "id": "antique-publisher",
   "metadata": {},
   "outputs": [
    {
     "data": {
      "text/plain": [
       "True"
      ]
     },
     "execution_count": 579,
     "metadata": {},
     "output_type": "execute_result"
    }
   ],
   "source": [
    "sum(submission.iloc[0,:]) == 1"
   ]
  },
  {
   "cell_type": "code",
   "execution_count": 580,
   "id": "spectacular-drinking",
   "metadata": {},
   "outputs": [
    {
     "data": {
      "text/plain": [
       "allo_XRX    0.200567\n",
       "allo_ERQ    0.048611\n",
       "allo_BSX    0.047382\n",
       "allo_CSB    0.044467\n",
       "allo_TXR    0.043560\n",
       "              ...   \n",
       "allo_WXN    0.001315\n",
       "allo_OOS    0.001240\n",
       "allo_DIG    0.001122\n",
       "allo_SBY    0.000571\n",
       "allo_SKI    0.000554\n",
       "Name: 2020-08-18 00:00:00, Length: 94, dtype: float64"
      ]
     },
     "execution_count": 580,
     "metadata": {},
     "output_type": "execute_result"
    }
   ],
   "source": [
    "submission.iloc[0,:]"
   ]
  },
  {
   "cell_type": "code",
   "execution_count": 69,
   "id": "certain-palestine",
   "metadata": {},
   "outputs": [],
   "source": [
    "submission.to_csv(\"submission_2403_3.csv\", header=True, index=True)"
   ]
  },
  {
   "cell_type": "code",
   "execution_count": 73,
   "id": "unique-saudi",
   "metadata": {},
   "outputs": [],
   "source": [
    "a = pd.read_csv(\"submission_2503_2.csv\", parse_dates=True, index_col=\"eod_ts\")"
   ]
  },
  {
   "cell_type": "code",
   "execution_count": 74,
   "id": "greek-violation",
   "metadata": {},
   "outputs": [],
   "source": [
    "test_submission(a)"
   ]
  },
  {
   "cell_type": "code",
   "execution_count": 72,
   "id": "western-porcelain",
   "metadata": {},
   "outputs": [
    {
     "data": {
      "text/plain": [
       "True"
      ]
     },
     "execution_count": 72,
     "metadata": {},
     "output_type": "execute_result"
    }
   ],
   "source": [
    "sum(a.iloc[0,:].values) == 1"
   ]
  },
  {
   "cell_type": "code",
   "execution_count": 613,
   "id": "formal-apparel",
   "metadata": {},
   "outputs": [
    {
     "data": {
      "text/plain": [
       "0.9999999999999996"
      ]
     },
     "execution_count": 613,
     "metadata": {},
     "output_type": "execute_result"
    }
   ],
   "source": [
    "sum(a.iloc[0,:].values)"
   ]
  },
  {
   "cell_type": "code",
   "execution_count": 614,
   "id": "reduced-paper",
   "metadata": {},
   "outputs": [
    {
     "data": {
      "text/plain": [
       "1.0"
      ]
     },
     "execution_count": 614,
     "metadata": {},
     "output_type": "execute_result"
    }
   ],
   "source": [
    "a.iloc[0,:].values.sum()"
   ]
  },
  {
   "cell_type": "code",
   "execution_count": 575,
   "id": "southwest-parameter",
   "metadata": {},
   "outputs": [
    {
     "data": {
      "text/plain": [
       "array([0.2005666 , 0.04861062, 0.04738243, 0.04446701, 0.04355961,\n",
       "       0.03555834, 0.02614009, 0.01957437, 0.01901543, 0.01898572,\n",
       "       0.01666086, 0.01642946, 0.01591593, 0.01493625, 0.01448288,\n",
       "       0.01436122, 0.0132065 , 0.01173341, 0.01171283, 0.01154006,\n",
       "       0.01107223, 0.01100703, 0.01078057, 0.01051566, 0.00991981,\n",
       "       0.00958758, 0.00957824, 0.00951851, 0.00944069, 0.00934644,\n",
       "       0.00914463, 0.00892004, 0.00891912, 0.00871447, 0.00829164,\n",
       "       0.00709205, 0.0070291 , 0.00700185, 0.00683988, 0.00667199,\n",
       "       0.00662315, 0.00635535, 0.00625462, 0.00607423, 0.00605337,\n",
       "       0.00587686, 0.00586499, 0.00575474, 0.0052153 , 0.00509489,\n",
       "       0.00499929, 0.00466678, 0.00466216, 0.00450099, 0.00449135,\n",
       "       0.00447883, 0.00425388, 0.00423706, 0.00417225, 0.00406327,\n",
       "       0.00330619, 0.0032486 , 0.00321901, 0.00316166, 0.00304639,\n",
       "       0.00297742, 0.00289238, 0.00283554, 0.00249584, 0.00248544,\n",
       "       0.00246092, 0.00245871, 0.00240359, 0.00229642, 0.00227447,\n",
       "       0.00224659, 0.00222772, 0.00218349, 0.0021767 , 0.00212498,\n",
       "       0.00195055, 0.00185657, 0.00179252, 0.00165943, 0.00156934,\n",
       "       0.00155902, 0.00154454, 0.00142003, 0.00139834, 0.00131546,\n",
       "       0.00124042, 0.00112208, 0.00057138, 0.00055377])"
      ]
     },
     "execution_count": 575,
     "metadata": {},
     "output_type": "execute_result"
    }
   ],
   "source": [
    "submission.iloc[0,:].values"
   ]
  },
  {
   "cell_type": "code",
   "execution_count": 589,
   "id": "reasonable-while",
   "metadata": {},
   "outputs": [
    {
     "data": {
      "text/plain": [
       "array([0.2005666 , 0.04861062, 0.04738243, 0.04446701, 0.04355961,\n",
       "       0.03555834, 0.02614009, 0.01957437, 0.01901543, 0.01898572,\n",
       "       0.01666086, 0.01642946, 0.01591593, 0.01493625, 0.01448288,\n",
       "       0.01436122, 0.0132065 , 0.01173341, 0.01171283, 0.01154006,\n",
       "       0.01107223, 0.01100703, 0.01078057, 0.01051566, 0.00991981,\n",
       "       0.00958758, 0.00957824, 0.00951851, 0.00944069, 0.00934644,\n",
       "       0.00914463, 0.00892004, 0.00891912, 0.00871447, 0.00829164,\n",
       "       0.00709205, 0.0070291 , 0.00700185, 0.00683988, 0.00667199,\n",
       "       0.00662315, 0.00635535, 0.00625462, 0.00607423, 0.00605337,\n",
       "       0.00587686, 0.00586499, 0.00575474, 0.0052153 , 0.00509489,\n",
       "       0.00499929, 0.00466678, 0.00466216, 0.00450099, 0.00449135,\n",
       "       0.00447883, 0.00425388, 0.00423706, 0.00417225, 0.00406327,\n",
       "       0.00330619, 0.0032486 , 0.00321901, 0.00316166, 0.00304639,\n",
       "       0.00297742, 0.00289238, 0.00283554, 0.00249584, 0.00248544,\n",
       "       0.00246092, 0.00245871, 0.00240359, 0.00229642, 0.00227447,\n",
       "       0.00224659, 0.00222772, 0.00218349, 0.0021767 , 0.00212498,\n",
       "       0.00195055, 0.00185657, 0.00179252, 0.00165943, 0.00156934,\n",
       "       0.00155902, 0.00154454, 0.00142003, 0.00139834, 0.00131546,\n",
       "       0.00124042, 0.00112208, 0.00057138, 0.00055377])"
      ]
     },
     "execution_count": 589,
     "metadata": {},
     "output_type": "execute_result"
    }
   ],
   "source": [
    "a.iloc[0,:].values"
   ]
  },
  {
   "cell_type": "code",
   "execution_count": 87,
   "id": "rough-coverage",
   "metadata": {},
   "outputs": [],
   "source": [
    "herc = HierarchicalEqualRiskContribution()\n"
   ]
  },
  {
   "cell_type": "code",
   "execution_count": 91,
   "id": "mechanical-surface",
   "metadata": {},
   "outputs": [],
   "source": [
    "df_not_na = df_daily.dropna()"
   ]
  },
  {
   "cell_type": "code",
   "execution_count": null,
   "id": "designed-horizon",
   "metadata": {},
   "outputs": [],
   "source": []
  },
  {
   "cell_type": "code",
   "execution_count": 90,
   "id": "swedish-preparation",
   "metadata": {},
   "outputs": [
    {
     "ename": "ValueError",
     "evalue": "Distance matrix 'X' must be symmetric.",
     "output_type": "error",
     "traceback": [
      "\u001b[0;31m---------------------------------------------------------------------------\u001b[0m",
      "\u001b[0;31mValueError\u001b[0m                                Traceback (most recent call last)",
      "\u001b[0;32m<ipython-input-90-b2f8182314a8>\u001b[0m in \u001b[0;36m<module>\u001b[0;34m\u001b[0m\n\u001b[0;32m----> 1\u001b[0;31m \u001b[0mherc\u001b[0m\u001b[0;34m.\u001b[0m\u001b[0mallocate\u001b[0m\u001b[0;34m(\u001b[0m\u001b[0masset_prices\u001b[0m\u001b[0;34m=\u001b[0m\u001b[0mdf_daily\u001b[0m\u001b[0;34m.\u001b[0m\u001b[0mdropna\u001b[0m\u001b[0;34m(\u001b[0m\u001b[0;34m)\u001b[0m\u001b[0;34m)\u001b[0m\u001b[0;34m\u001b[0m\u001b[0;34m\u001b[0m\u001b[0m\n\u001b[0m",
      "\u001b[0;32m~/miniconda/envs/portfoliolab/lib/python3.8/site-packages/portfoliolab/clustering/herc.py\u001b[0m in \u001b[0;36mallocate\u001b[0;34m(self, asset_names, asset_prices, asset_returns, covariance_matrix, risk_measure, linkage, optimal_num_clusters)\u001b[0m\n\u001b[1;32m     95\u001b[0m         \u001b[0;31m# Calculate the optimal number of clusters\u001b[0m\u001b[0;34m\u001b[0m\u001b[0;34m\u001b[0m\u001b[0;34m\u001b[0m\u001b[0m\n\u001b[1;32m     96\u001b[0m         \u001b[0;32mif\u001b[0m \u001b[0;32mnot\u001b[0m \u001b[0moptimal_num_clusters\u001b[0m\u001b[0;34m:\u001b[0m\u001b[0;34m\u001b[0m\u001b[0;34m\u001b[0m\u001b[0m\n\u001b[0;32m---> 97\u001b[0;31m             self.optimal_num_clusters = self._get_optimal_number_of_clusters(correlation=corr,\n\u001b[0m\u001b[1;32m     98\u001b[0m                                                                              \u001b[0mlinkage\u001b[0m\u001b[0;34m=\u001b[0m\u001b[0mlinkage\u001b[0m\u001b[0;34m,\u001b[0m\u001b[0;34m\u001b[0m\u001b[0;34m\u001b[0m\u001b[0m\n\u001b[1;32m     99\u001b[0m                                                                              asset_returns=asset_returns)\n",
      "\u001b[0;32m~/miniconda/envs/portfoliolab/lib/python3.8/site-packages/portfoliolab/clustering/herc.py\u001b[0m in \u001b[0;36m_get_optimal_number_of_clusters\u001b[0;34m(self, correlation, asset_returns, linkage, num_reference_datasets)\u001b[0m\n\u001b[1;32m    191\u001b[0m \u001b[0;34m\u001b[0m\u001b[0m\n\u001b[1;32m    192\u001b[0m             \u001b[0;31m# Calculate inertia from original data\u001b[0m\u001b[0;34m\u001b[0m\u001b[0;34m\u001b[0m\u001b[0;34m\u001b[0m\u001b[0m\n\u001b[0;32m--> 193\u001b[0;31m             \u001b[0moriginal_clusters\u001b[0m \u001b[0;34m=\u001b[0m \u001b[0mscipy_linkage\u001b[0m\u001b[0;34m(\u001b[0m\u001b[0msquareform\u001b[0m\u001b[0;34m(\u001b[0m\u001b[0moriginal_distance_matrix\u001b[0m\u001b[0;34m)\u001b[0m\u001b[0;34m,\u001b[0m \u001b[0mmethod\u001b[0m\u001b[0;34m=\u001b[0m\u001b[0mlinkage\u001b[0m\u001b[0;34m)\u001b[0m\u001b[0;34m\u001b[0m\u001b[0;34m\u001b[0m\u001b[0m\n\u001b[0m\u001b[1;32m    194\u001b[0m             \u001b[0moriginal_cluster_assignments\u001b[0m \u001b[0;34m=\u001b[0m \u001b[0mfcluster\u001b[0m\u001b[0;34m(\u001b[0m\u001b[0moriginal_clusters\u001b[0m\u001b[0;34m,\u001b[0m \u001b[0mnum_clusters\u001b[0m\u001b[0;34m,\u001b[0m \u001b[0mcriterion\u001b[0m\u001b[0;34m=\u001b[0m\u001b[0;34m'maxclust'\u001b[0m\u001b[0;34m)\u001b[0m\u001b[0;34m\u001b[0m\u001b[0;34m\u001b[0m\u001b[0m\n\u001b[1;32m    195\u001b[0m             \u001b[0;32mif\u001b[0m \u001b[0mmax\u001b[0m\u001b[0;34m(\u001b[0m\u001b[0moriginal_cluster_assignments\u001b[0m\u001b[0;34m)\u001b[0m \u001b[0;34m==\u001b[0m \u001b[0mmax_number_of_clusters\u001b[0m \u001b[0;32mor\u001b[0m \u001b[0mmax\u001b[0m\u001b[0;34m(\u001b[0m\u001b[0moriginal_cluster_assignments\u001b[0m\u001b[0;34m)\u001b[0m \u001b[0;34m>\u001b[0m \u001b[0;36m10\u001b[0m\u001b[0;34m:\u001b[0m\u001b[0;34m\u001b[0m\u001b[0;34m\u001b[0m\u001b[0m\n",
      "\u001b[0;32m~/miniconda/envs/portfoliolab/lib/python3.8/site-packages/scipy/spatial/distance.py\u001b[0m in \u001b[0;36msquareform\u001b[0;34m(X, force, checks)\u001b[0m\n\u001b[1;32m   2213\u001b[0m             \u001b[0;32mraise\u001b[0m \u001b[0mValueError\u001b[0m\u001b[0;34m(\u001b[0m\u001b[0;34m'The matrix argument must be square.'\u001b[0m\u001b[0;34m)\u001b[0m\u001b[0;34m\u001b[0m\u001b[0;34m\u001b[0m\u001b[0m\n\u001b[1;32m   2214\u001b[0m         \u001b[0;32mif\u001b[0m \u001b[0mchecks\u001b[0m\u001b[0;34m:\u001b[0m\u001b[0;34m\u001b[0m\u001b[0;34m\u001b[0m\u001b[0m\n\u001b[0;32m-> 2215\u001b[0;31m             \u001b[0mis_valid_dm\u001b[0m\u001b[0;34m(\u001b[0m\u001b[0mX\u001b[0m\u001b[0;34m,\u001b[0m \u001b[0mthrow\u001b[0m\u001b[0;34m=\u001b[0m\u001b[0;32mTrue\u001b[0m\u001b[0;34m,\u001b[0m \u001b[0mname\u001b[0m\u001b[0;34m=\u001b[0m\u001b[0;34m'X'\u001b[0m\u001b[0;34m)\u001b[0m\u001b[0;34m\u001b[0m\u001b[0;34m\u001b[0m\u001b[0m\n\u001b[0m\u001b[1;32m   2216\u001b[0m \u001b[0;34m\u001b[0m\u001b[0m\n\u001b[1;32m   2217\u001b[0m         \u001b[0;31m# One-side of the dimensions is set here.\u001b[0m\u001b[0;34m\u001b[0m\u001b[0;34m\u001b[0m\u001b[0;34m\u001b[0m\u001b[0m\n",
      "\u001b[0;32m~/miniconda/envs/portfoliolab/lib/python3.8/site-packages/scipy/spatial/distance.py\u001b[0m in \u001b[0;36mis_valid_dm\u001b[0;34m(D, tol, throw, name, warning)\u001b[0m\n\u001b[1;32m   2288\u001b[0m             \u001b[0;32mif\u001b[0m \u001b[0;32mnot\u001b[0m \u001b[0;34m(\u001b[0m\u001b[0mD\u001b[0m \u001b[0;34m==\u001b[0m \u001b[0mD\u001b[0m\u001b[0;34m.\u001b[0m\u001b[0mT\u001b[0m\u001b[0;34m)\u001b[0m\u001b[0;34m.\u001b[0m\u001b[0mall\u001b[0m\u001b[0;34m(\u001b[0m\u001b[0;34m)\u001b[0m\u001b[0;34m:\u001b[0m\u001b[0;34m\u001b[0m\u001b[0;34m\u001b[0m\u001b[0m\n\u001b[1;32m   2289\u001b[0m                 \u001b[0;32mif\u001b[0m \u001b[0mname\u001b[0m\u001b[0;34m:\u001b[0m\u001b[0;34m\u001b[0m\u001b[0;34m\u001b[0m\u001b[0m\n\u001b[0;32m-> 2290\u001b[0;31m                     raise ValueError(('Distance matrix \\'%s\\' must be '\n\u001b[0m\u001b[1;32m   2291\u001b[0m                                      'symmetric.') % name)\n\u001b[1;32m   2292\u001b[0m                 \u001b[0;32melse\u001b[0m\u001b[0;34m:\u001b[0m\u001b[0;34m\u001b[0m\u001b[0;34m\u001b[0m\u001b[0m\n",
      "\u001b[0;31mValueError\u001b[0m: Distance matrix 'X' must be symmetric."
     ]
    }
   ],
   "source": [
    "herc.allocate()"
   ]
  },
  {
   "cell_type": "code",
   "execution_count": 111,
   "id": "backed-bryan",
   "metadata": {},
   "outputs": [],
   "source": [
    "a = pd.read_csv(\"prueba.csv\", parse_dates=True, index_col=\"eod_ts\")"
   ]
  },
  {
   "cell_type": "code",
   "execution_count": 112,
   "id": "critical-stylus",
   "metadata": {},
   "outputs": [
    {
     "ename": "AssertionError",
     "evalue": "",
     "output_type": "error",
     "traceback": [
      "\u001b[0;31m---------------------------------------------------------------------------\u001b[0m",
      "\u001b[0;31mAssertionError\u001b[0m                            Traceback (most recent call last)",
      "\u001b[0;32m<ipython-input-112-5c30befff147>\u001b[0m in \u001b[0;36m<module>\u001b[0;34m\u001b[0m\n\u001b[0;32m----> 1\u001b[0;31m \u001b[0mtest_submission\u001b[0m\u001b[0;34m(\u001b[0m\u001b[0ma\u001b[0m\u001b[0;34m)\u001b[0m\u001b[0;34m\u001b[0m\u001b[0;34m\u001b[0m\u001b[0m\n\u001b[0m",
      "\u001b[0;32m~/reto_series_temporales/submission_utils.py\u001b[0m in \u001b[0;36mtest_submission\u001b[0;34m(submission)\u001b[0m\n\u001b[1;32m     52\u001b[0m     \u001b[0;32mif\u001b[0m \u001b[0;34m\"eod_ts\"\u001b[0m \u001b[0;32min\u001b[0m \u001b[0msubmission\u001b[0m\u001b[0;34m.\u001b[0m\u001b[0mcolumns\u001b[0m\u001b[0;34m:\u001b[0m\u001b[0;34m\u001b[0m\u001b[0;34m\u001b[0m\u001b[0m\n\u001b[1;32m     53\u001b[0m         \u001b[0msubmission\u001b[0m\u001b[0;34m.\u001b[0m\u001b[0mset_index\u001b[0m\u001b[0;34m(\u001b[0m\u001b[0;34m\"eod_ts\"\u001b[0m\u001b[0;34m,\u001b[0m \u001b[0minplace\u001b[0m\u001b[0;34m=\u001b[0m\u001b[0;32mTrue\u001b[0m\u001b[0;34m)\u001b[0m\u001b[0;34m\u001b[0m\u001b[0;34m\u001b[0m\u001b[0m\n\u001b[0;32m---> 54\u001b[0;31m     \u001b[0;32massert\u001b[0m \u001b[0mall\u001b[0m\u001b[0;34m(\u001b[0m\u001b[0msubmission\u001b[0m\u001b[0;34m.\u001b[0m\u001b[0msum\u001b[0m\u001b[0;34m(\u001b[0m\u001b[0maxis\u001b[0m\u001b[0;34m=\u001b[0m\u001b[0;36m1\u001b[0m\u001b[0;34m)\u001b[0m \u001b[0;34m==\u001b[0m \u001b[0;36m1\u001b[0m\u001b[0;34m)\u001b[0m\u001b[0;34m\u001b[0m\u001b[0;34m\u001b[0m\u001b[0m\n\u001b[0m\u001b[1;32m     55\u001b[0m     \u001b[0;32massert\u001b[0m \u001b[0msum\u001b[0m\u001b[0;34m(\u001b[0m\u001b[0mn\u001b[0m \u001b[0;34m<\u001b[0m \u001b[0;36m0\u001b[0m \u001b[0;32mfor\u001b[0m \u001b[0mn\u001b[0m \u001b[0;32min\u001b[0m \u001b[0msubmission\u001b[0m\u001b[0;34m.\u001b[0m\u001b[0mvalues\u001b[0m\u001b[0;34m.\u001b[0m\u001b[0mflatten\u001b[0m\u001b[0;34m(\u001b[0m\u001b[0;34m)\u001b[0m\u001b[0;34m)\u001b[0m \u001b[0;34m==\u001b[0m \u001b[0;36m0\u001b[0m\u001b[0;34m\u001b[0m\u001b[0;34m\u001b[0m\u001b[0m\n\u001b[1;32m     56\u001b[0m \u001b[0;34m\u001b[0m\u001b[0m\n",
      "\u001b[0;31mAssertionError\u001b[0m: "
     ]
    }
   ],
   "source": [
    "test_submission(a)"
   ]
  },
  {
   "cell_type": "code",
   "execution_count": 114,
   "id": "raised-spencer",
   "metadata": {},
   "outputs": [
    {
     "data": {
      "text/html": [
       "<div>\n",
       "<style scoped>\n",
       "    .dataframe tbody tr th:only-of-type {\n",
       "        vertical-align: middle;\n",
       "    }\n",
       "\n",
       "    .dataframe tbody tr th {\n",
       "        vertical-align: top;\n",
       "    }\n",
       "\n",
       "    .dataframe thead th {\n",
       "        text-align: right;\n",
       "    }\n",
       "</style>\n",
       "<table border=\"1\" class=\"dataframe\">\n",
       "  <thead>\n",
       "    <tr style=\"text-align: right;\">\n",
       "      <th></th>\n",
       "      <th>allo_ACY</th>\n",
       "      <th>allo_AUX</th>\n",
       "      <th>allo_AWW</th>\n",
       "      <th>allo_AZG</th>\n",
       "      <th>allo_BAX</th>\n",
       "      <th>allo_BFS</th>\n",
       "      <th>allo_BGN</th>\n",
       "      <th>allo_BOT</th>\n",
       "      <th>allo_BSX</th>\n",
       "      <th>allo_BZC</th>\n",
       "      <th>...</th>\n",
       "      <th>allo_XRX</th>\n",
       "      <th>allo_YAX</th>\n",
       "      <th>allo_YEC</th>\n",
       "      <th>allo_YFC</th>\n",
       "      <th>allo_ZAB</th>\n",
       "      <th>allo_ZCD</th>\n",
       "      <th>allo_ZTY</th>\n",
       "      <th>allo_ZUJ</th>\n",
       "      <th>allo_ZVQ</th>\n",
       "      <th>allo_ZXW</th>\n",
       "    </tr>\n",
       "    <tr>\n",
       "      <th>eod_ts</th>\n",
       "      <th></th>\n",
       "      <th></th>\n",
       "      <th></th>\n",
       "      <th></th>\n",
       "      <th></th>\n",
       "      <th></th>\n",
       "      <th></th>\n",
       "      <th></th>\n",
       "      <th></th>\n",
       "      <th></th>\n",
       "      <th></th>\n",
       "      <th></th>\n",
       "      <th></th>\n",
       "      <th></th>\n",
       "      <th></th>\n",
       "      <th></th>\n",
       "      <th></th>\n",
       "      <th></th>\n",
       "      <th></th>\n",
       "      <th></th>\n",
       "      <th></th>\n",
       "    </tr>\n",
       "  </thead>\n",
       "  <tbody>\n",
       "    <tr>\n",
       "      <th>2020-08-18 00:00:00</th>\n",
       "      <td>NaN</td>\n",
       "      <td>NaN</td>\n",
       "      <td>NaN</td>\n",
       "      <td>NaN</td>\n",
       "      <td>NaN</td>\n",
       "      <td>NaN</td>\n",
       "      <td>NaN</td>\n",
       "      <td>NaN</td>\n",
       "      <td>NaN</td>\n",
       "      <td>NaN</td>\n",
       "      <td>...</td>\n",
       "      <td>NaN</td>\n",
       "      <td>NaN</td>\n",
       "      <td>NaN</td>\n",
       "      <td>NaN</td>\n",
       "      <td>NaN</td>\n",
       "      <td>NaN</td>\n",
       "      <td>NaN</td>\n",
       "      <td>NaN</td>\n",
       "      <td>NaN</td>\n",
       "      <td>NaN</td>\n",
       "    </tr>\n",
       "    <tr>\n",
       "      <th>2020-08-18 01:00:00</th>\n",
       "      <td>NaN</td>\n",
       "      <td>NaN</td>\n",
       "      <td>NaN</td>\n",
       "      <td>NaN</td>\n",
       "      <td>NaN</td>\n",
       "      <td>NaN</td>\n",
       "      <td>NaN</td>\n",
       "      <td>NaN</td>\n",
       "      <td>NaN</td>\n",
       "      <td>NaN</td>\n",
       "      <td>...</td>\n",
       "      <td>NaN</td>\n",
       "      <td>NaN</td>\n",
       "      <td>NaN</td>\n",
       "      <td>NaN</td>\n",
       "      <td>NaN</td>\n",
       "      <td>NaN</td>\n",
       "      <td>NaN</td>\n",
       "      <td>NaN</td>\n",
       "      <td>NaN</td>\n",
       "      <td>NaN</td>\n",
       "    </tr>\n",
       "    <tr>\n",
       "      <th>2020-08-18 02:00:00</th>\n",
       "      <td>NaN</td>\n",
       "      <td>NaN</td>\n",
       "      <td>NaN</td>\n",
       "      <td>NaN</td>\n",
       "      <td>NaN</td>\n",
       "      <td>NaN</td>\n",
       "      <td>NaN</td>\n",
       "      <td>NaN</td>\n",
       "      <td>NaN</td>\n",
       "      <td>NaN</td>\n",
       "      <td>...</td>\n",
       "      <td>NaN</td>\n",
       "      <td>NaN</td>\n",
       "      <td>NaN</td>\n",
       "      <td>NaN</td>\n",
       "      <td>NaN</td>\n",
       "      <td>NaN</td>\n",
       "      <td>NaN</td>\n",
       "      <td>NaN</td>\n",
       "      <td>NaN</td>\n",
       "      <td>NaN</td>\n",
       "    </tr>\n",
       "    <tr>\n",
       "      <th>2020-08-18 03:00:00</th>\n",
       "      <td>NaN</td>\n",
       "      <td>NaN</td>\n",
       "      <td>NaN</td>\n",
       "      <td>NaN</td>\n",
       "      <td>NaN</td>\n",
       "      <td>NaN</td>\n",
       "      <td>NaN</td>\n",
       "      <td>NaN</td>\n",
       "      <td>NaN</td>\n",
       "      <td>NaN</td>\n",
       "      <td>...</td>\n",
       "      <td>NaN</td>\n",
       "      <td>NaN</td>\n",
       "      <td>NaN</td>\n",
       "      <td>NaN</td>\n",
       "      <td>NaN</td>\n",
       "      <td>NaN</td>\n",
       "      <td>NaN</td>\n",
       "      <td>NaN</td>\n",
       "      <td>NaN</td>\n",
       "      <td>NaN</td>\n",
       "    </tr>\n",
       "    <tr>\n",
       "      <th>2020-08-18 04:00:00</th>\n",
       "      <td>NaN</td>\n",
       "      <td>NaN</td>\n",
       "      <td>NaN</td>\n",
       "      <td>NaN</td>\n",
       "      <td>NaN</td>\n",
       "      <td>NaN</td>\n",
       "      <td>NaN</td>\n",
       "      <td>NaN</td>\n",
       "      <td>NaN</td>\n",
       "      <td>NaN</td>\n",
       "      <td>...</td>\n",
       "      <td>NaN</td>\n",
       "      <td>NaN</td>\n",
       "      <td>NaN</td>\n",
       "      <td>NaN</td>\n",
       "      <td>NaN</td>\n",
       "      <td>NaN</td>\n",
       "      <td>NaN</td>\n",
       "      <td>NaN</td>\n",
       "      <td>NaN</td>\n",
       "      <td>NaN</td>\n",
       "    </tr>\n",
       "    <tr>\n",
       "      <th>...</th>\n",
       "      <td>...</td>\n",
       "      <td>...</td>\n",
       "      <td>...</td>\n",
       "      <td>...</td>\n",
       "      <td>...</td>\n",
       "      <td>...</td>\n",
       "      <td>...</td>\n",
       "      <td>...</td>\n",
       "      <td>...</td>\n",
       "      <td>...</td>\n",
       "      <td>...</td>\n",
       "      <td>...</td>\n",
       "      <td>...</td>\n",
       "      <td>...</td>\n",
       "      <td>...</td>\n",
       "      <td>...</td>\n",
       "      <td>...</td>\n",
       "      <td>...</td>\n",
       "      <td>...</td>\n",
       "      <td>...</td>\n",
       "      <td>...</td>\n",
       "    </tr>\n",
       "    <tr>\n",
       "      <th>2020-08-23 23:00:00</th>\n",
       "      <td>NaN</td>\n",
       "      <td>NaN</td>\n",
       "      <td>NaN</td>\n",
       "      <td>NaN</td>\n",
       "      <td>NaN</td>\n",
       "      <td>NaN</td>\n",
       "      <td>NaN</td>\n",
       "      <td>NaN</td>\n",
       "      <td>NaN</td>\n",
       "      <td>NaN</td>\n",
       "      <td>...</td>\n",
       "      <td>NaN</td>\n",
       "      <td>NaN</td>\n",
       "      <td>NaN</td>\n",
       "      <td>NaN</td>\n",
       "      <td>NaN</td>\n",
       "      <td>NaN</td>\n",
       "      <td>NaN</td>\n",
       "      <td>NaN</td>\n",
       "      <td>NaN</td>\n",
       "      <td>NaN</td>\n",
       "    </tr>\n",
       "    <tr>\n",
       "      <th>2020-08-24 00:00:00</th>\n",
       "      <td>NaN</td>\n",
       "      <td>NaN</td>\n",
       "      <td>NaN</td>\n",
       "      <td>NaN</td>\n",
       "      <td>NaN</td>\n",
       "      <td>NaN</td>\n",
       "      <td>NaN</td>\n",
       "      <td>NaN</td>\n",
       "      <td>NaN</td>\n",
       "      <td>NaN</td>\n",
       "      <td>...</td>\n",
       "      <td>NaN</td>\n",
       "      <td>NaN</td>\n",
       "      <td>NaN</td>\n",
       "      <td>NaN</td>\n",
       "      <td>NaN</td>\n",
       "      <td>NaN</td>\n",
       "      <td>NaN</td>\n",
       "      <td>NaN</td>\n",
       "      <td>NaN</td>\n",
       "      <td>NaN</td>\n",
       "    </tr>\n",
       "    <tr>\n",
       "      <th>2020-08-24 01:00:00</th>\n",
       "      <td>NaN</td>\n",
       "      <td>NaN</td>\n",
       "      <td>NaN</td>\n",
       "      <td>NaN</td>\n",
       "      <td>NaN</td>\n",
       "      <td>NaN</td>\n",
       "      <td>NaN</td>\n",
       "      <td>NaN</td>\n",
       "      <td>NaN</td>\n",
       "      <td>NaN</td>\n",
       "      <td>...</td>\n",
       "      <td>NaN</td>\n",
       "      <td>NaN</td>\n",
       "      <td>NaN</td>\n",
       "      <td>NaN</td>\n",
       "      <td>NaN</td>\n",
       "      <td>NaN</td>\n",
       "      <td>NaN</td>\n",
       "      <td>NaN</td>\n",
       "      <td>NaN</td>\n",
       "      <td>NaN</td>\n",
       "    </tr>\n",
       "    <tr>\n",
       "      <th>2020-08-24 02:00:00</th>\n",
       "      <td>NaN</td>\n",
       "      <td>NaN</td>\n",
       "      <td>NaN</td>\n",
       "      <td>NaN</td>\n",
       "      <td>NaN</td>\n",
       "      <td>NaN</td>\n",
       "      <td>NaN</td>\n",
       "      <td>NaN</td>\n",
       "      <td>NaN</td>\n",
       "      <td>NaN</td>\n",
       "      <td>...</td>\n",
       "      <td>NaN</td>\n",
       "      <td>NaN</td>\n",
       "      <td>NaN</td>\n",
       "      <td>NaN</td>\n",
       "      <td>NaN</td>\n",
       "      <td>NaN</td>\n",
       "      <td>NaN</td>\n",
       "      <td>NaN</td>\n",
       "      <td>NaN</td>\n",
       "      <td>NaN</td>\n",
       "    </tr>\n",
       "    <tr>\n",
       "      <th>2020-08-24 03:00:00</th>\n",
       "      <td>NaN</td>\n",
       "      <td>NaN</td>\n",
       "      <td>NaN</td>\n",
       "      <td>NaN</td>\n",
       "      <td>NaN</td>\n",
       "      <td>NaN</td>\n",
       "      <td>NaN</td>\n",
       "      <td>NaN</td>\n",
       "      <td>NaN</td>\n",
       "      <td>NaN</td>\n",
       "      <td>...</td>\n",
       "      <td>NaN</td>\n",
       "      <td>NaN</td>\n",
       "      <td>NaN</td>\n",
       "      <td>NaN</td>\n",
       "      <td>NaN</td>\n",
       "      <td>NaN</td>\n",
       "      <td>NaN</td>\n",
       "      <td>NaN</td>\n",
       "      <td>NaN</td>\n",
       "      <td>NaN</td>\n",
       "    </tr>\n",
       "  </tbody>\n",
       "</table>\n",
       "<p>100 rows × 96 columns</p>\n",
       "</div>"
      ],
      "text/plain": [
       "                     allo_ACY  allo_AUX  allo_AWW  allo_AZG  allo_BAX  \\\n",
       "eod_ts                                                                  \n",
       "2020-08-18 00:00:00       NaN       NaN       NaN       NaN       NaN   \n",
       "2020-08-18 01:00:00       NaN       NaN       NaN       NaN       NaN   \n",
       "2020-08-18 02:00:00       NaN       NaN       NaN       NaN       NaN   \n",
       "2020-08-18 03:00:00       NaN       NaN       NaN       NaN       NaN   \n",
       "2020-08-18 04:00:00       NaN       NaN       NaN       NaN       NaN   \n",
       "...                       ...       ...       ...       ...       ...   \n",
       "2020-08-23 23:00:00       NaN       NaN       NaN       NaN       NaN   \n",
       "2020-08-24 00:00:00       NaN       NaN       NaN       NaN       NaN   \n",
       "2020-08-24 01:00:00       NaN       NaN       NaN       NaN       NaN   \n",
       "2020-08-24 02:00:00       NaN       NaN       NaN       NaN       NaN   \n",
       "2020-08-24 03:00:00       NaN       NaN       NaN       NaN       NaN   \n",
       "\n",
       "                     allo_BFS  allo_BGN  allo_BOT  allo_BSX  allo_BZC  ...  \\\n",
       "eod_ts                                                                 ...   \n",
       "2020-08-18 00:00:00       NaN       NaN       NaN       NaN       NaN  ...   \n",
       "2020-08-18 01:00:00       NaN       NaN       NaN       NaN       NaN  ...   \n",
       "2020-08-18 02:00:00       NaN       NaN       NaN       NaN       NaN  ...   \n",
       "2020-08-18 03:00:00       NaN       NaN       NaN       NaN       NaN  ...   \n",
       "2020-08-18 04:00:00       NaN       NaN       NaN       NaN       NaN  ...   \n",
       "...                       ...       ...       ...       ...       ...  ...   \n",
       "2020-08-23 23:00:00       NaN       NaN       NaN       NaN       NaN  ...   \n",
       "2020-08-24 00:00:00       NaN       NaN       NaN       NaN       NaN  ...   \n",
       "2020-08-24 01:00:00       NaN       NaN       NaN       NaN       NaN  ...   \n",
       "2020-08-24 02:00:00       NaN       NaN       NaN       NaN       NaN  ...   \n",
       "2020-08-24 03:00:00       NaN       NaN       NaN       NaN       NaN  ...   \n",
       "\n",
       "                     allo_XRX  allo_YAX  allo_YEC  allo_YFC  allo_ZAB  \\\n",
       "eod_ts                                                                  \n",
       "2020-08-18 00:00:00       NaN       NaN       NaN       NaN       NaN   \n",
       "2020-08-18 01:00:00       NaN       NaN       NaN       NaN       NaN   \n",
       "2020-08-18 02:00:00       NaN       NaN       NaN       NaN       NaN   \n",
       "2020-08-18 03:00:00       NaN       NaN       NaN       NaN       NaN   \n",
       "2020-08-18 04:00:00       NaN       NaN       NaN       NaN       NaN   \n",
       "...                       ...       ...       ...       ...       ...   \n",
       "2020-08-23 23:00:00       NaN       NaN       NaN       NaN       NaN   \n",
       "2020-08-24 00:00:00       NaN       NaN       NaN       NaN       NaN   \n",
       "2020-08-24 01:00:00       NaN       NaN       NaN       NaN       NaN   \n",
       "2020-08-24 02:00:00       NaN       NaN       NaN       NaN       NaN   \n",
       "2020-08-24 03:00:00       NaN       NaN       NaN       NaN       NaN   \n",
       "\n",
       "                     allo_ZCD  allo_ZTY  allo_ZUJ  allo_ZVQ  allo_ZXW  \n",
       "eod_ts                                                                 \n",
       "2020-08-18 00:00:00       NaN       NaN       NaN       NaN       NaN  \n",
       "2020-08-18 01:00:00       NaN       NaN       NaN       NaN       NaN  \n",
       "2020-08-18 02:00:00       NaN       NaN       NaN       NaN       NaN  \n",
       "2020-08-18 03:00:00       NaN       NaN       NaN       NaN       NaN  \n",
       "2020-08-18 04:00:00       NaN       NaN       NaN       NaN       NaN  \n",
       "...                       ...       ...       ...       ...       ...  \n",
       "2020-08-23 23:00:00       NaN       NaN       NaN       NaN       NaN  \n",
       "2020-08-24 00:00:00       NaN       NaN       NaN       NaN       NaN  \n",
       "2020-08-24 01:00:00       NaN       NaN       NaN       NaN       NaN  \n",
       "2020-08-24 02:00:00       NaN       NaN       NaN       NaN       NaN  \n",
       "2020-08-24 03:00:00       NaN       NaN       NaN       NaN       NaN  \n",
       "\n",
       "[100 rows x 96 columns]"
      ]
     },
     "execution_count": 114,
     "metadata": {},
     "output_type": "execute_result"
    }
   ],
   "source": [
    "a.head(100)"
   ]
  },
  {
   "cell_type": "code",
   "execution_count": null,
   "id": "specified-vegetation",
   "metadata": {},
   "outputs": [],
   "source": []
  }
 ],
 "metadata": {
  "kernelspec": {
   "display_name": "Python [conda env:portfoliolab]",
   "language": "python",
   "name": "conda-env-portfoliolab-py"
  },
  "language_info": {
   "codemirror_mode": {
    "name": "ipython",
    "version": 3
   },
   "file_extension": ".py",
   "mimetype": "text/x-python",
   "name": "python",
   "nbconvert_exporter": "python",
   "pygments_lexer": "ipython3",
   "version": "3.8.8"
  }
 },
 "nbformat": 4,
 "nbformat_minor": 5
}
