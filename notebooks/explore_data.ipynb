{
 "cells": [
  {
   "cell_type": "code",
   "execution_count": 1,
   "id": "plastic-privilege",
   "metadata": {},
   "outputs": [],
   "source": [
    "#!pip install tqdm"
   ]
  },
  {
   "cell_type": "code",
   "execution_count": 1,
   "id": "indirect-apartment",
   "metadata": {},
   "outputs": [],
   "source": [
    "import os\n",
    "import pandas as pd\n",
    "from tqdm import tqdm\n",
    "from functools import reduce"
   ]
  },
  {
   "cell_type": "code",
   "execution_count": 2,
   "id": "comprehensive-naples",
   "metadata": {
    "scrolled": true
   },
   "outputs": [
    {
     "data": {
      "text/plain": [
       "['TrainScores', 'TrainCandles', '.DS_Store']"
      ]
     },
     "execution_count": 2,
     "metadata": {},
     "output_type": "execute_result"
    }
   ],
   "source": [
    "os.listdir(\"trainTimeSeries/trainTimeSeries\")"
   ]
  },
  {
   "cell_type": "code",
   "execution_count": 3,
   "id": "unknown-mailman",
   "metadata": {},
   "outputs": [],
   "source": [
    "def read_all_candles(folder):\n",
    "    data = {}\n",
    "    for file in tqdm(os.listdir(folder)):\n",
    "        df = pd.read_csv(f\"{folder}/{file}\")\n",
    "        df.columns = [\"date\", \"close\", \"max\", \"min\", \"open\"]\n",
    "        df[\"date\"] = pd.to_datetime(df['date'])\n",
    "        df.set_index(\"date\", inplace=True)\n",
    "        name = file.replace(\"DARWINUniverseCandlesOHLC_\", \"\").replace(\"_train.csv\", \"\")\n",
    "        data[name] = df\n",
    "    return data"
   ]
  },
  {
   "cell_type": "code",
   "execution_count": 4,
   "id": "honey-founder",
   "metadata": {},
   "outputs": [],
   "source": [
    "def read_all_scores(folder):\n",
    "    scores = {}\n",
    "    for file in tqdm(os.listdir(folder)):\n",
    "        df = pd.read_csv(f\"{folder}/{file}\")\n",
    "        name = file.replace(\"scoresData_\", \"\").replace(\"_train.csv\", \"\")\n",
    "        scores[name] = df\n",
    "    return scores"
   ]
  },
  {
   "cell_type": "code",
   "execution_count": 5,
   "id": "vocal-airport",
   "metadata": {},
   "outputs": [
    {
     "name": "stderr",
     "output_type": "stream",
     "text": [
      "100%|██████████| 96/96 [00:04<00:00, 19.69it/s]\n"
     ]
    }
   ],
   "source": [
    "\n",
    "candle_data = read_all_candles(\"trainTimeSeries/trainTimeSeries/TrainCandles\")"
   ]
  },
  {
   "cell_type": "code",
   "execution_count": 6,
   "id": "entertaining-fancy",
   "metadata": {},
   "outputs": [
    {
     "name": "stderr",
     "output_type": "stream",
     "text": [
      "100%|██████████| 94/94 [00:01<00:00, 69.56it/s]\n"
     ]
    }
   ],
   "source": [
    "score_data = read_all_scores(\"trainTimeSeries/trainTimeSeries/TrainScores\")"
   ]
  },
  {
   "cell_type": "code",
   "execution_count": 7,
   "id": "fifth-acrylic",
   "metadata": {},
   "outputs": [
    {
     "data": {
      "text/plain": [
       "['MUF', 'MMY']"
      ]
     },
     "execution_count": 7,
     "metadata": {},
     "output_type": "execute_result"
    }
   ],
   "source": [
    "[k for k in candle_data if k not in score_data]"
   ]
  },
  {
   "cell_type": "code",
   "execution_count": 8,
   "id": "logical-democracy",
   "metadata": {},
   "outputs": [
    {
     "data": {
      "text/plain": [
       "(8610, 4)"
      ]
     },
     "execution_count": 8,
     "metadata": {},
     "output_type": "execute_result"
    }
   ],
   "source": [
    "candle_data[\"MUF\"].shape"
   ]
  },
  {
   "cell_type": "code",
   "execution_count": 9,
   "id": "fatty-porter",
   "metadata": {},
   "outputs": [
    {
     "data": {
      "text/plain": [
       "(6994, 4)"
      ]
     },
     "execution_count": 9,
     "metadata": {},
     "output_type": "execute_result"
    }
   ],
   "source": [
    "candle_data[\"MMY\"].shape"
   ]
  },
  {
   "cell_type": "code",
   "execution_count": 10,
   "id": "historical-nurse",
   "metadata": {},
   "outputs": [
    {
     "data": {
      "text/plain": [
       "dict_keys(['GRU', 'TMF', 'THA', 'JTL', 'LWK', 'CIS', 'GGR', 'VRT', 'VVC', 'GRI', 'CBY', 'BAX', 'DIG', 'SHC', 'LWE', 'HEO', 'RAT', 'AWW', 'NYD', 'ZUJ', 'AUX', 'FFV', 'PME', 'ULT', 'DZF', 'ZAB', 'ZCD', 'USX', 'SBY', 'BFS', 'CSB', 'PHI', 'ERO', 'PEW', 'YAX', 'PPT', 'WFJ', 'FIR', 'HQU', 'TER', 'WWT', 'OXR', 'LHB', 'BOT', 'HZY', 'TXR', 'EEY', 'ERQ', 'LUG', 'NCT', 'UPP', 'BSX', 'FSK', 'ZXW', 'RWJ', 'TDD', 'YEC', 'AZG', 'HCC', 'UYZ', 'REU', 'SKN', 'PUL', 'ZTY', 'BZC', 'GFJ', 'SEH', 'ACY', 'TKT', 'UEI', 'MET', 'YFC', 'JHI', 'NSC', 'NWO', 'SRI', 'BGN', 'LEN', 'WXN', 'TRO', 'SKI', 'IDT', 'NYP', 'ULI', 'SYO', 'JNE', 'OJG', 'EOP', 'NVL', 'ZVQ', 'FNM', 'MCA', 'OOS', 'XRX'])"
      ]
     },
     "execution_count": 10,
     "metadata": {},
     "output_type": "execute_result"
    }
   ],
   "source": [
    "score_data.keys()"
   ]
  },
  {
   "cell_type": "code",
   "execution_count": 11,
   "id": "static-minimum",
   "metadata": {},
   "outputs": [
    {
     "data": {
      "text/html": [
       "<div>\n",
       "<style scoped>\n",
       "    .dataframe tbody tr th:only-of-type {\n",
       "        vertical-align: middle;\n",
       "    }\n",
       "\n",
       "    .dataframe tbody tr th {\n",
       "        vertical-align: top;\n",
       "    }\n",
       "\n",
       "    .dataframe thead th {\n",
       "        text-align: right;\n",
       "    }\n",
       "</style>\n",
       "<table border=\"1\" class=\"dataframe\">\n",
       "  <thead>\n",
       "    <tr style=\"text-align: right;\">\n",
       "      <th></th>\n",
       "      <th>eod_ts</th>\n",
       "      <th>Dp</th>\n",
       "      <th>Ex</th>\n",
       "      <th>Mc</th>\n",
       "      <th>Rs</th>\n",
       "      <th>Ra</th>\n",
       "      <th>Os</th>\n",
       "      <th>Cs</th>\n",
       "      <th>Rp</th>\n",
       "      <th>Rm</th>\n",
       "      <th>Dc</th>\n",
       "      <th>La</th>\n",
       "      <th>Pf</th>\n",
       "      <th>Cp</th>\n",
       "      <th>Ds</th>\n",
       "      <th>fcal_ts</th>\n",
       "      <th>lcal_ts</th>\n",
       "    </tr>\n",
       "  </thead>\n",
       "  <tbody>\n",
       "    <tr>\n",
       "      <th>0</th>\n",
       "      <td>2019-01-04 22:00:00</td>\n",
       "      <td>0.000000</td>\n",
       "      <td>0.000000</td>\n",
       "      <td>0.0</td>\n",
       "      <td>10.0</td>\n",
       "      <td>8.507216</td>\n",
       "      <td>10.000000</td>\n",
       "      <td>10.0</td>\n",
       "      <td>0.0</td>\n",
       "      <td>0.0</td>\n",
       "      <td>0.0</td>\n",
       "      <td>0.0</td>\n",
       "      <td>9.938803</td>\n",
       "      <td>0.000000</td>\n",
       "      <td>0.297619</td>\n",
       "      <td>2019-01-05 00:00:00.000</td>\n",
       "      <td>2020-08-24 17:03:55.065</td>\n",
       "    </tr>\n",
       "    <tr>\n",
       "      <th>1</th>\n",
       "      <td>2019-01-07 22:00:00</td>\n",
       "      <td>0.055556</td>\n",
       "      <td>0.046296</td>\n",
       "      <td>0.0</td>\n",
       "      <td>10.0</td>\n",
       "      <td>8.507216</td>\n",
       "      <td>10.000000</td>\n",
       "      <td>10.0</td>\n",
       "      <td>0.0</td>\n",
       "      <td>0.0</td>\n",
       "      <td>0.0</td>\n",
       "      <td>0.0</td>\n",
       "      <td>9.219292</td>\n",
       "      <td>2.326375</td>\n",
       "      <td>0.592047</td>\n",
       "      <td>2019-01-08 00:00:00.000</td>\n",
       "      <td>2020-08-24 17:03:55.065</td>\n",
       "    </tr>\n",
       "    <tr>\n",
       "      <th>2</th>\n",
       "      <td>2019-01-08 22:00:00</td>\n",
       "      <td>0.055556</td>\n",
       "      <td>0.046296</td>\n",
       "      <td>0.0</td>\n",
       "      <td>10.0</td>\n",
       "      <td>8.507216</td>\n",
       "      <td>5.069444</td>\n",
       "      <td>10.0</td>\n",
       "      <td>0.0</td>\n",
       "      <td>0.0</td>\n",
       "      <td>0.0</td>\n",
       "      <td>0.0</td>\n",
       "      <td>8.694655</td>\n",
       "      <td>2.326375</td>\n",
       "      <td>0.889469</td>\n",
       "      <td>2019-01-09 00:00:00.000</td>\n",
       "      <td>2020-08-24 17:03:55.065</td>\n",
       "    </tr>\n",
       "    <tr>\n",
       "      <th>3</th>\n",
       "      <td>2019-01-09 22:00:00</td>\n",
       "      <td>0.055556</td>\n",
       "      <td>0.046296</td>\n",
       "      <td>0.0</td>\n",
       "      <td>10.0</td>\n",
       "      <td>8.507216</td>\n",
       "      <td>5.069444</td>\n",
       "      <td>10.0</td>\n",
       "      <td>0.0</td>\n",
       "      <td>0.0</td>\n",
       "      <td>0.0</td>\n",
       "      <td>0.0</td>\n",
       "      <td>7.377259</td>\n",
       "      <td>2.326375</td>\n",
       "      <td>1.178302</td>\n",
       "      <td>2019-01-10 00:00:00.000</td>\n",
       "      <td>2020-08-24 17:03:55.065</td>\n",
       "    </tr>\n",
       "    <tr>\n",
       "      <th>4</th>\n",
       "      <td>2019-01-10 22:00:00</td>\n",
       "      <td>0.031342</td>\n",
       "      <td>0.026119</td>\n",
       "      <td>0.0</td>\n",
       "      <td>10.0</td>\n",
       "      <td>5.043672</td>\n",
       "      <td>5.069444</td>\n",
       "      <td>10.0</td>\n",
       "      <td>0.0</td>\n",
       "      <td>0.0</td>\n",
       "      <td>0.0</td>\n",
       "      <td>0.0</td>\n",
       "      <td>9.219393</td>\n",
       "      <td>2.326375</td>\n",
       "      <td>1.487981</td>\n",
       "      <td>2019-01-11 00:00:00.000</td>\n",
       "      <td>2020-08-24 17:03:55.065</td>\n",
       "    </tr>\n",
       "  </tbody>\n",
       "</table>\n",
       "</div>"
      ],
      "text/plain": [
       "                eod_ts        Dp        Ex   Mc    Rs        Ra         Os  \\\n",
       "0  2019-01-04 22:00:00  0.000000  0.000000  0.0  10.0  8.507216  10.000000   \n",
       "1  2019-01-07 22:00:00  0.055556  0.046296  0.0  10.0  8.507216  10.000000   \n",
       "2  2019-01-08 22:00:00  0.055556  0.046296  0.0  10.0  8.507216   5.069444   \n",
       "3  2019-01-09 22:00:00  0.055556  0.046296  0.0  10.0  8.507216   5.069444   \n",
       "4  2019-01-10 22:00:00  0.031342  0.026119  0.0  10.0  5.043672   5.069444   \n",
       "\n",
       "     Cs   Rp   Rm   Dc   La        Pf        Cp        Ds  \\\n",
       "0  10.0  0.0  0.0  0.0  0.0  9.938803  0.000000  0.297619   \n",
       "1  10.0  0.0  0.0  0.0  0.0  9.219292  2.326375  0.592047   \n",
       "2  10.0  0.0  0.0  0.0  0.0  8.694655  2.326375  0.889469   \n",
       "3  10.0  0.0  0.0  0.0  0.0  7.377259  2.326375  1.178302   \n",
       "4  10.0  0.0  0.0  0.0  0.0  9.219393  2.326375  1.487981   \n",
       "\n",
       "                   fcal_ts                  lcal_ts  \n",
       "0  2019-01-05 00:00:00.000  2020-08-24 17:03:55.065  \n",
       "1  2019-01-08 00:00:00.000  2020-08-24 17:03:55.065  \n",
       "2  2019-01-09 00:00:00.000  2020-08-24 17:03:55.065  \n",
       "3  2019-01-10 00:00:00.000  2020-08-24 17:03:55.065  \n",
       "4  2019-01-11 00:00:00.000  2020-08-24 17:03:55.065  "
      ]
     },
     "execution_count": 11,
     "metadata": {},
     "output_type": "execute_result"
    }
   ],
   "source": [
    "score_data[\"GRU\"].head()"
   ]
  },
  {
   "cell_type": "code",
   "execution_count": 12,
   "id": "foster-upgrade",
   "metadata": {},
   "outputs": [
    {
     "data": {
      "text/plain": [
       "DatetimeIndex(['2018-12-19 01:00:00', '2018-12-19 02:00:00',\n",
       "               '2018-12-19 03:00:00', '2018-12-19 04:00:00',\n",
       "               '2018-12-19 05:00:00', '2018-12-19 06:00:00',\n",
       "               '2018-12-19 07:00:00', '2018-12-19 08:00:00',\n",
       "               '2018-12-19 09:00:00', '2018-12-19 10:00:00',\n",
       "               ...\n",
       "               '2020-06-17 14:00:00', '2020-06-17 15:00:00',\n",
       "               '2020-06-17 16:00:00', '2020-06-17 17:00:00',\n",
       "               '2020-06-17 18:00:00', '2020-06-17 19:00:00',\n",
       "               '2020-06-17 20:00:00', '2020-06-17 21:00:00',\n",
       "               '2020-06-17 22:00:00', '2020-06-17 23:00:00'],\n",
       "              dtype='datetime64[ns]', name='date', length=8610, freq=None)"
      ]
     },
     "execution_count": 12,
     "metadata": {},
     "output_type": "execute_result"
    }
   ],
   "source": [
    "candle_data[\"MUF\"].index"
   ]
  },
  {
   "cell_type": "code",
   "execution_count": null,
   "id": "centered-research",
   "metadata": {},
   "outputs": [],
   "source": []
  },
  {
   "cell_type": "code",
   "execution_count": null,
   "id": "armed-domestic",
   "metadata": {},
   "outputs": [],
   "source": []
  },
  {
   "cell_type": "code",
   "execution_count": 13,
   "id": "rapid-stuff",
   "metadata": {},
   "outputs": [],
   "source": [
    "df = candle_data[\"MUF\"]"
   ]
  },
  {
   "cell_type": "code",
   "execution_count": 14,
   "id": "local-shift",
   "metadata": {},
   "outputs": [
    {
     "data": {
      "text/plain": [
       "MultiIndex([('close', 'mean'),\n",
       "            ('close',  'min'),\n",
       "            ('close',  'max'),\n",
       "            (  'max', 'mean'),\n",
       "            (  'max',  'min'),\n",
       "            (  'max',  'max'),\n",
       "            (  'min', 'mean'),\n",
       "            (  'min',  'min'),\n",
       "            (  'min',  'max'),\n",
       "            ( 'open', 'mean'),\n",
       "            ( 'open',  'min'),\n",
       "            ( 'open',  'max')],\n",
       "           )"
      ]
     },
     "execution_count": 14,
     "metadata": {},
     "output_type": "execute_result"
    }
   ],
   "source": [
    "df.resample(\"D\").aggregate([\"mean\", \"min\", \"max\"]).columns"
   ]
  },
  {
   "cell_type": "code",
   "execution_count": 15,
   "id": "acoustic-democracy",
   "metadata": {},
   "outputs": [],
   "source": [
    "a = df.resample(\"D\").aggregate([\"mean\", \"min\", \"max\"])"
   ]
  },
  {
   "cell_type": "code",
   "execution_count": 16,
   "id": "selective-banking",
   "metadata": {},
   "outputs": [
    {
     "data": {
      "text/plain": [
       "date\n",
       "2018-12-19    113.396957\n",
       "2018-12-20    113.765000\n",
       "2018-12-21           NaN\n",
       "2018-12-22           NaN\n",
       "2018-12-23    113.710000\n",
       "                 ...    \n",
       "2020-06-13           NaN\n",
       "2020-06-14    122.370000\n",
       "2020-06-15    122.301250\n",
       "2020-06-16    121.702083\n",
       "2020-06-17    121.549583\n",
       "Freq: D, Name: (close, mean), Length: 547, dtype: float64"
      ]
     },
     "execution_count": 16,
     "metadata": {},
     "output_type": "execute_result"
    }
   ],
   "source": [
    "a[\"close\", \"mean\"]"
   ]
  },
  {
   "cell_type": "code",
   "execution_count": 17,
   "id": "junior-stand",
   "metadata": {},
   "outputs": [
    {
     "data": {
      "text/plain": [
       "array([113.49, 113.73,    nan,    nan, 113.71,    nan,    nan, 113.71,\n",
       "          nan,    nan,    nan,    nan,    nan,    nan, 113.63,    nan,\n",
       "          nan,    nan,    nan,    nan, 110.94, 110.85, 109.94, 109.1 ,\n",
       "          nan, 109.06, 109.43, 109.38, 109.83, 109.99,    nan,    nan,\n",
       "       110.01, 109.89, 110.21, 110.47, 110.43, 109.49,    nan, 109.7 ,\n",
       "       109.98, 110.25, 110.25, 110.34, 110.92,    nan, 111.23, 111.23,\n",
       "       110.67, 110.63, 111.1 , 111.75,    nan,    nan, 112.12, 112.14,\n",
       "       112.36, 112.75, 112.68,    nan, 111.64, 111.8 , 111.92, 112.36,\n",
       "       112.49, 112.56,    nan, 113.72, 113.33, 113.12, 113.07, 113.13,\n",
       "       113.3 ,    nan, 112.72, 113.18, 113.46, 112.34, 111.66, 112.07,\n",
       "          nan, 112.21, 112.41, 112.67, 110.89, 110.83, 110.98,    nan,\n",
       "       111.7 , 111.74, 111.41, 111.11, 110.85, 111.07,    nan, 111.06,\n",
       "       110.94, 111.53, 112.2 , 112.1 , 112.28,    nan, 112.33, 112.38,\n",
       "       112.2 , 111.52, 110.73, 111.07,    nan, 110.93, 111.42, 110.09,\n",
       "       110.03, 110.26, 110.26,    nan, 110.23, 110.27, 110.23, 109.73,\n",
       "       108.8 , 108.71,    nan, 108.92, 108.88, 108.52, 107.97, 111.21,\n",
       "       111.9 ,    nan, 112.15, 112.15, 112.29, 112.33, 112.48, 112.25,\n",
       "          nan, 111.44, 110.85, 111.71, 109.76, 107.97, 110.65,    nan,\n",
       "       112.67, 112.44, 113.67, 114.12, 114.13, 113.74,    nan, 113.2 ,\n",
       "       113.55, 113.61, 115.18, 113.63, 114.05,    nan, 116.42, 116.42,\n",
       "       116.35, 116.68, 116.41, 117.06,    nan, 117.38, 117.38, 118.16,\n",
       "       118.56, 119.22,    nan,    nan, 119.37, 119.37, 119.4 , 119.69,\n",
       "       119.98, 119.96,    nan, 119.74, 119.79, 118.72, 120.72, 120.12,\n",
       "       116.52,    nan, 113.3 , 115.03, 112.03, 112.21, 114.65, 112.79,\n",
       "          nan, 115.23, 115.68, 118.09, 117.63, 117.7 , 117.56,    nan,\n",
       "       117.93, 117.91, 118.16, 118.1 , 118.04, 118.22,    nan, 118.42,\n",
       "       118.64, 118.16, 116.2 , 115.8 , 119.13,    nan, 118.58, 118.72,\n",
       "       119.46, 118.19, 117.37, 119.42,    nan, 119.02, 119.2 , 119.29,\n",
       "       119.08, 117.71, 119.27,    nan, 120.39, 120.39, 120.39, 120.47,\n",
       "       120.67, 120.97,    nan, 119.12, 118.81, 119.36, 120.65, 120.08,\n",
       "       122.62,    nan, 122.73, 122.72, 122.53, 122.99, 123.18, 123.07,\n",
       "          nan, 122.4 , 122.17, 124.05, 123.97, 123.8 , 123.54,    nan,\n",
       "       123.58, 123.41, 123.04, 125.26, 126.12, 126.39,    nan, 126.12,\n",
       "       126.02, 126.52, 126.56, 125.46, 127.28,    nan, 127.63, 127.63,\n",
       "       127.07, 127.73, 127.27, 127.79,    nan, 128.35, 128.13, 128.62,\n",
       "       128.  , 129.59, 129.41,    nan, 129.35, 129.31, 129.46, 129.91,\n",
       "       130.35, 130.52,    nan, 130.61, 130.64, 131.1 , 131.1 , 131.1 ,\n",
       "       131.71,    nan, 131.74, 131.88, 132.45, 129.47, 129.01, 131.57,\n",
       "          nan, 131.67, 131.64, 131.13, 131.62, 131.62, 132.  ,    nan,\n",
       "       131.69, 131.88, 131.52, 132.3 , 133.37, 133.37,    nan, 133.42,\n",
       "       133.47, 133.58, 133.55, 134.38, 135.85,    nan, 136.19, 136.19,\n",
       "       136.29, 135.99, 136.21, 136.18,    nan, 135.81, 136.01, 135.55,\n",
       "       136.4 , 136.33, 135.16,    nan, 135.5 , 135.73, 133.85, 135.25,\n",
       "       130.72, 131.17,    nan, 130.85, 130.48, 134.17, 134.27, 129.42,\n",
       "       127.45,    nan, 125.8 , 126.33, 127.19, 128.25, 126.42, 120.71,\n",
       "          nan, 123.29, 122.9 , 124.53, 129.28, 129.52, 129.76,    nan,\n",
       "       129.34, 129.81, 129.73, 129.59, 129.47, 129.09,    nan, 128.82,\n",
       "       128.68, 128.9 , 129.09, 129.03, 130.01,    nan, 130.78, 130.78,\n",
       "       130.64, 129.97, 131.26, 131.39,    nan, 131.38, 131.76, 131.74,\n",
       "       131.46, 130.9 , 130.78,    nan, 130.68, 130.7 , 130.95, 131.48,\n",
       "       131.43, 131.52,    nan, 131.61, 131.64, 130.21, 131.22, 130.37,\n",
       "       130.15,    nan, 129.75, 129.94, 129.83, 130.32, 130.45, 130.13,\n",
       "          nan, 129.85, 129.97, 129.21, 128.95, 129.  , 128.4 ,    nan,\n",
       "       129.19, 129.2 , 128.65, 128.29, 128.77, 128.45,    nan, 128.2 ,\n",
       "       128.22, 129.25, 128.59, 128.52, 128.46,    nan, 125.02, 125.58,\n",
       "       127.85, 128.12, 126.87, 126.53,    nan, 120.54, 119.9 , 119.9 ,\n",
       "       119.9 , 120.19,    nan,    nan, 119.9 , 119.9 , 119.9 , 120.26,\n",
       "       120.26,    nan,    nan, 120.28, 120.28, 120.24, 118.7 , 118.36,\n",
       "          nan,    nan, 118.3 , 118.46, 119.74, 119.58, 119.91,    nan,\n",
       "          nan, 119.66, 119.98, 120.11, 119.44, 119.51,    nan,    nan,\n",
       "       119.46, 119.56, 119.29, 119.56, 119.86,    nan,    nan, 118.95,\n",
       "       119.1 , 119.21, 119.21, 119.63, 119.63,    nan, 119.03, 119.26,\n",
       "       119.09, 118.71, 118.55, 119.06,    nan, 119.21, 118.13, 118.33,\n",
       "       118.39, 118.75,    nan,    nan, 119.66, 119.79, 119.95, 119.82,\n",
       "       120.15, 120.11,    nan, 120.26, 120.47, 120.69, 120.58, 120.44,\n",
       "          nan,    nan, 120.3 , 120.46, 120.49, 121.17, 120.59, 120.8 ,\n",
       "          nan, 120.62, 120.67, 120.85, 120.87, 120.64, 121.6 ,    nan,\n",
       "       121.3 , 121.72, 122.01, 122.11, 122.37,    nan,    nan, 122.37,\n",
       "       122.37, 121.88, 121.6 ])"
      ]
     },
     "execution_count": 17,
     "metadata": {},
     "output_type": "execute_result"
    }
   ],
   "source": [
    "df.resample(\"D\").aggregate([\"first\", \"last\",\"min\", \"max\"])[\"close\", \"first\"].values"
   ]
  },
  {
   "cell_type": "code",
   "execution_count": 18,
   "id": "competitive-legislature",
   "metadata": {},
   "outputs": [],
   "source": [
    "def group_dates_df(df):\n",
    "    df = df.resample(\"D\").aggregate([\"first\", \"last\",\"min\", \"max\"])\n",
    "    newdf = pd.DataFrame({\"date\": df.index}).set_index(\"date\")\n",
    "    newdf[\"close\"] = df[\"close\", \"last\"].values\n",
    "    newdf[\"low\"] = df[\"min\", \"min\"].values\n",
    "    newdf[\"high\"] = df[\"max\", \"max\"].values\n",
    "    newdf[\"open\"] = df[\"open\", \"first\"].values\n",
    "    return newdf"
   ]
  },
  {
   "cell_type": "code",
   "execution_count": 19,
   "id": "residential-baseball",
   "metadata": {},
   "outputs": [
    {
     "name": "stderr",
     "output_type": "stream",
     "text": [
      "100%|██████████| 96/96 [00:09<00:00, 10.37it/s]\n"
     ]
    }
   ],
   "source": [
    "candle_data = {k: group_dates_df(v) for k,v in tqdm(candle_data.items())}"
   ]
  },
  {
   "cell_type": "code",
   "execution_count": 20,
   "id": "ideal-calendar",
   "metadata": {},
   "outputs": [
    {
     "data": {
      "text/plain": [
       "dict_keys(['ZVQ', 'NCT', 'YAX', 'OOS', 'GFJ', 'FIR', 'USX', 'FSK', 'TMF', 'TDD', 'HEO', 'ULT', 'CSB', 'CIS', 'UYZ', 'TRO', 'YEC', 'ERO', 'ZAB', 'HZY', 'MUF', 'ZTY', 'PUL', 'JHI', 'LWE', 'SEH', 'AWW', 'GRI', 'REU', 'ACY', 'MMY', 'VRT', 'ZXW', 'LUG', 'VVC', 'CBY', 'WFJ', 'PPT', 'PEW', 'MCA', 'IDT', 'FFV', 'LWK', 'ZCD', 'ULI', 'AUX', 'DZF', 'NWO', 'BAX', 'HCC', 'JNE', 'JTL', 'UPP', 'WXN', 'XRX', 'UEI', 'LHB', 'NYD', 'BGN', 'SHC', 'THA', 'TKT', 'GRU', 'BFS', 'SKN', 'NVL', 'YFC', 'GGR', 'TER', 'NYP', 'SBY', 'MET', 'SYO', 'HQU', 'BZC', 'OXR', 'EOP', 'ZUJ', 'SKI', 'NSC', 'BSX', 'LEN', 'PME', 'FNM', 'EEY', 'ERQ', 'AZG', 'OJG', 'WWT', 'BOT', 'TXR', 'RAT', 'DIG', 'SRI', 'PHI', 'RWJ'])"
      ]
     },
     "execution_count": 20,
     "metadata": {},
     "output_type": "execute_result"
    }
   ],
   "source": [
    "candle_data.keys()"
   ]
  },
  {
   "cell_type": "code",
   "execution_count": 21,
   "id": "universal-still",
   "metadata": {},
   "outputs": [
    {
     "data": {
      "text/html": [
       "<div>\n",
       "<style scoped>\n",
       "    .dataframe tbody tr th:only-of-type {\n",
       "        vertical-align: middle;\n",
       "    }\n",
       "\n",
       "    .dataframe tbody tr th {\n",
       "        vertical-align: top;\n",
       "    }\n",
       "\n",
       "    .dataframe thead th {\n",
       "        text-align: right;\n",
       "    }\n",
       "</style>\n",
       "<table border=\"1\" class=\"dataframe\">\n",
       "  <thead>\n",
       "    <tr style=\"text-align: right;\">\n",
       "      <th></th>\n",
       "      <th>close</th>\n",
       "      <th>low</th>\n",
       "      <th>high</th>\n",
       "      <th>open</th>\n",
       "    </tr>\n",
       "    <tr>\n",
       "      <th>date</th>\n",
       "      <th></th>\n",
       "      <th></th>\n",
       "      <th></th>\n",
       "      <th></th>\n",
       "    </tr>\n",
       "  </thead>\n",
       "  <tbody>\n",
       "    <tr>\n",
       "      <th>2018-12-19</th>\n",
       "      <td>531.91</td>\n",
       "      <td>517.72</td>\n",
       "      <td>534.25</td>\n",
       "      <td>518.47</td>\n",
       "    </tr>\n",
       "    <tr>\n",
       "      <th>2018-12-20</th>\n",
       "      <td>531.91</td>\n",
       "      <td>531.91</td>\n",
       "      <td>531.91</td>\n",
       "      <td>531.91</td>\n",
       "    </tr>\n",
       "    <tr>\n",
       "      <th>2018-12-21</th>\n",
       "      <td>NaN</td>\n",
       "      <td>NaN</td>\n",
       "      <td>NaN</td>\n",
       "      <td>NaN</td>\n",
       "    </tr>\n",
       "    <tr>\n",
       "      <th>2018-12-22</th>\n",
       "      <td>NaN</td>\n",
       "      <td>NaN</td>\n",
       "      <td>NaN</td>\n",
       "      <td>NaN</td>\n",
       "    </tr>\n",
       "    <tr>\n",
       "      <th>2018-12-23</th>\n",
       "      <td>NaN</td>\n",
       "      <td>NaN</td>\n",
       "      <td>NaN</td>\n",
       "      <td>NaN</td>\n",
       "    </tr>\n",
       "    <tr>\n",
       "      <th>...</th>\n",
       "      <td>...</td>\n",
       "      <td>...</td>\n",
       "      <td>...</td>\n",
       "      <td>...</td>\n",
       "    </tr>\n",
       "    <tr>\n",
       "      <th>2020-06-13</th>\n",
       "      <td>NaN</td>\n",
       "      <td>NaN</td>\n",
       "      <td>NaN</td>\n",
       "      <td>NaN</td>\n",
       "    </tr>\n",
       "    <tr>\n",
       "      <th>2020-06-14</th>\n",
       "      <td>565.39</td>\n",
       "      <td>565.39</td>\n",
       "      <td>565.39</td>\n",
       "      <td>565.39</td>\n",
       "    </tr>\n",
       "    <tr>\n",
       "      <th>2020-06-15</th>\n",
       "      <td>570.35</td>\n",
       "      <td>564.87</td>\n",
       "      <td>570.48</td>\n",
       "      <td>565.39</td>\n",
       "    </tr>\n",
       "    <tr>\n",
       "      <th>2020-06-16</th>\n",
       "      <td>570.35</td>\n",
       "      <td>570.35</td>\n",
       "      <td>570.35</td>\n",
       "      <td>570.35</td>\n",
       "    </tr>\n",
       "    <tr>\n",
       "      <th>2020-06-17</th>\n",
       "      <td>570.35</td>\n",
       "      <td>570.35</td>\n",
       "      <td>570.35</td>\n",
       "      <td>570.35</td>\n",
       "    </tr>\n",
       "  </tbody>\n",
       "</table>\n",
       "<p>547 rows × 4 columns</p>\n",
       "</div>"
      ],
      "text/plain": [
       "             close     low    high    open\n",
       "date                                      \n",
       "2018-12-19  531.91  517.72  534.25  518.47\n",
       "2018-12-20  531.91  531.91  531.91  531.91\n",
       "2018-12-21     NaN     NaN     NaN     NaN\n",
       "2018-12-22     NaN     NaN     NaN     NaN\n",
       "2018-12-23     NaN     NaN     NaN     NaN\n",
       "...            ...     ...     ...     ...\n",
       "2020-06-13     NaN     NaN     NaN     NaN\n",
       "2020-06-14  565.39  565.39  565.39  565.39\n",
       "2020-06-15  570.35  564.87  570.48  565.39\n",
       "2020-06-16  570.35  570.35  570.35  570.35\n",
       "2020-06-17  570.35  570.35  570.35  570.35\n",
       "\n",
       "[547 rows x 4 columns]"
      ]
     },
     "execution_count": 21,
     "metadata": {},
     "output_type": "execute_result"
    }
   ],
   "source": [
    "candle_data['ZVQ']"
   ]
  },
  {
   "cell_type": "code",
   "execution_count": 22,
   "id": "distributed-republican",
   "metadata": {},
   "outputs": [],
   "source": [
    "def create_prices_df(dfs_dict):\n",
    "    dfs = []\n",
    "    for asset in tqdm(dfs_dict):\n",
    "        dfs_dict[asset].columns = [f\"{asset}_{col}\" if col != \"date\" else col for col in dfs_dict[asset].columns ]\n",
    "        dfs.append(dfs_dict[asset][f\"{asset}_close\"])\n",
    "    return reduce(lambda left, right: pd.merge(left, right, how=\"outer\", on=\"date\"), dfs)"
   ]
  },
  {
   "cell_type": "code",
   "execution_count": 23,
   "id": "functional-atmosphere",
   "metadata": {},
   "outputs": [
    {
     "name": "stderr",
     "output_type": "stream",
     "text": [
      "100%|██████████| 96/96 [00:00<00:00, 1724.80it/s]\n"
     ]
    }
   ],
   "source": [
    "prices_df = create_prices_df(candle_data)"
   ]
  },
  {
   "cell_type": "code",
   "execution_count": 24,
   "id": "banned-future",
   "metadata": {},
   "outputs": [
    {
     "data": {
      "text/html": [
       "<div>\n",
       "<style scoped>\n",
       "    .dataframe tbody tr th:only-of-type {\n",
       "        vertical-align: middle;\n",
       "    }\n",
       "\n",
       "    .dataframe tbody tr th {\n",
       "        vertical-align: top;\n",
       "    }\n",
       "\n",
       "    .dataframe thead th {\n",
       "        text-align: right;\n",
       "    }\n",
       "</style>\n",
       "<table border=\"1\" class=\"dataframe\">\n",
       "  <thead>\n",
       "    <tr style=\"text-align: right;\">\n",
       "      <th></th>\n",
       "      <th>ZVQ_close</th>\n",
       "      <th>NCT_close</th>\n",
       "      <th>YAX_close</th>\n",
       "      <th>OOS_close</th>\n",
       "      <th>GFJ_close</th>\n",
       "      <th>FIR_close</th>\n",
       "      <th>USX_close</th>\n",
       "      <th>FSK_close</th>\n",
       "      <th>TMF_close</th>\n",
       "      <th>TDD_close</th>\n",
       "      <th>...</th>\n",
       "      <th>AZG_close</th>\n",
       "      <th>OJG_close</th>\n",
       "      <th>WWT_close</th>\n",
       "      <th>BOT_close</th>\n",
       "      <th>TXR_close</th>\n",
       "      <th>RAT_close</th>\n",
       "      <th>DIG_close</th>\n",
       "      <th>SRI_close</th>\n",
       "      <th>PHI_close</th>\n",
       "      <th>RWJ_close</th>\n",
       "    </tr>\n",
       "    <tr>\n",
       "      <th>date</th>\n",
       "      <th></th>\n",
       "      <th></th>\n",
       "      <th></th>\n",
       "      <th></th>\n",
       "      <th></th>\n",
       "      <th></th>\n",
       "      <th></th>\n",
       "      <th></th>\n",
       "      <th></th>\n",
       "      <th></th>\n",
       "      <th></th>\n",
       "      <th></th>\n",
       "      <th></th>\n",
       "      <th></th>\n",
       "      <th></th>\n",
       "      <th></th>\n",
       "      <th></th>\n",
       "      <th></th>\n",
       "      <th></th>\n",
       "      <th></th>\n",
       "      <th></th>\n",
       "    </tr>\n",
       "  </thead>\n",
       "  <tbody>\n",
       "    <tr>\n",
       "      <th>2018-12-19</th>\n",
       "      <td>531.91</td>\n",
       "      <td>119.05</td>\n",
       "      <td>NaN</td>\n",
       "      <td>NaN</td>\n",
       "      <td>NaN</td>\n",
       "      <td>121.61</td>\n",
       "      <td>NaN</td>\n",
       "      <td>154.46</td>\n",
       "      <td>NaN</td>\n",
       "      <td>116.14</td>\n",
       "      <td>...</td>\n",
       "      <td>130.83</td>\n",
       "      <td>NaN</td>\n",
       "      <td>130.76</td>\n",
       "      <td>138.44</td>\n",
       "      <td>142.04</td>\n",
       "      <td>140.28</td>\n",
       "      <td>NaN</td>\n",
       "      <td>92.24</td>\n",
       "      <td>110.98</td>\n",
       "      <td>NaN</td>\n",
       "    </tr>\n",
       "    <tr>\n",
       "      <th>2018-12-20</th>\n",
       "      <td>531.91</td>\n",
       "      <td>119.47</td>\n",
       "      <td>NaN</td>\n",
       "      <td>NaN</td>\n",
       "      <td>NaN</td>\n",
       "      <td>121.61</td>\n",
       "      <td>NaN</td>\n",
       "      <td>156.63</td>\n",
       "      <td>NaN</td>\n",
       "      <td>117.09</td>\n",
       "      <td>...</td>\n",
       "      <td>131.67</td>\n",
       "      <td>NaN</td>\n",
       "      <td>132.69</td>\n",
       "      <td>140.03</td>\n",
       "      <td>141.87</td>\n",
       "      <td>140.28</td>\n",
       "      <td>NaN</td>\n",
       "      <td>92.18</td>\n",
       "      <td>110.98</td>\n",
       "      <td>NaN</td>\n",
       "    </tr>\n",
       "    <tr>\n",
       "      <th>2018-12-21</th>\n",
       "      <td>NaN</td>\n",
       "      <td>NaN</td>\n",
       "      <td>NaN</td>\n",
       "      <td>NaN</td>\n",
       "      <td>NaN</td>\n",
       "      <td>120.94</td>\n",
       "      <td>NaN</td>\n",
       "      <td>154.53</td>\n",
       "      <td>NaN</td>\n",
       "      <td>NaN</td>\n",
       "      <td>...</td>\n",
       "      <td>131.62</td>\n",
       "      <td>NaN</td>\n",
       "      <td>133.27</td>\n",
       "      <td>NaN</td>\n",
       "      <td>NaN</td>\n",
       "      <td>140.28</td>\n",
       "      <td>NaN</td>\n",
       "      <td>NaN</td>\n",
       "      <td>NaN</td>\n",
       "      <td>NaN</td>\n",
       "    </tr>\n",
       "    <tr>\n",
       "      <th>2018-12-22</th>\n",
       "      <td>NaN</td>\n",
       "      <td>NaN</td>\n",
       "      <td>NaN</td>\n",
       "      <td>NaN</td>\n",
       "      <td>NaN</td>\n",
       "      <td>NaN</td>\n",
       "      <td>NaN</td>\n",
       "      <td>NaN</td>\n",
       "      <td>NaN</td>\n",
       "      <td>NaN</td>\n",
       "      <td>...</td>\n",
       "      <td>NaN</td>\n",
       "      <td>NaN</td>\n",
       "      <td>NaN</td>\n",
       "      <td>NaN</td>\n",
       "      <td>NaN</td>\n",
       "      <td>NaN</td>\n",
       "      <td>NaN</td>\n",
       "      <td>NaN</td>\n",
       "      <td>NaN</td>\n",
       "      <td>NaN</td>\n",
       "    </tr>\n",
       "    <tr>\n",
       "      <th>2018-12-23</th>\n",
       "      <td>NaN</td>\n",
       "      <td>119.47</td>\n",
       "      <td>NaN</td>\n",
       "      <td>NaN</td>\n",
       "      <td>NaN</td>\n",
       "      <td>121.37</td>\n",
       "      <td>NaN</td>\n",
       "      <td>155.15</td>\n",
       "      <td>NaN</td>\n",
       "      <td>NaN</td>\n",
       "      <td>...</td>\n",
       "      <td>NaN</td>\n",
       "      <td>NaN</td>\n",
       "      <td>133.30</td>\n",
       "      <td>140.69</td>\n",
       "      <td>141.84</td>\n",
       "      <td>NaN</td>\n",
       "      <td>NaN</td>\n",
       "      <td>NaN</td>\n",
       "      <td>110.98</td>\n",
       "      <td>NaN</td>\n",
       "    </tr>\n",
       "  </tbody>\n",
       "</table>\n",
       "<p>5 rows × 96 columns</p>\n",
       "</div>"
      ],
      "text/plain": [
       "            ZVQ_close  NCT_close  YAX_close  OOS_close  GFJ_close  FIR_close  \\\n",
       "date                                                                           \n",
       "2018-12-19     531.91     119.05        NaN        NaN        NaN     121.61   \n",
       "2018-12-20     531.91     119.47        NaN        NaN        NaN     121.61   \n",
       "2018-12-21        NaN        NaN        NaN        NaN        NaN     120.94   \n",
       "2018-12-22        NaN        NaN        NaN        NaN        NaN        NaN   \n",
       "2018-12-23        NaN     119.47        NaN        NaN        NaN     121.37   \n",
       "\n",
       "            USX_close  FSK_close  TMF_close  TDD_close  ...  AZG_close  \\\n",
       "date                                                    ...              \n",
       "2018-12-19        NaN     154.46        NaN     116.14  ...     130.83   \n",
       "2018-12-20        NaN     156.63        NaN     117.09  ...     131.67   \n",
       "2018-12-21        NaN     154.53        NaN        NaN  ...     131.62   \n",
       "2018-12-22        NaN        NaN        NaN        NaN  ...        NaN   \n",
       "2018-12-23        NaN     155.15        NaN        NaN  ...        NaN   \n",
       "\n",
       "            OJG_close  WWT_close  BOT_close  TXR_close  RAT_close  DIG_close  \\\n",
       "date                                                                           \n",
       "2018-12-19        NaN     130.76     138.44     142.04     140.28        NaN   \n",
       "2018-12-20        NaN     132.69     140.03     141.87     140.28        NaN   \n",
       "2018-12-21        NaN     133.27        NaN        NaN     140.28        NaN   \n",
       "2018-12-22        NaN        NaN        NaN        NaN        NaN        NaN   \n",
       "2018-12-23        NaN     133.30     140.69     141.84        NaN        NaN   \n",
       "\n",
       "            SRI_close  PHI_close  RWJ_close  \n",
       "date                                         \n",
       "2018-12-19      92.24     110.98        NaN  \n",
       "2018-12-20      92.18     110.98        NaN  \n",
       "2018-12-21        NaN        NaN        NaN  \n",
       "2018-12-22        NaN        NaN        NaN  \n",
       "2018-12-23        NaN     110.98        NaN  \n",
       "\n",
       "[5 rows x 96 columns]"
      ]
     },
     "execution_count": 24,
     "metadata": {},
     "output_type": "execute_result"
    }
   ],
   "source": [
    "prices_df.head()"
   ]
  },
  {
   "cell_type": "code",
   "execution_count": 34,
   "id": "after-receipt",
   "metadata": {},
   "outputs": [],
   "source": [
    "from pypfopt.expected_returns import mean_historical_return\n",
    "from pypfopt.risk_models import CovarianceShrinkage\n",
    "from pypfopt import plotting"
   ]
  },
  {
   "cell_type": "code",
   "execution_count": 35,
   "id": "organizational-triple",
   "metadata": {},
   "outputs": [],
   "source": [
    "#!pip install matplotlib\n"
   ]
  },
  {
   "cell_type": "code",
   "execution_count": 27,
   "id": "allied-responsibility",
   "metadata": {},
   "outputs": [],
   "source": [
    "mu = mean_historical_return(prices_df)\n",
    "S = CovarianceShrinkage(prices_df).ledoit_wolf()\n"
   ]
  },
  {
   "cell_type": "code",
   "execution_count": 28,
   "id": "sublime-premises",
   "metadata": {},
   "outputs": [],
   "source": [
    "from pypfopt.efficient_frontier import EfficientFrontier\n",
    "\n",
    "ef = EfficientFrontier(mu, S)\n",
    "weights = ef.max_sharpe()\n"
   ]
  },
  {
   "cell_type": "code",
   "execution_count": 29,
   "id": "competitive-bride",
   "metadata": {},
   "outputs": [
    {
     "name": "stdout",
     "output_type": "stream",
     "text": [
      "OrderedDict([('ZVQ_close', 0.00916), ('NCT_close', 0.00982), ('YAX_close', 0.04651), ('OOS_close', 0.00476), ('GFJ_close', 0.01321), ('FIR_close', 0.01499), ('USX_close', 0.02027), ('FSK_close', 0.0), ('TMF_close', 0.02949), ('TDD_close', 0.0075), ('HEO_close', 0.0139), ('ULT_close', 0.03112), ('CSB_close', 0.00182), ('CIS_close', 0.03518), ('UYZ_close', 0.01889), ('TRO_close', 0.01609), ('YEC_close', 0.0), ('ERO_close', 0.0), ('ZAB_close', 0.00771), ('HZY_close', 0.0), ('MUF_close', 0.0), ('ZTY_close', 0.0), ('PUL_close', 0.01393), ('JHI_close', 0.01554), ('LWE_close', 0.00309), ('SEH_close', 0.00505), ('AWW_close', 0.02446), ('GRI_close', 0.00501), ('REU_close', 0.0), ('ACY_close', 0.0), ('MMY_close', 0.0), ('VRT_close', 0.00482), ('ZXW_close', 0.0095), ('LUG_close', 0.01741), ('VVC_close', 0.0), ('CBY_close', 0.0127), ('WFJ_close', 0.0024), ('PPT_close', 0.0), ('PEW_close', 0.00644), ('MCA_close', 0.01258), ('IDT_close', 0.0), ('FFV_close', 0.01825), ('LWK_close', 0.01926), ('ZCD_close', 0.019), ('ULI_close', 0.00271), ('AUX_close', 0.0), ('DZF_close', 0.0), ('NWO_close', 0.00337), ('BAX_close', 0.01088), ('HCC_close', 0.02206), ('JNE_close', 0.00224), ('JTL_close', 0.06998), ('UPP_close', 0.01793), ('WXN_close', 0.0), ('XRX_close', 0.0), ('UEI_close', 0.00329), ('LHB_close', 0.01504), ('NYD_close', 0.02425), ('BGN_close', 0.00348), ('SHC_close', 0.0), ('THA_close', 0.01764), ('TKT_close', 0.01374), ('GRU_close', 0.0), ('BFS_close', 0.0), ('SKN_close', 0.01948), ('NVL_close', 0.01912), ('YFC_close', 0.05095), ('GGR_close', 0.01105), ('TER_close', 0.0), ('NYP_close', 0.0), ('SBY_close', 0.0), ('MET_close', 0.00873), ('SYO_close', 0.01229), ('HQU_close', 0.0), ('BZC_close', 0.01922), ('OXR_close', 0.03842), ('EOP_close', 0.0), ('ZUJ_close', 0.02324), ('SKI_close', 0.0), ('NSC_close', 0.00275), ('BSX_close', 0.00052), ('LEN_close', 0.0), ('PME_close', 0.00233), ('FNM_close', 0.02231), ('EEY_close', 0.0), ('ERQ_close', 0.00079), ('AZG_close', 0.00335), ('OJG_close', 0.02232), ('WWT_close', 0.00347), ('BOT_close', 0.0), ('TXR_close', 0.00952), ('RAT_close', 0.0), ('DIG_close', 0.01996), ('SRI_close', 0.02012), ('PHI_close', 0.01357), ('RWJ_close', 0.0)])\n"
     ]
    }
   ],
   "source": [
    "cleaned_weights = ef.clean_weights()\n",
    "#ef.save_weights_to_file(\"weights.txt\")  # saves to file\n",
    "print(cleaned_weights)"
   ]
  },
  {
   "cell_type": "code",
   "execution_count": 49,
   "id": "dirty-farming",
   "metadata": {},
   "outputs": [
    {
     "data": {
      "text/plain": [
       "0.9999800000000002"
      ]
     },
     "execution_count": 49,
     "metadata": {},
     "output_type": "execute_result"
    }
   ],
   "source": [
    "sum(cleaned_weights.values())"
   ]
  },
  {
   "cell_type": "code",
   "execution_count": 30,
   "id": "happy-doubt",
   "metadata": {},
   "outputs": [
    {
     "name": "stdout",
     "output_type": "stream",
     "text": [
      "Expected annual return: 14.7%\n",
      "Annual volatility: 1.4%\n",
      "Sharpe Ratio: 8.97\n"
     ]
    },
    {
     "data": {
      "text/plain": [
       "(0.1468522661090071, 0.01413972711937935, 8.971337638839467)"
      ]
     },
     "execution_count": 30,
     "metadata": {},
     "output_type": "execute_result"
    }
   ],
   "source": [
    "ef.portfolio_performance(verbose=True)"
   ]
  },
  {
   "cell_type": "code",
   "execution_count": 31,
   "id": "later-swift",
   "metadata": {},
   "outputs": [],
   "source": [
    "#ef = EfficientFrontier(mu, S, weight_bounds=(None, None))"
   ]
  },
  {
   "cell_type": "code",
   "execution_count": 38,
   "id": "incorporate-fellow",
   "metadata": {},
   "outputs": [],
   "source": [
    "import numpy as np\n",
    "#risk_range = np.linspace(0.10, 0.40, 100)\n",
    "#ax = plotting.plot_efficient_frontier(ef, ef_param=\"risk\", ef_param_range=risk_range,\n",
    "#                           show_assets=True, showfig=True)\n"
   ]
  },
  {
   "cell_type": "code",
   "execution_count": 39,
   "id": "considerable-concord",
   "metadata": {},
   "outputs": [
    {
     "data": {
      "image/png": "[encoded data removed]",
      "text/plain": [
       "<Figure size 432x288 with 2 Axes>"
      ]
     },
     "metadata": {
      "needs_background": "light"
     },
     "output_type": "display_data"
    },
    {
     "data": {
      "text/plain": [
       "<AxesSubplot:>"
      ]
     },
     "execution_count": 39,
     "metadata": {},
     "output_type": "execute_result"
    }
   ],
   "source": [
    "plotting.plot_covariance(S,submission)"
   ]
  },
  {
   "cell_type": "code",
   "execution_count": 51,
   "id": "equipped-chile",
   "metadata": {},
   "outputs": [],
   "source": [
    "def _fix_weights(weights):\n",
    "    max_weight_asset = list(sorted(weights, key=weights.get, reverse=True))[0]\n",
    "    falta = 1 - sum(weights.values())\n",
    "    weights[max_weight_asset] += falta\n",
    "    assert sum(weights.values()) == 1\n",
    "    return weights"
   ]
  },
  {
   "cell_type": "code",
   "execution_count": 52,
   "id": "efficient-robertson",
   "metadata": {},
   "outputs": [],
   "source": [
    "def get_submission(weights, assets):\n",
    "    weights = _fix_weights(weights)\n",
    "    subm_plantilla = pd.read_csv(\"./submission/submission.csv\")\n",
    "    date = subm_plantilla[\"eod_ts\"]\n",
    "    cols = {\n",
    "        f\"allo_{asset}\": [weights[f\"{asset}_close\"]]*len(date)\n",
    "        for asset in assets\n",
    "    }\n",
    "    return pd.DataFrame({\"eod_ts\": date, **cols})"
   ]
  },
  {
   "cell_type": "code",
   "execution_count": 2,
   "id": "controlled-export",
   "metadata": {},
   "outputs": [
    {
     "ename": "NameError",
     "evalue": "name 'get_submission' is not defined",
     "output_type": "error",
     "traceback": [
      "\u001b[0;31m---------------------------------------------------------------------------\u001b[0m",
      "\u001b[0;31mNameError\u001b[0m                                 Traceback (most recent call last)",
      "\u001b[0;32m<ipython-input-2-e73d35698fa9>\u001b[0m in \u001b[0;36m<module>\u001b[0;34m\u001b[0m\n\u001b[0;32m----> 1\u001b[0;31m \u001b[0msubmission\u001b[0m \u001b[0;34m=\u001b[0m \u001b[0mget_submission\u001b[0m\u001b[0;34m(\u001b[0m\u001b[0mweights\u001b[0m\u001b[0;34m,\u001b[0m \u001b[0mcandle_data\u001b[0m\u001b[0;34m.\u001b[0m\u001b[0mkeys\u001b[0m\u001b[0;34m(\u001b[0m\u001b[0;34m)\u001b[0m\u001b[0;34m)\u001b[0m\u001b[0;34m\u001b[0m\u001b[0;34m\u001b[0m\u001b[0m\n\u001b[0m",
      "\u001b[0;31mNameError\u001b[0m: name 'get_submission' is not defined"
     ]
    }
   ],
   "source": [
    "submission = get_submission(weights, candle_data.keys())"
   ]
  },
  {
   "cell_type": "code",
   "execution_count": 1,
   "id": "first-providence",
   "metadata": {},
   "outputs": [
    {
     "ename": "NameError",
     "evalue": "name 'submission' is not defined",
     "output_type": "error",
     "traceback": [
      "\u001b[0;31m---------------------------------------------------------------------------\u001b[0m",
      "\u001b[0;31mNameError\u001b[0m                                 Traceback (most recent call last)",
      "\u001b[0;32m<ipython-input-1-a254cec5fd92>\u001b[0m in \u001b[0;36m<module>\u001b[0;34m\u001b[0m\n\u001b[0;32m----> 1\u001b[0;31m \u001b[0msubmission\u001b[0m\u001b[0;34m.\u001b[0m\u001b[0mloc\u001b[0m\u001b[0;34m[\u001b[0m\u001b[0;34m:\u001b[0m\u001b[0;34m,\u001b[0m \u001b[0;34m[\u001b[0m\u001b[0mcol\u001b[0m \u001b[0;32mfor\u001b[0m \u001b[0mcol\u001b[0m \u001b[0;32min\u001b[0m \u001b[0msubmission\u001b[0m\u001b[0;34m.\u001b[0m\u001b[0mcolumns\u001b[0m \u001b[0;32mif\u001b[0m \u001b[0mcol\u001b[0m \u001b[0;34m!=\u001b[0m \u001b[0;34m\"eod_ts\"\u001b[0m\u001b[0;34m]\u001b[0m\u001b[0;34m]\u001b[0m\u001b[0;34m.\u001b[0m\u001b[0msum\u001b[0m\u001b[0;34m(\u001b[0m\u001b[0;34m)\u001b[0m\u001b[0;34m\u001b[0m\u001b[0;34m\u001b[0m\u001b[0m\n\u001b[0m",
      "\u001b[0;31mNameError\u001b[0m: name 'submission' is not defined"
     ]
    }
   ],
   "source": []
  },
  {
   "cell_type": "code",
   "execution_count": 55,
   "id": "turkish-telling",
   "metadata": {},
   "outputs": [],
   "source": [
    "submission.to_csv(\"submission_0102.csv\", header=True, index=False)"
   ]
  },
  {
   "cell_type": "code",
   "execution_count": null,
   "id": "straight-despite",
   "metadata": {},
   "outputs": [],
   "source": []
  },
  {
   "cell_type": "code",
   "execution_count": null,
   "id": "endless-thermal",
   "metadata": {},
   "outputs": [],
   "source": []
  }
 ],
 "metadata": {
  "kernelspec": {
   "display_name": "Python [conda env:series_temporales] *",
   "language": "python",
   "name": "conda-env-series_temporales-py"
  },
  "language_info": {
   "codemirror_mode": {
    "name": "ipython",
    "version": 3
   },
   "file_extension": ".py",
   "mimetype": "text/x-python",
   "name": "python",
   "nbconvert_exporter": "python",
   "pygments_lexer": "ipython3",
   "version": "3.7.9"
  }
 },
 "nbformat": 4,
 "nbformat_minor": 5
}
