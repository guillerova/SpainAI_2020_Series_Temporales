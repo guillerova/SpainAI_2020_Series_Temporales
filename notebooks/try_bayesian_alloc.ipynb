{
 "cells": [
  {
   "cell_type": "code",
   "execution_count": 1,
   "id": "prescribed-cemetery",
   "metadata": {},
   "outputs": [],
   "source": [
    "#!pip install tqdm"
   ]
  },
  {
   "cell_type": "code",
   "execution_count": 37,
   "id": "separate-worst",
   "metadata": {},
   "outputs": [],
   "source": [
    "import numpy as np\n",
    "from portfoliolab.bayesian import RobustBayesianAllocation\n",
    "from data_utils import read_all_candles, group_dates_df\n",
    "from submission_utils import general_weights_fixer\n",
    "import pandas as pd\n",
    "from submission_utils import general_weights_fixer, get_submission_markowitz, test_submission"
   ]
  },
  {
   "cell_type": "code",
   "execution_count": 75,
   "id": "manual-incentive",
   "metadata": {},
   "outputs": [
    {
     "name": "stderr",
     "output_type": "stream",
     "text": [
      "Getting candles data for Darwins...: 100%|██████████| 96/96 [00:03<00:00, 29.68it/s]\n"
     ]
    }
   ],
   "source": [
    "candles = read_all_candles(\"trainTimeSeries/trainTimeSeries/TrainCandles\")"
   ]
  },
  {
   "cell_type": "code",
   "execution_count": 76,
   "id": "sudden-croatia",
   "metadata": {},
   "outputs": [
    {
     "data": {
      "text/html": [
       "<div>\n",
       "<style scoped>\n",
       "    .dataframe tbody tr th:only-of-type {\n",
       "        vertical-align: middle;\n",
       "    }\n",
       "\n",
       "    .dataframe tbody tr th {\n",
       "        vertical-align: top;\n",
       "    }\n",
       "\n",
       "    .dataframe thead th {\n",
       "        text-align: right;\n",
       "    }\n",
       "</style>\n",
       "<table border=\"1\" class=\"dataframe\">\n",
       "  <thead>\n",
       "    <tr style=\"text-align: right;\">\n",
       "      <th></th>\n",
       "      <th>close</th>\n",
       "      <th>max</th>\n",
       "      <th>min</th>\n",
       "      <th>open</th>\n",
       "    </tr>\n",
       "    <tr>\n",
       "      <th>date</th>\n",
       "      <th></th>\n",
       "      <th></th>\n",
       "      <th></th>\n",
       "      <th></th>\n",
       "    </tr>\n",
       "  </thead>\n",
       "  <tbody>\n",
       "    <tr>\n",
       "      <th>2018-12-19 01:00:00</th>\n",
       "      <td>519.23</td>\n",
       "      <td>519.95</td>\n",
       "      <td>518.47</td>\n",
       "      <td>518.47</td>\n",
       "    </tr>\n",
       "    <tr>\n",
       "      <th>2018-12-19 02:00:00</th>\n",
       "      <td>519.63</td>\n",
       "      <td>519.93</td>\n",
       "      <td>519.07</td>\n",
       "      <td>519.28</td>\n",
       "    </tr>\n",
       "    <tr>\n",
       "      <th>2018-12-19 03:00:00</th>\n",
       "      <td>519.95</td>\n",
       "      <td>520.72</td>\n",
       "      <td>519.56</td>\n",
       "      <td>519.80</td>\n",
       "    </tr>\n",
       "    <tr>\n",
       "      <th>2018-12-19 04:00:00</th>\n",
       "      <td>520.09</td>\n",
       "      <td>520.39</td>\n",
       "      <td>519.87</td>\n",
       "      <td>519.96</td>\n",
       "    </tr>\n",
       "    <tr>\n",
       "      <th>2018-12-19 05:00:00</th>\n",
       "      <td>520.06</td>\n",
       "      <td>520.12</td>\n",
       "      <td>519.89</td>\n",
       "      <td>520.12</td>\n",
       "    </tr>\n",
       "  </tbody>\n",
       "</table>\n",
       "</div>"
      ],
      "text/plain": [
       "                      close     max     min    open\n",
       "date                                               \n",
       "2018-12-19 01:00:00  519.23  519.95  518.47  518.47\n",
       "2018-12-19 02:00:00  519.63  519.93  519.07  519.28\n",
       "2018-12-19 03:00:00  519.95  520.72  519.56  519.80\n",
       "2018-12-19 04:00:00  520.09  520.39  519.87  519.96\n",
       "2018-12-19 05:00:00  520.06  520.12  519.89  520.12"
      ]
     },
     "execution_count": 76,
     "metadata": {},
     "output_type": "execute_result"
    }
   ],
   "source": [
    "candles[\"ZVQ\"].head()"
   ]
  },
  {
   "cell_type": "code",
   "execution_count": 77,
   "id": "improving-challenge",
   "metadata": {},
   "outputs": [],
   "source": [
    "candles = {k: group_dates_df(v, mincol=\"min\", opencol=\"open\", highcol=\"max\", closecol=\"close\") for k,v in candles.items()}"
   ]
  },
  {
   "cell_type": "code",
   "execution_count": 78,
   "id": "ancient-africa",
   "metadata": {},
   "outputs": [
    {
     "data": {
      "text/html": [
       "<div>\n",
       "<style scoped>\n",
       "    .dataframe tbody tr th:only-of-type {\n",
       "        vertical-align: middle;\n",
       "    }\n",
       "\n",
       "    .dataframe tbody tr th {\n",
       "        vertical-align: top;\n",
       "    }\n",
       "\n",
       "    .dataframe thead th {\n",
       "        text-align: right;\n",
       "    }\n",
       "</style>\n",
       "<table border=\"1\" class=\"dataframe\">\n",
       "  <thead>\n",
       "    <tr style=\"text-align: right;\">\n",
       "      <th></th>\n",
       "      <th>close</th>\n",
       "      <th>low</th>\n",
       "      <th>high</th>\n",
       "      <th>open</th>\n",
       "    </tr>\n",
       "    <tr>\n",
       "      <th>date</th>\n",
       "      <th></th>\n",
       "      <th></th>\n",
       "      <th></th>\n",
       "      <th></th>\n",
       "    </tr>\n",
       "  </thead>\n",
       "  <tbody>\n",
       "    <tr>\n",
       "      <th>2018-12-19</th>\n",
       "      <td>531.91</td>\n",
       "      <td>517.72</td>\n",
       "      <td>534.25</td>\n",
       "      <td>518.47</td>\n",
       "    </tr>\n",
       "    <tr>\n",
       "      <th>2018-12-20</th>\n",
       "      <td>531.91</td>\n",
       "      <td>531.91</td>\n",
       "      <td>531.91</td>\n",
       "      <td>531.91</td>\n",
       "    </tr>\n",
       "    <tr>\n",
       "      <th>2018-12-21</th>\n",
       "      <td>NaN</td>\n",
       "      <td>NaN</td>\n",
       "      <td>NaN</td>\n",
       "      <td>NaN</td>\n",
       "    </tr>\n",
       "    <tr>\n",
       "      <th>2018-12-22</th>\n",
       "      <td>NaN</td>\n",
       "      <td>NaN</td>\n",
       "      <td>NaN</td>\n",
       "      <td>NaN</td>\n",
       "    </tr>\n",
       "    <tr>\n",
       "      <th>2018-12-23</th>\n",
       "      <td>NaN</td>\n",
       "      <td>NaN</td>\n",
       "      <td>NaN</td>\n",
       "      <td>NaN</td>\n",
       "    </tr>\n",
       "  </tbody>\n",
       "</table>\n",
       "</div>"
      ],
      "text/plain": [
       "             close     low    high    open\n",
       "date                                      \n",
       "2018-12-19  531.91  517.72  534.25  518.47\n",
       "2018-12-20  531.91  531.91  531.91  531.91\n",
       "2018-12-21     NaN     NaN     NaN     NaN\n",
       "2018-12-22     NaN     NaN     NaN     NaN\n",
       "2018-12-23     NaN     NaN     NaN     NaN"
      ]
     },
     "execution_count": 78,
     "metadata": {},
     "output_type": "execute_result"
    }
   ],
   "source": [
    "candles[\"ZVQ\"].head()"
   ]
  },
  {
   "cell_type": "code",
   "execution_count": 79,
   "id": "preliminary-memorial",
   "metadata": {},
   "outputs": [],
   "source": [
    "def compute_returns(v):\n",
    "    v = v.fillna(method=\"ffill\") #.fillna(method=\"bfill\")\n",
    "    v[\"returns\"] = (v[\"close\"] - v[\"open\"])/v[\"open\"]\n",
    "    v.drop([col for col in v.columns if col != \"returns\"], axis=1, inplace=True)\n",
    "    return v"
   ]
  },
  {
   "cell_type": "code",
   "execution_count": 80,
   "id": "republican-holocaust",
   "metadata": {},
   "outputs": [],
   "source": [
    "candles = {k:compute_returns(v)[\"returns\"] for k,v in candles.items()} # compute_returns(v)"
   ]
  },
  {
   "cell_type": "code",
   "execution_count": 81,
   "id": "precise-dominican",
   "metadata": {},
   "outputs": [],
   "source": [
    "def filter_candles(candles, remove):\n",
    "    return {k:v for k,v in candles.items() if k not in remove}\n",
    "\n",
    "def process_data(candles, remove=None):\n",
    "    if remove is not None:\n",
    "        candles = filter_candles(candles, remove)\n",
    "    df = pd.concat(candles.values(),keys= candles.keys(),axis=1)\n",
    "    df = df.resample(\"D\").aggregate(\"mean\")\n",
    "    df = df.fillna(method=\"ffill\")#.fillna(method=\"bfill\")\n",
    "    return df"
   ]
  },
  {
   "cell_type": "code",
   "execution_count": 82,
   "id": "ecological-virgin",
   "metadata": {},
   "outputs": [],
   "source": [
    "def get_returns_and_cov(df):\n",
    "    cov = df.cov().values\n",
    "    exp_returns = df.mean().values.reshape(-1, 1)\n",
    "    return cov, exp_returns"
   ]
  },
  {
   "cell_type": "code",
   "execution_count": null,
   "id": "moral-annual",
   "metadata": {},
   "outputs": [],
   "source": []
  },
  {
   "cell_type": "code",
   "execution_count": 83,
   "id": "flying-shame",
   "metadata": {},
   "outputs": [],
   "source": [
    "df = process_data(candles)"
   ]
  },
  {
   "cell_type": "code",
   "execution_count": 84,
   "id": "aggressive-cornell",
   "metadata": {},
   "outputs": [
    {
     "data": {
      "text/html": [
       "<div>\n",
       "<style scoped>\n",
       "    .dataframe tbody tr th:only-of-type {\n",
       "        vertical-align: middle;\n",
       "    }\n",
       "\n",
       "    .dataframe tbody tr th {\n",
       "        vertical-align: top;\n",
       "    }\n",
       "\n",
       "    .dataframe thead th {\n",
       "        text-align: right;\n",
       "    }\n",
       "</style>\n",
       "<table border=\"1\" class=\"dataframe\">\n",
       "  <thead>\n",
       "    <tr style=\"text-align: right;\">\n",
       "      <th></th>\n",
       "      <th>ZVQ</th>\n",
       "      <th>NCT</th>\n",
       "      <th>YAX</th>\n",
       "      <th>OOS</th>\n",
       "      <th>GFJ</th>\n",
       "      <th>FIR</th>\n",
       "      <th>USX</th>\n",
       "      <th>FSK</th>\n",
       "      <th>TMF</th>\n",
       "      <th>TDD</th>\n",
       "      <th>...</th>\n",
       "      <th>AZG</th>\n",
       "      <th>OJG</th>\n",
       "      <th>WWT</th>\n",
       "      <th>BOT</th>\n",
       "      <th>TXR</th>\n",
       "      <th>RAT</th>\n",
       "      <th>DIG</th>\n",
       "      <th>SRI</th>\n",
       "      <th>PHI</th>\n",
       "      <th>RWJ</th>\n",
       "    </tr>\n",
       "    <tr>\n",
       "      <th>date</th>\n",
       "      <th></th>\n",
       "      <th></th>\n",
       "      <th></th>\n",
       "      <th></th>\n",
       "      <th></th>\n",
       "      <th></th>\n",
       "      <th></th>\n",
       "      <th></th>\n",
       "      <th></th>\n",
       "      <th></th>\n",
       "      <th></th>\n",
       "      <th></th>\n",
       "      <th></th>\n",
       "      <th></th>\n",
       "      <th></th>\n",
       "      <th></th>\n",
       "      <th></th>\n",
       "      <th></th>\n",
       "      <th></th>\n",
       "      <th></th>\n",
       "      <th></th>\n",
       "    </tr>\n",
       "  </thead>\n",
       "  <tbody>\n",
       "    <tr>\n",
       "      <th>2018-12-19</th>\n",
       "      <td>0.025922</td>\n",
       "      <td>-0.002931</td>\n",
       "      <td>NaN</td>\n",
       "      <td>NaN</td>\n",
       "      <td>NaN</td>\n",
       "      <td>0.000000</td>\n",
       "      <td>NaN</td>\n",
       "      <td>0.000259</td>\n",
       "      <td>NaN</td>\n",
       "      <td>-0.000516</td>\n",
       "      <td>...</td>\n",
       "      <td>0.006307</td>\n",
       "      <td>NaN</td>\n",
       "      <td>0.004996</td>\n",
       "      <td>-0.028355</td>\n",
       "      <td>0.000916</td>\n",
       "      <td>-0.000712</td>\n",
       "      <td>NaN</td>\n",
       "      <td>0.000868</td>\n",
       "      <td>0.0</td>\n",
       "      <td>NaN</td>\n",
       "    </tr>\n",
       "    <tr>\n",
       "      <th>2018-12-20</th>\n",
       "      <td>0.000000</td>\n",
       "      <td>0.003528</td>\n",
       "      <td>NaN</td>\n",
       "      <td>NaN</td>\n",
       "      <td>NaN</td>\n",
       "      <td>0.000000</td>\n",
       "      <td>NaN</td>\n",
       "      <td>0.014443</td>\n",
       "      <td>NaN</td>\n",
       "      <td>0.008180</td>\n",
       "      <td>...</td>\n",
       "      <td>0.006497</td>\n",
       "      <td>NaN</td>\n",
       "      <td>0.014760</td>\n",
       "      <td>0.011485</td>\n",
       "      <td>-0.001197</td>\n",
       "      <td>0.000000</td>\n",
       "      <td>NaN</td>\n",
       "      <td>-0.000542</td>\n",
       "      <td>0.0</td>\n",
       "      <td>NaN</td>\n",
       "    </tr>\n",
       "    <tr>\n",
       "      <th>2018-12-21</th>\n",
       "      <td>0.000000</td>\n",
       "      <td>0.003528</td>\n",
       "      <td>NaN</td>\n",
       "      <td>NaN</td>\n",
       "      <td>NaN</td>\n",
       "      <td>-0.005509</td>\n",
       "      <td>NaN</td>\n",
       "      <td>-0.013407</td>\n",
       "      <td>NaN</td>\n",
       "      <td>0.008180</td>\n",
       "      <td>...</td>\n",
       "      <td>-0.000380</td>\n",
       "      <td>NaN</td>\n",
       "      <td>0.004371</td>\n",
       "      <td>0.011485</td>\n",
       "      <td>-0.001197</td>\n",
       "      <td>0.000000</td>\n",
       "      <td>NaN</td>\n",
       "      <td>-0.000542</td>\n",
       "      <td>0.0</td>\n",
       "      <td>NaN</td>\n",
       "    </tr>\n",
       "    <tr>\n",
       "      <th>2018-12-22</th>\n",
       "      <td>0.000000</td>\n",
       "      <td>0.003528</td>\n",
       "      <td>NaN</td>\n",
       "      <td>NaN</td>\n",
       "      <td>NaN</td>\n",
       "      <td>-0.005509</td>\n",
       "      <td>NaN</td>\n",
       "      <td>-0.013407</td>\n",
       "      <td>NaN</td>\n",
       "      <td>0.008180</td>\n",
       "      <td>...</td>\n",
       "      <td>-0.000380</td>\n",
       "      <td>NaN</td>\n",
       "      <td>0.004371</td>\n",
       "      <td>0.011485</td>\n",
       "      <td>-0.001197</td>\n",
       "      <td>0.000000</td>\n",
       "      <td>NaN</td>\n",
       "      <td>-0.000542</td>\n",
       "      <td>0.0</td>\n",
       "      <td>NaN</td>\n",
       "    </tr>\n",
       "    <tr>\n",
       "      <th>2018-12-23</th>\n",
       "      <td>0.000000</td>\n",
       "      <td>0.000000</td>\n",
       "      <td>NaN</td>\n",
       "      <td>NaN</td>\n",
       "      <td>NaN</td>\n",
       "      <td>0.003555</td>\n",
       "      <td>NaN</td>\n",
       "      <td>0.004142</td>\n",
       "      <td>NaN</td>\n",
       "      <td>0.008180</td>\n",
       "      <td>...</td>\n",
       "      <td>-0.000380</td>\n",
       "      <td>NaN</td>\n",
       "      <td>0.000375</td>\n",
       "      <td>0.000000</td>\n",
       "      <td>0.000000</td>\n",
       "      <td>0.000000</td>\n",
       "      <td>NaN</td>\n",
       "      <td>-0.000542</td>\n",
       "      <td>0.0</td>\n",
       "      <td>NaN</td>\n",
       "    </tr>\n",
       "  </tbody>\n",
       "</table>\n",
       "<p>5 rows × 96 columns</p>\n",
       "</div>"
      ],
      "text/plain": [
       "                 ZVQ       NCT  YAX  OOS  GFJ       FIR  USX       FSK  TMF  \\\n",
       "date                                                                          \n",
       "2018-12-19  0.025922 -0.002931  NaN  NaN  NaN  0.000000  NaN  0.000259  NaN   \n",
       "2018-12-20  0.000000  0.003528  NaN  NaN  NaN  0.000000  NaN  0.014443  NaN   \n",
       "2018-12-21  0.000000  0.003528  NaN  NaN  NaN -0.005509  NaN -0.013407  NaN   \n",
       "2018-12-22  0.000000  0.003528  NaN  NaN  NaN -0.005509  NaN -0.013407  NaN   \n",
       "2018-12-23  0.000000  0.000000  NaN  NaN  NaN  0.003555  NaN  0.004142  NaN   \n",
       "\n",
       "                 TDD  ...       AZG  OJG       WWT       BOT       TXR  \\\n",
       "date                  ...                                                \n",
       "2018-12-19 -0.000516  ...  0.006307  NaN  0.004996 -0.028355  0.000916   \n",
       "2018-12-20  0.008180  ...  0.006497  NaN  0.014760  0.011485 -0.001197   \n",
       "2018-12-21  0.008180  ... -0.000380  NaN  0.004371  0.011485 -0.001197   \n",
       "2018-12-22  0.008180  ... -0.000380  NaN  0.004371  0.011485 -0.001197   \n",
       "2018-12-23  0.008180  ... -0.000380  NaN  0.000375  0.000000  0.000000   \n",
       "\n",
       "                 RAT  DIG       SRI  PHI  RWJ  \n",
       "date                                           \n",
       "2018-12-19 -0.000712  NaN  0.000868  0.0  NaN  \n",
       "2018-12-20  0.000000  NaN -0.000542  0.0  NaN  \n",
       "2018-12-21  0.000000  NaN -0.000542  0.0  NaN  \n",
       "2018-12-22  0.000000  NaN -0.000542  0.0  NaN  \n",
       "2018-12-23  0.000000  NaN -0.000542  0.0  NaN  \n",
       "\n",
       "[5 rows x 96 columns]"
      ]
     },
     "execution_count": 84,
     "metadata": {},
     "output_type": "execute_result"
    }
   ],
   "source": [
    "df.head()"
   ]
  },
  {
   "cell_type": "code",
   "execution_count": null,
   "id": "leading-cream",
   "metadata": {},
   "outputs": [],
   "source": []
  },
  {
   "cell_type": "code",
   "execution_count": 85,
   "id": "satisfied-cooper",
   "metadata": {},
   "outputs": [],
   "source": [
    "cov, exp_rets = get_returns_and_cov(df.dropna())"
   ]
  },
  {
   "cell_type": "code",
   "execution_count": 86,
   "id": "photographic-tuesday",
   "metadata": {},
   "outputs": [
    {
     "data": {
      "text/plain": [
       "(96, 1)"
      ]
     },
     "execution_count": 86,
     "metadata": {},
     "output_type": "execute_result"
    }
   ],
   "source": [
    "exp_rets.shape"
   ]
  },
  {
   "cell_type": "code",
   "execution_count": 87,
   "id": "driven-aerospace",
   "metadata": {},
   "outputs": [],
   "source": [
    "prior_covariance = np.diag(np.diag(cov))"
   ]
  },
  {
   "cell_type": "code",
   "execution_count": 88,
   "id": "sunrise-burns",
   "metadata": {},
   "outputs": [
    {
     "data": {
      "text/plain": [
       "(96, 96)"
      ]
     },
     "execution_count": 88,
     "metadata": {},
     "output_type": "execute_result"
    }
   ],
   "source": [
    "prior_covariance.shape"
   ]
  },
  {
   "cell_type": "code",
   "execution_count": 89,
   "id": "novel-boost",
   "metadata": {},
   "outputs": [],
   "source": [
    "prior_mean = 0.5 * cov.dot(np.ones((96, 1))) / 96\n"
   ]
  },
  {
   "cell_type": "code",
   "execution_count": null,
   "id": "assisted-correction",
   "metadata": {},
   "outputs": [],
   "source": []
  },
  {
   "cell_type": "code",
   "execution_count": 90,
   "id": "matched-wheel",
   "metadata": {},
   "outputs": [],
   "source": [
    "bayes_allocator = RobustBayesianAllocation(discretisations=50)"
   ]
  },
  {
   "cell_type": "code",
   "execution_count": 91,
   "id": "weird-correction",
   "metadata": {},
   "outputs": [],
   "source": [
    "bayes_allocator.allocate(\n",
    "    sample_mean=exp_rets,\n",
    "    sample_covariance=cov,\n",
    "    prior_mean=prior_mean,\n",
    "    prior_covariance=prior_covariance,\n",
    "    relative_confidence_in_prior_mean=1e-5,\n",
    "    relative_confidence_in_prior_covariance=1e-5,\n",
    "    max_volatility=0.8*max(exp_rets),\n",
    "    sample_size=df.shape[0]\n",
    ")"
   ]
  },
  {
   "cell_type": "code",
   "execution_count": 92,
   "id": "african-evolution",
   "metadata": {},
   "outputs": [
    {
     "data": {
      "text/html": [
       "<div>\n",
       "<style scoped>\n",
       "    .dataframe tbody tr th:only-of-type {\n",
       "        vertical-align: middle;\n",
       "    }\n",
       "\n",
       "    .dataframe tbody tr th {\n",
       "        vertical-align: top;\n",
       "    }\n",
       "\n",
       "    .dataframe thead th {\n",
       "        text-align: right;\n",
       "    }\n",
       "</style>\n",
       "<table border=\"1\" class=\"dataframe\">\n",
       "  <thead>\n",
       "    <tr style=\"text-align: right;\">\n",
       "      <th></th>\n",
       "      <th>0</th>\n",
       "      <th>1</th>\n",
       "      <th>2</th>\n",
       "      <th>3</th>\n",
       "      <th>4</th>\n",
       "      <th>5</th>\n",
       "      <th>6</th>\n",
       "      <th>7</th>\n",
       "      <th>8</th>\n",
       "      <th>9</th>\n",
       "      <th>...</th>\n",
       "      <th>86</th>\n",
       "      <th>87</th>\n",
       "      <th>88</th>\n",
       "      <th>89</th>\n",
       "      <th>90</th>\n",
       "      <th>91</th>\n",
       "      <th>92</th>\n",
       "      <th>93</th>\n",
       "      <th>94</th>\n",
       "      <th>95</th>\n",
       "    </tr>\n",
       "  </thead>\n",
       "  <tbody>\n",
       "    <tr>\n",
       "      <th>0</th>\n",
       "      <td>0.026779</td>\n",
       "      <td>0.0</td>\n",
       "      <td>0.0</td>\n",
       "      <td>0.0</td>\n",
       "      <td>0.011062</td>\n",
       "      <td>5.305763e-17</td>\n",
       "      <td>0.068251</td>\n",
       "      <td>5.305763e-17</td>\n",
       "      <td>0.0</td>\n",
       "      <td>0.034276</td>\n",
       "      <td>...</td>\n",
       "      <td>0.033101</td>\n",
       "      <td>8.358110e-19</td>\n",
       "      <td>5.305763e-17</td>\n",
       "      <td>0.0</td>\n",
       "      <td>5.305763e-17</td>\n",
       "      <td>3.190088e-16</td>\n",
       "      <td>5.673338e-17</td>\n",
       "      <td>1.118271e-16</td>\n",
       "      <td>0.007067</td>\n",
       "      <td>5.305763e-17</td>\n",
       "    </tr>\n",
       "  </tbody>\n",
       "</table>\n",
       "<p>1 rows × 96 columns</p>\n",
       "</div>"
      ],
      "text/plain": [
       "          0    1    2    3         4             5         6             7  \\\n",
       "0  0.026779  0.0  0.0  0.0  0.011062  5.305763e-17  0.068251  5.305763e-17   \n",
       "\n",
       "     8         9  ...        86            87            88   89  \\\n",
       "0  0.0  0.034276  ...  0.033101  8.358110e-19  5.305763e-17  0.0   \n",
       "\n",
       "             90            91            92            93        94  \\\n",
       "0  5.305763e-17  3.190088e-16  5.673338e-17  1.118271e-16  0.007067   \n",
       "\n",
       "             95  \n",
       "0  5.305763e-17  \n",
       "\n",
       "[1 rows x 96 columns]"
      ]
     },
     "execution_count": 92,
     "metadata": {},
     "output_type": "execute_result"
    }
   ],
   "source": [
    "bayes_allocator.weights"
   ]
  },
  {
   "cell_type": "code",
   "execution_count": 93,
   "id": "manual-sunrise",
   "metadata": {},
   "outputs": [],
   "source": [
    "# Get the weights\n",
    "portfolio_weights = bayes_allocator.weights"
   ]
  },
  {
   "cell_type": "code",
   "execution_count": 94,
   "id": "freelance-senegal",
   "metadata": {},
   "outputs": [
    {
     "data": {
      "text/plain": [
       "array([2.67786262e-02, 0.00000000e+00, 0.00000000e+00, 0.00000000e+00,\n",
       "       1.10619259e-02, 5.30576312e-17, 6.82512259e-02, 5.30576312e-17,\n",
       "       0.00000000e+00, 3.42756385e-02, 0.00000000e+00, 3.82557397e-02,\n",
       "       1.02375695e-16, 1.41026381e-01, 0.00000000e+00, 0.00000000e+00,\n",
       "       0.00000000e+00, 0.00000000e+00, 6.73765041e-16, 3.24675759e-02,\n",
       "       0.00000000e+00, 0.00000000e+00, 1.41802767e-01, 1.23699152e-02,\n",
       "       1.54973307e-16, 3.75999600e-16, 2.32427178e-16, 3.59346133e-16,\n",
       "       5.12225102e-16, 0.00000000e+00, 5.30576312e-17, 0.00000000e+00,\n",
       "       0.00000000e+00, 3.39308350e-02, 2.59212753e-03, 0.00000000e+00,\n",
       "       1.07253589e-16, 0.00000000e+00, 6.74129848e-02, 0.00000000e+00,\n",
       "       7.31653541e-17, 1.17632816e-02, 3.66513756e-17, 3.53867446e-17,\n",
       "       1.93551276e-16, 3.01840323e-16, 3.03871856e-17, 0.00000000e+00,\n",
       "       0.00000000e+00, 1.60120315e-16, 0.00000000e+00, 3.67963490e-02,\n",
       "       7.14329738e-17, 7.37745008e-17, 5.30576312e-17, 3.83385894e-02,\n",
       "       1.11857966e-17, 2.12278522e-16, 0.00000000e+00, 0.00000000e+00,\n",
       "       5.18216132e-02, 0.00000000e+00, 0.00000000e+00, 0.00000000e+00,\n",
       "       0.00000000e+00, 1.28633924e-16, 0.00000000e+00, 0.00000000e+00,\n",
       "       4.58488188e-17, 6.24354853e-16, 3.01632557e-16, 0.00000000e+00,\n",
       "       1.90641323e-02, 5.30576312e-17, 1.96678825e-16, 1.06504296e-01,\n",
       "       1.75948424e-16, 5.16102697e-02, 4.31687004e-16, 0.00000000e+00,\n",
       "       1.29357191e-02, 6.45495107e-17, 2.25052530e-16, 2.07725331e-02,\n",
       "       1.27783694e-16, 3.06387748e-17, 3.31009535e-02, 8.35810994e-19,\n",
       "       5.30576312e-17, 0.00000000e+00, 5.30576312e-17, 3.19008828e-16,\n",
       "       5.67333756e-17, 1.11827147e-16, 7.06652011e-03, 5.30576312e-17])"
      ]
     },
     "execution_count": 94,
     "metadata": {},
     "output_type": "execute_result"
    }
   ],
   "source": [
    "portfolio_weights.values[0]"
   ]
  },
  {
   "cell_type": "code",
   "execution_count": 59,
   "id": "settled-memory",
   "metadata": {},
   "outputs": [],
   "source": [
    "weights = np.clip(0,1, weights)"
   ]
  },
  {
   "cell_type": "code",
   "execution_count": 60,
   "id": "crude-treasury",
   "metadata": {},
   "outputs": [],
   "source": [
    "weights = general_weights_fixer(portfolio_weights.values[0])"
   ]
  },
  {
   "cell_type": "code",
   "execution_count": 61,
   "id": "typical-subdivision",
   "metadata": {},
   "outputs": [],
   "source": [
    "weights = weights / sum(weights)"
   ]
  },
  {
   "cell_type": "code",
   "execution_count": 63,
   "id": "labeled-clock",
   "metadata": {},
   "outputs": [],
   "source": [
    "ws = {asset:w for asset, w in zip([k for k in candles.keys()], weights)}"
   ]
  },
  {
   "cell_type": "code",
   "execution_count": 64,
   "id": "assisted-college",
   "metadata": {},
   "outputs": [],
   "source": [
    "submission = get_submission_markowitz(ws, [k for k in candles.keys()])"
   ]
  },
  {
   "cell_type": "code",
   "execution_count": 65,
   "id": "contrary-merit",
   "metadata": {},
   "outputs": [
    {
     "data": {
      "text/plain": [
       "1.0"
      ]
     },
     "execution_count": 65,
     "metadata": {},
     "output_type": "execute_result"
    }
   ],
   "source": [
    "sum(weights)"
   ]
  },
  {
   "cell_type": "code",
   "execution_count": 71,
   "id": "nonprofit-matthew",
   "metadata": {},
   "outputs": [],
   "source": [
    "test_submission(submission)"
   ]
  },
  {
   "cell_type": "code",
   "execution_count": 70,
   "id": "small-career",
   "metadata": {},
   "outputs": [],
   "source": [
    "submission = submission.div(submission.sum(axis=1), axis=0)"
   ]
  },
  {
   "cell_type": "code",
   "execution_count": 72,
   "id": "cooked-angel",
   "metadata": {},
   "outputs": [],
   "source": [
    "submission.to_csv(\"submission_2003.csv\", header=True, index=True)"
   ]
  },
  {
   "cell_type": "code",
   "execution_count": 73,
   "id": "incident-wallet",
   "metadata": {},
   "outputs": [],
   "source": [
    "from portfoliolab.estimators import RiskEstimators, ReturnsEstimators"
   ]
  },
  {
   "cell_type": "code",
   "execution_count": 74,
   "id": "conscious-defeat",
   "metadata": {},
   "outputs": [],
   "source": [
    "import pandas as pd\n",
    "from mlfinlab.clustering import onc"
   ]
  },
  {
   "cell_type": "code",
   "execution_count": 95,
   "id": "adapted-taxation",
   "metadata": {},
   "outputs": [],
   "source": [
    "df_corr = df.corr()"
   ]
  },
  {
   "cell_type": "code",
   "execution_count": 96,
   "id": "metallic-modification",
   "metadata": {},
   "outputs": [],
   "source": [
    "assets_corr_onc, clusters, silh_scores = onc.get_onc_clusters(df_corr, repeat=100)"
   ]
  },
  {
   "cell_type": "code",
   "execution_count": 99,
   "id": "fleet-orlando",
   "metadata": {},
   "outputs": [
    {
     "data": {
      "text/plain": [
       "dict_keys([0, 1])"
      ]
     },
     "execution_count": 99,
     "metadata": {},
     "output_type": "execute_result"
    }
   ],
   "source": [
    "clusters.keys()\n"
   ]
  },
  {
   "cell_type": "code",
   "execution_count": null,
   "id": "correct-constraint",
   "metadata": {},
   "outputs": [],
   "source": [
    "# Import dataframe of returns for assets\n",
    "asset_returns = pd.read_csv(DATA_PATH, index_col='Date', parse_dates=True)\n",
    "\n",
    "# Calculate correlation matrix of returns\n",
    "assets_corr = asset_returns.corr()\n",
    "\n",
    "# Output of the ONC algorithm with 10 simulations for each number of clusters tested\n",
    "assets_corr_onc, clusters, silh_scores = onc.get_onc_clusters(assets_corr, repeat=10)"
   ]
  }
 ],
 "metadata": {
  "kernelspec": {
   "display_name": "Python [conda env:portfoliolab]",
   "language": "python",
   "name": "conda-env-portfoliolab-py"
  },
  "language_info": {
   "codemirror_mode": {
    "name": "ipython",
    "version": 3
   },
   "file_extension": ".py",
   "mimetype": "text/x-python",
   "name": "python",
   "nbconvert_exporter": "python",
   "pygments_lexer": "ipython3",
   "version": "3.8.8"
  }
 },
 "nbformat": 4,
 "nbformat_minor": 5
}
