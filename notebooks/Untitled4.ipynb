{
 "cells": [
  {
   "cell_type": "code",
   "execution_count": 38,
   "id": "inappropriate-concern",
   "metadata": {},
   "outputs": [],
   "source": [
    "import pandas as pd\n",
    "from submission_utils import test_submission, _convert_daily_submission, get_submission_markowitz\n",
    "from submission_utils import general_weights_fixer"
   ]
  },
  {
   "cell_type": "code",
   "execution_count": 2,
   "id": "taken-andrews",
   "metadata": {},
   "outputs": [],
   "source": [
    "plantilla = pd.read_csv(\"submission/submission.csv\", parse_dates=True, index_col=\"eod_ts\")"
   ]
  },
  {
   "cell_type": "code",
   "execution_count": 44,
   "id": "fixed-healthcare",
   "metadata": {},
   "outputs": [],
   "source": [
    "submission = pd.read_csv(\"submission_2103.csv\", parse_dates=True, index_col=\"eod_ts\")"
   ]
  },
  {
   "cell_type": "code",
   "execution_count": 14,
   "id": "timely-lewis",
   "metadata": {},
   "outputs": [
    {
     "data": {
      "text/plain": [
       "True"
      ]
     },
     "execution_count": 14,
     "metadata": {},
     "output_type": "execute_result"
    }
   ],
   "source": [
    "all(submission.loc[:, :].div(submission.loc[:, :].sum(axis=0), axis=1) == 1)"
   ]
  },
  {
   "cell_type": "code",
   "execution_count": 21,
   "id": "executed-increase",
   "metadata": {},
   "outputs": [],
   "source": [
    "submission = submission.div(submission.sum(axis=1), axis=0)"
   ]
  },
  {
   "cell_type": "code",
   "execution_count": 45,
   "id": "incorrect-space",
   "metadata": {},
   "outputs": [],
   "source": [
    "weights = submission.iloc[0, :].values"
   ]
  },
  {
   "cell_type": "code",
   "execution_count": 46,
   "id": "guided-management",
   "metadata": {},
   "outputs": [],
   "source": [
    "import numpy as np"
   ]
  },
  {
   "cell_type": "code",
   "execution_count": 48,
   "id": "tested-series",
   "metadata": {},
   "outputs": [
    {
     "data": {
      "text/plain": [
       "array([ 0.   ,  0.   ,  0.004,  0.   ,  0.076,  0.099,  0.002,  0.016,\n",
       "        0.07 ,  0.048,  0.048,  0.062,  0.   ,  0.011,  0.   ,  0.01 ,\n",
       "        0.007,  0.   ,  0.026,  0.023,  0.065,  0.032,  0.   ,  0.021,\n",
       "        0.015,  0.044,  0.   ,  0.062,  0.031,  0.   ,  0.   ,  0.009,\n",
       "        0.   ,  0.002,  0.041,  0.011,  0.027,  0.027,  0.025,  0.011,\n",
       "        0.041,  0.053,  0.   ,  0.   ,  0.091,  0.02 ,  0.042,  0.013,\n",
       "        0.029,  0.003,  0.   ,  0.004,  0.011,  0.039,  0.029,  0.006,\n",
       "        0.   ,  0.008,  0.024,  0.   ,  0.022,  0.   ,  0.022,  0.   ,\n",
       "        0.   ,  0.018,  0.063,  0.   ,  0.008,  0.   ,  0.001,  0.02 ,\n",
       "        0.015,  0.065, -0.837,  0.031,  0.   ,  0.017,  0.026,  0.   ,\n",
       "        0.032,  0.014,  0.   ,  0.002,  0.   ,  0.   ,  0.   ,  0.   ,\n",
       "        0.   ,  0.   ,  0.   ,  0.059,  0.01 ,  0.052,  0.   ,  0.022])"
      ]
     },
     "execution_count": 48,
     "metadata": {},
     "output_type": "execute_result"
    }
   ],
   "source": [
    "weights"
   ]
  },
  {
   "cell_type": "code",
   "execution_count": 49,
   "id": "vietnamese-watson",
   "metadata": {},
   "outputs": [],
   "source": [
    "weights = np.clip(weights, 0, 1)"
   ]
  },
  {
   "cell_type": "code",
   "execution_count": 52,
   "id": "acoustic-hearts",
   "metadata": {},
   "outputs": [],
   "source": [
    "weights = weights / weights.sum()"
   ]
  },
  {
   "cell_type": "code",
   "execution_count": 53,
   "id": "intensive-cannon",
   "metadata": {},
   "outputs": [
    {
     "data": {
      "text/plain": [
       "1.0"
      ]
     },
     "execution_count": 53,
     "metadata": {},
     "output_type": "execute_result"
    }
   ],
   "source": [
    "weights.sum()"
   ]
  },
  {
   "cell_type": "code",
   "execution_count": 29,
   "id": "wound-event",
   "metadata": {},
   "outputs": [],
   "source": [
    "weights = general_weights_fixer(weights)"
   ]
  },
  {
   "cell_type": "code",
   "execution_count": 34,
   "id": "fuzzy-seven",
   "metadata": {},
   "outputs": [],
   "source": [
    "weights = np.clip(weights, 0, 1)"
   ]
  },
  {
   "cell_type": "code",
   "execution_count": 35,
   "id": "isolated-twelve",
   "metadata": {},
   "outputs": [],
   "source": [
    "weights = weights / weights.sum()"
   ]
  },
  {
   "cell_type": "code",
   "execution_count": 59,
   "id": "short-ireland",
   "metadata": {},
   "outputs": [
    {
     "data": {
      "text/plain": [
       "1.0000000000000004"
      ]
     },
     "execution_count": 59,
     "metadata": {},
     "output_type": "execute_result"
    }
   ],
   "source": [
    "sum([w for w in weights.values()])"
   ]
  },
  {
   "cell_type": "code",
   "execution_count": 54,
   "id": "blessed-acoustic",
   "metadata": {},
   "outputs": [],
   "source": [
    "weights = {asset: weight for asset, weight in zip(submission.columns, weights)}"
   ]
  },
  {
   "cell_type": "code",
   "execution_count": 55,
   "id": "breathing-northeast",
   "metadata": {},
   "outputs": [],
   "source": [
    "submission = get_submission_markowitz(weights, [col for col in submission.columns])"
   ]
  },
  {
   "cell_type": "code",
   "execution_count": 57,
   "id": "exotic-theology",
   "metadata": {},
   "outputs": [
    {
     "data": {
      "text/plain": [
       "False"
      ]
     },
     "execution_count": 57,
     "metadata": {},
     "output_type": "execute_result"
    }
   ],
   "source": [
    "all(submission.sum(axis=1)==1)"
   ]
  },
  {
   "cell_type": "code",
   "execution_count": 4,
   "id": "charming-ridge",
   "metadata": {},
   "outputs": [],
   "source": [
    "subm = _convert_daily_submission(submission, plantilla)"
   ]
  },
  {
   "cell_type": "code",
   "execution_count": 60,
   "id": "worthy-management",
   "metadata": {},
   "outputs": [],
   "source": [
    "test_submission(submission.div(submission.sum(axis=1), axis=0))"
   ]
  },
  {
   "cell_type": "code",
   "execution_count": 61,
   "id": "geographic-bicycle",
   "metadata": {},
   "outputs": [],
   "source": [
    "submission = submission.div(submission.sum(axis=1), axis=0)"
   ]
  },
  {
   "cell_type": "code",
   "execution_count": 7,
   "id": "silent-damages",
   "metadata": {},
   "outputs": [],
   "source": [
    "subm.to_csv(\"submission_2602_2.csv\", header=True, index=True)"
   ]
  },
  {
   "cell_type": "code",
   "execution_count": 90,
   "id": "english-customer",
   "metadata": {},
   "outputs": [
    {
     "ename": "AssertionError",
     "evalue": "",
     "output_type": "error",
     "traceback": [
      "\u001b[0;31m---------------------------------------------------------------------------\u001b[0m",
      "\u001b[0;31mAssertionError\u001b[0m                            Traceback (most recent call last)",
      "\u001b[0;32m<ipython-input-90-b3d8699ee79b>\u001b[0m in \u001b[0;36m<module>\u001b[0;34m\u001b[0m\n\u001b[0;32m----> 1\u001b[0;31m \u001b[0mtest_submission\u001b[0m\u001b[0;34m(\u001b[0m\u001b[0msubmission\u001b[0m\u001b[0;34m)\u001b[0m\u001b[0;34m\u001b[0m\u001b[0;34m\u001b[0m\u001b[0m\n\u001b[0m",
      "\u001b[0;32m~/reto_series_temporales/submission_utils.py\u001b[0m in \u001b[0;36mtest_submission\u001b[0;34m(submission)\u001b[0m\n\u001b[1;32m     51\u001b[0m     \u001b[0;32mif\u001b[0m \u001b[0;34m\"eod_ts\"\u001b[0m \u001b[0;32min\u001b[0m \u001b[0msubmission\u001b[0m\u001b[0;34m.\u001b[0m\u001b[0mcolumns\u001b[0m\u001b[0;34m:\u001b[0m\u001b[0;34m\u001b[0m\u001b[0;34m\u001b[0m\u001b[0m\n\u001b[1;32m     52\u001b[0m         \u001b[0msubmission\u001b[0m\u001b[0;34m.\u001b[0m\u001b[0mset_index\u001b[0m\u001b[0;34m(\u001b[0m\u001b[0;34m\"eod_ts\"\u001b[0m\u001b[0;34m,\u001b[0m \u001b[0minplace\u001b[0m\u001b[0;34m=\u001b[0m\u001b[0;32mTrue\u001b[0m\u001b[0;34m)\u001b[0m\u001b[0;34m\u001b[0m\u001b[0;34m\u001b[0m\u001b[0m\n\u001b[0;32m---> 53\u001b[0;31m     \u001b[0;32massert\u001b[0m \u001b[0mall\u001b[0m\u001b[0;34m(\u001b[0m\u001b[0msubmission\u001b[0m\u001b[0;34m.\u001b[0m\u001b[0msum\u001b[0m\u001b[0;34m(\u001b[0m\u001b[0maxis\u001b[0m\u001b[0;34m=\u001b[0m\u001b[0;36m1\u001b[0m\u001b[0;34m)\u001b[0m \u001b[0;34m==\u001b[0m \u001b[0;36m1\u001b[0m\u001b[0;34m)\u001b[0m\u001b[0;34m\u001b[0m\u001b[0;34m\u001b[0m\u001b[0m\n\u001b[0m\u001b[1;32m     54\u001b[0m     \u001b[0;32massert\u001b[0m \u001b[0msum\u001b[0m\u001b[0;34m(\u001b[0m\u001b[0mn\u001b[0m \u001b[0;34m<\u001b[0m \u001b[0;36m0\u001b[0m \u001b[0;32mfor\u001b[0m \u001b[0mn\u001b[0m \u001b[0;32min\u001b[0m \u001b[0msubmission\u001b[0m\u001b[0;34m.\u001b[0m\u001b[0mvalues\u001b[0m\u001b[0;34m.\u001b[0m\u001b[0mflatten\u001b[0m\u001b[0;34m(\u001b[0m\u001b[0;34m)\u001b[0m\u001b[0;34m)\u001b[0m \u001b[0;34m==\u001b[0m \u001b[0;36m0\u001b[0m\u001b[0;34m\u001b[0m\u001b[0;34m\u001b[0m\u001b[0m\n\u001b[1;32m     55\u001b[0m \u001b[0;34m\u001b[0m\u001b[0m\n",
      "\u001b[0;31mAssertionError\u001b[0m: "
     ]
    }
   ],
   "source": [
    "test_submission(submission)"
   ]
  },
  {
   "cell_type": "code",
   "execution_count": 64,
   "id": "still-realtor",
   "metadata": {},
   "outputs": [],
   "source": [
    "submission.columns = [col.replace(\"allo_allo_\", \"allo_\") for col in submission.columns]"
   ]
  },
  {
   "cell_type": "code",
   "execution_count": 65,
   "id": "intellectual-mining",
   "metadata": {},
   "outputs": [
    {
     "data": {
      "text/html": [
       "<div>\n",
       "<style scoped>\n",
       "    .dataframe tbody tr th:only-of-type {\n",
       "        vertical-align: middle;\n",
       "    }\n",
       "\n",
       "    .dataframe tbody tr th {\n",
       "        vertical-align: top;\n",
       "    }\n",
       "\n",
       "    .dataframe thead th {\n",
       "        text-align: right;\n",
       "    }\n",
       "</style>\n",
       "<table border=\"1\" class=\"dataframe\">\n",
       "  <thead>\n",
       "    <tr style=\"text-align: right;\">\n",
       "      <th></th>\n",
       "      <th>allo_ZVQ</th>\n",
       "      <th>allo_NCT</th>\n",
       "      <th>allo_YAX</th>\n",
       "      <th>allo_OOS</th>\n",
       "      <th>allo_GFJ</th>\n",
       "      <th>allo_FIR</th>\n",
       "      <th>allo_USX</th>\n",
       "      <th>allo_FSK</th>\n",
       "      <th>allo_TMF</th>\n",
       "      <th>allo_TDD</th>\n",
       "      <th>...</th>\n",
       "      <th>allo_AZG</th>\n",
       "      <th>allo_OJG</th>\n",
       "      <th>allo_WWT</th>\n",
       "      <th>allo_BOT</th>\n",
       "      <th>allo_TXR</th>\n",
       "      <th>allo_RAT</th>\n",
       "      <th>allo_DIG</th>\n",
       "      <th>allo_SRI</th>\n",
       "      <th>allo_PHI</th>\n",
       "      <th>allo_RWJ</th>\n",
       "    </tr>\n",
       "    <tr>\n",
       "      <th>eod_ts</th>\n",
       "      <th></th>\n",
       "      <th></th>\n",
       "      <th></th>\n",
       "      <th></th>\n",
       "      <th></th>\n",
       "      <th></th>\n",
       "      <th></th>\n",
       "      <th></th>\n",
       "      <th></th>\n",
       "      <th></th>\n",
       "      <th></th>\n",
       "      <th></th>\n",
       "      <th></th>\n",
       "      <th></th>\n",
       "      <th></th>\n",
       "      <th></th>\n",
       "      <th></th>\n",
       "      <th></th>\n",
       "      <th></th>\n",
       "      <th></th>\n",
       "      <th></th>\n",
       "    </tr>\n",
       "  </thead>\n",
       "  <tbody>\n",
       "    <tr>\n",
       "      <th>2020-08-18 00:00:00</th>\n",
       "      <td>0.0</td>\n",
       "      <td>0.0</td>\n",
       "      <td>0.002177</td>\n",
       "      <td>0.0</td>\n",
       "      <td>0.041372</td>\n",
       "      <td>0.053892</td>\n",
       "      <td>0.001089</td>\n",
       "      <td>0.00871</td>\n",
       "      <td>0.038106</td>\n",
       "      <td>0.02613</td>\n",
       "      <td>...</td>\n",
       "      <td>0.0</td>\n",
       "      <td>0.0</td>\n",
       "      <td>0.0</td>\n",
       "      <td>0.0</td>\n",
       "      <td>0.0</td>\n",
       "      <td>0.032118</td>\n",
       "      <td>0.005444</td>\n",
       "      <td>0.028307</td>\n",
       "      <td>0.0</td>\n",
       "      <td>0.011976</td>\n",
       "    </tr>\n",
       "    <tr>\n",
       "      <th>2020-08-18 01:00:00</th>\n",
       "      <td>0.0</td>\n",
       "      <td>0.0</td>\n",
       "      <td>0.002177</td>\n",
       "      <td>0.0</td>\n",
       "      <td>0.041372</td>\n",
       "      <td>0.053892</td>\n",
       "      <td>0.001089</td>\n",
       "      <td>0.00871</td>\n",
       "      <td>0.038106</td>\n",
       "      <td>0.02613</td>\n",
       "      <td>...</td>\n",
       "      <td>0.0</td>\n",
       "      <td>0.0</td>\n",
       "      <td>0.0</td>\n",
       "      <td>0.0</td>\n",
       "      <td>0.0</td>\n",
       "      <td>0.032118</td>\n",
       "      <td>0.005444</td>\n",
       "      <td>0.028307</td>\n",
       "      <td>0.0</td>\n",
       "      <td>0.011976</td>\n",
       "    </tr>\n",
       "    <tr>\n",
       "      <th>2020-08-18 02:00:00</th>\n",
       "      <td>0.0</td>\n",
       "      <td>0.0</td>\n",
       "      <td>0.002177</td>\n",
       "      <td>0.0</td>\n",
       "      <td>0.041372</td>\n",
       "      <td>0.053892</td>\n",
       "      <td>0.001089</td>\n",
       "      <td>0.00871</td>\n",
       "      <td>0.038106</td>\n",
       "      <td>0.02613</td>\n",
       "      <td>...</td>\n",
       "      <td>0.0</td>\n",
       "      <td>0.0</td>\n",
       "      <td>0.0</td>\n",
       "      <td>0.0</td>\n",
       "      <td>0.0</td>\n",
       "      <td>0.032118</td>\n",
       "      <td>0.005444</td>\n",
       "      <td>0.028307</td>\n",
       "      <td>0.0</td>\n",
       "      <td>0.011976</td>\n",
       "    </tr>\n",
       "    <tr>\n",
       "      <th>2020-08-18 03:00:00</th>\n",
       "      <td>0.0</td>\n",
       "      <td>0.0</td>\n",
       "      <td>0.002177</td>\n",
       "      <td>0.0</td>\n",
       "      <td>0.041372</td>\n",
       "      <td>0.053892</td>\n",
       "      <td>0.001089</td>\n",
       "      <td>0.00871</td>\n",
       "      <td>0.038106</td>\n",
       "      <td>0.02613</td>\n",
       "      <td>...</td>\n",
       "      <td>0.0</td>\n",
       "      <td>0.0</td>\n",
       "      <td>0.0</td>\n",
       "      <td>0.0</td>\n",
       "      <td>0.0</td>\n",
       "      <td>0.032118</td>\n",
       "      <td>0.005444</td>\n",
       "      <td>0.028307</td>\n",
       "      <td>0.0</td>\n",
       "      <td>0.011976</td>\n",
       "    </tr>\n",
       "    <tr>\n",
       "      <th>2020-08-18 04:00:00</th>\n",
       "      <td>0.0</td>\n",
       "      <td>0.0</td>\n",
       "      <td>0.002177</td>\n",
       "      <td>0.0</td>\n",
       "      <td>0.041372</td>\n",
       "      <td>0.053892</td>\n",
       "      <td>0.001089</td>\n",
       "      <td>0.00871</td>\n",
       "      <td>0.038106</td>\n",
       "      <td>0.02613</td>\n",
       "      <td>...</td>\n",
       "      <td>0.0</td>\n",
       "      <td>0.0</td>\n",
       "      <td>0.0</td>\n",
       "      <td>0.0</td>\n",
       "      <td>0.0</td>\n",
       "      <td>0.032118</td>\n",
       "      <td>0.005444</td>\n",
       "      <td>0.028307</td>\n",
       "      <td>0.0</td>\n",
       "      <td>0.011976</td>\n",
       "    </tr>\n",
       "  </tbody>\n",
       "</table>\n",
       "<p>5 rows × 96 columns</p>\n",
       "</div>"
      ],
      "text/plain": [
       "                     allo_ZVQ  allo_NCT  allo_YAX  allo_OOS  allo_GFJ  \\\n",
       "eod_ts                                                                  \n",
       "2020-08-18 00:00:00       0.0       0.0  0.002177       0.0  0.041372   \n",
       "2020-08-18 01:00:00       0.0       0.0  0.002177       0.0  0.041372   \n",
       "2020-08-18 02:00:00       0.0       0.0  0.002177       0.0  0.041372   \n",
       "2020-08-18 03:00:00       0.0       0.0  0.002177       0.0  0.041372   \n",
       "2020-08-18 04:00:00       0.0       0.0  0.002177       0.0  0.041372   \n",
       "\n",
       "                     allo_FIR  allo_USX  allo_FSK  allo_TMF  allo_TDD  ...  \\\n",
       "eod_ts                                                                 ...   \n",
       "2020-08-18 00:00:00  0.053892  0.001089   0.00871  0.038106   0.02613  ...   \n",
       "2020-08-18 01:00:00  0.053892  0.001089   0.00871  0.038106   0.02613  ...   \n",
       "2020-08-18 02:00:00  0.053892  0.001089   0.00871  0.038106   0.02613  ...   \n",
       "2020-08-18 03:00:00  0.053892  0.001089   0.00871  0.038106   0.02613  ...   \n",
       "2020-08-18 04:00:00  0.053892  0.001089   0.00871  0.038106   0.02613  ...   \n",
       "\n",
       "                     allo_AZG  allo_OJG  allo_WWT  allo_BOT  allo_TXR  \\\n",
       "eod_ts                                                                  \n",
       "2020-08-18 00:00:00       0.0       0.0       0.0       0.0       0.0   \n",
       "2020-08-18 01:00:00       0.0       0.0       0.0       0.0       0.0   \n",
       "2020-08-18 02:00:00       0.0       0.0       0.0       0.0       0.0   \n",
       "2020-08-18 03:00:00       0.0       0.0       0.0       0.0       0.0   \n",
       "2020-08-18 04:00:00       0.0       0.0       0.0       0.0       0.0   \n",
       "\n",
       "                     allo_RAT  allo_DIG  allo_SRI  allo_PHI  allo_RWJ  \n",
       "eod_ts                                                                 \n",
       "2020-08-18 00:00:00  0.032118  0.005444  0.028307       0.0  0.011976  \n",
       "2020-08-18 01:00:00  0.032118  0.005444  0.028307       0.0  0.011976  \n",
       "2020-08-18 02:00:00  0.032118  0.005444  0.028307       0.0  0.011976  \n",
       "2020-08-18 03:00:00  0.032118  0.005444  0.028307       0.0  0.011976  \n",
       "2020-08-18 04:00:00  0.032118  0.005444  0.028307       0.0  0.011976  \n",
       "\n",
       "[5 rows x 96 columns]"
      ]
     },
     "execution_count": 65,
     "metadata": {},
     "output_type": "execute_result"
    }
   ],
   "source": [
    "submission.head()"
   ]
  },
  {
   "cell_type": "code",
   "execution_count": 70,
   "id": "assured-leadership",
   "metadata": {},
   "outputs": [],
   "source": [
    "submission = submission.clip(0, 1)"
   ]
  },
  {
   "cell_type": "code",
   "execution_count": 72,
   "id": "abstract-listening",
   "metadata": {},
   "outputs": [
    {
     "data": {
      "text/plain": [
       "True"
      ]
     },
     "execution_count": 72,
     "metadata": {},
     "output_type": "execute_result"
    }
   ],
   "source": [
    "any(submission < 0)"
   ]
  },
  {
   "cell_type": "code",
   "execution_count": 76,
   "id": "retired-austin",
   "metadata": {},
   "outputs": [
    {
     "data": {
      "text/html": [
       "<div>\n",
       "<style scoped>\n",
       "    .dataframe tbody tr th:only-of-type {\n",
       "        vertical-align: middle;\n",
       "    }\n",
       "\n",
       "    .dataframe tbody tr th {\n",
       "        vertical-align: top;\n",
       "    }\n",
       "\n",
       "    .dataframe thead th {\n",
       "        text-align: right;\n",
       "    }\n",
       "</style>\n",
       "<table border=\"1\" class=\"dataframe\">\n",
       "  <thead>\n",
       "    <tr style=\"text-align: right;\">\n",
       "      <th></th>\n",
       "      <th>allo_ZVQ</th>\n",
       "      <th>allo_NCT</th>\n",
       "      <th>allo_YAX</th>\n",
       "      <th>allo_OOS</th>\n",
       "      <th>allo_GFJ</th>\n",
       "      <th>allo_FIR</th>\n",
       "      <th>allo_USX</th>\n",
       "      <th>allo_FSK</th>\n",
       "      <th>allo_TMF</th>\n",
       "      <th>allo_TDD</th>\n",
       "      <th>...</th>\n",
       "      <th>allo_AZG</th>\n",
       "      <th>allo_OJG</th>\n",
       "      <th>allo_WWT</th>\n",
       "      <th>allo_BOT</th>\n",
       "      <th>allo_TXR</th>\n",
       "      <th>allo_RAT</th>\n",
       "      <th>allo_DIG</th>\n",
       "      <th>allo_SRI</th>\n",
       "      <th>allo_PHI</th>\n",
       "      <th>allo_RWJ</th>\n",
       "    </tr>\n",
       "    <tr>\n",
       "      <th>eod_ts</th>\n",
       "      <th></th>\n",
       "      <th></th>\n",
       "      <th></th>\n",
       "      <th></th>\n",
       "      <th></th>\n",
       "      <th></th>\n",
       "      <th></th>\n",
       "      <th></th>\n",
       "      <th></th>\n",
       "      <th></th>\n",
       "      <th></th>\n",
       "      <th></th>\n",
       "      <th></th>\n",
       "      <th></th>\n",
       "      <th></th>\n",
       "      <th></th>\n",
       "      <th></th>\n",
       "      <th></th>\n",
       "      <th></th>\n",
       "      <th></th>\n",
       "      <th></th>\n",
       "    </tr>\n",
       "  </thead>\n",
       "  <tbody>\n",
       "    <tr>\n",
       "      <th>2020-08-18 00:00:00</th>\n",
       "      <td>0.0</td>\n",
       "      <td>0.0</td>\n",
       "      <td>0.002177</td>\n",
       "      <td>0.0</td>\n",
       "      <td>0.041372</td>\n",
       "      <td>0.053892</td>\n",
       "      <td>0.001089</td>\n",
       "      <td>0.00871</td>\n",
       "      <td>0.038106</td>\n",
       "      <td>0.02613</td>\n",
       "      <td>...</td>\n",
       "      <td>0.0</td>\n",
       "      <td>0.0</td>\n",
       "      <td>0.0</td>\n",
       "      <td>0.0</td>\n",
       "      <td>0.0</td>\n",
       "      <td>0.032118</td>\n",
       "      <td>0.005444</td>\n",
       "      <td>0.028307</td>\n",
       "      <td>0.0</td>\n",
       "      <td>0.011976</td>\n",
       "    </tr>\n",
       "    <tr>\n",
       "      <th>2020-08-18 01:00:00</th>\n",
       "      <td>0.0</td>\n",
       "      <td>0.0</td>\n",
       "      <td>0.002177</td>\n",
       "      <td>0.0</td>\n",
       "      <td>0.041372</td>\n",
       "      <td>0.053892</td>\n",
       "      <td>0.001089</td>\n",
       "      <td>0.00871</td>\n",
       "      <td>0.038106</td>\n",
       "      <td>0.02613</td>\n",
       "      <td>...</td>\n",
       "      <td>0.0</td>\n",
       "      <td>0.0</td>\n",
       "      <td>0.0</td>\n",
       "      <td>0.0</td>\n",
       "      <td>0.0</td>\n",
       "      <td>0.032118</td>\n",
       "      <td>0.005444</td>\n",
       "      <td>0.028307</td>\n",
       "      <td>0.0</td>\n",
       "      <td>0.011976</td>\n",
       "    </tr>\n",
       "    <tr>\n",
       "      <th>2020-08-18 02:00:00</th>\n",
       "      <td>0.0</td>\n",
       "      <td>0.0</td>\n",
       "      <td>0.002177</td>\n",
       "      <td>0.0</td>\n",
       "      <td>0.041372</td>\n",
       "      <td>0.053892</td>\n",
       "      <td>0.001089</td>\n",
       "      <td>0.00871</td>\n",
       "      <td>0.038106</td>\n",
       "      <td>0.02613</td>\n",
       "      <td>...</td>\n",
       "      <td>0.0</td>\n",
       "      <td>0.0</td>\n",
       "      <td>0.0</td>\n",
       "      <td>0.0</td>\n",
       "      <td>0.0</td>\n",
       "      <td>0.032118</td>\n",
       "      <td>0.005444</td>\n",
       "      <td>0.028307</td>\n",
       "      <td>0.0</td>\n",
       "      <td>0.011976</td>\n",
       "    </tr>\n",
       "    <tr>\n",
       "      <th>2020-08-18 03:00:00</th>\n",
       "      <td>0.0</td>\n",
       "      <td>0.0</td>\n",
       "      <td>0.002177</td>\n",
       "      <td>0.0</td>\n",
       "      <td>0.041372</td>\n",
       "      <td>0.053892</td>\n",
       "      <td>0.001089</td>\n",
       "      <td>0.00871</td>\n",
       "      <td>0.038106</td>\n",
       "      <td>0.02613</td>\n",
       "      <td>...</td>\n",
       "      <td>0.0</td>\n",
       "      <td>0.0</td>\n",
       "      <td>0.0</td>\n",
       "      <td>0.0</td>\n",
       "      <td>0.0</td>\n",
       "      <td>0.032118</td>\n",
       "      <td>0.005444</td>\n",
       "      <td>0.028307</td>\n",
       "      <td>0.0</td>\n",
       "      <td>0.011976</td>\n",
       "    </tr>\n",
       "    <tr>\n",
       "      <th>2020-08-18 04:00:00</th>\n",
       "      <td>0.0</td>\n",
       "      <td>0.0</td>\n",
       "      <td>0.002177</td>\n",
       "      <td>0.0</td>\n",
       "      <td>0.041372</td>\n",
       "      <td>0.053892</td>\n",
       "      <td>0.001089</td>\n",
       "      <td>0.00871</td>\n",
       "      <td>0.038106</td>\n",
       "      <td>0.02613</td>\n",
       "      <td>...</td>\n",
       "      <td>0.0</td>\n",
       "      <td>0.0</td>\n",
       "      <td>0.0</td>\n",
       "      <td>0.0</td>\n",
       "      <td>0.0</td>\n",
       "      <td>0.032118</td>\n",
       "      <td>0.005444</td>\n",
       "      <td>0.028307</td>\n",
       "      <td>0.0</td>\n",
       "      <td>0.011976</td>\n",
       "    </tr>\n",
       "  </tbody>\n",
       "</table>\n",
       "<p>5 rows × 96 columns</p>\n",
       "</div>"
      ],
      "text/plain": [
       "                     allo_ZVQ  allo_NCT  allo_YAX  allo_OOS  allo_GFJ  \\\n",
       "eod_ts                                                                  \n",
       "2020-08-18 00:00:00       0.0       0.0  0.002177       0.0  0.041372   \n",
       "2020-08-18 01:00:00       0.0       0.0  0.002177       0.0  0.041372   \n",
       "2020-08-18 02:00:00       0.0       0.0  0.002177       0.0  0.041372   \n",
       "2020-08-18 03:00:00       0.0       0.0  0.002177       0.0  0.041372   \n",
       "2020-08-18 04:00:00       0.0       0.0  0.002177       0.0  0.041372   \n",
       "\n",
       "                     allo_FIR  allo_USX  allo_FSK  allo_TMF  allo_TDD  ...  \\\n",
       "eod_ts                                                                 ...   \n",
       "2020-08-18 00:00:00  0.053892  0.001089   0.00871  0.038106   0.02613  ...   \n",
       "2020-08-18 01:00:00  0.053892  0.001089   0.00871  0.038106   0.02613  ...   \n",
       "2020-08-18 02:00:00  0.053892  0.001089   0.00871  0.038106   0.02613  ...   \n",
       "2020-08-18 03:00:00  0.053892  0.001089   0.00871  0.038106   0.02613  ...   \n",
       "2020-08-18 04:00:00  0.053892  0.001089   0.00871  0.038106   0.02613  ...   \n",
       "\n",
       "                     allo_AZG  allo_OJG  allo_WWT  allo_BOT  allo_TXR  \\\n",
       "eod_ts                                                                  \n",
       "2020-08-18 00:00:00       0.0       0.0       0.0       0.0       0.0   \n",
       "2020-08-18 01:00:00       0.0       0.0       0.0       0.0       0.0   \n",
       "2020-08-18 02:00:00       0.0       0.0       0.0       0.0       0.0   \n",
       "2020-08-18 03:00:00       0.0       0.0       0.0       0.0       0.0   \n",
       "2020-08-18 04:00:00       0.0       0.0       0.0       0.0       0.0   \n",
       "\n",
       "                     allo_RAT  allo_DIG  allo_SRI  allo_PHI  allo_RWJ  \n",
       "eod_ts                                                                 \n",
       "2020-08-18 00:00:00  0.032118  0.005444  0.028307       0.0  0.011976  \n",
       "2020-08-18 01:00:00  0.032118  0.005444  0.028307       0.0  0.011976  \n",
       "2020-08-18 02:00:00  0.032118  0.005444  0.028307       0.0  0.011976  \n",
       "2020-08-18 03:00:00  0.032118  0.005444  0.028307       0.0  0.011976  \n",
       "2020-08-18 04:00:00  0.032118  0.005444  0.028307       0.0  0.011976  \n",
       "\n",
       "[5 rows x 96 columns]"
      ]
     },
     "execution_count": 76,
     "metadata": {},
     "output_type": "execute_result"
    }
   ],
   "source": [
    "submission.head()"
   ]
  },
  {
   "cell_type": "code",
   "execution_count": 85,
   "id": "micro-palestinian",
   "metadata": {},
   "outputs": [
    {
     "data": {
      "text/plain": [
       "True"
      ]
     },
     "execution_count": 85,
     "metadata": {},
     "output_type": "execute_result"
    }
   ],
   "source": [
    "all(submission.sum(axis=1) == 1.00)"
   ]
  },
  {
   "cell_type": "code",
   "execution_count": 94,
   "id": "peripheral-sierra",
   "metadata": {},
   "outputs": [],
   "source": [
    "submission = submission.round(4)"
   ]
  },
  {
   "cell_type": "code",
   "execution_count": 98,
   "id": "different-pattern",
   "metadata": {},
   "outputs": [],
   "source": [
    "submission = submission.div(submission.sum(axis=1), axis=0)"
   ]
  },
  {
   "cell_type": "code",
   "execution_count": 99,
   "id": "centered-arbitration",
   "metadata": {},
   "outputs": [
    {
     "data": {
      "text/html": [
       "<div>\n",
       "<style scoped>\n",
       "    .dataframe tbody tr th:only-of-type {\n",
       "        vertical-align: middle;\n",
       "    }\n",
       "\n",
       "    .dataframe tbody tr th {\n",
       "        vertical-align: top;\n",
       "    }\n",
       "\n",
       "    .dataframe thead th {\n",
       "        text-align: right;\n",
       "    }\n",
       "</style>\n",
       "<table border=\"1\" class=\"dataframe\">\n",
       "  <thead>\n",
       "    <tr style=\"text-align: right;\">\n",
       "      <th></th>\n",
       "      <th>allo_ZVQ</th>\n",
       "      <th>allo_NCT</th>\n",
       "      <th>allo_YAX</th>\n",
       "      <th>allo_OOS</th>\n",
       "      <th>allo_GFJ</th>\n",
       "      <th>allo_FIR</th>\n",
       "      <th>allo_USX</th>\n",
       "      <th>allo_FSK</th>\n",
       "      <th>allo_TMF</th>\n",
       "      <th>allo_TDD</th>\n",
       "      <th>...</th>\n",
       "      <th>allo_AZG</th>\n",
       "      <th>allo_OJG</th>\n",
       "      <th>allo_WWT</th>\n",
       "      <th>allo_BOT</th>\n",
       "      <th>allo_TXR</th>\n",
       "      <th>allo_RAT</th>\n",
       "      <th>allo_DIG</th>\n",
       "      <th>allo_SRI</th>\n",
       "      <th>allo_PHI</th>\n",
       "      <th>allo_RWJ</th>\n",
       "    </tr>\n",
       "    <tr>\n",
       "      <th>eod_ts</th>\n",
       "      <th></th>\n",
       "      <th></th>\n",
       "      <th></th>\n",
       "      <th></th>\n",
       "      <th></th>\n",
       "      <th></th>\n",
       "      <th></th>\n",
       "      <th></th>\n",
       "      <th></th>\n",
       "      <th></th>\n",
       "      <th></th>\n",
       "      <th></th>\n",
       "      <th></th>\n",
       "      <th></th>\n",
       "      <th></th>\n",
       "      <th></th>\n",
       "      <th></th>\n",
       "      <th></th>\n",
       "      <th></th>\n",
       "      <th></th>\n",
       "      <th></th>\n",
       "    </tr>\n",
       "  </thead>\n",
       "  <tbody>\n",
       "    <tr>\n",
       "      <th>2020-08-18 00:00:00</th>\n",
       "      <td>0.0</td>\n",
       "      <td>0.0</td>\n",
       "      <td>0.002199</td>\n",
       "      <td>0.0</td>\n",
       "      <td>0.041379</td>\n",
       "      <td>0.053873</td>\n",
       "      <td>0.001099</td>\n",
       "      <td>0.008696</td>\n",
       "      <td>0.038081</td>\n",
       "      <td>0.026087</td>\n",
       "      <td>...</td>\n",
       "      <td>0.0</td>\n",
       "      <td>0.0</td>\n",
       "      <td>0.0</td>\n",
       "      <td>0.0</td>\n",
       "      <td>0.0</td>\n",
       "      <td>0.032084</td>\n",
       "      <td>0.005397</td>\n",
       "      <td>0.028286</td>\n",
       "      <td>0.0</td>\n",
       "      <td>0.011994</td>\n",
       "    </tr>\n",
       "    <tr>\n",
       "      <th>2020-08-18 01:00:00</th>\n",
       "      <td>0.0</td>\n",
       "      <td>0.0</td>\n",
       "      <td>0.002199</td>\n",
       "      <td>0.0</td>\n",
       "      <td>0.041379</td>\n",
       "      <td>0.053873</td>\n",
       "      <td>0.001099</td>\n",
       "      <td>0.008696</td>\n",
       "      <td>0.038081</td>\n",
       "      <td>0.026087</td>\n",
       "      <td>...</td>\n",
       "      <td>0.0</td>\n",
       "      <td>0.0</td>\n",
       "      <td>0.0</td>\n",
       "      <td>0.0</td>\n",
       "      <td>0.0</td>\n",
       "      <td>0.032084</td>\n",
       "      <td>0.005397</td>\n",
       "      <td>0.028286</td>\n",
       "      <td>0.0</td>\n",
       "      <td>0.011994</td>\n",
       "    </tr>\n",
       "    <tr>\n",
       "      <th>2020-08-18 02:00:00</th>\n",
       "      <td>0.0</td>\n",
       "      <td>0.0</td>\n",
       "      <td>0.002199</td>\n",
       "      <td>0.0</td>\n",
       "      <td>0.041379</td>\n",
       "      <td>0.053873</td>\n",
       "      <td>0.001099</td>\n",
       "      <td>0.008696</td>\n",
       "      <td>0.038081</td>\n",
       "      <td>0.026087</td>\n",
       "      <td>...</td>\n",
       "      <td>0.0</td>\n",
       "      <td>0.0</td>\n",
       "      <td>0.0</td>\n",
       "      <td>0.0</td>\n",
       "      <td>0.0</td>\n",
       "      <td>0.032084</td>\n",
       "      <td>0.005397</td>\n",
       "      <td>0.028286</td>\n",
       "      <td>0.0</td>\n",
       "      <td>0.011994</td>\n",
       "    </tr>\n",
       "    <tr>\n",
       "      <th>2020-08-18 03:00:00</th>\n",
       "      <td>0.0</td>\n",
       "      <td>0.0</td>\n",
       "      <td>0.002199</td>\n",
       "      <td>0.0</td>\n",
       "      <td>0.041379</td>\n",
       "      <td>0.053873</td>\n",
       "      <td>0.001099</td>\n",
       "      <td>0.008696</td>\n",
       "      <td>0.038081</td>\n",
       "      <td>0.026087</td>\n",
       "      <td>...</td>\n",
       "      <td>0.0</td>\n",
       "      <td>0.0</td>\n",
       "      <td>0.0</td>\n",
       "      <td>0.0</td>\n",
       "      <td>0.0</td>\n",
       "      <td>0.032084</td>\n",
       "      <td>0.005397</td>\n",
       "      <td>0.028286</td>\n",
       "      <td>0.0</td>\n",
       "      <td>0.011994</td>\n",
       "    </tr>\n",
       "    <tr>\n",
       "      <th>2020-08-18 04:00:00</th>\n",
       "      <td>0.0</td>\n",
       "      <td>0.0</td>\n",
       "      <td>0.002199</td>\n",
       "      <td>0.0</td>\n",
       "      <td>0.041379</td>\n",
       "      <td>0.053873</td>\n",
       "      <td>0.001099</td>\n",
       "      <td>0.008696</td>\n",
       "      <td>0.038081</td>\n",
       "      <td>0.026087</td>\n",
       "      <td>...</td>\n",
       "      <td>0.0</td>\n",
       "      <td>0.0</td>\n",
       "      <td>0.0</td>\n",
       "      <td>0.0</td>\n",
       "      <td>0.0</td>\n",
       "      <td>0.032084</td>\n",
       "      <td>0.005397</td>\n",
       "      <td>0.028286</td>\n",
       "      <td>0.0</td>\n",
       "      <td>0.011994</td>\n",
       "    </tr>\n",
       "  </tbody>\n",
       "</table>\n",
       "<p>5 rows × 96 columns</p>\n",
       "</div>"
      ],
      "text/plain": [
       "                     allo_ZVQ  allo_NCT  allo_YAX  allo_OOS  allo_GFJ  \\\n",
       "eod_ts                                                                  \n",
       "2020-08-18 00:00:00       0.0       0.0  0.002199       0.0  0.041379   \n",
       "2020-08-18 01:00:00       0.0       0.0  0.002199       0.0  0.041379   \n",
       "2020-08-18 02:00:00       0.0       0.0  0.002199       0.0  0.041379   \n",
       "2020-08-18 03:00:00       0.0       0.0  0.002199       0.0  0.041379   \n",
       "2020-08-18 04:00:00       0.0       0.0  0.002199       0.0  0.041379   \n",
       "\n",
       "                     allo_FIR  allo_USX  allo_FSK  allo_TMF  allo_TDD  ...  \\\n",
       "eod_ts                                                                 ...   \n",
       "2020-08-18 00:00:00  0.053873  0.001099  0.008696  0.038081  0.026087  ...   \n",
       "2020-08-18 01:00:00  0.053873  0.001099  0.008696  0.038081  0.026087  ...   \n",
       "2020-08-18 02:00:00  0.053873  0.001099  0.008696  0.038081  0.026087  ...   \n",
       "2020-08-18 03:00:00  0.053873  0.001099  0.008696  0.038081  0.026087  ...   \n",
       "2020-08-18 04:00:00  0.053873  0.001099  0.008696  0.038081  0.026087  ...   \n",
       "\n",
       "                     allo_AZG  allo_OJG  allo_WWT  allo_BOT  allo_TXR  \\\n",
       "eod_ts                                                                  \n",
       "2020-08-18 00:00:00       0.0       0.0       0.0       0.0       0.0   \n",
       "2020-08-18 01:00:00       0.0       0.0       0.0       0.0       0.0   \n",
       "2020-08-18 02:00:00       0.0       0.0       0.0       0.0       0.0   \n",
       "2020-08-18 03:00:00       0.0       0.0       0.0       0.0       0.0   \n",
       "2020-08-18 04:00:00       0.0       0.0       0.0       0.0       0.0   \n",
       "\n",
       "                     allo_RAT  allo_DIG  allo_SRI  allo_PHI  allo_RWJ  \n",
       "eod_ts                                                                 \n",
       "2020-08-18 00:00:00  0.032084  0.005397  0.028286       0.0  0.011994  \n",
       "2020-08-18 01:00:00  0.032084  0.005397  0.028286       0.0  0.011994  \n",
       "2020-08-18 02:00:00  0.032084  0.005397  0.028286       0.0  0.011994  \n",
       "2020-08-18 03:00:00  0.032084  0.005397  0.028286       0.0  0.011994  \n",
       "2020-08-18 04:00:00  0.032084  0.005397  0.028286       0.0  0.011994  \n",
       "\n",
       "[5 rows x 96 columns]"
      ]
     },
     "execution_count": 99,
     "metadata": {},
     "output_type": "execute_result"
    }
   ],
   "source": [
    "submission.head()"
   ]
  },
  {
   "cell_type": "code",
   "execution_count": 100,
   "id": "aboriginal-integral",
   "metadata": {},
   "outputs": [],
   "source": [
    "test_submission(submission)"
   ]
  },
  {
   "cell_type": "code",
   "execution_count": 87,
   "id": "biblical-thirty",
   "metadata": {},
   "outputs": [],
   "source": [
    "submission.to_csv(\"submission_2103_2.csv\", header=True, index=True)"
   ]
  },
  {
   "cell_type": "code",
   "execution_count": null,
   "id": "reliable-revelation",
   "metadata": {},
   "outputs": [],
   "source": []
  }
 ],
 "metadata": {
  "kernelspec": {
   "display_name": "Python [conda env:series_temporales] *",
   "language": "python",
   "name": "conda-env-series_temporales-py"
  },
  "language_info": {
   "codemirror_mode": {
    "name": "ipython",
    "version": 3
   },
   "file_extension": ".py",
   "mimetype": "text/x-python",
   "name": "python",
   "nbconvert_exporter": "python",
   "pygments_lexer": "ipython3",
   "version": "3.7.9"
  }
 },
 "nbformat": 4,
 "nbformat_minor": 5
}
