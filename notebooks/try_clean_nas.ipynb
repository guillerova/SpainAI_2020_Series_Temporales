{
 "cells": [
  {
   "cell_type": "code",
   "execution_count": 1,
   "id": "senior-deputy",
   "metadata": {},
   "outputs": [],
   "source": [
    "from data_utils import get_prices_daily, create_prices_df, read_all_candles\n",
    "import matplotlib.pyplot as plt\n",
    "from pypfopt.expected_returns import mean_historical_return\n",
    "from pypfopt.risk_models import CovarianceShrinkage"
   ]
  },
  {
   "cell_type": "code",
   "execution_count": 2,
   "id": "independent-supply",
   "metadata": {},
   "outputs": [
    {
     "name": "stderr",
     "output_type": "stream",
     "text": [
      "100%|██████████| 96/96 [00:01<00:00, 65.17it/s]\n",
      "Creating groups per hour: 100%|██████████| 96/96 [00:03<00:00, 26.10it/s]\n",
      "100%|██████████| 96/96 [00:00<00:00, 4225.02it/s]\n"
     ]
    }
   ],
   "source": [
    "df_daily = get_prices_daily(\"trainTimeSeries/trainTimeSeries/TrainCandles\")"
   ]
  },
  {
   "cell_type": "code",
   "execution_count": 2,
   "id": "returning-comment",
   "metadata": {},
   "outputs": [
    {
     "name": "stderr",
     "output_type": "stream",
     "text": [
      "100%|██████████| 96/96 [00:01<00:00, 63.31it/s]\n"
     ]
    }
   ],
   "source": [
    "candles = read_all_candles(\"trainTimeSeries/trainTimeSeries/TrainCandles\")"
   ]
  },
  {
   "cell_type": "code",
   "execution_count": 3,
   "id": "cognitive-sample",
   "metadata": {},
   "outputs": [
    {
     "name": "stderr",
     "output_type": "stream",
     "text": [
      "100%|██████████| 96/96 [00:00<00:00, 2705.46it/s]\n"
     ]
    }
   ],
   "source": [
    "df = create_prices_df(candles, exact=False, )"
   ]
  },
  {
   "cell_type": "code",
   "execution_count": 4,
   "id": "tired-council",
   "metadata": {},
   "outputs": [
    {
     "data": {
      "text/html": [
       "<div>\n",
       "<style scoped>\n",
       "    .dataframe tbody tr th:only-of-type {\n",
       "        vertical-align: middle;\n",
       "    }\n",
       "\n",
       "    .dataframe tbody tr th {\n",
       "        vertical-align: top;\n",
       "    }\n",
       "\n",
       "    .dataframe thead th {\n",
       "        text-align: right;\n",
       "    }\n",
       "</style>\n",
       "<table border=\"1\" class=\"dataframe\">\n",
       "  <thead>\n",
       "    <tr style=\"text-align: right;\">\n",
       "      <th></th>\n",
       "      <th>date</th>\n",
       "      <th>ZVQ_close</th>\n",
       "      <th>NCT_close</th>\n",
       "      <th>YAX_close</th>\n",
       "      <th>OOS_close</th>\n",
       "      <th>GFJ_close</th>\n",
       "      <th>FIR_close</th>\n",
       "      <th>USX_close</th>\n",
       "      <th>FSK_close</th>\n",
       "      <th>TMF_close</th>\n",
       "      <th>...</th>\n",
       "      <th>AZG_close</th>\n",
       "      <th>OJG_close</th>\n",
       "      <th>WWT_close</th>\n",
       "      <th>BOT_close</th>\n",
       "      <th>TXR_close</th>\n",
       "      <th>RAT_close</th>\n",
       "      <th>DIG_close</th>\n",
       "      <th>SRI_close</th>\n",
       "      <th>PHI_close</th>\n",
       "      <th>RWJ_close</th>\n",
       "    </tr>\n",
       "  </thead>\n",
       "  <tbody>\n",
       "    <tr>\n",
       "      <th>0</th>\n",
       "      <td>2018-12-19 01:00:00</td>\n",
       "      <td>519.23</td>\n",
       "      <td>NaN</td>\n",
       "      <td>NaN</td>\n",
       "      <td>NaN</td>\n",
       "      <td>NaN</td>\n",
       "      <td>NaN</td>\n",
       "      <td>NaN</td>\n",
       "      <td>154.69</td>\n",
       "      <td>NaN</td>\n",
       "      <td>...</td>\n",
       "      <td>129.87</td>\n",
       "      <td>NaN</td>\n",
       "      <td>129.98</td>\n",
       "      <td>NaN</td>\n",
       "      <td>NaN</td>\n",
       "      <td>140.36</td>\n",
       "      <td>NaN</td>\n",
       "      <td>92.19</td>\n",
       "      <td>NaN</td>\n",
       "      <td>NaN</td>\n",
       "    </tr>\n",
       "    <tr>\n",
       "      <th>1</th>\n",
       "      <td>2018-12-19 02:00:00</td>\n",
       "      <td>519.63</td>\n",
       "      <td>NaN</td>\n",
       "      <td>NaN</td>\n",
       "      <td>NaN</td>\n",
       "      <td>NaN</td>\n",
       "      <td>NaN</td>\n",
       "      <td>NaN</td>\n",
       "      <td>155.01</td>\n",
       "      <td>NaN</td>\n",
       "      <td>...</td>\n",
       "      <td>129.95</td>\n",
       "      <td>NaN</td>\n",
       "      <td>130.02</td>\n",
       "      <td>NaN</td>\n",
       "      <td>NaN</td>\n",
       "      <td>140.55</td>\n",
       "      <td>NaN</td>\n",
       "      <td>92.11</td>\n",
       "      <td>NaN</td>\n",
       "      <td>NaN</td>\n",
       "    </tr>\n",
       "    <tr>\n",
       "      <th>2</th>\n",
       "      <td>2018-12-19 03:00:00</td>\n",
       "      <td>519.95</td>\n",
       "      <td>NaN</td>\n",
       "      <td>NaN</td>\n",
       "      <td>NaN</td>\n",
       "      <td>NaN</td>\n",
       "      <td>NaN</td>\n",
       "      <td>NaN</td>\n",
       "      <td>155.08</td>\n",
       "      <td>NaN</td>\n",
       "      <td>...</td>\n",
       "      <td>130.07</td>\n",
       "      <td>NaN</td>\n",
       "      <td>130.10</td>\n",
       "      <td>NaN</td>\n",
       "      <td>NaN</td>\n",
       "      <td>140.51</td>\n",
       "      <td>NaN</td>\n",
       "      <td>92.12</td>\n",
       "      <td>NaN</td>\n",
       "      <td>NaN</td>\n",
       "    </tr>\n",
       "    <tr>\n",
       "      <th>3</th>\n",
       "      <td>2018-12-19 04:00:00</td>\n",
       "      <td>520.09</td>\n",
       "      <td>NaN</td>\n",
       "      <td>NaN</td>\n",
       "      <td>NaN</td>\n",
       "      <td>NaN</td>\n",
       "      <td>NaN</td>\n",
       "      <td>NaN</td>\n",
       "      <td>155.16</td>\n",
       "      <td>NaN</td>\n",
       "      <td>...</td>\n",
       "      <td>130.26</td>\n",
       "      <td>NaN</td>\n",
       "      <td>130.50</td>\n",
       "      <td>NaN</td>\n",
       "      <td>NaN</td>\n",
       "      <td>140.57</td>\n",
       "      <td>NaN</td>\n",
       "      <td>92.18</td>\n",
       "      <td>NaN</td>\n",
       "      <td>NaN</td>\n",
       "    </tr>\n",
       "    <tr>\n",
       "      <th>4</th>\n",
       "      <td>2018-12-19 05:00:00</td>\n",
       "      <td>520.06</td>\n",
       "      <td>NaN</td>\n",
       "      <td>NaN</td>\n",
       "      <td>NaN</td>\n",
       "      <td>NaN</td>\n",
       "      <td>NaN</td>\n",
       "      <td>NaN</td>\n",
       "      <td>155.23</td>\n",
       "      <td>NaN</td>\n",
       "      <td>...</td>\n",
       "      <td>130.07</td>\n",
       "      <td>NaN</td>\n",
       "      <td>130.28</td>\n",
       "      <td>NaN</td>\n",
       "      <td>NaN</td>\n",
       "      <td>140.50</td>\n",
       "      <td>NaN</td>\n",
       "      <td>92.07</td>\n",
       "      <td>NaN</td>\n",
       "      <td>NaN</td>\n",
       "    </tr>\n",
       "  </tbody>\n",
       "</table>\n",
       "<p>5 rows × 97 columns</p>\n",
       "</div>"
      ],
      "text/plain": [
       "                 date  ZVQ_close  NCT_close  YAX_close  OOS_close  GFJ_close  \\\n",
       "0 2018-12-19 01:00:00     519.23        NaN        NaN        NaN        NaN   \n",
       "1 2018-12-19 02:00:00     519.63        NaN        NaN        NaN        NaN   \n",
       "2 2018-12-19 03:00:00     519.95        NaN        NaN        NaN        NaN   \n",
       "3 2018-12-19 04:00:00     520.09        NaN        NaN        NaN        NaN   \n",
       "4 2018-12-19 05:00:00     520.06        NaN        NaN        NaN        NaN   \n",
       "\n",
       "   FIR_close  USX_close  FSK_close  TMF_close  ...  AZG_close  OJG_close  \\\n",
       "0        NaN        NaN     154.69        NaN  ...     129.87        NaN   \n",
       "1        NaN        NaN     155.01        NaN  ...     129.95        NaN   \n",
       "2        NaN        NaN     155.08        NaN  ...     130.07        NaN   \n",
       "3        NaN        NaN     155.16        NaN  ...     130.26        NaN   \n",
       "4        NaN        NaN     155.23        NaN  ...     130.07        NaN   \n",
       "\n",
       "   WWT_close  BOT_close  TXR_close  RAT_close  DIG_close  SRI_close  \\\n",
       "0     129.98        NaN        NaN     140.36        NaN      92.19   \n",
       "1     130.02        NaN        NaN     140.55        NaN      92.11   \n",
       "2     130.10        NaN        NaN     140.51        NaN      92.12   \n",
       "3     130.50        NaN        NaN     140.57        NaN      92.18   \n",
       "4     130.28        NaN        NaN     140.50        NaN      92.07   \n",
       "\n",
       "   PHI_close  RWJ_close  \n",
       "0        NaN        NaN  \n",
       "1        NaN        NaN  \n",
       "2        NaN        NaN  \n",
       "3        NaN        NaN  \n",
       "4        NaN        NaN  \n",
       "\n",
       "[5 rows x 97 columns]"
      ]
     },
     "execution_count": 4,
     "metadata": {},
     "output_type": "execute_result"
    }
   ],
   "source": [
    "df.head()"
   ]
  },
  {
   "cell_type": "code",
   "execution_count": 4,
   "id": "retired-controversy",
   "metadata": {},
   "outputs": [
    {
     "data": {
      "text/html": [
       "<div>\n",
       "<style scoped>\n",
       "    .dataframe tbody tr th:only-of-type {\n",
       "        vertical-align: middle;\n",
       "    }\n",
       "\n",
       "    .dataframe tbody tr th {\n",
       "        vertical-align: top;\n",
       "    }\n",
       "\n",
       "    .dataframe thead th {\n",
       "        text-align: right;\n",
       "    }\n",
       "</style>\n",
       "<table border=\"1\" class=\"dataframe\">\n",
       "  <thead>\n",
       "    <tr style=\"text-align: right;\">\n",
       "      <th></th>\n",
       "      <th>ZVQ_close</th>\n",
       "      <th>NCT_close</th>\n",
       "      <th>YAX_close</th>\n",
       "      <th>OOS_close</th>\n",
       "      <th>GFJ_close</th>\n",
       "      <th>FIR_close</th>\n",
       "      <th>USX_close</th>\n",
       "      <th>FSK_close</th>\n",
       "      <th>TMF_close</th>\n",
       "      <th>TDD_close</th>\n",
       "      <th>...</th>\n",
       "      <th>AZG_close</th>\n",
       "      <th>OJG_close</th>\n",
       "      <th>WWT_close</th>\n",
       "      <th>BOT_close</th>\n",
       "      <th>TXR_close</th>\n",
       "      <th>RAT_close</th>\n",
       "      <th>DIG_close</th>\n",
       "      <th>SRI_close</th>\n",
       "      <th>PHI_close</th>\n",
       "      <th>RWJ_close</th>\n",
       "    </tr>\n",
       "    <tr>\n",
       "      <th>date</th>\n",
       "      <th></th>\n",
       "      <th></th>\n",
       "      <th></th>\n",
       "      <th></th>\n",
       "      <th></th>\n",
       "      <th></th>\n",
       "      <th></th>\n",
       "      <th></th>\n",
       "      <th></th>\n",
       "      <th></th>\n",
       "      <th></th>\n",
       "      <th></th>\n",
       "      <th></th>\n",
       "      <th></th>\n",
       "      <th></th>\n",
       "      <th></th>\n",
       "      <th></th>\n",
       "      <th></th>\n",
       "      <th></th>\n",
       "      <th></th>\n",
       "      <th></th>\n",
       "    </tr>\n",
       "  </thead>\n",
       "  <tbody>\n",
       "    <tr>\n",
       "      <th>2018-12-19</th>\n",
       "      <td>531.91</td>\n",
       "      <td>119.05</td>\n",
       "      <td>NaN</td>\n",
       "      <td>NaN</td>\n",
       "      <td>NaN</td>\n",
       "      <td>121.61</td>\n",
       "      <td>NaN</td>\n",
       "      <td>154.46</td>\n",
       "      <td>NaN</td>\n",
       "      <td>116.14</td>\n",
       "      <td>...</td>\n",
       "      <td>130.83</td>\n",
       "      <td>NaN</td>\n",
       "      <td>130.76</td>\n",
       "      <td>138.44</td>\n",
       "      <td>142.04</td>\n",
       "      <td>140.28</td>\n",
       "      <td>NaN</td>\n",
       "      <td>92.24</td>\n",
       "      <td>110.98</td>\n",
       "      <td>NaN</td>\n",
       "    </tr>\n",
       "    <tr>\n",
       "      <th>2018-12-20</th>\n",
       "      <td>531.91</td>\n",
       "      <td>119.47</td>\n",
       "      <td>NaN</td>\n",
       "      <td>NaN</td>\n",
       "      <td>NaN</td>\n",
       "      <td>121.61</td>\n",
       "      <td>NaN</td>\n",
       "      <td>156.63</td>\n",
       "      <td>NaN</td>\n",
       "      <td>117.09</td>\n",
       "      <td>...</td>\n",
       "      <td>131.67</td>\n",
       "      <td>NaN</td>\n",
       "      <td>132.69</td>\n",
       "      <td>140.03</td>\n",
       "      <td>141.87</td>\n",
       "      <td>140.28</td>\n",
       "      <td>NaN</td>\n",
       "      <td>92.18</td>\n",
       "      <td>110.98</td>\n",
       "      <td>NaN</td>\n",
       "    </tr>\n",
       "    <tr>\n",
       "      <th>2018-12-21</th>\n",
       "      <td>NaN</td>\n",
       "      <td>NaN</td>\n",
       "      <td>NaN</td>\n",
       "      <td>NaN</td>\n",
       "      <td>NaN</td>\n",
       "      <td>120.94</td>\n",
       "      <td>NaN</td>\n",
       "      <td>154.53</td>\n",
       "      <td>NaN</td>\n",
       "      <td>NaN</td>\n",
       "      <td>...</td>\n",
       "      <td>131.62</td>\n",
       "      <td>NaN</td>\n",
       "      <td>133.27</td>\n",
       "      <td>NaN</td>\n",
       "      <td>NaN</td>\n",
       "      <td>140.28</td>\n",
       "      <td>NaN</td>\n",
       "      <td>NaN</td>\n",
       "      <td>NaN</td>\n",
       "      <td>NaN</td>\n",
       "    </tr>\n",
       "    <tr>\n",
       "      <th>2018-12-22</th>\n",
       "      <td>NaN</td>\n",
       "      <td>NaN</td>\n",
       "      <td>NaN</td>\n",
       "      <td>NaN</td>\n",
       "      <td>NaN</td>\n",
       "      <td>NaN</td>\n",
       "      <td>NaN</td>\n",
       "      <td>NaN</td>\n",
       "      <td>NaN</td>\n",
       "      <td>NaN</td>\n",
       "      <td>...</td>\n",
       "      <td>NaN</td>\n",
       "      <td>NaN</td>\n",
       "      <td>NaN</td>\n",
       "      <td>NaN</td>\n",
       "      <td>NaN</td>\n",
       "      <td>NaN</td>\n",
       "      <td>NaN</td>\n",
       "      <td>NaN</td>\n",
       "      <td>NaN</td>\n",
       "      <td>NaN</td>\n",
       "    </tr>\n",
       "    <tr>\n",
       "      <th>2018-12-23</th>\n",
       "      <td>NaN</td>\n",
       "      <td>119.47</td>\n",
       "      <td>NaN</td>\n",
       "      <td>NaN</td>\n",
       "      <td>NaN</td>\n",
       "      <td>121.37</td>\n",
       "      <td>NaN</td>\n",
       "      <td>155.15</td>\n",
       "      <td>NaN</td>\n",
       "      <td>NaN</td>\n",
       "      <td>...</td>\n",
       "      <td>NaN</td>\n",
       "      <td>NaN</td>\n",
       "      <td>133.30</td>\n",
       "      <td>140.69</td>\n",
       "      <td>141.84</td>\n",
       "      <td>NaN</td>\n",
       "      <td>NaN</td>\n",
       "      <td>NaN</td>\n",
       "      <td>110.98</td>\n",
       "      <td>NaN</td>\n",
       "    </tr>\n",
       "  </tbody>\n",
       "</table>\n",
       "<p>5 rows × 96 columns</p>\n",
       "</div>"
      ],
      "text/plain": [
       "            ZVQ_close  NCT_close  YAX_close  OOS_close  GFJ_close  FIR_close  \\\n",
       "date                                                                           \n",
       "2018-12-19     531.91     119.05        NaN        NaN        NaN     121.61   \n",
       "2018-12-20     531.91     119.47        NaN        NaN        NaN     121.61   \n",
       "2018-12-21        NaN        NaN        NaN        NaN        NaN     120.94   \n",
       "2018-12-22        NaN        NaN        NaN        NaN        NaN        NaN   \n",
       "2018-12-23        NaN     119.47        NaN        NaN        NaN     121.37   \n",
       "\n",
       "            USX_close  FSK_close  TMF_close  TDD_close  ...  AZG_close  \\\n",
       "date                                                    ...              \n",
       "2018-12-19        NaN     154.46        NaN     116.14  ...     130.83   \n",
       "2018-12-20        NaN     156.63        NaN     117.09  ...     131.67   \n",
       "2018-12-21        NaN     154.53        NaN        NaN  ...     131.62   \n",
       "2018-12-22        NaN        NaN        NaN        NaN  ...        NaN   \n",
       "2018-12-23        NaN     155.15        NaN        NaN  ...        NaN   \n",
       "\n",
       "            OJG_close  WWT_close  BOT_close  TXR_close  RAT_close  DIG_close  \\\n",
       "date                                                                           \n",
       "2018-12-19        NaN     130.76     138.44     142.04     140.28        NaN   \n",
       "2018-12-20        NaN     132.69     140.03     141.87     140.28        NaN   \n",
       "2018-12-21        NaN     133.27        NaN        NaN     140.28        NaN   \n",
       "2018-12-22        NaN        NaN        NaN        NaN        NaN        NaN   \n",
       "2018-12-23        NaN     133.30     140.69     141.84        NaN        NaN   \n",
       "\n",
       "            SRI_close  PHI_close  RWJ_close  \n",
       "date                                         \n",
       "2018-12-19      92.24     110.98        NaN  \n",
       "2018-12-20      92.18     110.98        NaN  \n",
       "2018-12-21        NaN        NaN        NaN  \n",
       "2018-12-22        NaN        NaN        NaN  \n",
       "2018-12-23        NaN     110.98        NaN  \n",
       "\n",
       "[5 rows x 96 columns]"
      ]
     },
     "execution_count": 4,
     "metadata": {},
     "output_type": "execute_result"
    }
   ],
   "source": [
    "df_daily.head()"
   ]
  },
  {
   "cell_type": "code",
   "execution_count": 5,
   "id": "balanced-albany",
   "metadata": {},
   "outputs": [
    {
     "data": {
      "text/plain": [
       "ZVQ_close    0.201097\n",
       "NCT_close    0.261426\n",
       "YAX_close    0.760512\n",
       "OOS_close    0.274223\n",
       "GFJ_close    0.372943\n",
       "               ...   \n",
       "RAT_close    0.186472\n",
       "DIG_close    0.477148\n",
       "SRI_close    0.212066\n",
       "PHI_close    0.281536\n",
       "RWJ_close    0.301645\n",
       "Length: 96, dtype: float64"
      ]
     },
     "execution_count": 5,
     "metadata": {},
     "output_type": "execute_result"
    }
   ],
   "source": [
    "df_daily.isna().sum()/df_daily.shape[0]"
   ]
  },
  {
   "cell_type": "code",
   "execution_count": 6,
   "id": "subject-entry",
   "metadata": {},
   "outputs": [
    {
     "data": {
      "text/plain": [
       "(array([51., 17.,  8.,  3.,  8.,  6.,  0.,  2.,  0.,  1.]),\n",
       " array([ 81. , 123.1, 165.2, 207.3, 249.4, 291.5, 333.6, 375.7, 417.8,\n",
       "        459.9, 502. ]),\n",
       " <BarContainer object of 10 artists>)"
      ]
     },
     "execution_count": 6,
     "metadata": {},
     "output_type": "execute_result"
    },
    {
     "data": {
      "image/png": "[encoded data removed]",
      "text/plain": [
       "<Figure size 432x288 with 1 Axes>"
      ]
     },
     "metadata": {
      "needs_background": "light"
     },
     "output_type": "display_data"
    }
   ],
   "source": [
    "plt.hist(df_daily.isna().sum().tolist())"
   ]
  },
  {
   "cell_type": "code",
   "execution_count": 7,
   "id": "blessed-precipitation",
   "metadata": {},
   "outputs": [
    {
     "data": {
      "text/plain": [
       "(array([51., 17.,  8.,  3.,  8.,  6.,  0.,  2.,  0.,  1.]),\n",
       " array([0.14808044, 0.2250457 , 0.30201097, 0.37897623, 0.4559415 ,\n",
       "        0.53290676, 0.60987203, 0.68683729, 0.76380256, 0.84076782,\n",
       "        0.91773309]),\n",
       " <BarContainer object of 10 artists>)"
      ]
     },
     "execution_count": 7,
     "metadata": {},
     "output_type": "execute_result"
    },
    {
     "data": {
      "image/png": "[encoded data removed]",
      "text/plain": [
       "<Figure size 432x288 with 1 Axes>"
      ]
     },
     "metadata": {
      "needs_background": "light"
     },
     "output_type": "display_data"
    }
   ],
   "source": [
    "plt.hist(df_daily.isna().sum()/df_daily.shape[0])"
   ]
  },
  {
   "cell_type": "code",
   "execution_count": 8,
   "id": "amateur-applicant",
   "metadata": {},
   "outputs": [
    {
     "data": {
      "text/plain": [
       "14.0"
      ]
     },
     "execution_count": 8,
     "metadata": {},
     "output_type": "execute_result"
    }
   ],
   "source": [
    "52*2 / 52*7"
   ]
  },
  {
   "cell_type": "code",
   "execution_count": 9,
   "id": "elementary-speaking",
   "metadata": {},
   "outputs": [],
   "source": [
    "df_daily.fillna(method=\"ffill\", inplace=True)"
   ]
  },
  {
   "cell_type": "code",
   "execution_count": 10,
   "id": "operating-venice",
   "metadata": {},
   "outputs": [
    {
     "data": {
      "text/plain": [
       "(array([68.,  4.,  5.,  2.,  8.,  5.,  1.,  2.,  0.,  1.]),\n",
       " array([0.        , 0.09031079, 0.18062157, 0.27093236, 0.36124314,\n",
       "        0.45155393, 0.54186472, 0.6321755 , 0.72248629, 0.81279707,\n",
       "        0.90310786]),\n",
       " <BarContainer object of 10 artists>)"
      ]
     },
     "execution_count": 10,
     "metadata": {},
     "output_type": "execute_result"
    },
    {
     "data": {
      "image/png": "[encoded data removed]",
      "text/plain": [
       "<Figure size 432x288 with 1 Axes>"
      ]
     },
     "metadata": {
      "needs_background": "light"
     },
     "output_type": "display_data"
    }
   ],
   "source": [
    "plt.hist(df_daily.isna().sum()/df_daily.shape[0])"
   ]
  },
  {
   "cell_type": "code",
   "execution_count": 11,
   "id": "institutional-defensive",
   "metadata": {},
   "outputs": [],
   "source": [
    "df_daily_filter = df_daily.loc[:, (df_daily.isna().sum()/df_daily.shape[0]) < 0.2]"
   ]
  },
  {
   "cell_type": "code",
   "execution_count": 12,
   "id": "authentic-failure",
   "metadata": {},
   "outputs": [
    {
     "data": {
      "text/plain": [
       "610"
      ]
     },
     "execution_count": 12,
     "metadata": {},
     "output_type": "execute_result"
    }
   ],
   "source": [
    "df_daily_filter.isna().sum().sum()"
   ]
  },
  {
   "cell_type": "code",
   "execution_count": 30,
   "id": "handled-award",
   "metadata": {},
   "outputs": [
    {
     "data": {
      "text/plain": [
       "0.09415210570417909"
      ]
     },
     "execution_count": 30,
     "metadata": {},
     "output_type": "execute_result"
    }
   ],
   "source": [
    "mean_historical_return(df_daily_filter).mean()\n"
   ]
  },
  {
   "cell_type": "code",
   "execution_count": 31,
   "id": "spanish-negative",
   "metadata": {},
   "outputs": [
    {
     "data": {
      "text/plain": [
       "0.10349743943992394"
      ]
     },
     "execution_count": 31,
     "metadata": {},
     "output_type": "execute_result"
    }
   ],
   "source": [
    "mean_historical_return(df_daily).mean()\n"
   ]
  },
  {
   "cell_type": "code",
   "execution_count": 3,
   "id": "governing-mainland",
   "metadata": {},
   "outputs": [],
   "source": [
    "from portfolio_optimization import get_portfolio_weights"
   ]
  },
  {
   "cell_type": "code",
   "execution_count": 5,
   "id": "permanent-waste",
   "metadata": {},
   "outputs": [],
   "source": [
    "weights = get_portfolio_weights(df_daily, clean=True, req_return=0.005)"
   ]
  },
  {
   "cell_type": "code",
   "execution_count": 6,
   "id": "gross-horizontal",
   "metadata": {},
   "outputs": [],
   "source": [
    "from general_utils import get_submission_markowitz\n"
   ]
  },
  {
   "cell_type": "code",
   "execution_count": 8,
   "id": "identified-train",
   "metadata": {},
   "outputs": [],
   "source": [
    "assets = [asset.replace(\"_close\", \"\") for asset in df_daily.columns]"
   ]
  },
  {
   "cell_type": "code",
   "execution_count": 15,
   "id": "available-namibia",
   "metadata": {},
   "outputs": [],
   "source": [
    "import pandas as pd"
   ]
  },
  {
   "cell_type": "code",
   "execution_count": 19,
   "id": "chubby-television",
   "metadata": {},
   "outputs": [],
   "source": [
    "def _fix_weights(weights):\n",
    "    suma_weights = sum(weights.values())\n",
    "    if suma_weights < 1.0:\n",
    "        #print(sum(weights.values()))\n",
    "        max_weight_asset = list(sorted(weights, key=weights.get, reverse=True))[0]\n",
    "        falta = 1 - suma_weights\n",
    "        weights[max_weight_asset] += falta\n",
    "        #print(sum(weights.values()))\n",
    "        assert sum(weights.values()) == 1.0\n",
    "        return weights\n",
    "    elif suma_weights > 1.0:\n",
    "        max_weight_asset = list(sorted(weights, key=weights.get, reverse=True))[0]\n",
    "        sobra = suma_weights - 1\n",
    "        weights[max_weight_asset] -= sobra\n",
    "        assert sum(weights.values()) == 1.0\n",
    "        assert all([v > 0 for v in weights.values])\n",
    "    return weights"
   ]
  },
  {
   "cell_type": "code",
   "execution_count": 20,
   "id": "hollywood-relaxation",
   "metadata": {},
   "outputs": [],
   "source": [
    "w = _fix_weights(weights)"
   ]
  },
  {
   "cell_type": "code",
   "execution_count": 12,
   "id": "meaning-month",
   "metadata": {},
   "outputs": [
    {
     "data": {
      "text/plain": [
       "1.0"
      ]
     },
     "execution_count": 12,
     "metadata": {},
     "output_type": "execute_result"
    }
   ],
   "source": [
    "sum(weights.values())"
   ]
  },
  {
   "cell_type": "code",
   "execution_count": 22,
   "id": "defined-running",
   "metadata": {},
   "outputs": [
    {
     "data": {
      "text/plain": [
       "False"
      ]
     },
     "execution_count": 22,
     "metadata": {},
     "output_type": "execute_result"
    }
   ],
   "source": [
    "any([v<0 for v in w.values()])"
   ]
  },
  {
   "cell_type": "code",
   "execution_count": null,
   "id": "amino-apache",
   "metadata": {},
   "outputs": [],
   "source": []
  },
  {
   "cell_type": "code",
   "execution_count": 23,
   "id": "bigger-chrome",
   "metadata": {},
   "outputs": [],
   "source": [
    "def get_submission_markowitz(weights, assets):\n",
    "    weights = _fix_weights(weights)\n",
    "    subm_plantilla = pd.read_csv(\"./submission/submission.csv\")\n",
    "    date = subm_plantilla[\"eod_ts\"]\n",
    "    cols = {\n",
    "        f\"allo_{asset}\": [weights[f\"{asset}_close\"]] * len(date) for asset in assets\n",
    "    }\n",
    "    return pd.DataFrame({\"eod_ts\": date, **cols})"
   ]
  },
  {
   "cell_type": "code",
   "execution_count": 13,
   "id": "liquid-prospect",
   "metadata": {},
   "outputs": [],
   "source": [
    "def _fix_weights(weights):\n",
    "    suma_weights = sum(weights.values())\n",
    "    if suma_weights < 1.0:\n",
    "        #print(sum(weights.values()))\n",
    "        max_weight_asset = list(sorted(weights, key=weights.get, reverse=True))[0]\n",
    "        falta = 1 - suma_weights\n",
    "        weights[max_weight_asset] += falta\n",
    "        #print(sum(weights.values()))\n",
    "        assert sum(weights.values()) == 1.0\n",
    "        return weights\n",
    "    elif suma_weights > 1.0:\n",
    "        max_weight_asset = list(sorted(weights, key=weights.get, reverse=True))[0]\n",
    "        sobra = suma_weights - 1\n",
    "        weights[max_weight_asset] -= sobra\n",
    "        assert sum(weights.values()) == 1.0\n",
    "        assert all([v > 0 for v in weights.values()])\n",
    "    return weights\n",
    "\n",
    "\n",
    "def get_submission_markowitz(weights, assets):\n",
    "    weights = _fix_weights(weights)\n",
    "    subm_plantilla = pd.read_csv(\"./submission/submission.csv\")\n",
    "    date = subm_plantilla[\"eod_ts\"]\n",
    "    cols = {\n",
    "        f\"allo_{asset}\": [weights[f\"{asset}_close\"]] * len(date) for asset in assets\n",
    "    }\n",
    "    return pd.DataFrame({\"eod_ts\": date, **cols})"
   ]
  },
  {
   "cell_type": "code",
   "execution_count": 16,
   "id": "variable-torture",
   "metadata": {},
   "outputs": [],
   "source": [
    "submission = get_submission_markowitz(weights, assets)"
   ]
  },
  {
   "cell_type": "code",
   "execution_count": 20,
   "id": "early-benchmark",
   "metadata": {},
   "outputs": [
    {
     "data": {
      "text/plain": [
       "2229.0"
      ]
     },
     "execution_count": 20,
     "metadata": {},
     "output_type": "execute_result"
    }
   ],
   "source": [
    "submission.sum(axis=1).sum()"
   ]
  },
  {
   "cell_type": "code",
   "execution_count": 21,
   "id": "spatial-symbol",
   "metadata": {},
   "outputs": [
    {
     "data": {
      "text/plain": [
       "(2229, 97)"
      ]
     },
     "execution_count": 21,
     "metadata": {},
     "output_type": "execute_result"
    }
   ],
   "source": [
    "submission.shape"
   ]
  },
  {
   "cell_type": "code",
   "execution_count": 18,
   "id": "important-awareness",
   "metadata": {},
   "outputs": [
    {
     "data": {
      "text/plain": [
       "eod_ts       object\n",
       "allo_ZVQ    float64\n",
       "allo_NCT    float64\n",
       "allo_YAX    float64\n",
       "allo_OOS    float64\n",
       "             ...   \n",
       "allo_RAT    float64\n",
       "allo_DIG    float64\n",
       "allo_SRI    float64\n",
       "allo_PHI    float64\n",
       "allo_RWJ    float64\n",
       "Length: 97, dtype: object"
      ]
     },
     "execution_count": 18,
     "metadata": {},
     "output_type": "execute_result"
    }
   ],
   "source": [
    "submission.dtypes"
   ]
  },
  {
   "cell_type": "code",
   "execution_count": 19,
   "id": "working-strength",
   "metadata": {},
   "outputs": [
    {
     "data": {
      "text/plain": [
       "0       0.0\n",
       "1       0.0\n",
       "2       0.0\n",
       "3       0.0\n",
       "4       0.0\n",
       "       ... \n",
       "2224    0.0\n",
       "2225    0.0\n",
       "2226    0.0\n",
       "2227    0.0\n",
       "2228    0.0\n",
       "Length: 2229, dtype: float64"
      ]
     },
     "execution_count": 19,
     "metadata": {},
     "output_type": "execute_result"
    }
   ],
   "source": [
    "submission.iloc[:, 1:].where(submission.iloc[:,1:] < 0).sum(axis=1)"
   ]
  },
  {
   "cell_type": "code",
   "execution_count": null,
   "id": "military-giving",
   "metadata": {},
   "outputs": [],
   "source": [
    "from pypfopt.efficient_frontier import EfficientFrontier\n",
    "from pypfopt.expected_returns import mean_historical_return\n",
    "from pypfopt.risk_models import CovarianceShrinkage\n"
   ]
  },
  {
   "cell_type": "code",
   "execution_count": 22,
   "id": "protecting-gardening",
   "metadata": {},
   "outputs": [],
   "source": [
    "submission.to_csv(\"submission_0102_2.csv\", header=True, index=False, encoding=\"utf-8\")"
   ]
  },
  {
   "cell_type": "code",
   "execution_count": null,
   "id": "rocky-welcome",
   "metadata": {},
   "outputs": [],
   "source": [
    "def get_portfolio_weights(df, clean=False):\n",
    "    \"\"\"\n",
    "    Returns the portfolio weights, following Markowitz's\n",
    "    Modern Portfolio Theory to maximize sharpe ratio.\n",
    "    \"\"\"\n",
    "    mu = mean_historical_return(df)\n",
    "    S = CovarianceShrinkage(df).ledoit_wolf()\n",
    "    ef = EfficientFrontier(mu, S)\n",
    "    weights = ef.max_sharpe()\n",
    "    if clean:\n",
    "        weights = ef.clean_weights()\n",
    "    #weights = _fix_weights(weights)\n",
    "    return weights\n"
   ]
  },
  {
   "cell_type": "code",
   "execution_count": null,
   "id": "flexible-single",
   "metadata": {},
   "outputs": [],
   "source": [
    "weights = get_portfolio_weights(df_daily_filter, clean=True)"
   ]
  },
  {
   "cell_type": "code",
   "execution_count": null,
   "id": "ambient-samba",
   "metadata": {},
   "outputs": [],
   "source": [
    "sum(weights.values())"
   ]
  },
  {
   "cell_type": "code",
   "execution_count": null,
   "id": "exact-meter",
   "metadata": {},
   "outputs": [],
   "source": []
  }
 ],
 "metadata": {
  "kernelspec": {
   "display_name": "Python [conda env:series_temporales] *",
   "language": "python",
   "name": "conda-env-series_temporales-py"
  },
  "language_info": {
   "codemirror_mode": {
    "name": "ipython",
    "version": 3
   },
   "file_extension": ".py",
   "mimetype": "text/x-python",
   "name": "python",
   "nbconvert_exporter": "python",
   "pygments_lexer": "ipython3",
   "version": "3.7.9"
  }
 },
 "nbformat": 4,
 "nbformat_minor": 5
}
