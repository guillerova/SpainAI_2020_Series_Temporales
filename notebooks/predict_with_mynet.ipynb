{
 "cells": [
  {
   "cell_type": "code",
   "execution_count": 34,
   "id": "sitting-camel",
   "metadata": {},
   "outputs": [],
   "source": [
    "import torch\n",
    "from opt_nets import MyNetwork, get_predictions\n",
    "import numpy as np\n",
    "from submission_utils import get_submission_markowitz, general_weights_fixer, test_submission\n",
    "from data_utils import read_all_candles\n",
    "import pandas as pd\n"
   ]
  },
  {
   "cell_type": "code",
   "execution_count": 3,
   "id": "arbitrary-letters",
   "metadata": {},
   "outputs": [],
   "source": [
    "network = MyNetwork(\n",
    "        96,\n",
    "        max_weight=0.2,\n",
    "        force_symmetric=True,\n",
    "        n_clusters=2,\n",
    "        n_init=100,\n",
    "        init=\"k-means++\",\n",
    "        random_state=None,\n",
    "    )"
   ]
  },
  {
   "cell_type": "code",
   "execution_count": 5,
   "id": "posted-rhythm",
   "metadata": {},
   "outputs": [
    {
     "data": {
      "text/plain": [
       "<All keys matched successfully>"
      ]
     },
     "execution_count": 5,
     "metadata": {},
     "output_type": "execute_result"
    }
   ],
   "source": [
    "network.load_state_dict(torch.load(\"models_2403/mynetwork_2403.pt\"))"
   ]
  },
  {
   "cell_type": "code",
   "execution_count": 7,
   "id": "union-serbia",
   "metadata": {},
   "outputs": [],
   "source": [
    "def get_predictions(model, n_channels, lookback, n_assets):\n",
    "    w_pred = (\n",
    "        model\n",
    "        .to(\"cpu\")(torch.ones(1, n_channels, lookback, n_assets).cpu())\n",
    "        .cpu()\n",
    "        .detach()\n",
    "        .numpy()\n",
    "        .squeeze()\n",
    "    )\n",
    "    return w_pred"
   ]
  },
  {
   "cell_type": "code",
   "execution_count": 8,
   "id": "adjustable-empire",
   "metadata": {},
   "outputs": [],
   "source": [
    "preds = get_predictions(network, 4, 60, 96)"
   ]
  },
  {
   "cell_type": "code",
   "execution_count": 9,
   "id": "comparative-senior",
   "metadata": {},
   "outputs": [
    {
     "data": {
      "text/plain": [
       "array([-0.25765452, -0.33364168,  0.68374044, -0.01000493,  0.05360133,\n",
       "       -0.04072409,  0.03489765, -0.03997862,  0.67171174, -0.5362123 ,\n",
       "        0.35966536,  0.2660258 , -0.6722335 ,  0.8437172 , -0.02823243,\n",
       "       -0.8957228 , -0.09132884, -0.39747235,  0.15730008,  0.09125657,\n",
       "        0.26792106, -0.11328404, -0.1304497 , -0.01313755, -0.26236245,\n",
       "        0.05742706, -0.23120216, -0.1857794 , -0.09724005,  0.20235777,\n",
       "       -0.08224139, -0.25102645, -0.4722216 , -0.4686712 ,  0.549304  ,\n",
       "        0.21912408,  0.10653103,  0.06932335, -0.1372239 ,  0.12150095,\n",
       "        0.2904611 ,  0.19688725, -2.360684  ,  0.41441184,  0.08262783,\n",
       "        0.09113218,  0.30425635, -0.25680572, -0.13463981, -0.11757946,\n",
       "        0.57206404, -0.08529983,  0.44372186,  0.17515022,  0.5770836 ,\n",
       "       -0.2641881 ,  0.2625934 , -0.07316159,  0.02884555,  0.2958549 ,\n",
       "       -0.06818055, -0.19900487,  0.06335143, -0.11180976,  0.4057709 ,\n",
       "        0.1618715 ,  0.18365976,  0.34680125, -0.14527431,  0.07379977,\n",
       "       -0.09039804,  0.5818041 ,  0.37687725,  0.22695121,  0.4940035 ,\n",
       "       -0.14063619,  0.08639604, -0.20581472, -0.08094838,  0.21605405,\n",
       "       -0.0985841 ,  0.35998264,  0.04350784, -0.00929843,  0.21667704,\n",
       "       -0.00800473, -0.05812286,  0.81399435, -0.4215347 , -2.1085424 ,\n",
       "        0.20990722,  0.25987402, -0.61653495,  0.37018585,  0.0049288 ,\n",
       "        0.41619873], dtype=float32)"
      ]
     },
     "execution_count": 9,
     "metadata": {},
     "output_type": "execute_result"
    }
   ],
   "source": [
    "preds"
   ]
  },
  {
   "cell_type": "code",
   "execution_count": 11,
   "id": "alert-cambodia",
   "metadata": {},
   "outputs": [],
   "source": [
    "preds = np.clip(preds, 0, 0.2)"
   ]
  },
  {
   "cell_type": "code",
   "execution_count": 12,
   "id": "stupid-galaxy",
   "metadata": {},
   "outputs": [],
   "source": [
    "preds = preds / preds.sum()"
   ]
  },
  {
   "cell_type": "code",
   "execution_count": 13,
   "id": "pharmaceutical-wealth",
   "metadata": {},
   "outputs": [
    {
     "data": {
      "text/plain": [
       "1.0"
      ]
     },
     "execution_count": 13,
     "metadata": {},
     "output_type": "execute_result"
    }
   ],
   "source": [
    "preds.sum()"
   ]
  },
  {
   "cell_type": "code",
   "execution_count": 14,
   "id": "random-springfield",
   "metadata": {},
   "outputs": [
    {
     "data": {
      "text/plain": [
       "array([0.        , 0.        , 0.02474024, 0.        , 0.00663055,\n",
       "       0.        , 0.00431688, 0.        , 0.02474024, 0.        ,\n",
       "       0.02474024, 0.02474024, 0.        , 0.02474024, 0.        ,\n",
       "       0.        , 0.        , 0.        , 0.01945821, 0.01128855,\n",
       "       0.02474024, 0.        , 0.        , 0.        , 0.        ,\n",
       "       0.0071038 , 0.        , 0.        , 0.        , 0.02474024,\n",
       "       0.        , 0.        , 0.        , 0.        , 0.02474024,\n",
       "       0.02474024, 0.01317802, 0.00857538, 0.        , 0.01502981,\n",
       "       0.02474024, 0.02435519, 0.        , 0.02474024, 0.01022116,\n",
       "       0.01127316, 0.02474024, 0.        , 0.        , 0.        ,\n",
       "       0.02474024, 0.        , 0.02474024, 0.02166629, 0.02474024,\n",
       "       0.        , 0.02474024, 0.        , 0.00356823, 0.02474024,\n",
       "       0.        , 0.        , 0.00783665, 0.        , 0.02474024,\n",
       "       0.0200237 , 0.02271893, 0.02474024, 0.        , 0.00912912,\n",
       "       0.        , 0.02474024, 0.02474024, 0.02474024, 0.02474024,\n",
       "       0.        , 0.01068729, 0.        , 0.        , 0.02474024,\n",
       "       0.        , 0.02474024, 0.00538197, 0.        , 0.02474024,\n",
       "       0.        , 0.        , 0.02474024, 0.        , 0.        ,\n",
       "       0.02474024, 0.02474024, 0.        , 0.02474024, 0.0006097 ,\n",
       "       0.02474024], dtype=float32)"
      ]
     },
     "execution_count": 14,
     "metadata": {},
     "output_type": "execute_result"
    }
   ],
   "source": [
    "preds"
   ]
  },
  {
   "cell_type": "code",
   "execution_count": 17,
   "id": "interpreted-ending",
   "metadata": {},
   "outputs": [
    {
     "name": "stderr",
     "output_type": "stream",
     "text": [
      "Getting candles data for Darwins...: 100%|██████████| 96/96 [00:01<00:00, 64.74it/s]\n"
     ]
    }
   ],
   "source": [
    "candles = read_all_candles()"
   ]
  },
  {
   "cell_type": "code",
   "execution_count": 19,
   "id": "relevant-opera",
   "metadata": {},
   "outputs": [],
   "source": [
    "submal = pd.read_csv(\"submission_2103.csv\")"
   ]
  },
  {
   "cell_type": "code",
   "execution_count": 20,
   "id": "designing-editor",
   "metadata": {},
   "outputs": [
    {
     "data": {
      "text/html": [
       "<div>\n",
       "<style scoped>\n",
       "    .dataframe tbody tr th:only-of-type {\n",
       "        vertical-align: middle;\n",
       "    }\n",
       "\n",
       "    .dataframe tbody tr th {\n",
       "        vertical-align: top;\n",
       "    }\n",
       "\n",
       "    .dataframe thead th {\n",
       "        text-align: right;\n",
       "    }\n",
       "</style>\n",
       "<table border=\"1\" class=\"dataframe\">\n",
       "  <thead>\n",
       "    <tr style=\"text-align: right;\">\n",
       "      <th></th>\n",
       "      <th>eod_ts</th>\n",
       "      <th>allo_ZVQ</th>\n",
       "      <th>allo_NCT</th>\n",
       "      <th>allo_YAX</th>\n",
       "      <th>allo_OOS</th>\n",
       "      <th>allo_GFJ</th>\n",
       "      <th>allo_FIR</th>\n",
       "      <th>allo_USX</th>\n",
       "      <th>allo_FSK</th>\n",
       "      <th>allo_TMF</th>\n",
       "      <th>...</th>\n",
       "      <th>allo_AZG</th>\n",
       "      <th>allo_OJG</th>\n",
       "      <th>allo_WWT</th>\n",
       "      <th>allo_BOT</th>\n",
       "      <th>allo_TXR</th>\n",
       "      <th>allo_RAT</th>\n",
       "      <th>allo_DIG</th>\n",
       "      <th>allo_SRI</th>\n",
       "      <th>allo_PHI</th>\n",
       "      <th>allo_RWJ</th>\n",
       "    </tr>\n",
       "  </thead>\n",
       "  <tbody>\n",
       "    <tr>\n",
       "      <th>0</th>\n",
       "      <td>2020-08-18 00:00:00</td>\n",
       "      <td>0.0</td>\n",
       "      <td>0.0</td>\n",
       "      <td>0.7653</td>\n",
       "      <td>0.0</td>\n",
       "      <td>0.0571</td>\n",
       "      <td>0.0</td>\n",
       "      <td>0.034</td>\n",
       "      <td>0.0</td>\n",
       "      <td>0.7199</td>\n",
       "      <td>...</td>\n",
       "      <td>0.0</td>\n",
       "      <td>0.8757</td>\n",
       "      <td>0.0</td>\n",
       "      <td>0.0</td>\n",
       "      <td>0.2181</td>\n",
       "      <td>0.2732</td>\n",
       "      <td>0.0</td>\n",
       "      <td>0.3957</td>\n",
       "      <td>0.0048</td>\n",
       "      <td>0.4489</td>\n",
       "    </tr>\n",
       "    <tr>\n",
       "      <th>1</th>\n",
       "      <td>2020-08-18 01:00:00</td>\n",
       "      <td>0.0</td>\n",
       "      <td>0.0</td>\n",
       "      <td>0.7653</td>\n",
       "      <td>0.0</td>\n",
       "      <td>0.0571</td>\n",
       "      <td>0.0</td>\n",
       "      <td>0.034</td>\n",
       "      <td>0.0</td>\n",
       "      <td>0.7199</td>\n",
       "      <td>...</td>\n",
       "      <td>0.0</td>\n",
       "      <td>0.8757</td>\n",
       "      <td>0.0</td>\n",
       "      <td>0.0</td>\n",
       "      <td>0.2181</td>\n",
       "      <td>0.2732</td>\n",
       "      <td>0.0</td>\n",
       "      <td>0.3957</td>\n",
       "      <td>0.0048</td>\n",
       "      <td>0.4489</td>\n",
       "    </tr>\n",
       "    <tr>\n",
       "      <th>2</th>\n",
       "      <td>2020-08-18 02:00:00</td>\n",
       "      <td>0.0</td>\n",
       "      <td>0.0</td>\n",
       "      <td>0.7653</td>\n",
       "      <td>0.0</td>\n",
       "      <td>0.0571</td>\n",
       "      <td>0.0</td>\n",
       "      <td>0.034</td>\n",
       "      <td>0.0</td>\n",
       "      <td>0.7199</td>\n",
       "      <td>...</td>\n",
       "      <td>0.0</td>\n",
       "      <td>0.8757</td>\n",
       "      <td>0.0</td>\n",
       "      <td>0.0</td>\n",
       "      <td>0.2181</td>\n",
       "      <td>0.2732</td>\n",
       "      <td>0.0</td>\n",
       "      <td>0.3957</td>\n",
       "      <td>0.0048</td>\n",
       "      <td>0.4489</td>\n",
       "    </tr>\n",
       "    <tr>\n",
       "      <th>3</th>\n",
       "      <td>2020-08-18 03:00:00</td>\n",
       "      <td>0.0</td>\n",
       "      <td>0.0</td>\n",
       "      <td>0.7653</td>\n",
       "      <td>0.0</td>\n",
       "      <td>0.0571</td>\n",
       "      <td>0.0</td>\n",
       "      <td>0.034</td>\n",
       "      <td>0.0</td>\n",
       "      <td>0.7199</td>\n",
       "      <td>...</td>\n",
       "      <td>0.0</td>\n",
       "      <td>0.8757</td>\n",
       "      <td>0.0</td>\n",
       "      <td>0.0</td>\n",
       "      <td>0.2181</td>\n",
       "      <td>0.2732</td>\n",
       "      <td>0.0</td>\n",
       "      <td>0.3957</td>\n",
       "      <td>0.0048</td>\n",
       "      <td>0.4489</td>\n",
       "    </tr>\n",
       "    <tr>\n",
       "      <th>4</th>\n",
       "      <td>2020-08-18 04:00:00</td>\n",
       "      <td>0.0</td>\n",
       "      <td>0.0</td>\n",
       "      <td>0.7653</td>\n",
       "      <td>0.0</td>\n",
       "      <td>0.0571</td>\n",
       "      <td>0.0</td>\n",
       "      <td>0.034</td>\n",
       "      <td>0.0</td>\n",
       "      <td>0.7199</td>\n",
       "      <td>...</td>\n",
       "      <td>0.0</td>\n",
       "      <td>0.8757</td>\n",
       "      <td>0.0</td>\n",
       "      <td>0.0</td>\n",
       "      <td>0.2181</td>\n",
       "      <td>0.2732</td>\n",
       "      <td>0.0</td>\n",
       "      <td>0.3957</td>\n",
       "      <td>0.0048</td>\n",
       "      <td>0.4489</td>\n",
       "    </tr>\n",
       "  </tbody>\n",
       "</table>\n",
       "<p>5 rows × 97 columns</p>\n",
       "</div>"
      ],
      "text/plain": [
       "                eod_ts  allo_ZVQ  allo_NCT  allo_YAX  allo_OOS  allo_GFJ  \\\n",
       "0  2020-08-18 00:00:00       0.0       0.0    0.7653       0.0    0.0571   \n",
       "1  2020-08-18 01:00:00       0.0       0.0    0.7653       0.0    0.0571   \n",
       "2  2020-08-18 02:00:00       0.0       0.0    0.7653       0.0    0.0571   \n",
       "3  2020-08-18 03:00:00       0.0       0.0    0.7653       0.0    0.0571   \n",
       "4  2020-08-18 04:00:00       0.0       0.0    0.7653       0.0    0.0571   \n",
       "\n",
       "   allo_FIR  allo_USX  allo_FSK  allo_TMF  ...  allo_AZG  allo_OJG  allo_WWT  \\\n",
       "0       0.0     0.034       0.0    0.7199  ...       0.0    0.8757       0.0   \n",
       "1       0.0     0.034       0.0    0.7199  ...       0.0    0.8757       0.0   \n",
       "2       0.0     0.034       0.0    0.7199  ...       0.0    0.8757       0.0   \n",
       "3       0.0     0.034       0.0    0.7199  ...       0.0    0.8757       0.0   \n",
       "4       0.0     0.034       0.0    0.7199  ...       0.0    0.8757       0.0   \n",
       "\n",
       "   allo_BOT  allo_TXR  allo_RAT  allo_DIG  allo_SRI  allo_PHI  allo_RWJ  \n",
       "0       0.0    0.2181    0.2732       0.0    0.3957    0.0048    0.4489  \n",
       "1       0.0    0.2181    0.2732       0.0    0.3957    0.0048    0.4489  \n",
       "2       0.0    0.2181    0.2732       0.0    0.3957    0.0048    0.4489  \n",
       "3       0.0    0.2181    0.2732       0.0    0.3957    0.0048    0.4489  \n",
       "4       0.0    0.2181    0.2732       0.0    0.3957    0.0048    0.4489  \n",
       "\n",
       "[5 rows x 97 columns]"
      ]
     },
     "execution_count": 20,
     "metadata": {},
     "output_type": "execute_result"
    }
   ],
   "source": [
    "submal.head()"
   ]
  },
  {
   "cell_type": "code",
   "execution_count": 23,
   "id": "institutional-black",
   "metadata": {},
   "outputs": [],
   "source": [
    "asset_names = [col.replace(\"allo_\", \"\") for col in submal.columns if col != \"eod_ts\"]"
   ]
  },
  {
   "cell_type": "code",
   "execution_count": 24,
   "id": "subject-salmon",
   "metadata": {},
   "outputs": [
    {
     "data": {
      "text/plain": [
       "96"
      ]
     },
     "execution_count": 24,
     "metadata": {},
     "output_type": "execute_result"
    }
   ],
   "source": [
    "len(asset_names)"
   ]
  },
  {
   "cell_type": "code",
   "execution_count": 30,
   "id": "harmful-injection",
   "metadata": {},
   "outputs": [],
   "source": [
    "preds = general_weights_fixer(preds)"
   ]
  },
  {
   "cell_type": "code",
   "execution_count": 31,
   "id": "serial-market",
   "metadata": {},
   "outputs": [],
   "source": [
    "weightsdict = {asset:w for asset, w in zip(asset_names, preds)}"
   ]
  },
  {
   "cell_type": "code",
   "execution_count": 32,
   "id": "seeing-utilization",
   "metadata": {},
   "outputs": [
    {
     "data": {
      "text/plain": [
       "1.0"
      ]
     },
     "execution_count": 32,
     "metadata": {},
     "output_type": "execute_result"
    }
   ],
   "source": [
    "sum(weightsdict.values())"
   ]
  },
  {
   "cell_type": "code",
   "execution_count": 33,
   "id": "minimal-trademark",
   "metadata": {},
   "outputs": [],
   "source": [
    "submission = get_submission_markowitz(weightsdict, asset_names)"
   ]
  },
  {
   "cell_type": "code",
   "execution_count": 35,
   "id": "unnecessary-joseph",
   "metadata": {},
   "outputs": [],
   "source": [
    "test_submission(submission)"
   ]
  },
  {
   "cell_type": "code",
   "execution_count": 36,
   "id": "detected-freeze",
   "metadata": {},
   "outputs": [
    {
     "data": {
      "text/html": [
       "<div>\n",
       "<style scoped>\n",
       "    .dataframe tbody tr th:only-of-type {\n",
       "        vertical-align: middle;\n",
       "    }\n",
       "\n",
       "    .dataframe tbody tr th {\n",
       "        vertical-align: top;\n",
       "    }\n",
       "\n",
       "    .dataframe thead th {\n",
       "        text-align: right;\n",
       "    }\n",
       "</style>\n",
       "<table border=\"1\" class=\"dataframe\">\n",
       "  <thead>\n",
       "    <tr style=\"text-align: right;\">\n",
       "      <th></th>\n",
       "      <th>allo_ZVQ</th>\n",
       "      <th>allo_NCT</th>\n",
       "      <th>allo_YAX</th>\n",
       "      <th>allo_OOS</th>\n",
       "      <th>allo_GFJ</th>\n",
       "      <th>allo_FIR</th>\n",
       "      <th>allo_USX</th>\n",
       "      <th>allo_FSK</th>\n",
       "      <th>allo_TMF</th>\n",
       "      <th>allo_TDD</th>\n",
       "      <th>...</th>\n",
       "      <th>allo_AZG</th>\n",
       "      <th>allo_OJG</th>\n",
       "      <th>allo_WWT</th>\n",
       "      <th>allo_BOT</th>\n",
       "      <th>allo_TXR</th>\n",
       "      <th>allo_RAT</th>\n",
       "      <th>allo_DIG</th>\n",
       "      <th>allo_SRI</th>\n",
       "      <th>allo_PHI</th>\n",
       "      <th>allo_RWJ</th>\n",
       "    </tr>\n",
       "    <tr>\n",
       "      <th>eod_ts</th>\n",
       "      <th></th>\n",
       "      <th></th>\n",
       "      <th></th>\n",
       "      <th></th>\n",
       "      <th></th>\n",
       "      <th></th>\n",
       "      <th></th>\n",
       "      <th></th>\n",
       "      <th></th>\n",
       "      <th></th>\n",
       "      <th></th>\n",
       "      <th></th>\n",
       "      <th></th>\n",
       "      <th></th>\n",
       "      <th></th>\n",
       "      <th></th>\n",
       "      <th></th>\n",
       "      <th></th>\n",
       "      <th></th>\n",
       "      <th></th>\n",
       "      <th></th>\n",
       "    </tr>\n",
       "  </thead>\n",
       "  <tbody>\n",
       "    <tr>\n",
       "      <th>2020-08-18 00:00:00</th>\n",
       "      <td>0.0</td>\n",
       "      <td>0.0</td>\n",
       "      <td>0.0259</td>\n",
       "      <td>0.0</td>\n",
       "      <td>0.0066</td>\n",
       "      <td>0.0</td>\n",
       "      <td>0.0043</td>\n",
       "      <td>0.0</td>\n",
       "      <td>0.0247</td>\n",
       "      <td>0.0</td>\n",
       "      <td>...</td>\n",
       "      <td>0.0</td>\n",
       "      <td>0.0247</td>\n",
       "      <td>0.0</td>\n",
       "      <td>0.0</td>\n",
       "      <td>0.0247</td>\n",
       "      <td>0.0247</td>\n",
       "      <td>0.0</td>\n",
       "      <td>0.0247</td>\n",
       "      <td>0.0006</td>\n",
       "      <td>0.0247</td>\n",
       "    </tr>\n",
       "    <tr>\n",
       "      <th>2020-08-18 01:00:00</th>\n",
       "      <td>0.0</td>\n",
       "      <td>0.0</td>\n",
       "      <td>0.0259</td>\n",
       "      <td>0.0</td>\n",
       "      <td>0.0066</td>\n",
       "      <td>0.0</td>\n",
       "      <td>0.0043</td>\n",
       "      <td>0.0</td>\n",
       "      <td>0.0247</td>\n",
       "      <td>0.0</td>\n",
       "      <td>...</td>\n",
       "      <td>0.0</td>\n",
       "      <td>0.0247</td>\n",
       "      <td>0.0</td>\n",
       "      <td>0.0</td>\n",
       "      <td>0.0247</td>\n",
       "      <td>0.0247</td>\n",
       "      <td>0.0</td>\n",
       "      <td>0.0247</td>\n",
       "      <td>0.0006</td>\n",
       "      <td>0.0247</td>\n",
       "    </tr>\n",
       "    <tr>\n",
       "      <th>2020-08-18 02:00:00</th>\n",
       "      <td>0.0</td>\n",
       "      <td>0.0</td>\n",
       "      <td>0.0259</td>\n",
       "      <td>0.0</td>\n",
       "      <td>0.0066</td>\n",
       "      <td>0.0</td>\n",
       "      <td>0.0043</td>\n",
       "      <td>0.0</td>\n",
       "      <td>0.0247</td>\n",
       "      <td>0.0</td>\n",
       "      <td>...</td>\n",
       "      <td>0.0</td>\n",
       "      <td>0.0247</td>\n",
       "      <td>0.0</td>\n",
       "      <td>0.0</td>\n",
       "      <td>0.0247</td>\n",
       "      <td>0.0247</td>\n",
       "      <td>0.0</td>\n",
       "      <td>0.0247</td>\n",
       "      <td>0.0006</td>\n",
       "      <td>0.0247</td>\n",
       "    </tr>\n",
       "    <tr>\n",
       "      <th>2020-08-18 03:00:00</th>\n",
       "      <td>0.0</td>\n",
       "      <td>0.0</td>\n",
       "      <td>0.0259</td>\n",
       "      <td>0.0</td>\n",
       "      <td>0.0066</td>\n",
       "      <td>0.0</td>\n",
       "      <td>0.0043</td>\n",
       "      <td>0.0</td>\n",
       "      <td>0.0247</td>\n",
       "      <td>0.0</td>\n",
       "      <td>...</td>\n",
       "      <td>0.0</td>\n",
       "      <td>0.0247</td>\n",
       "      <td>0.0</td>\n",
       "      <td>0.0</td>\n",
       "      <td>0.0247</td>\n",
       "      <td>0.0247</td>\n",
       "      <td>0.0</td>\n",
       "      <td>0.0247</td>\n",
       "      <td>0.0006</td>\n",
       "      <td>0.0247</td>\n",
       "    </tr>\n",
       "    <tr>\n",
       "      <th>2020-08-18 04:00:00</th>\n",
       "      <td>0.0</td>\n",
       "      <td>0.0</td>\n",
       "      <td>0.0259</td>\n",
       "      <td>0.0</td>\n",
       "      <td>0.0066</td>\n",
       "      <td>0.0</td>\n",
       "      <td>0.0043</td>\n",
       "      <td>0.0</td>\n",
       "      <td>0.0247</td>\n",
       "      <td>0.0</td>\n",
       "      <td>...</td>\n",
       "      <td>0.0</td>\n",
       "      <td>0.0247</td>\n",
       "      <td>0.0</td>\n",
       "      <td>0.0</td>\n",
       "      <td>0.0247</td>\n",
       "      <td>0.0247</td>\n",
       "      <td>0.0</td>\n",
       "      <td>0.0247</td>\n",
       "      <td>0.0006</td>\n",
       "      <td>0.0247</td>\n",
       "    </tr>\n",
       "  </tbody>\n",
       "</table>\n",
       "<p>5 rows × 96 columns</p>\n",
       "</div>"
      ],
      "text/plain": [
       "                     allo_ZVQ  allo_NCT  allo_YAX  allo_OOS  allo_GFJ  \\\n",
       "eod_ts                                                                  \n",
       "2020-08-18 00:00:00       0.0       0.0    0.0259       0.0    0.0066   \n",
       "2020-08-18 01:00:00       0.0       0.0    0.0259       0.0    0.0066   \n",
       "2020-08-18 02:00:00       0.0       0.0    0.0259       0.0    0.0066   \n",
       "2020-08-18 03:00:00       0.0       0.0    0.0259       0.0    0.0066   \n",
       "2020-08-18 04:00:00       0.0       0.0    0.0259       0.0    0.0066   \n",
       "\n",
       "                     allo_FIR  allo_USX  allo_FSK  allo_TMF  allo_TDD  ...  \\\n",
       "eod_ts                                                                 ...   \n",
       "2020-08-18 00:00:00       0.0    0.0043       0.0    0.0247       0.0  ...   \n",
       "2020-08-18 01:00:00       0.0    0.0043       0.0    0.0247       0.0  ...   \n",
       "2020-08-18 02:00:00       0.0    0.0043       0.0    0.0247       0.0  ...   \n",
       "2020-08-18 03:00:00       0.0    0.0043       0.0    0.0247       0.0  ...   \n",
       "2020-08-18 04:00:00       0.0    0.0043       0.0    0.0247       0.0  ...   \n",
       "\n",
       "                     allo_AZG  allo_OJG  allo_WWT  allo_BOT  allo_TXR  \\\n",
       "eod_ts                                                                  \n",
       "2020-08-18 00:00:00       0.0    0.0247       0.0       0.0    0.0247   \n",
       "2020-08-18 01:00:00       0.0    0.0247       0.0       0.0    0.0247   \n",
       "2020-08-18 02:00:00       0.0    0.0247       0.0       0.0    0.0247   \n",
       "2020-08-18 03:00:00       0.0    0.0247       0.0       0.0    0.0247   \n",
       "2020-08-18 04:00:00       0.0    0.0247       0.0       0.0    0.0247   \n",
       "\n",
       "                     allo_RAT  allo_DIG  allo_SRI  allo_PHI  allo_RWJ  \n",
       "eod_ts                                                                 \n",
       "2020-08-18 00:00:00    0.0247       0.0    0.0247    0.0006    0.0247  \n",
       "2020-08-18 01:00:00    0.0247       0.0    0.0247    0.0006    0.0247  \n",
       "2020-08-18 02:00:00    0.0247       0.0    0.0247    0.0006    0.0247  \n",
       "2020-08-18 03:00:00    0.0247       0.0    0.0247    0.0006    0.0247  \n",
       "2020-08-18 04:00:00    0.0247       0.0    0.0247    0.0006    0.0247  \n",
       "\n",
       "[5 rows x 96 columns]"
      ]
     },
     "execution_count": 36,
     "metadata": {},
     "output_type": "execute_result"
    }
   ],
   "source": [
    "submission.head()"
   ]
  },
  {
   "cell_type": "code",
   "execution_count": 37,
   "id": "corporate-vacation",
   "metadata": {},
   "outputs": [],
   "source": [
    "submission.to_csv(\"submission_2403.csv\", header=True, index=True)"
   ]
  },
  {
   "cell_type": "code",
   "execution_count": null,
   "id": "macro-lyric",
   "metadata": {},
   "outputs": [],
   "source": []
  }
 ],
 "metadata": {
  "kernelspec": {
   "display_name": "Python [conda env:series_temporales] *",
   "language": "python",
   "name": "conda-env-series_temporales-py"
  },
  "language_info": {
   "codemirror_mode": {
    "name": "ipython",
    "version": 3
   },
   "file_extension": ".py",
   "mimetype": "text/x-python",
   "name": "python",
   "nbconvert_exporter": "python",
   "pygments_lexer": "ipython3",
   "version": "3.7.9"
  }
 },
 "nbformat": 4,
 "nbformat_minor": 5
}
