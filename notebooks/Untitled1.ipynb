{
 "cells": [
  {
   "cell_type": "code",
   "execution_count": 1,
   "id": "duplicate-indian",
   "metadata": {},
   "outputs": [],
   "source": [
    "from data_utils import read_all_candles, filter_assets\n",
    "import pandas as pd\n",
    "from deepdow.utils import raw_to_Xy\n",
    "from deepdow.benchmarks import OneOverN\n",
    "from deepdow.data import InRAMDataset, RigidDataLoader\n",
    "from deepdow.experiments import Run\n",
    "from deepdow.losses import MaximumDrawdown, SharpeRatio, StandardDeviation, RiskParity\n",
    "from deepdow.nn import LinearNet, BachelierNet\n",
    "from deepdow.nn import KeynesNet\n",
    "from deepdow.nn import ThorpNet\n",
    "from deepdow.layers import NCO, Cov2Corr, Resample, CovarianceMatrix, AverageCollapse, WeightNorm\n",
    "from deepdow.benchmarks import Benchmark\n",
    "import matplotlib.pyplot as plt\n",
    "import numpy as np\n",
    "import torch\n",
    "from deepdow.callbacks import EarlyStoppingCallback\n",
    "from submission_utils import general_weights_fixer, get_submission_markowitz, test_submission\n",
    "from sklearn.model_selection import train_test_split\n",
    "from opt_nets import ResampleNetwork\n"
   ]
  },
  {
   "cell_type": "code",
   "execution_count": 2,
   "id": "naval-synthetic",
   "metadata": {},
   "outputs": [],
   "source": [
    "import torch\n",
    "\n",
    "def cov(m, rowvar=False):\n",
    "    '''Estimate a covariance matrix given data.\n",
    "\n",
    "    Covariance indicates the level to which two variables vary together.\n",
    "    If we examine N-dimensional samples, `X = [x_1, x_2, ... x_N]^T`,\n",
    "    then the covariance matrix element `C_{ij}` is the covariance of\n",
    "    `x_i` and `x_j`. The element `C_{ii}` is the variance of `x_i`.\n",
    "\n",
    "    Args:\n",
    "        m: A 1-D or 2-D array containing multiple variables and observations.\n",
    "            Each row of `m` represents a variable, and each column a single\n",
    "            observation of all those variables.\n",
    "        rowvar: If `rowvar` is True, then each row represents a\n",
    "            variable, with observations in the column  File \"/anaconda3/envs/torch-xla-1.7/lib/python3.6/site-packages/torch/utils/data/dataloader.py\", line 475, in _next_data\n",
    "    data = self._dataset_fetcher.fetch(index)  # may raise StopIterations. Otherwise, the\n",
    "            relationship is transposed: each column represents a variable,\n",
    "            while the rows contain observations.\n",
    "\n",
    "    Returns:\n",
    "        The covariance matrix of the variables.\n",
    "    '''\n",
    "    if m.dim() > 2:\n",
    "        raise ValueError('m has more than 2 dimensions')\n",
    "    if m.dim() < 2:\n",
    "        m = m.view(1, -1)\n",
    "    if not rowvar and m.size(0) != 1:\n",
    "        m = m.t()\n",
    "    # m = m.type(torch.double)  # uncomment this line if desired\n",
    "    fact = 1.0 / (m.size(1) - 1)\n",
    "    m -= torch.mean(m, dim=1, keepdim=True)\n",
    "    mt = m.t()  # if complex: mt = m.t().conj()\n",
    "    return fact * m.matmul(mt).squeeze()"
   ]
  },
  {
   "cell_type": "code",
   "execution_count": 3,
   "id": "residential-findings",
   "metadata": {},
   "outputs": [
    {
     "name": "stdout",
     "output_type": "stream",
     "text": [
      "TrainCandles  TrainScores\r\n"
     ]
    }
   ],
   "source": [
    "!ls trainTimeSeries/trainTimeSeries/"
   ]
  },
  {
   "cell_type": "code",
   "execution_count": 4,
   "id": "historical-bandwidth",
   "metadata": {},
   "outputs": [],
   "source": [
    "w_pred[w_pred.index(max(w_pred))] -= decimal.Decimal(0.004)\n",
    "In [545]:\n",
    "￼\n",
    "assets_0 = ['ACY',\n",
    " 'AUX',\n",
    " 'BZC',\n",
    " 'CSB',\n",
    " 'DZF',\n",
    " 'EEY',\n",
    " 'EOP',\n",
    " 'ERO',\n",
    " 'GFJ',\n",
    " 'GGR',\n",
    " 'GRU',\n",
    " 'HQU',\n",
    " 'HZY',\n",
    " 'JNE',\n",
    " 'LEN',\n",
    " 'MUF',\n",
    " 'NSC',\n",
    " 'NYP',\n",
    " 'OOS',\n",
    " 'PPT',\n",
    " 'RAT',\n",
    " 'SBY',\n",
    " 'SHC',\n",
    " 'SKI',\n",
    " 'TER',\n",
    " 'USX',\n",
    " 'VVC',\n",
    " 'WWT',\n",
    " 'WXN',\n",
    " 'YEC']"
   ]
  },
  {
   "cell_type": "code",
   "execution_count": 5,
   "id": "pacific-screen",
   "metadata": {},
   "outputs": [],
   "source": [
    "assets_0 = ['DIG',\n",
    " 'EOP',\n",
    " 'ERO',\n",
    " 'FSK',\n",
    " 'GGR',\n",
    " 'GRU',\n",
    " 'MUF',\n",
    " 'NSC',\n",
    " 'NYP',\n",
    " 'PME',\n",
    " 'PPT',\n",
    " 'REU',\n",
    " 'SBY',\n",
    " 'SKI',\n",
    " 'TER',\n",
    " 'TKT',\n",
    " 'ULI',\n",
    " 'USX',\n",
    " 'WFJ',\n",
    " 'YEC',\n",
    " 'ZAB']"
   ]
  },
  {
   "cell_type": "code",
   "execution_count": 251,
   "id": "unknown-brake",
   "metadata": {},
   "outputs": [],
   "source": [
    "assets_0 = ['AUX',\n",
    " 'AWW',\n",
    " 'BFS',\n",
    " 'BOT',\n",
    " 'GRI',\n",
    " 'NSC',\n",
    " 'NYP',\n",
    " 'RAT',\n",
    " 'SBY',\n",
    " 'SKI',\n",
    " 'TER',\n",
    " 'WFJ',\n",
    " 'YEC', 'DIG', 'EEY', 'FSK', 'GGR', 'PME', 'ZTY', 'BAX',\n",
    " 'BGN',\n",
    " 'BZC',\n",
    " 'DZF',\n",
    " 'EOP',\n",
    " 'ERQ',\n",
    " 'FNM',\n",
    " 'HEO',\n",
    " 'JHI',\n",
    " 'JNE',\n",
    " 'MCA',\n",
    " 'NVL',\n",
    " 'OJG',\n",
    " 'SYO',\n",
    " 'TDD',\n",
    " 'TKT',\n",
    " 'ULI',\n",
    " 'USX',\n",
    " 'VRT',\n",
    " 'VVC',\n",
    " 'WXN',\n",
    " 'YAX',\n",
    " 'ZAB',\n",
    " 'ZCD', 'NCT', 'YFC', 'NYD', 'TMF']"
   ]
  },
  {
   "cell_type": "code",
   "execution_count": 3,
   "id": "electronic-tyler",
   "metadata": {},
   "outputs": [],
   "source": [
    "assets_yes = ['GRU',\n",
    " 'TMF',\n",
    " 'THA',\n",
    " 'JTL',\n",
    " 'LWK',\n",
    " 'CIS',\n",
    " 'VRT',\n",
    " 'BAX',\n",
    " 'DIG',\n",
    " 'SHC',\n",
    " 'LWE',\n",
    " 'HEO',\n",
    " 'AWW',\n",
    " 'NYD',\n",
    " 'ZUJ',\n",
    " 'AUX',\n",
    " 'PME',\n",
    " 'ULT',\n",
    " 'DZF',\n",
    " 'ZCD',\n",
    " 'USX',\n",
    " 'SBY',\n",
    " 'CSB',\n",
    " 'ERO',\n",
    " 'YAX',\n",
    " 'PPT',\n",
    " 'FIR',\n",
    " 'OXR',\n",
    " 'LHB',\n",
    " 'EEY',\n",
    " 'ERQ',\n",
    " 'UPP',\n",
    " 'RWJ',\n",
    " 'HCC',\n",
    " 'REU',\n",
    " 'BZC',\n",
    " 'GFJ',\n",
    " 'SEH',\n",
    " 'ACY',\n",
    " 'SRI',\n",
    " 'LEN',\n",
    " 'WXN',\n",
    " 'TRO',\n",
    " 'SKI',\n",
    " 'OJG',\n",
    " 'OOS']"
   ]
  },
  {
   "cell_type": "code",
   "execution_count": 34,
   "id": "awful-kitchen",
   "metadata": {},
   "outputs": [],
   "source": [
    "assets_yes = ['GRU',\n",
    " 'TMF',\n",
    " 'THA',\n",
    " 'JTL',\n",
    " 'LWK',\n",
    " 'CIS',\n",
    " 'VRT',\n",
    " 'GRI',\n",
    " 'BAX',\n",
    " 'DIG',\n",
    " 'SHC',\n",
    " 'LWE',\n",
    " 'HEO',\n",
    " 'AWW',\n",
    " 'NYD',\n",
    " 'ZUJ',\n",
    " 'AUX',\n",
    " 'FFV',\n",
    " 'PME',\n",
    " 'ULT',\n",
    " 'DZF',\n",
    " 'ZAB',\n",
    " 'ZCD',\n",
    " 'USX',\n",
    " 'SBY',\n",
    " 'BFS',\n",
    " 'CSB',\n",
    " 'PHI',\n",
    " 'ERO',\n",
    " 'PEW',\n",
    " 'YAX',\n",
    " 'PPT',\n",
    " 'WFJ',\n",
    " 'FIR',\n",
    " 'OXR',\n",
    " 'LHB',\n",
    " 'BOT',\n",
    " 'TXR',\n",
    " 'EEY',\n",
    " 'ERQ',\n",
    " 'LUG',\n",
    " 'NCT',\n",
    " 'UPP',\n",
    " 'RWJ',\n",
    " 'TDD',\n",
    " 'AZG',\n",
    " 'HCC',\n",
    " 'REU',\n",
    " 'SKN',\n",
    " 'BZC',\n",
    " 'GFJ',\n",
    " 'SEH',\n",
    " 'ACY',\n",
    " 'TKT',\n",
    " 'UEI',\n",
    " 'MET',\n",
    " 'YFC',\n",
    " 'JHI',\n",
    " 'NSC',\n",
    " 'NWO',\n",
    " 'SRI',\n",
    " 'BGN',\n",
    " 'LEN',\n",
    " 'WXN',\n",
    " 'TRO',\n",
    " 'SKI',\n",
    " 'IDT',\n",
    " 'NYP',\n",
    " 'SYO',\n",
    " 'JNE',\n",
    " 'OJG',\n",
    " 'FNM',\n",
    " 'MCA',\n",
    " 'OOS']"
   ]
  },
  {
   "cell_type": "code",
   "execution_count": 131,
   "id": "extreme-edgar",
   "metadata": {},
   "outputs": [],
   "source": [
    "assets_0 = ['HZY', 'LHB', 'SYO', 'TDD', 'TMF', 'VRT']\n"
   ]
  },
  {
   "cell_type": "code",
   "execution_count": 159,
   "id": "informative-enlargement",
   "metadata": {},
   "outputs": [],
   "source": [
    "assets_0 = ['JTL',\n",
    " 'LWK',\n",
    " 'SHC',\n",
    " 'PHI',\n",
    " 'PEW',\n",
    " 'LHB',\n",
    " 'UEI',\n",
    " 'MET',\n",
    " 'YFC',\n",
    " 'SRI',\n",
    " 'ULI',\n",
    " 'MCA', 'ACY',\n",
    " 'DIG',\n",
    " 'DZF',\n",
    " 'EEY',\n",
    " 'EOP',\n",
    " 'ERO',\n",
    " 'GGR',\n",
    " 'GRU',\n",
    " 'HEO',\n",
    " 'HQU',\n",
    " 'IDT',\n",
    " 'LEN',\n",
    " 'MUF',\n",
    " 'NSC',\n",
    " 'NWO',\n",
    " 'NYP',\n",
    " 'PPT',\n",
    " 'SBY',\n",
    " 'SKI',\n",
    " 'TER',\n",
    " 'VVC',\n",
    " 'WWT',\n",
    " 'WXN',\n",
    " 'YEC',\n",
    " 'ZTY',\n",
    " 'ZVQ', 'AUX', 'LWE', 'OOS', 'MMY', 'PME', 'SKN', 'THA', 'XRX', 'YAX', 'HZY', 'RWJ']"
   ]
  },
  {
   "cell_type": "code",
   "execution_count": 50,
   "id": "smoking-advice",
   "metadata": {},
   "outputs": [],
   "source": [
    "assets_0 = ['ACY',\n",
    " 'AUX',\n",
    " 'AZG',\n",
    " 'BGN',\n",
    " 'BZC',\n",
    " 'CSB',\n",
    " 'DZF',\n",
    " 'EEY',\n",
    " 'EOP',\n",
    " 'ERO',\n",
    " 'GGR',\n",
    " 'GRU',\n",
    " 'HQU',\n",
    " 'HZY',\n",
    " 'IDT',\n",
    " 'JNE',\n",
    " 'LEN',\n",
    " 'MMY',\n",
    " 'NWO',\n",
    " 'NYP',\n",
    " 'PME',\n",
    " 'PPT',\n",
    " 'RAT',\n",
    " 'RWJ',\n",
    " 'SBY',\n",
    " 'SHC',\n",
    " 'SKI',\n",
    " 'TDD',\n",
    " 'TER',\n",
    " 'THA',\n",
    " 'ULI',\n",
    " 'USX',\n",
    " 'VVC',\n",
    " 'WFJ',\n",
    " 'WXN',\n",
    " 'XRX',\n",
    " 'YEC',\n",
    " 'YFC',\n",
    " 'ZTY',\n",
    " 'ZVQ']"
   ]
  },
  {
   "cell_type": "code",
   "execution_count": 4,
   "id": "three-newsletter",
   "metadata": {},
   "outputs": [
    {
     "name": "stderr",
     "output_type": "stream",
     "text": [
      "Getting candles data for Darwins...: 100%|██████████| 96/96 [00:02<00:00, 45.65it/s]\n"
     ]
    }
   ],
   "source": [
    "candles = read_all_candles()"
   ]
  },
  {
   "cell_type": "code",
   "execution_count": 5,
   "id": "danish-coordination",
   "metadata": {},
   "outputs": [
    {
     "name": "stderr",
     "output_type": "stream",
     "text": [
      "Getting candles data for Darwins...: 100%|██████████| 96/96 [00:01<00:00, 60.21it/s]\n"
     ]
    }
   ],
   "source": [
    "candles2 = read_all_candles(\"darwins_complete_2803\")"
   ]
  },
  {
   "cell_type": "code",
   "execution_count": 52,
   "id": "studied-history",
   "metadata": {},
   "outputs": [],
   "source": [
    "candles = {k:v for k,v in candles.items() if k not in assets_0}"
   ]
  },
  {
   "cell_type": "code",
   "execution_count": 54,
   "id": "bizarre-sleeping",
   "metadata": {},
   "outputs": [],
   "source": [
    "# candles = {k:v for k,v in candles.items() if k in assets_yes}"
   ]
  },
  {
   "cell_type": "code",
   "execution_count": 55,
   "id": "loaded-necklace",
   "metadata": {},
   "outputs": [
    {
     "data": {
      "text/plain": [
       "dict_keys(['NCT', 'YAX', 'OOS', 'GFJ', 'FIR', 'USX', 'FSK', 'TMF', 'TDD', 'ULT', 'CSB', 'CIS', 'UYZ', 'TRO', 'ZAB', 'HZY', 'PUL', 'JHI', 'LWE', 'SEH', 'AWW', 'GRI', 'REU', 'MMY', 'VRT', 'ZXW', 'LUG', 'CBY', 'WFJ', 'FFV', 'ZCD', 'AUX', 'BAX', 'HCC', 'JNE', 'UPP', 'XRX', 'NYD', 'BGN', 'THA', 'TKT', 'BFS', 'SKN', 'NVL', 'SYO', 'BZC', 'OXR', 'ZUJ', 'BSX', 'PME', 'FNM', 'ERQ', 'AZG', 'OJG', 'BOT', 'TXR', 'RAT', 'RWJ'])"
      ]
     },
     "execution_count": 55,
     "metadata": {},
     "output_type": "execute_result"
    }
   ],
   "source": [
    "candles.keys()"
   ]
  },
  {
   "cell_type": "code",
   "execution_count": 40,
   "id": "adjusted-launch",
   "metadata": {},
   "outputs": [],
   "source": [
    "#candles[\"ZVQ\"].index"
   ]
  },
  {
   "cell_type": "code",
   "execution_count": 140,
   "id": "tutorial-istanbul",
   "metadata": {
    "collapsed": true
   },
   "outputs": [
    {
     "name": "stderr",
     "output_type": "stream",
     "text": [
      "100%|██████████| 94/94 [00:01<00:00, 66.57it/s]\n"
     ]
    },
    {
     "ename": "KeyboardInterrupt",
     "evalue": "",
     "output_type": "error",
     "traceback": [
      "\u001b[0;31m---------------------------------------------------------------------------\u001b[0m",
      "\u001b[0;31mKeyboardInterrupt\u001b[0m                         Traceback (most recent call last)",
      "\u001b[0;32m<ipython-input-140-f9ebfca37193>\u001b[0m in \u001b[0;36m<module>\u001b[0;34m\u001b[0m\n\u001b[0;32m----> 1\u001b[0;31m \u001b[0mcandles_remove\u001b[0m \u001b[0;34m=\u001b[0m \u001b[0mfilter_assets\u001b[0m\u001b[0;34m(\u001b[0m\u001b[0mcandles\u001b[0m\u001b[0;34m)\u001b[0m\u001b[0;34m\u001b[0m\u001b[0;34m\u001b[0m\u001b[0m\n\u001b[0m",
      "\u001b[0;32m~/reto_series_temporales/data_utils.py\u001b[0m in \u001b[0;36mfilter_assets\u001b[0;34m(assets)\u001b[0m\n\u001b[1;32m    452\u001b[0m     \u001b[0;31m#        print(\"Appending\")\u001b[0m\u001b[0;34m\u001b[0m\u001b[0;34m\u001b[0m\u001b[0;34m\u001b[0m\u001b[0m\n\u001b[1;32m    453\u001b[0m     \u001b[0;31m#        remove.append(asset)\u001b[0m\u001b[0;34m\u001b[0m\u001b[0;34m\u001b[0m\u001b[0;34m\u001b[0m\u001b[0m\n\u001b[0;32m--> 454\u001b[0;31m     \u001b[0mremove_scores\u001b[0m \u001b[0;34m=\u001b[0m \u001b[0m_filter_by_scores\u001b[0m\u001b[0;34m(\u001b[0m\u001b[0mscores\u001b[0m\u001b[0;34m)\u001b[0m\u001b[0;34m\u001b[0m\u001b[0;34m\u001b[0m\u001b[0m\n\u001b[0m\u001b[1;32m    455\u001b[0m     \u001b[0;31m#remove.extend(remove_scores)\u001b[0m\u001b[0;34m\u001b[0m\u001b[0;34m\u001b[0m\u001b[0;34m\u001b[0m\u001b[0m\n\u001b[1;32m    456\u001b[0m     \u001b[0;31m#remove = remove + remove_scores\u001b[0m\u001b[0;34m\u001b[0m\u001b[0;34m\u001b[0m\u001b[0;34m\u001b[0m\u001b[0m\n",
      "\u001b[0;32m~/reto_series_temporales/data_utils.py\u001b[0m in \u001b[0;36m_filter_by_scores\u001b[0;34m(scores)\u001b[0m\n\u001b[1;32m    412\u001b[0m \u001b[0;32mdef\u001b[0m \u001b[0m_filter_by_scores\u001b[0m\u001b[0;34m(\u001b[0m\u001b[0mscores\u001b[0m\u001b[0;34m)\u001b[0m\u001b[0;34m:\u001b[0m\u001b[0;34m\u001b[0m\u001b[0;34m\u001b[0m\u001b[0m\n\u001b[1;32m    413\u001b[0m     \u001b[0;31m# mean_score = df[\"mean_score\"].mean()\u001b[0m\u001b[0;34m\u001b[0m\u001b[0;34m\u001b[0m\u001b[0;34m\u001b[0m\u001b[0m\n\u001b[0;32m--> 414\u001b[0;31m     \u001b[0mscores_mean\u001b[0m \u001b[0;34m=\u001b[0m \u001b[0;34m{\u001b[0m\u001b[0mk\u001b[0m\u001b[0;34m:\u001b[0m \u001b[0m_compute_weighted_mean\u001b[0m\u001b[0;34m(\u001b[0m\u001b[0mv\u001b[0m\u001b[0;34m)\u001b[0m \u001b[0;32mfor\u001b[0m \u001b[0mk\u001b[0m\u001b[0;34m,\u001b[0m\u001b[0mv\u001b[0m \u001b[0;32min\u001b[0m \u001b[0mscores\u001b[0m\u001b[0;34m.\u001b[0m\u001b[0mitems\u001b[0m\u001b[0;34m(\u001b[0m\u001b[0;34m)\u001b[0m\u001b[0;34m}\u001b[0m \u001b[0;31m# v[\"mean_score\"].ewm(halflife=5).mean().mean()\u001b[0m\u001b[0;34m\u001b[0m\u001b[0;34m\u001b[0m\u001b[0m\n\u001b[0m\u001b[1;32m    415\u001b[0m     \u001b[0mremove_scores\u001b[0m \u001b[0;34m=\u001b[0m \u001b[0;34m[\u001b[0m\u001b[0;34m]\u001b[0m\u001b[0;34m\u001b[0m\u001b[0;34m\u001b[0m\u001b[0m\n\u001b[1;32m    416\u001b[0m     \u001b[0mperc_20_score\u001b[0m \u001b[0;34m=\u001b[0m \u001b[0mnp\u001b[0m\u001b[0;34m.\u001b[0m\u001b[0mpercentile\u001b[0m\u001b[0;34m(\u001b[0m\u001b[0;34m[\u001b[0m\u001b[0mv\u001b[0m \u001b[0;32mfor\u001b[0m \u001b[0mv\u001b[0m \u001b[0;32min\u001b[0m \u001b[0mscores_mean\u001b[0m\u001b[0;34m.\u001b[0m\u001b[0mvalues\u001b[0m\u001b[0;34m(\u001b[0m\u001b[0;34m)\u001b[0m\u001b[0;34m]\u001b[0m\u001b[0;34m,\u001b[0m \u001b[0;36m30\u001b[0m\u001b[0;34m)\u001b[0m \u001b[0;31m# 30\u001b[0m\u001b[0;34m\u001b[0m\u001b[0;34m\u001b[0m\u001b[0m\n",
      "\u001b[0;32m~/reto_series_temporales/data_utils.py\u001b[0m in \u001b[0;36m<dictcomp>\u001b[0;34m(.0)\u001b[0m\n\u001b[1;32m    412\u001b[0m \u001b[0;32mdef\u001b[0m \u001b[0m_filter_by_scores\u001b[0m\u001b[0;34m(\u001b[0m\u001b[0mscores\u001b[0m\u001b[0;34m)\u001b[0m\u001b[0;34m:\u001b[0m\u001b[0;34m\u001b[0m\u001b[0;34m\u001b[0m\u001b[0m\n\u001b[1;32m    413\u001b[0m     \u001b[0;31m# mean_score = df[\"mean_score\"].mean()\u001b[0m\u001b[0;34m\u001b[0m\u001b[0;34m\u001b[0m\u001b[0;34m\u001b[0m\u001b[0m\n\u001b[0;32m--> 414\u001b[0;31m     \u001b[0mscores_mean\u001b[0m \u001b[0;34m=\u001b[0m \u001b[0;34m{\u001b[0m\u001b[0mk\u001b[0m\u001b[0;34m:\u001b[0m \u001b[0m_compute_weighted_mean\u001b[0m\u001b[0;34m(\u001b[0m\u001b[0mv\u001b[0m\u001b[0;34m)\u001b[0m \u001b[0;32mfor\u001b[0m \u001b[0mk\u001b[0m\u001b[0;34m,\u001b[0m\u001b[0mv\u001b[0m \u001b[0;32min\u001b[0m \u001b[0mscores\u001b[0m\u001b[0;34m.\u001b[0m\u001b[0mitems\u001b[0m\u001b[0;34m(\u001b[0m\u001b[0;34m)\u001b[0m\u001b[0;34m}\u001b[0m \u001b[0;31m# v[\"mean_score\"].ewm(halflife=5).mean().mean()\u001b[0m\u001b[0;34m\u001b[0m\u001b[0;34m\u001b[0m\u001b[0m\n\u001b[0m\u001b[1;32m    415\u001b[0m     \u001b[0mremove_scores\u001b[0m \u001b[0;34m=\u001b[0m \u001b[0;34m[\u001b[0m\u001b[0;34m]\u001b[0m\u001b[0;34m\u001b[0m\u001b[0;34m\u001b[0m\u001b[0m\n\u001b[1;32m    416\u001b[0m     \u001b[0mperc_20_score\u001b[0m \u001b[0;34m=\u001b[0m \u001b[0mnp\u001b[0m\u001b[0;34m.\u001b[0m\u001b[0mpercentile\u001b[0m\u001b[0;34m(\u001b[0m\u001b[0;34m[\u001b[0m\u001b[0mv\u001b[0m \u001b[0;32mfor\u001b[0m \u001b[0mv\u001b[0m \u001b[0;32min\u001b[0m \u001b[0mscores_mean\u001b[0m\u001b[0;34m.\u001b[0m\u001b[0mvalues\u001b[0m\u001b[0;34m(\u001b[0m\u001b[0;34m)\u001b[0m\u001b[0;34m]\u001b[0m\u001b[0;34m,\u001b[0m \u001b[0;36m30\u001b[0m\u001b[0;34m)\u001b[0m \u001b[0;31m# 30\u001b[0m\u001b[0;34m\u001b[0m\u001b[0;34m\u001b[0m\u001b[0m\n",
      "\u001b[0;32m~/reto_series_temporales/data_utils.py\u001b[0m in \u001b[0;36m_compute_weighted_mean\u001b[0;34m(df)\u001b[0m\n\u001b[1;32m    406\u001b[0m     \u001b[0mmeans\u001b[0m \u001b[0;34m=\u001b[0m \u001b[0mdf\u001b[0m\u001b[0;34m[\u001b[0m\u001b[0;34m\"Pf\"\u001b[0m\u001b[0;34m]\u001b[0m\u001b[0;34m.\u001b[0m\u001b[0mvalues\u001b[0m \u001b[0;31m# mean_score\u001b[0m\u001b[0;34m\u001b[0m\u001b[0;34m\u001b[0m\u001b[0m\n\u001b[1;32m    407\u001b[0m     \u001b[0mweights\u001b[0m \u001b[0;34m=\u001b[0m \u001b[0mnp\u001b[0m\u001b[0;34m.\u001b[0m\u001b[0mlinspace\u001b[0m\u001b[0;34m(\u001b[0m\u001b[0;36m0.0\u001b[0m\u001b[0;34m,\u001b[0m \u001b[0;36m1.0\u001b[0m\u001b[0;34m,\u001b[0m \u001b[0mlen\u001b[0m\u001b[0;34m(\u001b[0m\u001b[0mmeans\u001b[0m\u001b[0;34m)\u001b[0m\u001b[0;34m)\u001b[0m\u001b[0;34m\u001b[0m\u001b[0;34m\u001b[0m\u001b[0m\n\u001b[0;32m--> 408\u001b[0;31m     \u001b[0mmean\u001b[0m \u001b[0;34m=\u001b[0m \u001b[0msum\u001b[0m\u001b[0;34m(\u001b[0m\u001b[0;34m[\u001b[0m\u001b[0mmu\u001b[0m\u001b[0;34m*\u001b[0m\u001b[0mw\u001b[0m \u001b[0;34m/\u001b[0m \u001b[0msum\u001b[0m\u001b[0;34m(\u001b[0m\u001b[0mweights\u001b[0m\u001b[0;34m)\u001b[0m \u001b[0;32mfor\u001b[0m \u001b[0mmu\u001b[0m\u001b[0;34m,\u001b[0m \u001b[0mw\u001b[0m \u001b[0;32min\u001b[0m \u001b[0mzip\u001b[0m\u001b[0;34m(\u001b[0m\u001b[0mmeans\u001b[0m\u001b[0;34m,\u001b[0m \u001b[0mweights\u001b[0m\u001b[0;34m)\u001b[0m\u001b[0;34m]\u001b[0m\u001b[0;34m)\u001b[0m \u001b[0;34m/\u001b[0m \u001b[0mlen\u001b[0m\u001b[0;34m(\u001b[0m\u001b[0mmeans\u001b[0m\u001b[0;34m)\u001b[0m\u001b[0;34m\u001b[0m\u001b[0;34m\u001b[0m\u001b[0m\n\u001b[0m\u001b[1;32m    409\u001b[0m     \u001b[0;32mreturn\u001b[0m \u001b[0mmean\u001b[0m\u001b[0;34m\u001b[0m\u001b[0;34m\u001b[0m\u001b[0m\n\u001b[1;32m    410\u001b[0m \u001b[0;34m\u001b[0m\u001b[0m\n",
      "\u001b[0;32m~/reto_series_temporales/data_utils.py\u001b[0m in \u001b[0;36m<listcomp>\u001b[0;34m(.0)\u001b[0m\n\u001b[1;32m    406\u001b[0m     \u001b[0mmeans\u001b[0m \u001b[0;34m=\u001b[0m \u001b[0mdf\u001b[0m\u001b[0;34m[\u001b[0m\u001b[0;34m\"Pf\"\u001b[0m\u001b[0;34m]\u001b[0m\u001b[0;34m.\u001b[0m\u001b[0mvalues\u001b[0m \u001b[0;31m# mean_score\u001b[0m\u001b[0;34m\u001b[0m\u001b[0;34m\u001b[0m\u001b[0m\n\u001b[1;32m    407\u001b[0m     \u001b[0mweights\u001b[0m \u001b[0;34m=\u001b[0m \u001b[0mnp\u001b[0m\u001b[0;34m.\u001b[0m\u001b[0mlinspace\u001b[0m\u001b[0;34m(\u001b[0m\u001b[0;36m0.0\u001b[0m\u001b[0;34m,\u001b[0m \u001b[0;36m1.0\u001b[0m\u001b[0;34m,\u001b[0m \u001b[0mlen\u001b[0m\u001b[0;34m(\u001b[0m\u001b[0mmeans\u001b[0m\u001b[0;34m)\u001b[0m\u001b[0;34m)\u001b[0m\u001b[0;34m\u001b[0m\u001b[0;34m\u001b[0m\u001b[0m\n\u001b[0;32m--> 408\u001b[0;31m     \u001b[0mmean\u001b[0m \u001b[0;34m=\u001b[0m \u001b[0msum\u001b[0m\u001b[0;34m(\u001b[0m\u001b[0;34m[\u001b[0m\u001b[0mmu\u001b[0m\u001b[0;34m*\u001b[0m\u001b[0mw\u001b[0m \u001b[0;34m/\u001b[0m \u001b[0msum\u001b[0m\u001b[0;34m(\u001b[0m\u001b[0mweights\u001b[0m\u001b[0;34m)\u001b[0m \u001b[0;32mfor\u001b[0m \u001b[0mmu\u001b[0m\u001b[0;34m,\u001b[0m \u001b[0mw\u001b[0m \u001b[0;32min\u001b[0m \u001b[0mzip\u001b[0m\u001b[0;34m(\u001b[0m\u001b[0mmeans\u001b[0m\u001b[0;34m,\u001b[0m \u001b[0mweights\u001b[0m\u001b[0;34m)\u001b[0m\u001b[0;34m]\u001b[0m\u001b[0;34m)\u001b[0m \u001b[0;34m/\u001b[0m \u001b[0mlen\u001b[0m\u001b[0;34m(\u001b[0m\u001b[0mmeans\u001b[0m\u001b[0;34m)\u001b[0m\u001b[0;34m\u001b[0m\u001b[0;34m\u001b[0m\u001b[0m\n\u001b[0m\u001b[1;32m    409\u001b[0m     \u001b[0;32mreturn\u001b[0m \u001b[0mmean\u001b[0m\u001b[0;34m\u001b[0m\u001b[0;34m\u001b[0m\u001b[0m\n\u001b[1;32m    410\u001b[0m \u001b[0;34m\u001b[0m\u001b[0m\n",
      "\u001b[0;31mKeyboardInterrupt\u001b[0m: "
     ]
    }
   ],
   "source": [
    "candles_remove = filter_assets(candles)"
   ]
  },
  {
   "cell_type": "code",
   "execution_count": 11,
   "id": "tropical-concord",
   "metadata": {},
   "outputs": [
    {
     "data": {
      "text/plain": [
       "28"
      ]
     },
     "execution_count": 11,
     "metadata": {},
     "output_type": "execute_result"
    }
   ],
   "source": [
    "len(candles_remove)"
   ]
  },
  {
   "cell_type": "code",
   "execution_count": 7,
   "id": "sitting-substitute",
   "metadata": {},
   "outputs": [],
   "source": [
    "import os\n",
    "os.environ[\"CUDA_VISIBLE_DEVICES\"] = \"1\""
   ]
  },
  {
   "cell_type": "code",
   "execution_count": 188,
   "id": "engaged-administration",
   "metadata": {},
   "outputs": [],
   "source": [
    "candles = {k:v for k,v in candles.items() if k not in candles_remove}"
   ]
  },
  {
   "cell_type": "code",
   "execution_count": 6,
   "id": "preceding-customs",
   "metadata": {},
   "outputs": [],
   "source": [
    "df = pd.concat(candles.values(),keys= candles.keys(),axis=1)\n"
   ]
  },
  {
   "cell_type": "code",
   "execution_count": 12,
   "id": "organized-raise",
   "metadata": {},
   "outputs": [],
   "source": [
    "df2 = pd.concat(candles2.values(), keys=candles.keys(), axis=1)"
   ]
  },
  {
   "cell_type": "code",
   "execution_count": 8,
   "id": "republican-rotation",
   "metadata": {},
   "outputs": [
    {
     "data": {
      "text/plain": [
       "673668"
      ]
     },
     "execution_count": 8,
     "metadata": {},
     "output_type": "execute_result"
    }
   ],
   "source": [
    "df.isna().sum().sum()"
   ]
  },
  {
   "cell_type": "code",
   "execution_count": 9,
   "id": "positive-community",
   "metadata": {},
   "outputs": [
    {
     "data": {
      "text/html": [
       "<div>\n",
       "<style scoped>\n",
       "    .dataframe tbody tr th:only-of-type {\n",
       "        vertical-align: middle;\n",
       "    }\n",
       "\n",
       "    .dataframe tbody tr th {\n",
       "        vertical-align: top;\n",
       "    }\n",
       "\n",
       "    .dataframe thead tr th {\n",
       "        text-align: left;\n",
       "    }\n",
       "\n",
       "    .dataframe thead tr:last-of-type th {\n",
       "        text-align: right;\n",
       "    }\n",
       "</style>\n",
       "<table border=\"1\" class=\"dataframe\">\n",
       "  <thead>\n",
       "    <tr>\n",
       "      <th></th>\n",
       "      <th colspan=\"4\" halign=\"left\">ZVQ</th>\n",
       "      <th colspan=\"4\" halign=\"left\">NCT</th>\n",
       "      <th colspan=\"2\" halign=\"left\">YAX</th>\n",
       "      <th>...</th>\n",
       "      <th colspan=\"2\" halign=\"left\">SRI</th>\n",
       "      <th colspan=\"4\" halign=\"left\">PHI</th>\n",
       "      <th colspan=\"4\" halign=\"left\">RWJ</th>\n",
       "    </tr>\n",
       "    <tr>\n",
       "      <th></th>\n",
       "      <th>close</th>\n",
       "      <th>max</th>\n",
       "      <th>min</th>\n",
       "      <th>open</th>\n",
       "      <th>close</th>\n",
       "      <th>max</th>\n",
       "      <th>min</th>\n",
       "      <th>open</th>\n",
       "      <th>close</th>\n",
       "      <th>max</th>\n",
       "      <th>...</th>\n",
       "      <th>min</th>\n",
       "      <th>open</th>\n",
       "      <th>close</th>\n",
       "      <th>max</th>\n",
       "      <th>min</th>\n",
       "      <th>open</th>\n",
       "      <th>close</th>\n",
       "      <th>max</th>\n",
       "      <th>min</th>\n",
       "      <th>open</th>\n",
       "    </tr>\n",
       "    <tr>\n",
       "      <th>date</th>\n",
       "      <th></th>\n",
       "      <th></th>\n",
       "      <th></th>\n",
       "      <th></th>\n",
       "      <th></th>\n",
       "      <th></th>\n",
       "      <th></th>\n",
       "      <th></th>\n",
       "      <th></th>\n",
       "      <th></th>\n",
       "      <th></th>\n",
       "      <th></th>\n",
       "      <th></th>\n",
       "      <th></th>\n",
       "      <th></th>\n",
       "      <th></th>\n",
       "      <th></th>\n",
       "      <th></th>\n",
       "      <th></th>\n",
       "      <th></th>\n",
       "      <th></th>\n",
       "    </tr>\n",
       "  </thead>\n",
       "  <tbody>\n",
       "    <tr>\n",
       "      <th>2018-12-19 01:00:00</th>\n",
       "      <td>519.23</td>\n",
       "      <td>519.95</td>\n",
       "      <td>518.47</td>\n",
       "      <td>518.47</td>\n",
       "      <td>NaN</td>\n",
       "      <td>NaN</td>\n",
       "      <td>NaN</td>\n",
       "      <td>NaN</td>\n",
       "      <td>NaN</td>\n",
       "      <td>NaN</td>\n",
       "      <td>...</td>\n",
       "      <td>92.12</td>\n",
       "      <td>92.16</td>\n",
       "      <td>NaN</td>\n",
       "      <td>NaN</td>\n",
       "      <td>NaN</td>\n",
       "      <td>NaN</td>\n",
       "      <td>NaN</td>\n",
       "      <td>NaN</td>\n",
       "      <td>NaN</td>\n",
       "      <td>NaN</td>\n",
       "    </tr>\n",
       "    <tr>\n",
       "      <th>2018-12-19 02:00:00</th>\n",
       "      <td>519.63</td>\n",
       "      <td>519.93</td>\n",
       "      <td>519.07</td>\n",
       "      <td>519.28</td>\n",
       "      <td>NaN</td>\n",
       "      <td>NaN</td>\n",
       "      <td>NaN</td>\n",
       "      <td>NaN</td>\n",
       "      <td>NaN</td>\n",
       "      <td>NaN</td>\n",
       "      <td>...</td>\n",
       "      <td>92.09</td>\n",
       "      <td>92.19</td>\n",
       "      <td>NaN</td>\n",
       "      <td>NaN</td>\n",
       "      <td>NaN</td>\n",
       "      <td>NaN</td>\n",
       "      <td>NaN</td>\n",
       "      <td>NaN</td>\n",
       "      <td>NaN</td>\n",
       "      <td>NaN</td>\n",
       "    </tr>\n",
       "    <tr>\n",
       "      <th>2018-12-19 03:00:00</th>\n",
       "      <td>519.95</td>\n",
       "      <td>520.72</td>\n",
       "      <td>519.56</td>\n",
       "      <td>519.80</td>\n",
       "      <td>NaN</td>\n",
       "      <td>NaN</td>\n",
       "      <td>NaN</td>\n",
       "      <td>NaN</td>\n",
       "      <td>NaN</td>\n",
       "      <td>NaN</td>\n",
       "      <td>...</td>\n",
       "      <td>92.08</td>\n",
       "      <td>92.11</td>\n",
       "      <td>NaN</td>\n",
       "      <td>NaN</td>\n",
       "      <td>NaN</td>\n",
       "      <td>NaN</td>\n",
       "      <td>NaN</td>\n",
       "      <td>NaN</td>\n",
       "      <td>NaN</td>\n",
       "      <td>NaN</td>\n",
       "    </tr>\n",
       "    <tr>\n",
       "      <th>2018-12-19 04:00:00</th>\n",
       "      <td>520.09</td>\n",
       "      <td>520.39</td>\n",
       "      <td>519.87</td>\n",
       "      <td>519.96</td>\n",
       "      <td>NaN</td>\n",
       "      <td>NaN</td>\n",
       "      <td>NaN</td>\n",
       "      <td>NaN</td>\n",
       "      <td>NaN</td>\n",
       "      <td>NaN</td>\n",
       "      <td>...</td>\n",
       "      <td>92.03</td>\n",
       "      <td>92.12</td>\n",
       "      <td>NaN</td>\n",
       "      <td>NaN</td>\n",
       "      <td>NaN</td>\n",
       "      <td>NaN</td>\n",
       "      <td>NaN</td>\n",
       "      <td>NaN</td>\n",
       "      <td>NaN</td>\n",
       "      <td>NaN</td>\n",
       "    </tr>\n",
       "    <tr>\n",
       "      <th>2018-12-19 05:00:00</th>\n",
       "      <td>520.06</td>\n",
       "      <td>520.12</td>\n",
       "      <td>519.89</td>\n",
       "      <td>520.12</td>\n",
       "      <td>NaN</td>\n",
       "      <td>NaN</td>\n",
       "      <td>NaN</td>\n",
       "      <td>NaN</td>\n",
       "      <td>NaN</td>\n",
       "      <td>NaN</td>\n",
       "      <td>...</td>\n",
       "      <td>92.06</td>\n",
       "      <td>92.19</td>\n",
       "      <td>NaN</td>\n",
       "      <td>NaN</td>\n",
       "      <td>NaN</td>\n",
       "      <td>NaN</td>\n",
       "      <td>NaN</td>\n",
       "      <td>NaN</td>\n",
       "      <td>NaN</td>\n",
       "      <td>NaN</td>\n",
       "    </tr>\n",
       "  </tbody>\n",
       "</table>\n",
       "<p>5 rows × 384 columns</p>\n",
       "</div>"
      ],
      "text/plain": [
       "                        ZVQ                           NCT                YAX  \\\n",
       "                      close     max     min    open close max min open close   \n",
       "date                                                                           \n",
       "2018-12-19 01:00:00  519.23  519.95  518.47  518.47   NaN NaN NaN  NaN   NaN   \n",
       "2018-12-19 02:00:00  519.63  519.93  519.07  519.28   NaN NaN NaN  NaN   NaN   \n",
       "2018-12-19 03:00:00  519.95  520.72  519.56  519.80   NaN NaN NaN  NaN   NaN   \n",
       "2018-12-19 04:00:00  520.09  520.39  519.87  519.96   NaN NaN NaN  NaN   NaN   \n",
       "2018-12-19 05:00:00  520.06  520.12  519.89  520.12   NaN NaN NaN  NaN   NaN   \n",
       "\n",
       "                         ...    SRI          PHI                RWJ          \\\n",
       "                    max  ...    min   open close max min open close max min   \n",
       "date                     ...                                                  \n",
       "2018-12-19 01:00:00 NaN  ...  92.12  92.16   NaN NaN NaN  NaN   NaN NaN NaN   \n",
       "2018-12-19 02:00:00 NaN  ...  92.09  92.19   NaN NaN NaN  NaN   NaN NaN NaN   \n",
       "2018-12-19 03:00:00 NaN  ...  92.08  92.11   NaN NaN NaN  NaN   NaN NaN NaN   \n",
       "2018-12-19 04:00:00 NaN  ...  92.03  92.12   NaN NaN NaN  NaN   NaN NaN NaN   \n",
       "2018-12-19 05:00:00 NaN  ...  92.06  92.19   NaN NaN NaN  NaN   NaN NaN NaN   \n",
       "\n",
       "                          \n",
       "                    open  \n",
       "date                      \n",
       "2018-12-19 01:00:00  NaN  \n",
       "2018-12-19 02:00:00  NaN  \n",
       "2018-12-19 03:00:00  NaN  \n",
       "2018-12-19 04:00:00  NaN  \n",
       "2018-12-19 05:00:00  NaN  \n",
       "\n",
       "[5 rows x 384 columns]"
      ]
     },
     "execution_count": 9,
     "metadata": {},
     "output_type": "execute_result"
    }
   ],
   "source": [
    "df.head()"
   ]
  },
  {
   "cell_type": "code",
   "execution_count": 10,
   "id": "metallic-wrist",
   "metadata": {},
   "outputs": [
    {
     "data": {
      "text/html": [
       "<div>\n",
       "<style scoped>\n",
       "    .dataframe tbody tr th:only-of-type {\n",
       "        vertical-align: middle;\n",
       "    }\n",
       "\n",
       "    .dataframe tbody tr th {\n",
       "        vertical-align: top;\n",
       "    }\n",
       "\n",
       "    .dataframe thead tr th {\n",
       "        text-align: left;\n",
       "    }\n",
       "\n",
       "    .dataframe thead tr:last-of-type th {\n",
       "        text-align: right;\n",
       "    }\n",
       "</style>\n",
       "<table border=\"1\" class=\"dataframe\">\n",
       "  <thead>\n",
       "    <tr>\n",
       "      <th></th>\n",
       "      <th colspan=\"4\" halign=\"left\">ZVQ</th>\n",
       "      <th colspan=\"4\" halign=\"left\">NCT</th>\n",
       "      <th colspan=\"2\" halign=\"left\">YAX</th>\n",
       "      <th>...</th>\n",
       "      <th colspan=\"2\" halign=\"left\">SRI</th>\n",
       "      <th colspan=\"4\" halign=\"left\">PHI</th>\n",
       "      <th colspan=\"4\" halign=\"left\">RWJ</th>\n",
       "    </tr>\n",
       "    <tr>\n",
       "      <th></th>\n",
       "      <th>close</th>\n",
       "      <th>max</th>\n",
       "      <th>min</th>\n",
       "      <th>open</th>\n",
       "      <th>close</th>\n",
       "      <th>max</th>\n",
       "      <th>min</th>\n",
       "      <th>open</th>\n",
       "      <th>close</th>\n",
       "      <th>max</th>\n",
       "      <th>...</th>\n",
       "      <th>min</th>\n",
       "      <th>open</th>\n",
       "      <th>close</th>\n",
       "      <th>max</th>\n",
       "      <th>min</th>\n",
       "      <th>open</th>\n",
       "      <th>close</th>\n",
       "      <th>max</th>\n",
       "      <th>min</th>\n",
       "      <th>open</th>\n",
       "    </tr>\n",
       "    <tr>\n",
       "      <th>date</th>\n",
       "      <th></th>\n",
       "      <th></th>\n",
       "      <th></th>\n",
       "      <th></th>\n",
       "      <th></th>\n",
       "      <th></th>\n",
       "      <th></th>\n",
       "      <th></th>\n",
       "      <th></th>\n",
       "      <th></th>\n",
       "      <th></th>\n",
       "      <th></th>\n",
       "      <th></th>\n",
       "      <th></th>\n",
       "      <th></th>\n",
       "      <th></th>\n",
       "      <th></th>\n",
       "      <th></th>\n",
       "      <th></th>\n",
       "      <th></th>\n",
       "      <th></th>\n",
       "    </tr>\n",
       "  </thead>\n",
       "  <tbody>\n",
       "    <tr>\n",
       "      <th>2020-06-17 19:00:00</th>\n",
       "      <td>570.35</td>\n",
       "      <td>570.35</td>\n",
       "      <td>570.35</td>\n",
       "      <td>570.35</td>\n",
       "      <td>132.92</td>\n",
       "      <td>132.92</td>\n",
       "      <td>132.45</td>\n",
       "      <td>132.88</td>\n",
       "      <td>129.68</td>\n",
       "      <td>129.68</td>\n",
       "      <td>...</td>\n",
       "      <td>146.64</td>\n",
       "      <td>146.69</td>\n",
       "      <td>135.36</td>\n",
       "      <td>135.36</td>\n",
       "      <td>135.36</td>\n",
       "      <td>135.36</td>\n",
       "      <td>132.28</td>\n",
       "      <td>132.28</td>\n",
       "      <td>132.28</td>\n",
       "      <td>132.28</td>\n",
       "    </tr>\n",
       "    <tr>\n",
       "      <th>2020-06-17 20:00:00</th>\n",
       "      <td>570.35</td>\n",
       "      <td>570.35</td>\n",
       "      <td>570.35</td>\n",
       "      <td>570.35</td>\n",
       "      <td>132.92</td>\n",
       "      <td>132.92</td>\n",
       "      <td>132.45</td>\n",
       "      <td>132.88</td>\n",
       "      <td>129.68</td>\n",
       "      <td>129.68</td>\n",
       "      <td>...</td>\n",
       "      <td>146.77</td>\n",
       "      <td>146.86</td>\n",
       "      <td>135.36</td>\n",
       "      <td>135.36</td>\n",
       "      <td>135.36</td>\n",
       "      <td>135.36</td>\n",
       "      <td>132.28</td>\n",
       "      <td>132.28</td>\n",
       "      <td>132.28</td>\n",
       "      <td>132.28</td>\n",
       "    </tr>\n",
       "    <tr>\n",
       "      <th>2020-06-17 21:00:00</th>\n",
       "      <td>570.35</td>\n",
       "      <td>570.35</td>\n",
       "      <td>570.35</td>\n",
       "      <td>570.35</td>\n",
       "      <td>132.92</td>\n",
       "      <td>132.92</td>\n",
       "      <td>132.92</td>\n",
       "      <td>132.92</td>\n",
       "      <td>129.68</td>\n",
       "      <td>129.68</td>\n",
       "      <td>...</td>\n",
       "      <td>146.86</td>\n",
       "      <td>146.92</td>\n",
       "      <td>135.36</td>\n",
       "      <td>135.36</td>\n",
       "      <td>135.36</td>\n",
       "      <td>135.36</td>\n",
       "      <td>132.28</td>\n",
       "      <td>132.28</td>\n",
       "      <td>132.28</td>\n",
       "      <td>132.28</td>\n",
       "    </tr>\n",
       "    <tr>\n",
       "      <th>2020-06-17 22:00:00</th>\n",
       "      <td>570.35</td>\n",
       "      <td>570.35</td>\n",
       "      <td>570.35</td>\n",
       "      <td>570.35</td>\n",
       "      <td>132.92</td>\n",
       "      <td>132.92</td>\n",
       "      <td>132.92</td>\n",
       "      <td>132.92</td>\n",
       "      <td>129.68</td>\n",
       "      <td>129.68</td>\n",
       "      <td>...</td>\n",
       "      <td>146.89</td>\n",
       "      <td>146.92</td>\n",
       "      <td>135.36</td>\n",
       "      <td>135.36</td>\n",
       "      <td>135.36</td>\n",
       "      <td>135.36</td>\n",
       "      <td>132.28</td>\n",
       "      <td>132.28</td>\n",
       "      <td>132.28</td>\n",
       "      <td>132.28</td>\n",
       "    </tr>\n",
       "    <tr>\n",
       "      <th>2020-06-17 23:00:00</th>\n",
       "      <td>570.35</td>\n",
       "      <td>570.35</td>\n",
       "      <td>570.35</td>\n",
       "      <td>570.35</td>\n",
       "      <td>132.92</td>\n",
       "      <td>132.92</td>\n",
       "      <td>132.92</td>\n",
       "      <td>132.92</td>\n",
       "      <td>129.68</td>\n",
       "      <td>129.68</td>\n",
       "      <td>...</td>\n",
       "      <td>146.80</td>\n",
       "      <td>146.96</td>\n",
       "      <td>135.36</td>\n",
       "      <td>135.36</td>\n",
       "      <td>135.36</td>\n",
       "      <td>135.36</td>\n",
       "      <td>132.28</td>\n",
       "      <td>132.28</td>\n",
       "      <td>132.28</td>\n",
       "      <td>132.28</td>\n",
       "    </tr>\n",
       "  </tbody>\n",
       "</table>\n",
       "<p>5 rows × 384 columns</p>\n",
       "</div>"
      ],
      "text/plain": [
       "                        ZVQ                             NCT                  \\\n",
       "                      close     max     min    open   close     max     min   \n",
       "date                                                                          \n",
       "2020-06-17 19:00:00  570.35  570.35  570.35  570.35  132.92  132.92  132.45   \n",
       "2020-06-17 20:00:00  570.35  570.35  570.35  570.35  132.92  132.92  132.45   \n",
       "2020-06-17 21:00:00  570.35  570.35  570.35  570.35  132.92  132.92  132.92   \n",
       "2020-06-17 22:00:00  570.35  570.35  570.35  570.35  132.92  132.92  132.92   \n",
       "2020-06-17 23:00:00  570.35  570.35  570.35  570.35  132.92  132.92  132.92   \n",
       "\n",
       "                                YAX          ...     SRI             PHI  \\\n",
       "                       open   close     max  ...     min    open   close   \n",
       "date                                         ...                           \n",
       "2020-06-17 19:00:00  132.88  129.68  129.68  ...  146.64  146.69  135.36   \n",
       "2020-06-17 20:00:00  132.88  129.68  129.68  ...  146.77  146.86  135.36   \n",
       "2020-06-17 21:00:00  132.92  129.68  129.68  ...  146.86  146.92  135.36   \n",
       "2020-06-17 22:00:00  132.92  129.68  129.68  ...  146.89  146.92  135.36   \n",
       "2020-06-17 23:00:00  132.92  129.68  129.68  ...  146.80  146.96  135.36   \n",
       "\n",
       "                                                RWJ                          \n",
       "                        max     min    open   close     max     min    open  \n",
       "date                                                                         \n",
       "2020-06-17 19:00:00  135.36  135.36  135.36  132.28  132.28  132.28  132.28  \n",
       "2020-06-17 20:00:00  135.36  135.36  135.36  132.28  132.28  132.28  132.28  \n",
       "2020-06-17 21:00:00  135.36  135.36  135.36  132.28  132.28  132.28  132.28  \n",
       "2020-06-17 22:00:00  135.36  135.36  135.36  132.28  132.28  132.28  132.28  \n",
       "2020-06-17 23:00:00  135.36  135.36  135.36  132.28  132.28  132.28  132.28  \n",
       "\n",
       "[5 rows x 384 columns]"
      ]
     },
     "execution_count": 10,
     "metadata": {},
     "output_type": "execute_result"
    }
   ],
   "source": [
    "df.tail()"
   ]
  },
  {
   "cell_type": "code",
   "execution_count": 16,
   "id": "suited-trick",
   "metadata": {},
   "outputs": [],
   "source": [
    "df2 = df2.loc[df2.index >= \"2020-06-18\"]"
   ]
  },
  {
   "cell_type": "code",
   "execution_count": 17,
   "id": "phantom-player",
   "metadata": {},
   "outputs": [
    {
     "data": {
      "text/html": [
       "<div>\n",
       "<style scoped>\n",
       "    .dataframe tbody tr th:only-of-type {\n",
       "        vertical-align: middle;\n",
       "    }\n",
       "\n",
       "    .dataframe tbody tr th {\n",
       "        vertical-align: top;\n",
       "    }\n",
       "\n",
       "    .dataframe thead tr th {\n",
       "        text-align: left;\n",
       "    }\n",
       "\n",
       "    .dataframe thead tr:last-of-type th {\n",
       "        text-align: right;\n",
       "    }\n",
       "</style>\n",
       "<table border=\"1\" class=\"dataframe\">\n",
       "  <thead>\n",
       "    <tr>\n",
       "      <th></th>\n",
       "      <th colspan=\"4\" halign=\"left\">ZVQ</th>\n",
       "      <th colspan=\"4\" halign=\"left\">NCT</th>\n",
       "      <th colspan=\"2\" halign=\"left\">YAX</th>\n",
       "      <th>...</th>\n",
       "      <th colspan=\"2\" halign=\"left\">SRI</th>\n",
       "      <th colspan=\"4\" halign=\"left\">PHI</th>\n",
       "      <th colspan=\"4\" halign=\"left\">RWJ</th>\n",
       "    </tr>\n",
       "    <tr>\n",
       "      <th></th>\n",
       "      <th>close</th>\n",
       "      <th>max</th>\n",
       "      <th>min</th>\n",
       "      <th>open</th>\n",
       "      <th>close</th>\n",
       "      <th>max</th>\n",
       "      <th>min</th>\n",
       "      <th>open</th>\n",
       "      <th>close</th>\n",
       "      <th>max</th>\n",
       "      <th>...</th>\n",
       "      <th>min</th>\n",
       "      <th>open</th>\n",
       "      <th>close</th>\n",
       "      <th>max</th>\n",
       "      <th>min</th>\n",
       "      <th>open</th>\n",
       "      <th>close</th>\n",
       "      <th>max</th>\n",
       "      <th>min</th>\n",
       "      <th>open</th>\n",
       "    </tr>\n",
       "    <tr>\n",
       "      <th>date</th>\n",
       "      <th></th>\n",
       "      <th></th>\n",
       "      <th></th>\n",
       "      <th></th>\n",
       "      <th></th>\n",
       "      <th></th>\n",
       "      <th></th>\n",
       "      <th></th>\n",
       "      <th></th>\n",
       "      <th></th>\n",
       "      <th></th>\n",
       "      <th></th>\n",
       "      <th></th>\n",
       "      <th></th>\n",
       "      <th></th>\n",
       "      <th></th>\n",
       "      <th></th>\n",
       "      <th></th>\n",
       "      <th></th>\n",
       "      <th></th>\n",
       "      <th></th>\n",
       "    </tr>\n",
       "  </thead>\n",
       "  <tbody>\n",
       "    <tr>\n",
       "      <th>2020-06-18 00:00:00</th>\n",
       "      <td>NaN</td>\n",
       "      <td>NaN</td>\n",
       "      <td>NaN</td>\n",
       "      <td>NaN</td>\n",
       "      <td>NaN</td>\n",
       "      <td>NaN</td>\n",
       "      <td>NaN</td>\n",
       "      <td>NaN</td>\n",
       "      <td>NaN</td>\n",
       "      <td>NaN</td>\n",
       "      <td>...</td>\n",
       "      <td>146.8217</td>\n",
       "      <td>146.8941</td>\n",
       "      <td>NaN</td>\n",
       "      <td>NaN</td>\n",
       "      <td>NaN</td>\n",
       "      <td>NaN</td>\n",
       "      <td>NaN</td>\n",
       "      <td>NaN</td>\n",
       "      <td>NaN</td>\n",
       "      <td>NaN</td>\n",
       "    </tr>\n",
       "    <tr>\n",
       "      <th>2020-06-18 01:00:00</th>\n",
       "      <td>NaN</td>\n",
       "      <td>NaN</td>\n",
       "      <td>NaN</td>\n",
       "      <td>NaN</td>\n",
       "      <td>NaN</td>\n",
       "      <td>NaN</td>\n",
       "      <td>NaN</td>\n",
       "      <td>NaN</td>\n",
       "      <td>NaN</td>\n",
       "      <td>NaN</td>\n",
       "      <td>...</td>\n",
       "      <td>146.5230</td>\n",
       "      <td>146.8765</td>\n",
       "      <td>135.2312</td>\n",
       "      <td>135.4027</td>\n",
       "      <td>134.9835</td>\n",
       "      <td>135.3464</td>\n",
       "      <td>NaN</td>\n",
       "      <td>NaN</td>\n",
       "      <td>NaN</td>\n",
       "      <td>NaN</td>\n",
       "    </tr>\n",
       "    <tr>\n",
       "      <th>2020-06-18 02:00:00</th>\n",
       "      <td>NaN</td>\n",
       "      <td>NaN</td>\n",
       "      <td>NaN</td>\n",
       "      <td>NaN</td>\n",
       "      <td>NaN</td>\n",
       "      <td>NaN</td>\n",
       "      <td>NaN</td>\n",
       "      <td>NaN</td>\n",
       "      <td>NaN</td>\n",
       "      <td>NaN</td>\n",
       "      <td>...</td>\n",
       "      <td>146.6702</td>\n",
       "      <td>146.7493</td>\n",
       "      <td>135.3316</td>\n",
       "      <td>135.3659</td>\n",
       "      <td>135.1477</td>\n",
       "      <td>135.2361</td>\n",
       "      <td>NaN</td>\n",
       "      <td>NaN</td>\n",
       "      <td>NaN</td>\n",
       "      <td>NaN</td>\n",
       "    </tr>\n",
       "    <tr>\n",
       "      <th>2020-06-18 03:00:00</th>\n",
       "      <td>NaN</td>\n",
       "      <td>NaN</td>\n",
       "      <td>NaN</td>\n",
       "      <td>NaN</td>\n",
       "      <td>NaN</td>\n",
       "      <td>NaN</td>\n",
       "      <td>NaN</td>\n",
       "      <td>NaN</td>\n",
       "      <td>NaN</td>\n",
       "      <td>NaN</td>\n",
       "      <td>...</td>\n",
       "      <td>146.8370</td>\n",
       "      <td>146.8370</td>\n",
       "      <td>135.5394</td>\n",
       "      <td>135.5470</td>\n",
       "      <td>135.3341</td>\n",
       "      <td>135.3341</td>\n",
       "      <td>NaN</td>\n",
       "      <td>NaN</td>\n",
       "      <td>NaN</td>\n",
       "      <td>NaN</td>\n",
       "    </tr>\n",
       "    <tr>\n",
       "      <th>2020-06-18 04:00:00</th>\n",
       "      <td>NaN</td>\n",
       "      <td>NaN</td>\n",
       "      <td>NaN</td>\n",
       "      <td>NaN</td>\n",
       "      <td>NaN</td>\n",
       "      <td>NaN</td>\n",
       "      <td>NaN</td>\n",
       "      <td>NaN</td>\n",
       "      <td>NaN</td>\n",
       "      <td>NaN</td>\n",
       "      <td>...</td>\n",
       "      <td>146.9467</td>\n",
       "      <td>147.0562</td>\n",
       "      <td>NaN</td>\n",
       "      <td>NaN</td>\n",
       "      <td>NaN</td>\n",
       "      <td>NaN</td>\n",
       "      <td>NaN</td>\n",
       "      <td>NaN</td>\n",
       "      <td>NaN</td>\n",
       "      <td>NaN</td>\n",
       "    </tr>\n",
       "  </tbody>\n",
       "</table>\n",
       "<p>5 rows × 384 columns</p>\n",
       "</div>"
      ],
      "text/plain": [
       "                      ZVQ                NCT                YAX      ...  \\\n",
       "                    close max min open close max min open close max  ...   \n",
       "date                                                                 ...   \n",
       "2020-06-18 00:00:00   NaN NaN NaN  NaN   NaN NaN NaN  NaN   NaN NaN  ...   \n",
       "2020-06-18 01:00:00   NaN NaN NaN  NaN   NaN NaN NaN  NaN   NaN NaN  ...   \n",
       "2020-06-18 02:00:00   NaN NaN NaN  NaN   NaN NaN NaN  NaN   NaN NaN  ...   \n",
       "2020-06-18 03:00:00   NaN NaN NaN  NaN   NaN NaN NaN  NaN   NaN NaN  ...   \n",
       "2020-06-18 04:00:00   NaN NaN NaN  NaN   NaN NaN NaN  NaN   NaN NaN  ...   \n",
       "\n",
       "                          SRI                 PHI                      \\\n",
       "                          min      open     close       max       min   \n",
       "date                                                                    \n",
       "2020-06-18 00:00:00  146.8217  146.8941       NaN       NaN       NaN   \n",
       "2020-06-18 01:00:00  146.5230  146.8765  135.2312  135.4027  134.9835   \n",
       "2020-06-18 02:00:00  146.6702  146.7493  135.3316  135.3659  135.1477   \n",
       "2020-06-18 03:00:00  146.8370  146.8370  135.5394  135.5470  135.3341   \n",
       "2020-06-18 04:00:00  146.9467  147.0562       NaN       NaN       NaN   \n",
       "\n",
       "                                RWJ               \n",
       "                         open close max min open  \n",
       "date                                              \n",
       "2020-06-18 00:00:00       NaN   NaN NaN NaN  NaN  \n",
       "2020-06-18 01:00:00  135.3464   NaN NaN NaN  NaN  \n",
       "2020-06-18 02:00:00  135.2361   NaN NaN NaN  NaN  \n",
       "2020-06-18 03:00:00  135.3341   NaN NaN NaN  NaN  \n",
       "2020-06-18 04:00:00       NaN   NaN NaN NaN  NaN  \n",
       "\n",
       "[5 rows x 384 columns]"
      ]
     },
     "execution_count": 17,
     "metadata": {},
     "output_type": "execute_result"
    }
   ],
   "source": [
    "df2.head()"
   ]
  },
  {
   "cell_type": "code",
   "execution_count": 18,
   "id": "finished-stocks",
   "metadata": {},
   "outputs": [],
   "source": [
    "df_total = pd.concat([df, df2])"
   ]
  },
  {
   "cell_type": "code",
   "execution_count": 21,
   "id": "primary-recycling",
   "metadata": {},
   "outputs": [],
   "source": [
    "df = df_total.copy()"
   ]
  },
  {
   "cell_type": "code",
   "execution_count": 7,
   "id": "satisfied-shaft",
   "metadata": {},
   "outputs": [],
   "source": [
    "after = df.index >= pd.to_datetime(\"2020-05-01\")\n",
    "df = df.loc[after]"
   ]
  },
  {
   "cell_type": "code",
   "execution_count": 6,
   "id": "japanese-effect",
   "metadata": {},
   "outputs": [],
   "source": [
    "df = df.resample(\"H\").aggregate(\"mean\")"
   ]
  },
  {
   "cell_type": "code",
   "execution_count": 22,
   "id": "surrounded-matter",
   "metadata": {},
   "outputs": [
    {
     "data": {
      "text/plain": [
       "1998724"
      ]
     },
     "execution_count": 22,
     "metadata": {},
     "output_type": "execute_result"
    }
   ],
   "source": [
    "df.isna().sum().sum()"
   ]
  },
  {
   "cell_type": "code",
   "execution_count": 23,
   "id": "thousand-fisher",
   "metadata": {},
   "outputs": [],
   "source": [
    "raw_df = df.copy()"
   ]
  },
  {
   "cell_type": "code",
   "execution_count": 24,
   "id": "faced-amber",
   "metadata": {},
   "outputs": [],
   "source": [
    "n_timesteps = len(raw_df)  # 20\n",
    "n_channels = len(raw_df.columns.levels[1])  # 2\n",
    "n_assets = len(raw_df.columns.levels[0])  # 2\n"
   ]
  },
  {
   "cell_type": "code",
   "execution_count": 25,
   "id": "nasty-documentary",
   "metadata": {},
   "outputs": [
    {
     "data": {
      "text/plain": [
       "(14760, 4, 96)"
      ]
     },
     "execution_count": 25,
     "metadata": {},
     "output_type": "execute_result"
    }
   ],
   "source": [
    "n_timesteps, n_channels, n_assets"
   ]
  },
  {
   "cell_type": "code",
   "execution_count": null,
   "id": "postal-popularity",
   "metadata": {},
   "outputs": [],
   "source": []
  },
  {
   "cell_type": "code",
   "execution_count": 26,
   "id": "occupied-speed",
   "metadata": {},
   "outputs": [],
   "source": [
    "lookback, gap, horizon = 60, 1, 60\n",
    "\n",
    "X, timestamps, y, asset_names, indicators = raw_to_Xy(raw_df,\n",
    "                                                      lookback=lookback,\n",
    "                                                      gap=gap,\n",
    "                                                      freq=\"B\",\n",
    "                                                      horizon=horizon)"
   ]
  },
  {
   "cell_type": "code",
   "execution_count": 27,
   "id": "light-account",
   "metadata": {},
   "outputs": [
    {
     "data": {
      "text/plain": [
       "(432, 4, 60, 96)"
      ]
     },
     "execution_count": 27,
     "metadata": {},
     "output_type": "execute_result"
    }
   ],
   "source": [
    "X.shape"
   ]
  },
  {
   "cell_type": "code",
   "execution_count": 28,
   "id": "architectural-shore",
   "metadata": {},
   "outputs": [],
   "source": [
    "returns = X[:, 0, :, :]"
   ]
  },
  {
   "cell_type": "code",
   "execution_count": 29,
   "id": "mature-alpha",
   "metadata": {},
   "outputs": [
    {
     "data": {
      "text/plain": [
       "(96,)"
      ]
     },
     "execution_count": 29,
     "metadata": {},
     "output_type": "execute_result"
    }
   ],
   "source": [
    "returns.mean(axis=0).mean(axis=0).shape"
   ]
  },
  {
   "cell_type": "code",
   "execution_count": 30,
   "id": "split-jacket",
   "metadata": {},
   "outputs": [
    {
     "data": {
      "text/plain": [
       "[<matplotlib.lines.Line2D at 0x7f822c48df90>]"
      ]
     },
     "execution_count": 30,
     "metadata": {},
     "output_type": "execute_result"
    },
    {
     "data": {
      "image/png": "[encoded data removed]",
      "text/plain": [
       "<Figure size 432x288 with 1 Axes>"
      ]
     },
     "metadata": {
      "needs_background": "light"
     },
     "output_type": "display_data"
    }
   ],
   "source": [
    "plt.plot(returns.mean(axis=0).mean(axis=0))"
   ]
  },
  {
   "cell_type": "code",
   "execution_count": 14,
   "id": "comparable-romance",
   "metadata": {},
   "outputs": [
    {
     "ename": "NameError",
     "evalue": "name 'returns' is not defined",
     "output_type": "error",
     "traceback": [
      "\u001b[0;31m---------------------------------------------------------------------------\u001b[0m",
      "\u001b[0;31mNameError\u001b[0m                                 Traceback (most recent call last)",
      "\u001b[0;32m<ipython-input-14-cbf6f251b5e6>\u001b[0m in \u001b[0;36m<module>\u001b[0;34m\u001b[0m\n\u001b[0;32m----> 1\u001b[0;31m \u001b[0mexp_returns\u001b[0m \u001b[0;34m=\u001b[0m \u001b[0mreturns\u001b[0m\u001b[0;34m.\u001b[0m\u001b[0mmean\u001b[0m\u001b[0;34m(\u001b[0m\u001b[0maxis\u001b[0m\u001b[0;34m=\u001b[0m\u001b[0;36m0\u001b[0m\u001b[0;34m)\u001b[0m\u001b[0;34m.\u001b[0m\u001b[0mmean\u001b[0m\u001b[0;34m(\u001b[0m\u001b[0maxis\u001b[0m\u001b[0;34m=\u001b[0m\u001b[0;36m0\u001b[0m\u001b[0;34m)\u001b[0m\u001b[0;34m\u001b[0m\u001b[0;34m\u001b[0m\u001b[0m\n\u001b[0m",
      "\u001b[0;31mNameError\u001b[0m: name 'returns' is not defined"
     ]
    }
   ],
   "source": [
    "exp_returns = returns.mean(axis=0).mean(axis=0)"
   ]
  },
  {
   "cell_type": "code",
   "execution_count": 31,
   "id": "monetary-corner",
   "metadata": {},
   "outputs": [],
   "source": [
    "\n",
    "dataset = InRAMDataset(X, y, timestamps=timestamps, asset_names=asset_names)\n",
    "\n",
    "X_sample, y_sample, timestamp_sample, asset_names = dataset[0]"
   ]
  },
  {
   "cell_type": "code",
   "execution_count": 32,
   "id": "alternative-glory",
   "metadata": {},
   "outputs": [],
   "source": [
    "#X_sample[0][0]"
   ]
  },
  {
   "cell_type": "code",
   "execution_count": 33,
   "id": "injured-windows",
   "metadata": {},
   "outputs": [
    {
     "data": {
      "text/plain": [
       "432"
      ]
     },
     "execution_count": 33,
     "metadata": {},
     "output_type": "execute_result"
    }
   ],
   "source": [
    "len(dataset)"
   ]
  },
  {
   "cell_type": "code",
   "execution_count": 74,
   "id": "protective-chapter",
   "metadata": {},
   "outputs": [
    {
     "data": {
      "text/plain": [
       "320"
      ]
     },
     "execution_count": 74,
     "metadata": {},
     "output_type": "execute_result"
    }
   ],
   "source": [
    "sp_ = len(dataset) - int(0.065*len(dataset))\n",
    "sp_"
   ]
  },
  {
   "cell_type": "code",
   "execution_count": 34,
   "id": "abroad-porcelain",
   "metadata": {},
   "outputs": [],
   "source": [
    "ids_tr, ids_val = train_test_split(range(len(dataset)), test_size=0.25, random_state=42)"
   ]
  },
  {
   "cell_type": "code",
   "execution_count": 184,
   "id": "iraqi-commerce",
   "metadata": {},
   "outputs": [],
   "source": [
    "ids_tr, ids_val = list(range(sp_)), list(range(sp_, len(dataset)))"
   ]
  },
  {
   "cell_type": "code",
   "execution_count": 35,
   "id": "unavailable-contact",
   "metadata": {},
   "outputs": [],
   "source": [
    "train_dataloader = RigidDataLoader(dataset, indices=ids_tr, batch_size=16) # list(range(sp_))\n",
    "val_dataloaders = {'val': RigidDataLoader(dataset, indices=ids_val, batch_size=16)} # list(range(sp_, len(dataset)))"
   ]
  },
  {
   "cell_type": "code",
   "execution_count": 64,
   "id": "direct-validation",
   "metadata": {},
   "outputs": [],
   "source": [
    "callbacks = [EarlyStoppingCallback(\"val\", \"loss\", patience=3)]"
   ]
  },
  {
   "cell_type": "code",
   "execution_count": 30,
   "id": "editorial-steel",
   "metadata": {},
   "outputs": [],
   "source": [
    "max_weight = 0.2\n",
    "hidden_size = 32\n",
    "network = BachelierNet(n_channels, n_assets, hidden_size=hidden_size, max_weight=max_weight)\n"
   ]
  },
  {
   "cell_type": "code",
   "execution_count": 23,
   "id": "remarkable-malawi",
   "metadata": {},
   "outputs": [
    {
     "data": {
      "text/plain": [
       "BachelierNet(\n",
       "  (norm_layer): InstanceNorm2d(4, eps=1e-05, momentum=0.1, affine=True, track_running_stats=False)\n",
       "  (transform_layer): RNN(\n",
       "    (cell): LSTM(4, 16, bidirectional=True)\n",
       "  )\n",
       "  (dropout_layer): Dropout(p=0.5, inplace=False)\n",
       "  (time_collapse_layer): AttentionCollapse(\n",
       "    (affine): Linear(in_features=32, out_features=32, bias=True)\n",
       "    (context_vector): Linear(in_features=32, out_features=1, bias=False)\n",
       "  )\n",
       "  (covariance_layer): CovarianceMatrix()\n",
       "  (channel_collapse_layer): AverageCollapse()\n",
       "  (portfolio_opt_layer): NumericalMarkowitz(\n",
       "    (cvxpylayer): CvxpyLayer()\n",
       "  )\n",
       ")"
      ]
     },
     "execution_count": 23,
     "metadata": {},
     "output_type": "execute_result"
    }
   ],
   "source": [
    "network"
   ]
  },
  {
   "cell_type": "code",
   "execution_count": 29,
   "id": "current-software",
   "metadata": {},
   "outputs": [],
   "source": []
  },
  {
   "cell_type": "code",
   "execution_count": 25,
   "id": "superior-loading",
   "metadata": {},
   "outputs": [
    {
     "name": "stderr",
     "output_type": "stream",
     "text": [
      "\r",
      "Epoch 0:   0%|          | 0/33 [00:00<?, ?it/s]"
     ]
    },
    {
     "name": "stdout",
     "output_type": "stream",
     "text": [
      "model   metric    epoch  dataloader\n",
      "1overN  drawdown  -1     val           0.001\n",
      "        loss      -1     val          -0.443\n"
     ]
    },
    {
     "name": "stderr",
     "output_type": "stream",
     "text": [
      "Epoch 0: 100%|██████████| 33/33 [00:13<00:00,  2.37it/s, loss=-0.36683, drawdown=0.00232, val_drawdown=0.00194, val_loss=-0.43200]\n",
      "Epoch 1: 100%|██████████| 33/33 [00:12<00:00,  2.61it/s, loss=-0.37759, drawdown=0.00248, val_drawdown=0.00186, val_loss=-0.43208]\n",
      "Epoch 2: 100%|██████████| 33/33 [00:12<00:00,  2.64it/s, loss=-0.37328, drawdown=0.00243, val_drawdown=0.00192, val_loss=-0.43015]\n",
      "Epoch 3: 100%|██████████| 33/33 [00:12<00:00,  2.59it/s, loss=-0.37690, drawdown=0.00245, val_drawdown=0.00186, val_loss=-0.43822]\n",
      "Epoch 4: 100%|██████████| 33/33 [00:12<00:00,  2.63it/s, loss=-0.37654, drawdown=0.00256, val_drawdown=0.00190, val_loss=-0.43214]\n",
      "Epoch 5: 100%|██████████| 33/33 [00:12<00:00,  2.59it/s, loss=-0.37635, drawdown=0.00237, val_drawdown=0.00189, val_loss=-0.43939]\n",
      "Epoch 6: 100%|██████████| 33/33 [00:12<00:00,  2.68it/s, loss=-0.37844, drawdown=0.00245, val_drawdown=0.00193, val_loss=-0.43740]\n",
      "Epoch 7: 100%|██████████| 33/33 [00:12<00:00,  2.69it/s, loss=-0.37890, drawdown=0.00260, val_drawdown=0.00183, val_loss=-0.43368]\n",
      "Epoch 8: 100%|██████████| 33/33 [00:12<00:00,  2.69it/s, loss=-0.38642, drawdown=0.00235, val_drawdown=0.00195, val_loss=-0.43400]\n",
      "Epoch 9: 100%|██████████| 33/33 [00:12<00:00,  2.62it/s, loss=-0.39642, drawdown=0.00238, val_drawdown=0.00184, val_loss=-0.42561]\n",
      "Epoch 10: 100%|██████████| 33/33 [00:12<00:00,  2.65it/s, loss=-0.40332, drawdown=0.00238, val_drawdown=0.00209, val_loss=-0.41256]\n"
     ]
    },
    {
     "name": "stdout",
     "output_type": "stream",
     "text": [
      "Training interrupted\n",
      "Training stopped early because there was no improvement in val_loss for 5 epochs\n"
     ]
    }
   ],
   "source": [
    "loss = SharpeRatio(returns_channel=0)\n",
    "benchmarks = {'1overN': OneOverN()}\n",
    "metrics = {'drawdown': MaximumDrawdown(returns_channel=0)}\n",
    "\n",
    "run = Run(network,\n",
    "          loss,\n",
    "          train_dataloader,\n",
    "          val_dataloaders=val_dataloaders,\n",
    "          metrics=metrics,\n",
    "          benchmarks=benchmarks,\n",
    "          device = torch.device(\"cuda:0\"),\n",
    "         callbacks=callbacks)\n",
    "\n",
    "history = run.launch(n_epochs=30)"
   ]
  },
  {
   "cell_type": "code",
   "execution_count": 26,
   "id": "scientific-channels",
   "metadata": {},
   "outputs": [
    {
     "data": {
      "text/plain": [
       "['__class__',\n",
       " '__delattr__',\n",
       " '__dict__',\n",
       " '__dir__',\n",
       " '__doc__',\n",
       " '__eq__',\n",
       " '__format__',\n",
       " '__ge__',\n",
       " '__getattribute__',\n",
       " '__gt__',\n",
       " '__hash__',\n",
       " '__init__',\n",
       " '__init_subclass__',\n",
       " '__le__',\n",
       " '__lt__',\n",
       " '__module__',\n",
       " '__ne__',\n",
       " '__new__',\n",
       " '__reduce__',\n",
       " '__reduce_ex__',\n",
       " '__repr__',\n",
       " '__setattr__',\n",
       " '__sizeof__',\n",
       " '__str__',\n",
       " '__subclasshook__',\n",
       " '__weakref__',\n",
       " 'add_entry',\n",
       " 'database',\n",
       " 'metrics',\n",
       " 'metrics_per_epoch',\n",
       " 'pretty_print']"
      ]
     },
     "execution_count": 26,
     "metadata": {},
     "output_type": "execute_result"
    }
   ],
   "source": [
    "dir(history)"
   ]
  },
  {
   "cell_type": "code",
   "execution_count": 27,
   "id": "infectious-parks",
   "metadata": {},
   "outputs": [
    {
     "name": "stdout",
     "output_type": "stream",
     "text": [
      "model    metric    epoch  dataloader\n",
      "1overN   drawdown  -1     val           0.001\n",
      "         loss      -1     val          -0.443\n",
      "network  drawdown   0     val           0.002\n",
      "                    1     val           0.002\n",
      "                    2     val           0.002\n",
      "                    3     val           0.002\n",
      "                    4     val           0.002\n",
      "                    5     val           0.002\n",
      "                    6     val           0.002\n",
      "                    7     val           0.002\n",
      "                    8     val           0.002\n",
      "                    9     val           0.002\n",
      "                    10    val           0.002\n",
      "         loss       0     val          -0.432\n",
      "                    1     val          -0.432\n",
      "                    2     val          -0.430\n",
      "                    3     val          -0.438\n",
      "                    4     val          -0.432\n",
      "                    5     val          -0.439\n",
      "                    6     val          -0.437\n",
      "                    7     val          -0.434\n",
      "                    8     val          -0.434\n",
      "                    9     val          -0.426\n",
      "                    10    val          -0.413\n"
     ]
    }
   ],
   "source": [
    "history.pretty_print()"
   ]
  },
  {
   "cell_type": "code",
   "execution_count": 28,
   "id": "sophisticated-walter",
   "metadata": {},
   "outputs": [],
   "source": [
    "#run.models[\"main\"]"
   ]
  },
  {
   "cell_type": "code",
   "execution_count": 29,
   "id": "associate-acceptance",
   "metadata": {},
   "outputs": [],
   "source": [
    "#run.models[\"main\"].to(\"cpu\")"
   ]
  },
  {
   "cell_type": "code",
   "execution_count": 30,
   "id": "prospective-romantic",
   "metadata": {},
   "outputs": [],
   "source": [
    "#w_pred = run.models[\"main\"](torch.ones(1, n_channels, lookback, n_assets).cpu())#.cpu().detach().numpy().squeeze()"
   ]
  },
  {
   "cell_type": "code",
   "execution_count": null,
   "id": "eleven-corruption",
   "metadata": {},
   "outputs": [],
   "source": []
  },
  {
   "cell_type": "code",
   "execution_count": 171,
   "id": "loved-cuisine",
   "metadata": {},
   "outputs": [],
   "source": [
    "\n",
    "hidden_size = 32\n",
    "n_groups = 4\n",
    "transform_type = 'Conv'\n",
    "\n",
    "network2 = KeynesNet(n_channels,\n",
    "                    hidden_size=hidden_size,\n",
    "                    transform_type=transform_type,\n",
    "                    n_groups=n_groups)"
   ]
  },
  {
   "cell_type": "code",
   "execution_count": 173,
   "id": "complete-handle",
   "metadata": {},
   "outputs": [
    {
     "name": "stderr",
     "output_type": "stream",
     "text": [
      "\n",
      "Epoch 0:   0%|          | 0/7 [00:00<?, ?it/s]\u001b[A"
     ]
    },
    {
     "name": "stdout",
     "output_type": "stream",
     "text": [
      "model   metric    epoch  dataloader\n",
      "1overN  drawdown  -1     val           0.004\n",
      "        loss      -1     val          -0.338\n"
     ]
    },
    {
     "name": "stderr",
     "output_type": "stream",
     "text": [
      "\n",
      "Epoch 0:  14%|█▍        | 1/7 [00:01<00:10,  1.67s/it]\u001b[A\n",
      "Epoch 0:  14%|█▍        | 1/7 [00:01<00:10,  1.67s/it, loss=-0.33805, drawdown=0.00359]\u001b[A\n",
      "Epoch 0:  29%|██▊       | 2/7 [00:06<00:17,  3.43s/it, loss=-0.33805, drawdown=0.00359]\u001b[A\n",
      "Epoch 0:  29%|██▊       | 2/7 [00:06<00:17,  3.43s/it, loss=-0.33561, drawdown=0.00357]\u001b[A\n",
      "Epoch 0:  43%|████▎     | 3/7 [00:15<00:24,  6.08s/it, loss=-0.33561, drawdown=0.00357]\u001b[A\n",
      "Epoch 0:  43%|████▎     | 3/7 [00:15<00:24,  6.08s/it, loss=-0.33875, drawdown=0.00357]\u001b[A\n",
      "Epoch 0:  57%|█████▋    | 4/7 [00:19<00:16,  5.41s/it, loss=-0.33875, drawdown=0.00357]\u001b[A\n",
      "Epoch 0:  57%|█████▋    | 4/7 [00:19<00:16,  5.41s/it, loss=-0.33999, drawdown=0.00354]\u001b[A"
     ]
    },
    {
     "name": "stdout",
     "output_type": "stream",
     "text": [
      "Training interrupted\n"
     ]
    }
   ],
   "source": [
    "run2 = Run(network2,\n",
    "          loss,\n",
    "          train_dataloader,\n",
    "          val_dataloaders=val_dataloaders,\n",
    "          metrics=metrics,\n",
    "          benchmarks=benchmarks,\n",
    "          device = torch.device(\"cpu\"),\n",
    "          callbacks=callbacks, optimizer=torch.optim.Adam(network.parameters(), lr=0.0001))\n",
    "\n",
    "history2 = run2.launch(n_epochs=30)"
   ]
  },
  {
   "cell_type": "code",
   "execution_count": 33,
   "id": "constitutional-forward",
   "metadata": {},
   "outputs": [
    {
     "name": "stdout",
     "output_type": "stream",
     "text": [
      "model    metric    epoch  dataloader\n",
      "1overN   drawdown  -1     val           0.001\n",
      "         loss      -1     val          -0.443\n",
      "network  drawdown   0     val           0.001\n",
      "                    1     val           0.001\n",
      "                    2     val           0.001\n",
      "                    3     val           0.001\n",
      "                    4     val           0.001\n",
      "                    5     val           0.001\n",
      "         loss       0     val          -0.442\n",
      "                    1     val          -0.441\n",
      "                    2     val          -0.439\n",
      "                    3     val          -0.439\n",
      "                    4     val          -0.434\n",
      "                    5     val          -0.432\n"
     ]
    }
   ],
   "source": [
    "history2.pretty_print()"
   ]
  },
  {
   "cell_type": "code",
   "execution_count": 368,
   "id": "preliminary-joining",
   "metadata": {},
   "outputs": [],
   "source": [
    "network3 = LinearNet(n_channels, lookback, n_assets)\n"
   ]
  },
  {
   "cell_type": "code",
   "execution_count": 370,
   "id": "corporate-block",
   "metadata": {},
   "outputs": [
    {
     "name": "stderr",
     "output_type": "stream",
     "text": [
      "\n",
      "\n",
      "Epoch 0:   0%|          | 0/20 [00:00<?, ?it/s]\u001b[A\u001b[A\n",
      "\n",
      "Epoch 0:   5%|▌         | 1/20 [00:00<00:00, 45.63it/s, loss=-0.25981, drawdown=0.01577]\u001b[A\u001b[A\n",
      "\n",
      "Epoch 0:  10%|█         | 2/20 [00:00<00:00, 46.29it/s, loss=-0.31869, drawdown=0.01184]\u001b[A\u001b[A\n",
      "\n",
      "Epoch 0:  15%|█▌        | 3/20 [00:00<00:00, 44.86it/s, loss=-0.30917, drawdown=0.01389]\u001b[A\u001b[A\n",
      "\n",
      "Epoch 0:  20%|██        | 4/20 [00:00<00:00, 42.15it/s, loss=-0.30925, drawdown=0.01344]\u001b[A\u001b[A\n",
      "\n",
      "Epoch 0:  25%|██▌       | 5/20 [00:00<00:00, 39.86it/s, loss=-0.30925, drawdown=0.01344]\u001b[A\u001b[A\n",
      "\n",
      "Epoch 0:  25%|██▌       | 5/20 [00:00<00:00, 39.86it/s, loss=-0.29537, drawdown=0.01404]\u001b[A\u001b[A\n",
      "\n",
      "Epoch 0:  30%|███       | 6/20 [00:00<00:00, 39.86it/s, loss=-0.30005, drawdown=0.01346]\u001b[A\u001b[A\n",
      "\n",
      "Epoch 0:  35%|███▌      | 7/20 [00:00<00:00, 39.86it/s, loss=-0.29560, drawdown=0.01335]\u001b[A\u001b[A\n",
      "\n",
      "Epoch 0:  40%|████      | 8/20 [00:00<00:00, 39.86it/s, loss=-0.28813, drawdown=0.01394]\u001b[A\u001b[A"
     ]
    },
    {
     "name": "stdout",
     "output_type": "stream",
     "text": [
      "model   metric    epoch  dataloader\n",
      "1overN  drawdown  -1     val           0.001\n",
      "        loss      -1     val          -0.500\n"
     ]
    },
    {
     "name": "stderr",
     "output_type": "stream",
     "text": [
      "\n",
      "\n",
      "Epoch 0:  45%|████▌     | 9/20 [00:00<00:00, 39.86it/s, loss=-0.27938, drawdown=0.01453]\u001b[A\u001b[A\n",
      "\n",
      "Epoch 0:  50%|█████     | 10/20 [00:00<00:00, 42.59it/s, loss=-0.27938, drawdown=0.01453]\u001b[A\u001b[A\n",
      "\n",
      "Epoch 0:  50%|█████     | 10/20 [00:00<00:00, 42.59it/s, loss=-0.27858, drawdown=0.01472]\u001b[A\u001b[A\n",
      "\n",
      "Epoch 0:  55%|█████▌    | 11/20 [00:00<00:00, 42.59it/s, loss=-0.27763, drawdown=0.01470]\u001b[A\u001b[A\n",
      "\n",
      "Epoch 0:  60%|██████    | 12/20 [00:00<00:00, 42.59it/s, loss=-0.27750, drawdown=0.01512]\u001b[A\u001b[A\n",
      "\n",
      "Epoch 0:  65%|██████▌   | 13/20 [00:00<00:00, 42.59it/s, loss=-0.28032, drawdown=0.01525]\u001b[A\u001b[A\n",
      "\n",
      "Epoch 0:  70%|███████   | 14/20 [00:00<00:00, 42.59it/s, loss=-0.26864, drawdown=0.01529]\u001b[A\u001b[A\n",
      "\n",
      "Epoch 0:  75%|███████▌  | 15/20 [00:00<00:00, 41.58it/s, loss=-0.26864, drawdown=0.01529]\u001b[A\u001b[A\n",
      "\n",
      "Epoch 0:  75%|███████▌  | 15/20 [00:00<00:00, 41.58it/s, loss=-0.26372, drawdown=0.01529]\u001b[A\u001b[A\n",
      "\n",
      "Epoch 0:  80%|████████  | 16/20 [00:00<00:00, 41.58it/s, loss=-0.25971, drawdown=0.01529]\u001b[A\u001b[A\n",
      "\n",
      "Epoch 0:  85%|████████▌ | 17/20 [00:00<00:00, 41.58it/s, loss=-0.25714, drawdown=0.01518]\u001b[A\u001b[A\n",
      "\n",
      "Epoch 0:  90%|█████████ | 18/20 [00:00<00:00, 41.58it/s, loss=-0.26193, drawdown=0.01496]\u001b[A\u001b[A\n",
      "\n",
      "Epoch 0:  95%|█████████▌| 19/20 [00:00<00:00, 41.58it/s, loss=-0.25922, drawdown=0.01497]\u001b[A\u001b[A\n",
      "\n",
      "Epoch 0: 100%|██████████| 20/20 [00:00<00:00, 41.95it/s, loss=-0.25922, drawdown=0.01497]\u001b[A\u001b[A\n",
      "\n",
      "Epoch 0: 100%|██████████| 20/20 [00:00<00:00, 41.95it/s, loss=-0.25888, drawdown=0.01483]\u001b[A\u001b[A\n",
      "\n",
      "Epoch 0: 100%|██████████| 20/20 [00:00<00:00, 41.95it/s, loss=-0.25888, drawdown=0.01483, val_drawdown=0.00445, val_loss=-0.44355]\u001b[A\u001b[A\n",
      "\n",
      "Epoch 0: 100%|██████████| 20/20 [00:00<00:00, 38.36it/s, loss=-0.25888, drawdown=0.01483, val_drawdown=0.00445, val_loss=-0.44355]\u001b[A\u001b[A\n",
      "\n",
      "\n",
      "Epoch 1:   0%|          | 0/20 [00:00<?, ?it/s]\u001b[A\u001b[A\n",
      "\n",
      "Epoch 1:   5%|▌         | 1/20 [00:00<00:00, 50.12it/s, loss=-0.28965, drawdown=0.01266]\u001b[A\u001b[A\n",
      "\n",
      "Epoch 1:  10%|█         | 2/20 [00:00<00:00, 48.47it/s, loss=-0.30850, drawdown=0.01322]\u001b[A\u001b[A\n",
      "\n",
      "Epoch 1:  15%|█▌        | 3/20 [00:00<00:00, 49.12it/s, loss=-0.29823, drawdown=0.01317]\u001b[A\u001b[A\n",
      "\n",
      "Epoch 1:  20%|██        | 4/20 [00:00<00:00, 49.36it/s, loss=-0.28774, drawdown=0.01440]\u001b[A\u001b[A\n",
      "\n",
      "Epoch 1:  25%|██▌       | 5/20 [00:00<00:00, 49.57it/s, loss=-0.28774, drawdown=0.01440]\u001b[A\u001b[A\n",
      "\n",
      "Epoch 1:  25%|██▌       | 5/20 [00:00<00:00, 49.57it/s, loss=-0.29136, drawdown=0.01336]\u001b[A\u001b[A\n",
      "\n",
      "Epoch 1:  30%|███       | 6/20 [00:00<00:00, 49.57it/s, loss=-0.28787, drawdown=0.01382]\u001b[A\u001b[A\n",
      "\n",
      "Epoch 1:  35%|███▌      | 7/20 [00:00<00:00, 49.57it/s, loss=-0.28605, drawdown=0.01419]\u001b[A\u001b[A\n",
      "\n",
      "Epoch 1:  40%|████      | 8/20 [00:00<00:00, 49.57it/s, loss=-0.28645, drawdown=0.01457]\u001b[A\u001b[A\n",
      "\n",
      "Epoch 1:  45%|████▌     | 9/20 [00:00<00:00, 49.57it/s, loss=-0.28485, drawdown=0.01429]\u001b[A\u001b[A\n",
      "\n",
      "Epoch 1:  50%|█████     | 10/20 [00:00<00:00, 44.41it/s, loss=-0.28485, drawdown=0.01429]\u001b[A\u001b[A\n",
      "\n",
      "Epoch 1:  50%|█████     | 10/20 [00:00<00:00, 44.41it/s, loss=-0.28756, drawdown=0.01492]\u001b[A\u001b[A\n",
      "\n",
      "Epoch 1:  55%|█████▌    | 11/20 [00:00<00:00, 44.41it/s, loss=-0.29063, drawdown=0.01544]\u001b[A\u001b[A\n",
      "\n",
      "Epoch 1:  60%|██████    | 12/20 [00:00<00:00, 44.41it/s, loss=-0.29132, drawdown=0.01528]\u001b[A\u001b[A\n",
      "\n",
      "Epoch 1:  65%|██████▌   | 13/20 [00:00<00:00, 44.41it/s, loss=-0.29230, drawdown=0.01545]\u001b[A\u001b[A\n",
      "\n",
      "Epoch 1:  70%|███████   | 14/20 [00:00<00:00, 44.41it/s, loss=-0.28812, drawdown=0.01564]\u001b[A\u001b[A\n",
      "\n",
      "Epoch 1:  75%|███████▌  | 15/20 [00:00<00:00, 43.87it/s, loss=-0.28812, drawdown=0.01564]\u001b[A\u001b[A\n",
      "\n",
      "Epoch 1:  75%|███████▌  | 15/20 [00:00<00:00, 43.87it/s, loss=-0.28837, drawdown=0.01522]\u001b[A\u001b[A\n",
      "\n",
      "Epoch 1:  80%|████████  | 16/20 [00:00<00:00, 43.87it/s, loss=-0.28942, drawdown=0.01520]\u001b[A\u001b[A\n",
      "\n",
      "Epoch 1:  85%|████████▌ | 17/20 [00:00<00:00, 43.87it/s, loss=-0.29394, drawdown=0.01498]\u001b[A\u001b[A\n",
      "\n",
      "Epoch 1:  90%|█████████ | 18/20 [00:00<00:00, 43.87it/s, loss=-0.29075, drawdown=0.01515]\u001b[A\u001b[A\n",
      "\n",
      "Epoch 1:  95%|█████████▌| 19/20 [00:00<00:00, 43.87it/s, loss=-0.29045, drawdown=0.01510]\u001b[A\u001b[A\n",
      "\n",
      "Epoch 1: 100%|██████████| 20/20 [00:00<00:00, 44.28it/s, loss=-0.29045, drawdown=0.01510]\u001b[A\u001b[A\n",
      "\n",
      "Epoch 1: 100%|██████████| 20/20 [00:00<00:00, 44.28it/s, loss=-0.28814, drawdown=0.01531]\u001b[A\u001b[A\n",
      "\n",
      "Epoch 1: 100%|██████████| 20/20 [00:00<00:00, 44.28it/s, loss=-0.28814, drawdown=0.01531, val_drawdown=0.00553, val_loss=-0.32914]\u001b[A\u001b[A\n",
      "\n",
      "Epoch 1: 100%|██████████| 20/20 [00:00<00:00, 40.40it/s, loss=-0.28814, drawdown=0.01531, val_drawdown=0.00553, val_loss=-0.32914]\u001b[A\u001b[A\n",
      "\n",
      "\n",
      "Epoch 2:   0%|          | 0/20 [00:00<?, ?it/s]\u001b[A\u001b[A\n",
      "\n",
      "Epoch 2:   5%|▌         | 1/20 [00:00<00:00, 40.32it/s, loss=-0.28803, drawdown=0.01481]\u001b[A\u001b[A\n",
      "\n",
      "Epoch 2:  10%|█         | 2/20 [00:00<00:00, 40.33it/s, loss=-0.30047, drawdown=0.01330]\u001b[A\u001b[A\n",
      "\n",
      "Epoch 2:  15%|█▌        | 3/20 [00:00<00:00, 42.09it/s, loss=-0.30499, drawdown=0.01269]\u001b[A\u001b[A\n",
      "\n",
      "Epoch 2:  20%|██        | 4/20 [00:00<00:00, 43.61it/s, loss=-0.30416, drawdown=0.01249]\u001b[A\u001b[A\n",
      "\n",
      "Epoch 2:  25%|██▌       | 5/20 [00:00<00:00, 44.35it/s, loss=-0.30416, drawdown=0.01249]\u001b[A\u001b[A\n",
      "\n",
      "Epoch 2:  25%|██▌       | 5/20 [00:00<00:00, 44.35it/s, loss=-0.30522, drawdown=0.01339]\u001b[A\u001b[A\n",
      "\n",
      "Epoch 2:  30%|███       | 6/20 [00:00<00:00, 44.35it/s, loss=-0.29608, drawdown=0.01339]\u001b[A\u001b[A\n",
      "\n",
      "Epoch 2:  35%|███▌      | 7/20 [00:00<00:00, 44.35it/s, loss=-0.29482, drawdown=0.01315]\u001b[A\u001b[A\n",
      "\n",
      "Epoch 2:  40%|████      | 8/20 [00:00<00:00, 44.35it/s, loss=-0.29544, drawdown=0.01343]\u001b[A\u001b[A\n",
      "\n",
      "Epoch 2:  45%|████▌     | 9/20 [00:00<00:00, 44.35it/s, loss=-0.29379, drawdown=0.01332]\u001b[A\u001b[A\n",
      "\n",
      "Epoch 2:  50%|█████     | 10/20 [00:00<00:00, 40.66it/s, loss=-0.29379, drawdown=0.01332]\u001b[A\u001b[A\n",
      "\n",
      "Epoch 2:  50%|█████     | 10/20 [00:00<00:00, 40.66it/s, loss=-0.29907, drawdown=0.01331]\u001b[A\u001b[A\n",
      "\n",
      "Epoch 2:  55%|█████▌    | 11/20 [00:00<00:00, 40.66it/s, loss=-0.29840, drawdown=0.01335]\u001b[A\u001b[A\n",
      "\n",
      "Epoch 2:  60%|██████    | 12/20 [00:00<00:00, 40.66it/s, loss=-0.29181, drawdown=0.01327]\u001b[A\u001b[A\n",
      "\n",
      "Epoch 2:  65%|██████▌   | 13/20 [00:00<00:00, 40.66it/s, loss=-0.29065, drawdown=0.01339]\u001b[A\u001b[A\n",
      "\n",
      "Epoch 2:  70%|███████   | 14/20 [00:00<00:00, 40.66it/s, loss=-0.29590, drawdown=0.01326]\u001b[A\u001b[A\n",
      "\n",
      "Epoch 2:  75%|███████▌  | 15/20 [00:00<00:00, 38.23it/s, loss=-0.29590, drawdown=0.01326]\u001b[A\u001b[A\n",
      "\n",
      "Epoch 2:  75%|███████▌  | 15/20 [00:00<00:00, 38.23it/s, loss=-0.29317, drawdown=0.01366]\u001b[A\u001b[A\n",
      "\n",
      "Epoch 2:  80%|████████  | 16/20 [00:00<00:00, 38.23it/s, loss=-0.29631, drawdown=0.01370]\u001b[A\u001b[A\n",
      "\n",
      "Epoch 2:  85%|████████▌ | 17/20 [00:00<00:00, 38.23it/s, loss=-0.29649, drawdown=0.01362]\u001b[A\u001b[A\n",
      "\n",
      "Epoch 2:  90%|█████████ | 18/20 [00:00<00:00, 38.23it/s, loss=-0.29542, drawdown=0.01374]\u001b[A\u001b[A\n",
      "\n",
      "Epoch 2:  95%|█████████▌| 19/20 [00:00<00:00, 37.42it/s, loss=-0.29542, drawdown=0.01374]\u001b[A\u001b[A\n",
      "\n",
      "Epoch 2:  95%|█████████▌| 19/20 [00:00<00:00, 37.42it/s, loss=-0.29357, drawdown=0.01409]\u001b[A\u001b[A\n",
      "\n",
      "Epoch 2: 100%|██████████| 20/20 [00:00<00:00, 37.42it/s, loss=-0.29420, drawdown=0.01425]\u001b[A\u001b[A\n",
      "\n",
      "Epoch 2: 100%|██████████| 20/20 [00:00<00:00, 37.42it/s, loss=-0.29420, drawdown=0.01425, val_drawdown=0.00797, val_loss=-0.26290]\u001b[A\u001b[A\n",
      "\n",
      "Epoch 2: 100%|██████████| 20/20 [00:00<00:00, 36.41it/s, loss=-0.29420, drawdown=0.01425, val_drawdown=0.00797, val_loss=-0.26290]\u001b[A\u001b[A\n",
      "\n",
      "\n",
      "Epoch 3:   0%|          | 0/20 [00:00<?, ?it/s]\u001b[A\u001b[A\n",
      "\n",
      "Epoch 3:   5%|▌         | 1/20 [00:00<00:00, 50.91it/s, loss=-0.24308, drawdown=0.01812]\u001b[A\u001b[A\n",
      "\n",
      "Epoch 3:  10%|█         | 2/20 [00:00<00:00, 47.94it/s, loss=-0.25199, drawdown=0.01469]\u001b[A\u001b[A\n",
      "\n",
      "Epoch 3:  15%|█▌        | 3/20 [00:00<00:00, 45.83it/s, loss=-0.26238, drawdown=0.01625]\u001b[A\u001b[A\n",
      "\n",
      "Epoch 3:  20%|██        | 4/20 [00:00<00:00, 45.11it/s, loss=-0.27699, drawdown=0.01515]\u001b[A\u001b[A\n",
      "\n",
      "Epoch 3:  25%|██▌       | 5/20 [00:00<00:00, 42.07it/s, loss=-0.27699, drawdown=0.01515]\u001b[A\u001b[A\n",
      "\n",
      "Epoch 3:  25%|██▌       | 5/20 [00:00<00:00, 42.07it/s, loss=-0.27540, drawdown=0.01508]\u001b[A\u001b[A\n",
      "\n",
      "Epoch 3:  30%|███       | 6/20 [00:00<00:00, 42.07it/s, loss=-0.27581, drawdown=0.01431]\u001b[A\u001b[A\n",
      "\n",
      "Epoch 3:  35%|███▌      | 7/20 [00:00<00:00, 42.07it/s, loss=-0.28475, drawdown=0.01460]\u001b[A\u001b[A\n",
      "\n",
      "Epoch 3:  40%|████      | 8/20 [00:00<00:00, 42.07it/s, loss=-0.28406, drawdown=0.01508]\u001b[A\u001b[A\n",
      "\n",
      "Epoch 3:  45%|████▌     | 9/20 [00:00<00:00, 42.07it/s, loss=-0.28456, drawdown=0.01486]\u001b[A\u001b[A\n",
      "\n",
      "Epoch 3:  50%|█████     | 10/20 [00:00<00:00, 42.28it/s, loss=-0.28456, drawdown=0.01486]\u001b[A\u001b[A\n",
      "\n",
      "Epoch 3:  50%|█████     | 10/20 [00:00<00:00, 42.28it/s, loss=-0.28915, drawdown=0.01473]\u001b[A\u001b[A\n",
      "\n",
      "Epoch 3:  55%|█████▌    | 11/20 [00:00<00:00, 42.28it/s, loss=-0.29407, drawdown=0.01511]\u001b[A\u001b[A\n",
      "\n",
      "Epoch 3:  60%|██████    | 12/20 [00:00<00:00, 42.28it/s, loss=-0.29636, drawdown=0.01518]\u001b[A\u001b[A\n",
      "\n",
      "Epoch 3:  65%|██████▌   | 13/20 [00:00<00:00, 42.28it/s, loss=-0.29280, drawdown=0.01543]\u001b[A\u001b[A\n",
      "\n",
      "Epoch 3:  70%|███████   | 14/20 [00:00<00:00, 42.28it/s, loss=-0.29296, drawdown=0.01530]\u001b[A\u001b[A\n",
      "\n",
      "Epoch 3:  75%|███████▌  | 15/20 [00:00<00:00, 39.99it/s, loss=-0.29296, drawdown=0.01530]\u001b[A\u001b[A\n",
      "\n",
      "Epoch 3:  75%|███████▌  | 15/20 [00:00<00:00, 39.99it/s, loss=-0.29602, drawdown=0.01519]\u001b[A\u001b[A\n",
      "\n",
      "Epoch 3:  80%|████████  | 16/20 [00:00<00:00, 39.99it/s, loss=-0.29546, drawdown=0.01516]\u001b[A\u001b[A\n",
      "\n",
      "Epoch 3:  85%|████████▌ | 17/20 [00:00<00:00, 39.99it/s, loss=-0.29360, drawdown=0.01511]\u001b[A\u001b[A\n",
      "\n",
      "Epoch 3:  90%|█████████ | 18/20 [00:00<00:00, 39.99it/s, loss=-0.29148, drawdown=0.01522]\u001b[A\u001b[A\n",
      "\n",
      "Epoch 3:  95%|█████████▌| 19/20 [00:00<00:00, 39.99it/s, loss=-0.29026, drawdown=0.01519]\u001b[A\u001b[A\n",
      "\n",
      "Epoch 3: 100%|██████████| 20/20 [00:00<00:00, 41.41it/s, loss=-0.29026, drawdown=0.01519]\u001b[A\u001b[A\n",
      "\n",
      "Epoch 3: 100%|██████████| 20/20 [00:00<00:00, 41.41it/s, loss=-0.28906, drawdown=0.01529]\u001b[A\u001b[A\n",
      "\n",
      "Epoch 3: 100%|██████████| 20/20 [00:00<00:00, 41.41it/s, loss=-0.28906, drawdown=0.01529, val_drawdown=0.01737, val_loss=-0.20987]\u001b[A\u001b[A\n",
      "\n",
      "Epoch 3: 100%|██████████| 20/20 [00:00<00:00, 38.73it/s, loss=-0.28906, drawdown=0.01529, val_drawdown=0.01737, val_loss=-0.20987]\u001b[A\u001b[A\n",
      "\n",
      "\n",
      "Epoch 4:   0%|          | 0/20 [00:00<?, ?it/s]\u001b[A\u001b[A\n",
      "\n",
      "Epoch 4:   5%|▌         | 1/20 [00:00<00:00, 51.88it/s, loss=-0.29701, drawdown=0.01347]\u001b[A\u001b[A\n",
      "\n",
      "Epoch 4:  10%|█         | 2/20 [00:00<00:00, 48.36it/s, loss=-0.30174, drawdown=0.01456]\u001b[A\u001b[A\n",
      "\n",
      "Epoch 4:  15%|█▌        | 3/20 [00:00<00:00, 48.61it/s, loss=-0.29952, drawdown=0.01383]\u001b[A\u001b[A\n",
      "\n",
      "Epoch 4:  20%|██        | 4/20 [00:00<00:00, 49.39it/s, loss=-0.30121, drawdown=0.01390]\u001b[A\u001b[A\n",
      "\n",
      "Epoch 4:  25%|██▌       | 5/20 [00:00<00:00, 48.14it/s, loss=-0.30121, drawdown=0.01390]\u001b[A\u001b[A\n",
      "\n",
      "Epoch 4:  25%|██▌       | 5/20 [00:00<00:00, 48.14it/s, loss=-0.29799, drawdown=0.01393]\u001b[A\u001b[A\n",
      "\n",
      "Epoch 4:  30%|███       | 6/20 [00:00<00:00, 48.14it/s, loss=-0.29669, drawdown=0.01420]\u001b[A\u001b[A\n",
      "\n",
      "Epoch 4:  35%|███▌      | 7/20 [00:00<00:00, 48.14it/s, loss=-0.30975, drawdown=0.01402]\u001b[A\u001b[A\n",
      "\n",
      "Epoch 4:  40%|████      | 8/20 [00:00<00:00, 48.14it/s, loss=-0.30593, drawdown=0.01464]\u001b[A\u001b[A\n",
      "\n",
      "Epoch 4:  45%|████▌     | 9/20 [00:00<00:00, 48.14it/s, loss=-0.30154, drawdown=0.01490]\u001b[A\u001b[A\n",
      "\n",
      "Epoch 4:  50%|█████     | 10/20 [00:00<00:00, 43.80it/s, loss=-0.30154, drawdown=0.01490]\u001b[A\u001b[A\n",
      "\n",
      "Epoch 4:  50%|█████     | 10/20 [00:00<00:00, 43.80it/s, loss=-0.29324, drawdown=0.01517]\u001b[A\u001b[A\n",
      "\n",
      "Epoch 4:  55%|█████▌    | 11/20 [00:00<00:00, 43.80it/s, loss=-0.29042, drawdown=0.01550]\u001b[A\u001b[A\n",
      "\n",
      "Epoch 4:  60%|██████    | 12/20 [00:00<00:00, 43.80it/s, loss=-0.29332, drawdown=0.01564]\u001b[A\u001b[A\n",
      "\n",
      "Epoch 4:  65%|██████▌   | 13/20 [00:00<00:00, 43.80it/s, loss=-0.29805, drawdown=0.01549]\u001b[A\u001b[A\n",
      "\n",
      "Epoch 4:  70%|███████   | 14/20 [00:00<00:00, 43.80it/s, loss=-0.29954, drawdown=0.01545]\u001b[A\u001b[A\n",
      "\n",
      "Epoch 4:  75%|███████▌  | 15/20 [00:00<00:00, 40.16it/s, loss=-0.29954, drawdown=0.01545]\u001b[A\u001b[A\n",
      "\n",
      "Epoch 4:  75%|███████▌  | 15/20 [00:00<00:00, 40.16it/s, loss=-0.30371, drawdown=0.01550]\u001b[A\u001b[A\n",
      "\n",
      "Epoch 4:  80%|████████  | 16/20 [00:00<00:00, 40.16it/s, loss=-0.30435, drawdown=0.01548]\u001b[A\u001b[A\n",
      "\n",
      "Epoch 4:  85%|████████▌ | 17/20 [00:00<00:00, 40.16it/s, loss=-0.30295, drawdown=0.01582]\u001b[A\u001b[A\n",
      "\n",
      "Epoch 4:  90%|█████████ | 18/20 [00:00<00:00, 40.16it/s, loss=-0.29900, drawdown=0.01590]\u001b[A\u001b[A\n",
      "\n",
      "Epoch 4:  95%|█████████▌| 19/20 [00:00<00:00, 40.16it/s, loss=-0.29783, drawdown=0.01576]\u001b[A\u001b[A\n",
      "\n",
      "Epoch 4: 100%|██████████| 20/20 [00:00<00:00, 41.67it/s, loss=-0.29783, drawdown=0.01576]\u001b[A\u001b[A\n",
      "\n",
      "Epoch 4: 100%|██████████| 20/20 [00:00<00:00, 41.67it/s, loss=-0.29656, drawdown=0.01584]\u001b[A\u001b[A\n",
      "\n",
      "Epoch 4: 100%|██████████| 20/20 [00:00<00:00, 41.67it/s, loss=-0.29656, drawdown=0.01584, val_drawdown=0.02250, val_loss=-0.27289]\u001b[A\u001b[A\n",
      "\n",
      "Epoch 4: 100%|██████████| 20/20 [00:00<00:00, 39.33it/s, loss=-0.29656, drawdown=0.01584, val_drawdown=0.02250, val_loss=-0.27289]\u001b[A\u001b[A\n",
      "\n",
      "\n",
      "Epoch 5:   0%|          | 0/20 [00:00<?, ?it/s]\u001b[A\u001b[A\n",
      "\n",
      "Epoch 5:   5%|▌         | 1/20 [00:00<00:00, 49.56it/s, loss=-0.26855, drawdown=0.02213]\u001b[A\u001b[A\n",
      "\n",
      "Epoch 5:  10%|█         | 2/20 [00:00<00:00, 49.47it/s, loss=-0.26172, drawdown=0.01844]\u001b[A\u001b[A\n",
      "\n",
      "Epoch 5:  15%|█▌        | 3/20 [00:00<00:00, 46.19it/s, loss=-0.29501, drawdown=0.01849]\u001b[A\u001b[A\n",
      "\n",
      "Epoch 5:  20%|██        | 4/20 [00:00<00:00, 43.90it/s, loss=-0.29691, drawdown=0.01696]\u001b[A\u001b[A\n",
      "\n",
      "Epoch 5:  25%|██▌       | 5/20 [00:00<00:00, 42.77it/s, loss=-0.29691, drawdown=0.01696]\u001b[A\u001b[A\n",
      "\n",
      "Epoch 5:  25%|██▌       | 5/20 [00:00<00:00, 42.77it/s, loss=-0.31954, drawdown=0.01658]\u001b[A\u001b[A\n",
      "\n",
      "Epoch 5:  30%|███       | 6/20 [00:00<00:00, 42.77it/s, loss=-0.32209, drawdown=0.01582]\u001b[A\u001b[A\n",
      "\n",
      "Epoch 5:  35%|███▌      | 7/20 [00:00<00:00, 42.77it/s, loss=-0.32097, drawdown=0.01594]\u001b[A\u001b[A\n",
      "\n",
      "Epoch 5:  40%|████      | 8/20 [00:00<00:00, 42.77it/s, loss=-0.32160, drawdown=0.01592]\u001b[A\u001b[A\n",
      "\n",
      "Epoch 5:  45%|████▌     | 9/20 [00:00<00:00, 42.77it/s, loss=-0.32396, drawdown=0.01535]\u001b[A\u001b[A\n",
      "\n",
      "Epoch 5:  50%|█████     | 10/20 [00:00<00:00, 42.17it/s, loss=-0.32396, drawdown=0.01535]\u001b[A\u001b[A\n",
      "\n",
      "Epoch 5:  50%|█████     | 10/20 [00:00<00:00, 42.17it/s, loss=-0.31799, drawdown=0.01575]\u001b[A\u001b[A\n",
      "\n",
      "Epoch 5:  55%|█████▌    | 11/20 [00:00<00:00, 42.17it/s, loss=-0.31950, drawdown=0.01621]\u001b[A\u001b[A\n",
      "\n",
      "Epoch 5:  60%|██████    | 12/20 [00:00<00:00, 42.17it/s, loss=-0.31890, drawdown=0.01616]\u001b[A\u001b[A\n",
      "\n",
      "Epoch 5:  65%|██████▌   | 13/20 [00:00<00:00, 42.17it/s, loss=-0.31860, drawdown=0.01587]\u001b[A\u001b[A\n",
      "\n",
      "Epoch 5:  70%|███████   | 14/20 [00:00<00:00, 42.17it/s, loss=-0.31879, drawdown=0.01579]\u001b[A\u001b[A\n",
      "\n",
      "Epoch 5:  75%|███████▌  | 15/20 [00:00<00:00, 42.17it/s, loss=-0.31742, drawdown=0.01537]\u001b[A\u001b[A\n",
      "\n",
      "Epoch 5:  80%|████████  | 16/20 [00:00<00:00, 45.95it/s, loss=-0.31742, drawdown=0.01537]\u001b[A\u001b[A\n",
      "\n",
      "Epoch 5:  80%|████████  | 16/20 [00:00<00:00, 45.95it/s, loss=-0.31400, drawdown=0.01525]\u001b[A\u001b[A\n",
      "\n",
      "Epoch 5:  85%|████████▌ | 17/20 [00:00<00:00, 45.95it/s, loss=-0.31853, drawdown=0.01482]\u001b[A\u001b[A\n",
      "\n",
      "Epoch 5:  90%|█████████ | 18/20 [00:00<00:00, 45.95it/s, loss=-0.31535, drawdown=0.01491]\u001b[A\u001b[A\n",
      "\n",
      "Epoch 5:  95%|█████████▌| 19/20 [00:00<00:00, 45.95it/s, loss=-0.31147, drawdown=0.01539]\u001b[A\u001b[A\n",
      "\n",
      "Epoch 5: 100%|██████████| 20/20 [00:00<00:00, 45.95it/s, loss=-0.31175, drawdown=0.01537]\u001b[A\u001b[A\n",
      "\n",
      "Epoch 5: 100%|██████████| 20/20 [00:00<00:00, 45.95it/s, loss=-0.31175, drawdown=0.01537, val_drawdown=0.01121, val_loss=-0.36599]\u001b[A\u001b[A\n",
      "\n",
      "Epoch 5: 100%|██████████| 20/20 [00:00<00:00, 42.91it/s, loss=-0.31175, drawdown=0.01537, val_drawdown=0.01121, val_loss=-0.36599]\u001b[A\u001b[A\n",
      "\n",
      "\n",
      "Epoch 6:   0%|          | 0/20 [00:00<?, ?it/s]\u001b[A\u001b[A\n",
      "\n",
      "Epoch 6:   5%|▌         | 1/20 [00:00<00:00, 53.03it/s, loss=-0.30056, drawdown=0.01694]\u001b[A\u001b[A\n",
      "\n",
      "Epoch 6:  10%|█         | 2/20 [00:00<00:00, 52.19it/s, loss=-0.28634, drawdown=0.01372]\u001b[A\u001b[A\n",
      "\n",
      "Epoch 6:  15%|█▌        | 3/20 [00:00<00:00, 52.02it/s, loss=-0.31247, drawdown=0.01330]\u001b[A\u001b[A\n",
      "\n",
      "Epoch 6:  20%|██        | 4/20 [00:00<00:00, 47.73it/s, loss=-0.32277, drawdown=0.01266]\u001b[A\u001b[A\n",
      "\n",
      "Epoch 6:  25%|██▌       | 5/20 [00:00<00:00, 48.03it/s, loss=-0.32277, drawdown=0.01266]\u001b[A\u001b[A\n",
      "\n",
      "Epoch 6:  25%|██▌       | 5/20 [00:00<00:00, 48.03it/s, loss=-0.31704, drawdown=0.01358]\u001b[A\u001b[A\n",
      "\n",
      "Epoch 6:  30%|███       | 6/20 [00:00<00:00, 48.03it/s, loss=-0.30771, drawdown=0.01479]\u001b[A\u001b[A\n",
      "\n",
      "Epoch 6:  35%|███▌      | 7/20 [00:00<00:00, 48.03it/s, loss=-0.31289, drawdown=0.01494]\u001b[A\u001b[A\n",
      "\n",
      "Epoch 6:  40%|████      | 8/20 [00:00<00:00, 48.03it/s, loss=-0.30889, drawdown=0.01565]\u001b[A\u001b[A\n",
      "\n",
      "Epoch 6:  45%|████▌     | 9/20 [00:00<00:00, 48.03it/s, loss=-0.30688, drawdown=0.01595]\u001b[A\u001b[A\n",
      "\n",
      "Epoch 6:  50%|█████     | 10/20 [00:00<00:00, 47.63it/s, loss=-0.30688, drawdown=0.01595]\u001b[A\u001b[A\n",
      "\n",
      "Epoch 6:  50%|█████     | 10/20 [00:00<00:00, 47.63it/s, loss=-0.30756, drawdown=0.01590]\u001b[A\u001b[A\n",
      "\n",
      "Epoch 6:  55%|█████▌    | 11/20 [00:00<00:00, 47.63it/s, loss=-0.30327, drawdown=0.01560]\u001b[A\u001b[A\n",
      "\n",
      "Epoch 6:  60%|██████    | 12/20 [00:00<00:00, 47.63it/s, loss=-0.30531, drawdown=0.01553]\u001b[A\u001b[A\n",
      "\n"
     ]
    },
    {
     "name": "stderr",
     "output_type": "stream",
     "text": [
      "Epoch 6:  65%|██████▌   | 13/20 [00:00<00:00, 47.63it/s, loss=-0.30166, drawdown=0.01564]\u001b[A\u001b[A\n",
      "\n",
      "Epoch 6:  70%|███████   | 14/20 [00:00<00:00, 47.63it/s, loss=-0.30465, drawdown=0.01556]\u001b[A\u001b[A\n",
      "\n",
      "Epoch 6:  75%|███████▌  | 15/20 [00:00<00:00, 46.80it/s, loss=-0.30465, drawdown=0.01556]\u001b[A\u001b[A\n",
      "\n",
      "Epoch 6:  75%|███████▌  | 15/20 [00:00<00:00, 46.80it/s, loss=-0.30459, drawdown=0.01555]\u001b[A\u001b[A\n",
      "\n",
      "Epoch 6:  80%|████████  | 16/20 [00:00<00:00, 46.80it/s, loss=-0.30542, drawdown=0.01539]\u001b[A\u001b[A\n",
      "\n",
      "Epoch 6:  85%|████████▌ | 17/20 [00:00<00:00, 46.80it/s, loss=-0.30962, drawdown=0.01500]\u001b[A\u001b[A\n",
      "\n",
      "Epoch 6:  90%|█████████ | 18/20 [00:00<00:00, 46.80it/s, loss=-0.30471, drawdown=0.01510]\u001b[A\u001b[A\n",
      "\n",
      "Epoch 6:  95%|█████████▌| 19/20 [00:00<00:00, 46.80it/s, loss=-0.30905, drawdown=0.01491]\u001b[A\u001b[A\n",
      "\n",
      "Epoch 6: 100%|██████████| 20/20 [00:00<00:00, 47.04it/s, loss=-0.30905, drawdown=0.01491]\u001b[A\u001b[A\n",
      "\n",
      "Epoch 6: 100%|██████████| 20/20 [00:00<00:00, 47.04it/s, loss=-0.30740, drawdown=0.01511]\u001b[A\u001b[A\n",
      "\n",
      "Epoch 6: 100%|██████████| 20/20 [00:00<00:00, 47.04it/s, loss=-0.30740, drawdown=0.01511, val_drawdown=0.00624, val_loss=-0.36532]\u001b[A\u001b[A\n",
      "\n",
      "Epoch 6: 100%|██████████| 20/20 [00:00<00:00, 40.76it/s, loss=-0.30740, drawdown=0.01511, val_drawdown=0.00624, val_loss=-0.36532]\u001b[A\u001b[A\n",
      "\n",
      "\n",
      "Epoch 7:   0%|          | 0/20 [00:00<?, ?it/s]\u001b[A\u001b[A\n",
      "\n",
      "Epoch 7:   5%|▌         | 1/20 [00:00<00:00, 46.64it/s, loss=-0.31783, drawdown=0.01434]\u001b[A\u001b[A\n",
      "\n",
      "Epoch 7:  10%|█         | 2/20 [00:00<00:00, 37.29it/s, loss=-0.32953, drawdown=0.01256]\u001b[A\u001b[A\n",
      "\n",
      "Epoch 7:  15%|█▌        | 3/20 [00:00<00:00, 39.68it/s, loss=-0.31144, drawdown=0.01443]\u001b[A\u001b[A\n",
      "\n",
      "Epoch 7:  20%|██        | 4/20 [00:00<00:00, 41.27it/s, loss=-0.30194, drawdown=0.01436]\u001b[A\u001b[A\n",
      "\n",
      "Epoch 7:  25%|██▌       | 5/20 [00:00<00:00, 41.65it/s, loss=-0.30194, drawdown=0.01436]\u001b[A\u001b[A\n",
      "\n",
      "Epoch 7:  25%|██▌       | 5/20 [00:00<00:00, 41.65it/s, loss=-0.29998, drawdown=0.01470]\u001b[A\u001b[A\n",
      "\n",
      "Epoch 7:  30%|███       | 6/20 [00:00<00:00, 41.65it/s, loss=-0.29404, drawdown=0.01502]\u001b[A\u001b[A\n",
      "\n",
      "Epoch 7:  35%|███▌      | 7/20 [00:00<00:00, 41.65it/s, loss=-0.29520, drawdown=0.01473]\u001b[A\u001b[A\n",
      "\n",
      "Epoch 7:  40%|████      | 8/20 [00:00<00:00, 41.65it/s, loss=-0.29406, drawdown=0.01459]\u001b[A\u001b[A\n",
      "\n",
      "Epoch 7:  45%|████▌     | 9/20 [00:00<00:00, 41.65it/s, loss=-0.28888, drawdown=0.01415]\u001b[A\u001b[A\n",
      "\n",
      "Epoch 7:  50%|█████     | 10/20 [00:00<00:00, 37.08it/s, loss=-0.28888, drawdown=0.01415]\u001b[A\u001b[A\n",
      "\n",
      "Epoch 7:  50%|█████     | 10/20 [00:00<00:00, 37.08it/s, loss=-0.29407, drawdown=0.01377]\u001b[A\u001b[A\n",
      "\n",
      "Epoch 7:  55%|█████▌    | 11/20 [00:00<00:00, 37.08it/s, loss=-0.30239, drawdown=0.01345]\u001b[A\u001b[A\n",
      "\n",
      "Epoch 7:  60%|██████    | 12/20 [00:00<00:00, 37.08it/s, loss=-0.31097, drawdown=0.01322]\u001b[A\u001b[A\n",
      "\n",
      "Epoch 7:  65%|██████▌   | 13/20 [00:00<00:00, 37.08it/s, loss=-0.30435, drawdown=0.01353]\u001b[A\u001b[A\n",
      "\n",
      "Epoch 7:  70%|███████   | 14/20 [00:00<00:00, 37.14it/s, loss=-0.30435, drawdown=0.01353]\u001b[A\u001b[A\n",
      "\n",
      "Epoch 7:  70%|███████   | 14/20 [00:00<00:00, 37.14it/s, loss=-0.30654, drawdown=0.01370]\u001b[A\u001b[A\n",
      "\n",
      "Epoch 7:  75%|███████▌  | 15/20 [00:00<00:00, 37.14it/s, loss=-0.30553, drawdown=0.01378]\u001b[A\u001b[A\n",
      "\n",
      "Epoch 7:  80%|████████  | 16/20 [00:00<00:00, 37.14it/s, loss=-0.30433, drawdown=0.01436]\u001b[A\u001b[A\n",
      "\n",
      "Epoch 7:  85%|████████▌ | 17/20 [00:00<00:00, 37.14it/s, loss=-0.30813, drawdown=0.01405]\u001b[A\u001b[A\n",
      "\n",
      "Epoch 7:  90%|█████████ | 18/20 [00:00<00:00, 36.96it/s, loss=-0.30813, drawdown=0.01405]\u001b[A\u001b[A\n",
      "\n",
      "Epoch 7:  90%|█████████ | 18/20 [00:00<00:00, 36.96it/s, loss=-0.30407, drawdown=0.01445]\u001b[A\u001b[A\n",
      "\n",
      "Epoch 7:  95%|█████████▌| 19/20 [00:00<00:00, 36.96it/s, loss=-0.30471, drawdown=0.01471]\u001b[A\u001b[A\n",
      "\n",
      "Epoch 7: 100%|██████████| 20/20 [00:00<00:00, 36.96it/s, loss=-0.30785, drawdown=0.01478]\u001b[A\u001b[A\n",
      "\n",
      "Epoch 7: 100%|██████████| 20/20 [00:00<00:00, 36.96it/s, loss=-0.30785, drawdown=0.01478, val_drawdown=0.01372, val_loss=-0.13825]\u001b[A\u001b[A\n",
      "\n",
      "Epoch 7: 100%|██████████| 20/20 [00:00<00:00, 34.91it/s, loss=-0.30785, drawdown=0.01478, val_drawdown=0.01372, val_loss=-0.13825]\u001b[A\u001b[A\n",
      "\n",
      "\n",
      "Epoch 8:   0%|          | 0/20 [00:00<?, ?it/s]\u001b[A\u001b[A\n",
      "\n",
      "Epoch 8:   5%|▌         | 1/20 [00:00<00:00, 42.52it/s, loss=-0.32496, drawdown=0.01941]\u001b[A\u001b[A\n",
      "\n",
      "Epoch 8:  10%|█         | 2/20 [00:00<00:00, 45.45it/s, loss=-0.31765, drawdown=0.01581]\u001b[A\u001b[A\n",
      "\n",
      "Epoch 8:  15%|█▌        | 3/20 [00:00<00:00, 45.82it/s, loss=-0.30400, drawdown=0.01455]\u001b[A\u001b[A\n",
      "\n",
      "Epoch 8:  20%|██        | 4/20 [00:00<00:00, 47.09it/s, loss=-0.30872, drawdown=0.01473]\u001b[A\u001b[A\n",
      "\n",
      "Epoch 8:  25%|██▌       | 5/20 [00:00<00:00, 47.78it/s, loss=-0.30872, drawdown=0.01473]\u001b[A\u001b[A\n",
      "\n",
      "Epoch 8:  25%|██▌       | 5/20 [00:00<00:00, 47.78it/s, loss=-0.29423, drawdown=0.01460]\u001b[A\u001b[A\n",
      "\n",
      "Epoch 8:  30%|███       | 6/20 [00:00<00:00, 47.78it/s, loss=-0.29928, drawdown=0.01444]\u001b[A\u001b[A\n",
      "\n",
      "Epoch 8:  35%|███▌      | 7/20 [00:00<00:00, 47.78it/s, loss=-0.31257, drawdown=0.01370]\u001b[A\u001b[A\n",
      "\n",
      "Epoch 8:  40%|████      | 8/20 [00:00<00:00, 47.78it/s, loss=-0.31253, drawdown=0.01378]\u001b[A\u001b[A\n",
      "\n",
      "Epoch 8:  45%|████▌     | 9/20 [00:00<00:00, 47.78it/s, loss=-0.30877, drawdown=0.01448]\u001b[A\u001b[A\n",
      "\n",
      "Epoch 8:  50%|█████     | 10/20 [00:00<00:00, 44.57it/s, loss=-0.30877, drawdown=0.01448]\u001b[A\u001b[A\n",
      "\n",
      "Epoch 8:  50%|█████     | 10/20 [00:00<00:00, 44.57it/s, loss=-0.30948, drawdown=0.01470]\u001b[A\u001b[A\n",
      "\n",
      "Epoch 8:  55%|█████▌    | 11/20 [00:00<00:00, 44.57it/s, loss=-0.30006, drawdown=0.01522]\u001b[A\u001b[A\n",
      "\n",
      "Epoch 8:  60%|██████    | 12/20 [00:00<00:00, 44.57it/s, loss=-0.30348, drawdown=0.01490]\u001b[A\u001b[A\n",
      "\n",
      "Epoch 8:  65%|██████▌   | 13/20 [00:00<00:00, 44.57it/s, loss=-0.30508, drawdown=0.01507]\u001b[A\u001b[A\n",
      "\n",
      "Epoch 8:  70%|███████   | 14/20 [00:00<00:00, 44.57it/s, loss=-0.30514, drawdown=0.01546]\u001b[A\u001b[A\n",
      "\n",
      "Epoch 8:  75%|███████▌  | 15/20 [00:00<00:00, 44.62it/s, loss=-0.30514, drawdown=0.01546]\u001b[A\u001b[A\n",
      "\n",
      "Epoch 8:  75%|███████▌  | 15/20 [00:00<00:00, 44.62it/s, loss=-0.30319, drawdown=0.01562]\u001b[A\u001b[A\n",
      "\n",
      "Epoch 8:  80%|████████  | 16/20 [00:00<00:00, 44.62it/s, loss=-0.29915, drawdown=0.01583]\u001b[A\u001b[A\n",
      "\n",
      "Epoch 8:  85%|████████▌ | 17/20 [00:00<00:00, 44.62it/s, loss=-0.30078, drawdown=0.01580]\u001b[A\u001b[A\n",
      "\n",
      "Epoch 8:  90%|█████████ | 18/20 [00:00<00:00, 44.62it/s, loss=-0.30346, drawdown=0.01562]\u001b[A\u001b[A\n",
      "\n",
      "Epoch 8:  95%|█████████▌| 19/20 [00:00<00:00, 44.62it/s, loss=-0.30550, drawdown=0.01539]\u001b[A\u001b[A\n",
      "\n",
      "Epoch 8: 100%|██████████| 20/20 [00:00<00:00, 42.40it/s, loss=-0.30550, drawdown=0.01539]\u001b[A\u001b[A\n",
      "\n",
      "Epoch 8: 100%|██████████| 20/20 [00:00<00:00, 42.40it/s, loss=-0.30758, drawdown=0.01501]\u001b[A\u001b[A\n",
      "\n",
      "Epoch 8: 100%|██████████| 20/20 [00:00<00:00, 42.40it/s, loss=-0.30758, drawdown=0.01501, val_drawdown=0.00654, val_loss=-0.40690]\u001b[A\u001b[A\n",
      "\n",
      "Epoch 8: 100%|██████████| 20/20 [00:00<00:00, 40.35it/s, loss=-0.30758, drawdown=0.01501, val_drawdown=0.00654, val_loss=-0.40690]\u001b[A\u001b[A\n",
      "\n",
      "\n",
      "Epoch 9:   0%|          | 0/20 [00:00<?, ?it/s]\u001b[A\u001b[A\n",
      "\n",
      "Epoch 9:   5%|▌         | 1/20 [00:00<00:00, 46.35it/s, loss=-0.30856, drawdown=0.01337]\u001b[A\u001b[A\n",
      "\n",
      "Epoch 9:  10%|█         | 2/20 [00:00<00:00, 47.67it/s, loss=-0.31530, drawdown=0.01105]\u001b[A\u001b[A\n",
      "\n",
      "Epoch 9:  15%|█▌        | 3/20 [00:00<00:00, 46.92it/s, loss=-0.31404, drawdown=0.01215]\u001b[A\u001b[A\n",
      "\n",
      "Epoch 9:  20%|██        | 4/20 [00:00<00:00, 44.69it/s, loss=-0.29774, drawdown=0.01302]\u001b[A\u001b[A\n",
      "\n",
      "Epoch 9:  25%|██▌       | 5/20 [00:00<00:00, 42.67it/s, loss=-0.29774, drawdown=0.01302]\u001b[A\u001b[A\n",
      "\n",
      "Epoch 9:  25%|██▌       | 5/20 [00:00<00:00, 42.67it/s, loss=-0.30638, drawdown=0.01338]\u001b[A\u001b[A\n",
      "\n",
      "Epoch 9:  30%|███       | 6/20 [00:00<00:00, 42.67it/s, loss=-0.29230, drawdown=0.01427]\u001b[A\u001b[A\n",
      "\n",
      "Epoch 9:  35%|███▌      | 7/20 [00:00<00:00, 42.67it/s, loss=-0.28899, drawdown=0.01521]\u001b[A\u001b[A\n",
      "\n",
      "Epoch 9:  40%|████      | 8/20 [00:00<00:00, 42.67it/s, loss=-0.30430, drawdown=0.01507]\u001b[A\u001b[A\n",
      "\n",
      "Epoch 9:  45%|████▌     | 9/20 [00:00<00:00, 42.67it/s, loss=-0.30135, drawdown=0.01522]\u001b[A\u001b[A\n",
      "\n",
      "Epoch 9:  50%|█████     | 10/20 [00:00<00:00, 40.64it/s, loss=-0.30135, drawdown=0.01522]\u001b[A\u001b[A\n",
      "\n",
      "Epoch 9:  50%|█████     | 10/20 [00:00<00:00, 40.64it/s, loss=-0.30413, drawdown=0.01512]\u001b[A\u001b[A\n",
      "\n",
      "Epoch 9:  55%|█████▌    | 11/20 [00:00<00:00, 40.64it/s, loss=-0.29818, drawdown=0.01570]\u001b[A\u001b[A\n",
      "\n",
      "Epoch 9:  60%|██████    | 12/20 [00:00<00:00, 40.64it/s, loss=-0.29396, drawdown=0.01593]\u001b[A\u001b[A\n",
      "\n",
      "Epoch 9:  65%|██████▌   | 13/20 [00:00<00:00, 40.64it/s, loss=-0.29236, drawdown=0.01617]\u001b[A\u001b[A\n",
      "\n",
      "Epoch 9:  70%|███████   | 14/20 [00:00<00:00, 40.64it/s, loss=-0.29572, drawdown=0.01576]\u001b[A\u001b[A\n",
      "\n",
      "Epoch 9:  75%|███████▌  | 15/20 [00:00<00:00, 40.19it/s, loss=-0.29572, drawdown=0.01576]\u001b[A\u001b[A\n",
      "\n",
      "Epoch 9:  75%|███████▌  | 15/20 [00:00<00:00, 40.19it/s, loss=-0.29638, drawdown=0.01582]\u001b[A\u001b[A\n",
      "\n",
      "Epoch 9:  80%|████████  | 16/20 [00:00<00:00, 40.19it/s, loss=-0.29811, drawdown=0.01581]\u001b[A\u001b[A\n",
      "\n",
      "Epoch 9:  85%|████████▌ | 17/20 [00:00<00:00, 40.19it/s, loss=-0.29917, drawdown=0.01555]\u001b[A\u001b[A\n",
      "\n",
      "Epoch 9:  90%|█████████ | 18/20 [00:00<00:00, 40.19it/s, loss=-0.30258, drawdown=0.01532]\u001b[A\u001b[A\n",
      "\n",
      "Epoch 9:  95%|█████████▌| 19/20 [00:00<00:00, 40.19it/s, loss=-0.30269, drawdown=0.01577]\u001b[A\u001b[A\n",
      "\n",
      "Epoch 9: 100%|██████████| 20/20 [00:00<00:00, 40.13it/s, loss=-0.30269, drawdown=0.01577]\u001b[A\u001b[A\n",
      "\n",
      "Epoch 9: 100%|██████████| 20/20 [00:00<00:00, 40.13it/s, loss=-0.30469, drawdown=0.01558]\u001b[A\u001b[A\n",
      "\n",
      "Epoch 9: 100%|██████████| 20/20 [00:00<00:00, 40.13it/s, loss=-0.30469, drawdown=0.01558, val_drawdown=0.00496, val_loss=-0.50600]\u001b[A\u001b[A\n",
      "\n",
      "Epoch 9: 100%|██████████| 20/20 [00:00<00:00, 37.73it/s, loss=-0.30469, drawdown=0.01558, val_drawdown=0.00496, val_loss=-0.50600]\u001b[A\u001b[A\n",
      "\n",
      "\n",
      "Epoch 10:   0%|          | 0/20 [00:00<?, ?it/s]\u001b[A\u001b[A\n",
      "\n",
      "Epoch 10:   5%|▌         | 1/20 [00:00<00:00, 44.49it/s, loss=-0.29870, drawdown=0.01484]\u001b[A\u001b[A\n",
      "\n",
      "Epoch 10:  10%|█         | 2/20 [00:00<00:00, 42.84it/s, loss=-0.32249, drawdown=0.01553]\u001b[A\u001b[A\n",
      "\n",
      "Epoch 10:  15%|█▌        | 3/20 [00:00<00:00, 38.81it/s, loss=-0.31234, drawdown=0.01522]\u001b[A\u001b[A\n",
      "\n",
      "Epoch 10:  20%|██        | 4/20 [00:00<00:00, 39.41it/s, loss=-0.31234, drawdown=0.01522]\u001b[A\u001b[A\n",
      "\n",
      "Epoch 10:  20%|██        | 4/20 [00:00<00:00, 39.41it/s, loss=-0.30168, drawdown=0.01587]\u001b[A\u001b[A\n",
      "\n",
      "Epoch 10:  25%|██▌       | 5/20 [00:00<00:00, 39.41it/s, loss=-0.30398, drawdown=0.01531]\u001b[A\u001b[A\n",
      "\n",
      "Epoch 10:  30%|███       | 6/20 [00:00<00:00, 39.41it/s, loss=-0.30634, drawdown=0.01534]\u001b[A\u001b[A\n",
      "\n",
      "Epoch 10:  35%|███▌      | 7/20 [00:00<00:00, 39.41it/s, loss=-0.30364, drawdown=0.01526]\u001b[A\u001b[A\n",
      "\n",
      "Epoch 10:  40%|████      | 8/20 [00:00<00:00, 39.41it/s, loss=-0.30481, drawdown=0.01546]\u001b[A\u001b[A\n",
      "\n",
      "Epoch 10:  45%|████▌     | 9/20 [00:00<00:00, 40.08it/s, loss=-0.30481, drawdown=0.01546]\u001b[A\u001b[A\n",
      "\n",
      "Epoch 10:  45%|████▌     | 9/20 [00:00<00:00, 40.08it/s, loss=-0.30664, drawdown=0.01536]\u001b[A\u001b[A\n",
      "\n",
      "Epoch 10:  50%|█████     | 10/20 [00:00<00:00, 40.08it/s, loss=-0.30475, drawdown=0.01554]\u001b[A\u001b[A\n",
      "\n",
      "Epoch 10:  55%|█████▌    | 11/20 [00:00<00:00, 40.08it/s, loss=-0.30939, drawdown=0.01588]\u001b[A\u001b[A\n",
      "\n",
      "Epoch 10:  60%|██████    | 12/20 [00:00<00:00, 40.08it/s, loss=-0.30792, drawdown=0.01591]\u001b[A\u001b[A\n",
      "\n",
      "Epoch 10:  65%|██████▌   | 13/20 [00:00<00:00, 40.08it/s, loss=-0.30691, drawdown=0.01636]\u001b[A\u001b[A\n",
      "\n",
      "Epoch 10:  70%|███████   | 14/20 [00:00<00:00, 41.39it/s, loss=-0.30691, drawdown=0.01636]\u001b[A\u001b[A\n",
      "\n",
      "Epoch 10:  70%|███████   | 14/20 [00:00<00:00, 41.39it/s, loss=-0.30980, drawdown=0.01606]\u001b[A\u001b[A\n",
      "\n",
      "Epoch 10:  75%|███████▌  | 15/20 [00:00<00:00, 41.39it/s, loss=-0.30987, drawdown=0.01579]\u001b[A\u001b[A\n",
      "\n",
      "Epoch 10:  80%|████████  | 16/20 [00:00<00:00, 41.39it/s, loss=-0.30861, drawdown=0.01599]\u001b[A\u001b[A\n",
      "\n",
      "Epoch 10:  85%|████████▌ | 17/20 [00:00<00:00, 41.39it/s, loss=-0.31009, drawdown=0.01571]\u001b[A\u001b[A\n",
      "\n",
      "Epoch 10:  90%|█████████ | 18/20 [00:00<00:00, 41.39it/s, loss=-0.31422, drawdown=0.01540]\u001b[A\u001b[A\n",
      "\n",
      "Epoch 10:  95%|█████████▌| 19/20 [00:00<00:00, 39.83it/s, loss=-0.31422, drawdown=0.01540]\u001b[A\u001b[A\n",
      "\n",
      "Epoch 10:  95%|█████████▌| 19/20 [00:00<00:00, 39.83it/s, loss=-0.31817, drawdown=0.01505]\u001b[A\u001b[A\n",
      "\n",
      "Epoch 10: 100%|██████████| 20/20 [00:00<00:00, 39.83it/s, loss=-0.31785, drawdown=0.01507]\u001b[A\u001b[A\n",
      "\n",
      "Epoch 10: 100%|██████████| 20/20 [00:00<00:00, 39.83it/s, loss=-0.31785, drawdown=0.01507, val_drawdown=0.00874, val_loss=-0.37606]\u001b[A\u001b[A\n",
      "\n",
      "Epoch 10: 100%|██████████| 20/20 [00:00<00:00, 37.10it/s, loss=-0.31785, drawdown=0.01507, val_drawdown=0.00874, val_loss=-0.37606]\u001b[A\u001b[A\n",
      "\n",
      "\n",
      "Epoch 11:   0%|          | 0/20 [00:00<?, ?it/s]\u001b[A\u001b[A\n",
      "\n",
      "Epoch 11:   5%|▌         | 1/20 [00:00<00:00, 42.18it/s, loss=-0.29888, drawdown=0.01302]\u001b[A\u001b[A\n",
      "\n",
      "Epoch 11:  10%|█         | 2/20 [00:00<00:00, 43.71it/s, loss=-0.32079, drawdown=0.01350]\u001b[A\u001b[A\n",
      "\n",
      "Epoch 11:  15%|█▌        | 3/20 [00:00<00:00, 40.91it/s, loss=-0.28769, drawdown=0.01494]\u001b[A\u001b[A\n",
      "\n",
      "Epoch 11:  20%|██        | 4/20 [00:00<00:00, 40.79it/s, loss=-0.29781, drawdown=0.01543]\u001b[A\u001b[A\n",
      "\n",
      "Epoch 11:  25%|██▌       | 5/20 [00:00<00:00, 42.46it/s, loss=-0.29781, drawdown=0.01543]\u001b[A\u001b[A\n",
      "\n",
      "Epoch 11:  25%|██▌       | 5/20 [00:00<00:00, 42.46it/s, loss=-0.29915, drawdown=0.01578]\u001b[A\u001b[A\n",
      "\n",
      "Epoch 11:  30%|███       | 6/20 [00:00<00:00, 42.46it/s, loss=-0.29102, drawdown=0.01557]\u001b[A\u001b[A\n",
      "\n",
      "Epoch 11:  35%|███▌      | 7/20 [00:00<00:00, 42.46it/s, loss=-0.29485, drawdown=0.01553]\u001b[A\u001b[A\n",
      "\n",
      "Epoch 11:  40%|████      | 8/20 [00:00<00:00, 42.46it/s, loss=-0.29209, drawdown=0.01587]\u001b[A\u001b[A\n",
      "\n",
      "Epoch 11:  45%|████▌     | 9/20 [00:00<00:00, 42.46it/s, loss=-0.29328, drawdown=0.01571]\u001b[A\u001b[A\n",
      "\n",
      "Epoch 11:  50%|█████     | 10/20 [00:00<00:00, 43.45it/s, loss=-0.29328, drawdown=0.01571]\u001b[A\u001b[A\n",
      "\n",
      "Epoch 11:  50%|█████     | 10/20 [00:00<00:00, 43.45it/s, loss=-0.29562, drawdown=0.01549]\u001b[A\u001b[A\n",
      "\n",
      "Epoch 11:  55%|█████▌    | 11/20 [00:00<00:00, 43.45it/s, loss=-0.29703, drawdown=0.01524]\u001b[A\u001b[A\n",
      "\n",
      "Epoch 11:  60%|██████    | 12/20 [00:00<00:00, 43.45it/s, loss=-0.30212, drawdown=0.01500]\u001b[A\u001b[A\n",
      "\n",
      "Epoch 11:  65%|██████▌   | 13/20 [00:00<00:00, 43.45it/s, loss=-0.30586, drawdown=0.01490]\u001b[A\u001b[A\n",
      "\n",
      "Epoch 11:  70%|███████   | 14/20 [00:00<00:00, 43.45it/s, loss=-0.31091, drawdown=0.01470]\u001b[A\u001b[A\n",
      "\n",
      "Epoch 11:  75%|███████▌  | 15/20 [00:00<00:00, 42.05it/s, loss=-0.31091, drawdown=0.01470]\u001b[A\u001b[A\n",
      "\n",
      "Epoch 11:  75%|███████▌  | 15/20 [00:00<00:00, 42.05it/s, loss=-0.31111, drawdown=0.01472]\u001b[A\u001b[A\n",
      "\n",
      "Epoch 11:  80%|████████  | 16/20 [00:00<00:00, 42.05it/s, loss=-0.31230, drawdown=0.01494]\u001b[A\u001b[A\n",
      "\n",
      "Epoch 11:  85%|████████▌ | 17/20 [00:00<00:00, 42.05it/s, loss=-0.31359, drawdown=0.01479]\u001b[A\u001b[A\n",
      "\n",
      "Epoch 11:  90%|█████████ | 18/20 [00:00<00:00, 42.05it/s, loss=-0.31494, drawdown=0.01458]\u001b[A\u001b[A\n",
      "\n",
      "Epoch 11:  95%|█████████▌| 19/20 [00:00<00:00, 42.05it/s, loss=-0.31406, drawdown=0.01459]\u001b[A\u001b[A\n",
      "\n",
      "Epoch 11: 100%|██████████| 20/20 [00:00<00:00, 39.20it/s, loss=-0.31406, drawdown=0.01459]\u001b[A\u001b[A\n",
      "\n",
      "Epoch 11: 100%|██████████| 20/20 [00:00<00:00, 39.20it/s, loss=-0.31677, drawdown=0.01446]\u001b[A\u001b[A\n",
      "\n",
      "Epoch 11: 100%|██████████| 20/20 [00:00<00:00, 39.20it/s, loss=-0.31677, drawdown=0.01446, val_drawdown=0.01315, val_loss=-0.17486]\u001b[A\u001b[A\n",
      "\n",
      "Epoch 11: 100%|██████████| 20/20 [00:00<00:00, 36.72it/s, loss=-0.31677, drawdown=0.01446, val_drawdown=0.01315, val_loss=-0.17486]\u001b[A\u001b[A\n",
      "\n",
      "\n",
      "Epoch 12:   0%|          | 0/20 [00:00<?, ?it/s]\u001b[A\u001b[A\n",
      "\n",
      "Epoch 12:   5%|▌         | 1/20 [00:00<00:00, 28.97it/s, loss=-0.27650, drawdown=0.01715]\u001b[A\u001b[A\n",
      "\n",
      "Epoch 12:  10%|█         | 2/20 [00:00<00:00, 33.69it/s, loss=-0.29289, drawdown=0.01416]\u001b[A\u001b[A\n",
      "\n",
      "Epoch 12:  15%|█▌        | 3/20 [00:00<00:00, 36.43it/s, loss=-0.28693, drawdown=0.01408]\u001b[A\u001b[A\n",
      "\n",
      "Epoch 12:  20%|██        | 4/20 [00:00<00:00, 38.91it/s, loss=-0.28693, drawdown=0.01408]\u001b[A\u001b[A\n",
      "\n",
      "Epoch 12:  20%|██        | 4/20 [00:00<00:00, 38.91it/s, loss=-0.28394, drawdown=0.01506]\u001b[A\u001b[A\n",
      "\n",
      "Epoch 12:  25%|██▌       | 5/20 [00:00<00:00, 38.91it/s, loss=-0.29500, drawdown=0.01417]\u001b[A\u001b[A\n",
      "\n",
      "Epoch 12:  30%|███       | 6/20 [00:00<00:00, 38.91it/s, loss=-0.29557, drawdown=0.01450]\u001b[A\u001b[A\n",
      "\n",
      "Epoch 12:  35%|███▌      | 7/20 [00:00<00:00, 38.91it/s, loss=-0.30437, drawdown=0.01430]\u001b[A\u001b[A\n",
      "\n",
      "Epoch 12:  40%|████      | 8/20 [00:00<00:00, 38.91it/s, loss=-0.29848, drawdown=0.01414]\u001b[A\u001b[A\n",
      "\n",
      "Epoch 12:  45%|████▌     | 9/20 [00:00<00:00, 39.69it/s, loss=-0.29848, drawdown=0.01414]\u001b[A\u001b[A\n",
      "\n",
      "Epoch 12:  45%|████▌     | 9/20 [00:00<00:00, 39.69it/s, loss=-0.30287, drawdown=0.01430]\u001b[A\u001b[A\n",
      "\n",
      "Epoch 12:  50%|█████     | 10/20 [00:00<00:00, 39.69it/s, loss=-0.30299, drawdown=0.01496]\u001b[A\u001b[A\n",
      "\n",
      "Epoch 12:  55%|█████▌    | 11/20 [00:00<00:00, 39.69it/s, loss=-0.30261, drawdown=0.01497]\u001b[A\u001b[A\n",
      "\n",
      "Epoch 12:  60%|██████    | 12/20 [00:00<00:00, 39.69it/s, loss=-0.30378, drawdown=0.01577]\u001b[A\u001b[A\n",
      "\n",
      "Epoch 12:  65%|██████▌   | 13/20 [00:00<00:00, 39.11it/s, loss=-0.30378, drawdown=0.01577]\u001b[A\u001b[A\n",
      "\n",
      "Epoch 12:  65%|██████▌   | 13/20 [00:00<00:00, 39.11it/s, loss=-0.30536, drawdown=0.01582]\u001b[A\u001b[A\n",
      "\n",
      "Epoch 12:  70%|███████   | 14/20 [00:00<00:00, 39.11it/s, loss=-0.30476, drawdown=0.01558]\u001b[A\u001b[A\n",
      "\n"
     ]
    },
    {
     "name": "stderr",
     "output_type": "stream",
     "text": [
      "Epoch 12:  75%|███████▌  | 15/20 [00:00<00:00, 39.11it/s, loss=-0.30439, drawdown=0.01535]\u001b[A\u001b[A\n",
      "\n",
      "Epoch 12:  80%|████████  | 16/20 [00:00<00:00, 39.11it/s, loss=-0.30411, drawdown=0.01515]\u001b[A\u001b[A\n",
      "\n",
      "Epoch 12:  85%|████████▌ | 17/20 [00:00<00:00, 39.11it/s, loss=-0.30725, drawdown=0.01499]\u001b[A\u001b[A\n",
      "\n",
      "Epoch 12:  90%|█████████ | 18/20 [00:00<00:00, 39.96it/s, loss=-0.30725, drawdown=0.01499]\u001b[A\u001b[A\n",
      "\n",
      "Epoch 12:  90%|█████████ | 18/20 [00:00<00:00, 39.96it/s, loss=-0.31029, drawdown=0.01487]\u001b[A\u001b[A\n",
      "\n",
      "Epoch 12:  95%|█████████▌| 19/20 [00:00<00:00, 39.96it/s, loss=-0.31219, drawdown=0.01494]\u001b[A\u001b[A\n",
      "\n",
      "Epoch 12: 100%|██████████| 20/20 [00:00<00:00, 39.96it/s, loss=-0.31097, drawdown=0.01485]\u001b[A\u001b[A\n",
      "\n",
      "Epoch 12: 100%|██████████| 20/20 [00:00<00:00, 39.96it/s, loss=-0.31097, drawdown=0.01485, val_drawdown=0.00970, val_loss=-0.24344]\u001b[A\u001b[A\n",
      "\n",
      "Epoch 12: 100%|██████████| 20/20 [00:00<00:00, 35.90it/s, loss=-0.31097, drawdown=0.01485, val_drawdown=0.00970, val_loss=-0.24344]\u001b[A\u001b[A\n",
      "\n",
      "\n",
      "Epoch 13:   0%|          | 0/20 [00:00<?, ?it/s]\u001b[A\u001b[A\n",
      "\n",
      "Epoch 13:   5%|▌         | 1/20 [00:00<00:00, 28.95it/s, loss=-0.31536, drawdown=0.01353]\u001b[A\u001b[A\n",
      "\n",
      "Epoch 13:  10%|█         | 2/20 [00:00<00:00, 36.83it/s, loss=-0.32131, drawdown=0.01378]\u001b[A\u001b[A\n",
      "\n",
      "Epoch 13:  15%|█▌        | 3/20 [00:00<00:00, 40.95it/s, loss=-0.33311, drawdown=0.01503]\u001b[A\u001b[A\n",
      "\n",
      "Epoch 13:  20%|██        | 4/20 [00:00<00:00, 43.28it/s, loss=-0.33551, drawdown=0.01454]\u001b[A\u001b[A\n",
      "\n",
      "Epoch 13:  25%|██▌       | 5/20 [00:00<00:00, 44.98it/s, loss=-0.33551, drawdown=0.01454]\u001b[A\u001b[A\n",
      "\n",
      "Epoch 13:  25%|██▌       | 5/20 [00:00<00:00, 44.98it/s, loss=-0.33482, drawdown=0.01394]\u001b[A\u001b[A\n",
      "\n",
      "Epoch 13:  30%|███       | 6/20 [00:00<00:00, 44.98it/s, loss=-0.32970, drawdown=0.01335]\u001b[A\u001b[A\n",
      "\n",
      "Epoch 13:  35%|███▌      | 7/20 [00:00<00:00, 44.98it/s, loss=-0.32359, drawdown=0.01390]\u001b[A\u001b[A\n",
      "\n",
      "Epoch 13:  40%|████      | 8/20 [00:00<00:00, 44.98it/s, loss=-0.32464, drawdown=0.01339]\u001b[A\u001b[A\n",
      "\n",
      "Epoch 13:  45%|████▌     | 9/20 [00:00<00:00, 44.98it/s, loss=-0.32663, drawdown=0.01359]\u001b[A\u001b[A\n",
      "\n",
      "Epoch 13:  50%|█████     | 10/20 [00:00<00:00, 45.14it/s, loss=-0.32663, drawdown=0.01359]\u001b[A\u001b[A\n",
      "\n",
      "Epoch 13:  50%|█████     | 10/20 [00:00<00:00, 45.14it/s, loss=-0.32657, drawdown=0.01366]\u001b[A\u001b[A\n",
      "\n",
      "Epoch 13:  55%|█████▌    | 11/20 [00:00<00:00, 45.14it/s, loss=-0.32722, drawdown=0.01429]\u001b[A\u001b[A\n",
      "\n",
      "Epoch 13:  60%|██████    | 12/20 [00:00<00:00, 45.14it/s, loss=-0.32662, drawdown=0.01426]\u001b[A\u001b[A\n",
      "\n",
      "Epoch 13:  65%|██████▌   | 13/20 [00:00<00:00, 45.14it/s, loss=-0.32412, drawdown=0.01386]\u001b[A\u001b[A\n",
      "\n",
      "Epoch 13:  70%|███████   | 14/20 [00:00<00:00, 45.14it/s, loss=-0.32508, drawdown=0.01426]\u001b[A\u001b[A\n",
      "\n",
      "Epoch 13:  75%|███████▌  | 15/20 [00:00<00:00, 45.54it/s, loss=-0.32508, drawdown=0.01426]\u001b[A\u001b[A\n",
      "\n",
      "Epoch 13:  75%|███████▌  | 15/20 [00:00<00:00, 45.54it/s, loss=-0.32889, drawdown=0.01397]\u001b[A\u001b[A\n",
      "\n",
      "Epoch 13:  80%|████████  | 16/20 [00:00<00:00, 45.54it/s, loss=-0.32688, drawdown=0.01399]\u001b[A\u001b[A\n",
      "\n",
      "Epoch 13:  85%|████████▌ | 17/20 [00:00<00:00, 45.54it/s, loss=-0.32566, drawdown=0.01422]\u001b[A\u001b[A\n",
      "\n",
      "Epoch 13:  90%|█████████ | 18/20 [00:00<00:00, 45.54it/s, loss=-0.32798, drawdown=0.01429]\u001b[A\u001b[A\n",
      "\n",
      "Epoch 13:  95%|█████████▌| 19/20 [00:00<00:00, 45.54it/s, loss=-0.32420, drawdown=0.01448]\u001b[A\u001b[A\n",
      "\n",
      "Epoch 13: 100%|██████████| 20/20 [00:00<00:00, 45.63it/s, loss=-0.32420, drawdown=0.01448]\u001b[A\u001b[A\n",
      "\n",
      "Epoch 13: 100%|██████████| 20/20 [00:00<00:00, 45.63it/s, loss=-0.32043, drawdown=0.01475]\u001b[A\u001b[A\n",
      "\n",
      "Epoch 13: 100%|██████████| 20/20 [00:00<00:00, 45.63it/s, loss=-0.32043, drawdown=0.01475, val_drawdown=0.00551, val_loss=-0.48723]\u001b[A\u001b[A\n",
      "\n",
      "Epoch 13: 100%|██████████| 20/20 [00:00<00:00, 42.29it/s, loss=-0.32043, drawdown=0.01475, val_drawdown=0.00551, val_loss=-0.48723]\u001b[A\u001b[A\n",
      "\n",
      "\n",
      "Epoch 14:   0%|          | 0/20 [00:00<?, ?it/s]\u001b[A\u001b[A\n",
      "\n",
      "Epoch 14:   5%|▌         | 1/20 [00:00<00:00, 49.05it/s, loss=-0.32142, drawdown=0.01329]\u001b[A\u001b[A\n",
      "\n",
      "Epoch 14:  10%|█         | 2/20 [00:00<00:00, 50.36it/s, loss=-0.30744, drawdown=0.01689]\u001b[A\u001b[A\n",
      "\n",
      "Epoch 14:  15%|█▌        | 3/20 [00:00<00:00, 43.75it/s, loss=-0.29700, drawdown=0.01620]\u001b[A\u001b[A\n",
      "\n",
      "Epoch 14:  20%|██        | 4/20 [00:00<00:00, 45.12it/s, loss=-0.29213, drawdown=0.01764]\u001b[A\u001b[A\n",
      "\n",
      "Epoch 14:  25%|██▌       | 5/20 [00:00<00:00, 46.76it/s, loss=-0.29213, drawdown=0.01764]\u001b[A\u001b[A\n",
      "\n",
      "Epoch 14:  25%|██▌       | 5/20 [00:00<00:00, 46.76it/s, loss=-0.29244, drawdown=0.01792]\u001b[A\u001b[A\n",
      "\n",
      "Epoch 14:  30%|███       | 6/20 [00:00<00:00, 46.76it/s, loss=-0.29911, drawdown=0.01735]\u001b[A\u001b[A\n",
      "\n",
      "Epoch 14:  35%|███▌      | 7/20 [00:00<00:00, 46.76it/s, loss=-0.30248, drawdown=0.01738]\u001b[A\u001b[A\n",
      "\n",
      "Epoch 14:  40%|████      | 8/20 [00:00<00:00, 46.76it/s, loss=-0.29763, drawdown=0.01730]\u001b[A\u001b[A\n",
      "\n",
      "Epoch 14:  45%|████▌     | 9/20 [00:00<00:00, 46.76it/s, loss=-0.30338, drawdown=0.01703]\u001b[A\u001b[A\n",
      "\n",
      "Epoch 14:  50%|█████     | 10/20 [00:00<00:00, 48.34it/s, loss=-0.30338, drawdown=0.01703]\u001b[A\u001b[A\n",
      "\n",
      "Epoch 14:  50%|█████     | 10/20 [00:00<00:00, 48.34it/s, loss=-0.30117, drawdown=0.01751]\u001b[A\u001b[A\n",
      "\n",
      "Epoch 14:  55%|█████▌    | 11/20 [00:00<00:00, 48.34it/s, loss=-0.30328, drawdown=0.01702]\u001b[A\u001b[A\n",
      "\n",
      "Epoch 14:  60%|██████    | 12/20 [00:00<00:00, 48.34it/s, loss=-0.30375, drawdown=0.01659]\u001b[A\u001b[A\n",
      "\n",
      "Epoch 14:  65%|██████▌   | 13/20 [00:00<00:00, 48.34it/s, loss=-0.31309, drawdown=0.01587]\u001b[A\u001b[A\n",
      "\n",
      "Epoch 14:  70%|███████   | 14/20 [00:00<00:00, 48.34it/s, loss=-0.31139, drawdown=0.01587]\u001b[A\u001b[A\n",
      "\n",
      "Epoch 14:  75%|███████▌  | 15/20 [00:00<00:00, 47.60it/s, loss=-0.31139, drawdown=0.01587]\u001b[A\u001b[A\n",
      "\n",
      "Epoch 14:  75%|███████▌  | 15/20 [00:00<00:00, 47.60it/s, loss=-0.30996, drawdown=0.01596]\u001b[A\u001b[A\n",
      "\n",
      "Epoch 14:  80%|████████  | 16/20 [00:00<00:00, 47.60it/s, loss=-0.31266, drawdown=0.01577]\u001b[A\u001b[A\n",
      "\n",
      "Epoch 14:  85%|████████▌ | 17/20 [00:00<00:00, 47.60it/s, loss=-0.31238, drawdown=0.01574]\u001b[A\u001b[A\n",
      "\n",
      "Epoch 14:  90%|█████████ | 18/20 [00:00<00:00, 47.60it/s, loss=-0.31343, drawdown=0.01551]\u001b[A\u001b[A\n",
      "\n",
      "Epoch 14:  95%|█████████▌| 19/20 [00:00<00:00, 47.60it/s, loss=-0.31093, drawdown=0.01570]\u001b[A\u001b[A\n",
      "\n",
      "Epoch 14: 100%|██████████| 20/20 [00:00<00:00, 45.97it/s, loss=-0.31093, drawdown=0.01570]\u001b[A\u001b[A\n",
      "\n",
      "Epoch 14: 100%|██████████| 20/20 [00:00<00:00, 45.97it/s, loss=-0.31174, drawdown=0.01539]\u001b[A\u001b[A\n",
      "\n",
      "Epoch 14: 100%|██████████| 20/20 [00:00<00:00, 45.97it/s, loss=-0.31174, drawdown=0.01539, val_drawdown=0.00680, val_loss=-0.44329]\u001b[A\u001b[A\n",
      "\n",
      "Epoch 14: 100%|██████████| 20/20 [00:00<00:00, 43.18it/s, loss=-0.31174, drawdown=0.01539, val_drawdown=0.00680, val_loss=-0.44329]\u001b[A\u001b[A\n",
      "\n",
      "\n",
      "Epoch 15:   0%|          | 0/20 [00:00<?, ?it/s]\u001b[A\u001b[A\n",
      "\n",
      "Epoch 15:   5%|▌         | 1/20 [00:00<00:00, 49.67it/s, loss=-0.38339, drawdown=0.01088]\u001b[A\u001b[A\n",
      "\n",
      "Epoch 15:  10%|█         | 2/20 [00:00<00:00, 49.74it/s, loss=-0.34609, drawdown=0.01490]\u001b[A\u001b[A\n",
      "\n",
      "Epoch 15:  15%|█▌        | 3/20 [00:00<00:00, 49.91it/s, loss=-0.35028, drawdown=0.01603]\u001b[A\u001b[A\n",
      "\n",
      "Epoch 15:  20%|██        | 4/20 [00:00<00:00, 50.42it/s, loss=-0.34397, drawdown=0.01568]\u001b[A\u001b[A\n",
      "\n",
      "Epoch 15:  25%|██▌       | 5/20 [00:00<00:00, 50.54it/s, loss=-0.33763, drawdown=0.01598]\u001b[A\u001b[A\n",
      "\n",
      "Epoch 15:  30%|███       | 6/20 [00:00<00:00, 50.82it/s, loss=-0.33763, drawdown=0.01598]\u001b[A\u001b[A\n",
      "\n",
      "Epoch 15:  30%|███       | 6/20 [00:00<00:00, 50.82it/s, loss=-0.33749, drawdown=0.01520]\u001b[A\u001b[A\n",
      "\n",
      "Epoch 15:  35%|███▌      | 7/20 [00:00<00:00, 50.82it/s, loss=-0.33018, drawdown=0.01533]\u001b[A\u001b[A\n",
      "\n",
      "Epoch 15:  40%|████      | 8/20 [00:00<00:00, 50.82it/s, loss=-0.33364, drawdown=0.01484]\u001b[A\u001b[A\n",
      "\n",
      "Epoch 15:  45%|████▌     | 9/20 [00:00<00:00, 50.82it/s, loss=-0.33259, drawdown=0.01444]\u001b[A\u001b[A\n",
      "\n",
      "Epoch 15:  50%|█████     | 10/20 [00:00<00:00, 50.82it/s, loss=-0.33366, drawdown=0.01450]\u001b[A\u001b[A\n",
      "\n",
      "Epoch 15:  55%|█████▌    | 11/20 [00:00<00:00, 50.82it/s, loss=-0.32736, drawdown=0.01463]\u001b[A\u001b[A\n",
      "\n",
      "Epoch 15:  60%|██████    | 12/20 [00:00<00:00, 37.47it/s, loss=-0.32736, drawdown=0.01463]\u001b[A\u001b[A\n",
      "\n",
      "Epoch 15:  60%|██████    | 12/20 [00:00<00:00, 37.47it/s, loss=-0.33226, drawdown=0.01438]\u001b[A\u001b[A\n",
      "\n",
      "Epoch 15:  65%|██████▌   | 13/20 [00:00<00:00, 37.47it/s, loss=-0.33069, drawdown=0.01417]\u001b[A\u001b[A\n",
      "\n",
      "Epoch 15:  70%|███████   | 14/20 [00:00<00:00, 37.47it/s, loss=-0.32977, drawdown=0.01440]\u001b[A\u001b[A\n",
      "\n",
      "Epoch 15:  75%|███████▌  | 15/20 [00:00<00:00, 37.47it/s, loss=-0.32224, drawdown=0.01482]\u001b[A\u001b[A\n",
      "\n",
      "Epoch 15:  80%|████████  | 16/20 [00:00<00:00, 35.76it/s, loss=-0.32224, drawdown=0.01482]\u001b[A\u001b[A\n",
      "\n",
      "Epoch 15:  80%|████████  | 16/20 [00:00<00:00, 35.76it/s, loss=-0.32104, drawdown=0.01468]\u001b[A\u001b[A\n",
      "\n",
      "Epoch 15:  85%|████████▌ | 17/20 [00:00<00:00, 35.76it/s, loss=-0.32083, drawdown=0.01478]\u001b[A\u001b[A\n",
      "\n",
      "Epoch 15:  90%|█████████ | 18/20 [00:00<00:00, 35.76it/s, loss=-0.31923, drawdown=0.01510]\u001b[A\u001b[A\n",
      "\n",
      "Epoch 15:  95%|█████████▌| 19/20 [00:00<00:00, 35.76it/s, loss=-0.31880, drawdown=0.01492]\u001b[A\u001b[A\n",
      "\n",
      "Epoch 15: 100%|██████████| 20/20 [00:00<00:00, 36.74it/s, loss=-0.31880, drawdown=0.01492]\u001b[A\u001b[A\n",
      "\n",
      "Epoch 15: 100%|██████████| 20/20 [00:00<00:00, 36.74it/s, loss=-0.31671, drawdown=0.01491]\u001b[A\u001b[A\n",
      "\n",
      "Epoch 15: 100%|██████████| 20/20 [00:00<00:00, 36.74it/s, loss=-0.31671, drawdown=0.01491, val_drawdown=0.00784, val_loss=-0.41844]\u001b[A\u001b[A\n",
      "\n",
      "Epoch 15: 100%|██████████| 20/20 [00:00<00:00, 34.82it/s, loss=-0.31671, drawdown=0.01491, val_drawdown=0.00784, val_loss=-0.41844]\u001b[A\u001b[A\n",
      "\n",
      "\n",
      "Epoch 16:   0%|          | 0/20 [00:00<?, ?it/s]\u001b[A\u001b[A\n",
      "\n",
      "Epoch 16:   5%|▌         | 1/20 [00:00<00:00, 36.70it/s, loss=-0.26770, drawdown=0.01768]\u001b[A\u001b[A\n",
      "\n",
      "Epoch 16:  10%|█         | 2/20 [00:00<00:00, 39.34it/s, loss=-0.34694, drawdown=0.01346]\u001b[A\u001b[A\n",
      "\n",
      "Epoch 16:  15%|█▌        | 3/20 [00:00<00:00, 39.95it/s, loss=-0.31042, drawdown=0.01472]\u001b[A\u001b[A\n",
      "\n",
      "Epoch 16:  20%|██        | 4/20 [00:00<00:00, 39.74it/s, loss=-0.31042, drawdown=0.01472]\u001b[A\u001b[A\n",
      "\n",
      "Epoch 16:  20%|██        | 4/20 [00:00<00:00, 39.74it/s, loss=-0.29840, drawdown=0.01594]\u001b[A\u001b[A\n",
      "\n",
      "Epoch 16:  25%|██▌       | 5/20 [00:00<00:00, 39.74it/s, loss=-0.30673, drawdown=0.01446]\u001b[A\u001b[A\n",
      "\n",
      "Epoch 16:  30%|███       | 6/20 [00:00<00:00, 39.74it/s, loss=-0.31204, drawdown=0.01430]\u001b[A\u001b[A\n",
      "\n",
      "Epoch 16:  35%|███▌      | 7/20 [00:00<00:00, 39.74it/s, loss=-0.31318, drawdown=0.01468]\u001b[A\u001b[A\n",
      "\n",
      "Epoch 16:  40%|████      | 8/20 [00:00<00:00, 35.30it/s, loss=-0.31318, drawdown=0.01468]\u001b[A\u001b[A\n",
      "\n",
      "Epoch 16:  40%|████      | 8/20 [00:00<00:00, 35.30it/s, loss=-0.30622, drawdown=0.01509]\u001b[A\u001b[A\n",
      "\n",
      "Epoch 16:  45%|████▌     | 9/20 [00:00<00:00, 35.30it/s, loss=-0.30519, drawdown=0.01486]\u001b[A\u001b[A\n",
      "\n",
      "Epoch 16:  50%|█████     | 10/20 [00:00<00:00, 35.30it/s, loss=-0.30293, drawdown=0.01490]\u001b[A\u001b[A\n",
      "\n",
      "Epoch 16:  55%|█████▌    | 11/20 [00:00<00:00, 35.30it/s, loss=-0.30265, drawdown=0.01553]\u001b[A\u001b[A\n",
      "\n",
      "Epoch 16:  60%|██████    | 12/20 [00:00<00:00, 36.74it/s, loss=-0.30265, drawdown=0.01553]\u001b[A\u001b[A\n",
      "\n",
      "Epoch 16:  60%|██████    | 12/20 [00:00<00:00, 36.74it/s, loss=-0.30358, drawdown=0.01539]\u001b[A\u001b[A\n",
      "\n",
      "Epoch 16:  65%|██████▌   | 13/20 [00:00<00:00, 36.74it/s, loss=-0.30303, drawdown=0.01559]\u001b[A\u001b[A\n",
      "\n",
      "Epoch 16:  70%|███████   | 14/20 [00:00<00:00, 36.74it/s, loss=-0.30497, drawdown=0.01583]\u001b[A\u001b[A\n",
      "\n",
      "Epoch 16:  75%|███████▌  | 15/20 [00:00<00:00, 36.74it/s, loss=-0.30790, drawdown=0.01564]\u001b[A\u001b[A\n",
      "\n",
      "Epoch 16:  80%|████████  | 16/20 [00:00<00:00, 37.91it/s, loss=-0.30790, drawdown=0.01564]\u001b[A\u001b[A\n",
      "\n",
      "Epoch 16:  80%|████████  | 16/20 [00:00<00:00, 37.91it/s, loss=-0.31079, drawdown=0.01545]\u001b[A\u001b[A\n",
      "\n",
      "Epoch 16:  85%|████████▌ | 17/20 [00:00<00:00, 37.91it/s, loss=-0.30912, drawdown=0.01539]\u001b[A\u001b[A\n",
      "\n",
      "Epoch 16:  90%|█████████ | 18/20 [00:00<00:00, 37.91it/s, loss=-0.31185, drawdown=0.01522]\u001b[A\u001b[A\n",
      "\n",
      "Epoch 16:  95%|█████████▌| 19/20 [00:00<00:00, 37.91it/s, loss=-0.31219, drawdown=0.01526]\u001b[A\u001b[A\n",
      "\n",
      "Epoch 16: 100%|██████████| 20/20 [00:00<00:00, 36.74it/s, loss=-0.31219, drawdown=0.01526]\u001b[A\u001b[A\n",
      "\n",
      "Epoch 16: 100%|██████████| 20/20 [00:00<00:00, 36.74it/s, loss=-0.31631, drawdown=0.01490]\u001b[A\u001b[A\n",
      "\n",
      "Epoch 16: 100%|██████████| 20/20 [00:00<00:00, 36.74it/s, loss=-0.31631, drawdown=0.01490, val_drawdown=0.00897, val_loss=-0.31204]\u001b[A\u001b[A\n",
      "\n",
      "Epoch 16: 100%|██████████| 20/20 [00:00<00:00, 34.22it/s, loss=-0.31631, drawdown=0.01490, val_drawdown=0.00897, val_loss=-0.31204]\u001b[A\u001b[A\n",
      "\n",
      "\n",
      "Epoch 17:   0%|          | 0/20 [00:00<?, ?it/s]\u001b[A\u001b[A\n",
      "\n",
      "Epoch 17:   5%|▌         | 1/20 [00:00<00:00, 39.70it/s, loss=-0.29810, drawdown=0.01465]\u001b[A\u001b[A\n",
      "\n",
      "Epoch 17:  10%|█         | 2/20 [00:00<00:00, 42.61it/s, loss=-0.33370, drawdown=0.01295]\u001b[A\u001b[A\n",
      "\n",
      "Epoch 17:  15%|█▌        | 3/20 [00:00<00:00, 44.24it/s, loss=-0.34325, drawdown=0.01194]\u001b[A\u001b[A\n",
      "\n",
      "Epoch 17:  20%|██        | 4/20 [00:00<00:00, 45.31it/s, loss=-0.32384, drawdown=0.01140]\u001b[A\u001b[A\n",
      "\n",
      "Epoch 17:  25%|██▌       | 5/20 [00:00<00:00, 45.32it/s, loss=-0.32384, drawdown=0.01140]\u001b[A\u001b[A\n",
      "\n",
      "Epoch 17:  25%|██▌       | 5/20 [00:00<00:00, 45.32it/s, loss=-0.32260, drawdown=0.01212]\u001b[A\u001b[A\n",
      "\n",
      "Epoch 17:  30%|███       | 6/20 [00:00<00:00, 45.32it/s, loss=-0.32036, drawdown=0.01151]\u001b[A\u001b[A\n",
      "\n",
      "Epoch 17:  35%|███▌      | 7/20 [00:00<00:00, 45.32it/s, loss=-0.31983, drawdown=0.01185]\u001b[A\u001b[A\n",
      "\n",
      "Epoch 17:  40%|████      | 8/20 [00:00<00:00, 45.32it/s, loss=-0.32492, drawdown=0.01253]\u001b[A\u001b[A\n",
      "\n",
      "Epoch 17:  45%|████▌     | 9/20 [00:00<00:00, 45.32it/s, loss=-0.32265, drawdown=0.01288]\u001b[A\u001b[A\n",
      "\n",
      "Epoch 17:  50%|█████     | 10/20 [00:00<00:00, 44.17it/s, loss=-0.32265, drawdown=0.01288]\u001b[A\u001b[A\n",
      "\n",
      "Epoch 17:  50%|█████     | 10/20 [00:00<00:00, 44.17it/s, loss=-0.32726, drawdown=0.01255]\u001b[A\u001b[A\n",
      "\n",
      "Epoch 17:  55%|█████▌    | 11/20 [00:00<00:00, 44.17it/s, loss=-0.32206, drawdown=0.01312]\u001b[A\u001b[A\n",
      "\n",
      "Epoch 17:  60%|██████    | 12/20 [00:00<00:00, 44.17it/s, loss=-0.32449, drawdown=0.01293]\u001b[A\u001b[A\n",
      "\n",
      "Epoch 17:  65%|██████▌   | 13/20 [00:00<00:00, 44.17it/s, loss=-0.32412, drawdown=0.01340]\u001b[A\u001b[A\n",
      "\n",
      "Epoch 17:  70%|███████   | 14/20 [00:00<00:00, 44.17it/s, loss=-0.32293, drawdown=0.01398]\u001b[A\u001b[A\n",
      "\n",
      "Epoch 17:  75%|███████▌  | 15/20 [00:00<00:00, 43.44it/s, loss=-0.32293, drawdown=0.01398]\u001b[A\u001b[A\n",
      "\n",
      "Epoch 17:  75%|███████▌  | 15/20 [00:00<00:00, 43.44it/s, loss=-0.32020, drawdown=0.01406]\u001b[A\u001b[A\n",
      "\n",
      "Epoch 17:  80%|████████  | 16/20 [00:00<00:00, 43.44it/s, loss=-0.31859, drawdown=0.01380]\u001b[A\u001b[A\n",
      "\n",
      "Epoch 17:  85%|████████▌ | 17/20 [00:00<00:00, 43.44it/s, loss=-0.31948, drawdown=0.01400]\u001b[A\u001b[A\n",
      "\n",
      "Epoch 17:  90%|█████████ | 18/20 [00:00<00:00, 43.44it/s, loss=-0.31961, drawdown=0.01413]\u001b[A\u001b[A\n",
      "\n",
      "Epoch 17:  95%|█████████▌| 19/20 [00:00<00:00, 43.44it/s, loss=-0.31966, drawdown=0.01419]\u001b[A\u001b[A\n",
      "\n",
      "Epoch 17: 100%|██████████| 20/20 [00:00<00:00, 44.21it/s, loss=-0.31966, drawdown=0.01419]\u001b[A\u001b[A\n",
      "\n",
      "Epoch 17: 100%|██████████| 20/20 [00:00<00:00, 44.21it/s, loss=-0.31742, drawdown=0.01439]\u001b[A\u001b[A\n",
      "\n",
      "Epoch 17: 100%|██████████| 20/20 [00:00<00:00, 44.21it/s, loss=-0.31742, drawdown=0.01439, val_drawdown=0.00708, val_loss=-0.41776]\u001b[A\u001b[A\n",
      "\n",
      "Epoch 17: 100%|██████████| 20/20 [00:00<00:00, 39.67it/s, loss=-0.31742, drawdown=0.01439, val_drawdown=0.00708, val_loss=-0.41776]\u001b[A\u001b[A\n",
      "\n",
      "\n",
      "Epoch 18:   0%|          | 0/20 [00:00<?, ?it/s]\u001b[A\u001b[A\n",
      "\n",
      "Epoch 18:   5%|▌         | 1/20 [00:00<00:00, 47.80it/s, loss=-0.23857, drawdown=0.01967]\u001b[A\u001b[A\n",
      "\n",
      "Epoch 18:  10%|█         | 2/20 [00:00<00:00, 48.30it/s, loss=-0.29042, drawdown=0.01635]\u001b[A\u001b[A\n",
      "\n",
      "Epoch 18:  15%|█▌        | 3/20 [00:00<00:00, 42.66it/s, loss=-0.30502, drawdown=0.01744]\u001b[A\u001b[A\n",
      "\n",
      "Epoch 18:  20%|██        | 4/20 [00:00<00:00, 43.96it/s, loss=-0.31045, drawdown=0.01538]\u001b[A\u001b[A\n",
      "\n",
      "Epoch 18:  25%|██▌       | 5/20 [00:00<00:00, 45.70it/s, loss=-0.31045, drawdown=0.01538]\u001b[A\u001b[A\n",
      "\n",
      "Epoch 18:  25%|██▌       | 5/20 [00:00<00:00, 45.70it/s, loss=-0.32483, drawdown=0.01409]\u001b[A\u001b[A\n",
      "\n",
      "Epoch 18:  30%|███       | 6/20 [00:00<00:00, 45.70it/s, loss=-0.32108, drawdown=0.01542]\u001b[A\u001b[A\n",
      "\n",
      "Epoch 18:  35%|███▌      | 7/20 [00:00<00:00, 45.70it/s, loss=-0.32186, drawdown=0.01550]\u001b[A\u001b[A\n",
      "\n",
      "Epoch 18:  40%|████      | 8/20 [00:00<00:00, 45.70it/s, loss=-0.31984, drawdown=0.01567]\u001b[A\u001b[A\n",
      "\n",
      "Epoch 18:  45%|████▌     | 9/20 [00:00<00:00, 45.70it/s, loss=-0.32115, drawdown=0.01567]\u001b[A\u001b[A\n",
      "\n",
      "Epoch 18:  50%|█████     | 10/20 [00:00<00:00, 42.56it/s, loss=-0.32115, drawdown=0.01567]\u001b[A\u001b[A\n",
      "\n",
      "Epoch 18:  50%|█████     | 10/20 [00:00<00:00, 42.56it/s, loss=-0.32743, drawdown=0.01510]\u001b[A\u001b[A\n",
      "\n",
      "Epoch 18:  55%|█████▌    | 11/20 [00:00<00:00, 42.56it/s, loss=-0.32803, drawdown=0.01464]\u001b[A\u001b[A\n",
      "\n",
      "Epoch 18:  60%|██████    | 12/20 [00:00<00:00, 42.56it/s, loss=-0.33054, drawdown=0.01443]\u001b[A\u001b[A\n",
      "\n",
      "Epoch 18:  65%|██████▌   | 13/20 [00:00<00:00, 42.56it/s, loss=-0.32859, drawdown=0.01464]\u001b[A\u001b[A\n",
      "\n",
      "Epoch 18:  70%|███████   | 14/20 [00:00<00:00, 42.56it/s, loss=-0.32857, drawdown=0.01478]\u001b[A\u001b[A\n",
      "\n",
      "Epoch 18:  75%|███████▌  | 15/20 [00:00<00:00, 43.48it/s, loss=-0.32857, drawdown=0.01478]\u001b[A\u001b[A\n",
      "\n",
      "Epoch 18:  75%|███████▌  | 15/20 [00:00<00:00, 43.48it/s, loss=-0.33029, drawdown=0.01469]\u001b[A\u001b[A\n",
      "\n"
     ]
    },
    {
     "name": "stderr",
     "output_type": "stream",
     "text": [
      "Epoch 18:  80%|████████  | 16/20 [00:00<00:00, 43.48it/s, loss=-0.33396, drawdown=0.01451]\u001b[A\u001b[A\n",
      "\n",
      "Epoch 18:  85%|████████▌ | 17/20 [00:00<00:00, 43.48it/s, loss=-0.32974, drawdown=0.01454]\u001b[A\u001b[A\n",
      "\n",
      "Epoch 18:  90%|█████████ | 18/20 [00:00<00:00, 43.48it/s, loss=-0.32957, drawdown=0.01447]\u001b[A\u001b[A\n",
      "\n",
      "Epoch 18:  95%|█████████▌| 19/20 [00:00<00:00, 43.48it/s, loss=-0.33047, drawdown=0.01441]\u001b[A\u001b[A\n",
      "\n",
      "Epoch 18: 100%|██████████| 20/20 [00:00<00:00, 43.62it/s, loss=-0.33047, drawdown=0.01441]\u001b[A\u001b[A\n",
      "\n",
      "Epoch 18: 100%|██████████| 20/20 [00:00<00:00, 43.62it/s, loss=-0.33023, drawdown=0.01434]\u001b[A\u001b[A\n",
      "\n",
      "Epoch 18: 100%|██████████| 20/20 [00:00<00:00, 43.62it/s, loss=-0.33023, drawdown=0.01434, val_drawdown=0.00584, val_loss=-0.50683]\u001b[A\u001b[A\n",
      "\n",
      "Epoch 18: 100%|██████████| 20/20 [00:00<00:00, 38.97it/s, loss=-0.33023, drawdown=0.01434, val_drawdown=0.00584, val_loss=-0.50683]\u001b[A\u001b[A\n",
      "\n",
      "\n",
      "Epoch 19:   0%|          | 0/20 [00:00<?, ?it/s]\u001b[A\u001b[A\n",
      "\n",
      "Epoch 19:   5%|▌         | 1/20 [00:00<00:00, 42.71it/s, loss=-0.25353, drawdown=0.01931]\u001b[A\u001b[A\n",
      "\n",
      "Epoch 19:  10%|█         | 2/20 [00:00<00:00, 46.36it/s, loss=-0.29750, drawdown=0.01553]\u001b[A\u001b[A\n",
      "\n",
      "Epoch 19:  15%|█▌        | 3/20 [00:00<00:00, 46.43it/s, loss=-0.31310, drawdown=0.01490]\u001b[A\u001b[A\n",
      "\n",
      "Epoch 19:  20%|██        | 4/20 [00:00<00:00, 46.75it/s, loss=-0.31759, drawdown=0.01410]\u001b[A\u001b[A\n",
      "\n",
      "Epoch 19:  25%|██▌       | 5/20 [00:00<00:00, 46.11it/s, loss=-0.31759, drawdown=0.01410]\u001b[A\u001b[A\n",
      "\n",
      "Epoch 19:  25%|██▌       | 5/20 [00:00<00:00, 46.11it/s, loss=-0.32332, drawdown=0.01336]\u001b[A\u001b[A\n",
      "\n",
      "Epoch 19:  30%|███       | 6/20 [00:00<00:00, 46.11it/s, loss=-0.33192, drawdown=0.01319]\u001b[A\u001b[A\n",
      "\n",
      "Epoch 19:  35%|███▌      | 7/20 [00:00<00:00, 46.11it/s, loss=-0.33992, drawdown=0.01308]\u001b[A\u001b[A\n",
      "\n",
      "Epoch 19:  40%|████      | 8/20 [00:00<00:00, 46.11it/s, loss=-0.33276, drawdown=0.01411]\u001b[A\u001b[A\n",
      "\n",
      "Epoch 19:  45%|████▌     | 9/20 [00:00<00:00, 46.11it/s, loss=-0.32862, drawdown=0.01412]\u001b[A\u001b[A\n",
      "\n",
      "Epoch 19:  50%|█████     | 10/20 [00:00<00:00, 42.92it/s, loss=-0.32862, drawdown=0.01412]\u001b[A\u001b[A\n",
      "\n",
      "Epoch 19:  50%|█████     | 10/20 [00:00<00:00, 42.92it/s, loss=-0.33303, drawdown=0.01394]\u001b[A\u001b[A\n",
      "\n",
      "Epoch 19:  55%|█████▌    | 11/20 [00:00<00:00, 42.92it/s, loss=-0.33965, drawdown=0.01394]\u001b[A\u001b[A\n",
      "\n",
      "Epoch 19:  60%|██████    | 12/20 [00:00<00:00, 42.92it/s, loss=-0.34014, drawdown=0.01439]\u001b[A\u001b[A\n",
      "\n",
      "Epoch 19:  65%|██████▌   | 13/20 [00:00<00:00, 42.92it/s, loss=-0.33690, drawdown=0.01430]\u001b[A\u001b[A\n",
      "\n",
      "Epoch 19:  70%|███████   | 14/20 [00:00<00:00, 42.92it/s, loss=-0.33370, drawdown=0.01420]\u001b[A\u001b[A\n",
      "\n",
      "Epoch 19:  75%|███████▌  | 15/20 [00:00<00:00, 42.25it/s, loss=-0.33370, drawdown=0.01420]\u001b[A\u001b[A\n",
      "\n",
      "Epoch 19:  75%|███████▌  | 15/20 [00:00<00:00, 42.25it/s, loss=-0.33022, drawdown=0.01449]\u001b[A\u001b[A\n",
      "\n",
      "Epoch 19:  80%|████████  | 16/20 [00:00<00:00, 42.25it/s, loss=-0.33334, drawdown=0.01431]\u001b[A\u001b[A\n",
      "\n",
      "Epoch 19:  85%|████████▌ | 17/20 [00:00<00:00, 42.25it/s, loss=-0.33372, drawdown=0.01409]\u001b[A\u001b[A\n",
      "\n",
      "Epoch 19:  90%|█████████ | 18/20 [00:00<00:00, 42.25it/s, loss=-0.33286, drawdown=0.01437]\u001b[A\u001b[A\n",
      "\n",
      "Epoch 19:  95%|█████████▌| 19/20 [00:00<00:00, 42.25it/s, loss=-0.33428, drawdown=0.01425]\u001b[A\u001b[A\n",
      "\n",
      "Epoch 19: 100%|██████████| 20/20 [00:00<00:00, 41.81it/s, loss=-0.33428, drawdown=0.01425]\u001b[A\u001b[A\n",
      "\n",
      "Epoch 19: 100%|██████████| 20/20 [00:00<00:00, 41.81it/s, loss=-0.33297, drawdown=0.01436]\u001b[A\u001b[A\n",
      "\n",
      "Epoch 19: 100%|██████████| 20/20 [00:00<00:00, 41.81it/s, loss=-0.33297, drawdown=0.01436, val_drawdown=0.00684, val_loss=-0.44805]\u001b[A\u001b[A\n",
      "\n",
      "Epoch 19: 100%|██████████| 20/20 [00:00<00:00, 39.39it/s, loss=-0.33297, drawdown=0.01436, val_drawdown=0.00684, val_loss=-0.44805]\u001b[A\u001b[A\n",
      "\n",
      "\n",
      "Epoch 20:   0%|          | 0/20 [00:00<?, ?it/s]\u001b[A\u001b[A\n",
      "\n",
      "Epoch 20:   5%|▌         | 1/20 [00:00<00:00, 50.58it/s, loss=-0.36582, drawdown=0.01932]\u001b[A\u001b[A\n",
      "\n",
      "Epoch 20:  10%|█         | 2/20 [00:00<00:00, 50.31it/s, loss=-0.34463, drawdown=0.01501]\u001b[A\u001b[A\n",
      "\n",
      "Epoch 20:  15%|█▌        | 3/20 [00:00<00:00, 47.28it/s, loss=-0.35173, drawdown=0.01610]\u001b[A\u001b[A\n",
      "\n",
      "Epoch 20:  20%|██        | 4/20 [00:00<00:00, 45.59it/s, loss=-0.34138, drawdown=0.01566]\u001b[A\u001b[A\n",
      "\n",
      "Epoch 20:  25%|██▌       | 5/20 [00:00<00:00, 42.98it/s, loss=-0.34138, drawdown=0.01566]\u001b[A\u001b[A\n",
      "\n",
      "Epoch 20:  25%|██▌       | 5/20 [00:00<00:00, 42.98it/s, loss=-0.33971, drawdown=0.01489]\u001b[A\u001b[A\n",
      "\n",
      "Epoch 20:  30%|███       | 6/20 [00:00<00:00, 42.98it/s, loss=-0.33403, drawdown=0.01414]\u001b[A\u001b[A\n",
      "\n",
      "Epoch 20:  35%|███▌      | 7/20 [00:00<00:00, 42.98it/s, loss=-0.32557, drawdown=0.01417]\u001b[A\u001b[A\n",
      "\n",
      "Epoch 20:  40%|████      | 8/20 [00:00<00:00, 42.98it/s, loss=-0.33140, drawdown=0.01381]\u001b[A\u001b[A\n",
      "\n",
      "Epoch 20:  45%|████▌     | 9/20 [00:00<00:00, 42.98it/s, loss=-0.32656, drawdown=0.01395]\u001b[A\u001b[A\n",
      "\n",
      "Epoch 20:  50%|█████     | 10/20 [00:00<00:00, 46.84it/s, loss=-0.32656, drawdown=0.01395]\u001b[A\u001b[A\n",
      "\n",
      "Epoch 20:  50%|█████     | 10/20 [00:00<00:00, 46.84it/s, loss=-0.32838, drawdown=0.01378]\u001b[A\u001b[A\n",
      "\n",
      "Epoch 20:  55%|█████▌    | 11/20 [00:00<00:00, 46.84it/s, loss=-0.32965, drawdown=0.01394]\u001b[A\u001b[A\n",
      "\n",
      "Epoch 20:  60%|██████    | 12/20 [00:00<00:00, 46.84it/s, loss=-0.32725, drawdown=0.01400]\u001b[A\u001b[A\n",
      "\n",
      "Epoch 20:  65%|██████▌   | 13/20 [00:00<00:00, 46.84it/s, loss=-0.33351, drawdown=0.01383]\u001b[A\u001b[A\n",
      "\n",
      "Epoch 20:  70%|███████   | 14/20 [00:00<00:00, 46.84it/s, loss=-0.33040, drawdown=0.01416]\u001b[A\u001b[A\n",
      "\n",
      "Epoch 20:  75%|███████▌  | 15/20 [00:00<00:00, 45.64it/s, loss=-0.33040, drawdown=0.01416]\u001b[A\u001b[A\n",
      "\n",
      "Epoch 20:  75%|███████▌  | 15/20 [00:00<00:00, 45.64it/s, loss=-0.33015, drawdown=0.01418]\u001b[A\u001b[A\n",
      "\n",
      "Epoch 20:  80%|████████  | 16/20 [00:00<00:00, 45.64it/s, loss=-0.33232, drawdown=0.01415]\u001b[A\u001b[A\n",
      "\n",
      "Epoch 20:  85%|████████▌ | 17/20 [00:00<00:00, 45.64it/s, loss=-0.33083, drawdown=0.01415]\u001b[A\u001b[A\n",
      "\n",
      "Epoch 20:  90%|█████████ | 18/20 [00:00<00:00, 45.64it/s, loss=-0.32904, drawdown=0.01419]\u001b[A\u001b[A\n",
      "\n",
      "Epoch 20:  95%|█████████▌| 19/20 [00:00<00:00, 45.64it/s, loss=-0.32746, drawdown=0.01429]\u001b[A\u001b[A\n",
      "\n",
      "Epoch 20: 100%|██████████| 20/20 [00:00<00:00, 44.48it/s, loss=-0.32746, drawdown=0.01429]\u001b[A\u001b[A\n",
      "\n",
      "Epoch 20: 100%|██████████| 20/20 [00:00<00:00, 44.48it/s, loss=-0.32965, drawdown=0.01422]\u001b[A\u001b[A\n",
      "\n",
      "Epoch 20: 100%|██████████| 20/20 [00:00<00:00, 44.48it/s, loss=-0.32965, drawdown=0.01422, val_drawdown=0.01150, val_loss=-0.32726]\u001b[A\u001b[A\n",
      "\n",
      "Epoch 20: 100%|██████████| 20/20 [00:00<00:00, 40.52it/s, loss=-0.32965, drawdown=0.01422, val_drawdown=0.01150, val_loss=-0.32726]\u001b[A\u001b[A\n",
      "\n",
      "\n",
      "Epoch 21:   0%|          | 0/20 [00:00<?, ?it/s]\u001b[A\u001b[A\n",
      "\n",
      "Epoch 21:   5%|▌         | 1/20 [00:00<00:00, 46.84it/s, loss=-0.42891, drawdown=0.00888]\u001b[A\u001b[A\n",
      "\n",
      "Epoch 21:  10%|█         | 2/20 [00:00<00:00, 48.36it/s, loss=-0.40845, drawdown=0.01154]\u001b[A\u001b[A\n",
      "\n",
      "Epoch 21:  15%|█▌        | 3/20 [00:00<00:00, 48.20it/s, loss=-0.37140, drawdown=0.01120]\u001b[A\u001b[A\n",
      "\n",
      "Epoch 21:  20%|██        | 4/20 [00:00<00:00, 45.72it/s, loss=-0.36489, drawdown=0.01215]\u001b[A\u001b[A\n",
      "\n",
      "Epoch 21:  25%|██▌       | 5/20 [00:00<00:00, 45.36it/s, loss=-0.36489, drawdown=0.01215]\u001b[A\u001b[A\n",
      "\n",
      "Epoch 21:  25%|██▌       | 5/20 [00:00<00:00, 45.36it/s, loss=-0.35461, drawdown=0.01281]\u001b[A\u001b[A\n",
      "\n",
      "Epoch 21:  30%|███       | 6/20 [00:00<00:00, 45.36it/s, loss=-0.34729, drawdown=0.01370]\u001b[A\u001b[A\n",
      "\n",
      "Epoch 21:  35%|███▌      | 7/20 [00:00<00:00, 45.36it/s, loss=-0.34615, drawdown=0.01390]\u001b[A\u001b[A\n",
      "\n",
      "Epoch 21:  40%|████      | 8/20 [00:00<00:00, 45.36it/s, loss=-0.34411, drawdown=0.01340]\u001b[A\u001b[A\n",
      "\n",
      "Epoch 21:  45%|████▌     | 9/20 [00:00<00:00, 45.36it/s, loss=-0.34496, drawdown=0.01313]\u001b[A\u001b[A\n",
      "\n",
      "Epoch 21:  50%|█████     | 10/20 [00:00<00:00, 44.29it/s, loss=-0.34496, drawdown=0.01313]\u001b[A\u001b[A\n",
      "\n",
      "Epoch 21:  50%|█████     | 10/20 [00:00<00:00, 44.29it/s, loss=-0.34201, drawdown=0.01328]\u001b[A\u001b[A\n",
      "\n",
      "Epoch 21:  55%|█████▌    | 11/20 [00:00<00:00, 44.29it/s, loss=-0.33800, drawdown=0.01381]\u001b[A\u001b[A\n",
      "\n",
      "Epoch 21:  60%|██████    | 12/20 [00:00<00:00, 44.29it/s, loss=-0.33300, drawdown=0.01356]\u001b[A\u001b[A\n",
      "\n",
      "Epoch 21:  65%|██████▌   | 13/20 [00:00<00:00, 44.29it/s, loss=-0.33058, drawdown=0.01402]\u001b[A\u001b[A\n",
      "\n",
      "Epoch 21:  70%|███████   | 14/20 [00:00<00:00, 44.29it/s, loss=-0.33071, drawdown=0.01397]\u001b[A\u001b[A\n",
      "\n",
      "Epoch 21:  75%|███████▌  | 15/20 [00:00<00:00, 42.68it/s, loss=-0.33071, drawdown=0.01397]\u001b[A\u001b[A\n",
      "\n",
      "Epoch 21:  75%|███████▌  | 15/20 [00:00<00:00, 42.68it/s, loss=-0.32645, drawdown=0.01399]\u001b[A\u001b[A\n",
      "\n",
      "Epoch 21:  80%|████████  | 16/20 [00:00<00:00, 42.68it/s, loss=-0.32859, drawdown=0.01405]\u001b[A\u001b[A\n",
      "\n",
      "Epoch 21:  85%|████████▌ | 17/20 [00:00<00:00, 42.68it/s, loss=-0.32735, drawdown=0.01416]\u001b[A\u001b[A\n",
      "\n",
      "Epoch 21:  90%|█████████ | 18/20 [00:00<00:00, 42.68it/s, loss=-0.32678, drawdown=0.01415]\u001b[A\u001b[A\n",
      "\n",
      "Epoch 21:  95%|█████████▌| 19/20 [00:00<00:00, 42.68it/s, loss=-0.32820, drawdown=0.01427]\u001b[A\u001b[A\n",
      "\n",
      "Epoch 21: 100%|██████████| 20/20 [00:00<00:00, 41.43it/s, loss=-0.32820, drawdown=0.01427]\u001b[A\u001b[A\n",
      "\n",
      "Epoch 21: 100%|██████████| 20/20 [00:00<00:00, 41.43it/s, loss=-0.32605, drawdown=0.01420]\u001b[A\u001b[A\n",
      "\n",
      "Epoch 21: 100%|██████████| 20/20 [00:00<00:00, 41.43it/s, loss=-0.32605, drawdown=0.01420, val_drawdown=0.00996, val_loss=-0.35556]\u001b[A\u001b[A\n",
      "\n",
      "Epoch 21: 100%|██████████| 20/20 [00:00<00:00, 39.47it/s, loss=-0.32605, drawdown=0.01420, val_drawdown=0.00996, val_loss=-0.35556]\u001b[A\u001b[A\n",
      "\n",
      "\n",
      "Epoch 22:   0%|          | 0/20 [00:00<?, ?it/s]\u001b[A\u001b[A\n",
      "\n",
      "Epoch 22:   5%|▌         | 1/20 [00:00<00:00, 52.18it/s, loss=-0.31452, drawdown=0.01535]\u001b[A\u001b[A\n",
      "\n",
      "Epoch 22:  10%|█         | 2/20 [00:00<00:00, 51.72it/s, loss=-0.29143, drawdown=0.01592]\u001b[A\u001b[A\n",
      "\n",
      "Epoch 22:  15%|█▌        | 3/20 [00:00<00:00, 45.69it/s, loss=-0.31428, drawdown=0.01350]\u001b[A\u001b[A\n",
      "\n",
      "Epoch 22:  20%|██        | 4/20 [00:00<00:00, 46.50it/s, loss=-0.32173, drawdown=0.01301]\u001b[A\u001b[A\n",
      "\n",
      "Epoch 22:  25%|██▌       | 5/20 [00:00<00:00, 48.00it/s, loss=-0.32173, drawdown=0.01301]\u001b[A\u001b[A\n",
      "\n",
      "Epoch 22:  25%|██▌       | 5/20 [00:00<00:00, 48.00it/s, loss=-0.32607, drawdown=0.01191]\u001b[A\u001b[A\n",
      "\n",
      "Epoch 22:  30%|███       | 6/20 [00:00<00:00, 48.00it/s, loss=-0.30973, drawdown=0.01351]\u001b[A\u001b[A\n",
      "\n",
      "Epoch 22:  35%|███▌      | 7/20 [00:00<00:00, 48.00it/s, loss=-0.32525, drawdown=0.01323]\u001b[A\u001b[A\n",
      "\n",
      "Epoch 22:  40%|████      | 8/20 [00:00<00:00, 48.00it/s, loss=-0.32888, drawdown=0.01269]\u001b[A\u001b[A\n",
      "\n",
      "Epoch 22:  45%|████▌     | 9/20 [00:00<00:00, 48.00it/s, loss=-0.32889, drawdown=0.01264]\u001b[A\u001b[A\n",
      "\n",
      "Epoch 22:  50%|█████     | 10/20 [00:00<00:00, 48.00it/s, loss=-0.33033, drawdown=0.01259]\u001b[A\u001b[A\n",
      "\n",
      "Epoch 22:  55%|█████▌    | 11/20 [00:00<00:00, 49.79it/s, loss=-0.33033, drawdown=0.01259]\u001b[A\u001b[A\n",
      "\n",
      "Epoch 22:  55%|█████▌    | 11/20 [00:00<00:00, 49.79it/s, loss=-0.33156, drawdown=0.01239]\u001b[A\u001b[A\n",
      "\n",
      "Epoch 22:  60%|██████    | 12/20 [00:00<00:00, 49.79it/s, loss=-0.33300, drawdown=0.01248]\u001b[A\u001b[A\n",
      "\n",
      "Epoch 22:  65%|██████▌   | 13/20 [00:00<00:00, 49.79it/s, loss=-0.33387, drawdown=0.01275]\u001b[A\u001b[A\n",
      "\n",
      "Epoch 22:  70%|███████   | 14/20 [00:00<00:00, 49.79it/s, loss=-0.33261, drawdown=0.01309]\u001b[A\u001b[A\n",
      "\n",
      "Epoch 22:  75%|███████▌  | 15/20 [00:00<00:00, 49.79it/s, loss=-0.33069, drawdown=0.01325]\u001b[A\u001b[A\n",
      "\n",
      "Epoch 22:  80%|████████  | 16/20 [00:00<00:00, 48.03it/s, loss=-0.33069, drawdown=0.01325]\u001b[A\u001b[A\n",
      "\n",
      "Epoch 22:  80%|████████  | 16/20 [00:00<00:00, 48.03it/s, loss=-0.33090, drawdown=0.01361]\u001b[A\u001b[A\n",
      "\n",
      "Epoch 22:  85%|████████▌ | 17/20 [00:00<00:00, 48.03it/s, loss=-0.32417, drawdown=0.01402]\u001b[A\u001b[A\n",
      "\n",
      "Epoch 22:  90%|█████████ | 18/20 [00:00<00:00, 48.03it/s, loss=-0.32367, drawdown=0.01393]\u001b[A\u001b[A\n",
      "\n",
      "Epoch 22:  95%|█████████▌| 19/20 [00:00<00:00, 48.03it/s, loss=-0.32465, drawdown=0.01390]\u001b[A\u001b[A\n",
      "\n",
      "Epoch 22: 100%|██████████| 20/20 [00:00<00:00, 48.03it/s, loss=-0.32474, drawdown=0.01427]\u001b[A\u001b[A\n",
      "\n",
      "Epoch 22: 100%|██████████| 20/20 [00:00<00:00, 48.03it/s, loss=-0.32474, drawdown=0.01427, val_drawdown=0.01032, val_loss=-0.31783]\u001b[A\u001b[A\n",
      "\n",
      "Epoch 22: 100%|██████████| 20/20 [00:00<00:00, 44.48it/s, loss=-0.32474, drawdown=0.01427, val_drawdown=0.01032, val_loss=-0.31783]\u001b[A\u001b[A\n",
      "\n",
      "\n",
      "Epoch 23:   0%|          | 0/20 [00:00<?, ?it/s]\u001b[A\u001b[A\n",
      "\n",
      "Epoch 23:   5%|▌         | 1/20 [00:00<00:00, 54.14it/s, loss=-0.40738, drawdown=0.01167]\u001b[A\u001b[A\n",
      "\n",
      "Epoch 23:  10%|█         | 2/20 [00:00<00:00, 52.80it/s, loss=-0.34897, drawdown=0.01432]\u001b[A\u001b[A\n",
      "\n",
      "Epoch 23:  15%|█▌        | 3/20 [00:00<00:00, 50.32it/s, loss=-0.33802, drawdown=0.01529]\u001b[A\u001b[A\n",
      "\n",
      "Epoch 23:  20%|██        | 4/20 [00:00<00:00, 48.31it/s, loss=-0.34423, drawdown=0.01482]\u001b[A\u001b[A\n",
      "\n",
      "Epoch 23:  25%|██▌       | 5/20 [00:00<00:00, 47.49it/s, loss=-0.34423, drawdown=0.01482]\u001b[A\u001b[A\n",
      "\n",
      "Epoch 23:  25%|██▌       | 5/20 [00:00<00:00, 47.49it/s, loss=-0.34279, drawdown=0.01424]\u001b[A\u001b[A\n",
      "\n",
      "Epoch 23:  30%|███       | 6/20 [00:00<00:00, 47.49it/s, loss=-0.34123, drawdown=0.01362]\u001b[A\u001b[A\n",
      "\n",
      "Epoch 23:  35%|███▌      | 7/20 [00:00<00:00, 47.49it/s, loss=-0.33009, drawdown=0.01462]\u001b[A\u001b[A\n",
      "\n",
      "Epoch 23:  40%|████      | 8/20 [00:00<00:00, 47.49it/s, loss=-0.31990, drawdown=0.01512]\u001b[A\u001b[A\n",
      "\n",
      "Epoch 23:  45%|████▌     | 9/20 [00:00<00:00, 47.49it/s, loss=-0.31971, drawdown=0.01478]\u001b[A\u001b[A\n",
      "\n",
      "Epoch 23:  50%|█████     | 10/20 [00:00<00:00, 44.70it/s, loss=-0.31971, drawdown=0.01478]\u001b[A\u001b[A\n",
      "\n",
      "Epoch 23:  50%|█████     | 10/20 [00:00<00:00, 44.70it/s, loss=-0.32450, drawdown=0.01428]\u001b[A\u001b[A\n",
      "\n",
      "Epoch 23:  55%|█████▌    | 11/20 [00:00<00:00, 44.70it/s, loss=-0.32012, drawdown=0.01404]\u001b[A\u001b[A\n",
      "\n",
      "Epoch 23:  60%|██████    | 12/20 [00:00<00:00, 44.70it/s, loss=-0.31691, drawdown=0.01394]\u001b[A\u001b[A\n",
      "\n",
      "Epoch 23:  65%|██████▌   | 13/20 [00:00<00:00, 44.70it/s, loss=-0.31823, drawdown=0.01400]\u001b[A\u001b[A\n",
      "\n",
      "Epoch 23:  70%|███████   | 14/20 [00:00<00:00, 44.70it/s, loss=-0.32250, drawdown=0.01389]\u001b[A\u001b[A\n",
      "\n",
      "Epoch 23:  75%|███████▌  | 15/20 [00:00<00:00, 46.34it/s, loss=-0.32250, drawdown=0.01389]\u001b[A\u001b[A\n",
      "\n",
      "Epoch 23:  75%|███████▌  | 15/20 [00:00<00:00, 46.34it/s, loss=-0.32186, drawdown=0.01377]\u001b[A\u001b[A\n",
      "\n",
      "Epoch 23:  80%|████████  | 16/20 [00:00<00:00, 46.34it/s, loss=-0.32709, drawdown=0.01366]\u001b[A\u001b[A\n",
      "\n",
      "Epoch 23:  85%|████████▌ | 17/20 [00:00<00:00, 46.34it/s, loss=-0.32874, drawdown=0.01348]\u001b[A\u001b[A\n",
      "\n",
      "Epoch 23:  90%|█████████ | 18/20 [00:00<00:00, 46.34it/s, loss=-0.32461, drawdown=0.01379]\u001b[A\u001b[A\n",
      "\n",
      "Epoch 23:  95%|█████████▌| 19/20 [00:00<00:00, 46.34it/s, loss=-0.32555, drawdown=0.01373]\u001b[A\u001b[A\n",
      "\n",
      "Epoch 23: 100%|██████████| 20/20 [00:00<00:00, 46.25it/s, loss=-0.32555, drawdown=0.01373]\u001b[A\u001b[A\n",
      "\n",
      "Epoch 23: 100%|██████████| 20/20 [00:00<00:00, 46.25it/s, loss=-0.32418, drawdown=0.01404]\u001b[A\u001b[A\n",
      "\n",
      "Epoch 23: 100%|██████████| 20/20 [00:00<00:00, 46.25it/s, loss=-0.32418, drawdown=0.01404, val_drawdown=0.01061, val_loss=-0.27389]\u001b[A\u001b[A\n",
      "\n",
      "Epoch 23: 100%|██████████| 20/20 [00:00<00:00, 42.78it/s, loss=-0.32418, drawdown=0.01404, val_drawdown=0.01061, val_loss=-0.27389]\u001b[A\u001b[A\n",
      "\n",
      "\n",
      "Epoch 24:   0%|          | 0/20 [00:00<?, ?it/s]\u001b[A\u001b[A\n",
      "\n",
      "Epoch 24:   5%|▌         | 1/20 [00:00<00:00, 48.51it/s, loss=-0.26748, drawdown=0.01539]\u001b[A\u001b[A\n",
      "\n",
      "Epoch 24:  10%|█         | 2/20 [00:00<00:00, 45.65it/s, loss=-0.31566, drawdown=0.01662]\u001b[A\u001b[A\n",
      "\n",
      "Epoch 24:  15%|█▌        | 3/20 [00:00<00:00, 44.44it/s, loss=-0.30950, drawdown=0.01559]\u001b[A\u001b[A\n",
      "\n",
      "Epoch 24:  20%|██        | 4/20 [00:00<00:00, 44.72it/s, loss=-0.30504, drawdown=0.01452]\u001b[A\u001b[A\n",
      "\n",
      "Epoch 24:  25%|██▌       | 5/20 [00:00<00:00, 45.60it/s, loss=-0.30504, drawdown=0.01452]\u001b[A\u001b[A\n",
      "\n",
      "Epoch 24:  25%|██▌       | 5/20 [00:00<00:00, 45.60it/s, loss=-0.30903, drawdown=0.01428]\u001b[A\u001b[A\n",
      "\n",
      "Epoch 24:  30%|███       | 6/20 [00:00<00:00, 45.60it/s, loss=-0.31633, drawdown=0.01479]\u001b[A\u001b[A\n",
      "\n",
      "Epoch 24:  35%|███▌      | 7/20 [00:00<00:00, 45.60it/s, loss=-0.31364, drawdown=0.01496]\u001b[A\u001b[A\n",
      "\n",
      "Epoch 24:  40%|████      | 8/20 [00:00<00:00, 45.60it/s, loss=-0.31566, drawdown=0.01503]\u001b[A\u001b[A\n",
      "\n",
      "Epoch 24:  45%|████▌     | 9/20 [00:00<00:00, 45.60it/s, loss=-0.32153, drawdown=0.01444]\u001b[A\u001b[A\n",
      "\n",
      "Epoch 24:  50%|█████     | 10/20 [00:00<00:00, 41.27it/s, loss=-0.32153, drawdown=0.01444]\u001b[A\u001b[A\n",
      "\n",
      "Epoch 24:  50%|█████     | 10/20 [00:00<00:00, 41.27it/s, loss=-0.33220, drawdown=0.01393]\u001b[A\u001b[A\n",
      "\n",
      "Epoch 24:  55%|█████▌    | 11/20 [00:00<00:00, 41.27it/s, loss=-0.32670, drawdown=0.01400]\u001b[A\u001b[A\n",
      "\n",
      "Epoch 24:  60%|██████    | 12/20 [00:00<00:00, 41.27it/s, loss=-0.32147, drawdown=0.01445]\u001b[A\u001b[A\n",
      "\n",
      "Epoch 24:  65%|██████▌   | 13/20 [00:00<00:00, 41.27it/s, loss=-0.31778, drawdown=0.01447]\u001b[A\u001b[A\n",
      "\n",
      "Epoch 24:  70%|███████   | 14/20 [00:00<00:00, 41.27it/s, loss=-0.31889, drawdown=0.01440]\u001b[A\u001b[A\n",
      "\n",
      "Epoch 24:  75%|███████▌  | 15/20 [00:00<00:00, 36.60it/s, loss=-0.31889, drawdown=0.01440]\u001b[A\u001b[A\n",
      "\n",
      "Epoch 24:  75%|███████▌  | 15/20 [00:00<00:00, 36.60it/s, loss=-0.32103, drawdown=0.01443]\u001b[A\u001b[A\n",
      "\n",
      "Epoch 24:  80%|████████  | 16/20 [00:00<00:00, 36.60it/s, loss=-0.32430, drawdown=0.01410]\u001b[A\u001b[A\n",
      "\n",
      "Epoch 24:  85%|████████▌ | 17/20 [00:00<00:00, 36.60it/s, loss=-0.32275, drawdown=0.01417]\u001b[A\u001b[A\n",
      "\n",
      "Epoch 24:  90%|█████████ | 18/20 [00:00<00:00, 36.60it/s, loss=-0.32958, drawdown=0.01387]\u001b[A\u001b[A\n",
      "\n"
     ]
    },
    {
     "name": "stderr",
     "output_type": "stream",
     "text": [
      "Epoch 24:  95%|█████████▌| 19/20 [00:00<00:00, 33.18it/s, loss=-0.32958, drawdown=0.01387]\u001b[A\u001b[A\n",
      "\n",
      "Epoch 24:  95%|█████████▌| 19/20 [00:00<00:00, 33.18it/s, loss=-0.32714, drawdown=0.01404]\u001b[A\u001b[A\n",
      "\n",
      "Epoch 24: 100%|██████████| 20/20 [00:00<00:00, 33.18it/s, loss=-0.32643, drawdown=0.01411]\u001b[A\u001b[A\n",
      "\n",
      "Epoch 24: 100%|██████████| 20/20 [00:00<00:00, 33.18it/s, loss=-0.32643, drawdown=0.01411, val_drawdown=0.00659, val_loss=-0.50171]\u001b[A\u001b[A\n",
      "\n",
      "Epoch 24: 100%|██████████| 20/20 [00:00<00:00, 32.74it/s, loss=-0.32643, drawdown=0.01411, val_drawdown=0.00659, val_loss=-0.50171]\u001b[A\u001b[A\n",
      "\n",
      "\n",
      "Epoch 25:   0%|          | 0/20 [00:00<?, ?it/s]\u001b[A\u001b[A\n",
      "\n",
      "Epoch 25:   5%|▌         | 1/20 [00:00<00:00, 38.43it/s, loss=-0.33278, drawdown=0.01273]\u001b[A\u001b[A\n",
      "\n",
      "Epoch 25:  10%|█         | 2/20 [00:00<00:00, 40.91it/s, loss=-0.32023, drawdown=0.01280]\u001b[A\u001b[A\n",
      "\n",
      "Epoch 25:  15%|█▌        | 3/20 [00:00<00:00, 38.99it/s, loss=-0.30525, drawdown=0.01422]\u001b[A\u001b[A\n",
      "\n",
      "Epoch 25:  20%|██        | 4/20 [00:00<00:00, 37.70it/s, loss=-0.30525, drawdown=0.01422]\u001b[A\u001b[A\n",
      "\n",
      "Epoch 25:  20%|██        | 4/20 [00:00<00:00, 37.70it/s, loss=-0.30640, drawdown=0.01451]\u001b[A\u001b[A\n",
      "\n",
      "Epoch 25:  25%|██▌       | 5/20 [00:00<00:00, 37.70it/s, loss=-0.31443, drawdown=0.01444]\u001b[A\u001b[A\n",
      "\n",
      "Epoch 25:  30%|███       | 6/20 [00:00<00:00, 37.70it/s, loss=-0.31333, drawdown=0.01482]\u001b[A\u001b[A\n",
      "\n",
      "Epoch 25:  35%|███▌      | 7/20 [00:00<00:00, 37.70it/s, loss=-0.31543, drawdown=0.01491]\u001b[A\u001b[A\n",
      "\n",
      "Epoch 25:  40%|████      | 8/20 [00:00<00:00, 38.67it/s, loss=-0.31543, drawdown=0.01491]\u001b[A\u001b[A\n",
      "\n",
      "Epoch 25:  40%|████      | 8/20 [00:00<00:00, 38.67it/s, loss=-0.31538, drawdown=0.01472]\u001b[A\u001b[A\n",
      "\n",
      "Epoch 25:  45%|████▌     | 9/20 [00:00<00:00, 38.67it/s, loss=-0.31523, drawdown=0.01466]\u001b[A\u001b[A\n",
      "\n",
      "Epoch 25:  50%|█████     | 10/20 [00:00<00:00, 38.67it/s, loss=-0.31636, drawdown=0.01478]\u001b[A\u001b[A\n",
      "\n",
      "Epoch 25:  55%|█████▌    | 11/20 [00:00<00:00, 38.67it/s, loss=-0.32410, drawdown=0.01477]\u001b[A\u001b[A\n",
      "\n",
      "Epoch 25:  60%|██████    | 12/20 [00:00<00:00, 38.90it/s, loss=-0.32410, drawdown=0.01477]\u001b[A\u001b[A\n",
      "\n",
      "Epoch 25:  60%|██████    | 12/20 [00:00<00:00, 38.90it/s, loss=-0.33055, drawdown=0.01431]\u001b[A\u001b[A\n",
      "\n",
      "Epoch 25:  65%|██████▌   | 13/20 [00:00<00:00, 38.90it/s, loss=-0.33021, drawdown=0.01437]\u001b[A\u001b[A\n",
      "\n",
      "Epoch 25:  70%|███████   | 14/20 [00:00<00:00, 38.90it/s, loss=-0.33190, drawdown=0.01422]\u001b[A\u001b[A\n",
      "\n",
      "Epoch 25:  75%|███████▌  | 15/20 [00:00<00:00, 38.90it/s, loss=-0.33156, drawdown=0.01423]\u001b[A\u001b[A\n",
      "\n",
      "Epoch 25:  80%|████████  | 16/20 [00:00<00:00, 38.90it/s, loss=-0.32991, drawdown=0.01420]\u001b[A\u001b[A\n",
      "\n",
      "Epoch 25:  85%|████████▌ | 17/20 [00:00<00:00, 40.68it/s, loss=-0.32991, drawdown=0.01420]\u001b[A\u001b[A\n",
      "\n",
      "Epoch 25:  85%|████████▌ | 17/20 [00:00<00:00, 40.68it/s, loss=-0.32808, drawdown=0.01435]\u001b[A\u001b[A\n",
      "\n",
      "Epoch 25:  90%|█████████ | 18/20 [00:00<00:00, 40.68it/s, loss=-0.32754, drawdown=0.01420]\u001b[A\u001b[A\n",
      "\n",
      "Epoch 25:  95%|█████████▌| 19/20 [00:00<00:00, 40.68it/s, loss=-0.32663, drawdown=0.01428]\u001b[A\u001b[A\n",
      "\n",
      "Epoch 25: 100%|██████████| 20/20 [00:00<00:00, 40.68it/s, loss=-0.32679, drawdown=0.01432]\u001b[A\u001b[A\n",
      "\n",
      "Epoch 25: 100%|██████████| 20/20 [00:00<00:00, 40.68it/s, loss=-0.32679, drawdown=0.01432, val_drawdown=0.00532, val_loss=-0.55644]\u001b[A\u001b[A\n",
      "\n",
      "Epoch 25: 100%|██████████| 20/20 [00:00<00:00, 36.97it/s, loss=-0.32679, drawdown=0.01432, val_drawdown=0.00532, val_loss=-0.55644]\u001b[A\u001b[A\n",
      "\n",
      "\n",
      "Epoch 26:   0%|          | 0/20 [00:00<?, ?it/s]\u001b[A\u001b[A\n",
      "\n",
      "Epoch 26:   5%|▌         | 1/20 [00:00<00:00, 46.75it/s, loss=-0.37147, drawdown=0.01448]\u001b[A\u001b[A\n",
      "\n",
      "Epoch 26:  10%|█         | 2/20 [00:00<00:00, 45.78it/s, loss=-0.33230, drawdown=0.01434]\u001b[A\u001b[A\n",
      "\n",
      "Epoch 26:  15%|█▌        | 3/20 [00:00<00:00, 42.11it/s, loss=-0.34602, drawdown=0.01254]\u001b[A\u001b[A\n",
      "\n",
      "Epoch 26:  20%|██        | 4/20 [00:00<00:00, 40.86it/s, loss=-0.32842, drawdown=0.01346]\u001b[A\u001b[A\n",
      "\n",
      "Epoch 26:  25%|██▌       | 5/20 [00:00<00:00, 41.77it/s, loss=-0.32842, drawdown=0.01346]\u001b[A\u001b[A\n",
      "\n",
      "Epoch 26:  25%|██▌       | 5/20 [00:00<00:00, 41.77it/s, loss=-0.32896, drawdown=0.01381]\u001b[A\u001b[A\n",
      "\n",
      "Epoch 26:  30%|███       | 6/20 [00:00<00:00, 41.77it/s, loss=-0.34102, drawdown=0.01391]\u001b[A\u001b[A\n",
      "\n",
      "Epoch 26:  35%|███▌      | 7/20 [00:00<00:00, 41.77it/s, loss=-0.34197, drawdown=0.01357]\u001b[A\u001b[A\n",
      "\n",
      "Epoch 26:  40%|████      | 8/20 [00:00<00:00, 41.77it/s, loss=-0.34465, drawdown=0.01343]\u001b[A\u001b[A\n",
      "\n",
      "Epoch 26:  45%|████▌     | 9/20 [00:00<00:00, 41.77it/s, loss=-0.33751, drawdown=0.01378]\u001b[A\u001b[A\n",
      "\n",
      "Epoch 26:  50%|█████     | 10/20 [00:00<00:00, 38.36it/s, loss=-0.33751, drawdown=0.01378]\u001b[A\u001b[A\n",
      "\n",
      "Epoch 26:  50%|█████     | 10/20 [00:00<00:00, 38.36it/s, loss=-0.33891, drawdown=0.01300]\u001b[A\u001b[A\n",
      "\n",
      "Epoch 26:  55%|█████▌    | 11/20 [00:00<00:00, 38.36it/s, loss=-0.33679, drawdown=0.01334]\u001b[A\u001b[A\n",
      "\n",
      "Epoch 26:  60%|██████    | 12/20 [00:00<00:00, 38.36it/s, loss=-0.33769, drawdown=0.01326]\u001b[A\u001b[A\n",
      "\n",
      "Epoch 26:  65%|██████▌   | 13/20 [00:00<00:00, 38.36it/s, loss=-0.33315, drawdown=0.01356]\u001b[A\u001b[A\n",
      "\n",
      "Epoch 26:  70%|███████   | 14/20 [00:00<00:00, 38.36it/s, loss=-0.33209, drawdown=0.01344]\u001b[A\u001b[A\n",
      "\n",
      "Epoch 26:  75%|███████▌  | 15/20 [00:00<00:00, 41.03it/s, loss=-0.33209, drawdown=0.01344]\u001b[A\u001b[A\n",
      "\n",
      "Epoch 26:  75%|███████▌  | 15/20 [00:00<00:00, 41.03it/s, loss=-0.33103, drawdown=0.01346]\u001b[A\u001b[A\n",
      "\n",
      "Epoch 26:  80%|████████  | 16/20 [00:00<00:00, 41.03it/s, loss=-0.33131, drawdown=0.01395]\u001b[A\u001b[A\n",
      "\n",
      "Epoch 26:  85%|████████▌ | 17/20 [00:00<00:00, 41.03it/s, loss=-0.32828, drawdown=0.01412]\u001b[A\u001b[A\n",
      "\n",
      "Epoch 26:  90%|█████████ | 18/20 [00:00<00:00, 41.03it/s, loss=-0.33056, drawdown=0.01404]\u001b[A\u001b[A\n",
      "\n",
      "Epoch 26:  95%|█████████▌| 19/20 [00:00<00:00, 41.03it/s, loss=-0.33084, drawdown=0.01418]\u001b[A\u001b[A\n",
      "\n",
      "Epoch 26: 100%|██████████| 20/20 [00:00<00:00, 41.73it/s, loss=-0.33084, drawdown=0.01418]\u001b[A\u001b[A\n",
      "\n",
      "Epoch 26: 100%|██████████| 20/20 [00:00<00:00, 41.73it/s, loss=-0.32896, drawdown=0.01419]\u001b[A\u001b[A\n",
      "\n",
      "Epoch 26: 100%|██████████| 20/20 [00:00<00:00, 41.73it/s, loss=-0.32896, drawdown=0.01419, val_drawdown=0.00433, val_loss=-0.59290]\u001b[A\u001b[A\n",
      "\n",
      "Epoch 26: 100%|██████████| 20/20 [00:00<00:00, 38.38it/s, loss=-0.32896, drawdown=0.01419, val_drawdown=0.00433, val_loss=-0.59290]\u001b[A\u001b[A\n",
      "\n",
      "\n",
      "Epoch 27:   0%|          | 0/20 [00:00<?, ?it/s]\u001b[A\u001b[A\n",
      "\n",
      "Epoch 27:   5%|▌         | 1/20 [00:00<00:00, 43.09it/s, loss=-0.27152, drawdown=0.01489]\u001b[A\u001b[A\n",
      "\n",
      "Epoch 27:  10%|█         | 2/20 [00:00<00:00, 39.88it/s, loss=-0.29435, drawdown=0.01628]\u001b[A\u001b[A\n",
      "\n",
      "Epoch 27:  15%|█▌        | 3/20 [00:00<00:00, 40.23it/s, loss=-0.29263, drawdown=0.01681]\u001b[A\u001b[A\n",
      "\n",
      "Epoch 27:  20%|██        | 4/20 [00:00<00:00, 41.73it/s, loss=-0.31250, drawdown=0.01589]\u001b[A\u001b[A\n",
      "\n",
      "Epoch 27:  25%|██▌       | 5/20 [00:00<00:00, 42.97it/s, loss=-0.31250, drawdown=0.01589]\u001b[A\u001b[A\n",
      "\n",
      "Epoch 27:  25%|██▌       | 5/20 [00:00<00:00, 42.97it/s, loss=-0.31973, drawdown=0.01628]\u001b[A\u001b[A\n",
      "\n",
      "Epoch 27:  30%|███       | 6/20 [00:00<00:00, 42.97it/s, loss=-0.30984, drawdown=0.01601]\u001b[A\u001b[A\n",
      "\n",
      "Epoch 27:  35%|███▌      | 7/20 [00:00<00:00, 42.97it/s, loss=-0.30820, drawdown=0.01532]\u001b[A\u001b[A\n",
      "\n",
      "Epoch 27:  40%|████      | 8/20 [00:00<00:00, 42.97it/s, loss=-0.30955, drawdown=0.01580]\u001b[A\u001b[A\n",
      "\n",
      "Epoch 27:  45%|████▌     | 9/20 [00:00<00:00, 42.97it/s, loss=-0.30711, drawdown=0.01615]\u001b[A\u001b[A\n",
      "\n",
      "Epoch 27:  50%|█████     | 10/20 [00:00<00:00, 40.67it/s, loss=-0.30711, drawdown=0.01615]\u001b[A\u001b[A\n",
      "\n",
      "Epoch 27:  50%|█████     | 10/20 [00:00<00:00, 40.67it/s, loss=-0.30756, drawdown=0.01566]\u001b[A\u001b[A\n",
      "\n",
      "Epoch 27:  55%|█████▌    | 11/20 [00:00<00:00, 40.67it/s, loss=-0.31527, drawdown=0.01528]\u001b[A\u001b[A\n",
      "\n",
      "Epoch 27:  60%|██████    | 12/20 [00:00<00:00, 40.67it/s, loss=-0.31746, drawdown=0.01545]\u001b[A\u001b[A\n",
      "\n",
      "Epoch 27:  65%|██████▌   | 13/20 [00:00<00:00, 40.67it/s, loss=-0.31308, drawdown=0.01492]\u001b[A\u001b[A\n",
      "\n",
      "Epoch 27:  70%|███████   | 14/20 [00:00<00:00, 40.67it/s, loss=-0.31389, drawdown=0.01458]\u001b[A\u001b[A\n",
      "\n",
      "Epoch 27:  75%|███████▌  | 15/20 [00:00<00:00, 41.96it/s, loss=-0.31389, drawdown=0.01458]\u001b[A\u001b[A\n",
      "\n",
      "Epoch 27:  75%|███████▌  | 15/20 [00:00<00:00, 41.96it/s, loss=-0.31303, drawdown=0.01448]\u001b[A\u001b[A\n",
      "\n",
      "Epoch 27:  80%|████████  | 16/20 [00:00<00:00, 41.96it/s, loss=-0.31707, drawdown=0.01469]\u001b[A\u001b[A\n",
      "\n",
      "Epoch 27:  85%|████████▌ | 17/20 [00:00<00:00, 41.96it/s, loss=-0.31400, drawdown=0.01495]\u001b[A\u001b[A\n",
      "\n",
      "Epoch 27:  90%|█████████ | 18/20 [00:00<00:00, 41.96it/s, loss=-0.31633, drawdown=0.01495]\u001b[A\u001b[A\n",
      "\n",
      "Epoch 27:  95%|█████████▌| 19/20 [00:00<00:00, 41.96it/s, loss=-0.32222, drawdown=0.01459]\u001b[A\u001b[A\n",
      "\n",
      "Epoch 27: 100%|██████████| 20/20 [00:00<00:00, 41.31it/s, loss=-0.32222, drawdown=0.01459]\u001b[A\u001b[A\n",
      "\n",
      "Epoch 27: 100%|██████████| 20/20 [00:00<00:00, 41.31it/s, loss=-0.32229, drawdown=0.01441]\u001b[A\u001b[A\n",
      "\n",
      "Epoch 27: 100%|██████████| 20/20 [00:00<00:00, 41.31it/s, loss=-0.32229, drawdown=0.01441, val_drawdown=0.00698, val_loss=-0.48754]\u001b[A\u001b[A\n",
      "\n",
      "Epoch 27: 100%|██████████| 20/20 [00:00<00:00, 37.70it/s, loss=-0.32229, drawdown=0.01441, val_drawdown=0.00698, val_loss=-0.48754]\u001b[A\u001b[A\n",
      "\n",
      "\n",
      "Epoch 28:   0%|          | 0/20 [00:00<?, ?it/s]\u001b[A\u001b[A\n",
      "\n",
      "Epoch 28:   5%|▌         | 1/20 [00:00<00:00, 48.13it/s, loss=-0.35164, drawdown=0.01603]\u001b[A\u001b[A\n",
      "\n",
      "Epoch 28:  10%|█         | 2/20 [00:00<00:00, 45.82it/s, loss=-0.33223, drawdown=0.01514]\u001b[A\u001b[A\n",
      "\n",
      "Epoch 28:  15%|█▌        | 3/20 [00:00<00:00, 46.13it/s, loss=-0.34560, drawdown=0.01504]\u001b[A\u001b[A\n",
      "\n",
      "Epoch 28:  20%|██        | 4/20 [00:00<00:00, 46.64it/s, loss=-0.32481, drawdown=0.01608]\u001b[A\u001b[A\n",
      "\n",
      "Epoch 28:  25%|██▌       | 5/20 [00:00<00:00, 46.49it/s, loss=-0.32481, drawdown=0.01608]\u001b[A\u001b[A\n",
      "\n",
      "Epoch 28:  25%|██▌       | 5/20 [00:00<00:00, 46.49it/s, loss=-0.31982, drawdown=0.01546]\u001b[A\u001b[A\n",
      "\n",
      "Epoch 28:  30%|███       | 6/20 [00:00<00:00, 46.49it/s, loss=-0.32020, drawdown=0.01410]\u001b[A\u001b[A\n",
      "\n",
      "Epoch 28:  35%|███▌      | 7/20 [00:00<00:00, 46.49it/s, loss=-0.32090, drawdown=0.01436]\u001b[A\u001b[A\n",
      "\n",
      "Epoch 28:  40%|████      | 8/20 [00:00<00:00, 46.49it/s, loss=-0.32450, drawdown=0.01399]\u001b[A\u001b[A\n",
      "\n",
      "Epoch 28:  45%|████▌     | 9/20 [00:00<00:00, 46.49it/s, loss=-0.31480, drawdown=0.01503]\u001b[A\u001b[A\n",
      "\n",
      "Epoch 28:  50%|█████     | 10/20 [00:00<00:00, 43.23it/s, loss=-0.31480, drawdown=0.01503]\u001b[A\u001b[A\n",
      "\n",
      "Epoch 28:  50%|█████     | 10/20 [00:00<00:00, 43.23it/s, loss=-0.31631, drawdown=0.01525]\u001b[A\u001b[A\n",
      "\n",
      "Epoch 28:  55%|█████▌    | 11/20 [00:00<00:00, 43.23it/s, loss=-0.32038, drawdown=0.01526]\u001b[A\u001b[A\n",
      "\n",
      "Epoch 28:  60%|██████    | 12/20 [00:00<00:00, 43.23it/s, loss=-0.32420, drawdown=0.01546]\u001b[A\u001b[A\n",
      "\n",
      "Epoch 28:  65%|██████▌   | 13/20 [00:00<00:00, 43.23it/s, loss=-0.32837, drawdown=0.01516]\u001b[A\u001b[A\n",
      "\n",
      "Epoch 28:  70%|███████   | 14/20 [00:00<00:00, 43.23it/s, loss=-0.33110, drawdown=0.01500]\u001b[A\u001b[A\n",
      "\n",
      "Epoch 28:  75%|███████▌  | 15/20 [00:00<00:00, 42.63it/s, loss=-0.33110, drawdown=0.01500]\u001b[A\u001b[A\n",
      "\n",
      "Epoch 28:  75%|███████▌  | 15/20 [00:00<00:00, 42.63it/s, loss=-0.32853, drawdown=0.01531]\u001b[A\u001b[A\n",
      "\n",
      "Epoch 28:  80%|████████  | 16/20 [00:00<00:00, 42.63it/s, loss=-0.32530, drawdown=0.01490]\u001b[A\u001b[A\n",
      "\n",
      "Epoch 28:  85%|████████▌ | 17/20 [00:00<00:00, 42.63it/s, loss=-0.32331, drawdown=0.01477]\u001b[A\u001b[A\n",
      "\n",
      "Epoch 28:  90%|█████████ | 18/20 [00:00<00:00, 42.63it/s, loss=-0.32447, drawdown=0.01447]\u001b[A\u001b[A\n",
      "\n",
      "Epoch 28:  95%|█████████▌| 19/20 [00:00<00:00, 42.63it/s, loss=-0.32316, drawdown=0.01423]\u001b[A\u001b[A\n",
      "\n",
      "Epoch 28: 100%|██████████| 20/20 [00:00<00:00, 41.69it/s, loss=-0.32316, drawdown=0.01423]\u001b[A\u001b[A\n",
      "\n",
      "Epoch 28: 100%|██████████| 20/20 [00:00<00:00, 41.69it/s, loss=-0.32394, drawdown=0.01408]\u001b[A\u001b[A\n",
      "\n",
      "Epoch 28: 100%|██████████| 20/20 [00:00<00:00, 41.69it/s, loss=-0.32394, drawdown=0.01408, val_drawdown=0.00848, val_loss=-0.40351]\u001b[A\u001b[A\n",
      "\n",
      "Epoch 28: 100%|██████████| 20/20 [00:00<00:00, 39.39it/s, loss=-0.32394, drawdown=0.01408, val_drawdown=0.00848, val_loss=-0.40351]\u001b[A\u001b[A\n",
      "\n",
      "\n",
      "Epoch 29:   0%|          | 0/20 [00:00<?, ?it/s]\u001b[A\u001b[A\n",
      "\n",
      "Epoch 29:   5%|▌         | 1/20 [00:00<00:00, 46.47it/s, loss=-0.30894, drawdown=0.01883]\u001b[A\u001b[A\n",
      "\n",
      "Epoch 29:  10%|█         | 2/20 [00:00<00:00, 43.64it/s, loss=-0.30046, drawdown=0.01807]\u001b[A\u001b[A\n",
      "\n",
      "Epoch 29:  15%|█▌        | 3/20 [00:00<00:00, 39.12it/s, loss=-0.33695, drawdown=0.01560]\u001b[A\u001b[A\n",
      "\n",
      "Epoch 29:  20%|██        | 4/20 [00:00<00:00, 38.79it/s, loss=-0.33695, drawdown=0.01560]\u001b[A\u001b[A\n",
      "\n",
      "Epoch 29:  20%|██        | 4/20 [00:00<00:00, 38.79it/s, loss=-0.32319, drawdown=0.01591]\u001b[A\u001b[A\n",
      "\n",
      "Epoch 29:  25%|██▌       | 5/20 [00:00<00:00, 38.79it/s, loss=-0.33570, drawdown=0.01477]\u001b[A\u001b[A\n",
      "\n",
      "Epoch 29:  30%|███       | 6/20 [00:00<00:00, 38.79it/s, loss=-0.31971, drawdown=0.01463]\u001b[A\u001b[A\n",
      "\n",
      "Epoch 29:  35%|███▌      | 7/20 [00:00<00:00, 38.79it/s, loss=-0.32017, drawdown=0.01391]\u001b[A\u001b[A\n",
      "\n",
      "Epoch 29:  40%|████      | 8/20 [00:00<00:00, 39.29it/s, loss=-0.32017, drawdown=0.01391]\u001b[A\u001b[A\n",
      "\n",
      "Epoch 29:  40%|████      | 8/20 [00:00<00:00, 39.29it/s, loss=-0.31814, drawdown=0.01470]\u001b[A\u001b[A\n",
      "\n",
      "Epoch 29:  45%|████▌     | 9/20 [00:00<00:00, 39.29it/s, loss=-0.32275, drawdown=0.01486]\u001b[A\u001b[A\n",
      "\n",
      "Epoch 29:  50%|█████     | 10/20 [00:00<00:00, 39.29it/s, loss=-0.32685, drawdown=0.01454]\u001b[A\u001b[A\n",
      "\n",
      "Epoch 29:  55%|█████▌    | 11/20 [00:00<00:00, 39.29it/s, loss=-0.33123, drawdown=0.01439]\u001b[A\u001b[A\n",
      "\n",
      "Epoch 29:  60%|██████    | 12/20 [00:00<00:00, 39.39it/s, loss=-0.33123, drawdown=0.01439]\u001b[A\u001b[A\n",
      "\n",
      "Epoch 29:  60%|██████    | 12/20 [00:00<00:00, 39.39it/s, loss=-0.32810, drawdown=0.01438]\u001b[A\u001b[A\n",
      "\n",
      "Epoch 29:  65%|██████▌   | 13/20 [00:00<00:00, 39.39it/s, loss=-0.32775, drawdown=0.01411]\u001b[A\u001b[A\n",
      "\n",
      "Epoch 29:  70%|███████   | 14/20 [00:00<00:00, 39.39it/s, loss=-0.32822, drawdown=0.01429]\u001b[A\u001b[A\n",
      "\n",
      "Epoch 29:  75%|███████▌  | 15/20 [00:00<00:00, 39.39it/s, loss=-0.32573, drawdown=0.01456]\u001b[A\u001b[A\n",
      "\n",
      "Epoch 29:  80%|████████  | 16/20 [00:00<00:00, 39.27it/s, loss=-0.32573, drawdown=0.01456]\u001b[A\u001b[A\n",
      "\n",
      "Epoch 29:  80%|████████  | 16/20 [00:00<00:00, 39.27it/s, loss=-0.32481, drawdown=0.01445]\u001b[A\u001b[A\n",
      "\n",
      "Epoch 29:  85%|████████▌ | 17/20 [00:00<00:00, 39.27it/s, loss=-0.32133, drawdown=0.01473]\u001b[A\u001b[A\n",
      "\n",
      "Epoch 29:  90%|█████████ | 18/20 [00:00<00:00, 39.27it/s, loss=-0.32376, drawdown=0.01455]\u001b[A\u001b[A\n",
      "\n",
      "Epoch 29:  95%|█████████▌| 19/20 [00:00<00:00, 39.27it/s, loss=-0.32642, drawdown=0.01418]\u001b[A\u001b[A\n",
      "\n",
      "Epoch 29: 100%|██████████| 20/20 [00:00<00:00, 39.27it/s, loss=-0.32582, drawdown=0.01427]\u001b[A\u001b[A\n",
      "\n",
      "Epoch 29: 100%|██████████| 20/20 [00:00<00:00, 39.27it/s, loss=-0.32582, drawdown=0.01427, val_drawdown=0.00804, val_loss=-0.37436]\u001b[A\u001b[A\n",
      "\n",
      "Epoch 29: 100%|██████████| 20/20 [00:00<00:00, 37.26it/s, loss=-0.32582, drawdown=0.01427, val_drawdown=0.00804, val_loss=-0.37436]\u001b[A\u001b[A\n"
     ]
    }
   ],
   "source": [
    "run3 = Run(network3,\n",
    "          loss,\n",
    "          train_dataloader,\n",
    "          val_dataloaders=val_dataloaders,\n",
    "          metrics=metrics,\n",
    "          benchmarks=benchmarks,\n",
    "          device = torch.device(\"cuda:0\"),)\n",
    "          #callbacks=callbacks)\n",
    "\n",
    "history3 = run3.launch(n_epochs=30)"
   ]
  },
  {
   "cell_type": "code",
   "execution_count": 65,
   "id": "individual-paris",
   "metadata": {},
   "outputs": [],
   "source": [
    "max_weight = 0.15\n",
    "force_symmetric = True\n",
    "network = ThorpNet(n_assets, max_weight=max_weight, force_symmetric=force_symmetric)"
   ]
  },
  {
   "cell_type": "code",
   "execution_count": 66,
   "id": "surgical-immigration",
   "metadata": {},
   "outputs": [],
   "source": [
    "#max_weight = 0.20\n",
    "#force_symmetric=True\n",
    "\n",
    "#network = ResampleNetwork(n_assets, force_symmetric=force_symmetric, max_weight=max_weight)"
   ]
  },
  {
   "cell_type": "code",
   "execution_count": 67,
   "id": "increasing-butterfly",
   "metadata": {},
   "outputs": [],
   "source": [
    "#loss = MaximumDrawdown(returns_channel=0) #SharpeRatio(returns_channel=0)\n",
    "#loss = StandardDeviation()\n",
    "loss = SharpeRatio(returns_channel=0)\n",
    "benchmarks = {'1overN': OneOverN()}\n",
    "metrics = {'drawdown': MaximumDrawdown(returns_channel=0), \"sharpe\": SharpeRatio(returns_channel=0)}\n",
    "\n",
    "run = Run(network,\n",
    "          loss,\n",
    "          train_dataloader,\n",
    "          val_dataloaders=val_dataloaders,\n",
    "          metrics=metrics,\n",
    "          benchmarks=benchmarks,\n",
    "          device = torch.device(\"cpu\"),\n",
    "          optimizer=torch.optim.Adam(network.parameters(), lr=0.0001), callbacks=callbacks)"
   ]
  },
  {
   "cell_type": "code",
   "execution_count": 68,
   "id": "impressive-angola",
   "metadata": {},
   "outputs": [
    {
     "name": "stderr",
     "output_type": "stream",
     "text": [
      "\r",
      "Epoch 0:   0%|          | 0/21 [00:00<?, ?it/s]"
     ]
    },
    {
     "name": "stdout",
     "output_type": "stream",
     "text": [
      "model   metric    epoch  dataloader\n",
      "1overN  drawdown  -1     val           0.004\n",
      "        loss      -1     val          -0.298\n",
      "        sharpe    -1     val          -0.298\n"
     ]
    },
    {
     "name": "stderr",
     "output_type": "stream",
     "text": [
      "Epoch 0: 100%|██████████| 21/21 [00:49<00:00,  2.38s/it, loss=-0.32646, drawdown=0.00324, sharpe=-0.32646, val_drawdown=0.00295, val_loss=-0.36429, val_sharpe=-0.36429]\n",
      "Epoch 1: 100%|██████████| 21/21 [00:51<00:00,  2.44s/it, loss=-0.39501, drawdown=0.00262, sharpe=-0.39501, val_drawdown=0.00249, val_loss=-0.42069, val_sharpe=-0.42069]\n",
      "Epoch 2: 100%|██████████| 21/21 [00:51<00:00,  2.47s/it, loss=-0.44500, drawdown=0.00229, sharpe=-0.44500, val_drawdown=0.00222, val_loss=-0.45927, val_sharpe=-0.45927]\n",
      "Epoch 3: 100%|██████████| 21/21 [00:50<00:00,  2.42s/it, loss=-0.47797, drawdown=0.00214, sharpe=-0.47797, val_drawdown=0.00214, val_loss=-0.48148, val_sharpe=-0.48148]\n",
      "Epoch 4: 100%|██████████| 21/21 [00:50<00:00,  2.39s/it, loss=-0.49837, drawdown=0.00207, sharpe=-0.49837, val_drawdown=0.00206, val_loss=-0.49709, val_sharpe=-0.49709]\n",
      "Epoch 5: 100%|██████████| 21/21 [00:51<00:00,  2.47s/it, loss=-0.51484, drawdown=0.00200, sharpe=-0.51484, val_drawdown=0.00199, val_loss=-0.51001, val_sharpe=-0.51001]\n",
      "Epoch 6: 100%|██████████| 21/21 [00:51<00:00,  2.43s/it, loss=-0.52648, drawdown=0.00191, sharpe=-0.52648, val_drawdown=0.00192, val_loss=-0.51898, val_sharpe=-0.51898]\n",
      "Epoch 7: 100%|██████████| 21/21 [00:50<00:00,  2.41s/it, loss=-0.53130, drawdown=0.00189, sharpe=-0.53130, val_drawdown=0.00191, val_loss=-0.52676, val_sharpe=-0.52676]\n",
      "Epoch 8: 100%|██████████| 21/21 [00:52<00:00,  2.49s/it, loss=-0.53637, drawdown=0.00188, sharpe=-0.53637, val_drawdown=0.00188, val_loss=-0.53256, val_sharpe=-0.53256]\n",
      "Epoch 9: 100%|██████████| 21/21 [00:51<00:00,  2.43s/it, loss=-0.54054, drawdown=0.00186, sharpe=-0.54054, val_drawdown=0.00185, val_loss=-0.53770, val_sharpe=-0.53770]\n",
      "Epoch 10: 100%|██████████| 21/21 [00:52<00:00,  2.48s/it, loss=-0.54371, drawdown=0.00186, sharpe=-0.54371, val_drawdown=0.00186, val_loss=-0.54247, val_sharpe=-0.54247]\n",
      "Epoch 11: 100%|██████████| 21/21 [00:51<00:00,  2.43s/it, loss=-0.55176, drawdown=0.00184, sharpe=-0.55176, val_drawdown=0.00183, val_loss=-0.54463, val_sharpe=-0.54463]\n",
      "Epoch 12: 100%|██████████| 21/21 [00:50<00:00,  2.39s/it, loss=-0.55523, drawdown=0.00183, sharpe=-0.55523, val_drawdown=0.00182, val_loss=-0.54663, val_sharpe=-0.54663]\n",
      "Epoch 13: 100%|██████████| 21/21 [00:49<00:00,  2.38s/it, loss=-0.55220, drawdown=0.00184, sharpe=-0.55220, val_drawdown=0.00181, val_loss=-0.54750, val_sharpe=-0.54750]\n",
      "Epoch 14: 100%|██████████| 21/21 [00:51<00:00,  2.45s/it, loss=-0.55890, drawdown=0.00181, sharpe=-0.55890, val_drawdown=0.00180, val_loss=-0.54929, val_sharpe=-0.54929]\n",
      "Epoch 15: 100%|██████████| 21/21 [00:50<00:00,  2.41s/it, loss=-0.55353, drawdown=0.00183, sharpe=-0.55353, val_drawdown=0.00181, val_loss=-0.55069, val_sharpe=-0.55069]\n",
      "Epoch 16: 100%|██████████| 21/21 [00:51<00:00,  2.44s/it, loss=-0.55395, drawdown=0.00184, sharpe=-0.55395, val_drawdown=0.00180, val_loss=-0.55253, val_sharpe=-0.55253]\n",
      "Epoch 17: 100%|██████████| 21/21 [00:53<00:00,  2.54s/it, loss=-0.55617, drawdown=0.00182, sharpe=-0.55617, val_drawdown=0.00179, val_loss=-0.55301, val_sharpe=-0.55301]\n",
      "Epoch 18: 100%|██████████| 21/21 [00:51<00:00,  2.44s/it, loss=-0.56054, drawdown=0.00179, sharpe=-0.56054, val_drawdown=0.00177, val_loss=-0.55481, val_sharpe=-0.55481]\n",
      "Epoch 19: 100%|██████████| 21/21 [00:51<00:00,  2.44s/it, loss=-0.55654, drawdown=0.00184, sharpe=-0.55654, val_drawdown=0.00180, val_loss=-0.55604, val_sharpe=-0.55604]\n",
      "Epoch 20: 100%|██████████| 21/21 [00:52<00:00,  2.52s/it, loss=-0.55553, drawdown=0.00181, sharpe=-0.55553, val_drawdown=0.00178, val_loss=-0.55454, val_sharpe=-0.55454]\n",
      "Epoch 21: 100%|██████████| 21/21 [00:50<00:00,  2.42s/it, loss=-0.55878, drawdown=0.00182, sharpe=-0.55878, val_drawdown=0.00178, val_loss=-0.55477, val_sharpe=-0.55477]\n",
      "Epoch 22: 100%|██████████| 21/21 [00:53<00:00,  2.56s/it, loss=-0.55809, drawdown=0.00180, sharpe=-0.55809, val_drawdown=0.00178, val_loss=-0.55526, val_sharpe=-0.55526]\n"
     ]
    },
    {
     "name": "stdout",
     "output_type": "stream",
     "text": [
      "Training interrupted\n",
      "Training stopped early because there was no improvement in val_loss for 3 epochs\n"
     ]
    }
   ],
   "source": [
    "history = run.launch(n_epochs=150)"
   ]
  },
  {
   "cell_type": "code",
   "execution_count": 112,
   "id": "regulated-filing",
   "metadata": {},
   "outputs": [
    {
     "name": "stderr",
     "output_type": "stream",
     "text": [
      "Epoch 70: 100%|██████████| 4/4 [00:08<00:00,  2.16s/it, loss=0.00012, drawdown=0.00012, sharpe=-0.59324, val_drawdown=0.00015, val_loss=0.00015, val_sharpe=-0.60325]\n",
      "Epoch 71: 100%|██████████| 4/4 [00:08<00:00,  2.06s/it, loss=0.00012, drawdown=0.00012, sharpe=-0.59556, val_drawdown=0.00014, val_loss=0.00014, val_sharpe=-0.60378]\n",
      "Epoch 72: 100%|██████████| 4/4 [00:08<00:00,  2.04s/it, loss=0.00011, drawdown=0.00011, sharpe=-0.59527, val_drawdown=0.00014, val_loss=0.00014, val_sharpe=-0.60503]\n",
      "Epoch 73: 100%|██████████| 4/4 [00:09<00:00,  2.27s/it, loss=0.00011, drawdown=0.00011, sharpe=-0.59798, val_drawdown=0.00014, val_loss=0.00014, val_sharpe=-0.60584]\n",
      "Epoch 74: 100%|██████████| 4/4 [00:08<00:00,  2.10s/it, loss=0.00012, drawdown=0.00012, sharpe=-0.59469, val_drawdown=0.00013, val_loss=0.00013, val_sharpe=-0.60721]\n",
      "Epoch 75: 100%|██████████| 4/4 [00:08<00:00,  2.21s/it, loss=0.00010, drawdown=0.00010, sharpe=-0.59904, val_drawdown=0.00013, val_loss=0.00013, val_sharpe=-0.60827]\n",
      "Epoch 76: 100%|██████████| 4/4 [00:08<00:00,  2.23s/it, loss=0.00010, drawdown=0.00010, sharpe=-0.59830, val_drawdown=0.00013, val_loss=0.00013, val_sharpe=-0.60832]\n",
      "Epoch 77: 100%|██████████| 4/4 [00:07<00:00,  1.94s/it, loss=0.00010, drawdown=0.00010, sharpe=-0.59947, val_drawdown=0.00012, val_loss=0.00012, val_sharpe=-0.60910]\n",
      "Epoch 78: 100%|██████████| 4/4 [00:08<00:00,  2.16s/it, loss=0.00010, drawdown=0.00010, sharpe=-0.59788, val_drawdown=0.00012, val_loss=0.00012, val_sharpe=-0.61077]\n",
      "Epoch 79: 100%|██████████| 4/4 [00:08<00:00,  2.09s/it, loss=0.00010, drawdown=0.00010, sharpe=-0.60116, val_drawdown=0.00012, val_loss=0.00012, val_sharpe=-0.61252]\n",
      "Epoch 80: 100%|██████████| 4/4 [00:08<00:00,  2.21s/it, loss=0.00009, drawdown=0.00009, sharpe=-0.60276, val_drawdown=0.00012, val_loss=0.00012, val_sharpe=-0.61352]\n",
      "Epoch 81: 100%|██████████| 4/4 [00:07<00:00,  1.98s/it, loss=0.00009, drawdown=0.00009, sharpe=-0.60297, val_drawdown=0.00011, val_loss=0.00011, val_sharpe=-0.61416]\n",
      "Epoch 82: 100%|██████████| 4/4 [00:08<00:00,  2.07s/it, loss=0.00009, drawdown=0.00009, sharpe=-0.60469, val_drawdown=0.00011, val_loss=0.00011, val_sharpe=-0.61612]\n",
      "Epoch 83: 100%|██████████| 4/4 [00:08<00:00,  2.11s/it, loss=0.00009, drawdown=0.00009, sharpe=-0.60761, val_drawdown=0.00011, val_loss=0.00011, val_sharpe=-0.61754]\n",
      "Epoch 84: 100%|██████████| 4/4 [00:07<00:00,  1.95s/it, loss=0.00009, drawdown=0.00009, sharpe=-0.60666, val_drawdown=0.00011, val_loss=0.00011, val_sharpe=-0.61795]\n",
      "Epoch 85: 100%|██████████| 4/4 [00:08<00:00,  2.15s/it, loss=0.00010, drawdown=0.00010, sharpe=-0.60530, val_drawdown=0.00011, val_loss=0.00011, val_sharpe=-0.61828]\n",
      "Epoch 86: 100%|██████████| 4/4 [00:08<00:00,  2.08s/it, loss=0.00009, drawdown=0.00009, sharpe=-0.60515, val_drawdown=0.00010, val_loss=0.00010, val_sharpe=-0.61853]\n",
      "Epoch 87: 100%|██████████| 4/4 [00:08<00:00,  2.05s/it, loss=0.00009, drawdown=0.00009, sharpe=-0.60713, val_drawdown=0.00010, val_loss=0.00010, val_sharpe=-0.61868]\n",
      "Epoch 88: 100%|██████████| 4/4 [00:08<00:00,  2.14s/it, loss=0.00008, drawdown=0.00008, sharpe=-0.60726, val_drawdown=0.00010, val_loss=0.00010, val_sharpe=-0.61958]\n",
      "Epoch 89: 100%|██████████| 4/4 [00:08<00:00,  2.01s/it, loss=0.00009, drawdown=0.00009, sharpe=-0.60836, val_drawdown=0.00010, val_loss=0.00010, val_sharpe=-0.62008]\n"
     ]
    }
   ],
   "source": [
    "history = run.launch(n_epochs=20)"
   ]
  },
  {
   "cell_type": "code",
   "execution_count": null,
   "id": "discrete-brazilian",
   "metadata": {},
   "outputs": [],
   "source": []
  },
  {
   "cell_type": "code",
   "execution_count": 25,
   "id": "fallen-washington",
   "metadata": {},
   "outputs": [
    {
     "name": "stderr",
     "output_type": "stream",
     "text": [
      "\r",
      "Epoch 0:   0%|          | 0/13 [00:00<?, ?it/s]"
     ]
    },
    {
     "name": "stdout",
     "output_type": "stream",
     "text": [
      "model   metric    epoch  dataloader\n",
      "1overN  drawdown  -1     val           0.003\n",
      "        loss      -1     val          -0.379\n"
     ]
    },
    {
     "name": "stderr",
     "output_type": "stream",
     "text": [
      "Epoch 0: 100%|██████████| 13/13 [00:25<00:00,  1.93s/it, loss=-0.39374, drawdown=0.00297, val_drawdown=0.00256, val_loss=-0.43193]\n",
      "Epoch 1: 100%|██████████| 13/13 [00:25<00:00,  1.94s/it, loss=-0.44499, drawdown=0.00239, val_drawdown=0.00217, val_loss=-0.48255]\n",
      "Epoch 2: 100%|██████████| 13/13 [00:25<00:00,  1.98s/it, loss=-0.49400, drawdown=0.00210, val_drawdown=0.00197, val_loss=-0.52746]\n",
      "Epoch 3: 100%|██████████| 13/13 [00:25<00:00,  1.96s/it, loss=-0.53436, drawdown=0.00193, val_drawdown=0.00180, val_loss=-0.56610]\n",
      "Epoch 4: 100%|██████████| 13/13 [00:26<00:00,  2.02s/it, loss=-0.56745, drawdown=0.00178, val_drawdown=0.00170, val_loss=-0.59392]\n",
      "Epoch 5: 100%|██████████| 13/13 [00:26<00:00,  2.06s/it, loss=-0.59034, drawdown=0.00169, val_drawdown=0.00164, val_loss=-0.61566]\n",
      "Epoch 6: 100%|██████████| 13/13 [00:25<00:00,  1.98s/it, loss=-0.60965, drawdown=0.00165, val_drawdown=0.00161, val_loss=-0.63247]\n",
      "Epoch 7: 100%|██████████| 13/13 [00:25<00:00,  1.94s/it, loss=-0.62336, drawdown=0.00163, val_drawdown=0.00159, val_loss=-0.64542]\n",
      "Epoch 8: 100%|██████████| 13/13 [00:24<00:00,  1.90s/it, loss=-0.63462, drawdown=0.00159, val_drawdown=0.00155, val_loss=-0.65495]\n",
      "Epoch 9: 100%|██████████| 13/13 [00:25<00:00,  1.92s/it, loss=-0.64464, drawdown=0.00154, val_drawdown=0.00151, val_loss=-0.66213]\n",
      "Epoch 10: 100%|██████████| 13/13 [00:25<00:00,  1.95s/it, loss=-0.64968, drawdown=0.00153, val_drawdown=0.00149, val_loss=-0.66734]\n",
      "Epoch 11: 100%|██████████| 13/13 [00:26<00:00,  2.02s/it, loss=-0.65517, drawdown=0.00151, val_drawdown=0.00149, val_loss=-0.67096]\n",
      "Epoch 12: 100%|██████████| 13/13 [00:25<00:00,  1.96s/it, loss=-0.65679, drawdown=0.00152, val_drawdown=0.00149, val_loss=-0.67387]\n",
      "Epoch 13: 100%|██████████| 13/13 [00:25<00:00,  1.95s/it, loss=-0.66149, drawdown=0.00150, val_drawdown=0.00147, val_loss=-0.67588]\n",
      "Epoch 14: 100%|██████████| 13/13 [00:25<00:00,  1.94s/it, loss=-0.66278, drawdown=0.00149, val_drawdown=0.00146, val_loss=-0.67800]\n",
      "Epoch 15: 100%|██████████| 13/13 [00:25<00:00,  1.98s/it, loss=-0.66433, drawdown=0.00150, val_drawdown=0.00146, val_loss=-0.67957]\n",
      "Epoch 16: 100%|██████████| 13/13 [00:25<00:00,  1.96s/it, loss=-0.66488, drawdown=0.00150, val_drawdown=0.00146, val_loss=-0.68110]\n",
      "Epoch 17: 100%|██████████| 13/13 [00:26<00:00,  2.04s/it, loss=-0.66765, drawdown=0.00150, val_drawdown=0.00147, val_loss=-0.68219]\n",
      "Epoch 18: 100%|██████████| 13/13 [00:26<00:00,  2.02s/it, loss=-0.66768, drawdown=0.00149, val_drawdown=0.00146, val_loss=-0.68374]\n",
      "Epoch 19: 100%|██████████| 13/13 [00:26<00:00,  2.04s/it, loss=-0.66806, drawdown=0.00149, val_drawdown=0.00145, val_loss=-0.68437]\n",
      "Epoch 20: 100%|██████████| 13/13 [00:25<00:00,  1.93s/it, loss=-0.66745, drawdown=0.00149, val_drawdown=0.00145, val_loss=-0.68500]\n",
      "Epoch 21: 100%|██████████| 13/13 [00:25<00:00,  1.98s/it, loss=-0.66855, drawdown=0.00149, val_drawdown=0.00145, val_loss=-0.68610]\n",
      "Epoch 22: 100%|██████████| 13/13 [00:25<00:00,  1.98s/it, loss=-0.66975, drawdown=0.00149, val_drawdown=0.00145, val_loss=-0.68704]\n",
      "Epoch 23: 100%|██████████| 13/13 [00:26<00:00,  2.06s/it, loss=-0.67301, drawdown=0.00149, val_drawdown=0.00146, val_loss=-0.68790]\n",
      "Epoch 24: 100%|██████████| 13/13 [00:26<00:00,  2.05s/it, loss=-0.67021, drawdown=0.00150, val_drawdown=0.00145, val_loss=-0.68847]\n",
      "Epoch 25: 100%|██████████| 13/13 [00:27<00:00,  2.12s/it, loss=-0.67210, drawdown=0.00149, val_drawdown=0.00145, val_loss=-0.68920]\n",
      "Epoch 26: 100%|██████████| 13/13 [00:25<00:00,  1.99s/it, loss=-0.67003, drawdown=0.00149, val_drawdown=0.00145, val_loss=-0.68935]\n",
      "Epoch 27: 100%|██████████| 13/13 [00:26<00:00,  2.03s/it, loss=-0.67439, drawdown=0.00150, val_drawdown=0.00146, val_loss=-0.69039]\n",
      "Epoch 28: 100%|██████████| 13/13 [00:25<00:00,  1.96s/it, loss=-0.67467, drawdown=0.00149, val_drawdown=0.00145, val_loss=-0.69079]\n",
      "Epoch 29: 100%|██████████| 13/13 [00:25<00:00,  1.98s/it, loss=-0.67510, drawdown=0.00149, val_drawdown=0.00146, val_loss=-0.69149]\n",
      "Epoch 30: 100%|██████████| 13/13 [00:26<00:00,  2.05s/it, loss=-0.67260, drawdown=0.00150, val_drawdown=0.00145, val_loss=-0.69181]\n",
      "Epoch 31: 100%|██████████| 13/13 [00:24<00:00,  1.87s/it, loss=-0.67531, drawdown=0.00149, val_drawdown=0.00145, val_loss=-0.69202]\n",
      "Epoch 32: 100%|██████████| 13/13 [00:26<00:00,  2.02s/it, loss=-0.67547, drawdown=0.00150, val_drawdown=0.00145, val_loss=-0.69237]\n",
      "Epoch 33: 100%|██████████| 13/13 [00:24<00:00,  1.90s/it, loss=-0.67683, drawdown=0.00148, val_drawdown=0.00144, val_loss=-0.69195]\n",
      "Epoch 34: 100%|██████████| 13/13 [00:26<00:00,  2.04s/it, loss=-0.67511, drawdown=0.00149, val_drawdown=0.00145, val_loss=-0.69266]\n",
      "Epoch 35: 100%|██████████| 13/13 [00:26<00:00,  2.00s/it, loss=-0.67512, drawdown=0.00150, val_drawdown=0.00145, val_loss=-0.69308]\n",
      "Epoch 36: 100%|██████████| 13/13 [00:25<00:00,  1.96s/it, loss=-0.67548, drawdown=0.00150, val_drawdown=0.00146, val_loss=-0.69339]\n",
      "Epoch 37: 100%|██████████| 13/13 [00:25<00:00,  1.97s/it, loss=-0.67683, drawdown=0.00149, val_drawdown=0.00146, val_loss=-0.69329]\n",
      "Epoch 38: 100%|██████████| 13/13 [00:26<00:00,  2.03s/it, loss=-0.67564, drawdown=0.00149, val_drawdown=0.00145, val_loss=-0.69345]\n",
      "Epoch 39: 100%|██████████| 13/13 [00:26<00:00,  2.05s/it, loss=-0.67779, drawdown=0.00149, val_drawdown=0.00146, val_loss=-0.69449]\n",
      "Epoch 40: 100%|██████████| 13/13 [00:26<00:00,  2.05s/it, loss=-0.67472, drawdown=0.00151, val_drawdown=0.00146, val_loss=-0.69396]\n",
      "Epoch 41: 100%|██████████| 13/13 [00:26<00:00,  2.02s/it, loss=-0.67513, drawdown=0.00151, val_drawdown=0.00145, val_loss=-0.69400]\n",
      "Epoch 42: 100%|██████████| 13/13 [00:25<00:00,  1.98s/it, loss=-0.67855, drawdown=0.00149, val_drawdown=0.00145, val_loss=-0.69403]\n"
     ]
    },
    {
     "name": "stdout",
     "output_type": "stream",
     "text": [
      "Training interrupted\n",
      "Training stopped early because there was no improvement in val_loss for 3 epochs\n"
     ]
    }
   ],
   "source": [
    "history = run.launch(n_epochs=100)"
   ]
  },
  {
   "cell_type": "code",
   "execution_count": 279,
   "id": "european-relationship",
   "metadata": {},
   "outputs": [
    {
     "name": "stderr",
     "output_type": "stream",
     "text": [
      "\r",
      "Epoch 0:   0%|          | 0/3 [00:00<?, ?it/s]"
     ]
    },
    {
     "name": "stdout",
     "output_type": "stream",
     "text": [
      "model   metric    epoch  dataloader\n",
      "1overN  drawdown  -1     val           0.001\n",
      "        loss      -1     val          -0.596\n"
     ]
    },
    {
     "name": "stderr",
     "output_type": "stream",
     "text": [
      "Epoch 0: 100%|██████████| 3/3 [00:01<00:00,  1.95it/s, loss=-0.69988, drawdown=0.00058, val_drawdown=0.00102, val_loss=-0.61289]\n",
      "Epoch 1: 100%|██████████| 3/3 [00:01<00:00,  2.10it/s, loss=-0.71816, drawdown=0.00056, val_drawdown=0.00100, val_loss=-0.62891]\n",
      "Epoch 2: 100%|██████████| 3/3 [00:01<00:00,  1.92it/s, loss=-0.71127, drawdown=0.00059, val_drawdown=0.00097, val_loss=-0.64474]\n",
      "Epoch 3: 100%|██████████| 3/3 [00:01<00:00,  1.98it/s, loss=-0.71663, drawdown=0.00059, val_drawdown=0.00095, val_loss=-0.66051]\n",
      "Epoch 4: 100%|██████████| 3/3 [00:01<00:00,  1.84it/s, loss=-0.65775, drawdown=0.00088, val_drawdown=0.00093, val_loss=-0.67603]\n",
      "Epoch 5: 100%|██████████| 3/3 [00:01<00:00,  1.77it/s, loss=-0.74993, drawdown=0.00055, val_drawdown=0.00091, val_loss=-0.69124]\n",
      "Epoch 6: 100%|██████████| 3/3 [00:01<00:00,  1.81it/s, loss=-0.70154, drawdown=0.00083, val_drawdown=0.00088, val_loss=-0.70617]\n",
      "Epoch 7: 100%|██████████| 3/3 [00:01<00:00,  1.97it/s, loss=-0.79586, drawdown=0.00046, val_drawdown=0.00086, val_loss=-0.72090]\n",
      "Epoch 8: 100%|██████████| 3/3 [00:01<00:00,  2.04it/s, loss=-0.80033, drawdown=0.00050, val_drawdown=0.00083, val_loss=-0.73476]\n",
      "Epoch 9: 100%|██████████| 3/3 [00:01<00:00,  1.87it/s, loss=-0.76656, drawdown=0.00048, val_drawdown=0.00081, val_loss=-0.74772]\n",
      "Epoch 10: 100%|██████████| 3/3 [00:01<00:00,  2.09it/s, loss=-0.80284, drawdown=0.00043, val_drawdown=0.00079, val_loss=-0.76002]\n",
      "Epoch 11: 100%|██████████| 3/3 [00:01<00:00,  1.95it/s, loss=-0.71615, drawdown=0.00074, val_drawdown=0.00078, val_loss=-0.77115]\n",
      "Epoch 12: 100%|██████████| 3/3 [00:01<00:00,  2.04it/s, loss=-0.87319, drawdown=0.00037, val_drawdown=0.00076, val_loss=-0.78122]\n",
      "Epoch 13: 100%|██████████| 3/3 [00:01<00:00,  1.93it/s, loss=-0.87683, drawdown=0.00037, val_drawdown=0.00074, val_loss=-0.79049]\n",
      "Epoch 14: 100%|██████████| 3/3 [00:01<00:00,  1.88it/s, loss=-0.73681, drawdown=0.00070, val_drawdown=0.00073, val_loss=-0.79908]\n",
      "Epoch 15: 100%|██████████| 3/3 [00:01<00:00,  1.68it/s, loss=-0.86713, drawdown=0.00043, val_drawdown=0.00071, val_loss=-0.80696]\n",
      "Epoch 16: 100%|██████████| 3/3 [00:01<00:00,  2.02it/s, loss=-0.77439, drawdown=0.00068, val_drawdown=0.00070, val_loss=-0.81438]\n",
      "Epoch 17: 100%|██████████| 3/3 [00:01<00:00,  1.80it/s, loss=-0.84646, drawdown=0.00062, val_drawdown=0.00069, val_loss=-0.82174]\n",
      "Epoch 18: 100%|██████████| 3/3 [00:01<00:00,  1.85it/s, loss=-0.84532, drawdown=0.00042, val_drawdown=0.00067, val_loss=-0.82929]\n",
      "Epoch 19: 100%|██████████| 3/3 [00:01<00:00,  1.94it/s, loss=-0.79315, drawdown=0.00066, val_drawdown=0.00065, val_loss=-0.83655]\n",
      "Epoch 20: 100%|██████████| 3/3 [00:01<00:00,  1.86it/s, loss=-0.76603, drawdown=0.00065, val_drawdown=0.00062, val_loss=-0.84313]\n",
      "Epoch 21: 100%|██████████| 3/3 [00:01<00:00,  1.74it/s, loss=-0.90082, drawdown=0.00039, val_drawdown=0.00061, val_loss=-0.84889]\n",
      "Epoch 22: 100%|██████████| 3/3 [00:01<00:00,  2.40it/s, loss=-0.93293, drawdown=0.00030, val_drawdown=0.00060, val_loss=-0.85391]\n",
      "Epoch 23: 100%|██████████| 3/3 [00:01<00:00,  2.03it/s, loss=-0.84437, drawdown=0.00050, val_drawdown=0.00058, val_loss=-0.85858]\n",
      "Epoch 24: 100%|██████████| 3/3 [00:01<00:00,  1.77it/s, loss=-0.84928, drawdown=0.00049, val_drawdown=0.00057, val_loss=-0.86351]\n",
      "Epoch 25: 100%|██████████| 3/3 [00:01<00:00,  1.90it/s, loss=-0.85051, drawdown=0.00047, val_drawdown=0.00055, val_loss=-0.86838]\n",
      "Epoch 26: 100%|██████████| 3/3 [00:01<00:00,  1.53it/s, loss=-0.94767, drawdown=0.00027, val_drawdown=0.00053, val_loss=-0.87279]\n",
      "Epoch 27: 100%|██████████| 3/3 [00:01<00:00,  2.24it/s, loss=-0.95126, drawdown=0.00027, val_drawdown=0.00052, val_loss=-0.87628]\n",
      "Epoch 28: 100%|██████████| 3/3 [00:01<00:00,  2.08it/s, loss=-0.92521, drawdown=0.00038, val_drawdown=0.00051, val_loss=-0.87912]\n",
      "Epoch 29: 100%|██████████| 3/3 [00:01<00:00,  2.23it/s, loss=-0.82636, drawdown=0.00059, val_drawdown=0.00051, val_loss=-0.88167]\n",
      "Epoch 30: 100%|██████████| 3/3 [00:01<00:00,  2.05it/s, loss=-0.87294, drawdown=0.00043, val_drawdown=0.00050, val_loss=-0.88429]\n",
      "Epoch 31: 100%|██████████| 3/3 [00:01<00:00,  1.72it/s, loss=-0.93254, drawdown=0.00027, val_drawdown=0.00049, val_loss=-0.88678]\n",
      "Epoch 32: 100%|██████████| 3/3 [00:01<00:00,  1.86it/s, loss=-0.89864, drawdown=0.00039, val_drawdown=0.00048, val_loss=-0.88893]\n",
      "Epoch 33: 100%|██████████| 3/3 [00:01<00:00,  1.84it/s, loss=-0.93665, drawdown=0.00038, val_drawdown=0.00047, val_loss=-0.89131]\n",
      "Epoch 34: 100%|██████████| 3/3 [00:02<00:00,  1.48it/s, loss=-0.87911, drawdown=0.00042, val_drawdown=0.00047, val_loss=-0.89339]\n",
      "Epoch 35: 100%|██████████| 3/3 [00:01<00:00,  1.65it/s, loss=-0.88609, drawdown=0.00041, val_drawdown=0.00046, val_loss=-0.89554]\n",
      "Epoch 36: 100%|██████████| 3/3 [00:01<00:00,  1.84it/s, loss=-0.93491, drawdown=0.00038, val_drawdown=0.00047, val_loss=-0.89751]\n",
      "Epoch 37: 100%|██████████| 3/3 [00:01<00:00,  1.85it/s, loss=-0.85179, drawdown=0.00041, val_drawdown=0.00047, val_loss=-0.89930]\n",
      "Epoch 38: 100%|██████████| 3/3 [00:01<00:00,  2.17it/s, loss=-0.80554, drawdown=0.00058, val_drawdown=0.00047, val_loss=-0.90107]\n",
      "Epoch 39: 100%|██████████| 3/3 [00:01<00:00,  1.81it/s, loss=-0.97460, drawdown=0.00027, val_drawdown=0.00047, val_loss=-0.90261]\n",
      "Epoch 40: 100%|██████████| 3/3 [00:01<00:00,  2.19it/s, loss=-0.85794, drawdown=0.00040, val_drawdown=0.00047, val_loss=-0.90392]\n",
      "Epoch 41: 100%|██████████| 3/3 [00:01<00:00,  1.83it/s, loss=-0.96225, drawdown=0.00027, val_drawdown=0.00047, val_loss=-0.90510]\n",
      "Epoch 42: 100%|██████████| 3/3 [00:01<00:00,  1.82it/s, loss=-0.91404, drawdown=0.00040, val_drawdown=0.00048, val_loss=-0.90606]\n",
      "Epoch 43: 100%|██████████| 3/3 [00:01<00:00,  2.26it/s, loss=-0.89568, drawdown=0.00040, val_drawdown=0.00048, val_loss=-0.90732]\n",
      "Epoch 44: 100%|██████████| 3/3 [00:01<00:00,  2.45it/s, loss=-0.91809, drawdown=0.00040, val_drawdown=0.00048, val_loss=-0.90867]\n",
      "Epoch 45: 100%|██████████| 3/3 [00:01<00:00,  2.13it/s, loss=-0.89917, drawdown=0.00041, val_drawdown=0.00049, val_loss=-0.91005]\n",
      "Epoch 46: 100%|██████████| 3/3 [00:01<00:00,  1.83it/s, loss=-0.94281, drawdown=0.00042, val_drawdown=0.00049, val_loss=-0.91130]\n",
      "Epoch 47: 100%|██████████| 3/3 [00:01<00:00,  1.69it/s, loss=-0.85412, drawdown=0.00057, val_drawdown=0.00049, val_loss=-0.91246]\n",
      "Epoch 48: 100%|██████████| 3/3 [00:01<00:00,  1.72it/s, loss=-0.94314, drawdown=0.00030, val_drawdown=0.00049, val_loss=-0.91360]\n",
      "Epoch 49: 100%|██████████| 3/3 [00:01<00:00,  1.71it/s, loss=-0.98248, drawdown=0.00030, val_drawdown=0.00049, val_loss=-0.91440]\n",
      "Epoch 50: 100%|██████████| 3/3 [00:01<00:00,  1.74it/s, loss=-0.85751, drawdown=0.00057, val_drawdown=0.00049, val_loss=-0.91500]\n",
      "Epoch 51: 100%|██████████| 3/3 [00:01<00:00,  1.89it/s, loss=-0.91139, drawdown=0.00041, val_drawdown=0.00049, val_loss=-0.91576]\n",
      "Epoch 52: 100%|██████████| 3/3 [00:01<00:00,  2.19it/s, loss=-0.90708, drawdown=0.00042, val_drawdown=0.00049, val_loss=-0.91654]\n",
      "Epoch 53: 100%|██████████| 3/3 [00:01<00:00,  2.05it/s, loss=-0.98127, drawdown=0.00030, val_drawdown=0.00049, val_loss=-0.91724]\n",
      "Epoch 54: 100%|██████████| 3/3 [00:01<00:00,  1.68it/s, loss=-0.93476, drawdown=0.00042, val_drawdown=0.00050, val_loss=-0.91790]\n",
      "Epoch 55: 100%|██████████| 3/3 [00:01<00:00,  1.93it/s, loss=-0.94785, drawdown=0.00043, val_drawdown=0.00050, val_loss=-0.91886]\n",
      "Epoch 56: 100%|██████████| 3/3 [00:02<00:00,  1.44it/s, loss=-0.94164, drawdown=0.00031, val_drawdown=0.00050, val_loss=-0.91966]\n",
      "Epoch 57: 100%|██████████| 3/3 [00:01<00:00,  1.71it/s, loss=-0.98914, drawdown=0.00031, val_drawdown=0.00050, val_loss=-0.92004]\n",
      "Epoch 58: 100%|██████████| 3/3 [00:01<00:00,  1.64it/s, loss=-0.95759, drawdown=0.00043, val_drawdown=0.00050, val_loss=-0.92026]\n",
      "Epoch 59: 100%|██████████| 3/3 [00:01<00:00,  2.68it/s, loss=-0.98668, drawdown=0.00031, val_drawdown=0.00050, val_loss=-0.92037]\n",
      "Epoch 60: 100%|██████████| 3/3 [00:01<00:00,  2.07it/s, loss=-0.92952, drawdown=0.00043, val_drawdown=0.00050, val_loss=-0.92049]\n",
      "Epoch 61: 100%|██████████| 3/3 [00:01<00:00,  1.77it/s, loss=-0.98999, drawdown=0.00031, val_drawdown=0.00050, val_loss=-0.92083]\n",
      "Epoch 62: 100%|██████████| 3/3 [00:01<00:00,  1.88it/s, loss=-0.95003, drawdown=0.00031, val_drawdown=0.00051, val_loss=-0.92090]\n",
      "Epoch 63: 100%|██████████| 3/3 [00:01<00:00,  1.91it/s, loss=-0.99357, drawdown=0.00031, val_drawdown=0.00051, val_loss=-0.92073]\n",
      "Epoch 64: 100%|██████████| 3/3 [00:01<00:00,  1.85it/s, loss=-0.93393, drawdown=0.00045, val_drawdown=0.00051, val_loss=-0.92066]\n",
      "Epoch 65: 100%|██████████| 3/3 [00:01<00:00,  1.78it/s, loss=-0.91300, drawdown=0.00045, val_drawdown=0.00051, val_loss=-0.92107]\n",
      "Epoch 66: 100%|██████████| 3/3 [00:01<00:00,  2.05it/s, loss=-0.95776, drawdown=0.00031, val_drawdown=0.00052, val_loss=-0.92158]\n",
      "Epoch 67: 100%|██████████| 3/3 [00:01<00:00,  1.95it/s, loss=-0.91433, drawdown=0.00045, val_drawdown=0.00052, val_loss=-0.92197]\n",
      "Epoch 68: 100%|██████████| 3/3 [00:01<00:00,  1.96it/s, loss=-1.00406, drawdown=0.00032, val_drawdown=0.00052, val_loss=-0.92239]\n",
      "Epoch 69: 100%|██████████| 3/3 [00:01<00:00,  2.07it/s, loss=-1.00511, drawdown=0.00032, val_drawdown=0.00052, val_loss=-0.92248]\n",
      "Epoch 70: 100%|██████████| 3/3 [00:01<00:00,  1.84it/s, loss=-0.99063, drawdown=0.00032, val_drawdown=0.00053, val_loss=-0.92225]\n",
      "Epoch 71: 100%|██████████| 3/3 [00:01<00:00,  2.18it/s, loss=-0.97471, drawdown=0.00032, val_drawdown=0.00053, val_loss=-0.92170]\n",
      "Epoch 72: 100%|██████████| 3/3 [00:01<00:00,  1.89it/s, loss=-0.99538, drawdown=0.00033, val_drawdown=0.00053, val_loss=-0.92096]\n",
      "Epoch 73: 100%|██████████| 3/3 [00:01<00:00,  2.02it/s, loss=-0.87296, drawdown=0.00049, val_drawdown=0.00054, val_loss=-0.92033]\n",
      "Epoch 74: 100%|██████████| 3/3 [00:01<00:00,  1.81it/s, loss=-0.91352, drawdown=0.00049, val_drawdown=0.00053, val_loss=-0.92034]\n",
      "Epoch 75: 100%|██████████| 3/3 [00:01<00:00,  1.95it/s, loss=-0.94308, drawdown=0.00050, val_drawdown=0.00053, val_loss=-0.92089]\n",
      "Epoch 76: 100%|██████████| 3/3 [00:01<00:00,  2.20it/s, loss=-1.00668, drawdown=0.00033, val_drawdown=0.00053, val_loss=-0.92167]\n",
      "Epoch 77: 100%|██████████| 3/3 [00:01<00:00,  2.03it/s, loss=-0.93286, drawdown=0.00049, val_drawdown=0.00053, val_loss=-0.92222]\n",
      "Epoch 78: 100%|██████████| 3/3 [00:01<00:00,  2.11it/s, loss=-1.00696, drawdown=0.00033, val_drawdown=0.00053, val_loss=-0.92285]\n",
      "Epoch 79: 100%|██████████| 3/3 [00:01<00:00,  1.86it/s, loss=-0.94458, drawdown=0.00049, val_drawdown=0.00054, val_loss=-0.92330]\n",
      "Epoch 80: 100%|██████████| 3/3 [00:01<00:00,  1.81it/s, loss=-0.93589, drawdown=0.00049, val_drawdown=0.00054, val_loss=-0.92414]\n",
      "Epoch 81: 100%|██████████| 3/3 [00:01<00:00,  1.75it/s, loss=-0.86188, drawdown=0.00060, val_drawdown=0.00054, val_loss=-0.92511]\n",
      "Epoch 82: 100%|██████████| 3/3 [00:01<00:00,  2.16it/s, loss=-0.97235, drawdown=0.00049, val_drawdown=0.00054, val_loss=-0.92618]\n",
      "Epoch 83: 100%|██████████| 3/3 [00:01<00:00,  1.67it/s, loss=-1.01101, drawdown=0.00033, val_drawdown=0.00053, val_loss=-0.92691]\n",
      "Epoch 84: 100%|██████████| 3/3 [00:01<00:00,  1.80it/s, loss=-0.83366, drawdown=0.00060, val_drawdown=0.00053, val_loss=-0.92741]\n",
      "Epoch 85: 100%|██████████| 3/3 [00:01<00:00,  2.38it/s, loss=-0.91302, drawdown=0.00049, val_drawdown=0.00053, val_loss=-0.92810]\n",
      "Epoch 86: 100%|██████████| 3/3 [00:01<00:00,  2.19it/s, loss=-1.00873, drawdown=0.00033, val_drawdown=0.00053, val_loss=-0.92866]\n",
      "Epoch 87: 100%|██████████| 3/3 [00:01<00:00,  2.27it/s, loss=-1.00932, drawdown=0.00033, val_drawdown=0.00054, val_loss=-0.92881]\n",
      "Epoch 88: 100%|██████████| 3/3 [00:01<00:00,  1.93it/s, loss=-0.94431, drawdown=0.00050, val_drawdown=0.00054, val_loss=-0.92891]\n",
      "Epoch 89: 100%|██████████| 3/3 [00:01<00:00,  2.14it/s, loss=-1.01089, drawdown=0.00033, val_drawdown=0.00054, val_loss=-0.92931]\n",
      "Epoch 90: 100%|██████████| 3/3 [00:01<00:00,  1.54it/s, loss=-0.87096, drawdown=0.00060, val_drawdown=0.00054, val_loss=-0.92956]\n",
      "Epoch 91: 100%|██████████| 3/3 [00:01<00:00,  2.06it/s, loss=-0.92351, drawdown=0.00050, val_drawdown=0.00054, val_loss=-0.93018]\n",
      "Epoch 92: 100%|██████████| 3/3 [00:01<00:00,  2.36it/s, loss=-1.00349, drawdown=0.00034, val_drawdown=0.00054, val_loss=-0.93062]\n",
      "Epoch 93: 100%|██████████| 3/3 [00:01<00:00,  2.06it/s, loss=-0.94840, drawdown=0.00050, val_drawdown=0.00054, val_loss=-0.93075]\n",
      "Epoch 94: 100%|██████████| 3/3 [00:01<00:00,  1.66it/s, loss=-0.98752, drawdown=0.00034, val_drawdown=0.00054, val_loss=-0.93088]\n",
      "Epoch 95: 100%|██████████| 3/3 [00:01<00:00,  2.07it/s, loss=-1.02007, drawdown=0.00034, val_drawdown=0.00054, val_loss=-0.93063]\n",
      "Epoch 96: 100%|██████████| 3/3 [00:01<00:00,  1.77it/s, loss=-1.01471, drawdown=0.00034, val_drawdown=0.00055, val_loss=-0.93024]\n",
      "Epoch 97: 100%|██████████| 3/3 [00:01<00:00,  2.10it/s, loss=-0.97700, drawdown=0.00053, val_drawdown=0.00055, val_loss=-0.92983]\n",
      "Epoch 98: 100%|██████████| 3/3 [00:01<00:00,  1.87it/s, loss=-0.94587, drawdown=0.00053, val_drawdown=0.00055, val_loss=-0.92985]\n",
      "Epoch 99: 100%|██████████| 3/3 [00:01<00:00,  1.79it/s, loss=-0.94645, drawdown=0.00053, val_drawdown=0.00055, val_loss=-0.93041]\n",
      "Epoch 100: 100%|██████████| 3/3 [00:01<00:00,  1.61it/s, loss=-0.97960, drawdown=0.00052, val_drawdown=0.00054, val_loss=-0.93125]\n",
      "Epoch 101: 100%|██████████| 3/3 [00:01<00:00,  2.18it/s, loss=-1.01772, drawdown=0.00033, val_drawdown=0.00054, val_loss=-0.93176]\n",
      "Epoch 102: 100%|██████████| 3/3 [00:01<00:00,  1.66it/s, loss=-1.02513, drawdown=0.00033, val_drawdown=0.00054, val_loss=-0.93185]\n",
      "Epoch 103: 100%|██████████| 3/3 [00:01<00:00,  1.79it/s, loss=-0.86728, drawdown=0.00059, val_drawdown=0.00054, val_loss=-0.93200]\n",
      "Epoch 104: 100%|██████████| 3/3 [00:01<00:00,  1.72it/s, loss=-0.92129, drawdown=0.00050, val_drawdown=0.00054, val_loss=-0.93258]\n",
      "Epoch 105: 100%|██████████| 3/3 [00:01<00:00,  1.78it/s, loss=-0.98386, drawdown=0.00051, val_drawdown=0.00054, val_loss=-0.93318]\n",
      "Epoch 106: 100%|██████████| 3/3 [00:01<00:00,  1.93it/s, loss=-0.94914, drawdown=0.00051, val_drawdown=0.00054, val_loss=-0.93380]\n",
      "Epoch 107: 100%|██████████| 3/3 [00:01<00:00,  2.12it/s, loss=-0.97939, drawdown=0.00032, val_drawdown=0.00053, val_loss=-0.93447]\n",
      "Epoch 108: 100%|██████████| 3/3 [00:01<00:00,  2.01it/s, loss=-0.99543, drawdown=0.00032, val_drawdown=0.00053, val_loss=-0.93468]\n",
      "Epoch 109: 100%|██████████| 3/3 [00:01<00:00,  1.80it/s, loss=-0.92647, drawdown=0.00049, val_drawdown=0.00053, val_loss=-0.93458]\n",
      "Epoch 110: 100%|██████████| 3/3 [00:01<00:00,  2.01it/s, loss=-0.95302, drawdown=0.00049, val_drawdown=0.00053, val_loss=-0.93478]\n",
      "Epoch 111: 100%|██████████| 3/3 [00:01<00:00,  2.04it/s, loss=-0.98618, drawdown=0.00050, val_drawdown=0.00053, val_loss=-0.93506]\n",
      "Epoch 112: 100%|██████████| 3/3 [00:01<00:00,  1.87it/s, loss=-0.96098, drawdown=0.00050, val_drawdown=0.00053, val_loss=-0.93537]\n",
      "Epoch 113: 100%|██████████| 3/3 [00:01<00:00,  2.12it/s, loss=-0.98696, drawdown=0.00049, val_drawdown=0.00053, val_loss=-0.93588]\n",
      "Epoch 114: 100%|██████████| 3/3 [00:01<00:00,  1.94it/s, loss=-0.92825, drawdown=0.00048, val_drawdown=0.00053, val_loss=-0.93625]\n",
      "Epoch 115: 100%|██████████| 3/3 [00:01<00:00,  1.79it/s, loss=-0.96521, drawdown=0.00048, val_drawdown=0.00053, val_loss=-0.93682]\n",
      "Epoch 116: 100%|██████████| 3/3 [00:01<00:00,  1.91it/s, loss=-0.88634, drawdown=0.00047, val_drawdown=0.00053, val_loss=-0.93756]\n",
      "Epoch 117: 100%|██████████| 3/3 [00:01<00:00,  2.33it/s, loss=-0.95661, drawdown=0.00047, val_drawdown=0.00052, val_loss=-0.93849]\n",
      "Epoch 118: 100%|██████████| 3/3 [00:01<00:00,  2.31it/s, loss=-0.95791, drawdown=0.00047, val_drawdown=0.00052, val_loss=-0.93949]\n",
      "Epoch 119: 100%|██████████| 3/3 [00:01<00:00,  1.55it/s, loss=-0.98938, drawdown=0.00046, val_drawdown=0.00052, val_loss=-0.94035]\n"
     ]
    }
   ],
   "source": [
    "loss = SharpeRatio(returns_channel=0)\n",
    "benchmarks = {'1overN': OneOverN()}\n",
    "metrics = {'drawdown': MaximumDrawdown(returns_channel=0)}\n",
    "\n",
    "run = Run(network,\n",
    "          loss,\n",
    "          train_dataloader,\n",
    "          val_dataloaders=val_dataloaders,\n",
    "          metrics=metrics,\n",
    "          benchmarks=benchmarks,\n",
    "          device = torch.device(\"cpu\"),\n",
    "          optimizer=torch.optim.Adam(network.parameters(), lr=0.0001))\n",
    "#callbacks=callbacks,\n",
    "\n",
    "history = run.launch(n_epochs=120)"
   ]
  },
  {
   "cell_type": "code",
   "execution_count": 117,
   "id": "spoken-format",
   "metadata": {},
   "outputs": [
    {
     "name": "stderr",
     "output_type": "stream",
     "text": [
      "\n",
      "Epoch 0:   0%|          | 0/3 [00:00<?, ?it/s]\u001b[A"
     ]
    },
    {
     "name": "stdout",
     "output_type": "stream",
     "text": [
      "model   metric    epoch  dataloader\n",
      "1overN  drawdown  -1     val           0.002\n",
      "        loss      -1     val          -0.490\n"
     ]
    },
    {
     "name": "stderr",
     "output_type": "stream",
     "text": [
      "Epoch 3:  67%|██████▋   | 2/3 [00:09<00:04,  4.64s/it, loss=-0.56907, drawdown=0.00109]\n",
      "\n",
      "Epoch 0:  33%|███▎      | 1/3 [00:01<00:03,  1.68s/it]\u001b[A\n",
      "Epoch 0:  33%|███▎      | 1/3 [00:01<00:03,  1.68s/it, loss=-0.50405, drawdown=0.00134]\u001b[A\n",
      "Epoch 0:  67%|██████▋   | 2/3 [00:03<00:01,  1.91s/it, loss=-0.50405, drawdown=0.00134]\u001b[A\n",
      "Epoch 0:  67%|██████▋   | 2/3 [00:03<00:01,  1.91s/it, loss=-0.51641, drawdown=0.00123]\u001b[A\n",
      "Epoch 0: 100%|██████████| 3/3 [00:04<00:00,  1.42s/it, loss=-0.51641, drawdown=0.00123]\u001b[A\n",
      "Epoch 0: 100%|██████████| 3/3 [00:04<00:00,  1.42s/it, loss=-0.55213, drawdown=0.00099]\u001b[A\n",
      "Epoch 0: 100%|██████████| 3/3 [00:04<00:00,  1.42s/it, loss=-0.55213, drawdown=0.00099, val_drawdown=0.00150, val_loss=-0.50951]\u001b[A\n",
      "Epoch 0: 100%|██████████| 3/3 [00:04<00:00,  1.61s/it, loss=-0.55213, drawdown=0.00099, val_drawdown=0.00150, val_loss=-0.50951]\u001b[A\n",
      "Epoch 1: 100%|██████████| 3/3 [00:05<00:00,  1.72s/it, loss=-0.57276, drawdown=0.00095, val_drawdown=0.00145, val_loss=-0.52695]\n",
      "Epoch 2: 100%|██████████| 3/3 [00:04<00:00,  1.64s/it, loss=-0.55885, drawdown=0.00130, val_drawdown=0.00139, val_loss=-0.54394]\n",
      "Epoch 3: 100%|██████████| 3/3 [00:04<00:00,  1.53s/it, loss=-0.55965, drawdown=0.00125, val_drawdown=0.00133, val_loss=-0.56097]\n",
      "Epoch 4: 100%|██████████| 3/3 [00:04<00:00,  1.64s/it, loss=-0.60131, drawdown=0.00086, val_drawdown=0.00126, val_loss=-0.57720]\n",
      "Epoch 5: 100%|██████████| 3/3 [00:05<00:00,  1.75s/it, loss=-0.56462, drawdown=0.00113, val_drawdown=0.00120, val_loss=-0.59196]\n",
      "Epoch 6: 100%|██████████| 3/3 [00:05<00:00,  1.75s/it, loss=-0.64572, drawdown=0.00074, val_drawdown=0.00114, val_loss=-0.60604]\n",
      "Epoch 7: 100%|██████████| 3/3 [00:05<00:00,  1.76s/it, loss=-0.58761, drawdown=0.00102, val_drawdown=0.00109, val_loss=-0.61953]\n",
      "Epoch 8: 100%|██████████| 3/3 [00:04<00:00,  1.64s/it, loss=-0.65868, drawdown=0.00067, val_drawdown=0.00105, val_loss=-0.63234]\n",
      "Epoch 9: 100%|██████████| 3/3 [00:04<00:00,  1.61s/it, loss=-0.65735, drawdown=0.00064, val_drawdown=0.00101, val_loss=-0.64389]\n",
      "Epoch 10: 100%|██████████| 3/3 [00:05<00:00,  1.74s/it, loss=-0.65743, drawdown=0.00089, val_drawdown=0.00097, val_loss=-0.65469]\n",
      "Epoch 11: 100%|██████████| 3/3 [00:05<00:00,  1.72s/it, loss=-0.63899, drawdown=0.00090, val_drawdown=0.00093, val_loss=-0.66543]\n",
      "Epoch 12: 100%|██████████| 3/3 [00:04<00:00,  1.62s/it, loss=-0.72630, drawdown=0.00055, val_drawdown=0.00089, val_loss=-0.67547]\n",
      "Epoch 13: 100%|██████████| 3/3 [00:04<00:00,  1.59s/it, loss=-0.67090, drawdown=0.00082, val_drawdown=0.00085, val_loss=-0.68484]\n",
      "Epoch 14: 100%|██████████| 3/3 [00:05<00:00,  1.67s/it, loss=-0.73668, drawdown=0.00052, val_drawdown=0.00082, val_loss=-0.69402]\n",
      "Epoch 15: 100%|██████████| 3/3 [00:04<00:00,  1.66s/it, loss=-0.69946, drawdown=0.00072, val_drawdown=0.00080, val_loss=-0.70283]\n",
      "Epoch 16: 100%|██████████| 3/3 [00:05<00:00,  1.69s/it, loss=-0.76818, drawdown=0.00046, val_drawdown=0.00078, val_loss=-0.71171]\n",
      "Epoch 17: 100%|██████████| 3/3 [00:04<00:00,  1.66s/it, loss=-0.72169, drawdown=0.00070, val_drawdown=0.00077, val_loss=-0.72018]\n",
      "Epoch 18: 100%|██████████| 3/3 [00:04<00:00,  1.51s/it, loss=-0.76358, drawdown=0.00050, val_drawdown=0.00075, val_loss=-0.72873]\n",
      "Epoch 19: 100%|██████████| 3/3 [00:04<00:00,  1.63s/it, loss=-0.73526, drawdown=0.00067, val_drawdown=0.00074, val_loss=-0.73692]\n",
      "Epoch 20: 100%|██████████| 3/3 [00:04<00:00,  1.61s/it, loss=-0.79752, drawdown=0.00040, val_drawdown=0.00073, val_loss=-0.74506]\n",
      "Epoch 21: 100%|██████████| 3/3 [00:05<00:00,  1.69s/it, loss=-0.79563, drawdown=0.00048, val_drawdown=0.00072, val_loss=-0.75255]\n",
      "Epoch 22: 100%|██████████| 3/3 [00:05<00:00,  1.81s/it, loss=-0.81350, drawdown=0.00039, val_drawdown=0.00072, val_loss=-0.75943]\n",
      "Epoch 23: 100%|██████████| 3/3 [00:05<00:00,  1.69s/it, loss=-0.72426, drawdown=0.00072, val_drawdown=0.00071, val_loss=-0.76607]\n",
      "Epoch 24: 100%|██████████| 3/3 [00:05<00:00,  1.90s/it, loss=-0.75212, drawdown=0.00069, val_drawdown=0.00070, val_loss=-0.77315]\n",
      "Epoch 25: 100%|██████████| 3/3 [00:05<00:00,  1.68s/it, loss=-0.76462, drawdown=0.00067, val_drawdown=0.00068, val_loss=-0.78059]\n",
      "Epoch 26: 100%|██████████| 3/3 [00:05<00:00,  1.69s/it, loss=-0.78538, drawdown=0.00061, val_drawdown=0.00066, val_loss=-0.78840]\n",
      "Epoch 27: 100%|██████████| 3/3 [00:05<00:00,  1.77s/it, loss=-0.83804, drawdown=0.00046, val_drawdown=0.00064, val_loss=-0.79621]\n",
      "Epoch 28: 100%|██████████| 3/3 [00:05<00:00,  1.71s/it, loss=-0.80252, drawdown=0.00057, val_drawdown=0.00062, val_loss=-0.80364]\n",
      "Epoch 29: 100%|██████████| 3/3 [00:05<00:00,  1.87s/it, loss=-0.82544, drawdown=0.00055, val_drawdown=0.00060, val_loss=-0.81094]\n",
      "Epoch 30: 100%|██████████| 3/3 [00:04<00:00,  1.60s/it, loss=-0.79575, drawdown=0.00062, val_drawdown=0.00058, val_loss=-0.81780]\n",
      "Epoch 31: 100%|██████████| 3/3 [00:05<00:00,  1.83s/it, loss=-0.80706, drawdown=0.00060, val_drawdown=0.00055, val_loss=-0.82360]\n",
      "Epoch 32: 100%|██████████| 3/3 [00:05<00:00,  1.76s/it, loss=-0.86479, drawdown=0.00042, val_drawdown=0.00053, val_loss=-0.82902]\n",
      "Epoch 33: 100%|██████████| 3/3 [00:05<00:00,  1.69s/it, loss=-0.87834, drawdown=0.00032, val_drawdown=0.00052, val_loss=-0.83380]\n",
      "Epoch 34: 100%|██████████| 3/3 [00:05<00:00,  1.96s/it, loss=-0.85504, drawdown=0.00047, val_drawdown=0.00051, val_loss=-0.83814]\n",
      "Epoch 35: 100%|██████████| 3/3 [00:05<00:00,  1.81s/it, loss=-0.89988, drawdown=0.00031, val_drawdown=0.00050, val_loss=-0.84223]\n",
      "Epoch 36: 100%|██████████| 3/3 [00:05<00:00,  1.80s/it, loss=-0.79419, drawdown=0.00057, val_drawdown=0.00049, val_loss=-0.84585]\n",
      "Epoch 37: 100%|██████████| 3/3 [00:04<00:00,  1.59s/it, loss=-0.88008, drawdown=0.00031, val_drawdown=0.00048, val_loss=-0.84947]\n",
      "Epoch 38: 100%|██████████| 3/3 [00:05<00:00,  1.80s/it, loss=-0.85826, drawdown=0.00044, val_drawdown=0.00048, val_loss=-0.85272]\n",
      "Epoch 39: 100%|██████████| 3/3 [00:05<00:00,  1.81s/it, loss=-0.85950, drawdown=0.00043, val_drawdown=0.00047, val_loss=-0.85648]\n",
      "Epoch 40: 100%|██████████| 3/3 [00:05<00:00,  1.88s/it, loss=-0.91092, drawdown=0.00030, val_drawdown=0.00045, val_loss=-0.86027]\n",
      "Epoch 41: 100%|██████████| 3/3 [00:05<00:00,  1.85s/it, loss=-0.90300, drawdown=0.00040, val_drawdown=0.00045, val_loss=-0.86331]\n",
      "Epoch 42: 100%|██████████| 3/3 [00:05<00:00,  1.74s/it, loss=-0.88536, drawdown=0.00041, val_drawdown=0.00044, val_loss=-0.86622]\n",
      "Epoch 43: 100%|██████████| 3/3 [00:05<00:00,  1.71s/it, loss=-0.77924, drawdown=0.00056, val_drawdown=0.00044, val_loss=-0.86938]\n",
      "Epoch 44: 100%|██████████| 3/3 [00:05<00:00,  1.74s/it, loss=-0.82108, drawdown=0.00053, val_drawdown=0.00043, val_loss=-0.87259]\n",
      "Epoch 45: 100%|██████████| 3/3 [00:05<00:00,  1.84s/it, loss=-0.94056, drawdown=0.00029, val_drawdown=0.00043, val_loss=-0.87562]\n",
      "Epoch 46: 100%|██████████| 3/3 [00:05<00:00,  1.77s/it, loss=-0.86099, drawdown=0.00050, val_drawdown=0.00043, val_loss=-0.87815]\n",
      "Epoch 47: 100%|██████████| 3/3 [00:04<00:00,  1.58s/it, loss=-0.83153, drawdown=0.00050, val_drawdown=0.00043, val_loss=-0.88082]\n",
      "Epoch 48: 100%|██████████| 3/3 [00:05<00:00,  1.79s/it, loss=-0.92317, drawdown=0.00040, val_drawdown=0.00042, val_loss=-0.88341]\n",
      "Epoch 49: 100%|██████████| 3/3 [00:05<00:00,  1.68s/it, loss=-0.89804, drawdown=0.00028, val_drawdown=0.00042, val_loss=-0.88544]\n"
     ]
    }
   ],
   "source": [
    "loss = SharpeRatio(returns_channel=0)\n",
    "benchmarks = {'1overN': OneOverN()}\n",
    "metrics = {'drawdown': MaximumDrawdown(returns_channel=0)}\n",
    "\n",
    "run = Run(network,\n",
    "          loss,\n",
    "          train_dataloader,\n",
    "          val_dataloaders=val_dataloaders,\n",
    "          metrics=metrics,\n",
    "          benchmarks=benchmarks,\n",
    "          device = torch.device(\"cpu\"),\n",
    "          optimizer=torch.optim.Adam(network.parameters(), lr=0.0001))\n",
    "#callbacks=callbacks,\n",
    "\n",
    "history = run.launch(n_epochs=50)"
   ]
  },
  {
   "cell_type": "code",
   "execution_count": 29,
   "id": "intended-census",
   "metadata": {},
   "outputs": [
    {
     "name": "stdout",
     "output_type": "stream",
     "text": [
      "Training interrupted\n"
     ]
    },
    {
     "name": "stderr",
     "output_type": "stream",
     "text": [
      "ERROR:root:Internal Python error in the inspect module.\n",
      "Below is the traceback from this internal error.\n",
      "\n"
     ]
    },
    {
     "name": "stdout",
     "output_type": "stream",
     "text": [
      "Traceback (most recent call last):\n",
      "  File \"/home/alejandro.vaca/miniconda/envs/series_temporales/lib/python3.7/site-packages/deepdow/experiments.py\", line 243, in launch\n",
      "    self.on_train_begin(metadata={'n_epochs': n_epochs})\n",
      "  File \"/home/alejandro.vaca/miniconda/envs/series_temporales/lib/python3.7/site-packages/deepdow/experiments.py\", line 305, in on_train_begin\n",
      "    cb.on_train_begin(metadata=metadata)\n",
      "  File \"/home/alejandro.vaca/miniconda/envs/series_temporales/lib/python3.7/site-packages/deepdow/callbacks.py\", line 140, in on_train_begin\n",
      "    for batch, (X_batch, y_batch, timestamps_batch, _) in enumerate(dl):\n",
      "  File \"/home/alejandro.vaca/miniconda/envs/series_temporales/lib/python3.7/site-packages/torch/utils/data/dataloader.py\", line 435, in __next__\n",
      "    data = self._next_data()\n",
      "  File \"/home/alejandro.vaca/miniconda/envs/series_temporales/lib/python3.7/site-packages/torch/utils/data/dataloader.py\", line 475, in _next_data\n",
      "    data = self._dataset_fetcher.fetch(index)  # may raise StopIteration\n",
      "  File \"/home/alejandro.vaca/miniconda/envs/series_temporales/lib/python3.7/site-packages/torch/utils/data/_utils/fetch.py\", line 47, in fetch\n",
      "    return self.collate_fn(data)\n",
      "  File \"/home/alejandro.vaca/miniconda/envs/series_temporales/lib/python3.7/site-packages/deepdow/data/load.py\", line 143, in collate_uniform\n",
      "    X_batch = torch.stack([b[0][:, -lookback:, asset_ixs] for b in batch], dim=0)\n",
      "  File \"/home/alejandro.vaca/miniconda/envs/series_temporales/lib/python3.7/site-packages/deepdow/data/load.py\", line 143, in <listcomp>\n",
      "    X_batch = torch.stack([b[0][:, -lookback:, asset_ixs] for b in batch], dim=0)\n",
      "KeyboardInterrupt\n",
      "\n",
      "During handling of the above exception, another exception occurred:\n",
      "\n",
      "Traceback (most recent call last):\n",
      "  File \"/home/alejandro.vaca/miniconda/envs/series_temporales/lib/python3.7/site-packages/IPython/core/interactiveshell.py\", line 3427, in run_code\n",
      "    exec(code_obj, self.user_global_ns, self.user_ns)\n",
      "  File \"<ipython-input-29-c4367667f322>\", line 14, in <module>\n",
      "    history = run.launch(n_epochs=4)\n",
      "  File \"/home/alejandro.vaca/miniconda/envs/series_temporales/lib/python3.7/site-packages/deepdow/experiments.py\", line 295, in launch\n",
      "    time.sleep(1)\n",
      "KeyboardInterrupt\n",
      "\n",
      "During handling of the above exception, another exception occurred:\n",
      "\n",
      "Traceback (most recent call last):\n",
      "  File \"/home/alejandro.vaca/miniconda/envs/series_temporales/lib/python3.7/site-packages/IPython/core/interactiveshell.py\", line 2054, in showtraceback\n",
      "    stb = value._render_traceback_()\n",
      "AttributeError: 'KeyboardInterrupt' object has no attribute '_render_traceback_'\n",
      "\n",
      "During handling of the above exception, another exception occurred:\n",
      "\n",
      "Traceback (most recent call last):\n",
      "  File \"/home/alejandro.vaca/miniconda/envs/series_temporales/lib/python3.7/site-packages/IPython/core/ultratb.py\", line 1101, in get_records\n",
      "    return _fixed_getinnerframes(etb, number_of_lines_of_context, tb_offset)\n",
      "  File \"/home/alejandro.vaca/miniconda/envs/series_temporales/lib/python3.7/site-packages/IPython/core/ultratb.py\", line 248, in wrapped\n",
      "    return f(*args, **kwargs)\n",
      "  File \"/home/alejandro.vaca/miniconda/envs/series_temporales/lib/python3.7/site-packages/IPython/core/ultratb.py\", line 281, in _fixed_getinnerframes\n",
      "    records = fix_frame_records_filenames(inspect.getinnerframes(etb, context))\n",
      "  File \"/home/alejandro.vaca/miniconda/envs/series_temporales/lib/python3.7/inspect.py\", line 1502, in getinnerframes\n",
      "    frameinfo = (tb.tb_frame,) + getframeinfo(tb, context)\n",
      "  File \"/home/alejandro.vaca/miniconda/envs/series_temporales/lib/python3.7/inspect.py\", line 1460, in getframeinfo\n",
      "    filename = getsourcefile(frame) or getfile(frame)\n",
      "  File \"/home/alejandro.vaca/miniconda/envs/series_temporales/lib/python3.7/inspect.py\", line 696, in getsourcefile\n",
      "    if getattr(getmodule(object, filename), '__loader__', None) is not None:\n",
      "  File \"/home/alejandro.vaca/miniconda/envs/series_temporales/lib/python3.7/inspect.py\", line 742, in getmodule\n",
      "    os.path.realpath(f)] = module.__name__\n",
      "  File \"/home/alejandro.vaca/miniconda/envs/series_temporales/lib/python3.7/posixpath.py\", line 396, in realpath\n",
      "    return abspath(path)\n",
      "  File \"/home/alejandro.vaca/miniconda/envs/series_temporales/lib/python3.7/posixpath.py\", line 385, in abspath\n",
      "    return normpath(path)\n",
      "KeyboardInterrupt\n"
     ]
    },
    {
     "ename": "TypeError",
     "evalue": "object of type 'NoneType' has no len()",
     "output_type": "error",
     "traceback": [
      "\u001b[0;31m---------------------------------------------------------------------------\u001b[0m",
      "\u001b[0;31mKeyboardInterrupt\u001b[0m                         Traceback (most recent call last)",
      "\u001b[0;32m~/miniconda/envs/series_temporales/lib/python3.7/site-packages/deepdow/experiments.py\u001b[0m in \u001b[0;36mlaunch\u001b[0;34m(self, n_epochs)\u001b[0m\n\u001b[1;32m    242\u001b[0m             \u001b[0;32mif\u001b[0m \u001b[0mself\u001b[0m\u001b[0;34m.\u001b[0m\u001b[0mcurrent_epoch\u001b[0m \u001b[0;34m==\u001b[0m \u001b[0;34m-\u001b[0m\u001b[0;36m1\u001b[0m\u001b[0;34m:\u001b[0m\u001b[0;34m\u001b[0m\u001b[0;34m\u001b[0m\u001b[0m\n\u001b[0;32m--> 243\u001b[0;31m                 \u001b[0mself\u001b[0m\u001b[0;34m.\u001b[0m\u001b[0mon_train_begin\u001b[0m\u001b[0;34m(\u001b[0m\u001b[0mmetadata\u001b[0m\u001b[0;34m=\u001b[0m\u001b[0;34m{\u001b[0m\u001b[0;34m'n_epochs'\u001b[0m\u001b[0;34m:\u001b[0m \u001b[0mn_epochs\u001b[0m\u001b[0;34m}\u001b[0m\u001b[0;34m)\u001b[0m\u001b[0;34m\u001b[0m\u001b[0;34m\u001b[0m\u001b[0m\n\u001b[0m\u001b[1;32m    244\u001b[0m \u001b[0;34m\u001b[0m\u001b[0m\n",
      "\u001b[0;32m~/miniconda/envs/series_temporales/lib/python3.7/site-packages/deepdow/experiments.py\u001b[0m in \u001b[0;36mon_train_begin\u001b[0;34m(self, metadata)\u001b[0m\n\u001b[1;32m    304\u001b[0m         \u001b[0;32mfor\u001b[0m \u001b[0mcb\u001b[0m \u001b[0;32min\u001b[0m \u001b[0mself\u001b[0m\u001b[0;34m.\u001b[0m\u001b[0mcallbacks\u001b[0m\u001b[0;34m:\u001b[0m\u001b[0;34m\u001b[0m\u001b[0;34m\u001b[0m\u001b[0m\n\u001b[0;32m--> 305\u001b[0;31m             \u001b[0mcb\u001b[0m\u001b[0;34m.\u001b[0m\u001b[0mon_train_begin\u001b[0m\u001b[0;34m(\u001b[0m\u001b[0mmetadata\u001b[0m\u001b[0;34m=\u001b[0m\u001b[0mmetadata\u001b[0m\u001b[0;34m)\u001b[0m\u001b[0;34m\u001b[0m\u001b[0;34m\u001b[0m\u001b[0m\n\u001b[0m\u001b[1;32m    306\u001b[0m \u001b[0;34m\u001b[0m\u001b[0m\n",
      "\u001b[0;32m~/miniconda/envs/series_temporales/lib/python3.7/site-packages/deepdow/callbacks.py\u001b[0m in \u001b[0;36mon_train_begin\u001b[0;34m(self, metadata)\u001b[0m\n\u001b[1;32m    139\u001b[0m                         \u001b[0;32mcontinue\u001b[0m\u001b[0;34m\u001b[0m\u001b[0;34m\u001b[0m\u001b[0m\n\u001b[0;32m--> 140\u001b[0;31m                     \u001b[0;32mfor\u001b[0m \u001b[0mbatch\u001b[0m\u001b[0;34m,\u001b[0m \u001b[0;34m(\u001b[0m\u001b[0mX_batch\u001b[0m\u001b[0;34m,\u001b[0m \u001b[0my_batch\u001b[0m\u001b[0;34m,\u001b[0m \u001b[0mtimestamps_batch\u001b[0m\u001b[0;34m,\u001b[0m \u001b[0m_\u001b[0m\u001b[0;34m)\u001b[0m \u001b[0;32min\u001b[0m \u001b[0menumerate\u001b[0m\u001b[0;34m(\u001b[0m\u001b[0mdl\u001b[0m\u001b[0;34m)\u001b[0m\u001b[0;34m:\u001b[0m\u001b[0;34m\u001b[0m\u001b[0;34m\u001b[0m\u001b[0m\n\u001b[0m\u001b[1;32m    141\u001b[0m                         \u001b[0mX_batch\u001b[0m \u001b[0;34m=\u001b[0m \u001b[0mX_batch\u001b[0m\u001b[0;34m.\u001b[0m\u001b[0mto\u001b[0m\u001b[0;34m(\u001b[0m\u001b[0mself\u001b[0m\u001b[0;34m.\u001b[0m\u001b[0mrun\u001b[0m\u001b[0;34m.\u001b[0m\u001b[0mdevice\u001b[0m\u001b[0;34m)\u001b[0m\u001b[0;34m.\u001b[0m\u001b[0mto\u001b[0m\u001b[0;34m(\u001b[0m\u001b[0mself\u001b[0m\u001b[0;34m.\u001b[0m\u001b[0mrun\u001b[0m\u001b[0;34m.\u001b[0m\u001b[0mdtype\u001b[0m\u001b[0;34m)\u001b[0m\u001b[0;34m\u001b[0m\u001b[0;34m\u001b[0m\u001b[0m\n",
      "\u001b[0;32m~/miniconda/envs/series_temporales/lib/python3.7/site-packages/torch/utils/data/dataloader.py\u001b[0m in \u001b[0;36m__next__\u001b[0;34m(self)\u001b[0m\n\u001b[1;32m    434\u001b[0m             \u001b[0mself\u001b[0m\u001b[0;34m.\u001b[0m\u001b[0m_reset\u001b[0m\u001b[0;34m(\u001b[0m\u001b[0;34m)\u001b[0m\u001b[0;34m\u001b[0m\u001b[0;34m\u001b[0m\u001b[0m\n\u001b[0;32m--> 435\u001b[0;31m         \u001b[0mdata\u001b[0m \u001b[0;34m=\u001b[0m \u001b[0mself\u001b[0m\u001b[0;34m.\u001b[0m\u001b[0m_next_data\u001b[0m\u001b[0;34m(\u001b[0m\u001b[0;34m)\u001b[0m\u001b[0;34m\u001b[0m\u001b[0;34m\u001b[0m\u001b[0m\n\u001b[0m\u001b[1;32m    436\u001b[0m         \u001b[0mself\u001b[0m\u001b[0;34m.\u001b[0m\u001b[0m_num_yielded\u001b[0m \u001b[0;34m+=\u001b[0m \u001b[0;36m1\u001b[0m\u001b[0;34m\u001b[0m\u001b[0;34m\u001b[0m\u001b[0m\n",
      "\u001b[0;32m~/miniconda/envs/series_temporales/lib/python3.7/site-packages/torch/utils/data/dataloader.py\u001b[0m in \u001b[0;36m_next_data\u001b[0;34m(self)\u001b[0m\n\u001b[1;32m    474\u001b[0m         \u001b[0mindex\u001b[0m \u001b[0;34m=\u001b[0m \u001b[0mself\u001b[0m\u001b[0;34m.\u001b[0m\u001b[0m_next_index\u001b[0m\u001b[0;34m(\u001b[0m\u001b[0;34m)\u001b[0m  \u001b[0;31m# may raise StopIteration\u001b[0m\u001b[0;34m\u001b[0m\u001b[0;34m\u001b[0m\u001b[0m\n\u001b[0;32m--> 475\u001b[0;31m         \u001b[0mdata\u001b[0m \u001b[0;34m=\u001b[0m \u001b[0mself\u001b[0m\u001b[0;34m.\u001b[0m\u001b[0m_dataset_fetcher\u001b[0m\u001b[0;34m.\u001b[0m\u001b[0mfetch\u001b[0m\u001b[0;34m(\u001b[0m\u001b[0mindex\u001b[0m\u001b[0;34m)\u001b[0m  \u001b[0;31m# may raise StopIteration\u001b[0m\u001b[0;34m\u001b[0m\u001b[0;34m\u001b[0m\u001b[0m\n\u001b[0m\u001b[1;32m    476\u001b[0m         \u001b[0;32mif\u001b[0m \u001b[0mself\u001b[0m\u001b[0;34m.\u001b[0m\u001b[0m_pin_memory\u001b[0m\u001b[0;34m:\u001b[0m\u001b[0;34m\u001b[0m\u001b[0;34m\u001b[0m\u001b[0m\n",
      "\u001b[0;32m~/miniconda/envs/series_temporales/lib/python3.7/site-packages/torch/utils/data/_utils/fetch.py\u001b[0m in \u001b[0;36mfetch\u001b[0;34m(self, possibly_batched_index)\u001b[0m\n\u001b[1;32m     46\u001b[0m             \u001b[0mdata\u001b[0m \u001b[0;34m=\u001b[0m \u001b[0mself\u001b[0m\u001b[0;34m.\u001b[0m\u001b[0mdataset\u001b[0m\u001b[0;34m[\u001b[0m\u001b[0mpossibly_batched_index\u001b[0m\u001b[0;34m]\u001b[0m\u001b[0;34m\u001b[0m\u001b[0;34m\u001b[0m\u001b[0m\n\u001b[0;32m---> 47\u001b[0;31m         \u001b[0;32mreturn\u001b[0m \u001b[0mself\u001b[0m\u001b[0;34m.\u001b[0m\u001b[0mcollate_fn\u001b[0m\u001b[0;34m(\u001b[0m\u001b[0mdata\u001b[0m\u001b[0;34m)\u001b[0m\u001b[0;34m\u001b[0m\u001b[0;34m\u001b[0m\u001b[0m\n\u001b[0m",
      "\u001b[0;32m~/miniconda/envs/series_temporales/lib/python3.7/site-packages/deepdow/data/load.py\u001b[0m in \u001b[0;36mcollate_uniform\u001b[0;34m(batch, n_assets_range, lookback_range, horizon_range, asset_ixs, random_state)\u001b[0m\n\u001b[1;32m    142\u001b[0m \u001b[0;34m\u001b[0m\u001b[0m\n\u001b[0;32m--> 143\u001b[0;31m     \u001b[0mX_batch\u001b[0m \u001b[0;34m=\u001b[0m \u001b[0mtorch\u001b[0m\u001b[0;34m.\u001b[0m\u001b[0mstack\u001b[0m\u001b[0;34m(\u001b[0m\u001b[0;34m[\u001b[0m\u001b[0mb\u001b[0m\u001b[0;34m[\u001b[0m\u001b[0;36m0\u001b[0m\u001b[0;34m]\u001b[0m\u001b[0;34m[\u001b[0m\u001b[0;34m:\u001b[0m\u001b[0;34m,\u001b[0m \u001b[0;34m-\u001b[0m\u001b[0mlookback\u001b[0m\u001b[0;34m:\u001b[0m\u001b[0;34m,\u001b[0m \u001b[0masset_ixs\u001b[0m\u001b[0;34m]\u001b[0m \u001b[0;32mfor\u001b[0m \u001b[0mb\u001b[0m \u001b[0;32min\u001b[0m \u001b[0mbatch\u001b[0m\u001b[0;34m]\u001b[0m\u001b[0;34m,\u001b[0m \u001b[0mdim\u001b[0m\u001b[0;34m=\u001b[0m\u001b[0;36m0\u001b[0m\u001b[0;34m)\u001b[0m\u001b[0;34m\u001b[0m\u001b[0;34m\u001b[0m\u001b[0m\n\u001b[0m\u001b[1;32m    144\u001b[0m     \u001b[0my_batch\u001b[0m \u001b[0;34m=\u001b[0m \u001b[0mtorch\u001b[0m\u001b[0;34m.\u001b[0m\u001b[0mstack\u001b[0m\u001b[0;34m(\u001b[0m\u001b[0;34m[\u001b[0m\u001b[0mb\u001b[0m\u001b[0;34m[\u001b[0m\u001b[0;36m1\u001b[0m\u001b[0;34m]\u001b[0m\u001b[0;34m[\u001b[0m\u001b[0;34m:\u001b[0m\u001b[0;34m,\u001b[0m \u001b[0;34m:\u001b[0m\u001b[0mhorizon\u001b[0m\u001b[0;34m,\u001b[0m \u001b[0masset_ixs\u001b[0m\u001b[0;34m]\u001b[0m \u001b[0;32mfor\u001b[0m \u001b[0mb\u001b[0m \u001b[0;32min\u001b[0m \u001b[0mbatch\u001b[0m\u001b[0;34m]\u001b[0m\u001b[0;34m,\u001b[0m \u001b[0mdim\u001b[0m\u001b[0;34m=\u001b[0m\u001b[0;36m0\u001b[0m\u001b[0;34m)\u001b[0m\u001b[0;34m\u001b[0m\u001b[0;34m\u001b[0m\u001b[0m\n",
      "\u001b[0;32m~/miniconda/envs/series_temporales/lib/python3.7/site-packages/deepdow/data/load.py\u001b[0m in \u001b[0;36m<listcomp>\u001b[0;34m(.0)\u001b[0m\n\u001b[1;32m    142\u001b[0m \u001b[0;34m\u001b[0m\u001b[0m\n\u001b[0;32m--> 143\u001b[0;31m     \u001b[0mX_batch\u001b[0m \u001b[0;34m=\u001b[0m \u001b[0mtorch\u001b[0m\u001b[0;34m.\u001b[0m\u001b[0mstack\u001b[0m\u001b[0;34m(\u001b[0m\u001b[0;34m[\u001b[0m\u001b[0mb\u001b[0m\u001b[0;34m[\u001b[0m\u001b[0;36m0\u001b[0m\u001b[0;34m]\u001b[0m\u001b[0;34m[\u001b[0m\u001b[0;34m:\u001b[0m\u001b[0;34m,\u001b[0m \u001b[0;34m-\u001b[0m\u001b[0mlookback\u001b[0m\u001b[0;34m:\u001b[0m\u001b[0;34m,\u001b[0m \u001b[0masset_ixs\u001b[0m\u001b[0;34m]\u001b[0m \u001b[0;32mfor\u001b[0m \u001b[0mb\u001b[0m \u001b[0;32min\u001b[0m \u001b[0mbatch\u001b[0m\u001b[0;34m]\u001b[0m\u001b[0;34m,\u001b[0m \u001b[0mdim\u001b[0m\u001b[0;34m=\u001b[0m\u001b[0;36m0\u001b[0m\u001b[0;34m)\u001b[0m\u001b[0;34m\u001b[0m\u001b[0;34m\u001b[0m\u001b[0m\n\u001b[0m\u001b[1;32m    144\u001b[0m     \u001b[0my_batch\u001b[0m \u001b[0;34m=\u001b[0m \u001b[0mtorch\u001b[0m\u001b[0;34m.\u001b[0m\u001b[0mstack\u001b[0m\u001b[0;34m(\u001b[0m\u001b[0;34m[\u001b[0m\u001b[0mb\u001b[0m\u001b[0;34m[\u001b[0m\u001b[0;36m1\u001b[0m\u001b[0;34m]\u001b[0m\u001b[0;34m[\u001b[0m\u001b[0;34m:\u001b[0m\u001b[0;34m,\u001b[0m \u001b[0;34m:\u001b[0m\u001b[0mhorizon\u001b[0m\u001b[0;34m,\u001b[0m \u001b[0masset_ixs\u001b[0m\u001b[0;34m]\u001b[0m \u001b[0;32mfor\u001b[0m \u001b[0mb\u001b[0m \u001b[0;32min\u001b[0m \u001b[0mbatch\u001b[0m\u001b[0;34m]\u001b[0m\u001b[0;34m,\u001b[0m \u001b[0mdim\u001b[0m\u001b[0;34m=\u001b[0m\u001b[0;36m0\u001b[0m\u001b[0;34m)\u001b[0m\u001b[0;34m\u001b[0m\u001b[0;34m\u001b[0m\u001b[0m\n",
      "\u001b[0;31mKeyboardInterrupt\u001b[0m: ",
      "\nDuring handling of the above exception, another exception occurred:\n",
      "\u001b[0;31mKeyboardInterrupt\u001b[0m                         Traceback (most recent call last)",
      "    \u001b[0;31m[... skipping hidden 1 frame]\u001b[0m\n",
      "\u001b[0;32m<ipython-input-29-c4367667f322>\u001b[0m in \u001b[0;36m<module>\u001b[0;34m\u001b[0m\n\u001b[1;32m     13\u001b[0m \u001b[0;34m\u001b[0m\u001b[0m\n\u001b[0;32m---> 14\u001b[0;31m \u001b[0mhistory\u001b[0m \u001b[0;34m=\u001b[0m \u001b[0mrun\u001b[0m\u001b[0;34m.\u001b[0m\u001b[0mlaunch\u001b[0m\u001b[0;34m(\u001b[0m\u001b[0mn_epochs\u001b[0m\u001b[0;34m=\u001b[0m\u001b[0;36m4\u001b[0m\u001b[0;34m)\u001b[0m\u001b[0;34m\u001b[0m\u001b[0;34m\u001b[0m\u001b[0m\n\u001b[0m",
      "\u001b[0;32m~/miniconda/envs/series_temporales/lib/python3.7/site-packages/deepdow/experiments.py\u001b[0m in \u001b[0;36mlaunch\u001b[0;34m(self, n_epochs)\u001b[0m\n\u001b[1;32m    294\u001b[0m             \u001b[0mprint\u001b[0m\u001b[0;34m(\u001b[0m\u001b[0;34m'Training interrupted'\u001b[0m\u001b[0;34m)\u001b[0m\u001b[0;34m\u001b[0m\u001b[0;34m\u001b[0m\u001b[0m\n\u001b[0;32m--> 295\u001b[0;31m             \u001b[0mtime\u001b[0m\u001b[0;34m.\u001b[0m\u001b[0msleep\u001b[0m\u001b[0;34m(\u001b[0m\u001b[0;36m1\u001b[0m\u001b[0;34m)\u001b[0m\u001b[0;34m\u001b[0m\u001b[0;34m\u001b[0m\u001b[0m\n\u001b[0m\u001b[1;32m    296\u001b[0m \u001b[0;34m\u001b[0m\u001b[0m\n",
      "\u001b[0;31mKeyboardInterrupt\u001b[0m: ",
      "\nDuring handling of the above exception, another exception occurred:\n",
      "\u001b[0;31mAttributeError\u001b[0m                            Traceback (most recent call last)",
      "\u001b[0;32m~/miniconda/envs/series_temporales/lib/python3.7/site-packages/IPython/core/interactiveshell.py\u001b[0m in \u001b[0;36mshowtraceback\u001b[0;34m(self, exc_tuple, filename, tb_offset, exception_only, running_compiled_code)\u001b[0m\n\u001b[1;32m   2053\u001b[0m                         \u001b[0;31m# in the engines. This should return a list of strings.\u001b[0m\u001b[0;34m\u001b[0m\u001b[0;34m\u001b[0m\u001b[0;34m\u001b[0m\u001b[0m\n\u001b[0;32m-> 2054\u001b[0;31m                         \u001b[0mstb\u001b[0m \u001b[0;34m=\u001b[0m \u001b[0mvalue\u001b[0m\u001b[0;34m.\u001b[0m\u001b[0m_render_traceback_\u001b[0m\u001b[0;34m(\u001b[0m\u001b[0;34m)\u001b[0m\u001b[0;34m\u001b[0m\u001b[0;34m\u001b[0m\u001b[0m\n\u001b[0m\u001b[1;32m   2055\u001b[0m                     \u001b[0;32mexcept\u001b[0m \u001b[0mException\u001b[0m\u001b[0;34m:\u001b[0m\u001b[0;34m\u001b[0m\u001b[0;34m\u001b[0m\u001b[0m\n",
      "\u001b[0;31mAttributeError\u001b[0m: 'KeyboardInterrupt' object has no attribute '_render_traceback_'",
      "\nDuring handling of the above exception, another exception occurred:\n",
      "\u001b[0;31mTypeError\u001b[0m                                 Traceback (most recent call last)",
      "    \u001b[0;31m[... skipping hidden 1 frame]\u001b[0m\n",
      "\u001b[0;32m~/miniconda/envs/series_temporales/lib/python3.7/site-packages/IPython/core/interactiveshell.py\u001b[0m in \u001b[0;36mshowtraceback\u001b[0;34m(self, exc_tuple, filename, tb_offset, exception_only, running_compiled_code)\u001b[0m\n\u001b[1;32m   2055\u001b[0m                     \u001b[0;32mexcept\u001b[0m \u001b[0mException\u001b[0m\u001b[0;34m:\u001b[0m\u001b[0;34m\u001b[0m\u001b[0;34m\u001b[0m\u001b[0m\n\u001b[1;32m   2056\u001b[0m                         stb = self.InteractiveTB.structured_traceback(etype,\n\u001b[0;32m-> 2057\u001b[0;31m                                             value, tb, tb_offset=tb_offset)\n\u001b[0m\u001b[1;32m   2058\u001b[0m \u001b[0;34m\u001b[0m\u001b[0m\n\u001b[1;32m   2059\u001b[0m                     \u001b[0mself\u001b[0m\u001b[0;34m.\u001b[0m\u001b[0m_showtraceback\u001b[0m\u001b[0;34m(\u001b[0m\u001b[0metype\u001b[0m\u001b[0;34m,\u001b[0m \u001b[0mvalue\u001b[0m\u001b[0;34m,\u001b[0m \u001b[0mstb\u001b[0m\u001b[0;34m)\u001b[0m\u001b[0;34m\u001b[0m\u001b[0;34m\u001b[0m\u001b[0m\n",
      "\u001b[0;32m~/miniconda/envs/series_temporales/lib/python3.7/site-packages/IPython/core/ultratb.py\u001b[0m in \u001b[0;36mstructured_traceback\u001b[0;34m(self, etype, value, tb, tb_offset, number_of_lines_of_context)\u001b[0m\n\u001b[1;32m   1366\u001b[0m             \u001b[0mself\u001b[0m\u001b[0;34m.\u001b[0m\u001b[0mtb\u001b[0m \u001b[0;34m=\u001b[0m \u001b[0mtb\u001b[0m\u001b[0;34m\u001b[0m\u001b[0;34m\u001b[0m\u001b[0m\n\u001b[1;32m   1367\u001b[0m         return FormattedTB.structured_traceback(\n\u001b[0;32m-> 1368\u001b[0;31m             self, etype, value, tb, tb_offset, number_of_lines_of_context)\n\u001b[0m\u001b[1;32m   1369\u001b[0m \u001b[0;34m\u001b[0m\u001b[0m\n\u001b[1;32m   1370\u001b[0m \u001b[0;34m\u001b[0m\u001b[0m\n",
      "\u001b[0;32m~/miniconda/envs/series_temporales/lib/python3.7/site-packages/IPython/core/ultratb.py\u001b[0m in \u001b[0;36mstructured_traceback\u001b[0;34m(self, etype, value, tb, tb_offset, number_of_lines_of_context)\u001b[0m\n\u001b[1;32m   1266\u001b[0m             \u001b[0;31m# Verbose modes need a full traceback\u001b[0m\u001b[0;34m\u001b[0m\u001b[0;34m\u001b[0m\u001b[0;34m\u001b[0m\u001b[0m\n\u001b[1;32m   1267\u001b[0m             return VerboseTB.structured_traceback(\n\u001b[0;32m-> 1268\u001b[0;31m                 \u001b[0mself\u001b[0m\u001b[0;34m,\u001b[0m \u001b[0metype\u001b[0m\u001b[0;34m,\u001b[0m \u001b[0mvalue\u001b[0m\u001b[0;34m,\u001b[0m \u001b[0mtb\u001b[0m\u001b[0;34m,\u001b[0m \u001b[0mtb_offset\u001b[0m\u001b[0;34m,\u001b[0m \u001b[0mnumber_of_lines_of_context\u001b[0m\u001b[0;34m\u001b[0m\u001b[0;34m\u001b[0m\u001b[0m\n\u001b[0m\u001b[1;32m   1269\u001b[0m             )\n\u001b[1;32m   1270\u001b[0m         \u001b[0;32melif\u001b[0m \u001b[0mmode\u001b[0m \u001b[0;34m==\u001b[0m \u001b[0;34m'Minimal'\u001b[0m\u001b[0;34m:\u001b[0m\u001b[0;34m\u001b[0m\u001b[0;34m\u001b[0m\u001b[0m\n",
      "\u001b[0;32m~/miniconda/envs/series_temporales/lib/python3.7/site-packages/IPython/core/ultratb.py\u001b[0m in \u001b[0;36mstructured_traceback\u001b[0;34m(self, etype, evalue, etb, tb_offset, number_of_lines_of_context)\u001b[0m\n\u001b[1;32m   1123\u001b[0m \u001b[0;34m\u001b[0m\u001b[0m\n\u001b[1;32m   1124\u001b[0m         formatted_exception = self.format_exception_as_a_whole(etype, evalue, etb, number_of_lines_of_context,\n\u001b[0;32m-> 1125\u001b[0;31m                                                                tb_offset)\n\u001b[0m\u001b[1;32m   1126\u001b[0m \u001b[0;34m\u001b[0m\u001b[0m\n\u001b[1;32m   1127\u001b[0m         \u001b[0mcolors\u001b[0m \u001b[0;34m=\u001b[0m \u001b[0mself\u001b[0m\u001b[0;34m.\u001b[0m\u001b[0mColors\u001b[0m  \u001b[0;31m# just a shorthand + quicker name lookup\u001b[0m\u001b[0;34m\u001b[0m\u001b[0;34m\u001b[0m\u001b[0m\n",
      "\u001b[0;32m~/miniconda/envs/series_temporales/lib/python3.7/site-packages/IPython/core/ultratb.py\u001b[0m in \u001b[0;36mformat_exception_as_a_whole\u001b[0;34m(self, etype, evalue, etb, number_of_lines_of_context, tb_offset)\u001b[0m\n\u001b[1;32m   1080\u001b[0m \u001b[0;34m\u001b[0m\u001b[0m\n\u001b[1;32m   1081\u001b[0m \u001b[0;34m\u001b[0m\u001b[0m\n\u001b[0;32m-> 1082\u001b[0;31m         \u001b[0mlast_unique\u001b[0m\u001b[0;34m,\u001b[0m \u001b[0mrecursion_repeat\u001b[0m \u001b[0;34m=\u001b[0m \u001b[0mfind_recursion\u001b[0m\u001b[0;34m(\u001b[0m\u001b[0morig_etype\u001b[0m\u001b[0;34m,\u001b[0m \u001b[0mevalue\u001b[0m\u001b[0;34m,\u001b[0m \u001b[0mrecords\u001b[0m\u001b[0;34m)\u001b[0m\u001b[0;34m\u001b[0m\u001b[0;34m\u001b[0m\u001b[0m\n\u001b[0m\u001b[1;32m   1083\u001b[0m \u001b[0;34m\u001b[0m\u001b[0m\n\u001b[1;32m   1084\u001b[0m         \u001b[0mframes\u001b[0m \u001b[0;34m=\u001b[0m \u001b[0mself\u001b[0m\u001b[0;34m.\u001b[0m\u001b[0mformat_records\u001b[0m\u001b[0;34m(\u001b[0m\u001b[0mrecords\u001b[0m\u001b[0;34m,\u001b[0m \u001b[0mlast_unique\u001b[0m\u001b[0;34m,\u001b[0m \u001b[0mrecursion_repeat\u001b[0m\u001b[0;34m)\u001b[0m\u001b[0;34m\u001b[0m\u001b[0;34m\u001b[0m\u001b[0m\n",
      "\u001b[0;32m~/miniconda/envs/series_temporales/lib/python3.7/site-packages/IPython/core/ultratb.py\u001b[0m in \u001b[0;36mfind_recursion\u001b[0;34m(etype, value, records)\u001b[0m\n\u001b[1;32m    380\u001b[0m     \u001b[0;31m# first frame (from in to out) that looks different.\u001b[0m\u001b[0;34m\u001b[0m\u001b[0;34m\u001b[0m\u001b[0;34m\u001b[0m\u001b[0m\n\u001b[1;32m    381\u001b[0m     \u001b[0;32mif\u001b[0m \u001b[0;32mnot\u001b[0m \u001b[0mis_recursion_error\u001b[0m\u001b[0;34m(\u001b[0m\u001b[0metype\u001b[0m\u001b[0;34m,\u001b[0m \u001b[0mvalue\u001b[0m\u001b[0;34m,\u001b[0m \u001b[0mrecords\u001b[0m\u001b[0;34m)\u001b[0m\u001b[0;34m:\u001b[0m\u001b[0;34m\u001b[0m\u001b[0;34m\u001b[0m\u001b[0m\n\u001b[0;32m--> 382\u001b[0;31m         \u001b[0;32mreturn\u001b[0m \u001b[0mlen\u001b[0m\u001b[0;34m(\u001b[0m\u001b[0mrecords\u001b[0m\u001b[0;34m)\u001b[0m\u001b[0;34m,\u001b[0m \u001b[0;36m0\u001b[0m\u001b[0;34m\u001b[0m\u001b[0;34m\u001b[0m\u001b[0m\n\u001b[0m\u001b[1;32m    383\u001b[0m \u001b[0;34m\u001b[0m\u001b[0m\n\u001b[1;32m    384\u001b[0m     \u001b[0;31m# Select filename, lineno, func_name to track frames with\u001b[0m\u001b[0;34m\u001b[0m\u001b[0;34m\u001b[0m\u001b[0;34m\u001b[0m\u001b[0m\n",
      "\u001b[0;31mTypeError\u001b[0m: object of type 'NoneType' has no len()"
     ]
    }
   ],
   "source": [
    "loss = SharpeRatio(returns_channel=0)\n",
    "benchmarks = {'1overN': OneOverN()}\n",
    "metrics = {'drawdown': MaximumDrawdown(returns_channel=0)}\n",
    "\n",
    "run = Run(network,\n",
    "          loss,\n",
    "          train_dataloader,\n",
    "          val_dataloaders=val_dataloaders,\n",
    "          metrics=metrics,\n",
    "          benchmarks=benchmarks,\n",
    "          device = torch.device(\"cuda:0\"),\n",
    "         callbacks=callbacks, optimizer=torch.optim.Adam(network.parameters(), lr=0.0001))\n",
    "\n",
    "history = run.launch(n_epochs=4)"
   ]
  },
  {
   "cell_type": "code",
   "execution_count": 26,
   "id": "trying-bradford",
   "metadata": {},
   "outputs": [
    {
     "data": {
      "text/plain": [
       "9314"
      ]
     },
     "execution_count": 26,
     "metadata": {},
     "output_type": "execute_result"
    }
   ],
   "source": [
    "sum(p.numel() for p in network.parameters() if p.requires_grad)\n"
   ]
  },
  {
   "cell_type": "code",
   "execution_count": 69,
   "id": "foster-general",
   "metadata": {},
   "outputs": [],
   "source": [
    "w_pred = run.models[\"main\"].to(\"cpu\")(torch.ones(1, n_channels, lookback, n_assets).cpu()).cpu().detach().numpy().squeeze()"
   ]
  },
  {
   "cell_type": "code",
   "execution_count": 31,
   "id": "working-acrobat",
   "metadata": {},
   "outputs": [],
   "source": [
    "weight_norm = WeightNorm(96)"
   ]
  },
  {
   "cell_type": "code",
   "execution_count": 32,
   "id": "prescription-falls",
   "metadata": {},
   "outputs": [],
   "source": [
    "w_pred = weight_norm(w_pred)"
   ]
  },
  {
   "cell_type": "code",
   "execution_count": 70,
   "id": "surprised-venue",
   "metadata": {},
   "outputs": [],
   "source": [
    "w_pred = run.models[\"main\"].to(\"cpu\")(torch.ones(1, n_channels, lookback, n_assets).cpu()).cpu().detach().numpy().squeeze()"
   ]
  },
  {
   "cell_type": "code",
   "execution_count": 114,
   "id": "sapphire-federal",
   "metadata": {},
   "outputs": [
    {
     "data": {
      "text/plain": [
       "array([-2.62737075e-07, -3.14467201e-07, -6.69119061e-07, -4.23911530e-07,\n",
       "       -2.84462999e-07,  1.88249182e-02, -3.03808264e-07,  2.30111927e-02,\n",
       "        9.80926119e-03, -4.13975840e-07, -3.07229698e-07,  8.51758930e-04,\n",
       "        3.00458577e-02, -7.15574686e-07, -4.53559068e-07,  2.97557423e-03,\n",
       "        1.64911542e-02,  1.96695738e-02,  3.24113369e-02, -2.83083466e-07,\n",
       "        2.61070244e-02, -2.26081298e-07,  2.63898838e-02,  1.03538316e-02,\n",
       "       -4.41546206e-07, -2.97599655e-07,  2.94060186e-02,  4.85594338e-03,\n",
       "        2.80135348e-02,  2.57296097e-02,  9.05200839e-03,  1.66217573e-02,\n",
       "        1.45180644e-02,  2.94755474e-02,  1.43525759e-02,  1.98897813e-02,\n",
       "        9.66202235e-04,  1.40720746e-02, -2.64721791e-07, -2.56784006e-07,\n",
       "        2.31434684e-02,  1.76330470e-02,  1.98562033e-02,  1.19226975e-02,\n",
       "        2.81661674e-02, -2.90208305e-07, -2.52157406e-07,  2.08848268e-02,\n",
       "       -3.30200550e-07,  2.13195495e-02,  7.50493770e-03,  1.26519124e-03,\n",
       "       -3.39797339e-07,  1.29099423e-03,  5.70658688e-03,  8.82004108e-03,\n",
       "        2.78157499e-02,  2.84269042e-02,  1.21036675e-02, -3.79047265e-07,\n",
       "        2.62644757e-02,  1.04144579e-02,  1.04529792e-02, -5.95181007e-07,\n",
       "       -3.19420081e-07, -2.66695025e-07,  1.56017924e-02,  1.32897813e-02,\n",
       "       -3.24681395e-07,  1.21095777e-02,  1.46162668e-02, -3.14858539e-07,\n",
       "        7.90657286e-05,  2.27685459e-02,  2.05965955e-02,  9.77175683e-03,\n",
       "        1.15241306e-02, -3.40061007e-07,  3.38305742e-03,  1.49763087e-02,\n",
       "       -2.99645677e-07, -3.20139009e-07,  1.80574302e-02,  4.67761280e-03,\n",
       "        2.31032521e-02, -2.62330843e-07,  2.16374397e-02, -3.06724615e-07,\n",
       "       -2.59809553e-07,  2.49805897e-02,  6.83145272e-03,  2.45463271e-02,\n",
       "       -2.90438010e-07, -2.93445169e-07,  2.66034827e-02,  3.96989426e-03],\n",
       "      dtype=float32)"
      ]
     },
     "execution_count": 114,
     "metadata": {},
     "output_type": "execute_result"
    }
   ],
   "source": [
    "w_pred"
   ]
  },
  {
   "cell_type": "code",
   "execution_count": 28,
   "id": "defined-findings",
   "metadata": {},
   "outputs": [],
   "source": [
    "assets_0 = [asset for asset, weight in zip(asset_names, w_pred) if weight <= 0.0]"
   ]
  },
  {
   "cell_type": "code",
   "execution_count": 29,
   "id": "automated-convert",
   "metadata": {},
   "outputs": [
    {
     "data": {
      "text/plain": [
       "True"
      ]
     },
     "execution_count": 29,
     "metadata": {},
     "output_type": "execute_result"
    }
   ],
   "source": [
    "any([asset in assets_0 for asset in [\"CBY\", \"UYZ\", \"WFJ\", \"TXR\", \"SYO\"]])"
   ]
  },
  {
   "cell_type": "code",
   "execution_count": 30,
   "id": "polished-implementation",
   "metadata": {},
   "outputs": [
    {
     "data": {
      "text/plain": [
       "35"
      ]
     },
     "execution_count": 30,
     "metadata": {},
     "output_type": "execute_result"
    }
   ],
   "source": [
    "len(assets_0)"
   ]
  },
  {
   "cell_type": "code",
   "execution_count": 111,
   "id": "flying-formula",
   "metadata": {},
   "outputs": [],
   "source": [
    "#assets_0"
   ]
  },
  {
   "cell_type": "code",
   "execution_count": 112,
   "id": "moral-helen",
   "metadata": {},
   "outputs": [
    {
     "data": {
      "text/plain": [
       "0.9999999700859001"
      ]
     },
     "execution_count": 112,
     "metadata": {},
     "output_type": "execute_result"
    }
   ],
   "source": [
    "sum(w_pred)"
   ]
  },
  {
   "cell_type": "code",
   "execution_count": 428,
   "id": "documented-behavior",
   "metadata": {},
   "outputs": [
    {
     "data": {
      "text/plain": [
       "array([-2.8468114e-07, -2.6644244e-07, -4.6836706e-07, -5.5984918e-07,\n",
       "       -2.7333232e-07,  1.7907983e-02, -3.1409618e-07,  2.3995781e-02,\n",
       "        9.4787236e-03, -4.8492547e-07, -4.2692176e-07, -2.3636568e-07,\n",
       "        3.1525899e-02, -1.3907646e-07, -5.4927159e-07,  2.1319108e-03,\n",
       "        1.5865525e-02,  1.9202486e-02,  3.4919456e-02, -2.9851830e-07,\n",
       "        2.7520956e-02, -2.6199587e-07,  2.7954396e-02,  1.0511356e-02,\n",
       "        7.7007792e-04, -3.1040074e-07,  3.2183889e-02,  4.7243787e-03,\n",
       "        2.8849950e-02,  2.7151486e-02,  9.2139281e-03,  1.6171919e-02,\n",
       "        1.4297063e-02,  2.9828079e-02,  1.3057756e-02,  1.8611569e-02,\n",
       "       -3.0326578e-07,  1.1947364e-02, -2.8785254e-07, -2.9760758e-07,\n",
       "        2.3234243e-02,  1.6919238e-02,  1.9987982e-02,  1.1357440e-02,\n",
       "        3.1746134e-02, -2.9889796e-07, -2.6028948e-07,  1.9822972e-02,\n",
       "       -2.9726885e-07,  2.3421546e-02,  8.0904253e-03,  1.1794226e-03,\n",
       "       -4.3605897e-07,  1.1742058e-03,  5.2253800e-03,  4.5113377e-03,\n",
       "        2.9830152e-02,  2.9383132e-02,  1.1712813e-02, -3.9760192e-07,\n",
       "        2.7226606e-02,  9.2770206e-03,  1.0728708e-02, -6.2302132e-07,\n",
       "       -2.9815891e-07, -2.9651250e-07,  1.5168545e-02,  1.1889287e-02,\n",
       "       -4.9544440e-07,  1.1461570e-02,  1.4737134e-02, -3.2544617e-07,\n",
       "       -2.5480125e-07,  2.3849245e-02,  1.9528229e-02,  8.9259390e-03,\n",
       "        1.0823145e-02, -3.6957326e-07,  2.3003926e-03,  1.5772250e-02,\n",
       "       -3.6590265e-07, -6.4466053e-07,  1.7907003e-02,  4.5977947e-03,\n",
       "        2.3286844e-02, -2.6654143e-07,  2.0824078e-02, -3.2955600e-07,\n",
       "       -2.7380327e-07,  2.4994459e-02,  6.7271329e-03,  2.4572745e-02,\n",
       "       -2.3330384e-07, -2.9450337e-07,  2.6308415e-02,  3.6867214e-03],\n",
       "      dtype=float32)"
      ]
     },
     "execution_count": 428,
     "metadata": {},
     "output_type": "execute_result"
    }
   ],
   "source": [
    "w_pred"
   ]
  },
  {
   "cell_type": "code",
   "execution_count": 114,
   "id": "superb-generic",
   "metadata": {},
   "outputs": [
    {
     "data": {
      "text/plain": [
       "False"
      ]
     },
     "execution_count": 114,
     "metadata": {},
     "output_type": "execute_result"
    }
   ],
   "source": [
    "all([w >= 0.0 for w in w_pred])"
   ]
  },
  {
   "cell_type": "code",
   "execution_count": 70,
   "id": "registered-yemen",
   "metadata": {},
   "outputs": [],
   "source": [
    "w_pred = np.clip(w_pred, 0, 1)"
   ]
  },
  {
   "cell_type": "code",
   "execution_count": 395,
   "id": "judicial-bruce",
   "metadata": {},
   "outputs": [],
   "source": [
    "w_pred = np.round(w_pred, decimals=2)"
   ]
  },
  {
   "cell_type": "code",
   "execution_count": 73,
   "id": "violent-worship",
   "metadata": {},
   "outputs": [],
   "source": [
    "w_pred = w_pred / w_pred.sum()"
   ]
  },
  {
   "cell_type": "code",
   "execution_count": 74,
   "id": "improved-account",
   "metadata": {},
   "outputs": [
    {
     "data": {
      "text/plain": [
       "1.0"
      ]
     },
     "execution_count": 74,
     "metadata": {},
     "output_type": "execute_result"
    }
   ],
   "source": [
    "w_pred.sum()"
   ]
  },
  {
   "cell_type": "code",
   "execution_count": 411,
   "id": "linear-behavior",
   "metadata": {},
   "outputs": [],
   "source": [
    "def general_weights_fixer(lista):\n",
    "    while sum(lista) != 1:\n",
    "        lista = np.clip(lista, 0, 1)\n",
    "        lista = [round(act, 4) for act in lista]\n",
    "        suma = sum(lista)\n",
    "        if suma > 1:\n",
    "            sobra = suma - 1\n",
    "            idx = np.argmax(lista)\n",
    "            lista[idx] -= sobra\n",
    "        elif suma < 1:\n",
    "            falta = 1 - suma\n",
    "            idx = np.argmax(lista)\n",
    "            lista[idx] += falta\n",
    "    return lista"
   ]
  },
  {
   "cell_type": "code",
   "execution_count": 491,
   "id": "extraordinary-thesaurus",
   "metadata": {},
   "outputs": [],
   "source": [
    "def special_fixer(lista):\n",
    "    lista = np.clip(lista, 0, 1)\n",
    "    lista = [round(act, 2) for act in lista]\n",
    "    print(sum(lista))\n",
    "    index_min = lista.index(min([l for l in lista if l > 0]))\n",
    "    print(lista[index_min])\n",
    "    lista[index_min] = 0\n",
    "    print(sum(lista))\n",
    "    #lista[index_min] = "
   ]
  },
  {
   "cell_type": "code",
   "execution_count": 538,
   "id": "decent-ethernet",
   "metadata": {},
   "outputs": [],
   "source": [
    "def special_fixer(lista):\n",
    "    import decimal\n",
    "    if isinstance(lista, np.ndarray):\n",
    "        lista = lista.tolist()\n",
    "    newlist = []\n",
    "    lista = np.clip(lista, 0, 1)\n",
    "    for elem in lista:\n",
    "        if elem == 0:\n",
    "            newlist.append(round(decimal.Decimal(elem), 0))\n",
    "        else:\n",
    "            if abs(decimal.Decimal(str(elem)).as_tuple().exponent) > 2:\n",
    "                newlist.append(round(decimal.Decimal(elem), 3))\n",
    "        #print(sum(newlist))\n",
    "    if sum(newlist) > 1:\n",
    "        resto = decimal.Decimal(1-sum(newlist))\n",
    "        maximo = newlist.index(max(newlist))\n",
    "        newlist[maximo] = decimal.Decimal(newlist[maximo] - resto)\n",
    "    elif sum(newlist) < 1:\n",
    "        resto = decimal.Decimal(sum(newlist) - 1)\n",
    "        maximo = newlist.index(max(newlist))\n",
    "        newlist[maximo] = decimal.Decimal(newlist[maximo] + resto)\n",
    "    print(sum(newlist))\n",
    "    return newlist"
   ]
  },
  {
   "cell_type": "code",
   "execution_count": 66,
   "id": "proprietary-beast",
   "metadata": {},
   "outputs": [],
   "source": [
    "import csv"
   ]
  },
  {
   "cell_type": "code",
   "execution_count": 102,
   "id": "lucky-negative",
   "metadata": {},
   "outputs": [],
   "source": [
    "def special_submission(weights, dates=None, assets=None):\n",
    "    weights = np.clip(weights, 0, 1)\n",
    "    def fix_weights(weights):\n",
    "        new_weights = []\n",
    "        for weight in weights:\n",
    "            weight_str = str(weight)\n",
    "            if \"e\" not in weight_str:\n",
    "                weight_str = weight_str[:4]\n",
    "                if all([w in [\"0\", \".\"] for w in weight_str]):\n",
    "                    weight_str = \"0\"\n",
    "            else:\n",
    "                weight_str=\"0\"\n",
    "            #print(weight_str)\n",
    "            new_weights.append(weight_str)\n",
    "        \n",
    "        weights_floats = [float(s) for s in new_weights]\n",
    "        print(sum(weights_floats))\n",
    "        max_pos = weights_floats.index(max(weights_floats))\n",
    "        print(new_weights[max_pos])\n",
    "        suma_str = str(sum(weights_floats))[:4]\n",
    "        resto = 1-float(suma_str)\n",
    "        resto_str = str(resto)[:4]\n",
    "        new_weights[max_pos] = \"0.065\"\n",
    "        return new_weights\n",
    "    newweights = fix_weights(weights)\n",
    "    with open(\"submission_2703.csv\", \"w\") as f:\n",
    "        writer = csv.writer(f)\n",
    "        asset_names_row = [\"eod_ts\"] + [f\"allo_{asset}\" for asset in assets]\n",
    "        writer.writerow(asset_names_row)\n",
    "        for i in range(len(dates)):\n",
    "            weights_this = [dates[i]] + newweights\n",
    "            writer.writerow(weights_this)\n",
    "    return newweights"
   ]
  },
  {
   "cell_type": "code",
   "execution_count": 103,
   "id": "compound-gazette",
   "metadata": {},
   "outputs": [
    {
     "name": "stdout",
     "output_type": "stream",
     "text": [
      "0.6900000000000003\n",
      "0.02\n"
     ]
    }
   ],
   "source": [
    "ws = special_submission(w_pred, date, asset_names)"
   ]
  },
  {
   "cell_type": "code",
   "execution_count": 104,
   "id": "engaging-appearance",
   "metadata": {
    "collapsed": true
   },
   "outputs": [
    {
     "data": {
      "text/plain": [
       "['0',\n",
       " '0',\n",
       " '0',\n",
       " '0',\n",
       " '0',\n",
       " '0.01',\n",
       " '0',\n",
       " '0.065',\n",
       " '0.01',\n",
       " '0',\n",
       " '0',\n",
       " '0',\n",
       " '0.02',\n",
       " '0',\n",
       " '0',\n",
       " '0',\n",
       " '0.01',\n",
       " '0.01',\n",
       " '0.02',\n",
       " '0',\n",
       " '0.02',\n",
       " '0',\n",
       " '0.02',\n",
       " '0.01',\n",
       " '0',\n",
       " '0',\n",
       " '0.02',\n",
       " '0',\n",
       " '0.02',\n",
       " '0.02',\n",
       " '0',\n",
       " '0.01',\n",
       " '0.01',\n",
       " '0.02',\n",
       " '0.01',\n",
       " '0.01',\n",
       " '0',\n",
       " '0.01',\n",
       " '0',\n",
       " '0',\n",
       " '0.02',\n",
       " '0.01',\n",
       " '0.02',\n",
       " '0.01',\n",
       " '0.02',\n",
       " '0',\n",
       " '0',\n",
       " '0.01',\n",
       " '0',\n",
       " '0.01',\n",
       " '0',\n",
       " '0',\n",
       " '0',\n",
       " '0',\n",
       " '0',\n",
       " '0.01',\n",
       " '0.02',\n",
       " '0.02',\n",
       " '0.01',\n",
       " '0',\n",
       " '0.02',\n",
       " '0.01',\n",
       " '0',\n",
       " '0',\n",
       " '0',\n",
       " '0',\n",
       " '0.01',\n",
       " '0.01',\n",
       " '0',\n",
       " '0.01',\n",
       " '0.01',\n",
       " '0',\n",
       " '0',\n",
       " '0.02',\n",
       " '0.02',\n",
       " '0.01',\n",
       " '0.01',\n",
       " '0',\n",
       " '0',\n",
       " '0.01',\n",
       " '0',\n",
       " '0',\n",
       " '0.01',\n",
       " '0',\n",
       " '0.02',\n",
       " '0',\n",
       " '0.02',\n",
       " '0',\n",
       " '0',\n",
       " '0.02',\n",
       " '0',\n",
       " '0.02',\n",
       " '0',\n",
       " '0',\n",
       " '0.02',\n",
       " '0']"
      ]
     },
     "execution_count": 104,
     "metadata": {},
     "output_type": "execute_result"
    }
   ],
   "source": [
    "ws"
   ]
  },
  {
   "cell_type": "code",
   "execution_count": 70,
   "id": "consistent-mining",
   "metadata": {},
   "outputs": [],
   "source": [
    "subm_plantilla = pd.read_csv(\"./submission/submission.csv\")\n",
    "date = subm_plantilla[\"eod_ts\"].tolist()"
   ]
  },
  {
   "cell_type": "code",
   "execution_count": 85,
   "id": "entertaining-vacuum",
   "metadata": {},
   "outputs": [],
   "source": [
    "w_ints = [int(w.replace(\".\", \"\")) for w in ws]"
   ]
  },
  {
   "cell_type": "code",
   "execution_count": 86,
   "id": "moral-angel",
   "metadata": {},
   "outputs": [
    {
     "data": {
      "text/plain": [
       "1000"
      ]
     },
     "execution_count": 86,
     "metadata": {},
     "output_type": "execute_result"
    }
   ],
   "source": [
    "sum(w_ints)"
   ]
  },
  {
   "cell_type": "code",
   "execution_count": 59,
   "id": "curious-exhibit",
   "metadata": {},
   "outputs": [
    {
     "data": {
      "text/plain": [
       "0.065"
      ]
     },
     "execution_count": 59,
     "metadata": {},
     "output_type": "execute_result"
    }
   ],
   "source": [
    "0.029+0.036"
   ]
  },
  {
   "cell_type": "code",
   "execution_count": 540,
   "id": "colonial-jonathan",
   "metadata": {},
   "outputs": [
    {
     "name": "stdout",
     "output_type": "stream",
     "text": [
      "1.004\n"
     ]
    }
   ],
   "source": [
    "w_pred = special_fixer(w_pred)"
   ]
  },
  {
   "cell_type": "code",
   "execution_count": 541,
   "id": "behavioral-prairie",
   "metadata": {},
   "outputs": [
    {
     "data": {
      "text/plain": [
       "Decimal('1.004')"
      ]
     },
     "execution_count": 541,
     "metadata": {},
     "output_type": "execute_result"
    }
   ],
   "source": [
    "sum(w_pred)"
   ]
  },
  {
   "cell_type": "code",
   "execution_count": 543,
   "id": "identified-greensboro",
   "metadata": {},
   "outputs": [],
   "source": [
    "import decimal"
   ]
  },
  {
   "cell_type": "code",
   "execution_count": 544,
   "id": "residential-hardware",
   "metadata": {},
   "outputs": [],
   "source": [
    "w_pred[w_pred.index(max(w_pred))] -= decimal.Decimal(0.004)"
   ]
  },
  {
   "cell_type": "code",
   "execution_count": 545,
   "id": "latin-accommodation",
   "metadata": {},
   "outputs": [
    {
     "data": {
      "text/plain": [
       "Decimal('0.9999999999999999999167332732')"
      ]
     },
     "execution_count": 545,
     "metadata": {},
     "output_type": "execute_result"
    }
   ],
   "source": [
    "sum(w_pred)"
   ]
  },
  {
   "cell_type": "code",
   "execution_count": 76,
   "id": "atlantic-linux",
   "metadata": {},
   "outputs": [],
   "source": [
    "w_pred = general_weights_fixer(w_pred)"
   ]
  },
  {
   "cell_type": "code",
   "execution_count": null,
   "id": "married-charleston",
   "metadata": {},
   "outputs": [],
   "source": [
    "w_pred[np.argmax(w_pred)] = w_pred[np.argmax(w_pred)] - 0.02"
   ]
  },
  {
   "cell_type": "code",
   "execution_count": 300,
   "id": "humanitarian-wildlife",
   "metadata": {},
   "outputs": [
    {
     "data": {
      "text/plain": [
       "18"
      ]
     },
     "execution_count": 300,
     "metadata": {},
     "output_type": "execute_result"
    }
   ],
   "source": [
    "np.argmax(w_pred)"
   ]
  },
  {
   "cell_type": "code",
   "execution_count": 301,
   "id": "developmental-dairy",
   "metadata": {},
   "outputs": [],
   "source": [
    "w_pred[18] += 0.001000046730041504\n"
   ]
  },
  {
   "cell_type": "code",
   "execution_count": 55,
   "id": "coordinate-terminology",
   "metadata": {},
   "outputs": [],
   "source": [
    "w_pred = general_weights_fixer(w_pred)"
   ]
  },
  {
   "cell_type": "code",
   "execution_count": 387,
   "id": "mysterious-western",
   "metadata": {},
   "outputs": [],
   "source": [
    "#w_pred = w_pred / w_pred.sum()"
   ]
  },
  {
   "cell_type": "code",
   "execution_count": 388,
   "id": "interesting-andrew",
   "metadata": {},
   "outputs": [],
   "source": [
    "#w_pred = w_pred / w_pred.sum()"
   ]
  },
  {
   "cell_type": "code",
   "execution_count": 151,
   "id": "played-courage",
   "metadata": {},
   "outputs": [],
   "source": [
    "w_pred = w_pred / sum(w_pred)"
   ]
  },
  {
   "cell_type": "code",
   "execution_count": 311,
   "id": "flush-intent",
   "metadata": {},
   "outputs": [],
   "source": [
    "w_pred[18] = w_pred[18] - 0.000000047730282"
   ]
  },
  {
   "cell_type": "code",
   "execution_count": 77,
   "id": "stock-vanilla",
   "metadata": {},
   "outputs": [
    {
     "data": {
      "text/plain": [
       "1.0"
      ]
     },
     "execution_count": 77,
     "metadata": {},
     "output_type": "execute_result"
    }
   ],
   "source": [
    "sum(w_pred)"
   ]
  },
  {
   "cell_type": "code",
   "execution_count": 78,
   "id": "friendly-guard",
   "metadata": {},
   "outputs": [
    {
     "ename": "AttributeError",
     "evalue": "'list' object has no attribute 'sum'",
     "output_type": "error",
     "traceback": [
      "\u001b[0;31m---------------------------------------------------------------------------\u001b[0m",
      "\u001b[0;31mAttributeError\u001b[0m                            Traceback (most recent call last)",
      "\u001b[0;32m<ipython-input-78-d2105d9999d3>\u001b[0m in \u001b[0;36m<module>\u001b[0;34m\u001b[0m\n\u001b[0;32m----> 1\u001b[0;31m \u001b[0mw_pred\u001b[0m\u001b[0;34m.\u001b[0m\u001b[0msum\u001b[0m\u001b[0;34m(\u001b[0m\u001b[0;34m)\u001b[0m\u001b[0;34m\u001b[0m\u001b[0;34m\u001b[0m\u001b[0m\n\u001b[0m",
      "\u001b[0;31mAttributeError\u001b[0m: 'list' object has no attribute 'sum'"
     ]
    }
   ],
   "source": [
    "w_pred.sum()"
   ]
  },
  {
   "cell_type": "code",
   "execution_count": 393,
   "id": "negative-faculty",
   "metadata": {},
   "outputs": [
    {
     "data": {
      "text/plain": [
       "0.01850000023841858"
      ]
     },
     "execution_count": 393,
     "metadata": {},
     "output_type": "execute_result"
    }
   ],
   "source": [
    "w_pred[5]"
   ]
  },
  {
   "cell_type": "code",
   "execution_count": 147,
   "id": "multiple-metadata",
   "metadata": {},
   "outputs": [
    {
     "data": {
      "text/plain": [
       "1.0000000301661203"
      ]
     },
     "execution_count": 147,
     "metadata": {},
     "output_type": "execute_result"
    }
   ],
   "source": [
    "sum(w_pred)"
   ]
  },
  {
   "cell_type": "code",
   "execution_count": 146,
   "id": "bigger-diploma",
   "metadata": {},
   "outputs": [],
   "source": [
    "w_pred = w_pred / sum(w_pred)"
   ]
  },
  {
   "cell_type": "code",
   "execution_count": 79,
   "id": "substantial-director",
   "metadata": {},
   "outputs": [],
   "source": [
    "dict_weights = {asset:weight for asset,weight in zip(asset_names, w_pred)}"
   ]
  },
  {
   "cell_type": "code",
   "execution_count": 80,
   "id": "knowing-aspect",
   "metadata": {},
   "outputs": [
    {
     "data": {
      "text/plain": [
       "1.0"
      ]
     },
     "execution_count": 80,
     "metadata": {},
     "output_type": "execute_result"
    }
   ],
   "source": [
    "sum(dict_weights.values())"
   ]
  },
  {
   "cell_type": "code",
   "execution_count": 322,
   "id": "complete-bacon",
   "metadata": {},
   "outputs": [],
   "source": [
    "w_pred = w_pred.astype(np.float16)"
   ]
  },
  {
   "cell_type": "code",
   "execution_count": 188,
   "id": "bright-dressing",
   "metadata": {},
   "outputs": [],
   "source": [
    "#df_daily = df.resample(\"D\").aggregate(\"mean\")"
   ]
  },
  {
   "cell_type": "code",
   "execution_count": 153,
   "id": "intended-faculty",
   "metadata": {},
   "outputs": [],
   "source": [
    "#df_daily_after = df_daily.loc[df_daily.index >= \"2020-05-01\"]"
   ]
  },
  {
   "cell_type": "code",
   "execution_count": 55,
   "id": "occupied-voltage",
   "metadata": {},
   "outputs": [],
   "source": [
    "candles_closes = {k:v[[\"close\"]] for k, v in candles.items()}"
   ]
  },
  {
   "cell_type": "code",
   "execution_count": 323,
   "id": "union-military",
   "metadata": {},
   "outputs": [
    {
     "data": {
      "text/plain": [
       "1.0"
      ]
     },
     "execution_count": 323,
     "metadata": {},
     "output_type": "execute_result"
    }
   ],
   "source": [
    "w_pred.sum()"
   ]
  },
  {
   "cell_type": "code",
   "execution_count": 56,
   "id": "illegal-input",
   "metadata": {},
   "outputs": [],
   "source": [
    "def _process_df(df, name):\n",
    "    df.columns = [name]\n",
    "    return df"
   ]
  },
  {
   "cell_type": "code",
   "execution_count": 57,
   "id": "framed-article",
   "metadata": {},
   "outputs": [],
   "source": [
    "candle_closes = {k: _process_df(v, k) for k, v in candles_closes.items()}"
   ]
  },
  {
   "cell_type": "code",
   "execution_count": 58,
   "id": "radical-alberta",
   "metadata": {},
   "outputs": [],
   "source": [
    "df_closes = pd.concat(candles_closes.values(), keys=candles_closes.keys(), axis=1)"
   ]
  },
  {
   "cell_type": "code",
   "execution_count": 59,
   "id": "agreed-place",
   "metadata": {},
   "outputs": [],
   "source": [
    "df_closes.columns = df_closes.columns.droplevel()"
   ]
  },
  {
   "cell_type": "code",
   "execution_count": 60,
   "id": "alien-suicide",
   "metadata": {},
   "outputs": [],
   "source": [
    "df_daily = df_closes.resample(\"D\").aggregate(\"mean\")"
   ]
  },
  {
   "cell_type": "code",
   "execution_count": 61,
   "id": "controlling-consideration",
   "metadata": {},
   "outputs": [],
   "source": [
    "df_daily = df_daily.pct_change()\n",
    "df_daily_after = df_daily.loc[df_daily.index >= \"2020-05-01\"]"
   ]
  },
  {
   "cell_type": "code",
   "execution_count": 86,
   "id": "selective-venezuela",
   "metadata": {},
   "outputs": [
    {
     "name": "stderr",
     "output_type": "stream",
     "text": [
      "48it [00:00, 6537.00it/s]\n"
     ]
    }
   ],
   "source": [
    "from tqdm import tqdm\n",
    "import numpy as np\n",
    "perc_returns = []\n",
    "\n",
    "for _, row in tqdm(df_daily_after.iterrows()):\n",
    "    perc_returns.append(\n",
    "        np.dot(w_pred, row.values)\n",
    "    )"
   ]
  },
  {
   "cell_type": "code",
   "execution_count": 87,
   "id": "democratic-dragon",
   "metadata": {},
   "outputs": [
    {
     "data": {
      "text/plain": [
       "0.8589561152495279"
      ]
     },
     "execution_count": 87,
     "metadata": {},
     "output_type": "execute_result"
    }
   ],
   "source": [
    "(np.mean(perc_returns) / np.std(perc_returns))**(2/12)"
   ]
  },
  {
   "cell_type": "code",
   "execution_count": 88,
   "id": "lesbian-minneapolis",
   "metadata": {},
   "outputs": [
    {
     "data": {
      "text/plain": [
       "0.0006805120478172991"
      ]
     },
     "execution_count": 88,
     "metadata": {},
     "output_type": "execute_result"
    }
   ],
   "source": [
    "np.std(perc_returns)"
   ]
  },
  {
   "cell_type": "code",
   "execution_count": 174,
   "id": "senior-prevention",
   "metadata": {},
   "outputs": [
    {
     "data": {
      "text/plain": [
       "0.7678111753795451"
      ]
     },
     "execution_count": 174,
     "metadata": {},
     "output_type": "execute_result"
    }
   ],
   "source": [
    "(np.mean(perc_returns) / np.std(perc_returns))**(2/12)"
   ]
  },
  {
   "cell_type": "code",
   "execution_count": 194,
   "id": "direct-transcription",
   "metadata": {},
   "outputs": [
    {
     "data": {
      "text/plain": [
       "0.00027905598867840873"
      ]
     },
     "execution_count": 194,
     "metadata": {},
     "output_type": "execute_result"
    }
   ],
   "source": [
    "np.mean(perc_returns)"
   ]
  },
  {
   "cell_type": "code",
   "execution_count": 176,
   "id": "average-munich",
   "metadata": {},
   "outputs": [
    {
     "data": {
      "text/plain": [
       "0.0012377100934740635"
      ]
     },
     "execution_count": 176,
     "metadata": {},
     "output_type": "execute_result"
    }
   ],
   "source": [
    "np.std(perc_returns)"
   ]
  },
  {
   "cell_type": "code",
   "execution_count": 568,
   "id": "varying-entrance",
   "metadata": {},
   "outputs": [],
   "source": [
    "#perc_returns"
   ]
  },
  {
   "cell_type": "code",
   "execution_count": 119,
   "id": "loving-handling",
   "metadata": {},
   "outputs": [
    {
     "data": {
      "text/plain": [
       "1.0"
      ]
     },
     "execution_count": 119,
     "metadata": {},
     "output_type": "execute_result"
    }
   ],
   "source": [
    "sum(dict_weights.values())"
   ]
  },
  {
   "cell_type": "code",
   "execution_count": 49,
   "id": "ethical-preference",
   "metadata": {},
   "outputs": [],
   "source": [
    "#list(sorted(dict_weights, key=dict_weights.get, reverse=True))"
   ]
  },
  {
   "cell_type": "code",
   "execution_count": 48,
   "id": "overall-profession",
   "metadata": {},
   "outputs": [],
   "source": [
    "#list(sorted(dict_weights, key=dict_weights.get, reverse=True))"
   ]
  },
  {
   "cell_type": "code",
   "execution_count": 157,
   "id": "familiar-summit",
   "metadata": {},
   "outputs": [],
   "source": [
    "def get_submission_markowitz(weights, assets):\n",
    "    #weights = _fix_weights(weights)\n",
    "    subm_plantilla = pd.read_csv(\"./submission/submission.csv\")\n",
    "    date = subm_plantilla[\"eod_ts\"]\n",
    "    cols = {\n",
    "        f\"allo_{asset.replace('_close', '')}\": [weights[f\"{asset}\"]] * len(date) for asset in assets\n",
    "    }\n",
    "    return pd.DataFrame({\"eod_ts\": date, **cols}).set_index(\"eod_ts\")"
   ]
  },
  {
   "cell_type": "code",
   "execution_count": 45,
   "id": "attractive-update",
   "metadata": {},
   "outputs": [],
   "source": [
    "df_sub = pd.DataFrame(data=np.repeat([w_pred], 2229, axis=0), columns = asset_names)"
   ]
  },
  {
   "cell_type": "code",
   "execution_count": 46,
   "id": "inner-progress",
   "metadata": {},
   "outputs": [
    {
     "data": {
      "text/plain": [
       "True"
      ]
     },
     "execution_count": 46,
     "metadata": {},
     "output_type": "execute_result"
    }
   ],
   "source": [
    "all(df_sub.sum(axis=1) == 1)"
   ]
  },
  {
   "cell_type": "code",
   "execution_count": 109,
   "id": "mental-machine",
   "metadata": {},
   "outputs": [],
   "source": [
    "df_sub = df_sub.div(df_sub.sum(axis=1), axis=0)"
   ]
  },
  {
   "cell_type": "code",
   "execution_count": 47,
   "id": "suburban-cartoon",
   "metadata": {},
   "outputs": [],
   "source": [
    "test_submission(df_sub)"
   ]
  },
  {
   "cell_type": "code",
   "execution_count": 48,
   "id": "valid-benefit",
   "metadata": {},
   "outputs": [],
   "source": [
    "subm_plantilla = pd.read_csv(\"./submission/submission.csv\")\n",
    "date = subm_plantilla[\"eod_ts\"]"
   ]
  },
  {
   "cell_type": "code",
   "execution_count": 49,
   "id": "pleasant-national",
   "metadata": {},
   "outputs": [],
   "source": [
    "df_sub.set_index(date, inplace=True)"
   ]
  },
  {
   "cell_type": "code",
   "execution_count": 81,
   "id": "bright-native",
   "metadata": {},
   "outputs": [],
   "source": [
    "submission = get_submission_markowitz(dict_weights, asset_names)"
   ]
  },
  {
   "cell_type": "code",
   "execution_count": 82,
   "id": "korean-combat",
   "metadata": {},
   "outputs": [
    {
     "data": {
      "text/plain": [
       "True"
      ]
     },
     "execution_count": 82,
     "metadata": {},
     "output_type": "execute_result"
    }
   ],
   "source": [
    "all(submission.sum(axis=1) == 1)"
   ]
  },
  {
   "cell_type": "code",
   "execution_count": 83,
   "id": "adjusted-utility",
   "metadata": {},
   "outputs": [
    {
     "data": {
      "text/plain": [
       "True"
      ]
     },
     "execution_count": 83,
     "metadata": {},
     "output_type": "execute_result"
    }
   ],
   "source": [
    "all(submission.dtypes == float)"
   ]
  },
  {
   "cell_type": "code",
   "execution_count": 84,
   "id": "vital-burner",
   "metadata": {},
   "outputs": [
    {
     "data": {
      "text/plain": [
       "0.0020000000949949026"
      ]
     },
     "execution_count": 84,
     "metadata": {},
     "output_type": "execute_result"
    }
   ],
   "source": [
    "submission.iloc[0,:].values[18]"
   ]
  },
  {
   "cell_type": "code",
   "execution_count": null,
   "id": "architectural-communications",
   "metadata": {},
   "outputs": [],
   "source": []
  },
  {
   "cell_type": "code",
   "execution_count": 439,
   "id": "framed-natural",
   "metadata": {},
   "outputs": [
    {
     "data": {
      "text/plain": [
       "array([0.    , 0.    , 0.    , 0.    , 0.    , 0.0179, 0.    , 0.024 ,\n",
       "       0.0095, 0.    , 0.    , 0.    , 0.0315, 0.    , 0.    , 0.0021,\n",
       "       0.0159, 0.0192, 0.0351, 0.    , 0.0275, 0.    , 0.028 , 0.0105,\n",
       "       0.0008, 0.    , 0.0322, 0.0047, 0.0288, 0.0272, 0.0092, 0.0162,\n",
       "       0.0143, 0.0298, 0.0131, 0.0186, 0.    , 0.0119, 0.    , 0.    ,\n",
       "       0.0232, 0.0169, 0.02  , 0.0114, 0.0317, 0.    , 0.    , 0.0198,\n",
       "       0.    , 0.0234, 0.0081, 0.0012, 0.    , 0.0012, 0.0052, 0.0045,\n",
       "       0.0298, 0.0294, 0.0117, 0.    , 0.0272, 0.0093, 0.0107, 0.    ,\n",
       "       0.    , 0.    , 0.0152, 0.0119, 0.    , 0.0115, 0.0147, 0.    ,\n",
       "       0.    , 0.0238, 0.0195, 0.0089, 0.0108, 0.    , 0.0023, 0.0158,\n",
       "       0.    , 0.    , 0.0179, 0.0046, 0.0233, 0.    , 0.0208, 0.    ,\n",
       "       0.    , 0.025 , 0.0067, 0.0246, 0.    , 0.    , 0.0263, 0.0037])"
      ]
     },
     "execution_count": 439,
     "metadata": {},
     "output_type": "execute_result"
    }
   ],
   "source": [
    "df_sub.iloc[0,:].values"
   ]
  },
  {
   "cell_type": "code",
   "execution_count": 476,
   "id": "indirect-thermal",
   "metadata": {},
   "outputs": [],
   "source": [
    "submission = submission.div(submission.sum(axis=1), axis=0)"
   ]
  },
  {
   "cell_type": "code",
   "execution_count": 85,
   "id": "grand-animation",
   "metadata": {},
   "outputs": [],
   "source": [
    "test_submission(submission)"
   ]
  },
  {
   "cell_type": "code",
   "execution_count": 162,
   "id": "tribal-olive",
   "metadata": {},
   "outputs": [],
   "source": [
    "test_submission(submission)"
   ]
  },
  {
   "cell_type": "code",
   "execution_count": 587,
   "id": "abroad-zealand",
   "metadata": {},
   "outputs": [
    {
     "data": {
      "text/plain": [
       "array([0.00000000e+00, 1.45989321e-02, 1.43861296e-02, 4.21040272e-03,\n",
       "       3.21725830e-02, 2.21164478e-03, 1.59510807e-03, 4.12489008e-03,\n",
       "       2.70100217e-02, 5.17307781e-03, 1.59398746e-02, 1.53093245e-02,\n",
       "       1.33742113e-02, 3.83494655e-03, 0.00000000e+00, 0.00000000e+00,\n",
       "       6.90140296e-04, 0.00000000e+00, 2.18918826e-02, 1.53053161e-02,\n",
       "       3.95308062e-03, 9.05122515e-03, 0.00000000e+00, 6.75635133e-03,\n",
       "       4.49887430e-03, 8.03503301e-03, 1.64335361e-07, 6.09163567e-03,\n",
       "       5.71171893e-03, 1.17649417e-03, 0.00000000e+00, 0.00000000e+00,\n",
       "       2.43258867e-02, 6.68137916e-04, 3.26395221e-02, 1.40129414e-03,\n",
       "       9.57918447e-03, 1.12057636e-02, 0.00000000e+00, 1.52776539e-02,\n",
       "       0.00000000e+00, 5.71099808e-03, 3.46641131e-02, 1.53650697e-02,\n",
       "       1.96753405e-02, 4.54254402e-03, 0.00000000e+00, 1.07159987e-02,\n",
       "       1.71871409e-02, 0.00000000e+00, 5.82815893e-03, 0.00000000e+00,\n",
       "       1.99737195e-02, 1.63378157e-02, 2.84672454e-02, 2.18203980e-02,\n",
       "       2.05919426e-03, 2.56097279e-02, 1.55068925e-02, 1.33229466e-02,\n",
       "       0.00000000e+00, 0.00000000e+00, 4.15668637e-03, 0.00000000e+00,\n",
       "       0.00000000e+00, 1.37914317e-02, 6.80377614e-03, 1.32809306e-04,\n",
       "       4.10441105e-04, 0.00000000e+00, 1.76769756e-02, 1.00972792e-02,\n",
       "       3.42163704e-02, 6.44603837e-03, 3.91868688e-02, 3.81647982e-02,\n",
       "       1.56597455e-03, 6.00727787e-03, 1.10752266e-02, 1.17884045e-02,\n",
       "       1.43672759e-02, 0.00000000e+00, 3.09536979e-03, 7.35279080e-03,\n",
       "       0.00000000e+00, 0.00000000e+00, 3.58422920e-02, 3.25856432e-02,\n",
       "       0.00000000e+00, 3.37255634e-02, 1.77161433e-02, 1.64835546e-02,\n",
       "       5.18301828e-03, 9.66261048e-03, 2.16674781e-03, 3.13107967e-02],\n",
       "      dtype=float32)"
      ]
     },
     "execution_count": 587,
     "metadata": {},
     "output_type": "execute_result"
    }
   ],
   "source": [
    "df_sub.iloc[0,:].values"
   ]
  },
  {
   "cell_type": "code",
   "execution_count": 176,
   "id": "incorrect-instrumentation",
   "metadata": {},
   "outputs": [
    {
     "data": {
      "text/plain": [
       "array([0.00000000e+00, 0.00000000e+00, 0.00000000e+00, 0.00000000e+00,\n",
       "       0.00000000e+00, 1.85000002e-02, 0.00000000e+00, 2.34999992e-02,\n",
       "       9.80000012e-03, 0.00000000e+00, 0.00000000e+00, 0.00000000e+00,\n",
       "       3.06000002e-02, 0.00000000e+00, 0.00000000e+00, 2.79999990e-03,\n",
       "       1.59000009e-02, 1.96000002e-02, 3.36000008e-02, 0.00000000e+00,\n",
       "       2.67999992e-02, 0.00000000e+00, 2.72000004e-02, 1.05999997e-02,\n",
       "       3.99999990e-04, 0.00000000e+00, 3.07000000e-02, 4.80000023e-03,\n",
       "       2.85000000e-02, 2.64999997e-02, 9.20000020e-03, 1.62000004e-02,\n",
       "       1.41000003e-02, 2.94000003e-02, 1.37000000e-02, 1.93000007e-02,\n",
       "       9.99999975e-05, 1.32999998e-02, 0.00000000e+00, 0.00000000e+00,\n",
       "       2.30000000e-02, 1.75000001e-02, 2.01999992e-02, 1.15999999e-02,\n",
       "       3.03000007e-02, 0.00000000e+00, 0.00000000e+00, 2.01999992e-02,\n",
       "       0.00000000e+00, 2.22999994e-02, 7.79999979e-03, 1.30000000e-03,\n",
       "       0.00000000e+00, 1.30000000e-03, 5.29999984e-03, 6.80000009e-03,\n",
       "       2.87999995e-02, 2.88999993e-02, 1.18000004e-02, 0.00000000e+00,\n",
       "       2.70000007e-02, 9.99999978e-03, 1.04999999e-02, 0.00000000e+00,\n",
       "       0.00000000e+00, 0.00000000e+00, 1.53999999e-02, 1.25000002e-02,\n",
       "       0.00000000e+00, 1.15999999e-02, 1.47000002e-02, 0.00000000e+00,\n",
       "       0.00000000e+00, 2.32999995e-02, 2.03000009e-02, 9.39999986e-03,\n",
       "       1.09999999e-02, 0.00000000e+00, 2.89999996e-03, 1.53000001e-02,\n",
       "       0.00000000e+00, 0.00000000e+00, 1.82000007e-02, 4.60000010e-03,\n",
       "       2.32999995e-02, 0.00000000e+00, 2.10999995e-02, 0.00000000e+00,\n",
       "       0.00000000e+00, 2.50000004e-02, 6.69999979e-03, 2.45999992e-02,\n",
       "       0.00000000e+00, 0.00000000e+00, 2.63000000e-02, 4.10000002e-03])"
      ]
     },
     "execution_count": 176,
     "metadata": {},
     "output_type": "execute_result"
    }
   ],
   "source": [
    "submission.iloc[0,:].values"
   ]
  },
  {
   "cell_type": "code",
   "execution_count": 413,
   "id": "dense-certification",
   "metadata": {},
   "outputs": [
    {
     "data": {
      "text/plain": [
       "0"
      ]
     },
     "execution_count": 413,
     "metadata": {},
     "output_type": "execute_result"
    }
   ],
   "source": [
    "sum(n < 0 for n in submission.iloc[:, 1:].values.flatten())"
   ]
  },
  {
   "cell_type": "code",
   "execution_count": 640,
   "id": "flush-steal",
   "metadata": {},
   "outputs": [],
   "source": [
    "df_sub = df_sub.astype(np.float16)"
   ]
  },
  {
   "cell_type": "code",
   "execution_count": 338,
   "id": "political-israel",
   "metadata": {},
   "outputs": [],
   "source": [
    "df_sub = df_sub.div(df_sub.sum(axis=1), axis=0)"
   ]
  },
  {
   "cell_type": "code",
   "execution_count": 245,
   "id": "thorough-collection",
   "metadata": {},
   "outputs": [],
   "source": [
    "df_sub = df_sub.astype(np.float32)"
   ]
  },
  {
   "cell_type": "code",
   "execution_count": 588,
   "id": "driven-clone",
   "metadata": {},
   "outputs": [],
   "source": [
    "df_sub.astype(float).div(df_sub.sum(axis=1), axis=0).to_csv(\"submission_2603_2.csv\", header=True, index=True)# , float_precision='round_trip')"
   ]
  },
  {
   "cell_type": "code",
   "execution_count": 246,
   "id": "severe-master",
   "metadata": {},
   "outputs": [
    {
     "data": {
      "text/plain": [
       "array([0.0000000e+00, 0.0000000e+00, 0.0000000e+00, 0.0000000e+00,\n",
       "       0.0000000e+00, 1.8477086e-02, 0.0000000e+00, 2.3535321e-02,\n",
       "       9.8393075e-03, 0.0000000e+00, 0.0000000e+00, 0.0000000e+00,\n",
       "       3.0553199e-02, 0.0000000e+00, 0.0000000e+00, 2.8049545e-03,\n",
       "       1.5937090e-02, 1.9612409e-02, 3.3682685e-02, 0.0000000e+00,\n",
       "       2.6838323e-02, 0.0000000e+00, 2.7171655e-02, 1.0564563e-02,\n",
       "       4.4521887e-04, 0.0000000e+00, 3.0676577e-02, 4.8290952e-03,\n",
       "       2.8457163e-02, 2.6459334e-02, 9.1716582e-03, 1.6155057e-02,\n",
       "       1.4143557e-02, 2.9429456e-02, 1.3728809e-02, 1.9265421e-02,\n",
       "       5.9583581e-05, 1.3279643e-02, 0.0000000e+00, 0.0000000e+00,\n",
       "       2.3031456e-02, 1.7463757e-02, 2.0181036e-02, 1.1559539e-02,\n",
       "       3.0250018e-02, 0.0000000e+00, 0.0000000e+00, 2.0170992e-02,\n",
       "       0.0000000e+00, 2.2295335e-02, 7.7851103e-03, 1.3100536e-03,\n",
       "       0.0000000e+00, 1.2508037e-03, 5.3152116e-03, 6.8090158e-03,\n",
       "       2.8805181e-02, 2.8878961e-02, 1.1826767e-02, 0.0000000e+00,\n",
       "       2.6979202e-02, 9.9649597e-03, 1.0540150e-02, 0.0000000e+00,\n",
       "       0.0000000e+00, 0.0000000e+00, 1.5446681e-02, 1.2504370e-02,\n",
       "       0.0000000e+00, 1.1646218e-02, 1.4732274e-02, 0.0000000e+00,\n",
       "       0.0000000e+00, 2.3282725e-02, 2.0274352e-02, 9.3950108e-03,\n",
       "       1.1049684e-02, 0.0000000e+00, 2.8846778e-03, 1.5339436e-02,\n",
       "       0.0000000e+00, 0.0000000e+00, 1.8206123e-02, 4.6294574e-03,\n",
       "       2.3275752e-02, 0.0000000e+00, 2.1124158e-02, 0.0000000e+00,\n",
       "       0.0000000e+00, 2.4988633e-02, 6.7081647e-03, 2.4625475e-02,\n",
       "       0.0000000e+00, 0.0000000e+00, 2.6301974e-02, 4.0501077e-03],\n",
       "      dtype=float32)"
      ]
     },
     "execution_count": 246,
     "metadata": {},
     "output_type": "execute_result"
    }
   ],
   "source": [
    "df_sub.iloc[0,:].values"
   ]
  },
  {
   "cell_type": "code",
   "execution_count": 441,
   "id": "prompt-penetration",
   "metadata": {},
   "outputs": [
    {
     "data": {
      "text/html": [
       "<div>\n",
       "<style scoped>\n",
       "    .dataframe tbody tr th:only-of-type {\n",
       "        vertical-align: middle;\n",
       "    }\n",
       "\n",
       "    .dataframe tbody tr th {\n",
       "        vertical-align: top;\n",
       "    }\n",
       "\n",
       "    .dataframe thead th {\n",
       "        text-align: right;\n",
       "    }\n",
       "</style>\n",
       "<table border=\"1\" class=\"dataframe\">\n",
       "  <thead>\n",
       "    <tr style=\"text-align: right;\">\n",
       "      <th></th>\n",
       "      <th>allo_ACY</th>\n",
       "      <th>allo_AUX</th>\n",
       "      <th>allo_AWW</th>\n",
       "      <th>allo_AZG</th>\n",
       "      <th>allo_BAX</th>\n",
       "      <th>allo_BFS</th>\n",
       "      <th>allo_BGN</th>\n",
       "      <th>allo_BOT</th>\n",
       "      <th>allo_BSX</th>\n",
       "      <th>allo_BZC</th>\n",
       "      <th>...</th>\n",
       "      <th>allo_XRX</th>\n",
       "      <th>allo_YAX</th>\n",
       "      <th>allo_YEC</th>\n",
       "      <th>allo_YFC</th>\n",
       "      <th>allo_ZAB</th>\n",
       "      <th>allo_ZCD</th>\n",
       "      <th>allo_ZTY</th>\n",
       "      <th>allo_ZUJ</th>\n",
       "      <th>allo_ZVQ</th>\n",
       "      <th>allo_ZXW</th>\n",
       "    </tr>\n",
       "    <tr>\n",
       "      <th>eod_ts</th>\n",
       "      <th></th>\n",
       "      <th></th>\n",
       "      <th></th>\n",
       "      <th></th>\n",
       "      <th></th>\n",
       "      <th></th>\n",
       "      <th></th>\n",
       "      <th></th>\n",
       "      <th></th>\n",
       "      <th></th>\n",
       "      <th></th>\n",
       "      <th></th>\n",
       "      <th></th>\n",
       "      <th></th>\n",
       "      <th></th>\n",
       "      <th></th>\n",
       "      <th></th>\n",
       "      <th></th>\n",
       "      <th></th>\n",
       "      <th></th>\n",
       "      <th></th>\n",
       "    </tr>\n",
       "  </thead>\n",
       "  <tbody>\n",
       "    <tr>\n",
       "      <th>2020-08-18 00:00:00</th>\n",
       "      <td>0.000</td>\n",
       "      <td>0.000</td>\n",
       "      <td>0.000</td>\n",
       "      <td>0.000</td>\n",
       "      <td>0.000</td>\n",
       "      <td>0.018</td>\n",
       "      <td>0.000</td>\n",
       "      <td>0.024</td>\n",
       "      <td>0.009</td>\n",
       "      <td>0.000</td>\n",
       "      <td>...</td>\n",
       "      <td>0.021</td>\n",
       "      <td>0.000</td>\n",
       "      <td>0.000</td>\n",
       "      <td>0.025</td>\n",
       "      <td>0.007</td>\n",
       "      <td>0.025</td>\n",
       "      <td>0.000</td>\n",
       "      <td>0.000</td>\n",
       "      <td>0.026</td>\n",
       "      <td>0.004</td>\n",
       "    </tr>\n",
       "    <tr>\n",
       "      <th>2020-08-18 01:00:00</th>\n",
       "      <td>0.000</td>\n",
       "      <td>0.000</td>\n",
       "      <td>0.000</td>\n",
       "      <td>0.000</td>\n",
       "      <td>0.000</td>\n",
       "      <td>0.018</td>\n",
       "      <td>0.000</td>\n",
       "      <td>0.024</td>\n",
       "      <td>0.009</td>\n",
       "      <td>0.000</td>\n",
       "      <td>...</td>\n",
       "      <td>0.021</td>\n",
       "      <td>0.000</td>\n",
       "      <td>0.000</td>\n",
       "      <td>0.025</td>\n",
       "      <td>0.007</td>\n",
       "      <td>0.025</td>\n",
       "      <td>0.000</td>\n",
       "      <td>0.000</td>\n",
       "      <td>0.026</td>\n",
       "      <td>0.004</td>\n",
       "    </tr>\n",
       "    <tr>\n",
       "      <th>2020-08-18 02:00:00</th>\n",
       "      <td>0.000</td>\n",
       "      <td>0.000</td>\n",
       "      <td>0.000</td>\n",
       "      <td>0.000</td>\n",
       "      <td>0.000</td>\n",
       "      <td>0.018</td>\n",
       "      <td>0.000</td>\n",
       "      <td>0.024</td>\n",
       "      <td>0.009</td>\n",
       "      <td>0.000</td>\n",
       "      <td>...</td>\n",
       "      <td>0.021</td>\n",
       "      <td>0.000</td>\n",
       "      <td>0.000</td>\n",
       "      <td>0.025</td>\n",
       "      <td>0.007</td>\n",
       "      <td>0.025</td>\n",
       "      <td>0.000</td>\n",
       "      <td>0.000</td>\n",
       "      <td>0.026</td>\n",
       "      <td>0.004</td>\n",
       "    </tr>\n",
       "    <tr>\n",
       "      <th>2020-08-18 03:00:00</th>\n",
       "      <td>0.000</td>\n",
       "      <td>0.000</td>\n",
       "      <td>0.000</td>\n",
       "      <td>0.000</td>\n",
       "      <td>0.000</td>\n",
       "      <td>0.018</td>\n",
       "      <td>0.000</td>\n",
       "      <td>0.024</td>\n",
       "      <td>0.009</td>\n",
       "      <td>0.000</td>\n",
       "      <td>...</td>\n",
       "      <td>0.021</td>\n",
       "      <td>0.000</td>\n",
       "      <td>0.000</td>\n",
       "      <td>0.025</td>\n",
       "      <td>0.007</td>\n",
       "      <td>0.025</td>\n",
       "      <td>0.000</td>\n",
       "      <td>0.000</td>\n",
       "      <td>0.026</td>\n",
       "      <td>0.004</td>\n",
       "    </tr>\n",
       "    <tr>\n",
       "      <th>2020-08-18 04:00:00</th>\n",
       "      <td>0.000</td>\n",
       "      <td>0.000</td>\n",
       "      <td>0.000</td>\n",
       "      <td>0.000</td>\n",
       "      <td>0.000</td>\n",
       "      <td>0.018</td>\n",
       "      <td>0.000</td>\n",
       "      <td>0.024</td>\n",
       "      <td>0.009</td>\n",
       "      <td>0.000</td>\n",
       "      <td>...</td>\n",
       "      <td>0.021</td>\n",
       "      <td>0.000</td>\n",
       "      <td>0.000</td>\n",
       "      <td>0.025</td>\n",
       "      <td>0.007</td>\n",
       "      <td>0.025</td>\n",
       "      <td>0.000</td>\n",
       "      <td>0.000</td>\n",
       "      <td>0.026</td>\n",
       "      <td>0.004</td>\n",
       "    </tr>\n",
       "  </tbody>\n",
       "</table>\n",
       "<p>5 rows × 96 columns</p>\n",
       "</div>"
      ],
      "text/plain": [
       "                     allo_ACY  allo_AUX  allo_AWW  allo_AZG  allo_BAX  \\\n",
       "eod_ts                                                                  \n",
       "2020-08-18 00:00:00     0.000     0.000     0.000     0.000     0.000   \n",
       "2020-08-18 01:00:00     0.000     0.000     0.000     0.000     0.000   \n",
       "2020-08-18 02:00:00     0.000     0.000     0.000     0.000     0.000   \n",
       "2020-08-18 03:00:00     0.000     0.000     0.000     0.000     0.000   \n",
       "2020-08-18 04:00:00     0.000     0.000     0.000     0.000     0.000   \n",
       "\n",
       "                     allo_BFS  allo_BGN  allo_BOT  allo_BSX  allo_BZC  ...  \\\n",
       "eod_ts                                                                 ...   \n",
       "2020-08-18 00:00:00     0.018     0.000     0.024     0.009     0.000  ...   \n",
       "2020-08-18 01:00:00     0.018     0.000     0.024     0.009     0.000  ...   \n",
       "2020-08-18 02:00:00     0.018     0.000     0.024     0.009     0.000  ...   \n",
       "2020-08-18 03:00:00     0.018     0.000     0.024     0.009     0.000  ...   \n",
       "2020-08-18 04:00:00     0.018     0.000     0.024     0.009     0.000  ...   \n",
       "\n",
       "                     allo_XRX  allo_YAX  allo_YEC  allo_YFC  allo_ZAB  \\\n",
       "eod_ts                                                                  \n",
       "2020-08-18 00:00:00     0.021     0.000     0.000     0.025     0.007   \n",
       "2020-08-18 01:00:00     0.021     0.000     0.000     0.025     0.007   \n",
       "2020-08-18 02:00:00     0.021     0.000     0.000     0.025     0.007   \n",
       "2020-08-18 03:00:00     0.021     0.000     0.000     0.025     0.007   \n",
       "2020-08-18 04:00:00     0.021     0.000     0.000     0.025     0.007   \n",
       "\n",
       "                     allo_ZCD  allo_ZTY  allo_ZUJ  allo_ZVQ  allo_ZXW  \n",
       "eod_ts                                                                 \n",
       "2020-08-18 00:00:00     0.025     0.000     0.000     0.026     0.004  \n",
       "2020-08-18 01:00:00     0.025     0.000     0.000     0.026     0.004  \n",
       "2020-08-18 02:00:00     0.025     0.000     0.000     0.026     0.004  \n",
       "2020-08-18 03:00:00     0.025     0.000     0.000     0.026     0.004  \n",
       "2020-08-18 04:00:00     0.025     0.000     0.000     0.026     0.004  \n",
       "\n",
       "[5 rows x 96 columns]"
      ]
     },
     "execution_count": 441,
     "metadata": {},
     "output_type": "execute_result"
    }
   ],
   "source": [
    "df_sub.head()"
   ]
  },
  {
   "cell_type": "code",
   "execution_count": 456,
   "id": "vocational-acceptance",
   "metadata": {},
   "outputs": [],
   "source": [
    "df_sub = df_sub.round(2)"
   ]
  },
  {
   "cell_type": "code",
   "execution_count": 461,
   "id": "therapeutic-island",
   "metadata": {},
   "outputs": [],
   "source": [
    "df_sub = df_sub.div(df_sub.sum(axis=1), axis=0)"
   ]
  },
  {
   "cell_type": "code",
   "execution_count": 50,
   "id": "sunrise-performer",
   "metadata": {},
   "outputs": [],
   "source": [
    "df_sub.columns = [f\"allo_{col}\" for col in df_sub.columns]"
   ]
  },
  {
   "cell_type": "code",
   "execution_count": 107,
   "id": "adult-unknown",
   "metadata": {},
   "outputs": [],
   "source": [
    "df_sub.columns = [f\"allo_{col.replace('allo_', '')}\" for col in df_sub.columns]"
   ]
  },
  {
   "cell_type": "code",
   "execution_count": 51,
   "id": "robust-announcement",
   "metadata": {},
   "outputs": [],
   "source": [
    "test_submission(df_sub)"
   ]
  },
  {
   "cell_type": "code",
   "execution_count": 52,
   "id": "continental-surface",
   "metadata": {},
   "outputs": [],
   "source": [
    "df_sub.to_csv(\"submission_2803.csv\", header=True, index=True)"
   ]
  },
  {
   "cell_type": "code",
   "execution_count": 86,
   "id": "suited-toner",
   "metadata": {},
   "outputs": [],
   "source": [
    "submission.to_csv(\"submission_2803_2.csv\", header=True, index=True)"
   ]
  },
  {
   "cell_type": "code",
   "execution_count": 87,
   "id": "yellow-execution",
   "metadata": {},
   "outputs": [],
   "source": [
    "a = pd.read_csv(\"submission_2803_2.csv\", parse_dates=True, index_col=\"eod_ts\")"
   ]
  },
  {
   "cell_type": "code",
   "execution_count": 88,
   "id": "endless-judgment",
   "metadata": {},
   "outputs": [
    {
     "ename": "AssertionError",
     "evalue": "",
     "output_type": "error",
     "traceback": [
      "\u001b[0;31m---------------------------------------------------------------------------\u001b[0m",
      "\u001b[0;31mAssertionError\u001b[0m                            Traceback (most recent call last)",
      "\u001b[0;32m<ipython-input-88-5c30befff147>\u001b[0m in \u001b[0;36m<module>\u001b[0;34m\u001b[0m\n\u001b[0;32m----> 1\u001b[0;31m \u001b[0mtest_submission\u001b[0m\u001b[0;34m(\u001b[0m\u001b[0ma\u001b[0m\u001b[0;34m)\u001b[0m\u001b[0;34m\u001b[0m\u001b[0;34m\u001b[0m\u001b[0m\n\u001b[0m",
      "\u001b[0;32m~/reto_series_temporales/submission_utils.py\u001b[0m in \u001b[0;36mtest_submission\u001b[0;34m(submission)\u001b[0m\n\u001b[1;32m     53\u001b[0m     \u001b[0;32mif\u001b[0m \u001b[0;34m\"eod_ts\"\u001b[0m \u001b[0;32min\u001b[0m \u001b[0msubmission\u001b[0m\u001b[0;34m.\u001b[0m\u001b[0mcolumns\u001b[0m\u001b[0;34m:\u001b[0m\u001b[0;34m\u001b[0m\u001b[0;34m\u001b[0m\u001b[0m\n\u001b[1;32m     54\u001b[0m         \u001b[0msubmission\u001b[0m\u001b[0;34m.\u001b[0m\u001b[0mset_index\u001b[0m\u001b[0;34m(\u001b[0m\u001b[0;34m\"eod_ts\"\u001b[0m\u001b[0;34m,\u001b[0m \u001b[0minplace\u001b[0m\u001b[0;34m=\u001b[0m\u001b[0;32mTrue\u001b[0m\u001b[0;34m)\u001b[0m\u001b[0;34m\u001b[0m\u001b[0;34m\u001b[0m\u001b[0m\n\u001b[0;32m---> 55\u001b[0;31m     \u001b[0;32massert\u001b[0m \u001b[0mall\u001b[0m\u001b[0;34m(\u001b[0m\u001b[0msubmission\u001b[0m\u001b[0;34m.\u001b[0m\u001b[0msum\u001b[0m\u001b[0;34m(\u001b[0m\u001b[0maxis\u001b[0m\u001b[0;34m=\u001b[0m\u001b[0;36m1\u001b[0m\u001b[0;34m)\u001b[0m \u001b[0;34m==\u001b[0m \u001b[0;36m1\u001b[0m\u001b[0;34m)\u001b[0m\u001b[0;34m\u001b[0m\u001b[0;34m\u001b[0m\u001b[0m\n\u001b[0m\u001b[1;32m     56\u001b[0m     \u001b[0;32massert\u001b[0m \u001b[0msum\u001b[0m\u001b[0;34m(\u001b[0m\u001b[0mn\u001b[0m \u001b[0;34m<\u001b[0m \u001b[0;36m0\u001b[0m \u001b[0;32mfor\u001b[0m \u001b[0mn\u001b[0m \u001b[0;32min\u001b[0m \u001b[0msubmission\u001b[0m\u001b[0;34m.\u001b[0m\u001b[0mvalues\u001b[0m\u001b[0;34m.\u001b[0m\u001b[0mflatten\u001b[0m\u001b[0;34m(\u001b[0m\u001b[0;34m)\u001b[0m\u001b[0;34m)\u001b[0m \u001b[0;34m==\u001b[0m \u001b[0;36m0\u001b[0m\u001b[0;34m\u001b[0m\u001b[0;34m\u001b[0m\u001b[0m\n\u001b[1;32m     57\u001b[0m \u001b[0;34m\u001b[0m\u001b[0m\n",
      "\u001b[0;31mAssertionError\u001b[0m: "
     ]
    }
   ],
   "source": [
    "test_submission(a)"
   ]
  },
  {
   "cell_type": "code",
   "execution_count": 149,
   "id": "technological-stocks",
   "metadata": {},
   "outputs": [
    {
     "data": {
      "text/plain": [
       "array([0.   , 0.   , 0.   , 0.   , 0.   , 0.01 , 0.   , 0.065, 0.01 ,\n",
       "       0.   , 0.   , 0.   , 0.02 , 0.   , 0.   , 0.   , 0.01 , 0.01 ,\n",
       "       0.02 , 0.   , 0.02 , 0.   , 0.02 , 0.01 , 0.   , 0.   , 0.02 ,\n",
       "       0.   , 0.02 , 0.02 , 0.   , 0.01 , 0.01 , 0.02 , 0.01 , 0.01 ,\n",
       "       0.   , 0.01 , 0.   , 0.   , 0.02 , 0.01 , 0.02 , 0.01 , 0.02 ,\n",
       "       0.   , 0.   , 0.01 , 0.   , 0.01 , 0.   , 0.   , 0.   , 0.   ,\n",
       "       0.   , 0.01 , 0.02 , 0.02 , 0.01 , 0.   , 0.02 , 0.01 , 0.   ,\n",
       "       0.   , 0.   , 0.   , 0.01 , 0.01 , 0.   , 0.01 , 0.01 , 0.   ,\n",
       "       0.   , 0.02 , 0.02 , 0.01 , 0.01 , 0.   , 0.   , 0.01 , 0.   ,\n",
       "       0.   , 0.01 , 0.   , 0.02 , 0.   , 0.02 , 0.   , 0.   , 0.02 ,\n",
       "       0.   , 0.02 , 0.   , 0.   , 0.02 , 0.   ])"
      ]
     },
     "execution_count": 149,
     "metadata": {},
     "output_type": "execute_result"
    }
   ],
   "source": [
    "a.iloc[0,:].values"
   ]
  },
  {
   "cell_type": "code",
   "execution_count": 93,
   "id": "central-cowboy",
   "metadata": {},
   "outputs": [
    {
     "data": {
      "text/plain": [
       "1.0000000000000007"
      ]
     },
     "execution_count": 93,
     "metadata": {},
     "output_type": "execute_result"
    }
   ],
   "source": [
    "sum(a.iloc[0,:].values)"
   ]
  },
  {
   "cell_type": "code",
   "execution_count": 95,
   "id": "theoretical-satisfaction",
   "metadata": {},
   "outputs": [
    {
     "data": {
      "text/plain": [
       "True"
      ]
     },
     "execution_count": 95,
     "metadata": {},
     "output_type": "execute_result"
    }
   ],
   "source": [
    "a.iloc[0,:].values.sum() == 1"
   ]
  },
  {
   "cell_type": "code",
   "execution_count": 96,
   "id": "legendary-fashion",
   "metadata": {},
   "outputs": [
    {
     "data": {
      "text/plain": [
       "False"
      ]
     },
     "execution_count": 96,
     "metadata": {},
     "output_type": "execute_result"
    }
   ],
   "source": [
    "all(a.sum(axis=1) == 1)"
   ]
  },
  {
   "cell_type": "code",
   "execution_count": 98,
   "id": "cognitive-return",
   "metadata": {},
   "outputs": [
    {
     "data": {
      "text/plain": [
       "1.0000000000000007"
      ]
     },
     "execution_count": 98,
     "metadata": {},
     "output_type": "execute_result"
    }
   ],
   "source": [
    "a.sum(axis=1)[0]"
   ]
  },
  {
   "cell_type": "code",
   "execution_count": 481,
   "id": "adjustable-chance",
   "metadata": {},
   "outputs": [
    {
     "data": {
      "text/plain": [
       "array([ True,  True,  True,  True,  True, False,  True, False, False,\n",
       "        True,  True,  True, False,  True,  True, False, False, False,\n",
       "       False,  True, False,  True, False, False, False,  True, False,\n",
       "       False, False, False, False, False, False, False, False, False,\n",
       "        True, False,  True,  True, False, False, False, False, False,\n",
       "        True,  True, False,  True, False, False, False,  True, False,\n",
       "       False, False, False, False, False,  True, False, False, False,\n",
       "        True,  True,  True, False, False,  True, False, False,  True,\n",
       "        True, False, False, False, False,  True, False, False,  True,\n",
       "        True, False, False, False,  True, False,  True,  True, False,\n",
       "       False, False,  True,  True, False, False])"
      ]
     },
     "execution_count": 481,
     "metadata": {},
     "output_type": "execute_result"
    }
   ],
   "source": [
    "a.iloc[0,:].values == df_sub.iloc[0,:].values"
   ]
  },
  {
   "cell_type": "code",
   "execution_count": 482,
   "id": "eastern-subcommittee",
   "metadata": {},
   "outputs": [
    {
     "data": {
      "text/plain": [
       "0.999999999999997"
      ]
     },
     "execution_count": 482,
     "metadata": {},
     "output_type": "execute_result"
    }
   ],
   "source": [
    "a.iloc[0,:].values.sum()"
   ]
  },
  {
   "cell_type": "code",
   "execution_count": 140,
   "id": "extra-politics",
   "metadata": {},
   "outputs": [
    {
     "ename": "AssertionError",
     "evalue": "",
     "output_type": "error",
     "traceback": [
      "\u001b[0;31m---------------------------------------------------------------------------\u001b[0m",
      "\u001b[0;31mAssertionError\u001b[0m                            Traceback (most recent call last)",
      "\u001b[0;32m<ipython-input-140-5c30befff147>\u001b[0m in \u001b[0;36m<module>\u001b[0;34m\u001b[0m\n\u001b[0;32m----> 1\u001b[0;31m \u001b[0mtest_submission\u001b[0m\u001b[0;34m(\u001b[0m\u001b[0ma\u001b[0m\u001b[0;34m)\u001b[0m\u001b[0;34m\u001b[0m\u001b[0;34m\u001b[0m\u001b[0m\n\u001b[0m",
      "\u001b[0;32m~/reto_series_temporales/submission_utils.py\u001b[0m in \u001b[0;36mtest_submission\u001b[0;34m(submission)\u001b[0m\n\u001b[1;32m     52\u001b[0m     \u001b[0;32mif\u001b[0m \u001b[0;34m\"eod_ts\"\u001b[0m \u001b[0;32min\u001b[0m \u001b[0msubmission\u001b[0m\u001b[0;34m.\u001b[0m\u001b[0mcolumns\u001b[0m\u001b[0;34m:\u001b[0m\u001b[0;34m\u001b[0m\u001b[0;34m\u001b[0m\u001b[0m\n\u001b[1;32m     53\u001b[0m         \u001b[0msubmission\u001b[0m\u001b[0;34m.\u001b[0m\u001b[0mset_index\u001b[0m\u001b[0;34m(\u001b[0m\u001b[0;34m\"eod_ts\"\u001b[0m\u001b[0;34m,\u001b[0m \u001b[0minplace\u001b[0m\u001b[0;34m=\u001b[0m\u001b[0;32mTrue\u001b[0m\u001b[0;34m)\u001b[0m\u001b[0;34m\u001b[0m\u001b[0;34m\u001b[0m\u001b[0m\n\u001b[0;32m---> 54\u001b[0;31m     \u001b[0;32massert\u001b[0m \u001b[0mall\u001b[0m\u001b[0;34m(\u001b[0m\u001b[0msubmission\u001b[0m\u001b[0;34m.\u001b[0m\u001b[0msum\u001b[0m\u001b[0;34m(\u001b[0m\u001b[0maxis\u001b[0m\u001b[0;34m=\u001b[0m\u001b[0;36m1\u001b[0m\u001b[0;34m)\u001b[0m \u001b[0;34m==\u001b[0m \u001b[0;36m1\u001b[0m\u001b[0;34m)\u001b[0m\u001b[0;34m\u001b[0m\u001b[0;34m\u001b[0m\u001b[0m\n\u001b[0m\u001b[1;32m     55\u001b[0m     \u001b[0;32massert\u001b[0m \u001b[0msum\u001b[0m\u001b[0;34m(\u001b[0m\u001b[0mn\u001b[0m \u001b[0;34m<\u001b[0m \u001b[0;36m0\u001b[0m \u001b[0;32mfor\u001b[0m \u001b[0mn\u001b[0m \u001b[0;32min\u001b[0m \u001b[0msubmission\u001b[0m\u001b[0;34m.\u001b[0m\u001b[0mvalues\u001b[0m\u001b[0;34m.\u001b[0m\u001b[0mflatten\u001b[0m\u001b[0;34m(\u001b[0m\u001b[0;34m)\u001b[0m\u001b[0;34m)\u001b[0m \u001b[0;34m==\u001b[0m \u001b[0;36m0\u001b[0m\u001b[0;34m\u001b[0m\u001b[0;34m\u001b[0m\u001b[0m\n\u001b[1;32m     56\u001b[0m \u001b[0;34m\u001b[0m\u001b[0m\n",
      "\u001b[0;31mAssertionError\u001b[0m: "
     ]
    }
   ],
   "source": [
    "test_submission(a)"
   ]
  },
  {
   "cell_type": "code",
   "execution_count": 112,
   "id": "reasonable-economics",
   "metadata": {},
   "outputs": [
    {
     "data": {
      "text/plain": [
       "1.0"
      ]
     },
     "execution_count": 112,
     "metadata": {},
     "output_type": "execute_result"
    }
   ],
   "source": [
    "sum(a.iloc[0,:])"
   ]
  },
  {
   "cell_type": "code",
   "execution_count": null,
   "id": "younger-malaysia",
   "metadata": {},
   "outputs": [],
   "source": [
    "class NCONet(torch.nn.module, Benchmark):\n",
    "    def __init__(self, n_clusters, n_init=10, init='random', random_state=None):\n",
    "        super().__init__()\n",
    "        self.n_clusters = n_clusters\n",
    "        self.n_init = n_init\n",
    "        self.init = init\n",
    "        self.random_state = random_state"
   ]
  },
  {
   "cell_type": "code",
   "execution_count": 102,
   "id": "swiss-feeding",
   "metadata": {},
   "outputs": [],
   "source": [
    "\n",
    "\n",
    "class MyNetwork(torch.nn.Module, Benchmark):\n",
    "    def __init__(\n",
    "        self, \n",
    "        n_assets,\n",
    "        exp_returns,\n",
    "        max_weight=0.2,\n",
    "        force_symmetric=True,\n",
    "        n_clusters=5,\n",
    "        n_init=10,\n",
    "        init=\"random\",\n",
    "        random_state=None\n",
    "    ):\n",
    "        super().__init__()\n",
    "        self.force_symmetric = force_symmetric\n",
    "        self.matrix = torch.nn.Parameter(torch.eye(n_assets), requires_grad=True)\n",
    "        self.exp_returns = torch.nn.Parameter(torch.zeros(n_assets), requires_grad=True) #torch.FloatTensor(n_assets).uniform_(-0.001, 0.001))#torch.tensor(exp_returns), requires_grad=True) #torch.zeros(n_assets), requires_grad=True)\n",
    "        self.gamma_sqrt = torch.nn.Parameter(torch.ones(1), requires_grad=True)\n",
    "        self.alpha = torch.nn.Parameter(torch.ones(1), requires_grad=True)\n",
    "        #self.n_clusters = torch.nn.Parameter() # TODO: TRY TO IMPLEMENT THIS DIFFERENTIABLE.\n",
    "        \n",
    "        self.portfolio_opt_layer = NCO(n_clusters, n_init, init, random_state)\n",
    "    \n",
    "    \n",
    "    def forward(self, x, external_x=None):\n",
    "        \"\"\"\n",
    "        Receives normal x (returns etc) and external_x,\n",
    "        which can be composed of as many variables as we want.\n",
    "        In this case it will be used for sp500, interest rates,\n",
    "        oil, etc.\n",
    "        \"\"\"\n",
    "        n = len(x)\n",
    "        \n",
    "        covariance = torch.mm(self.matrix, torch.t(self.matrix)) if self.force_symmetric else self.matrix\n",
    "        exp_returns_all = torch.repeat_interleave(self.exp_returns[None, ...], repeats=n, dim=0)\n",
    "        \n",
    "        covariance_all = torch.repeat_interleave(covariance[None, ...], repeats=n, dim=0)\n",
    "        #gamma_all = torch.ones(len(x)).to(device=x.device, dtype=x.dtype) * self.gamma_sqrt\n",
    "        #alpha_all = torch.ones(len(x)).to(device=x.device, dtype=x.dtype) * self.alpha\n",
    "        weights = self.portfolio_opt_layer(covariance_all, exp_returns_all)\n",
    "        return weights\n",
    "\n",
    "        @property\n",
    "        def hparams(self):\n",
    "            \"\"\"Hyperparameters relevant to construction of the model.\"\"\"\n",
    "            return {k: v if isinstance(v, (int, float, str)) else str(v) for k, v in self._hparams.items() if k != 'self'}"
   ]
  },
  {
   "cell_type": "code",
   "execution_count": 21,
   "id": "accessible-margin",
   "metadata": {},
   "outputs": [],
   "source": [
    "class ResampleNetwork(torch.nn.Module, Benchmark):\n",
    "    def __init__(\n",
    "        self, \n",
    "        n_assets,\n",
    "        max_weight=0.2,\n",
    "        force_symmetric=True,\n",
    "        n_clusters=5,\n",
    "        n_init=10,\n",
    "        init=\"random\",\n",
    "        random_state=None\n",
    "    ):\n",
    "        super().__init__()\n",
    "        self.force_symmetric = force_symmetric\n",
    "        #self.matrix = torch.nn.Parameter(torch.eye(n_assets), requires_grad=True)\n",
    "        #self.exp_returns = torch.nn.Parameter(torch.zeros(n_assets), requires_grad=True)\n",
    "        #self.gamma_sqrt = torch.nn.Parameter(torch.ones(1), requires_grad=True)\n",
    "        #self.alpha = torch.nn.Parameter(torch.ones(1), requires_grad=True)\n",
    "        #self.n_clusters = torch.nn.Parameter() # TODO: TRY TO IMPLEMENT THIS DIFFERENTIABLE.\n",
    "        self.matrix = torch.nn.Parameter(torch.eye(n_assets), requires_grad=True)\n",
    "        self.exp_returns = torch.nn.Parameter(torch.zeros(n_assets), requires_grad=True)\n",
    "        self.covariance_layer = CovarianceMatrix(sqrt=False, shrinkage_strategy=\"diagonal\")\n",
    "        self.collapse_layer = AverageCollapse(collapse_dim=3)\n",
    "        self.portfolio_opt_layer =  Resample(\n",
    "            allocator=NCO(n_clusters=n_clusters, n_init=n_init, init=init, random_state=random_state),\n",
    "            n_draws=100,\n",
    "            n_portfolios=50,\n",
    "        )  #NCO(n_clusters, n_init, init, random_state)\n",
    "        \n",
    "    def forward(self, x):\n",
    "        #returns = torch.nn.Parameter(x[:, 0 ,:, :], requires_grad=True)\n",
    "        #exp_returns = x[:, 0, :, :].mean(dim=1)\n",
    "        #returns = x[:, 0, :, :]\n",
    "        #exp_returns = returns.mean(dim=1)\n",
    "        #covmat = self.covariance_layer(returns) #torch.nn.Parameter(self.covariance_layer(returns), requires_grad=True)\n",
    "        n = len(x)\n",
    "        print(n)\n",
    "        covariance = torch.mm(self.matrix, torch.t(self.matrix)) if self.force_symmetric else self.matrix\n",
    "        exp_returns_all = torch.repeat_interleave(self.exp_returns[None, ...], repeats=n, dim=0)\n",
    "        \n",
    "        covariance_all = torch.repeat_interleave(covariance[None, ...], repeats=n, dim=0)\n",
    "        weights = self.portfolio_opt_layer(covariance_all, exp_returns_all)\n",
    "        return weights"
   ]
  },
  {
   "cell_type": "code",
   "execution_count": null,
   "id": "handled-eclipse",
   "metadata": {},
   "outputs": [],
   "source": []
  },
  {
   "cell_type": "code",
   "execution_count": 22,
   "id": "contained-bradley",
   "metadata": {},
   "outputs": [],
   "source": [
    "#mynet = MyNetwork(n_assets=n_assets, exp_returns=exp_returns)"
   ]
  },
  {
   "cell_type": "code",
   "execution_count": 23,
   "id": "stupid-market",
   "metadata": {
    "scrolled": true
   },
   "outputs": [],
   "source": [
    "tensors=dataset[100:120][0]"
   ]
  },
  {
   "cell_type": "code",
   "execution_count": 24,
   "id": "front-default",
   "metadata": {},
   "outputs": [],
   "source": [
    "#for tensor in dataset:\n",
    "#    mynet(tensor[0])\n",
    "#mynet(tensor)"
   ]
  },
  {
   "cell_type": "code",
   "execution_count": 25,
   "id": "dress-consortium",
   "metadata": {},
   "outputs": [],
   "source": [
    "#list(ress.parameters())"
   ]
  },
  {
   "cell_type": "code",
   "execution_count": 26,
   "id": "skilled-documentation",
   "metadata": {},
   "outputs": [],
   "source": [
    "#tensor[:, 0, ...].shape"
   ]
  },
  {
   "cell_type": "code",
   "execution_count": 27,
   "id": "extensive-assembly",
   "metadata": {},
   "outputs": [
    {
     "data": {
      "text/plain": [
       "96"
      ]
     },
     "execution_count": 27,
     "metadata": {},
     "output_type": "execute_result"
    }
   ],
   "source": [
    "len(asset_names)"
   ]
  },
  {
   "cell_type": "code",
   "execution_count": 28,
   "id": "adolescent-college",
   "metadata": {},
   "outputs": [],
   "source": [
    "ress = ResampleNetwork(n_assets)"
   ]
  },
  {
   "cell_type": "code",
   "execution_count": 29,
   "id": "champion-vietnamese",
   "metadata": {},
   "outputs": [
    {
     "data": {
      "text/plain": [
       "[Parameter containing:\n",
       " tensor([[1., 0., 0.,  ..., 0., 0., 0.],\n",
       "         [0., 1., 0.,  ..., 0., 0., 0.],\n",
       "         [0., 0., 1.,  ..., 0., 0., 0.],\n",
       "         ...,\n",
       "         [0., 0., 0.,  ..., 1., 0., 0.],\n",
       "         [0., 0., 0.,  ..., 0., 1., 0.],\n",
       "         [0., 0., 0.,  ..., 0., 0., 1.]], requires_grad=True),\n",
       " Parameter containing:\n",
       " tensor([0., 0., 0., 0., 0., 0., 0., 0., 0., 0., 0., 0., 0., 0., 0., 0., 0., 0., 0., 0., 0., 0., 0., 0.,\n",
       "         0., 0., 0., 0., 0., 0., 0., 0., 0., 0., 0., 0., 0., 0., 0., 0., 0., 0., 0., 0., 0., 0., 0., 0.,\n",
       "         0., 0., 0., 0., 0., 0., 0., 0., 0., 0., 0., 0., 0., 0., 0., 0., 0., 0., 0., 0., 0., 0., 0., 0.,\n",
       "         0., 0., 0., 0., 0., 0., 0., 0., 0., 0., 0., 0., 0., 0., 0., 0., 0., 0., 0., 0., 0., 0., 0., 0.],\n",
       "        requires_grad=True)]"
      ]
     },
     "execution_count": 29,
     "metadata": {},
     "output_type": "execute_result"
    }
   ],
   "source": [
    "list(ress.parameters())"
   ]
  },
  {
   "cell_type": "code",
   "execution_count": 30,
   "id": "scheduled-resource",
   "metadata": {},
   "outputs": [
    {
     "name": "stderr",
     "output_type": "stream",
     "text": [
      "\r",
      "Epoch 0:   0%|          | 0/20 [00:00<?, ?it/s]"
     ]
    },
    {
     "name": "stdout",
     "output_type": "stream",
     "text": [
      "model   metric    epoch  dataloader\n",
      "1overN  drawdown  -1     val           0.001\n",
      "        loss      -1     val          -0.485\n",
      "16\n"
     ]
    },
    {
     "name": "stderr",
     "output_type": "stream",
     "text": [
      "Epoch 0:   5%|▌         | 1/20 [03:16<1:02:19, 196.83s/it, loss=-0.04684, drawdown=0.09674]"
     ]
    },
    {
     "name": "stdout",
     "output_type": "stream",
     "text": [
      "16\n"
     ]
    },
    {
     "name": "stderr",
     "output_type": "stream",
     "text": [
      "Epoch 0:  10%|█         | 2/20 [06:24<57:24, 191.39s/it, loss=-0.06918, drawdown=0.07288]  "
     ]
    },
    {
     "name": "stdout",
     "output_type": "stream",
     "text": [
      "16\n"
     ]
    },
    {
     "name": "stderr",
     "output_type": "stream",
     "text": [
      "Epoch 0:  15%|█▌        | 3/20 [09:26<53:04, 187.32s/it, loss=-0.07225, drawdown=0.06265]"
     ]
    },
    {
     "name": "stdout",
     "output_type": "stream",
     "text": [
      "16\n"
     ]
    },
    {
     "name": "stderr",
     "output_type": "stream",
     "text": [
      "Epoch 0:  20%|██        | 4/20 [12:27<49:14, 184.67s/it, loss=-0.08146, drawdown=0.05054]"
     ]
    },
    {
     "name": "stdout",
     "output_type": "stream",
     "text": [
      "16\n"
     ]
    },
    {
     "name": "stderr",
     "output_type": "stream",
     "text": [
      "Epoch 0:  25%|██▌       | 5/20 [15:31<46:05, 184.35s/it, loss=-0.08204, drawdown=0.04541]"
     ]
    },
    {
     "name": "stdout",
     "output_type": "stream",
     "text": [
      "16\n"
     ]
    },
    {
     "name": "stderr",
     "output_type": "stream",
     "text": [
      "Epoch 0:  30%|███       | 6/20 [18:28<42:24, 181.76s/it, loss=-0.11411, drawdown=0.03921]"
     ]
    },
    {
     "name": "stdout",
     "output_type": "stream",
     "text": [
      "16\n"
     ]
    },
    {
     "name": "stderr",
     "output_type": "stream",
     "text": [
      "Epoch 0:  35%|███▌      | 7/20 [21:17<38:30, 177.76s/it, loss=-0.12498, drawdown=0.03830]"
     ]
    },
    {
     "name": "stdout",
     "output_type": "stream",
     "text": [
      "16\n"
     ]
    },
    {
     "name": "stderr",
     "output_type": "stream",
     "text": [
      "Epoch 0:  40%|████      | 8/20 [24:16<35:37, 178.11s/it, loss=-0.13602, drawdown=0.03634]"
     ]
    },
    {
     "name": "stdout",
     "output_type": "stream",
     "text": [
      "16\n"
     ]
    },
    {
     "name": "stderr",
     "output_type": "stream",
     "text": [
      "Epoch 0:  45%|████▌     | 9/20 [27:10<32:25, 176.85s/it, loss=-0.14355, drawdown=0.03732]"
     ]
    },
    {
     "name": "stdout",
     "output_type": "stream",
     "text": [
      "16\n"
     ]
    },
    {
     "name": "stderr",
     "output_type": "stream",
     "text": [
      "Epoch 0:  50%|█████     | 10/20 [30:19<30:05, 180.57s/it, loss=-0.15663, drawdown=0.03443]"
     ]
    },
    {
     "name": "stdout",
     "output_type": "stream",
     "text": [
      "16\n"
     ]
    },
    {
     "name": "stderr",
     "output_type": "stream",
     "text": [
      "Epoch 0:  55%|█████▌    | 11/20 [34:38<30:41, 204.65s/it, loss=-0.17118, drawdown=0.03163]"
     ]
    },
    {
     "name": "stdout",
     "output_type": "stream",
     "text": [
      "16\n"
     ]
    },
    {
     "name": "stderr",
     "output_type": "stream",
     "text": [
      "Epoch 0:  60%|██████    | 12/20 [38:54<29:22, 220.30s/it, loss=-0.17858, drawdown=0.02987]"
     ]
    },
    {
     "name": "stdout",
     "output_type": "stream",
     "text": [
      "16\n"
     ]
    },
    {
     "name": "stderr",
     "output_type": "stream",
     "text": [
      "Epoch 0:  65%|██████▌   | 13/20 [43:00<26:36, 228.04s/it, loss=-0.17821, drawdown=0.02801]"
     ]
    },
    {
     "name": "stdout",
     "output_type": "stream",
     "text": [
      "16\n"
     ]
    },
    {
     "name": "stderr",
     "output_type": "stream",
     "text": [
      "Epoch 0:  70%|███████   | 14/20 [47:17<23:41, 236.90s/it, loss=-0.18413, drawdown=0.02632]"
     ]
    },
    {
     "name": "stdout",
     "output_type": "stream",
     "text": [
      "16\n"
     ]
    },
    {
     "name": "stderr",
     "output_type": "stream",
     "text": [
      "Epoch 0:  75%|███████▌  | 15/20 [51:58<20:51, 250.21s/it, loss=-0.19441, drawdown=0.02480]"
     ]
    },
    {
     "name": "stdout",
     "output_type": "stream",
     "text": [
      "16\n"
     ]
    },
    {
     "name": "stderr",
     "output_type": "stream",
     "text": [
      "Epoch 0:  80%|████████  | 16/20 [56:44<17:22, 260.72s/it, loss=-0.20412, drawdown=0.02351]"
     ]
    },
    {
     "name": "stdout",
     "output_type": "stream",
     "text": [
      "16\n"
     ]
    },
    {
     "name": "stderr",
     "output_type": "stream",
     "text": [
      "Epoch 0:  85%|████████▌ | 17/20 [1:01:30<13:24, 268.32s/it, loss=-0.21335, drawdown=0.02234]"
     ]
    },
    {
     "name": "stdout",
     "output_type": "stream",
     "text": [
      "16\n"
     ]
    },
    {
     "name": "stderr",
     "output_type": "stream",
     "text": [
      "Epoch 0:  90%|█████████ | 18/20 [1:06:03<08:59, 269.71s/it, loss=-0.21928, drawdown=0.02125]"
     ]
    },
    {
     "name": "stdout",
     "output_type": "stream",
     "text": [
      "16\n"
     ]
    },
    {
     "name": "stderr",
     "output_type": "stream",
     "text": [
      "Epoch 0:  95%|█████████▌| 19/20 [1:10:36<04:30, 270.96s/it, loss=-0.22850, drawdown=0.02027]"
     ]
    },
    {
     "name": "stdout",
     "output_type": "stream",
     "text": [
      "16\n"
     ]
    },
    {
     "name": "stderr",
     "output_type": "stream",
     "text": [
      "Epoch 0: 100%|██████████| 20/20 [1:14:52<00:00, 266.35s/it, loss=-0.23470, drawdown=0.01940]"
     ]
    },
    {
     "name": "stdout",
     "output_type": "stream",
     "text": [
      "16\n",
      "6\n"
     ]
    },
    {
     "name": "stderr",
     "output_type": "stream",
     "text": [
      "Epoch 0: 100%|██████████| 20/20 [1:19:00<00:00, 237.00s/it, loss=-0.23470, drawdown=0.01940, val_drawdown=0.00136, val_loss=-0.49833]\n",
      "Epoch 1:   0%|          | 0/20 [00:00<?, ?it/s]"
     ]
    },
    {
     "name": "stdout",
     "output_type": "stream",
     "text": [
      "16\n"
     ]
    },
    {
     "name": "stderr",
     "output_type": "stream",
     "text": [
      "Epoch 1:   5%|▌         | 1/20 [03:18<1:02:49, 198.37s/it, loss=-0.38832, drawdown=0.00234]"
     ]
    },
    {
     "name": "stdout",
     "output_type": "stream",
     "text": [
      "16\n"
     ]
    },
    {
     "name": "stderr",
     "output_type": "stream",
     "text": [
      "Epoch 1:  10%|█         | 2/20 [06:31<58:39, 195.51s/it, loss=-0.36400, drawdown=0.00273]  "
     ]
    },
    {
     "name": "stdout",
     "output_type": "stream",
     "text": [
      "16\n"
     ]
    },
    {
     "name": "stderr",
     "output_type": "stream",
     "text": [
      "Epoch 1:  15%|█▌        | 3/20 [09:42<54:42, 193.07s/it, loss=-0.36368, drawdown=0.00273]"
     ]
    },
    {
     "name": "stdout",
     "output_type": "stream",
     "text": [
      "16\n"
     ]
    },
    {
     "name": "stderr",
     "output_type": "stream",
     "text": [
      "Epoch 1:  25%|██▌       | 5/20 [16:03<48:02, 192.20s/it, loss=-0.38118, drawdown=0.00266]"
     ]
    },
    {
     "name": "stdout",
     "output_type": "stream",
     "text": [
      "16\n"
     ]
    },
    {
     "name": "stderr",
     "output_type": "stream",
     "text": [
      "Epoch 1:  30%|███       | 6/20 [19:12<44:34, 191.04s/it, loss=-0.38468, drawdown=0.00257]"
     ]
    },
    {
     "name": "stdout",
     "output_type": "stream",
     "text": [
      "16\n"
     ]
    },
    {
     "name": "stderr",
     "output_type": "stream",
     "text": [
      "Epoch 1:  35%|███▌      | 7/20 [22:23<41:24, 191.10s/it, loss=-0.38633, drawdown=0.00263]"
     ]
    },
    {
     "name": "stdout",
     "output_type": "stream",
     "text": [
      "16\n"
     ]
    },
    {
     "name": "stderr",
     "output_type": "stream",
     "text": [
      "Epoch 1:  40%|████      | 8/20 [25:29<37:53, 189.49s/it, loss=-0.38708, drawdown=0.00257]"
     ]
    },
    {
     "name": "stdout",
     "output_type": "stream",
     "text": [
      "16\n"
     ]
    },
    {
     "name": "stderr",
     "output_type": "stream",
     "text": [
      "Epoch 1:  45%|████▌     | 9/20 [28:31<34:18, 187.15s/it, loss=-0.38706, drawdown=0.00257]"
     ]
    },
    {
     "name": "stdout",
     "output_type": "stream",
     "text": [
      "16\n"
     ]
    },
    {
     "name": "stderr",
     "output_type": "stream",
     "text": [
      "Epoch 1:  50%|█████     | 10/20 [31:59<32:13, 193.40s/it, loss=-0.38946, drawdown=0.00249]"
     ]
    },
    {
     "name": "stdout",
     "output_type": "stream",
     "text": [
      "16\n"
     ]
    },
    {
     "name": "stderr",
     "output_type": "stream",
     "text": [
      "Epoch 1:  55%|█████▌    | 11/20 [35:30<29:50, 198.95s/it, loss=-0.39419, drawdown=0.00247]"
     ]
    },
    {
     "name": "stdout",
     "output_type": "stream",
     "text": [
      "16\n"
     ]
    },
    {
     "name": "stderr",
     "output_type": "stream",
     "text": [
      "Epoch 1:  60%|██████    | 12/20 [39:03<27:05, 203.16s/it, loss=-0.39627, drawdown=0.00245]"
     ]
    },
    {
     "name": "stdout",
     "output_type": "stream",
     "text": [
      "16\n"
     ]
    },
    {
     "name": "stderr",
     "output_type": "stream",
     "text": [
      "Epoch 1:  65%|██████▌   | 13/20 [42:27<23:44, 203.48s/it, loss=-0.40046, drawdown=0.00241]"
     ]
    },
    {
     "name": "stdout",
     "output_type": "stream",
     "text": [
      "16\n"
     ]
    },
    {
     "name": "stderr",
     "output_type": "stream",
     "text": [
      "Epoch 1:  70%|███████   | 14/20 [45:55<20:28, 204.71s/it, loss=-0.39846, drawdown=0.00240]"
     ]
    },
    {
     "name": "stdout",
     "output_type": "stream",
     "text": [
      "16\n"
     ]
    },
    {
     "name": "stderr",
     "output_type": "stream",
     "text": [
      "Epoch 1:  75%|███████▌  | 15/20 [49:18<17:00, 204.10s/it, loss=-0.40224, drawdown=0.00235]"
     ]
    },
    {
     "name": "stdout",
     "output_type": "stream",
     "text": [
      "16\n"
     ]
    },
    {
     "name": "stderr",
     "output_type": "stream",
     "text": [
      "Epoch 1:  80%|████████  | 16/20 [52:34<13:26, 201.70s/it, loss=-0.40029, drawdown=0.00235]"
     ]
    },
    {
     "name": "stdout",
     "output_type": "stream",
     "text": [
      "16\n"
     ]
    },
    {
     "name": "stderr",
     "output_type": "stream",
     "text": [
      "Epoch 1:  85%|████████▌ | 17/20 [55:53<10:02, 200.97s/it, loss=-0.40531, drawdown=0.00232]"
     ]
    },
    {
     "name": "stdout",
     "output_type": "stream",
     "text": [
      "16\n"
     ]
    },
    {
     "name": "stderr",
     "output_type": "stream",
     "text": [
      "Epoch 1:  90%|█████████ | 18/20 [59:19<06:45, 202.63s/it, loss=-0.40784, drawdown=0.00230]"
     ]
    },
    {
     "name": "stdout",
     "output_type": "stream",
     "text": [
      "16\n"
     ]
    },
    {
     "name": "stderr",
     "output_type": "stream",
     "text": [
      "Epoch 1:  95%|█████████▌| 19/20 [1:02:47<03:24, 204.24s/it, loss=-0.40941, drawdown=0.00227]"
     ]
    },
    {
     "name": "stdout",
     "output_type": "stream",
     "text": [
      "16\n"
     ]
    },
    {
     "name": "stderr",
     "output_type": "stream",
     "text": [
      "Epoch 1: 100%|██████████| 20/20 [1:06:21<00:00, 206.92s/it, loss=-0.41118, drawdown=0.00225]"
     ]
    },
    {
     "name": "stdout",
     "output_type": "stream",
     "text": [
      "16\n",
      "6\n"
     ]
    },
    {
     "name": "stderr",
     "output_type": "stream",
     "text": [
      "Epoch 1: 100%|██████████| 20/20 [1:10:47<00:00, 212.38s/it, loss=-0.41118, drawdown=0.00225, val_drawdown=0.00147, val_loss=-0.51379]\n",
      "Epoch 2:   0%|          | 0/20 [00:00<?, ?it/s]"
     ]
    },
    {
     "name": "stdout",
     "output_type": "stream",
     "text": [
      "16\n"
     ]
    },
    {
     "name": "stderr",
     "output_type": "stream",
     "text": [
      "Epoch 2:   5%|▌         | 1/20 [03:32<1:07:18, 212.57s/it, loss=-0.41417, drawdown=0.00187]"
     ]
    },
    {
     "name": "stdout",
     "output_type": "stream",
     "text": [
      "16\n"
     ]
    },
    {
     "name": "stderr",
     "output_type": "stream",
     "text": [
      "Epoch 2:  10%|█         | 2/20 [07:04<1:03:34, 211.94s/it, loss=-0.41154, drawdown=0.00187]"
     ]
    },
    {
     "name": "stdout",
     "output_type": "stream",
     "text": [
      "16\n"
     ]
    },
    {
     "name": "stderr",
     "output_type": "stream",
     "text": [
      "Epoch 2:  15%|█▌        | 3/20 [10:44<1:01:10, 215.90s/it, loss=-0.42158, drawdown=0.00182]"
     ]
    },
    {
     "name": "stdout",
     "output_type": "stream",
     "text": [
      "16\n"
     ]
    },
    {
     "name": "stderr",
     "output_type": "stream",
     "text": [
      "Epoch 2:  20%|██        | 4/20 [14:40<59:37, 223.61s/it, loss=-0.45377, drawdown=0.00179]  "
     ]
    },
    {
     "name": "stdout",
     "output_type": "stream",
     "text": [
      "16\n"
     ]
    },
    {
     "name": "stderr",
     "output_type": "stream",
     "text": [
      "Epoch 2:  25%|██▌       | 5/20 [18:37<57:07, 228.48s/it, loss=-0.45455, drawdown=0.00183]"
     ]
    },
    {
     "name": "stdout",
     "output_type": "stream",
     "text": [
      "16\n"
     ]
    },
    {
     "name": "stderr",
     "output_type": "stream",
     "text": [
      "Epoch 2:  30%|███       | 6/20 [22:31<53:44, 230.33s/it, loss=-0.44347, drawdown=0.00185]"
     ]
    },
    {
     "name": "stdout",
     "output_type": "stream",
     "text": [
      "16\n"
     ]
    },
    {
     "name": "stderr",
     "output_type": "stream",
     "text": [
      "Epoch 2:  35%|███▌      | 7/20 [25:57<48:10, 222.38s/it, loss=-0.44778, drawdown=0.00189]"
     ]
    },
    {
     "name": "stdout",
     "output_type": "stream",
     "text": [
      "16\n"
     ]
    },
    {
     "name": "stderr",
     "output_type": "stream",
     "text": [
      "Epoch 2:  40%|████      | 8/20 [29:24<43:29, 217.47s/it, loss=-0.44911, drawdown=0.00197]"
     ]
    },
    {
     "name": "stdout",
     "output_type": "stream",
     "text": [
      "16\n"
     ]
    },
    {
     "name": "stderr",
     "output_type": "stream",
     "text": [
      "Epoch 2:  45%|████▌     | 9/20 [32:54<39:29, 215.40s/it, loss=-0.45349, drawdown=0.00190]"
     ]
    },
    {
     "name": "stdout",
     "output_type": "stream",
     "text": [
      "16\n"
     ]
    },
    {
     "name": "stderr",
     "output_type": "stream",
     "text": [
      "Epoch 2:  50%|█████     | 10/20 [36:18<35:18, 211.88s/it, loss=-0.45540, drawdown=0.00187]"
     ]
    },
    {
     "name": "stdout",
     "output_type": "stream",
     "text": [
      "16\n"
     ]
    },
    {
     "name": "stderr",
     "output_type": "stream",
     "text": [
      "Epoch 2:  55%|█████▌    | 11/20 [39:41<31:21, 209.02s/it, loss=-0.45698, drawdown=0.00185]"
     ]
    },
    {
     "name": "stdout",
     "output_type": "stream",
     "text": [
      "16\n"
     ]
    },
    {
     "name": "stderr",
     "output_type": "stream",
     "text": [
      "Epoch 2:  60%|██████    | 12/20 [43:05<27:39, 207.43s/it, loss=-0.46436, drawdown=0.00182]"
     ]
    },
    {
     "name": "stdout",
     "output_type": "stream",
     "text": [
      "16\n"
     ]
    },
    {
     "name": "stderr",
     "output_type": "stream",
     "text": [
      "Epoch 2:  65%|██████▌   | 13/20 [46:31<24:09, 207.02s/it, loss=-0.46792, drawdown=0.00183]"
     ]
    },
    {
     "name": "stdout",
     "output_type": "stream",
     "text": [
      "16\n"
     ]
    },
    {
     "name": "stderr",
     "output_type": "stream",
     "text": [
      "Epoch 2:  70%|███████   | 14/20 [49:51<20:29, 204.96s/it, loss=-0.47331, drawdown=0.00181]"
     ]
    },
    {
     "name": "stdout",
     "output_type": "stream",
     "text": [
      "16\n"
     ]
    },
    {
     "name": "stderr",
     "output_type": "stream",
     "text": [
      "Epoch 2:  75%|███████▌  | 15/20 [53:10<16:56, 203.29s/it, loss=-0.48468, drawdown=0.00177]"
     ]
    },
    {
     "name": "stdout",
     "output_type": "stream",
     "text": [
      "16\n"
     ]
    },
    {
     "name": "stderr",
     "output_type": "stream",
     "text": [
      "Epoch 2:  80%|████████  | 16/20 [56:31<13:29, 202.32s/it, loss=-0.48917, drawdown=0.00173]"
     ]
    },
    {
     "name": "stdout",
     "output_type": "stream",
     "text": [
      "16\n"
     ]
    },
    {
     "name": "stderr",
     "output_type": "stream",
     "text": [
      "Epoch 2:  85%|████████▌ | 17/20 [59:51<10:05, 201.81s/it, loss=-0.49623, drawdown=0.00172]"
     ]
    },
    {
     "name": "stdout",
     "output_type": "stream",
     "text": [
      "16\n"
     ]
    },
    {
     "name": "stderr",
     "output_type": "stream",
     "text": [
      "Epoch 2:  90%|█████████ | 18/20 [1:02:55<06:32, 196.40s/it, loss=-0.50202, drawdown=0.00171]"
     ]
    },
    {
     "name": "stdout",
     "output_type": "stream",
     "text": [
      "16\n"
     ]
    },
    {
     "name": "stderr",
     "output_type": "stream",
     "text": [
      "Epoch 2:  95%|█████████▌| 19/20 [1:06:44<03:26, 206.27s/it, loss=-0.50263, drawdown=0.00169]"
     ]
    },
    {
     "name": "stdout",
     "output_type": "stream",
     "text": [
      "16\n"
     ]
    },
    {
     "name": "stderr",
     "output_type": "stream",
     "text": [
      "Epoch 2: 100%|██████████| 20/20 [1:10:32<00:00, 212.72s/it, loss=-0.50468, drawdown=0.00168]"
     ]
    },
    {
     "name": "stdout",
     "output_type": "stream",
     "text": [
      "16\n",
      "6\n"
     ]
    },
    {
     "name": "stderr",
     "output_type": "stream",
     "text": [
      "Epoch 2: 100%|██████████| 20/20 [1:15:02<00:00, 225.11s/it, loss=-0.50468, drawdown=0.00168, val_drawdown=0.00112, val_loss=-0.53384]\n",
      "Epoch 3:   0%|          | 0/20 [00:00<?, ?it/s]"
     ]
    },
    {
     "name": "stdout",
     "output_type": "stream",
     "text": [
      "16\n"
     ]
    },
    {
     "name": "stderr",
     "output_type": "stream",
     "text": [
      "Epoch 3:   5%|▌         | 1/20 [03:34<1:07:50, 214.25s/it, loss=-0.43863, drawdown=0.00183]"
     ]
    },
    {
     "name": "stdout",
     "output_type": "stream",
     "text": [
      "16\n"
     ]
    },
    {
     "name": "stderr",
     "output_type": "stream",
     "text": [
      "Epoch 3:  10%|█         | 2/20 [07:03<1:03:26, 211.48s/it, loss=-0.50392, drawdown=0.00184]"
     ]
    },
    {
     "name": "stdout",
     "output_type": "stream",
     "text": [
      "16\n"
     ]
    },
    {
     "name": "stderr",
     "output_type": "stream",
     "text": [
      "Epoch 3:  15%|█▌        | 3/20 [10:31<59:27, 209.86s/it, loss=-0.50915, drawdown=0.00174]  "
     ]
    },
    {
     "name": "stdout",
     "output_type": "stream",
     "text": [
      "16\n"
     ]
    },
    {
     "name": "stderr",
     "output_type": "stream",
     "text": [
      "Epoch 3:  20%|██        | 4/20 [13:57<55:28, 208.06s/it, loss=-0.51216, drawdown=0.00168]"
     ]
    },
    {
     "name": "stdout",
     "output_type": "stream",
     "text": [
      "16\n"
     ]
    },
    {
     "name": "stderr",
     "output_type": "stream",
     "text": [
      "Epoch 3:  25%|██▌       | 5/20 [17:22<51:45, 207.04s/it, loss=-0.52461, drawdown=0.00164]"
     ]
    },
    {
     "name": "stdout",
     "output_type": "stream",
     "text": [
      "16\n"
     ]
    },
    {
     "name": "stderr",
     "output_type": "stream",
     "text": [
      "Epoch 3:  30%|███       | 6/20 [20:47<48:08, 206.34s/it, loss=-0.52126, drawdown=0.00167]"
     ]
    },
    {
     "name": "stdout",
     "output_type": "stream",
     "text": [
      "16\n"
     ]
    },
    {
     "name": "stderr",
     "output_type": "stream",
     "text": [
      "Epoch 3:  35%|███▌      | 7/20 [24:07<44:14, 204.19s/it, loss=-0.53067, drawdown=0.00166]"
     ]
    },
    {
     "name": "stdout",
     "output_type": "stream",
     "text": [
      "16\n"
     ]
    },
    {
     "name": "stderr",
     "output_type": "stream",
     "text": [
      "Epoch 3:  40%|████      | 8/20 [27:31<40:52, 204.39s/it, loss=-0.54228, drawdown=0.00164]"
     ]
    },
    {
     "name": "stdout",
     "output_type": "stream",
     "text": [
      "16\n"
     ]
    },
    {
     "name": "stderr",
     "output_type": "stream",
     "text": [
      "Epoch 3:  45%|████▌     | 9/20 [30:54<37:21, 203.78s/it, loss=-0.54390, drawdown=0.00162]"
     ]
    },
    {
     "name": "stdout",
     "output_type": "stream",
     "text": [
      "16\n"
     ]
    },
    {
     "name": "stderr",
     "output_type": "stream",
     "text": [
      "Epoch 3:  50%|█████     | 10/20 [34:11<33:36, 201.65s/it, loss=-0.54988, drawdown=0.00171]"
     ]
    },
    {
     "name": "stdout",
     "output_type": "stream",
     "text": [
      "16\n"
     ]
    },
    {
     "name": "stderr",
     "output_type": "stream",
     "text": [
      "Epoch 3:  55%|█████▌    | 11/20 [37:34<30:20, 202.22s/it, loss=-0.55433, drawdown=0.00168]"
     ]
    },
    {
     "name": "stdout",
     "output_type": "stream",
     "text": [
      "16\n"
     ]
    },
    {
     "name": "stderr",
     "output_type": "stream",
     "text": [
      "Epoch 3:  60%|██████    | 12/20 [40:55<26:53, 201.72s/it, loss=-0.55874, drawdown=0.00165]"
     ]
    },
    {
     "name": "stdout",
     "output_type": "stream",
     "text": [
      "16\n"
     ]
    },
    {
     "name": "stderr",
     "output_type": "stream",
     "text": [
      "Epoch 3:  65%|██████▌   | 13/20 [43:53<22:42, 194.66s/it, loss=-0.56102, drawdown=0.00164]"
     ]
    },
    {
     "name": "stdout",
     "output_type": "stream",
     "text": [
      "16\n"
     ]
    },
    {
     "name": "stderr",
     "output_type": "stream",
     "text": [
      "Epoch 3:  70%|███████   | 14/20 [47:41<20:27, 204.58s/it, loss=-0.56174, drawdown=0.00165]"
     ]
    },
    {
     "name": "stdout",
     "output_type": "stream",
     "text": [
      "16\n"
     ]
    },
    {
     "name": "stderr",
     "output_type": "stream",
     "text": [
      "Epoch 3:  75%|███████▌  | 15/20 [51:25<17:33, 210.62s/it, loss=-0.56001, drawdown=0.00166]"
     ]
    },
    {
     "name": "stdout",
     "output_type": "stream",
     "text": [
      "16\n"
     ]
    },
    {
     "name": "stderr",
     "output_type": "stream",
     "text": [
      "Epoch 3:  80%|████████  | 16/20 [54:56<14:02, 210.71s/it, loss=-0.55556, drawdown=0.00168]"
     ]
    },
    {
     "name": "stdout",
     "output_type": "stream",
     "text": [
      "16\n"
     ]
    },
    {
     "name": "stderr",
     "output_type": "stream",
     "text": [
      "Epoch 3:  85%|████████▌ | 17/20 [58:28<10:33, 211.06s/it, loss=-0.56200, drawdown=0.00164]"
     ]
    },
    {
     "name": "stdout",
     "output_type": "stream",
     "text": [
      "16\n"
     ]
    },
    {
     "name": "stderr",
     "output_type": "stream",
     "text": [
      "Epoch 3:  90%|█████████ | 18/20 [1:01:59<07:02, 211.07s/it, loss=-0.56379, drawdown=0.00162]"
     ]
    },
    {
     "name": "stdout",
     "output_type": "stream",
     "text": [
      "16\n"
     ]
    },
    {
     "name": "stderr",
     "output_type": "stream",
     "text": [
      "Epoch 3:  95%|█████████▌| 19/20 [1:05:33<03:31, 211.85s/it, loss=-0.56640, drawdown=0.00162]"
     ]
    },
    {
     "name": "stdout",
     "output_type": "stream",
     "text": [
      "16\n"
     ]
    },
    {
     "name": "stderr",
     "output_type": "stream",
     "text": [
      "Epoch 3: 100%|██████████| 20/20 [1:09:05<00:00, 211.78s/it, loss=-0.56927, drawdown=0.00160]"
     ]
    },
    {
     "name": "stdout",
     "output_type": "stream",
     "text": [
      "16\n",
      "6\n"
     ]
    },
    {
     "name": "stderr",
     "output_type": "stream",
     "text": [
      "Epoch 3: 100%|██████████| 20/20 [1:13:51<00:00, 221.57s/it, loss=-0.56927, drawdown=0.00160, val_drawdown=0.00136, val_loss=-0.49639]\n"
     ]
    }
   ],
   "source": [
    "loss = SharpeRatio(returns_channel=0)\n",
    "benchmarks = {'1overN': OneOverN()}\n",
    "metrics = {'drawdown': MaximumDrawdown(returns_channel=0)}\n",
    "\n",
    "run = Run(ress,\n",
    "          loss,\n",
    "          train_dataloader,\n",
    "          val_dataloaders=val_dataloaders,\n",
    "          metrics=metrics,\n",
    "          benchmarks=benchmarks,\n",
    "          device = torch.device(\"cuda:0\"))#, optimizer=torch.optim.Adam(mynet.parameters(), lr=0.01))\n",
    "\n",
    "history = run.launch(n_epochs=4)"
   ]
  },
  {
   "cell_type": "code",
   "execution_count": null,
   "id": "honest-meditation",
   "metadata": {},
   "outputs": [],
   "source": [
    "#!pip install portfoliolab"
   ]
  },
  {
   "cell_type": "code",
   "execution_count": null,
   "id": "demographic-tribute",
   "metadata": {},
   "outputs": [],
   "source": [
    "#from portfoliolab.clustering import NestedClusteredOptimisation\n"
   ]
  },
  {
   "cell_type": "code",
   "execution_count": null,
   "id": "resistant-model",
   "metadata": {},
   "outputs": [],
   "source": []
  },
  {
   "cell_type": "code",
   "execution_count": null,
   "id": "cardiovascular-spelling",
   "metadata": {},
   "outputs": [],
   "source": []
  }
 ],
 "metadata": {
  "kernelspec": {
   "display_name": "Python [conda env:series_temporales] *",
   "language": "python",
   "name": "conda-env-series_temporales-py"
  },
  "language_info": {
   "codemirror_mode": {
    "name": "ipython",
    "version": 3
   },
   "file_extension": ".py",
   "mimetype": "text/x-python",
   "name": "python",
   "nbconvert_exporter": "python",
   "pygments_lexer": "ipython3",
   "version": "3.7.9"
  }
 },
 "nbformat": 4,
 "nbformat_minor": 5
}
