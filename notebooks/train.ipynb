{
 "cells": [
  {
   "cell_type": "code",
   "execution_count": 1,
   "id": "regional-cradle",
   "metadata": {},
   "outputs": [],
   "source": [
    "from data_utils import read_all_candles, filter_assets\n",
    "import pandas as pd\n",
    "from deepdow.utils import raw_to_Xy\n",
    "from deepdow.benchmarks import OneOverN\n",
    "from deepdow.data import InRAMDataset, RigidDataLoader\n",
    "from deepdow.experiments import Run\n",
    "from deepdow.losses import MaximumDrawdown, SharpeRatio, StandardDeviation, RiskParity\n",
    "from deepdow.nn import LinearNet, BachelierNet\n",
    "from deepdow.nn import KeynesNet\n",
    "from deepdow.nn import ThorpNet\n",
    "from deepdow.layers import NCO, Cov2Corr, Resample, CovarianceMatrix, AverageCollapse, WeightNorm\n",
    "from deepdow.benchmarks import Benchmark\n",
    "import matplotlib.pyplot as plt\n",
    "import numpy as np\n",
    "import torch\n",
    "from deepdow.callbacks import EarlyStoppingCallback\n",
    "from submission_utils import general_weights_fixer, get_submission_markowitz, test_submission\n",
    "from sklearn.model_selection import train_test_split\n",
    "from opt_nets import ResampleNetwork\n",
    "import os"
   ]
  },
  {
   "cell_type": "code",
   "execution_count": null,
   "id": "incident-trainer",
   "metadata": {},
   "outputs": [],
   "source": []
  },
  {
   "cell_type": "code",
   "execution_count": 2,
   "id": "proof-christopher",
   "metadata": {},
   "outputs": [
    {
     "name": "stderr",
     "output_type": "stream",
     "text": [
      "Getting candles data for Darwins...: 100%|██████████| 96/96 [00:02<00:00, 32.96it/s]\n",
      "Getting candles data for Darwins...: 100%|██████████| 96/96 [00:02<00:00, 34.40it/s]\n"
     ]
    }
   ],
   "source": [
    "candles = read_all_candles()\n",
    "candles2 = read_all_candles(\"darwins_complete_2803\")"
   ]
  },
  {
   "cell_type": "code",
   "execution_count": 3,
   "id": "forbidden-habitat",
   "metadata": {},
   "outputs": [],
   "source": [
    "#candles = {k:v for k,v in candles.items() if k not in assets_0}\n",
    "#candles2 = {k:v for k,v in candles2.items() if k not in assets_0}"
   ]
  },
  {
   "cell_type": "code",
   "execution_count": 4,
   "id": "vocal-pregnancy",
   "metadata": {},
   "outputs": [],
   "source": [
    "df = pd.concat(candles.values(),keys= candles.keys(),axis=1)"
   ]
  },
  {
   "cell_type": "code",
   "execution_count": 5,
   "id": "trying-colonial",
   "metadata": {},
   "outputs": [],
   "source": [
    "df2 = pd.concat(candles2.values(), keys=candles.keys(), axis=1)"
   ]
  },
  {
   "cell_type": "code",
   "execution_count": 6,
   "id": "digital-spiritual",
   "metadata": {},
   "outputs": [],
   "source": [
    "df2 = df2.loc[df2.index >= \"2020-06-18\"]"
   ]
  },
  {
   "cell_type": "code",
   "execution_count": 101,
   "id": "middle-finder",
   "metadata": {},
   "outputs": [],
   "source": [
    "df = pd.concat([df, df2])"
   ]
  },
  {
   "cell_type": "code",
   "execution_count": 102,
   "id": "conscious-language",
   "metadata": {},
   "outputs": [],
   "source": [
    "df = df.loc[df.index >= \"2020-03-01\"]\n",
    "# df = df.loc[df.index < \"2020-12-25\"]\n"
   ]
  },
  {
   "cell_type": "code",
   "execution_count": 6,
   "id": "charged-garlic",
   "metadata": {},
   "outputs": [],
   "source": [
    "# df = df.loc[df.index < \"2020-12-25\"]\n",
    "df = df2.loc[(df2.index >= \"2020-08-01\") & (df2.index <= \"2020-12-25\")]"
   ]
  },
  {
   "cell_type": "code",
   "execution_count": 7,
   "id": "printable-attachment",
   "metadata": {},
   "outputs": [],
   "source": [
    "raw_df = df.copy()"
   ]
  },
  {
   "cell_type": "code",
   "execution_count": 8,
   "id": "involved-document",
   "metadata": {},
   "outputs": [],
   "source": [
    "n_timesteps = len(raw_df)  # 20\n",
    "n_channels = len(raw_df.columns.levels[1])  # 2\n",
    "n_assets = len(raw_df.columns.levels[0])  # 2\n"
   ]
  },
  {
   "cell_type": "code",
   "execution_count": 9,
   "id": "immune-pitch",
   "metadata": {},
   "outputs": [
    {
     "data": {
      "text/plain": [
       "(3505, 4, 96)"
      ]
     },
     "execution_count": 9,
     "metadata": {},
     "output_type": "execute_result"
    }
   ],
   "source": [
    "n_timesteps, n_channels, n_assets"
   ]
  },
  {
   "cell_type": "code",
   "execution_count": null,
   "id": "engaging-faith",
   "metadata": {},
   "outputs": [],
   "source": []
  },
  {
   "cell_type": "code",
   "execution_count": 10,
   "id": "diverse-anime",
   "metadata": {},
   "outputs": [],
   "source": [
    "lookback, gap, horizon = 24, 1, 24\n",
    "\n",
    "X, timestamps, y, asset_names, indicators = raw_to_Xy(raw_df,\n",
    "                                                      lookback=lookback,\n",
    "                                                      gap=gap,\n",
    "                                                      freq=\"B\",\n",
    "                                                      horizon=horizon)"
   ]
  },
  {
   "cell_type": "code",
   "execution_count": 20,
   "id": "upper-reservation",
   "metadata": {},
   "outputs": [
    {
     "data": {
      "text/plain": [
       "(56, 4, 24, 94)"
      ]
     },
     "execution_count": 20,
     "metadata": {},
     "output_type": "execute_result"
    }
   ],
   "source": [
    "X.shape"
   ]
  },
  {
   "cell_type": "code",
   "execution_count": 11,
   "id": "shaped-chance",
   "metadata": {},
   "outputs": [],
   "source": [
    "\n",
    "dataset = InRAMDataset(X, y, timestamps=timestamps, asset_names=asset_names)\n",
    "\n",
    "X_sample, y_sample, timestamp_sample, asset_names = dataset[0]"
   ]
  },
  {
   "cell_type": "code",
   "execution_count": 12,
   "id": "japanese-surface",
   "metadata": {},
   "outputs": [],
   "source": [
    "ids_tr, ids_val = train_test_split(range(len(dataset)), test_size=0.20, random_state=42)"
   ]
  },
  {
   "cell_type": "code",
   "execution_count": 13,
   "id": "occupational-child",
   "metadata": {},
   "outputs": [],
   "source": [
    "train_dataloader = RigidDataLoader(dataset, indices=ids_tr, batch_size=16) # list(range(sp_))\n",
    "val_dataloaders = {'val': RigidDataLoader(dataset, indices=ids_val, batch_size=16)} # list(range(sp_, len(dataset)))"
   ]
  },
  {
   "cell_type": "code",
   "execution_count": 14,
   "id": "headed-screen",
   "metadata": {},
   "outputs": [],
   "source": [
    "callbacks = [EarlyStoppingCallback(\"val\", \"loss\", patience=3)]"
   ]
  },
  {
   "cell_type": "code",
   "execution_count": 121,
   "id": "affiliated-israeli",
   "metadata": {},
   "outputs": [],
   "source": [
    "network2 = LinearNet(n_channels, lookback, n_assets)\n",
    "loss = SharpeRatio(returns_channel=0)\n",
    "run2 = Run(network2,\n",
    "          loss,\n",
    "          train_dataloader,\n",
    "          val_dataloaders=val_dataloaders,\n",
    "          metrics=metrics,\n",
    "          benchmarks=benchmarks,\n",
    "          device = torch.device(\"cuda:0\"),\n",
    "          optimizer=torch.optim.Adam(network.parameters(), lr=0.01), callbacks=callbacks)"
   ]
  },
  {
   "cell_type": "code",
   "execution_count": 122,
   "id": "requested-mauritius",
   "metadata": {},
   "outputs": [
    {
     "name": "stderr",
     "output_type": "stream",
     "text": [
      "Epoch 0:  67%|██████▋   | 4/6 [00:00<00:00, 24.93it/s, loss=-0.39589, drawdown=0.00291, sharpe=-0.39589]"
     ]
    },
    {
     "name": "stdout",
     "output_type": "stream",
     "text": [
      "model   metric    epoch  dataloader\n",
      "1overN  drawdown  -1     val           0.002\n",
      "        loss      -1     val          -0.453\n",
      "        sharpe    -1     val          -0.453\n"
     ]
    },
    {
     "name": "stderr",
     "output_type": "stream",
     "text": [
      "Epoch 0: 100%|██████████| 6/6 [00:00<00:00, 15.63it/s, loss=-0.40307, drawdown=0.00281, sharpe=-0.40307, val_drawdown=0.00220, val_loss=-0.45298, val_sharpe=-0.45298]\n",
      "Epoch 1: 100%|██████████| 6/6 [00:00<00:00, 16.31it/s, loss=-0.40202, drawdown=0.00281, sharpe=-0.40202, val_drawdown=0.00220, val_loss=-0.45302, val_sharpe=-0.45302]\n",
      "Epoch 2: 100%|██████████| 6/6 [00:00<00:00, 18.51it/s, loss=-0.40467, drawdown=0.00272, sharpe=-0.40467, val_drawdown=0.00219, val_loss=-0.45308, val_sharpe=-0.45308]\n",
      "Epoch 3: 100%|██████████| 6/6 [00:00<00:00, 15.90it/s, loss=-0.41070, drawdown=0.00281, sharpe=-0.41070, val_drawdown=0.00219, val_loss=-0.45312, val_sharpe=-0.45312]\n",
      "Epoch 4: 100%|██████████| 6/6 [00:00<00:00, 37.10it/s, loss=-0.39760, drawdown=0.00299, sharpe=-0.39760, val_drawdown=0.00219, val_loss=-0.45318, val_sharpe=-0.45318]\n",
      "Epoch 5: 100%|██████████| 6/6 [00:00<00:00, 30.16it/s, loss=-0.40780, drawdown=0.00264, sharpe=-0.40780, val_drawdown=0.00219, val_loss=-0.45335, val_sharpe=-0.45335]\n",
      "Epoch 6: 100%|██████████| 6/6 [00:00<00:00, 17.35it/s, loss=-0.41454, drawdown=0.00257, sharpe=-0.41454, val_drawdown=0.00219, val_loss=-0.45330, val_sharpe=-0.45330]\n",
      "Epoch 7: 100%|██████████| 6/6 [00:00<00:00, 20.21it/s, loss=-0.40304, drawdown=0.00281, sharpe=-0.40304, val_drawdown=0.00219, val_loss=-0.45323, val_sharpe=-0.45323]\n",
      "Epoch 8: 100%|██████████| 6/6 [00:00<00:00, 25.10it/s, loss=-0.40154, drawdown=0.00288, sharpe=-0.40154, val_drawdown=0.00219, val_loss=-0.45338, val_sharpe=-0.45338]\n",
      "Epoch 9: 100%|██████████| 6/6 [00:00<00:00, 26.00it/s, loss=-0.40773, drawdown=0.00268, sharpe=-0.40773, val_drawdown=0.00219, val_loss=-0.45336, val_sharpe=-0.45336]\n",
      "Epoch 10: 100%|██████████| 6/6 [00:00<00:00, 37.53it/s, loss=-0.40746, drawdown=0.00295, sharpe=-0.40746, val_drawdown=0.00219, val_loss=-0.45306, val_sharpe=-0.45306]\n",
      "Epoch 11: 100%|██████████| 6/6 [00:00<00:00, 30.55it/s, loss=-0.40252, drawdown=0.00288, sharpe=-0.40252, val_drawdown=0.00220, val_loss=-0.45228, val_sharpe=-0.45228]\n"
     ]
    },
    {
     "name": "stdout",
     "output_type": "stream",
     "text": [
      "Training interrupted\n",
      "Training stopped early because there was no improvement in val_loss for 3 epochs\n"
     ]
    }
   ],
   "source": [
    "history2 = run2.launch(n_epochs=150)"
   ]
  },
  {
   "cell_type": "code",
   "execution_count": 21,
   "id": "metropolitan-diploma",
   "metadata": {},
   "outputs": [],
   "source": [
    "max_weight = 0.20\n",
    "force_symmetric = True\n",
    "network = ThorpNet(n_assets-2, max_weight=max_weight, force_symmetric=force_symmetric)"
   ]
  },
  {
   "cell_type": "code",
   "execution_count": 22,
   "id": "explicit-pathology",
   "metadata": {},
   "outputs": [],
   "source": [
    "#loss = MaximumDrawdown(returns_channel=0) #SharpeRatio(returns_channel=0)\n",
    "#loss = StandardDeviation()\n",
    "loss = SharpeRatio(returns_channel=0)\n",
    "benchmarks = {'1overN': OneOverN()}\n",
    "metrics = {'drawdown': MaximumDrawdown(returns_channel=0), \"sharpe\": SharpeRatio(returns_channel=0)}\n",
    "callbacks = [EarlyStoppingCallback(\"val\", \"loss\", patience=3)]\n",
    "run = Run(network,\n",
    "          loss,\n",
    "          train_dataloader,\n",
    "          val_dataloaders=val_dataloaders,\n",
    "          metrics=metrics,\n",
    "          benchmarks=benchmarks,\n",
    "          device = torch.device(\"cuda:0\"),\n",
    "          optimizer=torch.optim.Adam(network.parameters(), lr=0.001), callbacks=callbacks)"
   ]
  },
  {
   "cell_type": "code",
   "execution_count": 23,
   "id": "chemical-missile",
   "metadata": {},
   "outputs": [
    {
     "name": "stderr",
     "output_type": "stream",
     "text": [
      "\n",
      "Epoch 0:   0%|          | 0/3 [00:00<?, ?it/s]\u001b[A"
     ]
    },
    {
     "name": "stdout",
     "output_type": "stream",
     "text": [
      "model   metric    epoch  dataloader\n",
      "1overN  drawdown  -1     val           0.003\n",
      "        loss      -1     val          -0.066\n",
      "        sharpe    -1     val          -0.066\n"
     ]
    },
    {
     "name": "stderr",
     "output_type": "stream",
     "text": [
      "\n",
      "Epoch 0:  33%|███▎      | 1/3 [00:00<00:01,  1.38it/s]\u001b[A\n",
      "Epoch 0:  33%|███▎      | 1/3 [00:00<00:01,  1.38it/s, loss=-0.05785, drawdown=0.00384, sharpe=-0.05785]\u001b[A\n",
      "Epoch 0:  67%|██████▋   | 2/3 [00:01<00:01,  1.01s/it, loss=-0.05785, drawdown=0.00384, sharpe=-0.05785]\u001b[A\n",
      "Epoch 0:  67%|██████▋   | 2/3 [00:01<00:01,  1.01s/it, loss=-0.14423, drawdown=0.00314, sharpe=-0.14423]\u001b[A\n",
      "Epoch 0: 100%|██████████| 3/3 [00:02<00:00,  1.02it/s, loss=-0.14423, drawdown=0.00314, sharpe=-0.14423]\u001b[A\n",
      "Epoch 0: 100%|██████████| 3/3 [00:02<00:00,  1.02it/s, loss=-0.21239, drawdown=0.00264, sharpe=-0.21239]\u001b[A\n",
      "Epoch 0: 100%|██████████| 3/3 [00:03<00:00,  1.02it/s, loss=-0.21239, drawdown=0.00264, sharpe=-0.21239, val_drawdown=0.00133, val_loss=-0.35916, val_sharpe=-0.35916]\u001b[A\n",
      "Epoch 0: 100%|██████████| 3/3 [00:03<00:00,  1.09s/it, loss=-0.21239, drawdown=0.00264, sharpe=-0.21239, val_drawdown=0.00133, val_loss=-0.35916, val_sharpe=-0.35916]\u001b[A\n",
      "\n",
      "Epoch 1:   0%|          | 0/3 [00:00<?, ?it/s]\u001b[A\n",
      "Epoch 1:  33%|███▎      | 1/3 [00:00<00:01,  1.06it/s]\u001b[A\n",
      "Epoch 1:  33%|███▎      | 1/3 [00:00<00:01,  1.06it/s, loss=-0.46010, drawdown=0.00116, sharpe=-0.46010]\u001b[A\n",
      "Epoch 1:  67%|██████▋   | 2/3 [00:01<00:00,  1.18it/s, loss=-0.46010, drawdown=0.00116, sharpe=-0.46010]\u001b[A\n",
      "Epoch 1:  67%|██████▋   | 2/3 [00:01<00:00,  1.18it/s, loss=-0.41834, drawdown=0.00112, sharpe=-0.41834]\u001b[A\n",
      "Epoch 1: 100%|██████████| 3/3 [00:02<00:00,  1.20it/s, loss=-0.41834, drawdown=0.00112, sharpe=-0.41834]\u001b[A\n",
      "Epoch 1: 100%|██████████| 3/3 [00:02<00:00,  1.20it/s, loss=-0.51463, drawdown=0.00100, sharpe=-0.51463]\u001b[A\n",
      "Epoch 1: 100%|██████████| 3/3 [00:03<00:00,  1.20it/s, loss=-0.51463, drawdown=0.00100, sharpe=-0.51463, val_drawdown=0.00085, val_loss=-0.55515, val_sharpe=-0.55515]\u001b[A\n",
      "Epoch 1: 100%|██████████| 3/3 [00:03<00:00,  1.03s/it, loss=-0.51463, drawdown=0.00100, sharpe=-0.51463, val_drawdown=0.00085, val_loss=-0.55515, val_sharpe=-0.55515]\u001b[A\n",
      "\n",
      "Epoch 2:   0%|          | 0/3 [00:00<?, ?it/s]\u001b[A\n",
      "Epoch 2:  33%|███▎      | 1/3 [00:01<00:02,  1.07s/it]\u001b[A\n",
      "Epoch 2:  33%|███▎      | 1/3 [00:01<00:02,  1.07s/it, loss=-0.69356, drawdown=0.00075, sharpe=-0.69356]\u001b[A\n",
      "Epoch 2:  67%|██████▋   | 2/3 [00:01<00:00,  1.04it/s, loss=-0.69356, drawdown=0.00075, sharpe=-0.69356]\u001b[A\n",
      "Epoch 2:  67%|██████▋   | 2/3 [00:01<00:00,  1.04it/s, loss=-0.65457, drawdown=0.00078, sharpe=-0.65457]\u001b[A\n",
      "Epoch 2: 100%|██████████| 3/3 [00:02<00:00,  1.12it/s, loss=-0.65457, drawdown=0.00078, sharpe=-0.65457]\u001b[A\n",
      "Epoch 2: 100%|██████████| 3/3 [00:02<00:00,  1.12it/s, loss=-0.65993, drawdown=0.00073, sharpe=-0.65993]\u001b[A\n",
      "Epoch 2: 100%|██████████| 3/3 [00:03<00:00,  1.12it/s, loss=-0.65993, drawdown=0.00073, sharpe=-0.65993, val_drawdown=0.00072, val_loss=-0.65289, val_sharpe=-0.65289]\u001b[A\n",
      "Epoch 2: 100%|██████████| 3/3 [00:03<00:00,  1.08s/it, loss=-0.65993, drawdown=0.00073, sharpe=-0.65993, val_drawdown=0.00072, val_loss=-0.65289, val_sharpe=-0.65289]\u001b[A\n",
      "\n",
      "Epoch 3:   0%|          | 0/3 [00:00<?, ?it/s]\u001b[A\n",
      "Epoch 3:  33%|███▎      | 1/3 [00:00<00:01,  1.28it/s]\u001b[A\n",
      "Epoch 3:  33%|███▎      | 1/3 [00:00<00:01,  1.28it/s, loss=-0.69027, drawdown=0.00063, sharpe=-0.69027]\u001b[A\n",
      "Epoch 3:  67%|██████▋   | 2/3 [00:01<00:00,  1.01it/s, loss=-0.69027, drawdown=0.00063, sharpe=-0.69027]\u001b[A\n",
      "Epoch 3:  67%|██████▋   | 2/3 [00:01<00:00,  1.01it/s, loss=-0.75009, drawdown=0.00063, sharpe=-0.75009]\u001b[A\n",
      "Epoch 3: 100%|██████████| 3/3 [00:02<00:00,  1.06it/s, loss=-0.75009, drawdown=0.00063, sharpe=-0.75009]\u001b[A\n",
      "Epoch 3: 100%|██████████| 3/3 [00:02<00:00,  1.06it/s, loss=-0.76221, drawdown=0.00062, sharpe=-0.76221]\u001b[A\n",
      "Epoch 3: 100%|██████████| 3/3 [00:03<00:00,  1.06it/s, loss=-0.76221, drawdown=0.00062, sharpe=-0.76221, val_drawdown=0.00066, val_loss=-0.73967, val_sharpe=-0.73967]\u001b[A\n",
      "Epoch 3: 100%|██████████| 3/3 [00:03<00:00,  1.17s/it, loss=-0.76221, drawdown=0.00062, sharpe=-0.76221, val_drawdown=0.00066, val_loss=-0.73967, val_sharpe=-0.73967]\u001b[A\n",
      "\n",
      "Epoch 4:   0%|          | 0/3 [00:00<?, ?it/s]\u001b[A\n",
      "Epoch 4:  33%|███▎      | 1/3 [00:00<00:01,  1.10it/s]\u001b[A\n",
      "Epoch 4:  33%|███▎      | 1/3 [00:00<00:01,  1.10it/s, loss=-0.84690, drawdown=0.00060, sharpe=-0.84690]\u001b[A\n",
      "Epoch 4:  67%|██████▋   | 2/3 [00:01<00:00,  1.09it/s, loss=-0.84690, drawdown=0.00060, sharpe=-0.84690]\u001b[A\n",
      "Epoch 4:  67%|██████▋   | 2/3 [00:01<00:00,  1.09it/s, loss=-0.84811, drawdown=0.00055, sharpe=-0.84811]\u001b[A\n",
      "Epoch 4: 100%|██████████| 3/3 [00:02<00:00,  1.15it/s, loss=-0.84811, drawdown=0.00055, sharpe=-0.84811]\u001b[A\n",
      "Epoch 4: 100%|██████████| 3/3 [00:02<00:00,  1.15it/s, loss=-0.85978, drawdown=0.00054, sharpe=-0.85978]\u001b[A\n",
      "Epoch 4: 100%|██████████| 3/3 [00:03<00:00,  1.15it/s, loss=-0.85978, drawdown=0.00054, sharpe=-0.85978, val_drawdown=0.00063, val_loss=-0.80900, val_sharpe=-0.80900]\u001b[A\n",
      "Epoch 4: 100%|██████████| 3/3 [00:03<00:00,  1.11s/it, loss=-0.85978, drawdown=0.00054, sharpe=-0.85978, val_drawdown=0.00063, val_loss=-0.80900, val_sharpe=-0.80900]\u001b[A\n",
      "\n",
      "Epoch 5:   0%|          | 0/3 [00:00<?, ?it/s]\u001b[A\n",
      "Epoch 5:  33%|███▎      | 1/3 [00:01<00:02,  1.04s/it]\u001b[A\n",
      "Epoch 5:  33%|███▎      | 1/3 [00:01<00:02,  1.04s/it, loss=-1.00954, drawdown=0.00052, sharpe=-1.00954]\u001b[A\n",
      "Epoch 5:  67%|██████▋   | 2/3 [00:02<00:01,  1.07s/it, loss=-1.00954, drawdown=0.00052, sharpe=-1.00954]\u001b[A\n",
      "Epoch 5:  67%|██████▋   | 2/3 [00:02<00:01,  1.07s/it, loss=-0.95506, drawdown=0.00051, sharpe=-0.95506]\u001b[A\n",
      "Epoch 5: 100%|██████████| 3/3 [00:03<00:00,  1.01s/it, loss=-0.95506, drawdown=0.00051, sharpe=-0.95506]\u001b[A\n",
      "Epoch 5: 100%|██████████| 3/3 [00:03<00:00,  1.01s/it, loss=-0.93559, drawdown=0.00052, sharpe=-0.93559]\u001b[A\n",
      "Epoch 5: 100%|██████████| 3/3 [00:03<00:00,  1.01s/it, loss=-0.93559, drawdown=0.00052, sharpe=-0.93559, val_drawdown=0.00062, val_loss=-0.85742, val_sharpe=-0.85742]\u001b[A\n",
      "Epoch 5: 100%|██████████| 3/3 [00:03<00:00,  1.22s/it, loss=-0.93559, drawdown=0.00052, sharpe=-0.93559, val_drawdown=0.00062, val_loss=-0.85742, val_sharpe=-0.85742]\u001b[A\n",
      "\n",
      "Epoch 6:   0%|          | 0/3 [00:00<?, ?it/s]\u001b[A\n",
      "Epoch 6:  33%|███▎      | 1/3 [00:00<00:01,  1.08it/s]\u001b[A\n",
      "Epoch 6:  33%|███▎      | 1/3 [00:00<00:01,  1.08it/s, loss=-1.08523, drawdown=0.00040, sharpe=-1.08523]\u001b[A\n",
      "Epoch 6:  67%|██████▋   | 2/3 [00:01<00:00,  1.05it/s, loss=-1.08523, drawdown=0.00040, sharpe=-1.08523]\u001b[A\n",
      "Epoch 6:  67%|██████▋   | 2/3 [00:01<00:00,  1.05it/s, loss=-0.95615, drawdown=0.00053, sharpe=-0.95615]\u001b[A\n",
      "Epoch 6: 100%|██████████| 3/3 [00:02<00:00,  1.07it/s, loss=-0.95615, drawdown=0.00053, sharpe=-0.95615]\u001b[A\n",
      "Epoch 6: 100%|██████████| 3/3 [00:02<00:00,  1.07it/s, loss=-1.00933, drawdown=0.00051, sharpe=-1.00933]\u001b[A\n",
      "Epoch 6: 100%|██████████| 3/3 [00:03<00:00,  1.07it/s, loss=-1.00933, drawdown=0.00051, sharpe=-1.00933, val_drawdown=0.00060, val_loss=-0.89301, val_sharpe=-0.89301]\u001b[A\n",
      "Epoch 6: 100%|██████████| 3/3 [00:03<00:00,  1.14s/it, loss=-1.00933, drawdown=0.00051, sharpe=-1.00933, val_drawdown=0.00060, val_loss=-0.89301, val_sharpe=-0.89301]\u001b[A\n",
      "\n",
      "Epoch 7:   0%|          | 0/3 [00:00<?, ?it/s]\u001b[A\n",
      "Epoch 7:  33%|███▎      | 1/3 [00:00<00:01,  1.27it/s]\u001b[A\n",
      "Epoch 7:  33%|███▎      | 1/3 [00:00<00:01,  1.27it/s, loss=-1.08020, drawdown=0.00047, sharpe=-1.08020]\u001b[A\n",
      "Epoch 7:  67%|██████▋   | 2/3 [00:01<00:00,  1.22it/s, loss=-1.08020, drawdown=0.00047, sharpe=-1.08020]\u001b[A\n",
      "Epoch 7:  67%|██████▋   | 2/3 [00:01<00:00,  1.22it/s, loss=-0.99986, drawdown=0.00053, sharpe=-0.99986]\u001b[A\n",
      "Epoch 7: 100%|██████████| 3/3 [00:02<00:00,  1.34it/s, loss=-0.99986, drawdown=0.00053, sharpe=-0.99986]\u001b[A\n",
      "Epoch 7: 100%|██████████| 3/3 [00:02<00:00,  1.34it/s, loss=-1.05531, drawdown=0.00048, sharpe=-1.05531]\u001b[A\n",
      "Epoch 7: 100%|██████████| 3/3 [00:02<00:00,  1.34it/s, loss=-1.05531, drawdown=0.00048, sharpe=-1.05531, val_drawdown=0.00059, val_loss=-0.91563, val_sharpe=-0.91563]\u001b[A\n",
      "Epoch 7: 100%|██████████| 3/3 [00:02<00:00,  1.01it/s, loss=-1.05531, drawdown=0.00048, sharpe=-1.05531, val_drawdown=0.00059, val_loss=-0.91563, val_sharpe=-0.91563]\u001b[A\n",
      "\n",
      "Epoch 8:   0%|          | 0/3 [00:00<?, ?it/s]\u001b[A\n",
      "Epoch 8:  33%|███▎      | 1/3 [00:00<00:01,  1.11it/s]\u001b[A\n",
      "Epoch 8:  33%|███▎      | 1/3 [00:00<00:01,  1.11it/s, loss=-0.96473, drawdown=0.00057, sharpe=-0.96473]\u001b[A\n",
      "Epoch 8:  67%|██████▋   | 2/3 [00:01<00:00,  1.15it/s, loss=-0.96473, drawdown=0.00057, sharpe=-0.96473]\u001b[A\n"
     ]
    },
    {
     "name": "stderr",
     "output_type": "stream",
     "text": [
      "Epoch 8:  67%|██████▋   | 2/3 [00:01<00:00,  1.15it/s, loss=-0.96909, drawdown=0.00052, sharpe=-0.96909]\u001b[A\n",
      "Epoch 8: 100%|██████████| 3/3 [00:02<00:00,  1.21it/s, loss=-0.96909, drawdown=0.00052, sharpe=-0.96909]\u001b[A\n",
      "Epoch 8: 100%|██████████| 3/3 [00:02<00:00,  1.21it/s, loss=-1.09129, drawdown=0.00049, sharpe=-1.09129]\u001b[A\n",
      "Epoch 8: 100%|██████████| 3/3 [00:02<00:00,  1.21it/s, loss=-1.09129, drawdown=0.00049, sharpe=-1.09129, val_drawdown=0.00060, val_loss=-0.92595, val_sharpe=-0.92595]\u001b[A\n",
      "Epoch 8: 100%|██████████| 3/3 [00:02<00:00,  1.02it/s, loss=-1.09129, drawdown=0.00049, sharpe=-1.09129, val_drawdown=0.00060, val_loss=-0.92595, val_sharpe=-0.92595]\u001b[A\n",
      "\n",
      "Epoch 9:   0%|          | 0/3 [00:00<?, ?it/s]\u001b[A\n",
      "Epoch 9:  33%|███▎      | 1/3 [00:01<00:02,  1.09s/it]\u001b[A\n",
      "Epoch 9:  33%|███▎      | 1/3 [00:01<00:02,  1.09s/it, loss=-1.10105, drawdown=0.00052, sharpe=-1.10105]\u001b[A\n",
      "Epoch 9:  67%|██████▋   | 2/3 [00:02<00:00,  1.01it/s, loss=-1.10105, drawdown=0.00052, sharpe=-1.10105]\u001b[A\n",
      "Epoch 9:  67%|██████▋   | 2/3 [00:02<00:00,  1.01it/s, loss=-1.13193, drawdown=0.00045, sharpe=-1.13193]\u001b[A\n",
      "Epoch 9: 100%|██████████| 3/3 [00:02<00:00,  1.08it/s, loss=-1.13193, drawdown=0.00045, sharpe=-1.13193]\u001b[A\n",
      "Epoch 9: 100%|██████████| 3/3 [00:02<00:00,  1.08it/s, loss=-1.07584, drawdown=0.00051, sharpe=-1.07584]\u001b[A\n",
      "Epoch 9: 100%|██████████| 3/3 [00:03<00:00,  1.08it/s, loss=-1.07584, drawdown=0.00051, sharpe=-1.07584, val_drawdown=0.00063, val_loss=-0.93543, val_sharpe=-0.93543]\u001b[A\n",
      "Epoch 9: 100%|██████████| 3/3 [00:03<00:00,  1.14s/it, loss=-1.07584, drawdown=0.00051, sharpe=-1.07584, val_drawdown=0.00063, val_loss=-0.93543, val_sharpe=-0.93543]\u001b[A\n",
      "\n",
      "Epoch 10:   0%|          | 0/3 [00:00<?, ?it/s]\u001b[A\n",
      "Epoch 10:  33%|███▎      | 1/3 [00:00<00:01,  1.01it/s]\u001b[A\n",
      "Epoch 10:  33%|███▎      | 1/3 [00:00<00:01,  1.01it/s, loss=-1.05395, drawdown=0.00055, sharpe=-1.05395]\u001b[A\n",
      "Epoch 10:  67%|██████▋   | 2/3 [00:01<00:00,  1.03it/s, loss=-1.05395, drawdown=0.00055, sharpe=-1.05395]\u001b[A\n",
      "Epoch 10:  67%|██████▋   | 2/3 [00:01<00:00,  1.03it/s, loss=-1.06405, drawdown=0.00054, sharpe=-1.06405]\u001b[A\n",
      "Epoch 10: 100%|██████████| 3/3 [00:02<00:00,  1.10it/s, loss=-1.06405, drawdown=0.00054, sharpe=-1.06405]\u001b[A\n",
      "Epoch 10: 100%|██████████| 3/3 [00:02<00:00,  1.10it/s, loss=-1.11693, drawdown=0.00050, sharpe=-1.11693]\u001b[A\n",
      "Epoch 10: 100%|██████████| 3/3 [00:03<00:00,  1.10it/s, loss=-1.11693, drawdown=0.00050, sharpe=-1.11693, val_drawdown=0.00064, val_loss=-0.94797, val_sharpe=-0.94797]\u001b[A\n",
      "Epoch 10: 100%|██████████| 3/3 [00:03<00:00,  1.14s/it, loss=-1.11693, drawdown=0.00050, sharpe=-1.11693, val_drawdown=0.00064, val_loss=-0.94797, val_sharpe=-0.94797]\u001b[A\n",
      "\n",
      "Epoch 11:   0%|          | 0/3 [00:00<?, ?it/s]\u001b[A\n",
      "Epoch 11:  33%|███▎      | 1/3 [00:01<00:02,  1.08s/it]\u001b[A\n",
      "Epoch 11:  33%|███▎      | 1/3 [00:01<00:02,  1.08s/it, loss=-1.10412, drawdown=0.00040, sharpe=-1.10412]\u001b[A\n",
      "Epoch 11:  67%|██████▋   | 2/3 [00:02<00:01,  1.04s/it, loss=-1.10412, drawdown=0.00040, sharpe=-1.10412]\u001b[A\n",
      "Epoch 11:  67%|██████▋   | 2/3 [00:02<00:01,  1.04s/it, loss=-1.15941, drawdown=0.00046, sharpe=-1.15941]\u001b[A\n",
      "Epoch 11: 100%|██████████| 3/3 [00:02<00:00,  1.12it/s, loss=-1.15941, drawdown=0.00046, sharpe=-1.15941]\u001b[A\n",
      "Epoch 11: 100%|██████████| 3/3 [00:02<00:00,  1.12it/s, loss=-1.11618, drawdown=0.00052, sharpe=-1.11618]\u001b[A\n",
      "Epoch 11: 100%|██████████| 3/3 [00:03<00:00,  1.12it/s, loss=-1.11618, drawdown=0.00052, sharpe=-1.11618, val_drawdown=0.00065, val_loss=-0.95608, val_sharpe=-0.95608]\u001b[A\n",
      "Epoch 11: 100%|██████████| 3/3 [00:03<00:00,  1.12s/it, loss=-1.11618, drawdown=0.00052, sharpe=-1.11618, val_drawdown=0.00065, val_loss=-0.95608, val_sharpe=-0.95608]\u001b[A\n",
      "\n",
      "Epoch 12:   0%|          | 0/3 [00:00<?, ?it/s]\u001b[A\n",
      "Epoch 12:  33%|███▎      | 1/3 [00:00<00:01,  1.18it/s]\u001b[A\n",
      "Epoch 12:  33%|███▎      | 1/3 [00:00<00:01,  1.18it/s, loss=-1.11503, drawdown=0.00054, sharpe=-1.11503]\u001b[A\n",
      "Epoch 12:  67%|██████▋   | 2/3 [00:01<00:00,  1.01it/s, loss=-1.11503, drawdown=0.00054, sharpe=-1.11503]\u001b[A\n",
      "Epoch 12:  67%|██████▋   | 2/3 [00:01<00:00,  1.01it/s, loss=-1.09707, drawdown=0.00055, sharpe=-1.09707]\u001b[A\n",
      "Epoch 12: 100%|██████████| 3/3 [00:02<00:00,  1.08it/s, loss=-1.09707, drawdown=0.00055, sharpe=-1.09707]\u001b[A\n",
      "Epoch 12: 100%|██████████| 3/3 [00:02<00:00,  1.08it/s, loss=-1.14067, drawdown=0.00052, sharpe=-1.14067]\u001b[A\n",
      "Epoch 12: 100%|██████████| 3/3 [00:03<00:00,  1.08it/s, loss=-1.14067, drawdown=0.00052, sharpe=-1.14067, val_drawdown=0.00066, val_loss=-0.96292, val_sharpe=-0.96292]\u001b[A\n",
      "Epoch 12: 100%|██████████| 3/3 [00:03<00:00,  1.06s/it, loss=-1.14067, drawdown=0.00052, sharpe=-1.14067, val_drawdown=0.00066, val_loss=-0.96292, val_sharpe=-0.96292]\u001b[A\n",
      "\n",
      "Epoch 13:   0%|          | 0/3 [00:00<?, ?it/s]\u001b[A\n",
      "Epoch 13:  33%|███▎      | 1/3 [00:00<00:01,  1.07it/s]\u001b[A\n",
      "Epoch 13:  33%|███▎      | 1/3 [00:00<00:01,  1.07it/s, loss=-1.22834, drawdown=0.00047, sharpe=-1.22834]\u001b[A\n",
      "Epoch 13:  67%|██████▋   | 2/3 [00:01<00:00,  1.05it/s, loss=-1.22834, drawdown=0.00047, sharpe=-1.22834]\u001b[A\n",
      "Epoch 13:  67%|██████▋   | 2/3 [00:01<00:00,  1.05it/s, loss=-1.14705, drawdown=0.00054, sharpe=-1.14705]\u001b[A\n",
      "Epoch 13: 100%|██████████| 3/3 [00:02<00:00,  1.09it/s, loss=-1.14705, drawdown=0.00054, sharpe=-1.14705]\u001b[A\n",
      "Epoch 13: 100%|██████████| 3/3 [00:02<00:00,  1.09it/s, loss=-1.14269, drawdown=0.00053, sharpe=-1.14269]\u001b[A\n",
      "Epoch 13: 100%|██████████| 3/3 [00:03<00:00,  1.09it/s, loss=-1.14269, drawdown=0.00053, sharpe=-1.14269, val_drawdown=0.00066, val_loss=-0.97186, val_sharpe=-0.97186]\u001b[A\n",
      "Epoch 13: 100%|██████████| 3/3 [00:03<00:00,  1.08s/it, loss=-1.14269, drawdown=0.00053, sharpe=-1.14269, val_drawdown=0.00066, val_loss=-0.97186, val_sharpe=-0.97186]\u001b[A\n",
      "\n",
      "Epoch 14:   0%|          | 0/3 [00:00<?, ?it/s]\u001b[A\n",
      "Epoch 14:  33%|███▎      | 1/3 [00:00<00:01,  1.13it/s]\u001b[A\n",
      "Epoch 14:  33%|███▎      | 1/3 [00:00<00:01,  1.13it/s, loss=-1.24146, drawdown=0.00048, sharpe=-1.24146]\u001b[A\n",
      "Epoch 14:  67%|██████▋   | 2/3 [00:01<00:00,  1.07it/s, loss=-1.24146, drawdown=0.00048, sharpe=-1.24146]\u001b[A\n",
      "Epoch 14:  67%|██████▋   | 2/3 [00:01<00:00,  1.07it/s, loss=-1.16047, drawdown=0.00053, sharpe=-1.16047]\u001b[A\n",
      "Epoch 14: 100%|██████████| 3/3 [00:02<00:00,  1.10it/s, loss=-1.16047, drawdown=0.00053, sharpe=-1.16047]\u001b[A\n",
      "Epoch 14: 100%|██████████| 3/3 [00:02<00:00,  1.10it/s, loss=-1.15037, drawdown=0.00054, sharpe=-1.15037]\u001b[A\n",
      "Epoch 14: 100%|██████████| 3/3 [00:03<00:00,  1.10it/s, loss=-1.15037, drawdown=0.00054, sharpe=-1.15037, val_drawdown=0.00066, val_loss=-0.97821, val_sharpe=-0.97821]\u001b[A\n",
      "Epoch 14: 100%|██████████| 3/3 [00:03<00:00,  1.11s/it, loss=-1.15037, drawdown=0.00054, sharpe=-1.15037, val_drawdown=0.00066, val_loss=-0.97821, val_sharpe=-0.97821]\u001b[A\n",
      "\n",
      "Epoch 15:   0%|          | 0/3 [00:00<?, ?it/s]\u001b[A\n",
      "Epoch 15:  33%|███▎      | 1/3 [00:01<00:02,  1.11s/it]\u001b[A\n",
      "Epoch 15:  33%|███▎      | 1/3 [00:01<00:02,  1.11s/it, loss=-1.04098, drawdown=0.00057, sharpe=-1.04098]\u001b[A\n",
      "Epoch 15:  67%|██████▋   | 2/3 [00:02<00:01,  1.15s/it, loss=-1.04098, drawdown=0.00057, sharpe=-1.04098]\u001b[A\n",
      "Epoch 15:  67%|██████▋   | 2/3 [00:02<00:01,  1.15s/it, loss=-1.00120, drawdown=0.00061, sharpe=-1.00120]\u001b[A\n",
      "Epoch 15: 100%|██████████| 3/3 [00:03<00:00,  1.09s/it, loss=-1.00120, drawdown=0.00061, sharpe=-1.00120]\u001b[A\n",
      "Epoch 15: 100%|██████████| 3/3 [00:03<00:00,  1.09s/it, loss=-1.19177, drawdown=0.00050, sharpe=-1.19177]\u001b[A\n",
      "Epoch 15: 100%|██████████| 3/3 [00:03<00:00,  1.09s/it, loss=-1.19177, drawdown=0.00050, sharpe=-1.19177, val_drawdown=0.00063, val_loss=-0.98597, val_sharpe=-0.98597]\u001b[A\n",
      "Epoch 15: 100%|██████████| 3/3 [00:03<00:00,  1.30s/it, loss=-1.19177, drawdown=0.00050, sharpe=-1.19177, val_drawdown=0.00063, val_loss=-0.98597, val_sharpe=-0.98597]\u001b[A\n",
      "\n",
      "Epoch 16:   0%|          | 0/3 [00:00<?, ?it/s]\u001b[A\n",
      "Epoch 16:  33%|███▎      | 1/3 [00:00<00:01,  1.07it/s]\u001b[A\n",
      "Epoch 16:  33%|███▎      | 1/3 [00:00<00:01,  1.07it/s, loss=-1.06484, drawdown=0.00053, sharpe=-1.06484]\u001b[A\n",
      "Epoch 16:  67%|██████▋   | 2/3 [00:02<00:01,  1.01s/it, loss=-1.06484, drawdown=0.00053, sharpe=-1.06484]\u001b[A\n",
      "Epoch 16:  67%|██████▋   | 2/3 [00:02<00:01,  1.01s/it, loss=-1.03207, drawdown=0.00056, sharpe=-1.03207]\u001b[A\n",
      "Epoch 16: 100%|██████████| 3/3 [00:02<00:00,  1.10it/s, loss=-1.03207, drawdown=0.00056, sharpe=-1.03207]\u001b[A\n"
     ]
    },
    {
     "name": "stderr",
     "output_type": "stream",
     "text": [
      "Epoch 16: 100%|██████████| 3/3 [00:02<00:00,  1.10it/s, loss=-1.19909, drawdown=0.00051, sharpe=-1.19909]\u001b[A\n",
      "Epoch 16: 100%|██████████| 3/3 [00:03<00:00,  1.10it/s, loss=-1.19909, drawdown=0.00051, sharpe=-1.19909, val_drawdown=0.00066, val_loss=-0.98704, val_sharpe=-0.98704]\u001b[A\n",
      "Epoch 16: 100%|██████████| 3/3 [00:03<00:00,  1.10s/it, loss=-1.19909, drawdown=0.00051, sharpe=-1.19909, val_drawdown=0.00066, val_loss=-0.98704, val_sharpe=-0.98704]\u001b[A\n",
      "\n",
      "Epoch 17:   0%|          | 0/3 [00:00<?, ?it/s]\u001b[A\n",
      "Epoch 17:  33%|███▎      | 1/3 [00:00<00:01,  1.11it/s]\u001b[A\n",
      "Epoch 17:  33%|███▎      | 1/3 [00:00<00:01,  1.11it/s, loss=-1.09487, drawdown=0.00052, sharpe=-1.09487]\u001b[A\n",
      "Epoch 17:  67%|██████▋   | 2/3 [00:01<00:00,  1.14it/s, loss=-1.09487, drawdown=0.00052, sharpe=-1.09487]\u001b[A\n",
      "Epoch 17:  67%|██████▋   | 2/3 [00:01<00:00,  1.14it/s, loss=-1.10147, drawdown=0.00056, sharpe=-1.10147]\u001b[A\n",
      "Epoch 17: 100%|██████████| 3/3 [00:02<00:00,  1.23it/s, loss=-1.10147, drawdown=0.00056, sharpe=-1.10147]\u001b[A\n",
      "Epoch 17: 100%|██████████| 3/3 [00:02<00:00,  1.23it/s, loss=-1.18657, drawdown=0.00055, sharpe=-1.18657]\u001b[A\n",
      "Epoch 17: 100%|██████████| 3/3 [00:03<00:00,  1.23it/s, loss=-1.18657, drawdown=0.00055, sharpe=-1.18657, val_drawdown=0.00068, val_loss=-0.98916, val_sharpe=-0.98916]\u001b[A\n",
      "Epoch 17: 100%|██████████| 3/3 [00:03<00:00,  1.05s/it, loss=-1.18657, drawdown=0.00055, sharpe=-1.18657, val_drawdown=0.00068, val_loss=-0.98916, val_sharpe=-0.98916]\u001b[A\n",
      "\n",
      "Epoch 18:   0%|          | 0/3 [00:00<?, ?it/s]\u001b[A\n",
      "Epoch 18:  33%|███▎      | 1/3 [00:01<00:02,  1.19s/it]\u001b[A\n",
      "Epoch 18:  33%|███▎      | 1/3 [00:01<00:02,  1.19s/it, loss=-0.99314, drawdown=0.00065, sharpe=-0.99314]\u001b[A\n",
      "Epoch 18:  67%|██████▋   | 2/3 [00:02<00:01,  1.22s/it, loss=-0.99314, drawdown=0.00065, sharpe=-0.99314]\u001b[A\n",
      "Epoch 18:  67%|██████▋   | 2/3 [00:02<00:01,  1.22s/it, loss=-1.12044, drawdown=0.00058, sharpe=-1.12044]\u001b[A\n",
      "Epoch 18: 100%|██████████| 3/3 [00:03<00:00,  1.09s/it, loss=-1.12044, drawdown=0.00058, sharpe=-1.12044]\u001b[A\n",
      "Epoch 18: 100%|██████████| 3/3 [00:03<00:00,  1.09s/it, loss=-1.18687, drawdown=0.00058, sharpe=-1.18687]\u001b[A\n",
      "Epoch 18: 100%|██████████| 3/3 [00:03<00:00,  1.09s/it, loss=-1.18687, drawdown=0.00058, sharpe=-1.18687, val_drawdown=0.00070, val_loss=-0.98949, val_sharpe=-0.98949]\u001b[A\n",
      "Epoch 18: 100%|██████████| 3/3 [00:03<00:00,  1.31s/it, loss=-1.18687, drawdown=0.00058, sharpe=-1.18687, val_drawdown=0.00070, val_loss=-0.98949, val_sharpe=-0.98949]\u001b[A\n",
      "\n",
      "Epoch 19:   0%|          | 0/3 [00:00<?, ?it/s]\u001b[A\n",
      "Epoch 19:  33%|███▎      | 1/3 [00:01<00:02,  1.05s/it]\u001b[A\n",
      "Epoch 19:  33%|███▎      | 1/3 [00:01<00:02,  1.05s/it, loss=-1.39767, drawdown=0.00051, sharpe=-1.39767]\u001b[A\n",
      "Epoch 19:  67%|██████▋   | 2/3 [00:01<00:00,  1.05it/s, loss=-1.39767, drawdown=0.00051, sharpe=-1.39767]\u001b[A\n",
      "Epoch 19:  67%|██████▋   | 2/3 [00:01<00:00,  1.05it/s, loss=-1.26477, drawdown=0.00055, sharpe=-1.26477]\u001b[A\n",
      "Epoch 19: 100%|██████████| 3/3 [00:02<00:00,  1.09it/s, loss=-1.26477, drawdown=0.00055, sharpe=-1.26477]\u001b[A\n",
      "Epoch 19: 100%|██████████| 3/3 [00:02<00:00,  1.09it/s, loss=-1.15740, drawdown=0.00061, sharpe=-1.15740]\u001b[A\n",
      "Epoch 19: 100%|██████████| 3/3 [00:03<00:00,  1.09it/s, loss=-1.15740, drawdown=0.00061, sharpe=-1.15740, val_drawdown=0.00071, val_loss=-0.98873, val_sharpe=-0.98873]\u001b[A\n",
      "Epoch 19: 100%|██████████| 3/3 [00:03<00:00,  1.13s/it, loss=-1.15740, drawdown=0.00061, sharpe=-1.15740, val_drawdown=0.00071, val_loss=-0.98873, val_sharpe=-0.98873]\u001b[A\n",
      "\n",
      "Epoch 20:   0%|          | 0/3 [00:00<?, ?it/s]\u001b[A\n",
      "Epoch 20:  33%|███▎      | 1/3 [00:01<00:02,  1.01s/it]\u001b[A\n",
      "Epoch 20:  33%|███▎      | 1/3 [00:01<00:02,  1.01s/it, loss=-1.34713, drawdown=0.00052, sharpe=-1.34713]\u001b[A\n",
      "Epoch 20:  67%|██████▋   | 2/3 [00:01<00:00,  1.04it/s, loss=-1.34713, drawdown=0.00052, sharpe=-1.34713]\u001b[A\n",
      "Epoch 20:  67%|██████▋   | 2/3 [00:01<00:00,  1.04it/s, loss=-1.22631, drawdown=0.00058, sharpe=-1.22631]\u001b[A\n",
      "Epoch 20: 100%|██████████| 3/3 [00:02<00:00,  1.24it/s, loss=-1.22631, drawdown=0.00058, sharpe=-1.22631]\u001b[A\n",
      "Epoch 20: 100%|██████████| 3/3 [00:02<00:00,  1.24it/s, loss=-1.17260, drawdown=0.00061, sharpe=-1.17260]\u001b[A\n",
      "Epoch 20: 100%|██████████| 3/3 [00:02<00:00,  1.24it/s, loss=-1.17260, drawdown=0.00061, sharpe=-1.17260, val_drawdown=0.00070, val_loss=-0.99393, val_sharpe=-0.99393]\u001b[A\n",
      "Epoch 20: 100%|██████████| 3/3 [00:02<00:00,  1.00it/s, loss=-1.17260, drawdown=0.00061, sharpe=-1.17260, val_drawdown=0.00070, val_loss=-0.99393, val_sharpe=-0.99393]\u001b[A\n",
      "\n",
      "Epoch 21:   0%|          | 0/3 [00:00<?, ?it/s]\u001b[A\n",
      "Epoch 21:  33%|███▎      | 1/3 [00:01<00:02,  1.05s/it]\u001b[A\n",
      "Epoch 21:  33%|███▎      | 1/3 [00:01<00:02,  1.05s/it, loss=-1.31728, drawdown=0.00045, sharpe=-1.31728]\u001b[A\n",
      "Epoch 21:  67%|██████▋   | 2/3 [00:02<00:01,  1.05s/it, loss=-1.31728, drawdown=0.00045, sharpe=-1.31728]\u001b[A\n",
      "Epoch 21:  67%|██████▋   | 2/3 [00:02<00:01,  1.05s/it, loss=-1.12285, drawdown=0.00061, sharpe=-1.12285]\u001b[A\n",
      "Epoch 21: 100%|██████████| 3/3 [00:02<00:00,  1.10it/s, loss=-1.12285, drawdown=0.00061, sharpe=-1.12285]\u001b[A\n",
      "Epoch 21: 100%|██████████| 3/3 [00:02<00:00,  1.10it/s, loss=-1.20102, drawdown=0.00058, sharpe=-1.20102]\u001b[A\n",
      "Epoch 21: 100%|██████████| 3/3 [00:03<00:00,  1.10it/s, loss=-1.20102, drawdown=0.00058, sharpe=-1.20102, val_drawdown=0.00068, val_loss=-0.99801, val_sharpe=-0.99801]\u001b[A\n",
      "Epoch 21: 100%|██████████| 3/3 [00:03<00:00,  1.14s/it, loss=-1.20102, drawdown=0.00058, sharpe=-1.20102, val_drawdown=0.00068, val_loss=-0.99801, val_sharpe=-0.99801]\u001b[A\n",
      "\n",
      "Epoch 22:   0%|          | 0/3 [00:00<?, ?it/s]\u001b[A\n",
      "Epoch 22:  33%|███▎      | 1/3 [00:00<00:01,  1.03it/s]\u001b[A\n",
      "Epoch 22:  33%|███▎      | 1/3 [00:00<00:01,  1.03it/s, loss=-1.08057, drawdown=0.00060, sharpe=-1.08057]\u001b[A\n",
      "Epoch 22:  67%|██████▋   | 2/3 [00:02<00:01,  1.02s/it, loss=-1.08057, drawdown=0.00060, sharpe=-1.08057]\u001b[A\n",
      "Epoch 22:  67%|██████▋   | 2/3 [00:02<00:01,  1.02s/it, loss=-1.17691, drawdown=0.00056, sharpe=-1.17691]\u001b[A\n",
      "Epoch 22: 100%|██████████| 3/3 [00:02<00:00,  1.15it/s, loss=-1.17691, drawdown=0.00056, sharpe=-1.17691]\u001b[A\n",
      "Epoch 22: 100%|██████████| 3/3 [00:02<00:00,  1.15it/s, loss=-1.19381, drawdown=0.00057, sharpe=-1.19381]\u001b[A\n",
      "Epoch 22: 100%|██████████| 3/3 [00:03<00:00,  1.15it/s, loss=-1.19381, drawdown=0.00057, sharpe=-1.19381, val_drawdown=0.00068, val_loss=-0.99760, val_sharpe=-0.99760]\u001b[A\n",
      "Epoch 22: 100%|██████████| 3/3 [00:03<00:00,  1.07s/it, loss=-1.19381, drawdown=0.00057, sharpe=-1.19381, val_drawdown=0.00068, val_loss=-0.99760, val_sharpe=-0.99760]\u001b[A\n",
      "\n",
      "Epoch 23:   0%|          | 0/3 [00:00<?, ?it/s]\u001b[A\n",
      "Epoch 23:  33%|███▎      | 1/3 [00:01<00:02,  1.15s/it]\u001b[A\n",
      "Epoch 23:  33%|███▎      | 1/3 [00:01<00:02,  1.15s/it, loss=-1.10205, drawdown=0.00062, sharpe=-1.10205]\u001b[A\n",
      "Epoch 23:  67%|██████▋   | 2/3 [00:02<00:01,  1.11s/it, loss=-1.10205, drawdown=0.00062, sharpe=-1.10205]\u001b[A\n",
      "Epoch 23:  67%|██████▋   | 2/3 [00:02<00:01,  1.11s/it, loss=-1.18772, drawdown=0.00059, sharpe=-1.18772]\u001b[A\n",
      "Epoch 23: 100%|██████████| 3/3 [00:03<00:00,  1.01it/s, loss=-1.18772, drawdown=0.00059, sharpe=-1.18772]\u001b[A\n",
      "Epoch 23: 100%|██████████| 3/3 [00:03<00:00,  1.01it/s, loss=-1.19557, drawdown=0.00056, sharpe=-1.19557]\u001b[A\n",
      "Epoch 23: 100%|██████████| 3/3 [00:03<00:00,  1.01it/s, loss=-1.19557, drawdown=0.00056, sharpe=-1.19557, val_drawdown=0.00067, val_loss=-1.00106, val_sharpe=-1.00106]\u001b[A\n",
      "Epoch 23: 100%|██████████| 3/3 [00:03<00:00,  1.22s/it, loss=-1.19557, drawdown=0.00056, sharpe=-1.19557, val_drawdown=0.00067, val_loss=-1.00106, val_sharpe=-1.00106]\u001b[A\n",
      "\n",
      "Epoch 24:   0%|          | 0/3 [00:00<?, ?it/s]\u001b[A\n",
      "Epoch 24:  33%|███▎      | 1/3 [00:01<00:01,  1.00it/s]\u001b[A\n",
      "Epoch 24:  33%|███▎      | 1/3 [00:01<00:01,  1.00it/s, loss=-0.99693, drawdown=0.00066, sharpe=-0.99693]\u001b[A\n",
      "Epoch 24:  67%|██████▋   | 2/3 [00:02<00:01,  1.07s/it, loss=-0.99693, drawdown=0.00066, sharpe=-0.99693]\u001b[A\n",
      "Epoch 24:  67%|██████▋   | 2/3 [00:02<00:01,  1.07s/it, loss=-1.30806, drawdown=0.00051, sharpe=-1.30806]\u001b[A\n",
      "Epoch 24: 100%|██████████| 3/3 [00:02<00:00,  1.18it/s, loss=-1.30806, drawdown=0.00051, sharpe=-1.30806]\u001b[A\n",
      "Epoch 24: 100%|██████████| 3/3 [00:02<00:00,  1.18it/s, loss=-1.17179, drawdown=0.00057, sharpe=-1.17179]\u001b[A\n"
     ]
    },
    {
     "name": "stderr",
     "output_type": "stream",
     "text": [
      "Epoch 24: 100%|██████████| 3/3 [00:03<00:00,  1.18it/s, loss=-1.17179, drawdown=0.00057, sharpe=-1.17179, val_drawdown=0.00067, val_loss=-1.00317, val_sharpe=-1.00317]\u001b[A\n",
      "Epoch 24: 100%|██████████| 3/3 [00:03<00:00,  1.09s/it, loss=-1.17179, drawdown=0.00057, sharpe=-1.17179, val_drawdown=0.00067, val_loss=-1.00317, val_sharpe=-1.00317]\u001b[A\n",
      "\n",
      "Epoch 25:   0%|          | 0/3 [00:00<?, ?it/s]\u001b[A\n",
      "Epoch 25:  33%|███▎      | 1/3 [00:01<00:02,  1.12s/it]\u001b[A\n",
      "Epoch 25:  33%|███▎      | 1/3 [00:01<00:02,  1.12s/it, loss=-1.27975, drawdown=0.00060, sharpe=-1.27975]\u001b[A\n",
      "Epoch 25:  67%|██████▋   | 2/3 [00:02<00:01,  1.01s/it, loss=-1.27975, drawdown=0.00060, sharpe=-1.27975]\u001b[A\n",
      "Epoch 25:  67%|██████▋   | 2/3 [00:02<00:01,  1.01s/it, loss=-1.22367, drawdown=0.00059, sharpe=-1.22367]\u001b[A\n",
      "Epoch 25: 100%|██████████| 3/3 [00:02<00:00,  1.11it/s, loss=-1.22367, drawdown=0.00059, sharpe=-1.22367]\u001b[A\n",
      "Epoch 25: 100%|██████████| 3/3 [00:02<00:00,  1.11it/s, loss=-1.19420, drawdown=0.00056, sharpe=-1.19420]\u001b[A\n",
      "Epoch 25: 100%|██████████| 3/3 [00:03<00:00,  1.11it/s, loss=-1.19420, drawdown=0.00056, sharpe=-1.19420, val_drawdown=0.00068, val_loss=-1.00364, val_sharpe=-1.00364]\u001b[A\n",
      "Epoch 25: 100%|██████████| 3/3 [00:03<00:00,  1.11s/it, loss=-1.19420, drawdown=0.00056, sharpe=-1.19420, val_drawdown=0.00068, val_loss=-1.00364, val_sharpe=-1.00364]\u001b[A\n",
      "\n",
      "Epoch 26:   0%|          | 0/3 [00:00<?, ?it/s]\u001b[A\n",
      "Epoch 26:  33%|███▎      | 1/3 [00:00<00:01,  1.03it/s]\u001b[A\n",
      "Epoch 26:  33%|███▎      | 1/3 [00:00<00:01,  1.03it/s, loss=-1.11947, drawdown=0.00061, sharpe=-1.11947]\u001b[A\n",
      "Epoch 26:  67%|██████▋   | 2/3 [00:01<00:00,  1.08it/s, loss=-1.11947, drawdown=0.00061, sharpe=-1.11947]\u001b[A\n",
      "Epoch 26:  67%|██████▋   | 2/3 [00:01<00:00,  1.08it/s, loss=-1.25559, drawdown=0.00053, sharpe=-1.25559]\u001b[A\n",
      "Epoch 26: 100%|██████████| 3/3 [00:02<00:00,  1.12it/s, loss=-1.25559, drawdown=0.00053, sharpe=-1.25559]\u001b[A\n",
      "Epoch 26: 100%|██████████| 3/3 [00:02<00:00,  1.12it/s, loss=-1.19022, drawdown=0.00058, sharpe=-1.19022]\u001b[A\n",
      "Epoch 26: 100%|██████████| 3/3 [00:03<00:00,  1.12it/s, loss=-1.19022, drawdown=0.00058, sharpe=-1.19022, val_drawdown=0.00068, val_loss=-1.00631, val_sharpe=-1.00631]\u001b[A\n",
      "Epoch 26: 100%|██████████| 3/3 [00:03<00:00,  1.13s/it, loss=-1.19022, drawdown=0.00058, sharpe=-1.19022, val_drawdown=0.00068, val_loss=-1.00631, val_sharpe=-1.00631]\u001b[A\n",
      "\n",
      "Epoch 27:   0%|          | 0/3 [00:00<?, ?it/s]\u001b[A\n",
      "Epoch 27:  33%|███▎      | 1/3 [00:01<00:02,  1.13s/it]\u001b[A\n",
      "Epoch 27:  33%|███▎      | 1/3 [00:01<00:02,  1.13s/it, loss=-1.01119, drawdown=0.00069, sharpe=-1.01119]\u001b[A\n",
      "Epoch 27:  67%|██████▋   | 2/3 [00:02<00:01,  1.12s/it, loss=-1.01119, drawdown=0.00069, sharpe=-1.01119]\u001b[A\n",
      "Epoch 27:  67%|██████▋   | 2/3 [00:02<00:01,  1.12s/it, loss=-1.28651, drawdown=0.00054, sharpe=-1.28651]\u001b[A\n",
      "Epoch 27: 100%|██████████| 3/3 [00:03<00:00,  1.04s/it, loss=-1.28651, drawdown=0.00054, sharpe=-1.28651]\u001b[A\n",
      "Epoch 27: 100%|██████████| 3/3 [00:03<00:00,  1.04s/it, loss=-1.18524, drawdown=0.00059, sharpe=-1.18524]\u001b[A\n",
      "Epoch 27: 100%|██████████| 3/3 [00:03<00:00,  1.04s/it, loss=-1.18524, drawdown=0.00059, sharpe=-1.18524, val_drawdown=0.00068, val_loss=-1.00882, val_sharpe=-1.00882]\u001b[A\n",
      "Epoch 27: 100%|██████████| 3/3 [00:03<00:00,  1.23s/it, loss=-1.18524, drawdown=0.00059, sharpe=-1.18524, val_drawdown=0.00068, val_loss=-1.00882, val_sharpe=-1.00882]\u001b[A\n",
      "\n",
      "Epoch 28:   0%|          | 0/3 [00:00<?, ?it/s]\u001b[A\n",
      "Epoch 28:  33%|███▎      | 1/3 [00:01<00:02,  1.12s/it]\u001b[A\n",
      "Epoch 28:  33%|███▎      | 1/3 [00:01<00:02,  1.12s/it, loss=-1.39611, drawdown=0.00043, sharpe=-1.39611]\u001b[A\n",
      "Epoch 28:  67%|██████▋   | 2/3 [00:02<00:01,  1.06s/it, loss=-1.39611, drawdown=0.00043, sharpe=-1.39611]\u001b[A\n",
      "Epoch 28:  67%|██████▋   | 2/3 [00:02<00:01,  1.06s/it, loss=-1.25657, drawdown=0.00054, sharpe=-1.25657]\u001b[A\n",
      "Epoch 28: 100%|██████████| 3/3 [00:02<00:00,  1.09it/s, loss=-1.25657, drawdown=0.00054, sharpe=-1.25657]\u001b[A\n",
      "Epoch 28: 100%|██████████| 3/3 [00:02<00:00,  1.09it/s, loss=-1.19715, drawdown=0.00060, sharpe=-1.19715]\u001b[A\n",
      "Epoch 28: 100%|██████████| 3/3 [00:03<00:00,  1.09it/s, loss=-1.19715, drawdown=0.00060, sharpe=-1.19715, val_drawdown=0.00069, val_loss=-1.01074, val_sharpe=-1.01074]\u001b[A\n",
      "Epoch 28: 100%|██████████| 3/3 [00:03<00:00,  1.17s/it, loss=-1.19715, drawdown=0.00060, sharpe=-1.19715, val_drawdown=0.00069, val_loss=-1.01074, val_sharpe=-1.01074]\u001b[A\n",
      "\n",
      "Epoch 29:   0%|          | 0/3 [00:00<?, ?it/s]\u001b[A\n",
      "Epoch 29:  33%|███▎      | 1/3 [00:01<00:02,  1.27s/it]\u001b[A\n",
      "Epoch 29:  33%|███▎      | 1/3 [00:01<00:02,  1.27s/it, loss=-1.40287, drawdown=0.00054, sharpe=-1.40287]\u001b[A\n",
      "Epoch 29:  67%|██████▋   | 2/3 [00:02<00:01,  1.18s/it, loss=-1.40287, drawdown=0.00054, sharpe=-1.40287]\u001b[A\n",
      "Epoch 29:  67%|██████▋   | 2/3 [00:02<00:01,  1.18s/it, loss=-1.24690, drawdown=0.00057, sharpe=-1.24690]\u001b[A\n",
      "Epoch 29: 100%|██████████| 3/3 [00:03<00:00,  1.00s/it, loss=-1.24690, drawdown=0.00057, sharpe=-1.24690]\u001b[A\n",
      "Epoch 29: 100%|██████████| 3/3 [00:03<00:00,  1.00s/it, loss=-1.20380, drawdown=0.00060, sharpe=-1.20380]\u001b[A\n",
      "Epoch 29: 100%|██████████| 3/3 [00:03<00:00,  1.00s/it, loss=-1.20380, drawdown=0.00060, sharpe=-1.20380, val_drawdown=0.00069, val_loss=-1.00884, val_sharpe=-1.00884]\u001b[A\n",
      "Epoch 29: 100%|██████████| 3/3 [00:03<00:00,  1.25s/it, loss=-1.20380, drawdown=0.00060, sharpe=-1.20380, val_drawdown=0.00069, val_loss=-1.00884, val_sharpe=-1.00884]\u001b[A\n",
      "\n",
      "Epoch 30:   0%|          | 0/3 [00:00<?, ?it/s]\u001b[A\n",
      "Epoch 30:  33%|███▎      | 1/3 [00:01<00:02,  1.05s/it]\u001b[A\n",
      "Epoch 30:  33%|███▎      | 1/3 [00:01<00:02,  1.05s/it, loss=-1.31687, drawdown=0.00057, sharpe=-1.31687]\u001b[A\n",
      "Epoch 30:  67%|██████▋   | 2/3 [00:02<00:00,  1.01it/s, loss=-1.31687, drawdown=0.00057, sharpe=-1.31687]\u001b[A\n",
      "Epoch 30:  67%|██████▋   | 2/3 [00:02<00:00,  1.01it/s, loss=-1.19116, drawdown=0.00062, sharpe=-1.19116]\u001b[A\n",
      "Epoch 30: 100%|██████████| 3/3 [00:02<00:00,  1.04it/s, loss=-1.19116, drawdown=0.00062, sharpe=-1.19116]\u001b[A\n",
      "Epoch 30: 100%|██████████| 3/3 [00:02<00:00,  1.04it/s, loss=-1.21941, drawdown=0.00060, sharpe=-1.21941]\u001b[A\n",
      "Epoch 30: 100%|██████████| 3/3 [00:03<00:00,  1.04it/s, loss=-1.21941, drawdown=0.00060, sharpe=-1.21941, val_drawdown=0.00070, val_loss=-1.00999, val_sharpe=-1.00999]\u001b[A\n",
      "Epoch 30: 100%|██████████| 3/3 [00:03<00:00,  1.20s/it, loss=-1.21941, drawdown=0.00060, sharpe=-1.21941, val_drawdown=0.00070, val_loss=-1.00999, val_sharpe=-1.00999]\u001b[A\n",
      "\n",
      "Epoch 31:   0%|          | 0/3 [00:00<?, ?it/s]\u001b[A\n",
      "Epoch 31:  33%|███▎      | 1/3 [00:00<00:01,  1.16it/s]\u001b[A\n",
      "Epoch 31:  33%|███▎      | 1/3 [00:00<00:01,  1.16it/s, loss=-1.05237, drawdown=0.00070, sharpe=-1.05237]\u001b[A\n",
      "Epoch 31:  67%|██████▋   | 2/3 [00:01<00:00,  1.01it/s, loss=-1.05237, drawdown=0.00070, sharpe=-1.05237]\u001b[A\n",
      "Epoch 31:  67%|██████▋   | 2/3 [00:01<00:00,  1.01it/s, loss=-1.22474, drawdown=0.00056, sharpe=-1.22474]\u001b[A\n",
      "Epoch 31: 100%|██████████| 3/3 [00:02<00:00,  1.10it/s, loss=-1.22474, drawdown=0.00056, sharpe=-1.22474]\u001b[A\n",
      "Epoch 31: 100%|██████████| 3/3 [00:02<00:00,  1.10it/s, loss=-1.21558, drawdown=0.00061, sharpe=-1.21558]\u001b[A\n",
      "Epoch 31: 100%|██████████| 3/3 [00:03<00:00,  1.10it/s, loss=-1.21558, drawdown=0.00061, sharpe=-1.21558, val_drawdown=0.00070, val_loss=-1.00971, val_sharpe=-1.00971]\u001b[A\n",
      "Epoch 31: 100%|██████████| 3/3 [00:03<00:00,  1.09s/it, loss=-1.21558, drawdown=0.00061, sharpe=-1.21558, val_drawdown=0.00070, val_loss=-1.00971, val_sharpe=-1.00971]\u001b[A\n"
     ]
    },
    {
     "name": "stdout",
     "output_type": "stream",
     "text": [
      "Training interrupted\n",
      "Training stopped early because there was no improvement in val_loss for 3 epochs\n"
     ]
    }
   ],
   "source": [
    "history = run.launch(n_epochs=150)"
   ]
  },
  {
   "cell_type": "code",
   "execution_count": 24,
   "id": "bright-dinner",
   "metadata": {},
   "outputs": [],
   "source": [
    "w_pred = run.models[\"main\"].to(\"cpu\")(torch.ones(1, n_channels, lookback, n_assets).cpu()).cpu().detach().numpy().squeeze()"
   ]
  },
  {
   "cell_type": "code",
   "execution_count": 25,
   "id": "unlikely-microphone",
   "metadata": {},
   "outputs": [],
   "source": [
    "def save_network(experiment_name, run, direc=\"models_2403\"):\n",
    "    os.makedirs(direc, exist_ok=True)\n",
    "    network = run.models[\"main\"]\n",
    "    torch.save(network.state_dict(), f\"{direc}/{experiment_name}.pt\")"
   ]
  },
  {
   "cell_type": "code",
   "execution_count": 26,
   "id": "crucial-respondent",
   "metadata": {},
   "outputs": [],
   "source": [
    "#save_network(\"mejor_modelo_2903_sharpe_838\", run, direc=\"models_2903\")"
   ]
  },
  {
   "cell_type": "code",
   "execution_count": 27,
   "id": "supposed-lender",
   "metadata": {},
   "outputs": [
    {
     "data": {
      "text/plain": [
       "array([ 5.2405827e-12,  9.6017867e-03,  4.8034541e-12,  4.6504688e-12,\n",
       "       -1.3635857e-12, -7.6696895e-12, -1.6863720e-12,  8.7186797e-03,\n",
       "        2.5628596e-12,  6.3605119e-12,  2.2893580e-02, -1.0016541e-12,\n",
       "       -1.3035621e-12,  8.5644247e-13, -1.5659863e-12, -2.3865100e-12,\n",
       "        7.7200405e-02,  5.1247027e-02,  3.9329212e-02, -2.4057171e-12,\n",
       "        4.6919982e-13, -1.0947570e-12, -4.7403240e-12,  9.3772537e-13,\n",
       "       -1.4555120e-12,  1.1043851e-12, -2.3711590e-12,  3.1727277e-02,\n",
       "        3.0249739e-02,  3.1934358e-02,  2.1053090e-12,  8.9612128e-03,\n",
       "        4.7505125e-02,  2.5842829e-02,  1.7581703e-02, -1.4261097e-11,\n",
       "        1.7299064e-12, -4.2742079e-13, -2.4209846e-12,  1.5571607e-12,\n",
       "        1.1687405e-02,  3.2551929e-02,  1.8870531e-02,  1.0446851e-12,\n",
       "        4.4903900e-03, -1.1559237e-12,  6.6026273e-12,  2.1247587e-12,\n",
       "        3.3076510e-02, -1.1307538e-12,  3.1681770e-13,  1.2979887e-12,\n",
       "        3.4239169e-02,  7.7168709e-03,  2.6082539e-12, -1.0102484e-12,\n",
       "        3.4808680e-02,  2.4699124e-02,  4.9291246e-13,  1.1279439e-01,\n",
       "       -5.1234283e-13,  8.3629638e-03, -3.8644374e-14, -1.2150520e-12,\n",
       "       -1.5072198e-12,  2.6730768e-02,  1.0596519e-12,  4.0439670e-13,\n",
       "        6.0445376e-02, -1.5301824e-12,  6.5779225e-03,  5.1860946e-12,\n",
       "        2.5669755e-02, -9.7095529e-14,  4.9948639e-12,  4.1449214e-12,\n",
       "        4.5913659e-12,  2.1588276e-12,  8.1544228e-13,  7.1689497e-13,\n",
       "        3.7251742e-12,  2.5392093e-02,  5.3995306e-13, -8.6662378e-13,\n",
       "        3.5116612e-13, -1.3912093e-12, -8.3121532e-14,  7.8250160e-03,\n",
       "        4.0752015e-12,  2.4093963e-02,  5.1302902e-02,  1.9186165e-02,\n",
       "        2.6685143e-02,  4.8674970e-12], dtype=float32)"
      ]
     },
     "execution_count": 27,
     "metadata": {},
     "output_type": "execute_result"
    }
   ],
   "source": [
    "w_pred"
   ]
  },
  {
   "cell_type": "code",
   "execution_count": null,
   "id": "authentic-bottom",
   "metadata": {},
   "outputs": [],
   "source": []
  },
  {
   "cell_type": "code",
   "execution_count": null,
   "id": "universal-information",
   "metadata": {},
   "outputs": [],
   "source": []
  },
  {
   "cell_type": "code",
   "execution_count": 28,
   "id": "assisted-bryan",
   "metadata": {},
   "outputs": [],
   "source": [
    "w_pred = general_weights_fixer(w_pred)"
   ]
  },
  {
   "cell_type": "code",
   "execution_count": 29,
   "id": "executed-robert",
   "metadata": {},
   "outputs": [],
   "source": [
    "#w_pred = w_pred / w_pred.sum()\n",
    "w_pred = w_pred / sum(w_pred)"
   ]
  },
  {
   "cell_type": "code",
   "execution_count": 30,
   "id": "dated-musician",
   "metadata": {},
   "outputs": [],
   "source": [
    "dict_weights = {asset:weight for asset,weight in zip(asset_names, w_pred)}"
   ]
  },
  {
   "cell_type": "code",
   "execution_count": 31,
   "id": "horizontal-finder",
   "metadata": {},
   "outputs": [],
   "source": [
    "submission = get_submission_markowitz(dict_weights, asset_names)"
   ]
  },
  {
   "cell_type": "code",
   "execution_count": 32,
   "id": "statutory-three",
   "metadata": {},
   "outputs": [],
   "source": [
    "try:\n",
    "    test_submission(submission)\n",
    "except:\n",
    "    submission = submission.div(submission.sum(axis=1), axis=0)\n",
    "    test_submission(submission)"
   ]
  },
  {
   "cell_type": "code",
   "execution_count": 33,
   "id": "intellectual-blank",
   "metadata": {},
   "outputs": [],
   "source": [
    "submission.to_csv(\"submission_3103_2.csv\", header=True, index=True)"
   ]
  },
  {
   "cell_type": "code",
   "execution_count": 34,
   "id": "valid-association",
   "metadata": {},
   "outputs": [],
   "source": [
    "a = pd.read_csv(\"submission_3103_2.csv\", parse_dates=True, index_col=\"eod_ts\")"
   ]
  },
  {
   "cell_type": "code",
   "execution_count": 35,
   "id": "sweet-lesbian",
   "metadata": {},
   "outputs": [
    {
     "ename": "AssertionError",
     "evalue": "",
     "output_type": "error",
     "traceback": [
      "\u001b[0;31m---------------------------------------------------------------------------\u001b[0m",
      "\u001b[0;31mAssertionError\u001b[0m                            Traceback (most recent call last)",
      "\u001b[0;32m<ipython-input-35-5c30befff147>\u001b[0m in \u001b[0;36m<module>\u001b[0;34m\u001b[0m\n\u001b[0;32m----> 1\u001b[0;31m \u001b[0mtest_submission\u001b[0m\u001b[0;34m(\u001b[0m\u001b[0ma\u001b[0m\u001b[0;34m)\u001b[0m\u001b[0;34m\u001b[0m\u001b[0;34m\u001b[0m\u001b[0m\n\u001b[0m",
      "\u001b[0;32m~/reto_series_temporales/submission_utils.py\u001b[0m in \u001b[0;36mtest_submission\u001b[0;34m(submission)\u001b[0m\n\u001b[1;32m     53\u001b[0m     \u001b[0;32mif\u001b[0m \u001b[0;34m\"eod_ts\"\u001b[0m \u001b[0;32min\u001b[0m \u001b[0msubmission\u001b[0m\u001b[0;34m.\u001b[0m\u001b[0mcolumns\u001b[0m\u001b[0;34m:\u001b[0m\u001b[0;34m\u001b[0m\u001b[0;34m\u001b[0m\u001b[0m\n\u001b[1;32m     54\u001b[0m         \u001b[0msubmission\u001b[0m\u001b[0;34m.\u001b[0m\u001b[0mset_index\u001b[0m\u001b[0;34m(\u001b[0m\u001b[0;34m\"eod_ts\"\u001b[0m\u001b[0;34m,\u001b[0m \u001b[0minplace\u001b[0m\u001b[0;34m=\u001b[0m\u001b[0;32mTrue\u001b[0m\u001b[0;34m)\u001b[0m\u001b[0;34m\u001b[0m\u001b[0;34m\u001b[0m\u001b[0m\n\u001b[0;32m---> 55\u001b[0;31m     \u001b[0;32massert\u001b[0m \u001b[0mall\u001b[0m\u001b[0;34m(\u001b[0m\u001b[0msubmission\u001b[0m\u001b[0;34m.\u001b[0m\u001b[0msum\u001b[0m\u001b[0;34m(\u001b[0m\u001b[0maxis\u001b[0m\u001b[0;34m=\u001b[0m\u001b[0;36m1\u001b[0m\u001b[0;34m)\u001b[0m \u001b[0;34m==\u001b[0m \u001b[0;36m1\u001b[0m\u001b[0;34m)\u001b[0m\u001b[0;34m\u001b[0m\u001b[0;34m\u001b[0m\u001b[0m\n\u001b[0m\u001b[1;32m     56\u001b[0m     \u001b[0;32massert\u001b[0m \u001b[0msum\u001b[0m\u001b[0;34m(\u001b[0m\u001b[0mn\u001b[0m \u001b[0;34m<\u001b[0m \u001b[0;36m0\u001b[0m \u001b[0;32mfor\u001b[0m \u001b[0mn\u001b[0m \u001b[0;32min\u001b[0m \u001b[0msubmission\u001b[0m\u001b[0;34m.\u001b[0m\u001b[0mvalues\u001b[0m\u001b[0;34m.\u001b[0m\u001b[0mflatten\u001b[0m\u001b[0;34m(\u001b[0m\u001b[0;34m)\u001b[0m\u001b[0;34m)\u001b[0m \u001b[0;34m==\u001b[0m \u001b[0;36m0\u001b[0m\u001b[0;34m\u001b[0m\u001b[0;34m\u001b[0m\u001b[0m\n\u001b[1;32m     57\u001b[0m \u001b[0;34m\u001b[0m\u001b[0m\n",
      "\u001b[0;31mAssertionError\u001b[0m: "
     ]
    }
   ],
   "source": [
    "test_submission(a)"
   ]
  },
  {
   "cell_type": "code",
   "execution_count": 86,
   "id": "convertible-airplane",
   "metadata": {},
   "outputs": [],
   "source": [
    "# network.load_state_dict(torch.load(\"models_2903/mejor_modelo_2903_sharpe_838.pt\"))"
   ]
  },
  {
   "cell_type": "code",
   "execution_count": 26,
   "id": "animal-motel",
   "metadata": {},
   "outputs": [],
   "source": [
    "wpreds = network.to(\"cpu\")(torch.ones(1, n_channels, lookback, n_assets).cpu()).cpu().detach().numpy().squeeze()"
   ]
  },
  {
   "cell_type": "code",
   "execution_count": 27,
   "id": "ecological-albuquerque",
   "metadata": {},
   "outputs": [
    {
     "data": {
      "text/plain": [
       "array([ 9.54911844e-12,  6.98230059e-12,  9.03741318e-12,  1.14767822e-02,\n",
       "        7.75437093e-12,  2.90566105e-02,  1.17503420e-11,  3.22579940e-12,\n",
       "        1.57612469e-03,  7.84333622e-12,  3.25509541e-12,  9.72465337e-12,\n",
       "        4.20402905e-12,  2.14313550e-12,  1.19706805e-12, -5.34497204e-14,\n",
       "        3.48056369e-02,  1.07512455e-02,  3.43189713e-12,  5.64581016e-03,\n",
       "        3.33843902e-02,  6.74350636e-12,  1.08687321e-11,  7.40081867e-12,\n",
       "        7.18111941e-12,  2.65190994e-12, -1.23679131e-11,  1.41167590e-12,\n",
       "        5.38148507e-02,  1.97852924e-02,  3.35596800e-02, -1.06110487e-12,\n",
       "        6.67711021e-03, -4.99301934e-13,  3.29034925e-02,  3.72512297e-13,\n",
       "        4.38245907e-02,  2.44144700e-12,  1.27545167e-02,  9.97321496e-12,\n",
       "        5.91967907e-03,  3.33493203e-03,  4.04355898e-02,  2.55736616e-02,\n",
       "        7.12052658e-02,  4.06121882e-03, -6.66877621e-12,  3.32778064e-03,\n",
       "        2.40949057e-02, -5.19079137e-12, -6.62514921e-12,  3.50483271e-12,\n",
       "        2.99187563e-03,  3.43423486e-02,  3.04226838e-02,  5.40889613e-03,\n",
       "       -2.19536130e-12,  7.70316347e-02,  1.07422215e-03,  1.26327090e-02,\n",
       "       -1.20100770e-11,  3.63738401e-12, -5.78816899e-12,  1.03519754e-11,\n",
       "        1.04711370e-11,  2.29874607e-02,  1.74489729e-02,  5.16975392e-03,\n",
       "        5.40775758e-12,  2.48886459e-02,  3.79068049e-04, -1.96467647e-12,\n",
       "        1.20657546e-11,  1.10852905e-02,  7.25937486e-02,  1.97621305e-02,\n",
       "        4.74193925e-03,  6.06581278e-12,  2.63434071e-02,  1.96270216e-02,\n",
       "        1.88144501e-02,  4.96385268e-13,  2.07881932e-03, -2.36348246e-12,\n",
       "       -6.26448025e-12,  4.78614891e-12,  5.22385025e-03,  2.07221219e-12,\n",
       "       -1.87917065e-12,  4.41270210e-02,  8.08323361e-03,  1.51322572e-04,\n",
       "       -5.22089186e-12,  1.02024293e-02,  1.44179035e-02,  2.88324594e-12],\n",
       "      dtype=float32)"
      ]
     },
     "execution_count": 27,
     "metadata": {},
     "output_type": "execute_result"
    }
   ],
   "source": [
    "wpreds"
   ]
  },
  {
   "cell_type": "code",
   "execution_count": 28,
   "id": "severe-arthur",
   "metadata": {},
   "outputs": [],
   "source": [
    "assets_0 = [asset for asset, weight in zip(asset_names, wpreds) if weight <= 0]"
   ]
  },
  {
   "cell_type": "code",
   "execution_count": 30,
   "id": "heavy-blackberry",
   "metadata": {},
   "outputs": [
    {
     "data": {
      "text/plain": [
       "15"
      ]
     },
     "execution_count": 30,
     "metadata": {},
     "output_type": "execute_result"
    }
   ],
   "source": [
    "len(assets_0)"
   ]
  },
  {
   "cell_type": "code",
   "execution_count": 31,
   "id": "deluxe-dominant",
   "metadata": {},
   "outputs": [
    {
     "data": {
      "text/plain": [
       "['EEY',\n",
       " 'GRU',\n",
       " 'IDT',\n",
       " 'JNE',\n",
       " 'NVL',\n",
       " 'NYP',\n",
       " 'OJG',\n",
       " 'PPT',\n",
       " 'RWJ',\n",
       " 'SEH',\n",
       " 'TKT',\n",
       " 'WFJ',\n",
       " 'WWT',\n",
       " 'YEC',\n",
       " 'ZTY']"
      ]
     },
     "execution_count": 31,
     "metadata": {},
     "output_type": "execute_result"
    }
   ],
   "source": [
    "assets_0"
   ]
  },
  {
   "cell_type": "code",
   "execution_count": null,
   "id": "sealed-inventory",
   "metadata": {},
   "outputs": [],
   "source": []
  }
 ],
 "metadata": {
  "kernelspec": {
   "display_name": "Python [conda env:series_temporales] *",
   "language": "python",
   "name": "conda-env-series_temporales-py"
  },
  "language_info": {
   "codemirror_mode": {
    "name": "ipython",
    "version": 3
   },
   "file_extension": ".py",
   "mimetype": "text/x-python",
   "name": "python",
   "nbconvert_exporter": "python",
   "pygments_lexer": "ipython3",
   "version": "3.7.9"
  }
 },
 "nbformat": 4,
 "nbformat_minor": 5
}
