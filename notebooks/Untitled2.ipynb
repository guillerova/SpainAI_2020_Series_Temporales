{
 "cells": [
  {
   "cell_type": "code",
   "execution_count": 1,
   "id": "colonial-redhead",
   "metadata": {},
   "outputs": [],
   "source": [
    "import pandas as pd\n",
    "import numpy as np"
   ]
  },
  {
   "cell_type": "code",
   "execution_count": 2,
   "id": "prescription-fortune",
   "metadata": {},
   "outputs": [],
   "source": [
    "from portfoliolab.clustering import NestedClusteredOptimisation\n",
    "from submission_utils import general_weights_fixer, get_submission_markowitz"
   ]
  },
  {
   "cell_type": "code",
   "execution_count": 3,
   "id": "nasty-kentucky",
   "metadata": {},
   "outputs": [],
   "source": [
    "#!pip install -U numpy\n",
    "#!pip install tqdm"
   ]
  },
  {
   "cell_type": "code",
   "execution_count": 4,
   "id": "postal-strip",
   "metadata": {},
   "outputs": [],
   "source": [
    "from data_utils import read_all_candles\n"
   ]
  },
  {
   "cell_type": "code",
   "execution_count": 5,
   "id": "talented-cowboy",
   "metadata": {},
   "outputs": [
    {
     "name": "stderr",
     "output_type": "stream",
     "text": [
      "100%|██████████| 96/96 [00:02<00:00, 39.06it/s]\n"
     ]
    }
   ],
   "source": [
    "candles = read_all_candles(\"trainTimeSeries/trainTimeSeries/TrainCandles\")"
   ]
  },
  {
   "cell_type": "code",
   "execution_count": 6,
   "id": "offensive-serum",
   "metadata": {},
   "outputs": [],
   "source": [
    "def compute_returns(v):\n",
    "    v[\"returns\"] = (v[\"close\"] - v[\"open\"])/v[\"open\"]\n",
    "    v.drop([col for col in v.columns if col != \"returns\"], axis=1, inplace=True)\n",
    "    return v"
   ]
  },
  {
   "cell_type": "code",
   "execution_count": 7,
   "id": "aerial-fusion",
   "metadata": {},
   "outputs": [],
   "source": [
    "candles = {k:compute_returns(v)[\"returns\"] for k,v in candles.items()} # compute_returns(v)"
   ]
  },
  {
   "cell_type": "code",
   "execution_count": 8,
   "id": "composed-employee",
   "metadata": {},
   "outputs": [],
   "source": [
    "def filter_candles(candles, remove):\n",
    "    return {k:v for k,v in candles.items() if k not in remove}"
   ]
  },
  {
   "cell_type": "code",
   "execution_count": 9,
   "id": "chinese-quantum",
   "metadata": {},
   "outputs": [],
   "source": [
    "def process_data(candles, remove=None):\n",
    "    if remove is not None:\n",
    "        candles = filter_candles(candles, remove)\n",
    "    df = pd.concat(candles.values(),keys= candles.keys(),axis=1)\n",
    "    df = df.resample(\"H\").aggregate(\"mean\")\n",
    "    return df"
   ]
  },
  {
   "cell_type": "code",
   "execution_count": 10,
   "id": "comparable-soundtrack",
   "metadata": {},
   "outputs": [],
   "source": [
    "def get_returns_and_cov(df):\n",
    "    cov = df.cov().values\n",
    "    exp_returns = df.mean().values.reshape(-1, 1)\n",
    "    return cov, exp_returns"
   ]
  },
  {
   "cell_type": "code",
   "execution_count": 11,
   "id": "delayed-french",
   "metadata": {},
   "outputs": [],
   "source": [
    "df = process_data(candles)"
   ]
  },
  {
   "cell_type": "code",
   "execution_count": 12,
   "id": "compound-dispatch",
   "metadata": {
    "scrolled": true
   },
   "outputs": [],
   "source": [
    "cov, exp_rets = get_returns_and_cov(df)"
   ]
  },
  {
   "cell_type": "code",
   "execution_count": null,
   "id": "chubby-brisbane",
   "metadata": {},
   "outputs": [],
   "source": []
  },
  {
   "cell_type": "code",
   "execution_count": null,
   "id": "alert-graduation",
   "metadata": {},
   "outputs": [],
   "source": []
  },
  {
   "cell_type": "code",
   "execution_count": null,
   "id": "southern-safety",
   "metadata": {},
   "outputs": [],
   "source": []
  },
  {
   "cell_type": "code",
   "execution_count": null,
   "id": "stopped-study",
   "metadata": {},
   "outputs": [],
   "source": []
  },
  {
   "cell_type": "code",
   "execution_count": null,
   "id": "considered-applicant",
   "metadata": {},
   "outputs": [],
   "source": []
  },
  {
   "cell_type": "code",
   "execution_count": 13,
   "id": "miniature-latvia",
   "metadata": {},
   "outputs": [],
   "source": [
    "nco = NestedClusteredOptimisation()\n",
    "\n",
    "# Find optimal weights using the NCO algorithm\n",
    "w_nco = nco.allocate_nco(cov, exp_rets, n_init=50)"
   ]
  },
  {
   "cell_type": "code",
   "execution_count": 14,
   "id": "better-coast",
   "metadata": {},
   "outputs": [
    {
     "data": {
      "text/plain": [
       "1041.4610238825103"
      ]
     },
     "execution_count": 14,
     "metadata": {},
     "output_type": "execute_result"
    }
   ],
   "source": [
    "w_nco.squeeze().sum()"
   ]
  },
  {
   "cell_type": "code",
   "execution_count": 15,
   "id": "literary-guess",
   "metadata": {},
   "outputs": [],
   "source": [
    "assets_remove = [asset for asset, weight in zip(candles.keys(), w_nco.squeeze()) if weight <= 0]"
   ]
  },
  {
   "cell_type": "code",
   "execution_count": 16,
   "id": "independent-recipient",
   "metadata": {},
   "outputs": [
    {
     "data": {
      "text/plain": [
       "37"
      ]
     },
     "execution_count": 16,
     "metadata": {},
     "output_type": "execute_result"
    }
   ],
   "source": [
    "len(assets_remove)"
   ]
  },
  {
   "cell_type": "code",
   "execution_count": 17,
   "id": "delayed-stephen",
   "metadata": {},
   "outputs": [],
   "source": [
    "df = process_data(candles, remove=assets_remove)\n",
    "cov, exp_rets = get_returns_and_cov(df)"
   ]
  },
  {
   "cell_type": "code",
   "execution_count": 18,
   "id": "capital-bench",
   "metadata": {},
   "outputs": [],
   "source": [
    "w_nco = nco.allocate_nco(cov, exp_rets, n_init=50)"
   ]
  },
  {
   "cell_type": "code",
   "execution_count": 19,
   "id": "ancient-generic",
   "metadata": {},
   "outputs": [
    {
     "data": {
      "text/plain": [
       "1892.842931754332"
      ]
     },
     "execution_count": 19,
     "metadata": {},
     "output_type": "execute_result"
    }
   ],
   "source": [
    "w_nco.squeeze().sum()"
   ]
  },
  {
   "cell_type": "code",
   "execution_count": 20,
   "id": "finished-camcorder",
   "metadata": {},
   "outputs": [
    {
     "data": {
      "text/plain": [
       "array([113.08056095,  15.92964881,  -0.63444976,   3.18555745,\n",
       "        27.02154565,  80.5896123 ,   1.77693784,  75.26044408,\n",
       "         8.07663267,   3.92071602,  58.91617725,  28.56665186,\n",
       "        64.41992821,  11.35954379, -20.84564187,  16.01144804,\n",
       "        -0.31735663, -46.71909458,  -5.55576534,  14.30814795,\n",
       "        29.34903309,  17.62361004,  35.86889157,  20.97444299,\n",
       "        56.79017964, -11.79533933, -16.44598389,  18.02170913,\n",
       "        52.9091972 , -10.75396608,  76.37001455,   1.75188238,\n",
       "       -41.1898639 ,  40.30039126, 188.06554606,  60.90849645,\n",
       "        -1.76789461, 250.50073647,   9.57079344, -31.37414446,\n",
       "       122.8296087 ,   3.76284802,  33.87192638,  41.41620233,\n",
       "         2.293209  ,  22.70023584,  -8.11461621,  26.02874701,\n",
       "        -9.8985491 ,  53.81901408,  74.02345266,   5.07390274,\n",
       "        54.62195886,  99.59735319,  27.17595082,   9.72618794,\n",
       "        43.10202585,  63.94785785,  32.83663909])"
      ]
     },
     "execution_count": 20,
     "metadata": {},
     "output_type": "execute_result"
    }
   ],
   "source": [
    "w_nco.squeeze()"
   ]
  },
  {
   "cell_type": "code",
   "execution_count": 21,
   "id": "alleged-relations",
   "metadata": {},
   "outputs": [],
   "source": [
    "w_transformed = np.clip(w_nco.squeeze(), 0, np.inf)"
   ]
  },
  {
   "cell_type": "code",
   "execution_count": 22,
   "id": "blocked-constitutional",
   "metadata": {},
   "outputs": [],
   "source": [
    "w_transformed = w_transformed / w_transformed.sum()"
   ]
  },
  {
   "cell_type": "code",
   "execution_count": 23,
   "id": "unauthorized-measure",
   "metadata": {},
   "outputs": [
    {
     "data": {
      "text/plain": [
       "0.9999999999999999"
      ]
     },
     "execution_count": 23,
     "metadata": {},
     "output_type": "execute_result"
    }
   ],
   "source": [
    "w_transformed.sum()"
   ]
  },
  {
   "cell_type": "code",
   "execution_count": 24,
   "id": "round-programming",
   "metadata": {},
   "outputs": [
    {
     "data": {
      "text/plain": [
       "0.9999999999999999"
      ]
     },
     "execution_count": 24,
     "metadata": {},
     "output_type": "execute_result"
    }
   ],
   "source": [
    "w_transformed.sum()"
   ]
  },
  {
   "cell_type": "code",
   "execution_count": 25,
   "id": "induced-sussex",
   "metadata": {},
   "outputs": [],
   "source": [
    "weights = general_weights_fixer(w_transformed)"
   ]
  },
  {
   "cell_type": "code",
   "execution_count": 26,
   "id": "peaceful-flood",
   "metadata": {},
   "outputs": [
    {
     "data": {
      "text/plain": [
       "True"
      ]
     },
     "execution_count": 26,
     "metadata": {},
     "output_type": "execute_result"
    }
   ],
   "source": [
    "sum(weights) == 1.00000000000000000000000000000000000"
   ]
  },
  {
   "cell_type": "code",
   "execution_count": 27,
   "id": "dying-grain",
   "metadata": {},
   "outputs": [],
   "source": [
    "weights = weights / sum(weights)"
   ]
  },
  {
   "cell_type": "code",
   "execution_count": 28,
   "id": "otherwise-stream",
   "metadata": {},
   "outputs": [
    {
     "data": {
      "text/plain": [
       "1.0"
      ]
     },
     "execution_count": 28,
     "metadata": {},
     "output_type": "execute_result"
    }
   ],
   "source": [
    "sum(weights)"
   ]
  },
  {
   "cell_type": "code",
   "execution_count": 29,
   "id": "contemporary-account",
   "metadata": {},
   "outputs": [
    {
     "data": {
      "text/plain": [
       "array([0.054, 0.008, 0.   , 0.002, 0.013, 0.038, 0.001, 0.036, 0.004,\n",
       "       0.002, 0.028, 0.014, 0.031, 0.005, 0.   , 0.008, 0.   , 0.   ,\n",
       "       0.   , 0.007, 0.014, 0.008, 0.017, 0.01 , 0.027, 0.   , 0.   ,\n",
       "       0.009, 0.025, 0.   , 0.036, 0.001, 0.   , 0.019, 0.09 , 0.029,\n",
       "       0.   , 0.117, 0.005, 0.   , 0.059, 0.002, 0.016, 0.02 , 0.001,\n",
       "       0.011, 0.   , 0.012, 0.   , 0.026, 0.035, 0.002, 0.026, 0.047,\n",
       "       0.013, 0.005, 0.021, 0.03 , 0.016])"
      ]
     },
     "execution_count": 29,
     "metadata": {},
     "output_type": "execute_result"
    }
   ],
   "source": [
    "weights"
   ]
  },
  {
   "cell_type": "code",
   "execution_count": 30,
   "id": "informational-phone",
   "metadata": {},
   "outputs": [],
   "source": [
    "dict_weights = {asset:w for asset, w in zip(df.columns, weights)}"
   ]
  },
  {
   "cell_type": "code",
   "execution_count": 31,
   "id": "willing-madagascar",
   "metadata": {},
   "outputs": [
    {
     "data": {
      "text/plain": [
       "1.0"
      ]
     },
     "execution_count": 31,
     "metadata": {},
     "output_type": "execute_result"
    }
   ],
   "source": [
    "sum(dict_weights.values())"
   ]
  },
  {
   "cell_type": "code",
   "execution_count": 32,
   "id": "magnetic-summit",
   "metadata": {},
   "outputs": [],
   "source": [
    "def get_submission_markowitz(weights, assets):\n",
    "    subm_plantilla = pd.read_csv(\"./submission/submission.csv\")\n",
    "    date = subm_plantilla[\"eod_ts\"]\n",
    "    cols = {\n",
    "        f\"allo_{asset.replace('_close', '')}\": [weights[f\"{asset}\"]] * len(date) for asset in assets\n",
    "    }\n",
    "    return pd.DataFrame({\"eod_ts\": date, **cols})"
   ]
  },
  {
   "cell_type": "code",
   "execution_count": 108,
   "id": "cellular-wagon",
   "metadata": {},
   "outputs": [],
   "source": [
    "subm = get_submission_markowitz(dict_weights, df.columns)\n"
   ]
  },
  {
   "cell_type": "code",
   "execution_count": 109,
   "id": "introductory-transaction",
   "metadata": {},
   "outputs": [
    {
     "data": {
      "text/html": [
       "<div>\n",
       "<style scoped>\n",
       "    .dataframe tbody tr th:only-of-type {\n",
       "        vertical-align: middle;\n",
       "    }\n",
       "\n",
       "    .dataframe tbody tr th {\n",
       "        vertical-align: top;\n",
       "    }\n",
       "\n",
       "    .dataframe thead th {\n",
       "        text-align: right;\n",
       "    }\n",
       "</style>\n",
       "<table border=\"1\" class=\"dataframe\">\n",
       "  <thead>\n",
       "    <tr style=\"text-align: right;\">\n",
       "      <th></th>\n",
       "      <th>eod_ts</th>\n",
       "      <th>allo_NCT</th>\n",
       "      <th>allo_OOS</th>\n",
       "      <th>allo_GFJ</th>\n",
       "      <th>allo_USX</th>\n",
       "      <th>allo_TDD</th>\n",
       "      <th>allo_CIS</th>\n",
       "      <th>allo_UYZ</th>\n",
       "      <th>allo_TRO</th>\n",
       "      <th>allo_ERO</th>\n",
       "      <th>...</th>\n",
       "      <th>allo_ZUJ</th>\n",
       "      <th>allo_BSX</th>\n",
       "      <th>allo_LEN</th>\n",
       "      <th>allo_FNM</th>\n",
       "      <th>allo_ERQ</th>\n",
       "      <th>allo_OJG</th>\n",
       "      <th>allo_BOT</th>\n",
       "      <th>allo_DIG</th>\n",
       "      <th>allo_PHI</th>\n",
       "      <th>allo_RWJ</th>\n",
       "    </tr>\n",
       "  </thead>\n",
       "  <tbody>\n",
       "    <tr>\n",
       "      <th>0</th>\n",
       "      <td>2020-08-18 00:00:00</td>\n",
       "      <td>0.063</td>\n",
       "      <td>0.006</td>\n",
       "      <td>0.0</td>\n",
       "      <td>0.006</td>\n",
       "      <td>0.014</td>\n",
       "      <td>0.034</td>\n",
       "      <td>0.002</td>\n",
       "      <td>0.043</td>\n",
       "      <td>0.0</td>\n",
       "      <td>...</td>\n",
       "      <td>0.023</td>\n",
       "      <td>0.036</td>\n",
       "      <td>0.003</td>\n",
       "      <td>0.025</td>\n",
       "      <td>0.047</td>\n",
       "      <td>0.013</td>\n",
       "      <td>0.012</td>\n",
       "      <td>0.013</td>\n",
       "      <td>0.036</td>\n",
       "      <td>0.015</td>\n",
       "    </tr>\n",
       "    <tr>\n",
       "      <th>1</th>\n",
       "      <td>2020-08-18 01:00:00</td>\n",
       "      <td>0.063</td>\n",
       "      <td>0.006</td>\n",
       "      <td>0.0</td>\n",
       "      <td>0.006</td>\n",
       "      <td>0.014</td>\n",
       "      <td>0.034</td>\n",
       "      <td>0.002</td>\n",
       "      <td>0.043</td>\n",
       "      <td>0.0</td>\n",
       "      <td>...</td>\n",
       "      <td>0.023</td>\n",
       "      <td>0.036</td>\n",
       "      <td>0.003</td>\n",
       "      <td>0.025</td>\n",
       "      <td>0.047</td>\n",
       "      <td>0.013</td>\n",
       "      <td>0.012</td>\n",
       "      <td>0.013</td>\n",
       "      <td>0.036</td>\n",
       "      <td>0.015</td>\n",
       "    </tr>\n",
       "    <tr>\n",
       "      <th>2</th>\n",
       "      <td>2020-08-18 02:00:00</td>\n",
       "      <td>0.063</td>\n",
       "      <td>0.006</td>\n",
       "      <td>0.0</td>\n",
       "      <td>0.006</td>\n",
       "      <td>0.014</td>\n",
       "      <td>0.034</td>\n",
       "      <td>0.002</td>\n",
       "      <td>0.043</td>\n",
       "      <td>0.0</td>\n",
       "      <td>...</td>\n",
       "      <td>0.023</td>\n",
       "      <td>0.036</td>\n",
       "      <td>0.003</td>\n",
       "      <td>0.025</td>\n",
       "      <td>0.047</td>\n",
       "      <td>0.013</td>\n",
       "      <td>0.012</td>\n",
       "      <td>0.013</td>\n",
       "      <td>0.036</td>\n",
       "      <td>0.015</td>\n",
       "    </tr>\n",
       "    <tr>\n",
       "      <th>3</th>\n",
       "      <td>2020-08-18 03:00:00</td>\n",
       "      <td>0.063</td>\n",
       "      <td>0.006</td>\n",
       "      <td>0.0</td>\n",
       "      <td>0.006</td>\n",
       "      <td>0.014</td>\n",
       "      <td>0.034</td>\n",
       "      <td>0.002</td>\n",
       "      <td>0.043</td>\n",
       "      <td>0.0</td>\n",
       "      <td>...</td>\n",
       "      <td>0.023</td>\n",
       "      <td>0.036</td>\n",
       "      <td>0.003</td>\n",
       "      <td>0.025</td>\n",
       "      <td>0.047</td>\n",
       "      <td>0.013</td>\n",
       "      <td>0.012</td>\n",
       "      <td>0.013</td>\n",
       "      <td>0.036</td>\n",
       "      <td>0.015</td>\n",
       "    </tr>\n",
       "    <tr>\n",
       "      <th>4</th>\n",
       "      <td>2020-08-18 04:00:00</td>\n",
       "      <td>0.063</td>\n",
       "      <td>0.006</td>\n",
       "      <td>0.0</td>\n",
       "      <td>0.006</td>\n",
       "      <td>0.014</td>\n",
       "      <td>0.034</td>\n",
       "      <td>0.002</td>\n",
       "      <td>0.043</td>\n",
       "      <td>0.0</td>\n",
       "      <td>...</td>\n",
       "      <td>0.023</td>\n",
       "      <td>0.036</td>\n",
       "      <td>0.003</td>\n",
       "      <td>0.025</td>\n",
       "      <td>0.047</td>\n",
       "      <td>0.013</td>\n",
       "      <td>0.012</td>\n",
       "      <td>0.013</td>\n",
       "      <td>0.036</td>\n",
       "      <td>0.015</td>\n",
       "    </tr>\n",
       "  </tbody>\n",
       "</table>\n",
       "<p>5 rows × 60 columns</p>\n",
       "</div>"
      ],
      "text/plain": [
       "                eod_ts  allo_NCT  allo_OOS  allo_GFJ  allo_USX  allo_TDD  \\\n",
       "0  2020-08-18 00:00:00     0.063     0.006       0.0     0.006     0.014   \n",
       "1  2020-08-18 01:00:00     0.063     0.006       0.0     0.006     0.014   \n",
       "2  2020-08-18 02:00:00     0.063     0.006       0.0     0.006     0.014   \n",
       "3  2020-08-18 03:00:00     0.063     0.006       0.0     0.006     0.014   \n",
       "4  2020-08-18 04:00:00     0.063     0.006       0.0     0.006     0.014   \n",
       "\n",
       "   allo_CIS  allo_UYZ  allo_TRO  allo_ERO  ...  allo_ZUJ  allo_BSX  allo_LEN  \\\n",
       "0     0.034     0.002     0.043       0.0  ...     0.023     0.036     0.003   \n",
       "1     0.034     0.002     0.043       0.0  ...     0.023     0.036     0.003   \n",
       "2     0.034     0.002     0.043       0.0  ...     0.023     0.036     0.003   \n",
       "3     0.034     0.002     0.043       0.0  ...     0.023     0.036     0.003   \n",
       "4     0.034     0.002     0.043       0.0  ...     0.023     0.036     0.003   \n",
       "\n",
       "   allo_FNM  allo_ERQ  allo_OJG  allo_BOT  allo_DIG  allo_PHI  allo_RWJ  \n",
       "0     0.025     0.047     0.013     0.012     0.013     0.036     0.015  \n",
       "1     0.025     0.047     0.013     0.012     0.013     0.036     0.015  \n",
       "2     0.025     0.047     0.013     0.012     0.013     0.036     0.015  \n",
       "3     0.025     0.047     0.013     0.012     0.013     0.036     0.015  \n",
       "4     0.025     0.047     0.013     0.012     0.013     0.036     0.015  \n",
       "\n",
       "[5 rows x 60 columns]"
      ]
     },
     "execution_count": 109,
     "metadata": {},
     "output_type": "execute_result"
    }
   ],
   "source": [
    "subm.head()"
   ]
  },
  {
   "cell_type": "code",
   "execution_count": 115,
   "id": "behind-omega",
   "metadata": {},
   "outputs": [
    {
     "data": {
      "text/plain": [
       "True"
      ]
     },
     "execution_count": 115,
     "metadata": {},
     "output_type": "execute_result"
    }
   ],
   "source": [
    "all(subm.sum(axis=1) == 1)"
   ]
  },
  {
   "cell_type": "code",
   "execution_count": 114,
   "id": "northern-simon",
   "metadata": {},
   "outputs": [
    {
     "data": {
      "text/plain": [
       "1.0"
      ]
     },
     "execution_count": 114,
     "metadata": {},
     "output_type": "execute_result"
    }
   ],
   "source": [
    "subm.sum(axis=1).iloc[0]"
   ]
  },
  {
   "cell_type": "code",
   "execution_count": 112,
   "id": "confidential-competition",
   "metadata": {},
   "outputs": [],
   "source": [
    "subm.set_index(\"eod_ts\", inplace=True)"
   ]
  },
  {
   "cell_type": "code",
   "execution_count": 113,
   "id": "dying-socket",
   "metadata": {},
   "outputs": [],
   "source": [
    "subm = subm.div(subm.sum(axis=1), axis=0)\n"
   ]
  },
  {
   "cell_type": "code",
   "execution_count": 118,
   "id": "bearing-storm",
   "metadata": {},
   "outputs": [
    {
     "data": {
      "text/plain": [
       "0"
      ]
     },
     "execution_count": 118,
     "metadata": {},
     "output_type": "execute_result"
    }
   ],
   "source": [
    "sum(n < 0 for n in subm.iloc[:, 1:].values.flatten())"
   ]
  },
  {
   "cell_type": "code",
   "execution_count": 119,
   "id": "embedded-sleeping",
   "metadata": {},
   "outputs": [
    {
     "data": {
      "text/html": [
       "<div>\n",
       "<style scoped>\n",
       "    .dataframe tbody tr th:only-of-type {\n",
       "        vertical-align: middle;\n",
       "    }\n",
       "\n",
       "    .dataframe tbody tr th {\n",
       "        vertical-align: top;\n",
       "    }\n",
       "\n",
       "    .dataframe thead th {\n",
       "        text-align: right;\n",
       "    }\n",
       "</style>\n",
       "<table border=\"1\" class=\"dataframe\">\n",
       "  <thead>\n",
       "    <tr style=\"text-align: right;\">\n",
       "      <th></th>\n",
       "      <th>allo_NCT</th>\n",
       "      <th>allo_OOS</th>\n",
       "      <th>allo_GFJ</th>\n",
       "      <th>allo_USX</th>\n",
       "      <th>allo_TDD</th>\n",
       "      <th>allo_CIS</th>\n",
       "      <th>allo_UYZ</th>\n",
       "      <th>allo_TRO</th>\n",
       "      <th>allo_ERO</th>\n",
       "      <th>allo_ZAB</th>\n",
       "      <th>...</th>\n",
       "      <th>allo_ZUJ</th>\n",
       "      <th>allo_BSX</th>\n",
       "      <th>allo_LEN</th>\n",
       "      <th>allo_FNM</th>\n",
       "      <th>allo_ERQ</th>\n",
       "      <th>allo_OJG</th>\n",
       "      <th>allo_BOT</th>\n",
       "      <th>allo_DIG</th>\n",
       "      <th>allo_PHI</th>\n",
       "      <th>allo_RWJ</th>\n",
       "    </tr>\n",
       "    <tr>\n",
       "      <th>eod_ts</th>\n",
       "      <th></th>\n",
       "      <th></th>\n",
       "      <th></th>\n",
       "      <th></th>\n",
       "      <th></th>\n",
       "      <th></th>\n",
       "      <th></th>\n",
       "      <th></th>\n",
       "      <th></th>\n",
       "      <th></th>\n",
       "      <th></th>\n",
       "      <th></th>\n",
       "      <th></th>\n",
       "      <th></th>\n",
       "      <th></th>\n",
       "      <th></th>\n",
       "      <th></th>\n",
       "      <th></th>\n",
       "      <th></th>\n",
       "      <th></th>\n",
       "      <th></th>\n",
       "    </tr>\n",
       "  </thead>\n",
       "  <tbody>\n",
       "    <tr>\n",
       "      <th>2020-08-18 00:00:00</th>\n",
       "      <td>0.063</td>\n",
       "      <td>0.006</td>\n",
       "      <td>0.0</td>\n",
       "      <td>0.006</td>\n",
       "      <td>0.014</td>\n",
       "      <td>0.034</td>\n",
       "      <td>0.002</td>\n",
       "      <td>0.043</td>\n",
       "      <td>0.0</td>\n",
       "      <td>0.003</td>\n",
       "      <td>...</td>\n",
       "      <td>0.023</td>\n",
       "      <td>0.036</td>\n",
       "      <td>0.003</td>\n",
       "      <td>0.025</td>\n",
       "      <td>0.047</td>\n",
       "      <td>0.013</td>\n",
       "      <td>0.012</td>\n",
       "      <td>0.013</td>\n",
       "      <td>0.036</td>\n",
       "      <td>0.015</td>\n",
       "    </tr>\n",
       "    <tr>\n",
       "      <th>2020-08-18 01:00:00</th>\n",
       "      <td>0.063</td>\n",
       "      <td>0.006</td>\n",
       "      <td>0.0</td>\n",
       "      <td>0.006</td>\n",
       "      <td>0.014</td>\n",
       "      <td>0.034</td>\n",
       "      <td>0.002</td>\n",
       "      <td>0.043</td>\n",
       "      <td>0.0</td>\n",
       "      <td>0.003</td>\n",
       "      <td>...</td>\n",
       "      <td>0.023</td>\n",
       "      <td>0.036</td>\n",
       "      <td>0.003</td>\n",
       "      <td>0.025</td>\n",
       "      <td>0.047</td>\n",
       "      <td>0.013</td>\n",
       "      <td>0.012</td>\n",
       "      <td>0.013</td>\n",
       "      <td>0.036</td>\n",
       "      <td>0.015</td>\n",
       "    </tr>\n",
       "    <tr>\n",
       "      <th>2020-08-18 02:00:00</th>\n",
       "      <td>0.063</td>\n",
       "      <td>0.006</td>\n",
       "      <td>0.0</td>\n",
       "      <td>0.006</td>\n",
       "      <td>0.014</td>\n",
       "      <td>0.034</td>\n",
       "      <td>0.002</td>\n",
       "      <td>0.043</td>\n",
       "      <td>0.0</td>\n",
       "      <td>0.003</td>\n",
       "      <td>...</td>\n",
       "      <td>0.023</td>\n",
       "      <td>0.036</td>\n",
       "      <td>0.003</td>\n",
       "      <td>0.025</td>\n",
       "      <td>0.047</td>\n",
       "      <td>0.013</td>\n",
       "      <td>0.012</td>\n",
       "      <td>0.013</td>\n",
       "      <td>0.036</td>\n",
       "      <td>0.015</td>\n",
       "    </tr>\n",
       "    <tr>\n",
       "      <th>2020-08-18 03:00:00</th>\n",
       "      <td>0.063</td>\n",
       "      <td>0.006</td>\n",
       "      <td>0.0</td>\n",
       "      <td>0.006</td>\n",
       "      <td>0.014</td>\n",
       "      <td>0.034</td>\n",
       "      <td>0.002</td>\n",
       "      <td>0.043</td>\n",
       "      <td>0.0</td>\n",
       "      <td>0.003</td>\n",
       "      <td>...</td>\n",
       "      <td>0.023</td>\n",
       "      <td>0.036</td>\n",
       "      <td>0.003</td>\n",
       "      <td>0.025</td>\n",
       "      <td>0.047</td>\n",
       "      <td>0.013</td>\n",
       "      <td>0.012</td>\n",
       "      <td>0.013</td>\n",
       "      <td>0.036</td>\n",
       "      <td>0.015</td>\n",
       "    </tr>\n",
       "    <tr>\n",
       "      <th>2020-08-18 04:00:00</th>\n",
       "      <td>0.063</td>\n",
       "      <td>0.006</td>\n",
       "      <td>0.0</td>\n",
       "      <td>0.006</td>\n",
       "      <td>0.014</td>\n",
       "      <td>0.034</td>\n",
       "      <td>0.002</td>\n",
       "      <td>0.043</td>\n",
       "      <td>0.0</td>\n",
       "      <td>0.003</td>\n",
       "      <td>...</td>\n",
       "      <td>0.023</td>\n",
       "      <td>0.036</td>\n",
       "      <td>0.003</td>\n",
       "      <td>0.025</td>\n",
       "      <td>0.047</td>\n",
       "      <td>0.013</td>\n",
       "      <td>0.012</td>\n",
       "      <td>0.013</td>\n",
       "      <td>0.036</td>\n",
       "      <td>0.015</td>\n",
       "    </tr>\n",
       "  </tbody>\n",
       "</table>\n",
       "<p>5 rows × 59 columns</p>\n",
       "</div>"
      ],
      "text/plain": [
       "                     allo_NCT  allo_OOS  allo_GFJ  allo_USX  allo_TDD  \\\n",
       "eod_ts                                                                  \n",
       "2020-08-18 00:00:00     0.063     0.006       0.0     0.006     0.014   \n",
       "2020-08-18 01:00:00     0.063     0.006       0.0     0.006     0.014   \n",
       "2020-08-18 02:00:00     0.063     0.006       0.0     0.006     0.014   \n",
       "2020-08-18 03:00:00     0.063     0.006       0.0     0.006     0.014   \n",
       "2020-08-18 04:00:00     0.063     0.006       0.0     0.006     0.014   \n",
       "\n",
       "                     allo_CIS  allo_UYZ  allo_TRO  allo_ERO  allo_ZAB  ...  \\\n",
       "eod_ts                                                                 ...   \n",
       "2020-08-18 00:00:00     0.034     0.002     0.043       0.0     0.003  ...   \n",
       "2020-08-18 01:00:00     0.034     0.002     0.043       0.0     0.003  ...   \n",
       "2020-08-18 02:00:00     0.034     0.002     0.043       0.0     0.003  ...   \n",
       "2020-08-18 03:00:00     0.034     0.002     0.043       0.0     0.003  ...   \n",
       "2020-08-18 04:00:00     0.034     0.002     0.043       0.0     0.003  ...   \n",
       "\n",
       "                     allo_ZUJ  allo_BSX  allo_LEN  allo_FNM  allo_ERQ  \\\n",
       "eod_ts                                                                  \n",
       "2020-08-18 00:00:00     0.023     0.036     0.003     0.025     0.047   \n",
       "2020-08-18 01:00:00     0.023     0.036     0.003     0.025     0.047   \n",
       "2020-08-18 02:00:00     0.023     0.036     0.003     0.025     0.047   \n",
       "2020-08-18 03:00:00     0.023     0.036     0.003     0.025     0.047   \n",
       "2020-08-18 04:00:00     0.023     0.036     0.003     0.025     0.047   \n",
       "\n",
       "                     allo_OJG  allo_BOT  allo_DIG  allo_PHI  allo_RWJ  \n",
       "eod_ts                                                                 \n",
       "2020-08-18 00:00:00     0.013     0.012     0.013     0.036     0.015  \n",
       "2020-08-18 01:00:00     0.013     0.012     0.013     0.036     0.015  \n",
       "2020-08-18 02:00:00     0.013     0.012     0.013     0.036     0.015  \n",
       "2020-08-18 03:00:00     0.013     0.012     0.013     0.036     0.015  \n",
       "2020-08-18 04:00:00     0.013     0.012     0.013     0.036     0.015  \n",
       "\n",
       "[5 rows x 59 columns]"
      ]
     },
     "execution_count": 119,
     "metadata": {},
     "output_type": "execute_result"
    }
   ],
   "source": [
    "subm.head()"
   ]
  },
  {
   "cell_type": "code",
   "execution_count": 120,
   "id": "quarterly-retailer",
   "metadata": {},
   "outputs": [],
   "source": [
    "subm.to_csv(\"submission_1602_3.csv\", index=True, header=True)"
   ]
  },
  {
   "cell_type": "code",
   "execution_count": null,
   "id": "crucial-maine",
   "metadata": {},
   "outputs": [],
   "source": [
    "w_nco2 = w_nco.reshape(-1, 1)"
   ]
  },
  {
   "cell_type": "code",
   "execution_count": 32,
   "id": "remarkable-assets",
   "metadata": {},
   "outputs": [],
   "source": [
    "w_cvo = nco.allocate_cvo(cov.values, returns.values.reshape(-1, 1))"
   ]
  },
  {
   "cell_type": "code",
   "execution_count": 34,
   "id": "satellite-capitol",
   "metadata": {},
   "outputs": [
    {
     "data": {
      "text/plain": [
       "1086.7710025806819"
      ]
     },
     "execution_count": 34,
     "metadata": {},
     "output_type": "execute_result"
    }
   ],
   "source": [
    "w_cvo.squeeze().sum()"
   ]
  },
  {
   "cell_type": "code",
   "execution_count": null,
   "id": "small-apple",
   "metadata": {},
   "outputs": [],
   "source": [
    "# Compare the NCO solutions to the CVO ones using MCOS\n",
    "# Parameters are: 10 simulations, 100 observations in a simulation\n",
    "# goal of minimum variance, no LW shrinkage\n",
    "w_cvo, w_nco = nco.allocate_mcos(assets_mean, assets_cov, 100, 10, 0.01, True, False)\n",
    "\n",
    "# Find the errors in estimations of NCO and CVO in simulations\n",
    "err_cvo, err_nco = nco.estim_errors_mcos(w_cvo, w_nco, assets_mean, assets_cov, True)"
   ]
  }
 ],
 "metadata": {
  "kernelspec": {
   "display_name": "Python [conda env:portfoliolab_env]",
   "language": "python",
   "name": "conda-env-portfoliolab_env-py"
  },
  "language_info": {
   "codemirror_mode": {
    "name": "ipython",
    "version": 3
   },
   "file_extension": ".py",
   "mimetype": "text/x-python",
   "name": "python",
   "nbconvert_exporter": "python",
   "pygments_lexer": "ipython3",
   "version": "3.7.9"
  }
 },
 "nbformat": 4,
 "nbformat_minor": 5
}
