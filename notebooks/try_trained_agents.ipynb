{
 "cells": [
  {
   "cell_type": "code",
   "execution_count": 52,
   "id": "desirable-buffalo",
   "metadata": {},
   "outputs": [],
   "source": [
    "from env import MyEnv\n",
    "import ray\n",
    "from ray.rllib.agents import ppo\n",
    "from ray.tune.registry import register_env\n",
    "import os\n",
    "import numpy as np\n",
    "from submission_utils import general_weights_fixer\n",
    "from sklearn.preprocessing import MinMaxScaler"
   ]
  },
  {
   "cell_type": "code",
   "execution_count": 2,
   "id": "limited-liquid",
   "metadata": {},
   "outputs": [
    {
     "name": "stdout",
     "output_type": "stream",
     "text": [
      "Thu Feb 11 17:17:17 2021       \r\n",
      "+-----------------------------------------------------------------------------+\r\n",
      "| NVIDIA-SMI 418.87.00    Driver Version: 418.87.00    CUDA Version: 10.1     |\r\n",
      "|-------------------------------+----------------------+----------------------+\r\n",
      "| GPU  Name        Persistence-M| Bus-Id        Disp.A | Volatile Uncorr. ECC |\r\n",
      "| Fan  Temp  Perf  Pwr:Usage/Cap|         Memory-Usage | GPU-Util  Compute M. |\r\n",
      "|===============================+======================+======================|\r\n",
      "|   0  Tesla P100-PCIE...  Off  | 00000000:02:00.0 Off |                    0 |\r\n",
      "| N/A   53C    P0    73W / 250W |   1389MiB / 16280MiB |     51%      Default |\r\n",
      "+-------------------------------+----------------------+----------------------+\r\n",
      "|   1  Tesla P100-PCIE...  Off  | 00000000:81:00.0 Off |                    0 |\r\n",
      "| N/A   67C    P0    96W / 250W |  14649MiB / 16280MiB |     57%      Default |\r\n",
      "+-------------------------------+----------------------+----------------------+\r\n",
      "                                                                               \r\n",
      "+-----------------------------------------------------------------------------+\r\n",
      "| Processes:                                                       GPU Memory |\r\n",
      "|  GPU       PID   Type   Process name                             Usage      |\r\n",
      "|=============================================================================|\r\n",
      "|    0     31086      C   ray::PPO.train_buffered()                   1379MiB |\r\n",
      "|    1     18897      C   python                                     14639MiB |\r\n",
      "+-----------------------------------------------------------------------------+\r\n"
     ]
    }
   ],
   "source": [
    "!nvidia-smi"
   ]
  },
  {
   "cell_type": "code",
   "execution_count": 3,
   "id": "enclosed-accreditation",
   "metadata": {},
   "outputs": [],
   "source": [
    "os.environ[\"CUDA_VISIBLE_DEVICES\"] = \"0\"\n",
    "\n",
    "\n",
    "def env_creator(env_config):\n",
    "    return MyEnv(\"observations_test_df.csv\", \"synthetic_assetsdf.csv\", n_assets=96)"
   ]
  },
  {
   "cell_type": "code",
   "execution_count": 4,
   "id": "protecting-telescope",
   "metadata": {},
   "outputs": [],
   "source": [
    "CONFIG = {\n",
    "    'num_workers': 1,\n",
    "    'num_envs_per_worker': 1,\n",
    "    'create_env_on_driver': False,\n",
    "    'rollout_fragment_length': 512,\n",
    "    'batch_mode': 'truncate_episodes',\n",
    "    'num_gpus': 1,\n",
    "    'train_batch_size': 7680,\n",
    "    'model': {\"fcnet_hiddens\": [2048, 1024, 512, 512],\n",
    "    'fcnet_activation': \"relu\",\n",
    "    'conv_filters': None,\n",
    "    'conv_activation': 'relu',\n",
    "    'free_log_std': False,\n",
    "    'no_final_linear': False,\n",
    "    'vf_share_layers': True,\n",
    "    'use_lstm': False, # TODO: TURN TO TRUE \n",
    "    'max_seq_len': 256,\n",
    "    'lstm_cell_size': 256,\n",
    "    'lstm_use_prev_action_reward': False,\n",
    "    '_time_major': False,\n",
    "    'framestack': True,\n",
    "    'dim': 84,\n",
    "    'grayscale': False,\n",
    "    'zero_mean': True,\n",
    "    'custom_model': None,\n",
    "    'custom_model_config': {},\n",
    "    'custom_action_dist': None,\n",
    "    'custom_preprocessor': None},\n",
    "    'optimizer': {},\n",
    "    'gamma': 0.99,\n",
    "    'horizon': None,\n",
    "    'soft_horizon': False,\n",
    "    'no_done_at_end': False,\n",
    "    'env_config': {},\n",
    "    'env': \"MyEnvTest\",\n",
    "    'normalize_actions': False,\n",
    "    'clip_rewards': True,\n",
    "    'clip_actions': True,\n",
    "    'preprocessor_pref': 'deepmind',\n",
    "    'lr': 5e-05,\n",
    "    'monitor': False,\n",
    "    'log_level': 'WARN',\n",
    "    'ignore_worker_failures': True,\n",
    "    'log_sys_usage': True,\n",
    "    'fake_sampler': False,\n",
    "    'framework': 'tf',\n",
    "    'eager_tracing': False,\n",
    "    'explore': True,\n",
    "    'exploration_config': {'type': 'StochasticSampling'},\n",
    "    'evaluation_interval': None,\n",
    "    'evaluation_num_episodes': 10,\n",
    "    'in_evaluation': False,\n",
    "    'evaluation_config': {},\n",
    "    'evaluation_num_workers': 0,\n",
    "    'custom_eval_function': None,\n",
    "    'sample_async': False,\n",
    "    '_use_trajectory_view_api': True,\n",
    "    'observation_filter': 'NoFilter',\n",
    "    'synchronize_filters': True,\n",
    "    'tf_session_args': {'intra_op_parallelism_threads': 2,\n",
    "    'inter_op_parallelism_threads': 2,\n",
    "    'gpu_options': {'allow_growth': True},\n",
    "    'log_device_placement': False,\n",
    "    'device_count': {'CPU': 1},\n",
    "    'allow_soft_placement': True},\n",
    "    'local_tf_session_args': {'intra_op_parallelism_threads': 8,\n",
    "    'inter_op_parallelism_threads': 8},\n",
    "    'compress_observations': False,\n",
    "    'collect_metrics_timeout': 180,\n",
    "    'metrics_smoothing_episodes': 100,\n",
    "    'remote_worker_envs': False,\n",
    "    'remote_env_batch_wait_ms': 0,\n",
    "    'min_iter_time_s': 0,\n",
    "    'timesteps_per_iteration': 0,\n",
    "    'seed': None,\n",
    "    'extra_python_environs_for_driver': {},\n",
    "    'extra_python_environs_for_worker': {},\n",
    "    'num_cpus_per_worker': 1,\n",
    "    'num_gpus_per_worker': 0,\n",
    "    'custom_resources_per_worker': {},\n",
    "    'num_cpus_for_driver': 1,\n",
    "    'memory': 0,\n",
    "    'object_store_memory': 0,\n",
    "    'memory_per_worker': 0,\n",
    "    'object_store_memory_per_worker': 0,\n",
    "    'input': 'sampler',\n",
    "    'input_evaluation': ['is', 'wis'],\n",
    "    'postprocess_inputs': False,\n",
    "    'shuffle_buffer_size': 0,\n",
    "    'output': None,\n",
    "    'output_compress_columns': ['obs', 'new_obs'],\n",
    "    'output_max_file_size': 67108864,\n",
    "    'multiagent': {'policies': {},\n",
    "    'policy_mapping_fn': None,\n",
    "    'policies_to_train': None,\n",
    "    'observation_fn': None,\n",
    "    'replay_mode': 'independent'},\n",
    "    'logger_config': None,\n",
    "    'replay_sequence_length': 1,\n",
    "    'use_critic': True,\n",
    "    'use_gae': True,\n",
    "    'lambda': 1.0,\n",
    "    'kl_coeff': 0.2,\n",
    "    'sgd_minibatch_size': 256,\n",
    "    'shuffle_sequences': True,\n",
    "    'num_sgd_iter': 30,\n",
    "    'lr_schedule': None,\n",
    "    'vf_share_layers': False,\n",
    "    'vf_loss_coeff': 1.0,\n",
    "    'entropy_coeff': 0.0,\n",
    "    'entropy_coeff_schedule': None,\n",
    "    'clip_param': 0.3,\n",
    "    'vf_clip_param': 30000,\n",
    "    \"grad_clip\": 1.0,\n",
    "    'kl_target': 0.01,\n",
    "    'simple_optimizer': False,\n",
    "    '_fake_gpus': False\n",
    "}"
   ]
  },
  {
   "cell_type": "code",
   "execution_count": 5,
   "id": "accomplished-benjamin",
   "metadata": {},
   "outputs": [],
   "source": [
    "register_env(\"MyEnvTest\", env_creator)\n"
   ]
  },
  {
   "cell_type": "code",
   "execution_count": 6,
   "id": "voluntary-samba",
   "metadata": {},
   "outputs": [
    {
     "name": "stderr",
     "output_type": "stream",
     "text": [
      "2021-02-11 17:17:35,765\tINFO services.py:1182 -- View the Ray dashboard at \u001b[1m\u001b[32mhttp://127.0.0.1:8266\u001b[39m\u001b[22m\n"
     ]
    },
    {
     "data": {
      "text/plain": [
       "{'node_ip_address': '150.244.198.153',\n",
       " 'raylet_ip_address': '150.244.198.153',\n",
       " 'redis_address': '150.244.198.153:21505',\n",
       " 'object_store_address': '/tmp/ray/session_2021-02-11_17-17-34_949471_23906/sockets/plasma_store',\n",
       " 'raylet_socket_name': '/tmp/ray/session_2021-02-11_17-17-34_949471_23906/sockets/raylet',\n",
       " 'webui_url': '127.0.0.1:8266',\n",
       " 'session_dir': '/tmp/ray/session_2021-02-11_17-17-34_949471_23906',\n",
       " 'metrics_export_port': 61058,\n",
       " 'node_id': '2fd49f465b01c809b04a4046fefce60abb9a9f472f7568f7c499af9f'}"
      ]
     },
     "execution_count": 6,
     "metadata": {},
     "output_type": "execute_result"
    }
   ],
   "source": [
    "ray.init(num_gpus=1)\n"
   ]
  },
  {
   "cell_type": "code",
   "execution_count": 7,
   "id": "arbitrary-transsexual",
   "metadata": {},
   "outputs": [
    {
     "name": "stderr",
     "output_type": "stream",
     "text": [
      "2021-02-11 17:17:41,312\tINFO trainer.py:616 -- Tip: set framework=tfe or the --eager flag to enable TensorFlow eager execution\n",
      "2021-02-11 17:17:41,315\tWARNING deprecation.py:34 -- DeprecationWarning: `model.lstm_use_prev_action_reward` has been deprecated. Use `model.lstm_use_prev_action and model.lstm_use_prev_reward` instead. This will raise an error in the future!\n",
      "2021-02-11 17:17:41,318\tINFO trainer.py:643 -- Current log_level is WARN. For more information, set 'log_level': 'INFO' / 'DEBUG' or use the -v and -vv flags.\n",
      "\u001b[2m\u001b[36m(pid=24275)\u001b[0m WARNING:tensorflow:From /home/alejandro.vaca/miniconda/envs/series_temporales/lib/python3.7/site-packages/tensorflow/python/compat/v2_compat.py:96: disable_resource_variables (from tensorflow.python.ops.variable_scope) is deprecated and will be removed in a future version.\n",
      "\u001b[2m\u001b[36m(pid=24275)\u001b[0m Instructions for updating:\n",
      "\u001b[2m\u001b[36m(pid=24275)\u001b[0m non-resource variables are not supported in the long term\n",
      "\u001b[2m\u001b[36m(pid=24275)\u001b[0m /home/alejandro.vaca/miniconda/envs/series_temporales/lib/python3.7/site-packages/pandas_datareader/compat/__init__.py:7: FutureWarning: pandas.util.testing is deprecated. Use the functions in the public API at pandas.testing instead.\n",
      "\u001b[2m\u001b[36m(pid=24275)\u001b[0m   from pandas.util.testing import assert_frame_equal\n",
      "\u001b[2m\u001b[36m(pid=24275)\u001b[0m /home/alejandro.vaca/miniconda/envs/series_temporales/lib/python3.7/site-packages/empyrical/utils.py:32: UserWarning: Unable to import pandas_datareader. Suppressing import error and continuing. All data reading functionality will raise errors; but has been deprecated and will be removed in a later version.\n",
      "\u001b[2m\u001b[36m(pid=24275)\u001b[0m   warnings.warn(msg)\n",
      "\u001b[2m\u001b[36m(pid=24275)\u001b[0m 2021-02-11 17:17:53,892\tWARNING deprecation.py:34 -- DeprecationWarning: `config[vf_share_layers]` has been deprecated. Use `config[model][vf_share_layers]` instead. This will raise an error in the future!\n",
      "\u001b[2m\u001b[36m(pid=24275)\u001b[0m 2021-02-11 17:17:53,892\tWARNING deprecation.py:34 -- DeprecationWarning: `framestack` has been deprecated. Use `num_framestacks (int)` instead. This will raise an error in the future!\n",
      "\u001b[2m\u001b[36m(pid=24275)\u001b[0m WARNING:tensorflow:From /home/alejandro.vaca/miniconda/envs/series_temporales/lib/python3.7/site-packages/tensorflow/python/ops/resource_variable_ops.py:1666: calling BaseResourceVariable.__init__ (from tensorflow.python.ops.resource_variable_ops) with constraint is deprecated and will be removed in a future version.\n",
      "\u001b[2m\u001b[36m(pid=24275)\u001b[0m Instructions for updating:\n",
      "\u001b[2m\u001b[36m(pid=24275)\u001b[0m If using Keras pass *_constraint arguments to layers.\n",
      "2021-02-11 17:18:05,030\tWARNING deprecation.py:34 -- DeprecationWarning: `config[vf_share_layers]` has been deprecated. Use `config[model][vf_share_layers]` instead. This will raise an error in the future!\n",
      "2021-02-11 17:18:05,033\tWARNING deprecation.py:34 -- DeprecationWarning: `framestack` has been deprecated. Use `num_framestacks (int)` instead. This will raise an error in the future!\n"
     ]
    },
    {
     "name": "stdout",
     "output_type": "stream",
     "text": [
      "WARNING:tensorflow:From /home/alejandro.vaca/miniconda/envs/series_temporales/lib/python3.7/site-packages/tensorflow/python/ops/resource_variable_ops.py:1666: calling BaseResourceVariable.__init__ (from tensorflow.python.ops.resource_variable_ops) with constraint is deprecated and will be removed in a future version.\n",
      "Instructions for updating:\n",
      "If using Keras pass *_constraint arguments to layers.\n"
     ]
    },
    {
     "name": "stderr",
     "output_type": "stream",
     "text": [
      "2021-02-11 17:18:15,608\tWARNING deprecation.py:34 -- DeprecationWarning: `config[vf_share_layers]` has been deprecated. Use `config[model][vf_share_layers]` instead. This will raise an error in the future!\n",
      "2021-02-11 17:18:17,923\tWARNING deprecation.py:34 -- DeprecationWarning: `config[vf_share_layers]` has been deprecated. Use `config[model][vf_share_layers]` instead. This will raise an error in the future!\n",
      "2021-02-11 17:18:23,212\tINFO trainable.py:103 -- Trainable.setup took 41.906 seconds. If your trainable is slow to initialize, consider setting reuse_actors=True to reduce actor creation overheads.\n",
      "2021-02-11 17:18:23,216\tWARNING util.py:47 -- Install gputil for GPU system monitoring.\n"
     ]
    }
   ],
   "source": [
    "agent = ppo.PPOTrainer(config=CONFIG, env=\"MyEnvTest\")\n"
   ]
  },
  {
   "cell_type": "code",
   "execution_count": null,
   "id": "radical-emperor",
   "metadata": {},
   "outputs": [],
   "source": [
    "# PPO_MyEnv_0c3c8_00000"
   ]
  },
  {
   "cell_type": "code",
   "execution_count": null,
   "id": "printable-noise",
   "metadata": {},
   "outputs": [],
   "source": []
  },
  {
   "cell_type": "code",
   "execution_count": 118,
   "id": "attached-victim",
   "metadata": {},
   "outputs": [
    {
     "name": "stdout",
     "output_type": "stream",
     "text": [
      "/home/alejandro.vaca/ray_results/PPO_SpainAI_1002/PPO_MyEnv_0c3c8_00000_0_2021-02-11_14-07-09/checkpoint_1015/checkpoint-1015\r\n"
     ]
    }
   ],
   "source": [
    "!ls ~/ray_results/PPO_SpainAI_1002/PPO_MyEnv_0c3c8_00000_0_2021-02-11_14-07-09/checkpoint_1015/checkpoint-1015\n"
   ]
  },
  {
   "cell_type": "code",
   "execution_count": 8,
   "id": "rapid-papua",
   "metadata": {},
   "outputs": [],
   "source": [
    "#!cat ~/ray_results/PPO_SpainAI_1002/PPO_MyEnv_77d40_00000_0_2021-02-10_17-38-56/params.json"
   ]
  },
  {
   "cell_type": "code",
   "execution_count": 38,
   "id": "related-queen",
   "metadata": {},
   "outputs": [
    {
     "data": {
      "text/plain": [
       "1920"
      ]
     },
     "execution_count": 38,
     "metadata": {},
     "output_type": "execute_result"
    }
   ],
   "source": [
    "128*15"
   ]
  },
  {
   "cell_type": "code",
   "execution_count": 119,
   "id": "ethical-prairie",
   "metadata": {},
   "outputs": [
    {
     "name": "stderr",
     "output_type": "stream",
     "text": [
      "2021-02-11 18:08:46,198\tINFO trainable.py:372 -- Restored on 150.244.198.153 from checkpoint: /home/alejandro.vaca/ray_results/PPO_SpainAI_1002/PPO_MyEnv_0c3c8_00000_0_2021-02-11_14-07-09/checkpoint_1015/checkpoint-1015\n",
      "2021-02-11 18:08:46,199\tINFO trainable.py:379 -- Current state after restoring: {'_iteration': 1015, '_timesteps_total': None, '_time_total': 13562.80629491806, '_episodes_total': 585}\n"
     ]
    }
   ],
   "source": [
    "agent.restore(\"/home/alejandro.vaca/ray_results/PPO_SpainAI_1002/PPO_MyEnv_0c3c8_00000_0_2021-02-11_14-07-09/checkpoint_1015/checkpoint-1015\")"
   ]
  },
  {
   "cell_type": "code",
   "execution_count": 120,
   "id": "fallen-matthew",
   "metadata": {},
   "outputs": [],
   "source": [
    "env = MyEnv(\"observations_test_df.csv\", \"synthetic_assetsdf.csv\", n_assets=96)"
   ]
  },
  {
   "cell_type": "code",
   "execution_count": 13,
   "id": "expired-climate",
   "metadata": {},
   "outputs": [],
   "source": [
    "obs = env.reset()"
   ]
  },
  {
   "cell_type": "code",
   "execution_count": 14,
   "id": "original-satisfaction",
   "metadata": {},
   "outputs": [
    {
     "data": {
      "text/plain": [
       "(110,)"
      ]
     },
     "execution_count": 14,
     "metadata": {},
     "output_type": "execute_result"
    }
   ],
   "source": [
    "obs.shape"
   ]
  },
  {
   "cell_type": "code",
   "execution_count": 106,
   "id": "detected-carolina",
   "metadata": {},
   "outputs": [],
   "source": [
    "#dir(agent)"
   ]
  },
  {
   "cell_type": "code",
   "execution_count": 16,
   "id": "eastern-hurricane",
   "metadata": {},
   "outputs": [],
   "source": [
    "policy = agent.get_policy()"
   ]
  },
  {
   "cell_type": "code",
   "execution_count": 105,
   "id": "corresponding-rabbit",
   "metadata": {},
   "outputs": [],
   "source": [
    "#policy.compute_actions([obs])"
   ]
  },
  {
   "cell_type": "code",
   "execution_count": 49,
   "id": "reduced-beauty",
   "metadata": {},
   "outputs": [
    {
     "data": {
      "text/plain": [
       "array([0., 0., 0., 1.])"
      ]
     },
     "execution_count": 49,
     "metadata": {},
     "output_type": "execute_result"
    }
   ],
   "source": [
    "#np.clip([-1, -0.0000005, 0.0, 1.000000001], 0, 1)"
   ]
  },
  {
   "cell_type": "code",
   "execution_count": 53,
   "id": "exterior-festival",
   "metadata": {},
   "outputs": [],
   "source": [
    "scaler = MinMaxScaler()"
   ]
  },
  {
   "cell_type": "code",
   "execution_count": 121,
   "id": "moral-sheep",
   "metadata": {},
   "outputs": [],
   "source": [
    "def process_action(action):\n",
    "    #action = np.clip(action, 0.0, 1.0)\n",
    "    #action = scaler.fit_transform(action.reshape(-1,1)).reshape((96, ))\n",
    "    action = np.clip(action, 0, np.inf)\n",
    "    #action = np.array([act if act > 0 else 0 for act in action])\n",
    "    action = action / sum(action)\n",
    "    return action"
   ]
  },
  {
   "cell_type": "code",
   "execution_count": 122,
   "id": "fabulous-manner",
   "metadata": {},
   "outputs": [
    {
     "name": "stderr",
     "output_type": "stream",
     "text": [
      "/home/alejandro.vaca/reto_series_temporales/env.py:63: RuntimeWarning: divide by zero encountered in log\n",
      "  returns = np.diff(np.log(self.wallet_values))\n",
      "/home/alejandro.vaca/miniconda/envs/series_temporales/lib/python3.7/site-packages/numpy/lib/function_base.py:1280: RuntimeWarning: invalid value encountered in subtract\n",
      "  a = op(a[slice1], a[slice2])\n",
      "/home/alejandro.vaca/miniconda/envs/series_temporales/lib/python3.7/site-packages/empyrical/stats.py:711: RuntimeWarning: Mean of empty slice\n",
      "  nanmean(returns_risk_adj, axis=0),\n",
      "/home/alejandro.vaca/miniconda/envs/series_temporales/lib/python3.7/site-packages/numpy/lib/nanfunctions.py:1665: RuntimeWarning: Degrees of freedom <= 0 for slice.\n",
      "  keepdims=keepdims)\n"
     ]
    }
   ],
   "source": [
    "actions = []\n",
    "done = False\n",
    "obs = env.reset()\n",
    "while not done:\n",
    "    action = agent.compute_action(obs)\n",
    "    obs, reward, done, info = env.step(action)\n",
    "    actions.append(process_action(action))"
   ]
  },
  {
   "cell_type": "code",
   "execution_count": 123,
   "id": "immediate-stanford",
   "metadata": {},
   "outputs": [
    {
     "data": {
      "text/plain": [
       "2228"
      ]
     },
     "execution_count": 123,
     "metadata": {},
     "output_type": "execute_result"
    }
   ],
   "source": [
    "len(actions)"
   ]
  },
  {
   "cell_type": "code",
   "execution_count": 116,
   "id": "bizarre-flesh",
   "metadata": {},
   "outputs": [],
   "source": [
    "#actions[:2]"
   ]
  },
  {
   "cell_type": "code",
   "execution_count": 81,
   "id": "featured-volume",
   "metadata": {},
   "outputs": [
    {
     "data": {
      "text/plain": [
       "True"
      ]
     },
     "execution_count": 81,
     "metadata": {},
     "output_type": "execute_result"
    }
   ],
   "source": [
    "any([sum(act) < 1 for act in actions])"
   ]
  },
  {
   "cell_type": "code",
   "execution_count": 82,
   "id": "adjacent-application",
   "metadata": {},
   "outputs": [
    {
     "data": {
      "text/plain": [
       "True"
      ]
     },
     "execution_count": 82,
     "metadata": {},
     "output_type": "execute_result"
    }
   ],
   "source": [
    "any([sum(act) > 1 for act in actions])"
   ]
  },
  {
   "cell_type": "code",
   "execution_count": 83,
   "id": "eligible-glenn",
   "metadata": {},
   "outputs": [
    {
     "data": {
      "text/plain": [
       "4"
      ]
     },
     "execution_count": 83,
     "metadata": {},
     "output_type": "execute_result"
    }
   ],
   "source": [
    "np.argmax(actions[0])"
   ]
  },
  {
   "cell_type": "code",
   "execution_count": null,
   "id": "super-filling",
   "metadata": {},
   "outputs": [],
   "source": []
  },
  {
   "cell_type": "code",
   "execution_count": 84,
   "id": "regulated-package",
   "metadata": {},
   "outputs": [],
   "source": [
    "actions2 = [actions[0]] + actions"
   ]
  },
  {
   "cell_type": "code",
   "execution_count": 85,
   "id": "meaningful-programmer",
   "metadata": {},
   "outputs": [
    {
     "data": {
      "text/plain": [
       "2229"
      ]
     },
     "execution_count": 85,
     "metadata": {},
     "output_type": "execute_result"
    }
   ],
   "source": [
    "len(actions2)"
   ]
  },
  {
   "cell_type": "code",
   "execution_count": 125,
   "id": "provincial-wings",
   "metadata": {},
   "outputs": [],
   "source": [
    "actions3 = list(map(general_weights_fixer, actions2))"
   ]
  },
  {
   "cell_type": "code",
   "execution_count": 126,
   "id": "equal-promise",
   "metadata": {},
   "outputs": [
    {
     "data": {
      "text/plain": [
       "True"
      ]
     },
     "execution_count": 126,
     "metadata": {},
     "output_type": "execute_result"
    }
   ],
   "source": [
    "all([sum(act) == 1 for act in actions3])"
   ]
  },
  {
   "cell_type": "code",
   "execution_count": 127,
   "id": "minor-romantic",
   "metadata": {},
   "outputs": [
    {
     "data": {
      "text/plain": [
       "False"
      ]
     },
     "execution_count": 127,
     "metadata": {},
     "output_type": "execute_result"
    }
   ],
   "source": [
    "any([sum(act) < 1 for act in actions3])"
   ]
  },
  {
   "cell_type": "code",
   "execution_count": 128,
   "id": "quarterly-adams",
   "metadata": {},
   "outputs": [
    {
     "data": {
      "text/plain": [
       "False"
      ]
     },
     "execution_count": 128,
     "metadata": {},
     "output_type": "execute_result"
    }
   ],
   "source": [
    "any([sum(act) > 1 for act in actions3])"
   ]
  },
  {
   "cell_type": "code",
   "execution_count": 130,
   "id": "positive-bible",
   "metadata": {},
   "outputs": [
    {
     "data": {
      "text/plain": [
       "False"
      ]
     },
     "execution_count": 130,
     "metadata": {},
     "output_type": "execute_result"
    }
   ],
   "source": [
    "any([a < 0  for act in actions3 for a in act])"
   ]
  },
  {
   "cell_type": "code",
   "execution_count": 124,
   "id": "electrical-freeware",
   "metadata": {},
   "outputs": [],
   "source": [
    "def general_weights_fixer(lista):\n",
    "    lista = [round(act, 3) for act in lista]\n",
    "    suma = sum(lista)\n",
    "    if suma > 1:\n",
    "        sobra = suma - 1\n",
    "        idx = np.argmax(lista)\n",
    "        prev = lista[idx]\n",
    "        lista[idx] -= sobra\n",
    "    elif suma < 1:\n",
    "        falta = 1 - suma\n",
    "        idx = np.argmax(lista)\n",
    "        prev = lista[idx]\n",
    "        lista[idx] += falta\n",
    "    return lista"
   ]
  },
  {
   "cell_type": "code",
   "execution_count": 103,
   "id": "radio-mention",
   "metadata": {},
   "outputs": [],
   "source": [
    "import pandas as pd\n",
    "ss = pd.read_csv(\"synthetic_assetsdf.csv\", parse_dates=[\"date\"], index_col=\"date\")"
   ]
  },
  {
   "cell_type": "code",
   "execution_count": 104,
   "id": "lucky-grant",
   "metadata": {},
   "outputs": [
    {
     "data": {
      "text/plain": [
       "Index(['ZVQ_close', 'NCT_close', 'YAX_close', 'OOS_close', 'GFJ_close',\n",
       "       'FIR_close', 'USX_close', 'FSK_close', 'TMF_close', 'TDD_close',\n",
       "       'HEO_close', 'ULT_close', 'CSB_close', 'CIS_close', 'UYZ_close',\n",
       "       'TRO_close', 'YEC_close', 'ERO_close', 'ZAB_close', 'HZY_close',\n",
       "       'MUF_close', 'ZTY_close', 'PUL_close', 'JHI_close', 'LWE_close',\n",
       "       'SEH_close', 'AWW_close', 'GRI_close', 'REU_close', 'ACY_close',\n",
       "       'MMY_close', 'VRT_close', 'ZXW_close', 'LUG_close', 'VVC_close',\n",
       "       'CBY_close', 'WFJ_close', 'PPT_close', 'PEW_close', 'MCA_close',\n",
       "       'IDT_close', 'FFV_close', 'LWK_close', 'ZCD_close', 'ULI_close',\n",
       "       'AUX_close', 'DZF_close', 'NWO_close', 'BAX_close', 'HCC_close',\n",
       "       'JNE_close', 'JTL_close', 'UPP_close', 'WXN_close', 'XRX_close',\n",
       "       'UEI_close', 'LHB_close', 'NYD_close', 'BGN_close', 'SHC_close',\n",
       "       'THA_close', 'TKT_close', 'GRU_close', 'BFS_close', 'SKN_close',\n",
       "       'NVL_close', 'YFC_close', 'GGR_close', 'TER_close', 'NYP_close',\n",
       "       'SBY_close', 'MET_close', 'SYO_close', 'HQU_close', 'BZC_close',\n",
       "       'OXR_close', 'EOP_close', 'ZUJ_close', 'SKI_close', 'NSC_close',\n",
       "       'BSX_close', 'LEN_close', 'PME_close', 'FNM_close', 'EEY_close',\n",
       "       'ERQ_close', 'AZG_close', 'OJG_close', 'WWT_close', 'BOT_close',\n",
       "       'TXR_close', 'RAT_close', 'DIG_close', 'SRI_close', 'PHI_close',\n",
       "       'RWJ_close'],\n",
       "      dtype='object')"
      ]
     },
     "execution_count": 104,
     "metadata": {},
     "output_type": "execute_result"
    }
   ],
   "source": [
    "ss.columns"
   ]
  },
  {
   "cell_type": "code",
   "execution_count": 107,
   "id": "chronic-ground",
   "metadata": {},
   "outputs": [],
   "source": [
    "subm = pd.read_csv(\"submission/submission.csv\")"
   ]
  },
  {
   "cell_type": "code",
   "execution_count": 108,
   "id": "broken-charger",
   "metadata": {},
   "outputs": [
    {
     "data": {
      "text/html": [
       "<div>\n",
       "<style scoped>\n",
       "    .dataframe tbody tr th:only-of-type {\n",
       "        vertical-align: middle;\n",
       "    }\n",
       "\n",
       "    .dataframe tbody tr th {\n",
       "        vertical-align: top;\n",
       "    }\n",
       "\n",
       "    .dataframe thead th {\n",
       "        text-align: right;\n",
       "    }\n",
       "</style>\n",
       "<table border=\"1\" class=\"dataframe\">\n",
       "  <thead>\n",
       "    <tr style=\"text-align: right;\">\n",
       "      <th></th>\n",
       "      <th>eod_ts</th>\n",
       "      <th>allo_REU</th>\n",
       "      <th>allo_VRT</th>\n",
       "      <th>allo_EEY</th>\n",
       "      <th>allo_JTL</th>\n",
       "      <th>allo_SEH</th>\n",
       "      <th>allo_BSX</th>\n",
       "      <th>allo_OJG</th>\n",
       "      <th>allo_UEI</th>\n",
       "      <th>allo_HQU</th>\n",
       "      <th>allo_ZXW</th>\n",
       "      <th>allo_LEN</th>\n",
       "      <th>allo_YEC</th>\n",
       "      <th>allo_UYZ</th>\n",
       "      <th>allo_LWK</th>\n",
       "      <th>allo_ACY</th>\n",
       "      <th>allo_HEO</th>\n",
       "      <th>allo_FIR</th>\n",
       "      <th>allo_BGN</th>\n",
       "    </tr>\n",
       "  </thead>\n",
       "  <tbody>\n",
       "    <tr>\n",
       "      <th>0</th>\n",
       "      <td>2020-08-18 00:00:00</td>\n",
       "      <td>0.114379</td>\n",
       "      <td>0.029099</td>\n",
       "      <td>0.013186</td>\n",
       "      <td>0.101076</td>\n",
       "      <td>0.101519</td>\n",
       "      <td>0.057257</td>\n",
       "      <td>0.027439</td>\n",
       "      <td>0.018777</td>\n",
       "      <td>0.053406</td>\n",
       "      <td>0.080812</td>\n",
       "      <td>0.020080</td>\n",
       "      <td>0.087687</td>\n",
       "      <td>0.070070</td>\n",
       "      <td>0.099456</td>\n",
       "      <td>0.029514</td>\n",
       "      <td>0.037835</td>\n",
       "      <td>0.016323</td>\n",
       "      <td>0.042084</td>\n",
       "    </tr>\n",
       "    <tr>\n",
       "      <th>1</th>\n",
       "      <td>2020-08-18 01:00:00</td>\n",
       "      <td>0.014112</td>\n",
       "      <td>0.088849</td>\n",
       "      <td>0.022711</td>\n",
       "      <td>0.026985</td>\n",
       "      <td>0.003099</td>\n",
       "      <td>0.040348</td>\n",
       "      <td>0.045789</td>\n",
       "      <td>0.121986</td>\n",
       "      <td>0.114450</td>\n",
       "      <td>0.107733</td>\n",
       "      <td>0.024035</td>\n",
       "      <td>0.043220</td>\n",
       "      <td>0.093317</td>\n",
       "      <td>0.008298</td>\n",
       "      <td>0.086308</td>\n",
       "      <td>0.065200</td>\n",
       "      <td>0.041210</td>\n",
       "      <td>0.052349</td>\n",
       "    </tr>\n",
       "    <tr>\n",
       "      <th>2</th>\n",
       "      <td>2020-08-18 02:00:00</td>\n",
       "      <td>0.069645</td>\n",
       "      <td>0.046509</td>\n",
       "      <td>0.026061</td>\n",
       "      <td>0.086234</td>\n",
       "      <td>0.045954</td>\n",
       "      <td>0.058223</td>\n",
       "      <td>0.046801</td>\n",
       "      <td>0.045134</td>\n",
       "      <td>0.121548</td>\n",
       "      <td>0.014297</td>\n",
       "      <td>0.067253</td>\n",
       "      <td>0.083320</td>\n",
       "      <td>0.043973</td>\n",
       "      <td>0.090604</td>\n",
       "      <td>0.016118</td>\n",
       "      <td>0.120136</td>\n",
       "      <td>0.016471</td>\n",
       "      <td>0.001718</td>\n",
       "    </tr>\n",
       "    <tr>\n",
       "      <th>3</th>\n",
       "      <td>2020-08-18 03:00:00</td>\n",
       "      <td>0.107072</td>\n",
       "      <td>0.035263</td>\n",
       "      <td>0.106222</td>\n",
       "      <td>0.007086</td>\n",
       "      <td>0.055552</td>\n",
       "      <td>0.042929</td>\n",
       "      <td>0.093544</td>\n",
       "      <td>0.069414</td>\n",
       "      <td>0.014073</td>\n",
       "      <td>0.037031</td>\n",
       "      <td>0.023287</td>\n",
       "      <td>0.088242</td>\n",
       "      <td>0.049342</td>\n",
       "      <td>0.074206</td>\n",
       "      <td>0.069467</td>\n",
       "      <td>0.104633</td>\n",
       "      <td>0.020961</td>\n",
       "      <td>0.001674</td>\n",
       "    </tr>\n",
       "    <tr>\n",
       "      <th>4</th>\n",
       "      <td>2020-08-18 04:00:00</td>\n",
       "      <td>0.060190</td>\n",
       "      <td>0.069420</td>\n",
       "      <td>0.027955</td>\n",
       "      <td>0.077568</td>\n",
       "      <td>0.062527</td>\n",
       "      <td>0.049295</td>\n",
       "      <td>0.003327</td>\n",
       "      <td>0.006662</td>\n",
       "      <td>0.019053</td>\n",
       "      <td>0.075851</td>\n",
       "      <td>0.075360</td>\n",
       "      <td>0.079179</td>\n",
       "      <td>0.023196</td>\n",
       "      <td>0.082323</td>\n",
       "      <td>0.090402</td>\n",
       "      <td>0.097320</td>\n",
       "      <td>0.015146</td>\n",
       "      <td>0.085227</td>\n",
       "    </tr>\n",
       "  </tbody>\n",
       "</table>\n",
       "</div>"
      ],
      "text/plain": [
       "                eod_ts  allo_REU  allo_VRT  allo_EEY  allo_JTL  allo_SEH  \\\n",
       "0  2020-08-18 00:00:00  0.114379  0.029099  0.013186  0.101076  0.101519   \n",
       "1  2020-08-18 01:00:00  0.014112  0.088849  0.022711  0.026985  0.003099   \n",
       "2  2020-08-18 02:00:00  0.069645  0.046509  0.026061  0.086234  0.045954   \n",
       "3  2020-08-18 03:00:00  0.107072  0.035263  0.106222  0.007086  0.055552   \n",
       "4  2020-08-18 04:00:00  0.060190  0.069420  0.027955  0.077568  0.062527   \n",
       "\n",
       "   allo_BSX  allo_OJG  allo_UEI  allo_HQU  allo_ZXW  allo_LEN  allo_YEC  \\\n",
       "0  0.057257  0.027439  0.018777  0.053406  0.080812  0.020080  0.087687   \n",
       "1  0.040348  0.045789  0.121986  0.114450  0.107733  0.024035  0.043220   \n",
       "2  0.058223  0.046801  0.045134  0.121548  0.014297  0.067253  0.083320   \n",
       "3  0.042929  0.093544  0.069414  0.014073  0.037031  0.023287  0.088242   \n",
       "4  0.049295  0.003327  0.006662  0.019053  0.075851  0.075360  0.079179   \n",
       "\n",
       "   allo_UYZ  allo_LWK  allo_ACY  allo_HEO  allo_FIR  allo_BGN  \n",
       "0  0.070070  0.099456  0.029514  0.037835  0.016323  0.042084  \n",
       "1  0.093317  0.008298  0.086308  0.065200  0.041210  0.052349  \n",
       "2  0.043973  0.090604  0.016118  0.120136  0.016471  0.001718  \n",
       "3  0.049342  0.074206  0.069467  0.104633  0.020961  0.001674  \n",
       "4  0.023196  0.082323  0.090402  0.097320  0.015146  0.085227  "
      ]
     },
     "execution_count": 108,
     "metadata": {},
     "output_type": "execute_result"
    }
   ],
   "source": [
    "subm.head()"
   ]
  },
  {
   "cell_type": "code",
   "execution_count": 131,
   "id": "twelve-marble",
   "metadata": {},
   "outputs": [],
   "source": [
    "def get_submission(actions, index, reference_df):\n",
    "    cols =  [f\"allo_{col.replace('_close', '')}\" for col in reference_df.columns]\n",
    "    df = pd.DataFrame(actions, columns=cols)\n",
    "    df.insert(0, \"eod_ts\", index)\n",
    "    return df"
   ]
  },
  {
   "cell_type": "code",
   "execution_count": 132,
   "id": "plastic-bedroom",
   "metadata": {},
   "outputs": [],
   "source": [
    "submission = get_submission(actions3, subm[\"eod_ts\"], ss)"
   ]
  },
  {
   "cell_type": "code",
   "execution_count": 133,
   "id": "disturbed-income",
   "metadata": {},
   "outputs": [
    {
     "data": {
      "text/html": [
       "<div>\n",
       "<style scoped>\n",
       "    .dataframe tbody tr th:only-of-type {\n",
       "        vertical-align: middle;\n",
       "    }\n",
       "\n",
       "    .dataframe tbody tr th {\n",
       "        vertical-align: top;\n",
       "    }\n",
       "\n",
       "    .dataframe thead th {\n",
       "        text-align: right;\n",
       "    }\n",
       "</style>\n",
       "<table border=\"1\" class=\"dataframe\">\n",
       "  <thead>\n",
       "    <tr style=\"text-align: right;\">\n",
       "      <th></th>\n",
       "      <th>eod_ts</th>\n",
       "      <th>allo_ZVQ</th>\n",
       "      <th>allo_NCT</th>\n",
       "      <th>allo_YAX</th>\n",
       "      <th>allo_OOS</th>\n",
       "      <th>allo_GFJ</th>\n",
       "      <th>allo_FIR</th>\n",
       "      <th>allo_USX</th>\n",
       "      <th>allo_FSK</th>\n",
       "      <th>allo_TMF</th>\n",
       "      <th>...</th>\n",
       "      <th>allo_AZG</th>\n",
       "      <th>allo_OJG</th>\n",
       "      <th>allo_WWT</th>\n",
       "      <th>allo_BOT</th>\n",
       "      <th>allo_TXR</th>\n",
       "      <th>allo_RAT</th>\n",
       "      <th>allo_DIG</th>\n",
       "      <th>allo_SRI</th>\n",
       "      <th>allo_PHI</th>\n",
       "      <th>allo_RWJ</th>\n",
       "    </tr>\n",
       "  </thead>\n",
       "  <tbody>\n",
       "    <tr>\n",
       "      <th>0</th>\n",
       "      <td>2020-08-18 00:00:00</td>\n",
       "      <td>0.000</td>\n",
       "      <td>0.000</td>\n",
       "      <td>0.000</td>\n",
       "      <td>0.0</td>\n",
       "      <td>0.029</td>\n",
       "      <td>0.000</td>\n",
       "      <td>0.000</td>\n",
       "      <td>0.000</td>\n",
       "      <td>0.026</td>\n",
       "      <td>...</td>\n",
       "      <td>0.00</td>\n",
       "      <td>0.000</td>\n",
       "      <td>0.026</td>\n",
       "      <td>0.000</td>\n",
       "      <td>0.000</td>\n",
       "      <td>0.004</td>\n",
       "      <td>0.026</td>\n",
       "      <td>0.000</td>\n",
       "      <td>0.026</td>\n",
       "      <td>0.018</td>\n",
       "    </tr>\n",
       "    <tr>\n",
       "      <th>1</th>\n",
       "      <td>2020-08-18 01:00:00</td>\n",
       "      <td>0.000</td>\n",
       "      <td>0.000</td>\n",
       "      <td>0.000</td>\n",
       "      <td>0.0</td>\n",
       "      <td>0.029</td>\n",
       "      <td>0.000</td>\n",
       "      <td>0.000</td>\n",
       "      <td>0.000</td>\n",
       "      <td>0.026</td>\n",
       "      <td>...</td>\n",
       "      <td>0.00</td>\n",
       "      <td>0.000</td>\n",
       "      <td>0.026</td>\n",
       "      <td>0.000</td>\n",
       "      <td>0.000</td>\n",
       "      <td>0.004</td>\n",
       "      <td>0.026</td>\n",
       "      <td>0.000</td>\n",
       "      <td>0.026</td>\n",
       "      <td>0.018</td>\n",
       "    </tr>\n",
       "    <tr>\n",
       "      <th>2</th>\n",
       "      <td>2020-08-18 02:00:00</td>\n",
       "      <td>0.000</td>\n",
       "      <td>0.018</td>\n",
       "      <td>0.000</td>\n",
       "      <td>0.0</td>\n",
       "      <td>0.008</td>\n",
       "      <td>0.000</td>\n",
       "      <td>0.031</td>\n",
       "      <td>0.000</td>\n",
       "      <td>0.014</td>\n",
       "      <td>...</td>\n",
       "      <td>0.03</td>\n",
       "      <td>0.001</td>\n",
       "      <td>0.000</td>\n",
       "      <td>0.030</td>\n",
       "      <td>0.009</td>\n",
       "      <td>0.004</td>\n",
       "      <td>0.030</td>\n",
       "      <td>0.021</td>\n",
       "      <td>0.012</td>\n",
       "      <td>0.000</td>\n",
       "    </tr>\n",
       "    <tr>\n",
       "      <th>3</th>\n",
       "      <td>2020-08-18 03:00:00</td>\n",
       "      <td>0.020</td>\n",
       "      <td>0.002</td>\n",
       "      <td>0.033</td>\n",
       "      <td>0.0</td>\n",
       "      <td>0.000</td>\n",
       "      <td>0.014</td>\n",
       "      <td>0.000</td>\n",
       "      <td>0.023</td>\n",
       "      <td>0.006</td>\n",
       "      <td>...</td>\n",
       "      <td>0.00</td>\n",
       "      <td>0.000</td>\n",
       "      <td>0.000</td>\n",
       "      <td>0.000</td>\n",
       "      <td>0.010</td>\n",
       "      <td>0.000</td>\n",
       "      <td>0.000</td>\n",
       "      <td>0.000</td>\n",
       "      <td>0.000</td>\n",
       "      <td>0.000</td>\n",
       "    </tr>\n",
       "    <tr>\n",
       "      <th>4</th>\n",
       "      <td>2020-08-18 04:00:00</td>\n",
       "      <td>0.036</td>\n",
       "      <td>0.009</td>\n",
       "      <td>0.000</td>\n",
       "      <td>0.0</td>\n",
       "      <td>0.000</td>\n",
       "      <td>0.016</td>\n",
       "      <td>0.000</td>\n",
       "      <td>0.000</td>\n",
       "      <td>0.000</td>\n",
       "      <td>...</td>\n",
       "      <td>0.00</td>\n",
       "      <td>0.000</td>\n",
       "      <td>0.030</td>\n",
       "      <td>0.006</td>\n",
       "      <td>0.000</td>\n",
       "      <td>0.009</td>\n",
       "      <td>0.000</td>\n",
       "      <td>0.000</td>\n",
       "      <td>0.030</td>\n",
       "      <td>0.000</td>\n",
       "    </tr>\n",
       "  </tbody>\n",
       "</table>\n",
       "<p>5 rows × 97 columns</p>\n",
       "</div>"
      ],
      "text/plain": [
       "                eod_ts  allo_ZVQ  allo_NCT  allo_YAX  allo_OOS  allo_GFJ  \\\n",
       "0  2020-08-18 00:00:00     0.000     0.000     0.000       0.0     0.029   \n",
       "1  2020-08-18 01:00:00     0.000     0.000     0.000       0.0     0.029   \n",
       "2  2020-08-18 02:00:00     0.000     0.018     0.000       0.0     0.008   \n",
       "3  2020-08-18 03:00:00     0.020     0.002     0.033       0.0     0.000   \n",
       "4  2020-08-18 04:00:00     0.036     0.009     0.000       0.0     0.000   \n",
       "\n",
       "   allo_FIR  allo_USX  allo_FSK  allo_TMF  ...  allo_AZG  allo_OJG  allo_WWT  \\\n",
       "0     0.000     0.000     0.000     0.026  ...      0.00     0.000     0.026   \n",
       "1     0.000     0.000     0.000     0.026  ...      0.00     0.000     0.026   \n",
       "2     0.000     0.031     0.000     0.014  ...      0.03     0.001     0.000   \n",
       "3     0.014     0.000     0.023     0.006  ...      0.00     0.000     0.000   \n",
       "4     0.016     0.000     0.000     0.000  ...      0.00     0.000     0.030   \n",
       "\n",
       "   allo_BOT  allo_TXR  allo_RAT  allo_DIG  allo_SRI  allo_PHI  allo_RWJ  \n",
       "0     0.000     0.000     0.004     0.026     0.000     0.026     0.018  \n",
       "1     0.000     0.000     0.004     0.026     0.000     0.026     0.018  \n",
       "2     0.030     0.009     0.004     0.030     0.021     0.012     0.000  \n",
       "3     0.000     0.010     0.000     0.000     0.000     0.000     0.000  \n",
       "4     0.006     0.000     0.009     0.000     0.000     0.030     0.000  \n",
       "\n",
       "[5 rows x 97 columns]"
      ]
     },
     "execution_count": 133,
     "metadata": {},
     "output_type": "execute_result"
    }
   ],
   "source": [
    "submission.head()"
   ]
  },
  {
   "cell_type": "code",
   "execution_count": 134,
   "id": "understood-portsmouth",
   "metadata": {},
   "outputs": [],
   "source": [
    "submission.to_csv(\"submission_1102_2.csv\", header=True, index=False)"
   ]
  },
  {
   "cell_type": "code",
   "execution_count": null,
   "id": "compatible-darkness",
   "metadata": {},
   "outputs": [],
   "source": [
    " "
   ]
  }
 ],
 "metadata": {
  "kernelspec": {
   "display_name": "Python [conda env:series_temporales] *",
   "language": "python",
   "name": "conda-env-series_temporales-py"
  },
  "language_info": {
   "codemirror_mode": {
    "name": "ipython",
    "version": 3
   },
   "file_extension": ".py",
   "mimetype": "text/x-python",
   "name": "python",
   "nbconvert_exporter": "python",
   "pygments_lexer": "ipython3",
   "version": "3.7.9"
  }
 },
 "nbformat": 4,
 "nbformat_minor": 5
}
