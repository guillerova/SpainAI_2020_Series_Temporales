{
 "cells": [
  {
   "cell_type": "code",
   "execution_count": 17,
   "id": "configured-prior",
   "metadata": {},
   "outputs": [],
   "source": [
    "from data_utils import read_all_candles, read_all_scores, _cut_special\n",
    "import numpy as np\n",
    "from submission_utils import get_submission_markowitz, test_submission\n",
    "import pandas as pd\n",
    "import matplotlib.pyplot as plt"
   ]
  },
  {
   "cell_type": "code",
   "execution_count": 2,
   "id": "aquatic-rouge",
   "metadata": {},
   "outputs": [
    {
     "name": "stderr",
     "output_type": "stream",
     "text": [
      "Getting candles data for Darwins...: 100%|██████████| 96/96 [00:01<00:00, 53.53it/s]\n"
     ]
    }
   ],
   "source": [
    "candles = read_all_candles()"
   ]
  },
  {
   "cell_type": "code",
   "execution_count": 3,
   "id": "herbal-genealogy",
   "metadata": {},
   "outputs": [
    {
     "name": "stderr",
     "output_type": "stream",
     "text": [
      "100%|██████████| 94/94 [00:01<00:00, 92.10it/s]\n"
     ]
    }
   ],
   "source": [
    "scores = read_all_scores()"
   ]
  },
  {
   "cell_type": "code",
   "execution_count": 4,
   "id": "mexican-archive",
   "metadata": {},
   "outputs": [
    {
     "data": {
      "text/html": [
       "<div>\n",
       "<style scoped>\n",
       "    .dataframe tbody tr th:only-of-type {\n",
       "        vertical-align: middle;\n",
       "    }\n",
       "\n",
       "    .dataframe tbody tr th {\n",
       "        vertical-align: top;\n",
       "    }\n",
       "\n",
       "    .dataframe thead th {\n",
       "        text-align: right;\n",
       "    }\n",
       "</style>\n",
       "<table border=\"1\" class=\"dataframe\">\n",
       "  <thead>\n",
       "    <tr style=\"text-align: right;\">\n",
       "      <th></th>\n",
       "      <th>Dp</th>\n",
       "      <th>Ex</th>\n",
       "      <th>Mc</th>\n",
       "      <th>Rs</th>\n",
       "      <th>Ra</th>\n",
       "      <th>Os</th>\n",
       "      <th>Cs</th>\n",
       "      <th>Rp</th>\n",
       "      <th>Rm</th>\n",
       "      <th>Dc</th>\n",
       "      <th>La</th>\n",
       "      <th>Pf</th>\n",
       "      <th>Cp</th>\n",
       "      <th>Ds</th>\n",
       "      <th>fcal_ts</th>\n",
       "      <th>lcal_ts</th>\n",
       "    </tr>\n",
       "    <tr>\n",
       "      <th>eod_ts</th>\n",
       "      <th></th>\n",
       "      <th></th>\n",
       "      <th></th>\n",
       "      <th></th>\n",
       "      <th></th>\n",
       "      <th></th>\n",
       "      <th></th>\n",
       "      <th></th>\n",
       "      <th></th>\n",
       "      <th></th>\n",
       "      <th></th>\n",
       "      <th></th>\n",
       "      <th></th>\n",
       "      <th></th>\n",
       "      <th></th>\n",
       "      <th></th>\n",
       "    </tr>\n",
       "  </thead>\n",
       "  <tbody>\n",
       "    <tr>\n",
       "      <th>2019-06-24 21:00:00</th>\n",
       "      <td>0.000000</td>\n",
       "      <td>0.000000</td>\n",
       "      <td>0.0</td>\n",
       "      <td>10.0</td>\n",
       "      <td>0.000000</td>\n",
       "      <td>10.000000</td>\n",
       "      <td>10.000000</td>\n",
       "      <td>0.0</td>\n",
       "      <td>0.0</td>\n",
       "      <td>0.0</td>\n",
       "      <td>0.0</td>\n",
       "      <td>0.000000</td>\n",
       "      <td>0.000000</td>\n",
       "      <td>0.297619</td>\n",
       "      <td>2019-06-24 23:00:00.000</td>\n",
       "      <td>2020-08-24 17:40:14.464</td>\n",
       "    </tr>\n",
       "    <tr>\n",
       "      <th>2019-06-25 21:00:00</th>\n",
       "      <td>0.000000</td>\n",
       "      <td>0.000000</td>\n",
       "      <td>0.0</td>\n",
       "      <td>10.0</td>\n",
       "      <td>10.000000</td>\n",
       "      <td>1.467391</td>\n",
       "      <td>6.975000</td>\n",
       "      <td>0.0</td>\n",
       "      <td>0.0</td>\n",
       "      <td>0.0</td>\n",
       "      <td>0.0</td>\n",
       "      <td>8.631168</td>\n",
       "      <td>0.000000</td>\n",
       "      <td>0.595311</td>\n",
       "      <td>2019-06-25 23:00:00.000</td>\n",
       "      <td>2020-08-24 17:40:14.464</td>\n",
       "    </tr>\n",
       "    <tr>\n",
       "      <th>2019-06-26 21:00:00</th>\n",
       "      <td>0.055556</td>\n",
       "      <td>0.046296</td>\n",
       "      <td>0.0</td>\n",
       "      <td>10.0</td>\n",
       "      <td>0.207532</td>\n",
       "      <td>2.995192</td>\n",
       "      <td>9.471649</td>\n",
       "      <td>0.0</td>\n",
       "      <td>0.0</td>\n",
       "      <td>0.0</td>\n",
       "      <td>0.0</td>\n",
       "      <td>8.195091</td>\n",
       "      <td>0.546517</td>\n",
       "      <td>0.893102</td>\n",
       "      <td>2019-06-26 23:00:00.000</td>\n",
       "      <td>2020-08-24 17:40:14.464</td>\n",
       "    </tr>\n",
       "    <tr>\n",
       "      <th>2019-06-27 21:00:00</th>\n",
       "      <td>0.102405</td>\n",
       "      <td>0.085338</td>\n",
       "      <td>0.0</td>\n",
       "      <td>10.0</td>\n",
       "      <td>0.207532</td>\n",
       "      <td>2.995192</td>\n",
       "      <td>9.471649</td>\n",
       "      <td>0.0</td>\n",
       "      <td>0.0</td>\n",
       "      <td>0.0</td>\n",
       "      <td>0.0</td>\n",
       "      <td>7.974192</td>\n",
       "      <td>1.162631</td>\n",
       "      <td>1.190982</td>\n",
       "      <td>2019-06-27 23:00:00.000</td>\n",
       "      <td>2020-08-24 17:40:14.464</td>\n",
       "    </tr>\n",
       "    <tr>\n",
       "      <th>2019-06-28 21:00:00</th>\n",
       "      <td>0.102405</td>\n",
       "      <td>0.085338</td>\n",
       "      <td>0.0</td>\n",
       "      <td>10.0</td>\n",
       "      <td>2.008004</td>\n",
       "      <td>6.541667</td>\n",
       "      <td>9.514286</td>\n",
       "      <td>0.0</td>\n",
       "      <td>0.0</td>\n",
       "      <td>0.0</td>\n",
       "      <td>0.0</td>\n",
       "      <td>9.473223</td>\n",
       "      <td>1.677234</td>\n",
       "      <td>1.489235</td>\n",
       "      <td>2019-06-28 23:00:00.000</td>\n",
       "      <td>2020-08-24 17:40:14.464</td>\n",
       "    </tr>\n",
       "  </tbody>\n",
       "</table>\n",
       "</div>"
      ],
      "text/plain": [
       "                           Dp        Ex   Mc    Rs         Ra         Os  \\\n",
       "eod_ts                                                                     \n",
       "2019-06-24 21:00:00  0.000000  0.000000  0.0  10.0   0.000000  10.000000   \n",
       "2019-06-25 21:00:00  0.000000  0.000000  0.0  10.0  10.000000   1.467391   \n",
       "2019-06-26 21:00:00  0.055556  0.046296  0.0  10.0   0.207532   2.995192   \n",
       "2019-06-27 21:00:00  0.102405  0.085338  0.0  10.0   0.207532   2.995192   \n",
       "2019-06-28 21:00:00  0.102405  0.085338  0.0  10.0   2.008004   6.541667   \n",
       "\n",
       "                            Cs   Rp   Rm   Dc   La        Pf        Cp  \\\n",
       "eod_ts                                                                   \n",
       "2019-06-24 21:00:00  10.000000  0.0  0.0  0.0  0.0  0.000000  0.000000   \n",
       "2019-06-25 21:00:00   6.975000  0.0  0.0  0.0  0.0  8.631168  0.000000   \n",
       "2019-06-26 21:00:00   9.471649  0.0  0.0  0.0  0.0  8.195091  0.546517   \n",
       "2019-06-27 21:00:00   9.471649  0.0  0.0  0.0  0.0  7.974192  1.162631   \n",
       "2019-06-28 21:00:00   9.514286  0.0  0.0  0.0  0.0  9.473223  1.677234   \n",
       "\n",
       "                           Ds                  fcal_ts  \\\n",
       "eod_ts                                                   \n",
       "2019-06-24 21:00:00  0.297619  2019-06-24 23:00:00.000   \n",
       "2019-06-25 21:00:00  0.595311  2019-06-25 23:00:00.000   \n",
       "2019-06-26 21:00:00  0.893102  2019-06-26 23:00:00.000   \n",
       "2019-06-27 21:00:00  1.190982  2019-06-27 23:00:00.000   \n",
       "2019-06-28 21:00:00  1.489235  2019-06-28 23:00:00.000   \n",
       "\n",
       "                                     lcal_ts  \n",
       "eod_ts                                        \n",
       "2019-06-24 21:00:00  2020-08-24 17:40:14.464  \n",
       "2019-06-25 21:00:00  2020-08-24 17:40:14.464  \n",
       "2019-06-26 21:00:00  2020-08-24 17:40:14.464  \n",
       "2019-06-27 21:00:00  2020-08-24 17:40:14.464  \n",
       "2019-06-28 21:00:00  2020-08-24 17:40:14.464  "
      ]
     },
     "execution_count": 4,
     "metadata": {},
     "output_type": "execute_result"
    }
   ],
   "source": [
    "scores[\"ZUJ\"].head()"
   ]
  },
  {
   "cell_type": "code",
   "execution_count": 5,
   "id": "english-spouse",
   "metadata": {},
   "outputs": [],
   "source": [
    "def _compute_weighted_mean(df):\n",
    "    means = df[\"Pf\"].values  # mean_score\n",
    "    weights = np.linspace(0.0, 1.0, len(means))\n",
    "    mean = sum([mu * w / sum(weights) for mu, w in zip(means, weights)]) / len(means)\n",
    "    return mean"
   ]
  },
  {
   "cell_type": "code",
   "execution_count": 11,
   "id": "fatal-moisture",
   "metadata": {},
   "outputs": [],
   "source": [
    "def _compute_mean_perf(df):\n",
    "    # df = _cut_special(df, first=\"2020-05-01\")\n",
    "    return df[\"Pf\"].mean()"
   ]
  },
  {
   "cell_type": "code",
   "execution_count": 12,
   "id": "independent-penny",
   "metadata": {},
   "outputs": [],
   "source": [
    "candles = {k: v for k, v in candles.items() if k in scores}"
   ]
  },
  {
   "cell_type": "code",
   "execution_count": 13,
   "id": "plastic-present",
   "metadata": {},
   "outputs": [
    {
     "data": {
      "text/plain": [
       "True"
      ]
     },
     "execution_count": 13,
     "metadata": {},
     "output_type": "execute_result"
    }
   ],
   "source": [
    "\"UYZ\" in candles"
   ]
  },
  {
   "cell_type": "code",
   "execution_count": 14,
   "id": "tired-dylan",
   "metadata": {},
   "outputs": [
    {
     "data": {
      "text/plain": [
       "True"
      ]
     },
     "execution_count": 14,
     "metadata": {},
     "output_type": "execute_result"
    }
   ],
   "source": [
    "\"ERQ\" in candles"
   ]
  },
  {
   "cell_type": "code",
   "execution_count": 15,
   "id": "existing-spirituality",
   "metadata": {},
   "outputs": [
    {
     "data": {
      "text/plain": [
       "94"
      ]
     },
     "execution_count": 15,
     "metadata": {},
     "output_type": "execute_result"
    }
   ],
   "source": [
    "len(candles)"
   ]
  },
  {
   "cell_type": "code",
   "execution_count": 16,
   "id": "accomplished-mention",
   "metadata": {},
   "outputs": [],
   "source": [
    "scores_mean_perf = {k: _compute_mean_perf(v) for k, v in scores.items()}"
   ]
  },
  {
   "cell_type": "code",
   "execution_count": 20,
   "id": "labeled-appeal",
   "metadata": {},
   "outputs": [],
   "source": [
    "good_scores_assets = [\n",
    "    asset for asset, val in scores_mean_perf.items()\n",
    "    if val >= 7.0\n",
    "]"
   ]
  },
  {
   "cell_type": "code",
   "execution_count": 23,
   "id": "organic-access",
   "metadata": {},
   "outputs": [],
   "source": [
    "bad_scores_assets = [\n",
    "    asset for asset, val in scores_mean_perf.items()\n",
    "    if val < 7.0\n",
    "]"
   ]
  },
  {
   "cell_type": "code",
   "execution_count": 18,
   "id": "operational-wright",
   "metadata": {},
   "outputs": [],
   "source": [
    "mean_scores_list = [score for score in scores_mean_perf.values()]"
   ]
  },
  {
   "cell_type": "code",
   "execution_count": 19,
   "id": "impressed-publication",
   "metadata": {},
   "outputs": [
    {
     "data": {
      "text/plain": [
       "(array([ 3.,  4.,  4.,  2.,  9., 13., 12., 21., 12., 14.]),\n",
       " array([5.22148546, 5.67843445, 6.13538345, 6.59233244, 7.04928144,\n",
       "        7.50623043, 7.96317943, 8.42012842, 8.87707742, 9.33402641,\n",
       "        9.79097541]),\n",
       " <a list of 10 Patch objects>)"
      ]
     },
     "execution_count": 19,
     "metadata": {},
     "output_type": "execute_result"
    },
    {
     "data": {
      "image/png": "[encoded data removed]",
      "text/plain": [
       "<Figure size 432x288 with 1 Axes>"
      ]
     },
     "metadata": {
      "needs_background": "light"
     },
     "output_type": "display_data"
    }
   ],
   "source": [
    "plt.hist(mean_scores_list)"
   ]
  },
  {
   "cell_type": "code",
   "execution_count": 21,
   "id": "vulnerable-repository",
   "metadata": {},
   "outputs": [
    {
     "data": {
      "text/plain": [
       "82"
      ]
     },
     "execution_count": 21,
     "metadata": {},
     "output_type": "execute_result"
    }
   ],
   "source": [
    "len(good_scores_assets)"
   ]
  },
  {
   "cell_type": "code",
   "execution_count": 26,
   "id": "secret-semester",
   "metadata": {},
   "outputs": [
    {
     "data": {
      "text/plain": [
       "['JTL',\n",
       " 'LWK',\n",
       " 'SHC',\n",
       " 'PHI',\n",
       " 'PEW',\n",
       " 'LHB',\n",
       " 'UEI',\n",
       " 'MET',\n",
       " 'YFC',\n",
       " 'SRI',\n",
       " 'ULI',\n",
       " 'MCA']"
      ]
     },
     "execution_count": 26,
     "metadata": {},
     "output_type": "execute_result"
    }
   ],
   "source": [
    "bad_scores_assets"
   ]
  },
  {
   "cell_type": "code",
   "execution_count": 46,
   "id": "competitive-insurance",
   "metadata": {
    "collapsed": true
   },
   "outputs": [
    {
     "data": {
      "text/plain": [
       "{'GRU': 9.089586291753788,\n",
       " 'TMF': 9.999803393396537,\n",
       " 'THA': 9.398361855656393,\n",
       " 'JTL': 9.757699192715096,\n",
       " 'LWK': 9.276184129798246,\n",
       " 'CIS': 9.878183496947258,\n",
       " 'GGR': 7.92602236992265,\n",
       " 'VRT': 9.409154717153518,\n",
       " 'VVC': 4.81332840862079,\n",
       " 'GRI': 8.324837722997177,\n",
       " 'CBY': 6.405379030828284,\n",
       " 'BAX': 9.236508699479117,\n",
       " 'DIG': 9.919114648097905,\n",
       " 'SHC': 9.64095399247337,\n",
       " 'LWE': 9.847382948493781,\n",
       " 'HEO': 9.813764584221314,\n",
       " 'RAT': 7.564274063111471,\n",
       " 'AWW': 9.680052063309008,\n",
       " 'NYD': 9.0013102668056,\n",
       " 'ZUJ': 9.552253461972539,\n",
       " 'AUX': 9.78760633836104,\n",
       " 'FFV': 8.782046240269302,\n",
       " 'PME': 9.89436608895998,\n",
       " 'ULT': 9.93947434601841,\n",
       " 'DZF': 9.827968543104904,\n",
       " 'ZAB': 8.644851410249402,\n",
       " 'ZCD': 9.827532193349441,\n",
       " 'USX': 9.929181444644486,\n",
       " 'SBY': 9.981088358759507,\n",
       " 'BFS': 8.46145261896242,\n",
       " 'CSB': 9.330948273943408,\n",
       " 'PHI': 8.019456120839852,\n",
       " 'ERO': 9.65264378478128,\n",
       " 'PEW': 8.220868404612538,\n",
       " 'YAX': 9.696726916155235,\n",
       " 'PPT': 9.637066285137761,\n",
       " 'WFJ': 8.764936979848123,\n",
       " 'FIR': 9.894737042171391,\n",
       " 'HQU': 7.721423440644959,\n",
       " 'TER': 7.049267738471494,\n",
       " 'WWT': 5.62352573762008,\n",
       " 'OXR': 9.702979766278453,\n",
       " 'LHB': 9.833457813976805,\n",
       " 'BOT': 8.025216841452236,\n",
       " 'HZY': 7.552567508770621,\n",
       " 'TXR': 8.449317927629389,\n",
       " 'EEY': 9.330112747590496,\n",
       " 'ERQ': 9.916606352846244,\n",
       " 'LUG': 8.663315939647385,\n",
       " 'NCT': 8.870266224996389,\n",
       " 'UPP': 9.266900401065092,\n",
       " 'BSX': 7.972201292309667,\n",
       " 'FSK': 1.6045646133980835,\n",
       " 'ZXW': 5.57237742390105,\n",
       " 'RWJ': 9.696202146982213,\n",
       " 'TDD': 8.940047290500521,\n",
       " 'YEC': 6.5056007594484795,\n",
       " 'AZG': 8.048793424025375,\n",
       " 'HCC': 9.83808120060935,\n",
       " 'UYZ': 6.434317756022853,\n",
       " 'REU': 9.236065289327236,\n",
       " 'SKN': 8.997815578248447,\n",
       " 'PUL': 6.441440899098427,\n",
       " 'ZTY': 6.139669760525831,\n",
       " 'BZC': 9.952506873085051,\n",
       " 'GFJ': 9.295132747423619,\n",
       " 'SEH': 9.493019229565224,\n",
       " 'ACY': 9.160086132175122,\n",
       " 'TKT': 8.756037200702842,\n",
       " 'UEI': 8.725792902610515,\n",
       " 'MET': 8.782226086869498,\n",
       " 'YFC': 8.422361400613694,\n",
       " 'JHI': 8.655124839334079,\n",
       " 'NSC': 8.09430565852979,\n",
       " 'NWO': 8.302367963564993,\n",
       " 'SRI': 9.962499180835067,\n",
       " 'BGN': 8.26253788285462,\n",
       " 'LEN': 9.36719063235714,\n",
       " 'WXN': 9.02024977707257,\n",
       " 'TRO': 9.541127895745776,\n",
       " 'SKI': 9.77577426551197,\n",
       " 'IDT': 8.014857114182496,\n",
       " 'NYP': 8.996496555509552,\n",
       " 'ULI': 5.641297316333886,\n",
       " 'SYO': 8.994641569583859,\n",
       " 'JNE': 8.064814197223106,\n",
       " 'OJG': 9.679510298742578,\n",
       " 'EOP': 6.5671984032045385,\n",
       " 'NVL': 7.873591882771086,\n",
       " 'ZVQ': 6.124435569380353,\n",
       " 'FNM': 8.464621579397127,\n",
       " 'MCA': 8.136530678108885,\n",
       " 'OOS': 9.904702457831117,\n",
       " 'XRX': 7.707253385858953}"
      ]
     },
     "execution_count": 46,
     "metadata": {},
     "output_type": "execute_result"
    }
   ],
   "source": [
    "scores_mean_perf"
   ]
  },
  {
   "cell_type": "code",
   "execution_count": 15,
   "id": "provincial-polymer",
   "metadata": {},
   "outputs": [
    {
     "data": {
      "text/plain": [
       "9.894573318451048"
      ]
     },
     "execution_count": 15,
     "metadata": {},
     "output_type": "execute_result"
    }
   ],
   "source": [
    "scores_mean_perf[\"CIS\"]"
   ]
  },
  {
   "cell_type": "code",
   "execution_count": 33,
   "id": "injured-lebanon",
   "metadata": {},
   "outputs": [],
   "source": [
    "scores_wmean_perf = {k: _compute_weighted_mean(v) for k, v in scores.items()}"
   ]
  },
  {
   "cell_type": "code",
   "execution_count": 36,
   "id": "naughty-eligibility",
   "metadata": {},
   "outputs": [],
   "source": [
    "#list(sorted(scores_wmean_perf, key=scores_wmean_perf.get, reverse=True))"
   ]
  },
  {
   "cell_type": "code",
   "execution_count": 37,
   "id": "distinguished-january",
   "metadata": {},
   "outputs": [],
   "source": [
    "#list(sorted(scores_mean_perf, key=scores_mean_perf.get, reverse=True))"
   ]
  },
  {
   "cell_type": "code",
   "execution_count": 124,
   "id": "compliant-fields",
   "metadata": {},
   "outputs": [],
   "source": [
    "asset_names = [k for k in scores_mean_perf.keys()]"
   ]
  },
  {
   "cell_type": "code",
   "execution_count": 125,
   "id": "acting-enough",
   "metadata": {},
   "outputs": [],
   "source": [
    "weights = np.array([v for v in scores_mean_perf.values()], dtype=np.float32)"
   ]
  },
  {
   "cell_type": "code",
   "execution_count": 126,
   "id": "cosmetic-screen",
   "metadata": {},
   "outputs": [],
   "source": [
    "#weights = [w / sum(weights) for w in weights]"
   ]
  },
  {
   "cell_type": "code",
   "execution_count": 143,
   "id": "practical-mission",
   "metadata": {},
   "outputs": [],
   "source": [
    "weights = weights / weights.sum()"
   ]
  },
  {
   "cell_type": "code",
   "execution_count": 144,
   "id": "mysterious-liberal",
   "metadata": {},
   "outputs": [
    {
     "data": {
      "text/plain": [
       "1.0"
      ]
     },
     "execution_count": 144,
     "metadata": {},
     "output_type": "execute_result"
    }
   ],
   "source": [
    "weights.sum()"
   ]
  },
  {
   "cell_type": "code",
   "execution_count": 145,
   "id": "cognitive-transition",
   "metadata": {},
   "outputs": [
    {
     "data": {
      "text/plain": [
       "array([0.01138288, 0.01235004, 0.01193356, 0.01205713, 0.01199868,\n",
       "       0.01218286, 0.01040663, 0.01146562, 0.00626043, 0.00999471,\n",
       "       0.00709939, 0.01170953, 0.0123144 , 0.01207961, 0.01205506,\n",
       "       0.01208098, 0.00936924, 0.01153721, 0.01105944, 0.01185821,\n",
       "       0.01200494, 0.01101085, 0.01217083, 0.01227473, 0.0121077 ,\n",
       "       0.01018308, 0.01213062, 0.01228555, 0.01231641, 0.01070157,\n",
       "       0.01159721, 0.01061911, 0.01211298, 0.01067431, 0.01204059,\n",
       "       0.01205295, 0.0107945 , 0.01221972, 0.00955811, 0.00796757,\n",
       "       0.00681086, 0.01218091, 0.01220957, 0.01014434, 0.00922975,\n",
       "       0.01043202, 0.01173947, 0.01222256, 0.01095631, 0.01084916,\n",
       "       0.01165668, 0.00998614, 0.00140508, 0.00598241, 0.01194209,\n",
       "       0.01045221, 0.00661459, 0.01003044, 0.01207072, 0.00819545,\n",
       "       0.01099179, 0.01109758, 0.00857459, 0.00688019, 0.0122836 ,\n",
       "       0.01136428, 0.01174374, 0.01148848, 0.01041626, 0.01126819,\n",
       "       0.01079169, 0.01114263, 0.01060964, 0.00965546, 0.01140093,\n",
       "       0.01232896, 0.00981512, 0.01141728, 0.01159039, 0.01180518,\n",
       "       0.01191586, 0.00997856, 0.01056367, 0.00798695, 0.01096019,\n",
       "       0.01015108, 0.01198493, 0.00781003, 0.00846886, 0.00746959,\n",
       "       0.01064458, 0.0104401 , 0.01231313, 0.00951685], dtype=float32)"
      ]
     },
     "execution_count": 145,
     "metadata": {},
     "output_type": "execute_result"
    }
   ],
   "source": [
    "weights"
   ]
  },
  {
   "cell_type": "code",
   "execution_count": 146,
   "id": "classical-cooper",
   "metadata": {},
   "outputs": [],
   "source": [
    "subm_plantilla = pd.read_csv(\"./submission/submission.csv\")"
   ]
  },
  {
   "cell_type": "code",
   "execution_count": 147,
   "id": "interested-bristol",
   "metadata": {},
   "outputs": [],
   "source": [
    "dates = subm_plantilla[\"eod_ts\"]"
   ]
  },
  {
   "cell_type": "code",
   "execution_count": 153,
   "id": "developmental-passport",
   "metadata": {},
   "outputs": [
    {
     "data": {
      "text/plain": [
       "(2229, 94)"
      ]
     },
     "execution_count": 153,
     "metadata": {},
     "output_type": "execute_result"
    }
   ],
   "source": [
    "np.repeat(np.array([weights]), subm_plantilla.shape[0], axis=0).shape"
   ]
  },
  {
   "cell_type": "code",
   "execution_count": 154,
   "id": "crude-making",
   "metadata": {},
   "outputs": [],
   "source": [
    "df = pd.DataFrame(data=np.repeat(np.array([weights]), subm_plantilla.shape[0], axis=0), columns=[f\"allo_{col}\" for col in asset_names], dtype=np.float32)"
   ]
  },
  {
   "cell_type": "code",
   "execution_count": 156,
   "id": "valued-confusion",
   "metadata": {},
   "outputs": [],
   "source": [
    "df.set_index(dates, inplace=True)"
   ]
  },
  {
   "cell_type": "code",
   "execution_count": 161,
   "id": "animated-medline",
   "metadata": {},
   "outputs": [],
   "source": [
    "test_submission(df.div(df.sum(axis=1), axis=0))"
   ]
  },
  {
   "cell_type": "code",
   "execution_count": 162,
   "id": "liberal-approval",
   "metadata": {},
   "outputs": [],
   "source": [
    "df = df.div(df.sum(axis=1), axis=0)"
   ]
  },
  {
   "cell_type": "code",
   "execution_count": 163,
   "id": "level-closing",
   "metadata": {},
   "outputs": [],
   "source": [
    "test_submission(df)"
   ]
  },
  {
   "cell_type": "code",
   "execution_count": 160,
   "id": "other-geology",
   "metadata": {},
   "outputs": [],
   "source": [
    "#df.div(df.sum(axis=1), axis=0).dtypes"
   ]
  },
  {
   "cell_type": "code",
   "execution_count": 96,
   "id": "historical-trademark",
   "metadata": {},
   "outputs": [],
   "source": [
    "w_dict = {asset: w for asset, w in zip(asset_names, weights)}"
   ]
  },
  {
   "cell_type": "code",
   "execution_count": 97,
   "id": "royal-terminal",
   "metadata": {},
   "outputs": [
    {
     "data": {
      "text/plain": [
       "1.000000043772161"
      ]
     },
     "execution_count": 97,
     "metadata": {},
     "output_type": "execute_result"
    }
   ],
   "source": [
    "sum(w_dict.values())"
   ]
  },
  {
   "cell_type": "code",
   "execution_count": 41,
   "id": "upper-liechtenstein",
   "metadata": {},
   "outputs": [],
   "source": [
    "submission = get_submission_markowitz(w_dict, asset_names)"
   ]
  },
  {
   "cell_type": "code",
   "execution_count": 43,
   "id": "inappropriate-departure",
   "metadata": {},
   "outputs": [],
   "source": [
    "test_submission(submission)"
   ]
  },
  {
   "cell_type": "code",
   "execution_count": 44,
   "id": "suited-update",
   "metadata": {},
   "outputs": [
    {
     "data": {
      "text/html": [
       "<div>\n",
       "<style scoped>\n",
       "    .dataframe tbody tr th:only-of-type {\n",
       "        vertical-align: middle;\n",
       "    }\n",
       "\n",
       "    .dataframe tbody tr th {\n",
       "        vertical-align: top;\n",
       "    }\n",
       "\n",
       "    .dataframe thead th {\n",
       "        text-align: right;\n",
       "    }\n",
       "</style>\n",
       "<table border=\"1\" class=\"dataframe\">\n",
       "  <thead>\n",
       "    <tr style=\"text-align: right;\">\n",
       "      <th></th>\n",
       "      <th>allo_GRU</th>\n",
       "      <th>allo_TMF</th>\n",
       "      <th>allo_THA</th>\n",
       "      <th>allo_JTL</th>\n",
       "      <th>allo_LWK</th>\n",
       "      <th>allo_CIS</th>\n",
       "      <th>allo_GGR</th>\n",
       "      <th>allo_VRT</th>\n",
       "      <th>allo_VVC</th>\n",
       "      <th>allo_GRI</th>\n",
       "      <th>...</th>\n",
       "      <th>allo_SYO</th>\n",
       "      <th>allo_JNE</th>\n",
       "      <th>allo_OJG</th>\n",
       "      <th>allo_EOP</th>\n",
       "      <th>allo_NVL</th>\n",
       "      <th>allo_ZVQ</th>\n",
       "      <th>allo_FNM</th>\n",
       "      <th>allo_MCA</th>\n",
       "      <th>allo_OOS</th>\n",
       "      <th>allo_XRX</th>\n",
       "    </tr>\n",
       "    <tr>\n",
       "      <th>eod_ts</th>\n",
       "      <th></th>\n",
       "      <th></th>\n",
       "      <th></th>\n",
       "      <th></th>\n",
       "      <th></th>\n",
       "      <th></th>\n",
       "      <th></th>\n",
       "      <th></th>\n",
       "      <th></th>\n",
       "      <th></th>\n",
       "      <th></th>\n",
       "      <th></th>\n",
       "      <th></th>\n",
       "      <th></th>\n",
       "      <th></th>\n",
       "      <th></th>\n",
       "      <th></th>\n",
       "      <th></th>\n",
       "      <th></th>\n",
       "      <th></th>\n",
       "      <th></th>\n",
       "    </tr>\n",
       "  </thead>\n",
       "  <tbody>\n",
       "    <tr>\n",
       "      <th>2020-08-18 00:00:00</th>\n",
       "      <td>0.011222</td>\n",
       "      <td>0.012345</td>\n",
       "      <td>0.011603</td>\n",
       "      <td>0.012047</td>\n",
       "      <td>0.011452</td>\n",
       "      <td>0.012195</td>\n",
       "      <td>0.009785</td>\n",
       "      <td>0.011616</td>\n",
       "      <td>0.005942</td>\n",
       "      <td>0.010278</td>\n",
       "      <td>...</td>\n",
       "      <td>0.011105</td>\n",
       "      <td>0.009957</td>\n",
       "      <td>0.01195</td>\n",
       "      <td>0.008108</td>\n",
       "      <td>0.009721</td>\n",
       "      <td>0.007561</td>\n",
       "      <td>0.01045</td>\n",
       "      <td>0.010045</td>\n",
       "      <td>0.012228</td>\n",
       "      <td>0.009515</td>\n",
       "    </tr>\n",
       "    <tr>\n",
       "      <th>2020-08-18 01:00:00</th>\n",
       "      <td>0.011222</td>\n",
       "      <td>0.012345</td>\n",
       "      <td>0.011603</td>\n",
       "      <td>0.012047</td>\n",
       "      <td>0.011452</td>\n",
       "      <td>0.012195</td>\n",
       "      <td>0.009785</td>\n",
       "      <td>0.011616</td>\n",
       "      <td>0.005942</td>\n",
       "      <td>0.010278</td>\n",
       "      <td>...</td>\n",
       "      <td>0.011105</td>\n",
       "      <td>0.009957</td>\n",
       "      <td>0.01195</td>\n",
       "      <td>0.008108</td>\n",
       "      <td>0.009721</td>\n",
       "      <td>0.007561</td>\n",
       "      <td>0.01045</td>\n",
       "      <td>0.010045</td>\n",
       "      <td>0.012228</td>\n",
       "      <td>0.009515</td>\n",
       "    </tr>\n",
       "    <tr>\n",
       "      <th>2020-08-18 02:00:00</th>\n",
       "      <td>0.011222</td>\n",
       "      <td>0.012345</td>\n",
       "      <td>0.011603</td>\n",
       "      <td>0.012047</td>\n",
       "      <td>0.011452</td>\n",
       "      <td>0.012195</td>\n",
       "      <td>0.009785</td>\n",
       "      <td>0.011616</td>\n",
       "      <td>0.005942</td>\n",
       "      <td>0.010278</td>\n",
       "      <td>...</td>\n",
       "      <td>0.011105</td>\n",
       "      <td>0.009957</td>\n",
       "      <td>0.01195</td>\n",
       "      <td>0.008108</td>\n",
       "      <td>0.009721</td>\n",
       "      <td>0.007561</td>\n",
       "      <td>0.01045</td>\n",
       "      <td>0.010045</td>\n",
       "      <td>0.012228</td>\n",
       "      <td>0.009515</td>\n",
       "    </tr>\n",
       "    <tr>\n",
       "      <th>2020-08-18 03:00:00</th>\n",
       "      <td>0.011222</td>\n",
       "      <td>0.012345</td>\n",
       "      <td>0.011603</td>\n",
       "      <td>0.012047</td>\n",
       "      <td>0.011452</td>\n",
       "      <td>0.012195</td>\n",
       "      <td>0.009785</td>\n",
       "      <td>0.011616</td>\n",
       "      <td>0.005942</td>\n",
       "      <td>0.010278</td>\n",
       "      <td>...</td>\n",
       "      <td>0.011105</td>\n",
       "      <td>0.009957</td>\n",
       "      <td>0.01195</td>\n",
       "      <td>0.008108</td>\n",
       "      <td>0.009721</td>\n",
       "      <td>0.007561</td>\n",
       "      <td>0.01045</td>\n",
       "      <td>0.010045</td>\n",
       "      <td>0.012228</td>\n",
       "      <td>0.009515</td>\n",
       "    </tr>\n",
       "    <tr>\n",
       "      <th>2020-08-18 04:00:00</th>\n",
       "      <td>0.011222</td>\n",
       "      <td>0.012345</td>\n",
       "      <td>0.011603</td>\n",
       "      <td>0.012047</td>\n",
       "      <td>0.011452</td>\n",
       "      <td>0.012195</td>\n",
       "      <td>0.009785</td>\n",
       "      <td>0.011616</td>\n",
       "      <td>0.005942</td>\n",
       "      <td>0.010278</td>\n",
       "      <td>...</td>\n",
       "      <td>0.011105</td>\n",
       "      <td>0.009957</td>\n",
       "      <td>0.01195</td>\n",
       "      <td>0.008108</td>\n",
       "      <td>0.009721</td>\n",
       "      <td>0.007561</td>\n",
       "      <td>0.01045</td>\n",
       "      <td>0.010045</td>\n",
       "      <td>0.012228</td>\n",
       "      <td>0.009515</td>\n",
       "    </tr>\n",
       "  </tbody>\n",
       "</table>\n",
       "<p>5 rows × 94 columns</p>\n",
       "</div>"
      ],
      "text/plain": [
       "                     allo_GRU  allo_TMF  allo_THA  allo_JTL  allo_LWK  \\\n",
       "eod_ts                                                                  \n",
       "2020-08-18 00:00:00  0.011222  0.012345  0.011603  0.012047  0.011452   \n",
       "2020-08-18 01:00:00  0.011222  0.012345  0.011603  0.012047  0.011452   \n",
       "2020-08-18 02:00:00  0.011222  0.012345  0.011603  0.012047  0.011452   \n",
       "2020-08-18 03:00:00  0.011222  0.012345  0.011603  0.012047  0.011452   \n",
       "2020-08-18 04:00:00  0.011222  0.012345  0.011603  0.012047  0.011452   \n",
       "\n",
       "                     allo_CIS  allo_GGR  allo_VRT  allo_VVC  allo_GRI  ...  \\\n",
       "eod_ts                                                                 ...   \n",
       "2020-08-18 00:00:00  0.012195  0.009785  0.011616  0.005942  0.010278  ...   \n",
       "2020-08-18 01:00:00  0.012195  0.009785  0.011616  0.005942  0.010278  ...   \n",
       "2020-08-18 02:00:00  0.012195  0.009785  0.011616  0.005942  0.010278  ...   \n",
       "2020-08-18 03:00:00  0.012195  0.009785  0.011616  0.005942  0.010278  ...   \n",
       "2020-08-18 04:00:00  0.012195  0.009785  0.011616  0.005942  0.010278  ...   \n",
       "\n",
       "                     allo_SYO  allo_JNE  allo_OJG  allo_EOP  allo_NVL  \\\n",
       "eod_ts                                                                  \n",
       "2020-08-18 00:00:00  0.011105  0.009957   0.01195  0.008108  0.009721   \n",
       "2020-08-18 01:00:00  0.011105  0.009957   0.01195  0.008108  0.009721   \n",
       "2020-08-18 02:00:00  0.011105  0.009957   0.01195  0.008108  0.009721   \n",
       "2020-08-18 03:00:00  0.011105  0.009957   0.01195  0.008108  0.009721   \n",
       "2020-08-18 04:00:00  0.011105  0.009957   0.01195  0.008108  0.009721   \n",
       "\n",
       "                     allo_ZVQ  allo_FNM  allo_MCA  allo_OOS  allo_XRX  \n",
       "eod_ts                                                                 \n",
       "2020-08-18 00:00:00  0.007561   0.01045  0.010045  0.012228  0.009515  \n",
       "2020-08-18 01:00:00  0.007561   0.01045  0.010045  0.012228  0.009515  \n",
       "2020-08-18 02:00:00  0.007561   0.01045  0.010045  0.012228  0.009515  \n",
       "2020-08-18 03:00:00  0.007561   0.01045  0.010045  0.012228  0.009515  \n",
       "2020-08-18 04:00:00  0.007561   0.01045  0.010045  0.012228  0.009515  \n",
       "\n",
       "[5 rows x 94 columns]"
      ]
     },
     "execution_count": 44,
     "metadata": {},
     "output_type": "execute_result"
    }
   ],
   "source": [
    "submission.head()"
   ]
  },
  {
   "cell_type": "code",
   "execution_count": 67,
   "id": "religious-vatican",
   "metadata": {},
   "outputs": [
    {
     "data": {
      "text/html": [
       "<div>\n",
       "<style scoped>\n",
       "    .dataframe tbody tr th:only-of-type {\n",
       "        vertical-align: middle;\n",
       "    }\n",
       "\n",
       "    .dataframe tbody tr th {\n",
       "        vertical-align: top;\n",
       "    }\n",
       "\n",
       "    .dataframe thead th {\n",
       "        text-align: right;\n",
       "    }\n",
       "</style>\n",
       "<table border=\"1\" class=\"dataframe\">\n",
       "  <thead>\n",
       "    <tr style=\"text-align: right;\">\n",
       "      <th></th>\n",
       "      <th>allo_GRU</th>\n",
       "      <th>allo_TMF</th>\n",
       "      <th>allo_THA</th>\n",
       "      <th>allo_JTL</th>\n",
       "      <th>allo_LWK</th>\n",
       "      <th>allo_CIS</th>\n",
       "      <th>allo_GGR</th>\n",
       "      <th>allo_VRT</th>\n",
       "      <th>allo_VVC</th>\n",
       "      <th>allo_GRI</th>\n",
       "      <th>...</th>\n",
       "      <th>allo_SYO</th>\n",
       "      <th>allo_JNE</th>\n",
       "      <th>allo_OJG</th>\n",
       "      <th>allo_EOP</th>\n",
       "      <th>allo_NVL</th>\n",
       "      <th>allo_ZVQ</th>\n",
       "      <th>allo_FNM</th>\n",
       "      <th>allo_MCA</th>\n",
       "      <th>allo_OOS</th>\n",
       "      <th>allo_XRX</th>\n",
       "    </tr>\n",
       "    <tr>\n",
       "      <th>eod_ts</th>\n",
       "      <th></th>\n",
       "      <th></th>\n",
       "      <th></th>\n",
       "      <th></th>\n",
       "      <th></th>\n",
       "      <th></th>\n",
       "      <th></th>\n",
       "      <th></th>\n",
       "      <th></th>\n",
       "      <th></th>\n",
       "      <th></th>\n",
       "      <th></th>\n",
       "      <th></th>\n",
       "      <th></th>\n",
       "      <th></th>\n",
       "      <th></th>\n",
       "      <th></th>\n",
       "      <th></th>\n",
       "      <th></th>\n",
       "      <th></th>\n",
       "      <th></th>\n",
       "    </tr>\n",
       "  </thead>\n",
       "  <tbody>\n",
       "    <tr>\n",
       "      <th>2020-08-18 00:00:00</th>\n",
       "      <td>0.011223</td>\n",
       "      <td>0.012344</td>\n",
       "      <td>0.011604</td>\n",
       "      <td>0.012047</td>\n",
       "      <td>0.011452</td>\n",
       "      <td>0.012192</td>\n",
       "      <td>0.009789</td>\n",
       "      <td>0.01162</td>\n",
       "      <td>0.005943</td>\n",
       "      <td>0.010277</td>\n",
       "      <td>...</td>\n",
       "      <td>0.011101</td>\n",
       "      <td>0.009956</td>\n",
       "      <td>0.011948</td>\n",
       "      <td>0.00811</td>\n",
       "      <td>0.00972</td>\n",
       "      <td>0.007561</td>\n",
       "      <td>0.010452</td>\n",
       "      <td>0.010048</td>\n",
       "      <td>0.01223</td>\n",
       "      <td>0.009514</td>\n",
       "    </tr>\n",
       "    <tr>\n",
       "      <th>2020-08-18 01:00:00</th>\n",
       "      <td>0.011223</td>\n",
       "      <td>0.012344</td>\n",
       "      <td>0.011604</td>\n",
       "      <td>0.012047</td>\n",
       "      <td>0.011452</td>\n",
       "      <td>0.012192</td>\n",
       "      <td>0.009789</td>\n",
       "      <td>0.01162</td>\n",
       "      <td>0.005943</td>\n",
       "      <td>0.010277</td>\n",
       "      <td>...</td>\n",
       "      <td>0.011101</td>\n",
       "      <td>0.009956</td>\n",
       "      <td>0.011948</td>\n",
       "      <td>0.00811</td>\n",
       "      <td>0.00972</td>\n",
       "      <td>0.007561</td>\n",
       "      <td>0.010452</td>\n",
       "      <td>0.010048</td>\n",
       "      <td>0.01223</td>\n",
       "      <td>0.009514</td>\n",
       "    </tr>\n",
       "    <tr>\n",
       "      <th>2020-08-18 02:00:00</th>\n",
       "      <td>0.011223</td>\n",
       "      <td>0.012344</td>\n",
       "      <td>0.011604</td>\n",
       "      <td>0.012047</td>\n",
       "      <td>0.011452</td>\n",
       "      <td>0.012192</td>\n",
       "      <td>0.009789</td>\n",
       "      <td>0.01162</td>\n",
       "      <td>0.005943</td>\n",
       "      <td>0.010277</td>\n",
       "      <td>...</td>\n",
       "      <td>0.011101</td>\n",
       "      <td>0.009956</td>\n",
       "      <td>0.011948</td>\n",
       "      <td>0.00811</td>\n",
       "      <td>0.00972</td>\n",
       "      <td>0.007561</td>\n",
       "      <td>0.010452</td>\n",
       "      <td>0.010048</td>\n",
       "      <td>0.01223</td>\n",
       "      <td>0.009514</td>\n",
       "    </tr>\n",
       "    <tr>\n",
       "      <th>2020-08-18 03:00:00</th>\n",
       "      <td>0.011223</td>\n",
       "      <td>0.012344</td>\n",
       "      <td>0.011604</td>\n",
       "      <td>0.012047</td>\n",
       "      <td>0.011452</td>\n",
       "      <td>0.012192</td>\n",
       "      <td>0.009789</td>\n",
       "      <td>0.01162</td>\n",
       "      <td>0.005943</td>\n",
       "      <td>0.010277</td>\n",
       "      <td>...</td>\n",
       "      <td>0.011101</td>\n",
       "      <td>0.009956</td>\n",
       "      <td>0.011948</td>\n",
       "      <td>0.00811</td>\n",
       "      <td>0.00972</td>\n",
       "      <td>0.007561</td>\n",
       "      <td>0.010452</td>\n",
       "      <td>0.010048</td>\n",
       "      <td>0.01223</td>\n",
       "      <td>0.009514</td>\n",
       "    </tr>\n",
       "    <tr>\n",
       "      <th>2020-08-18 04:00:00</th>\n",
       "      <td>0.011223</td>\n",
       "      <td>0.012344</td>\n",
       "      <td>0.011604</td>\n",
       "      <td>0.012047</td>\n",
       "      <td>0.011452</td>\n",
       "      <td>0.012192</td>\n",
       "      <td>0.009789</td>\n",
       "      <td>0.01162</td>\n",
       "      <td>0.005943</td>\n",
       "      <td>0.010277</td>\n",
       "      <td>...</td>\n",
       "      <td>0.011101</td>\n",
       "      <td>0.009956</td>\n",
       "      <td>0.011948</td>\n",
       "      <td>0.00811</td>\n",
       "      <td>0.00972</td>\n",
       "      <td>0.007561</td>\n",
       "      <td>0.010452</td>\n",
       "      <td>0.010048</td>\n",
       "      <td>0.01223</td>\n",
       "      <td>0.009514</td>\n",
       "    </tr>\n",
       "    <tr>\n",
       "      <th>...</th>\n",
       "      <td>...</td>\n",
       "      <td>...</td>\n",
       "      <td>...</td>\n",
       "      <td>...</td>\n",
       "      <td>...</td>\n",
       "      <td>...</td>\n",
       "      <td>...</td>\n",
       "      <td>...</td>\n",
       "      <td>...</td>\n",
       "      <td>...</td>\n",
       "      <td>...</td>\n",
       "      <td>...</td>\n",
       "      <td>...</td>\n",
       "      <td>...</td>\n",
       "      <td>...</td>\n",
       "      <td>...</td>\n",
       "      <td>...</td>\n",
       "      <td>...</td>\n",
       "      <td>...</td>\n",
       "      <td>...</td>\n",
       "      <td>...</td>\n",
       "    </tr>\n",
       "    <tr>\n",
       "      <th>2020-12-24 17:00:00</th>\n",
       "      <td>0.011223</td>\n",
       "      <td>0.012344</td>\n",
       "      <td>0.011604</td>\n",
       "      <td>0.012047</td>\n",
       "      <td>0.011452</td>\n",
       "      <td>0.012192</td>\n",
       "      <td>0.009789</td>\n",
       "      <td>0.01162</td>\n",
       "      <td>0.005943</td>\n",
       "      <td>0.010277</td>\n",
       "      <td>...</td>\n",
       "      <td>0.011101</td>\n",
       "      <td>0.009956</td>\n",
       "      <td>0.011948</td>\n",
       "      <td>0.00811</td>\n",
       "      <td>0.00972</td>\n",
       "      <td>0.007561</td>\n",
       "      <td>0.010452</td>\n",
       "      <td>0.010048</td>\n",
       "      <td>0.01223</td>\n",
       "      <td>0.009514</td>\n",
       "    </tr>\n",
       "    <tr>\n",
       "      <th>2020-12-24 18:00:00</th>\n",
       "      <td>0.011223</td>\n",
       "      <td>0.012344</td>\n",
       "      <td>0.011604</td>\n",
       "      <td>0.012047</td>\n",
       "      <td>0.011452</td>\n",
       "      <td>0.012192</td>\n",
       "      <td>0.009789</td>\n",
       "      <td>0.01162</td>\n",
       "      <td>0.005943</td>\n",
       "      <td>0.010277</td>\n",
       "      <td>...</td>\n",
       "      <td>0.011101</td>\n",
       "      <td>0.009956</td>\n",
       "      <td>0.011948</td>\n",
       "      <td>0.00811</td>\n",
       "      <td>0.00972</td>\n",
       "      <td>0.007561</td>\n",
       "      <td>0.010452</td>\n",
       "      <td>0.010048</td>\n",
       "      <td>0.01223</td>\n",
       "      <td>0.009514</td>\n",
       "    </tr>\n",
       "    <tr>\n",
       "      <th>2020-12-24 19:00:00</th>\n",
       "      <td>0.011223</td>\n",
       "      <td>0.012344</td>\n",
       "      <td>0.011604</td>\n",
       "      <td>0.012047</td>\n",
       "      <td>0.011452</td>\n",
       "      <td>0.012192</td>\n",
       "      <td>0.009789</td>\n",
       "      <td>0.01162</td>\n",
       "      <td>0.005943</td>\n",
       "      <td>0.010277</td>\n",
       "      <td>...</td>\n",
       "      <td>0.011101</td>\n",
       "      <td>0.009956</td>\n",
       "      <td>0.011948</td>\n",
       "      <td>0.00811</td>\n",
       "      <td>0.00972</td>\n",
       "      <td>0.007561</td>\n",
       "      <td>0.010452</td>\n",
       "      <td>0.010048</td>\n",
       "      <td>0.01223</td>\n",
       "      <td>0.009514</td>\n",
       "    </tr>\n",
       "    <tr>\n",
       "      <th>2020-12-24 20:00:00</th>\n",
       "      <td>0.011223</td>\n",
       "      <td>0.012344</td>\n",
       "      <td>0.011604</td>\n",
       "      <td>0.012047</td>\n",
       "      <td>0.011452</td>\n",
       "      <td>0.012192</td>\n",
       "      <td>0.009789</td>\n",
       "      <td>0.01162</td>\n",
       "      <td>0.005943</td>\n",
       "      <td>0.010277</td>\n",
       "      <td>...</td>\n",
       "      <td>0.011101</td>\n",
       "      <td>0.009956</td>\n",
       "      <td>0.011948</td>\n",
       "      <td>0.00811</td>\n",
       "      <td>0.00972</td>\n",
       "      <td>0.007561</td>\n",
       "      <td>0.010452</td>\n",
       "      <td>0.010048</td>\n",
       "      <td>0.01223</td>\n",
       "      <td>0.009514</td>\n",
       "    </tr>\n",
       "    <tr>\n",
       "      <th>2020-12-24 21:00:00</th>\n",
       "      <td>0.011223</td>\n",
       "      <td>0.012344</td>\n",
       "      <td>0.011604</td>\n",
       "      <td>0.012047</td>\n",
       "      <td>0.011452</td>\n",
       "      <td>0.012192</td>\n",
       "      <td>0.009789</td>\n",
       "      <td>0.01162</td>\n",
       "      <td>0.005943</td>\n",
       "      <td>0.010277</td>\n",
       "      <td>...</td>\n",
       "      <td>0.011101</td>\n",
       "      <td>0.009956</td>\n",
       "      <td>0.011948</td>\n",
       "      <td>0.00811</td>\n",
       "      <td>0.00972</td>\n",
       "      <td>0.007561</td>\n",
       "      <td>0.010452</td>\n",
       "      <td>0.010048</td>\n",
       "      <td>0.01223</td>\n",
       "      <td>0.009514</td>\n",
       "    </tr>\n",
       "  </tbody>\n",
       "</table>\n",
       "<p>2229 rows × 94 columns</p>\n",
       "</div>"
      ],
      "text/plain": [
       "                     allo_GRU  allo_TMF  allo_THA  allo_JTL  allo_LWK  \\\n",
       "eod_ts                                                                  \n",
       "2020-08-18 00:00:00  0.011223  0.012344  0.011604  0.012047  0.011452   \n",
       "2020-08-18 01:00:00  0.011223  0.012344  0.011604  0.012047  0.011452   \n",
       "2020-08-18 02:00:00  0.011223  0.012344  0.011604  0.012047  0.011452   \n",
       "2020-08-18 03:00:00  0.011223  0.012344  0.011604  0.012047  0.011452   \n",
       "2020-08-18 04:00:00  0.011223  0.012344  0.011604  0.012047  0.011452   \n",
       "...                       ...       ...       ...       ...       ...   \n",
       "2020-12-24 17:00:00  0.011223  0.012344  0.011604  0.012047  0.011452   \n",
       "2020-12-24 18:00:00  0.011223  0.012344  0.011604  0.012047  0.011452   \n",
       "2020-12-24 19:00:00  0.011223  0.012344  0.011604  0.012047  0.011452   \n",
       "2020-12-24 20:00:00  0.011223  0.012344  0.011604  0.012047  0.011452   \n",
       "2020-12-24 21:00:00  0.011223  0.012344  0.011604  0.012047  0.011452   \n",
       "\n",
       "                     allo_CIS  allo_GGR  allo_VRT  allo_VVC  allo_GRI  ...  \\\n",
       "eod_ts                                                                 ...   \n",
       "2020-08-18 00:00:00  0.012192  0.009789   0.01162  0.005943  0.010277  ...   \n",
       "2020-08-18 01:00:00  0.012192  0.009789   0.01162  0.005943  0.010277  ...   \n",
       "2020-08-18 02:00:00  0.012192  0.009789   0.01162  0.005943  0.010277  ...   \n",
       "2020-08-18 03:00:00  0.012192  0.009789   0.01162  0.005943  0.010277  ...   \n",
       "2020-08-18 04:00:00  0.012192  0.009789   0.01162  0.005943  0.010277  ...   \n",
       "...                       ...       ...       ...       ...       ...  ...   \n",
       "2020-12-24 17:00:00  0.012192  0.009789   0.01162  0.005943  0.010277  ...   \n",
       "2020-12-24 18:00:00  0.012192  0.009789   0.01162  0.005943  0.010277  ...   \n",
       "2020-12-24 19:00:00  0.012192  0.009789   0.01162  0.005943  0.010277  ...   \n",
       "2020-12-24 20:00:00  0.012192  0.009789   0.01162  0.005943  0.010277  ...   \n",
       "2020-12-24 21:00:00  0.012192  0.009789   0.01162  0.005943  0.010277  ...   \n",
       "\n",
       "                     allo_SYO  allo_JNE  allo_OJG  allo_EOP  allo_NVL  \\\n",
       "eod_ts                                                                  \n",
       "2020-08-18 00:00:00  0.011101  0.009956  0.011948   0.00811   0.00972   \n",
       "2020-08-18 01:00:00  0.011101  0.009956  0.011948   0.00811   0.00972   \n",
       "2020-08-18 02:00:00  0.011101  0.009956  0.011948   0.00811   0.00972   \n",
       "2020-08-18 03:00:00  0.011101  0.009956  0.011948   0.00811   0.00972   \n",
       "2020-08-18 04:00:00  0.011101  0.009956  0.011948   0.00811   0.00972   \n",
       "...                       ...       ...       ...       ...       ...   \n",
       "2020-12-24 17:00:00  0.011101  0.009956  0.011948   0.00811   0.00972   \n",
       "2020-12-24 18:00:00  0.011101  0.009956  0.011948   0.00811   0.00972   \n",
       "2020-12-24 19:00:00  0.011101  0.009956  0.011948   0.00811   0.00972   \n",
       "2020-12-24 20:00:00  0.011101  0.009956  0.011948   0.00811   0.00972   \n",
       "2020-12-24 21:00:00  0.011101  0.009956  0.011948   0.00811   0.00972   \n",
       "\n",
       "                     allo_ZVQ  allo_FNM  allo_MCA  allo_OOS  allo_XRX  \n",
       "eod_ts                                                                 \n",
       "2020-08-18 00:00:00  0.007561  0.010452  0.010048   0.01223  0.009514  \n",
       "2020-08-18 01:00:00  0.007561  0.010452  0.010048   0.01223  0.009514  \n",
       "2020-08-18 02:00:00  0.007561  0.010452  0.010048   0.01223  0.009514  \n",
       "2020-08-18 03:00:00  0.007561  0.010452  0.010048   0.01223  0.009514  \n",
       "2020-08-18 04:00:00  0.007561  0.010452  0.010048   0.01223  0.009514  \n",
       "...                       ...       ...       ...       ...       ...  \n",
       "2020-12-24 17:00:00  0.007561  0.010452  0.010048   0.01223  0.009514  \n",
       "2020-12-24 18:00:00  0.007561  0.010452  0.010048   0.01223  0.009514  \n",
       "2020-12-24 19:00:00  0.007561  0.010452  0.010048   0.01223  0.009514  \n",
       "2020-12-24 20:00:00  0.007561  0.010452  0.010048   0.01223  0.009514  \n",
       "2020-12-24 21:00:00  0.007561  0.010452  0.010048   0.01223  0.009514  \n",
       "\n",
       "[2229 rows x 94 columns]"
      ]
     },
     "execution_count": 67,
     "metadata": {},
     "output_type": "execute_result"
    }
   ],
   "source": [
    "submission.astype(np.float16)"
   ]
  },
  {
   "cell_type": "code",
   "execution_count": 81,
   "id": "another-relation",
   "metadata": {},
   "outputs": [],
   "source": [
    "submission = submission.div(submission.sum(axis=1), axis=0)"
   ]
  },
  {
   "cell_type": "code",
   "execution_count": 82,
   "id": "embedded-sense",
   "metadata": {},
   "outputs": [
    {
     "data": {
      "text/plain": [
       "0.9999999999999997"
      ]
     },
     "execution_count": 82,
     "metadata": {},
     "output_type": "execute_result"
    }
   ],
   "source": [
    "submission.iloc[0,:].values.sum()"
   ]
  },
  {
   "cell_type": "code",
   "execution_count": 164,
   "id": "temporal-generation",
   "metadata": {},
   "outputs": [],
   "source": [
    "submission.to_csv(\"submission_2203_5.csv\", header=True, index=True)"
   ]
  },
  {
   "cell_type": "code",
   "execution_count": 70,
   "id": "likely-answer",
   "metadata": {},
   "outputs": [],
   "source": [
    "test_submission(submission)"
   ]
  },
  {
   "cell_type": "code",
   "execution_count": 57,
   "id": "rising-antarctica",
   "metadata": {},
   "outputs": [
    {
     "data": {
      "text/plain": [
       "True"
      ]
     },
     "execution_count": 57,
     "metadata": {},
     "output_type": "execute_result"
    }
   ],
   "source": [
    "all(submission.div(submission.sum(axis=1), axis=0).sum(axis=1) == 1)"
   ]
  },
  {
   "cell_type": "code",
   "execution_count": 65,
   "id": "removed-montreal",
   "metadata": {},
   "outputs": [
    {
     "data": {
      "text/html": [
       "<div>\n",
       "<style scoped>\n",
       "    .dataframe tbody tr th:only-of-type {\n",
       "        vertical-align: middle;\n",
       "    }\n",
       "\n",
       "    .dataframe tbody tr th {\n",
       "        vertical-align: top;\n",
       "    }\n",
       "\n",
       "    .dataframe thead th {\n",
       "        text-align: right;\n",
       "    }\n",
       "</style>\n",
       "<table border=\"1\" class=\"dataframe\">\n",
       "  <thead>\n",
       "    <tr style=\"text-align: right;\">\n",
       "      <th></th>\n",
       "      <th>allo_GRU</th>\n",
       "      <th>allo_TMF</th>\n",
       "      <th>allo_THA</th>\n",
       "      <th>allo_JTL</th>\n",
       "      <th>allo_LWK</th>\n",
       "      <th>allo_CIS</th>\n",
       "      <th>allo_GGR</th>\n",
       "      <th>allo_VRT</th>\n",
       "      <th>allo_VVC</th>\n",
       "      <th>allo_GRI</th>\n",
       "      <th>...</th>\n",
       "      <th>allo_SYO</th>\n",
       "      <th>allo_JNE</th>\n",
       "      <th>allo_OJG</th>\n",
       "      <th>allo_EOP</th>\n",
       "      <th>allo_NVL</th>\n",
       "      <th>allo_ZVQ</th>\n",
       "      <th>allo_FNM</th>\n",
       "      <th>allo_MCA</th>\n",
       "      <th>allo_OOS</th>\n",
       "      <th>allo_XRX</th>\n",
       "    </tr>\n",
       "    <tr>\n",
       "      <th>eod_ts</th>\n",
       "      <th></th>\n",
       "      <th></th>\n",
       "      <th></th>\n",
       "      <th></th>\n",
       "      <th></th>\n",
       "      <th></th>\n",
       "      <th></th>\n",
       "      <th></th>\n",
       "      <th></th>\n",
       "      <th></th>\n",
       "      <th></th>\n",
       "      <th></th>\n",
       "      <th></th>\n",
       "      <th></th>\n",
       "      <th></th>\n",
       "      <th></th>\n",
       "      <th></th>\n",
       "      <th></th>\n",
       "      <th></th>\n",
       "      <th></th>\n",
       "      <th></th>\n",
       "    </tr>\n",
       "  </thead>\n",
       "  <tbody>\n",
       "    <tr>\n",
       "      <th>2020-08-18 00:00:00</th>\n",
       "      <td>0.011222</td>\n",
       "      <td>0.012345</td>\n",
       "      <td>0.011603</td>\n",
       "      <td>0.012047</td>\n",
       "      <td>0.011452</td>\n",
       "      <td>0.012195</td>\n",
       "      <td>0.009785</td>\n",
       "      <td>0.011616</td>\n",
       "      <td>0.005942</td>\n",
       "      <td>0.010278</td>\n",
       "      <td>...</td>\n",
       "      <td>0.011105</td>\n",
       "      <td>0.009957</td>\n",
       "      <td>0.01195</td>\n",
       "      <td>0.008108</td>\n",
       "      <td>0.009721</td>\n",
       "      <td>0.007561</td>\n",
       "      <td>0.01045</td>\n",
       "      <td>0.010045</td>\n",
       "      <td>0.012228</td>\n",
       "      <td>0.009515</td>\n",
       "    </tr>\n",
       "    <tr>\n",
       "      <th>2020-08-18 01:00:00</th>\n",
       "      <td>0.011222</td>\n",
       "      <td>0.012345</td>\n",
       "      <td>0.011603</td>\n",
       "      <td>0.012047</td>\n",
       "      <td>0.011452</td>\n",
       "      <td>0.012195</td>\n",
       "      <td>0.009785</td>\n",
       "      <td>0.011616</td>\n",
       "      <td>0.005942</td>\n",
       "      <td>0.010278</td>\n",
       "      <td>...</td>\n",
       "      <td>0.011105</td>\n",
       "      <td>0.009957</td>\n",
       "      <td>0.01195</td>\n",
       "      <td>0.008108</td>\n",
       "      <td>0.009721</td>\n",
       "      <td>0.007561</td>\n",
       "      <td>0.01045</td>\n",
       "      <td>0.010045</td>\n",
       "      <td>0.012228</td>\n",
       "      <td>0.009515</td>\n",
       "    </tr>\n",
       "    <tr>\n",
       "      <th>2020-08-18 02:00:00</th>\n",
       "      <td>0.011222</td>\n",
       "      <td>0.012345</td>\n",
       "      <td>0.011603</td>\n",
       "      <td>0.012047</td>\n",
       "      <td>0.011452</td>\n",
       "      <td>0.012195</td>\n",
       "      <td>0.009785</td>\n",
       "      <td>0.011616</td>\n",
       "      <td>0.005942</td>\n",
       "      <td>0.010278</td>\n",
       "      <td>...</td>\n",
       "      <td>0.011105</td>\n",
       "      <td>0.009957</td>\n",
       "      <td>0.01195</td>\n",
       "      <td>0.008108</td>\n",
       "      <td>0.009721</td>\n",
       "      <td>0.007561</td>\n",
       "      <td>0.01045</td>\n",
       "      <td>0.010045</td>\n",
       "      <td>0.012228</td>\n",
       "      <td>0.009515</td>\n",
       "    </tr>\n",
       "    <tr>\n",
       "      <th>2020-08-18 03:00:00</th>\n",
       "      <td>0.011222</td>\n",
       "      <td>0.012345</td>\n",
       "      <td>0.011603</td>\n",
       "      <td>0.012047</td>\n",
       "      <td>0.011452</td>\n",
       "      <td>0.012195</td>\n",
       "      <td>0.009785</td>\n",
       "      <td>0.011616</td>\n",
       "      <td>0.005942</td>\n",
       "      <td>0.010278</td>\n",
       "      <td>...</td>\n",
       "      <td>0.011105</td>\n",
       "      <td>0.009957</td>\n",
       "      <td>0.01195</td>\n",
       "      <td>0.008108</td>\n",
       "      <td>0.009721</td>\n",
       "      <td>0.007561</td>\n",
       "      <td>0.01045</td>\n",
       "      <td>0.010045</td>\n",
       "      <td>0.012228</td>\n",
       "      <td>0.009515</td>\n",
       "    </tr>\n",
       "    <tr>\n",
       "      <th>2020-08-18 04:00:00</th>\n",
       "      <td>0.011222</td>\n",
       "      <td>0.012345</td>\n",
       "      <td>0.011603</td>\n",
       "      <td>0.012047</td>\n",
       "      <td>0.011452</td>\n",
       "      <td>0.012195</td>\n",
       "      <td>0.009785</td>\n",
       "      <td>0.011616</td>\n",
       "      <td>0.005942</td>\n",
       "      <td>0.010278</td>\n",
       "      <td>...</td>\n",
       "      <td>0.011105</td>\n",
       "      <td>0.009957</td>\n",
       "      <td>0.01195</td>\n",
       "      <td>0.008108</td>\n",
       "      <td>0.009721</td>\n",
       "      <td>0.007561</td>\n",
       "      <td>0.01045</td>\n",
       "      <td>0.010045</td>\n",
       "      <td>0.012228</td>\n",
       "      <td>0.009515</td>\n",
       "    </tr>\n",
       "  </tbody>\n",
       "</table>\n",
       "<p>5 rows × 94 columns</p>\n",
       "</div>"
      ],
      "text/plain": [
       "                     allo_GRU  allo_TMF  allo_THA  allo_JTL  allo_LWK  \\\n",
       "eod_ts                                                                  \n",
       "2020-08-18 00:00:00  0.011222  0.012345  0.011603  0.012047  0.011452   \n",
       "2020-08-18 01:00:00  0.011222  0.012345  0.011603  0.012047  0.011452   \n",
       "2020-08-18 02:00:00  0.011222  0.012345  0.011603  0.012047  0.011452   \n",
       "2020-08-18 03:00:00  0.011222  0.012345  0.011603  0.012047  0.011452   \n",
       "2020-08-18 04:00:00  0.011222  0.012345  0.011603  0.012047  0.011452   \n",
       "\n",
       "                     allo_CIS  allo_GGR  allo_VRT  allo_VVC  allo_GRI  ...  \\\n",
       "eod_ts                                                                 ...   \n",
       "2020-08-18 00:00:00  0.012195  0.009785  0.011616  0.005942  0.010278  ...   \n",
       "2020-08-18 01:00:00  0.012195  0.009785  0.011616  0.005942  0.010278  ...   \n",
       "2020-08-18 02:00:00  0.012195  0.009785  0.011616  0.005942  0.010278  ...   \n",
       "2020-08-18 03:00:00  0.012195  0.009785  0.011616  0.005942  0.010278  ...   \n",
       "2020-08-18 04:00:00  0.012195  0.009785  0.011616  0.005942  0.010278  ...   \n",
       "\n",
       "                     allo_SYO  allo_JNE  allo_OJG  allo_EOP  allo_NVL  \\\n",
       "eod_ts                                                                  \n",
       "2020-08-18 00:00:00  0.011105  0.009957   0.01195  0.008108  0.009721   \n",
       "2020-08-18 01:00:00  0.011105  0.009957   0.01195  0.008108  0.009721   \n",
       "2020-08-18 02:00:00  0.011105  0.009957   0.01195  0.008108  0.009721   \n",
       "2020-08-18 03:00:00  0.011105  0.009957   0.01195  0.008108  0.009721   \n",
       "2020-08-18 04:00:00  0.011105  0.009957   0.01195  0.008108  0.009721   \n",
       "\n",
       "                     allo_ZVQ  allo_FNM  allo_MCA  allo_OOS  allo_XRX  \n",
       "eod_ts                                                                 \n",
       "2020-08-18 00:00:00  0.007561   0.01045  0.010045  0.012228  0.009515  \n",
       "2020-08-18 01:00:00  0.007561   0.01045  0.010045  0.012228  0.009515  \n",
       "2020-08-18 02:00:00  0.007561   0.01045  0.010045  0.012228  0.009515  \n",
       "2020-08-18 03:00:00  0.007561   0.01045  0.010045  0.012228  0.009515  \n",
       "2020-08-18 04:00:00  0.007561   0.01045  0.010045  0.012228  0.009515  \n",
       "\n",
       "[5 rows x 94 columns]"
      ]
     },
     "execution_count": 65,
     "metadata": {},
     "output_type": "execute_result"
    }
   ],
   "source": [
    "submission.head()"
   ]
  },
  {
   "cell_type": "code",
   "execution_count": null,
   "id": "variable-offer",
   "metadata": {},
   "outputs": [],
   "source": []
  }
 ],
 "metadata": {
  "kernelspec": {
   "display_name": "Python [conda env:series_temporales]",
   "language": "python",
   "name": "conda-env-series_temporales-py"
  },
  "language_info": {
   "codemirror_mode": {
    "name": "ipython",
    "version": 3
   },
   "file_extension": ".py",
   "mimetype": "text/x-python",
   "name": "python",
   "nbconvert_exporter": "python",
   "pygments_lexer": "ipython3",
   "version": "3.7.9"
  }
 },
 "nbformat": 4,
 "nbformat_minor": 5
}
