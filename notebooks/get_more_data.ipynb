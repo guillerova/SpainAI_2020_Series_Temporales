{
 "cells": [
  {
   "cell_type": "code",
   "execution_count": 2,
   "id": "corresponding-australian",
   "metadata": {},
   "outputs": [],
   "source": [
    "#!pip install investpy"
   ]
  },
  {
   "cell_type": "code",
   "execution_count": 3,
   "id": "diverse-plate",
   "metadata": {},
   "outputs": [],
   "source": [
    "import investpy\n",
    "\n",
    "df = investpy.get_stock_historical_data(stock='AAPL',\n",
    "                                        country='United States',\n",
    "                                        from_date='01/01/2010',\n",
    "                                        to_date='01/01/2020')"
   ]
  },
  {
   "cell_type": "code",
   "execution_count": 4,
   "id": "narrow-entry",
   "metadata": {},
   "outputs": [
    {
     "data": {
      "text/html": [
       "<div>\n",
       "<style scoped>\n",
       "    .dataframe tbody tr th:only-of-type {\n",
       "        vertical-align: middle;\n",
       "    }\n",
       "\n",
       "    .dataframe tbody tr th {\n",
       "        vertical-align: top;\n",
       "    }\n",
       "\n",
       "    .dataframe thead th {\n",
       "        text-align: right;\n",
       "    }\n",
       "</style>\n",
       "<table border=\"1\" class=\"dataframe\">\n",
       "  <thead>\n",
       "    <tr style=\"text-align: right;\">\n",
       "      <th></th>\n",
       "      <th>Open</th>\n",
       "      <th>High</th>\n",
       "      <th>Low</th>\n",
       "      <th>Close</th>\n",
       "      <th>Volume</th>\n",
       "      <th>Currency</th>\n",
       "    </tr>\n",
       "    <tr>\n",
       "      <th>Date</th>\n",
       "      <th></th>\n",
       "      <th></th>\n",
       "      <th></th>\n",
       "      <th></th>\n",
       "      <th></th>\n",
       "      <th></th>\n",
       "    </tr>\n",
       "  </thead>\n",
       "  <tbody>\n",
       "    <tr>\n",
       "      <th>2010-01-04</th>\n",
       "      <td>7.62</td>\n",
       "      <td>7.66</td>\n",
       "      <td>7.58</td>\n",
       "      <td>7.64</td>\n",
       "      <td>493728704</td>\n",
       "      <td>USD</td>\n",
       "    </tr>\n",
       "    <tr>\n",
       "      <th>2010-01-05</th>\n",
       "      <td>7.66</td>\n",
       "      <td>7.70</td>\n",
       "      <td>7.62</td>\n",
       "      <td>7.66</td>\n",
       "      <td>601904640</td>\n",
       "      <td>USD</td>\n",
       "    </tr>\n",
       "    <tr>\n",
       "      <th>2010-01-06</th>\n",
       "      <td>7.66</td>\n",
       "      <td>7.69</td>\n",
       "      <td>7.53</td>\n",
       "      <td>7.53</td>\n",
       "      <td>552158912</td>\n",
       "      <td>USD</td>\n",
       "    </tr>\n",
       "    <tr>\n",
       "      <th>2010-01-07</th>\n",
       "      <td>7.56</td>\n",
       "      <td>7.57</td>\n",
       "      <td>7.47</td>\n",
       "      <td>7.52</td>\n",
       "      <td>477129760</td>\n",
       "      <td>USD</td>\n",
       "    </tr>\n",
       "    <tr>\n",
       "      <th>2010-01-08</th>\n",
       "      <td>7.51</td>\n",
       "      <td>7.57</td>\n",
       "      <td>7.47</td>\n",
       "      <td>7.57</td>\n",
       "      <td>447876768</td>\n",
       "      <td>USD</td>\n",
       "    </tr>\n",
       "  </tbody>\n",
       "</table>\n",
       "</div>"
      ],
      "text/plain": [
       "            Open  High   Low  Close     Volume Currency\n",
       "Date                                                   \n",
       "2010-01-04  7.62  7.66  7.58   7.64  493728704      USD\n",
       "2010-01-05  7.66  7.70  7.62   7.66  601904640      USD\n",
       "2010-01-06  7.66  7.69  7.53   7.53  552158912      USD\n",
       "2010-01-07  7.56  7.57  7.47   7.52  477129760      USD\n",
       "2010-01-08  7.51  7.57  7.47   7.57  447876768      USD"
      ]
     },
     "execution_count": 4,
     "metadata": {},
     "output_type": "execute_result"
    }
   ],
   "source": [
    "df.head()"
   ]
  },
  {
   "cell_type": "code",
   "execution_count": null,
   "id": "official-huntington",
   "metadata": {},
   "outputs": [],
   "source": []
  }
 ],
 "metadata": {
  "kernelspec": {
   "display_name": "Python [conda env:series_temporales] *",
   "language": "python",
   "name": "conda-env-series_temporales-py"
  },
  "language_info": {
   "codemirror_mode": {
    "name": "ipython",
    "version": 3
   },
   "file_extension": ".py",
   "mimetype": "text/x-python",
   "name": "python",
   "nbconvert_exporter": "python",
   "pygments_lexer": "ipython3",
   "version": "3.7.9"
  }
 },
 "nbformat": 4,
 "nbformat_minor": 5
}
