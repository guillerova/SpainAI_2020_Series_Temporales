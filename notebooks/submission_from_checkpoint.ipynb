{
 "cells": [
  {
   "cell_type": "code",
   "execution_count": 39,
   "id": "strategic-turkey",
   "metadata": {},
   "outputs": [],
   "source": [
    "import torch\n",
    "from opt_nets import MyNetwork\n",
    "import numpy as np\n",
    "from submission_utils import general_weights_fixer, get_submission_markowitz, test_submission\n",
    "import pandas as pd\n",
    "from data_utils import read_all_candles, get_total_df_from_candles"
   ]
  },
  {
   "cell_type": "code",
   "execution_count": 47,
   "id": "convinced-producer",
   "metadata": {},
   "outputs": [],
   "source": [
    "model = MyNetwork(96)"
   ]
  },
  {
   "cell_type": "code",
   "execution_count": 48,
   "id": "metallic-solution",
   "metadata": {},
   "outputs": [
    {
     "data": {
      "text/plain": [
       "<All keys matched successfully>"
      ]
     },
     "execution_count": 48,
     "metadata": {},
     "output_type": "execute_result"
    }
   ],
   "source": [
    "model.load_state_dict(torch.load(\"models_2103/mynet_data1.pt\"))"
   ]
  },
  {
   "cell_type": "code",
   "execution_count": 56,
   "id": "vanilla-figure",
   "metadata": {},
   "outputs": [],
   "source": [
    "w_pred = (\n",
    "        model\n",
    "        .to(\"cpu\")(torch.ones(1, 4, 24, 96).cpu())\n",
    "        .cpu()\n",
    "        .detach()\n",
    "        .numpy()\n",
    "        .squeeze()\n",
    "    )"
   ]
  },
  {
   "cell_type": "code",
   "execution_count": 50,
   "id": "innocent-flavor",
   "metadata": {},
   "outputs": [
    {
     "data": {
      "text/plain": [
       "array([-0.04269977, -0.01086361,  0.02353076, -0.0003572 ,  0.07330152,\n",
       "        0.09324348,  0.01085217,  0.01331394,  0.02735762,  0.02482372,\n",
       "        0.05871332,  0.0687267 , -0.02000595,  0.02037644, -0.03051005,\n",
       "       -0.01579612,  0.01834748, -0.05626231,  0.02641034,  0.02785983,\n",
       "        0.05049424,  0.02355445,  0.00920694,  0.01615367,  0.00252266,\n",
       "        0.04405974, -0.03837409,  0.06593949,  0.03295088, -0.00383286,\n",
       "       -0.01184154,  0.00268191,  0.00188101, -0.00756512,  0.05213875,\n",
       "        0.01019803,  0.0403369 ,  0.02707646,  0.03596102,  0.01033906,\n",
       "        0.05448176,  0.05551405, -0.19032608, -0.01887788,  0.10829149,\n",
       "        0.02900984,  0.03525766,  0.03846399,  0.02650115,  0.0116521 ,\n",
       "        0.00229101,  0.00321894,  0.03312023,  0.02611092,  0.02232998,\n",
       "        0.00848812, -0.00503923, -0.01036897,  0.01602357,  0.00606979,\n",
       "        0.0354757 ,  0.01162198,  0.01527124, -0.01249822, -0.00316703,\n",
       "        0.0105366 ,  0.06309432, -0.01075389, -0.00520499, -0.02731393,\n",
       "        0.00111825,  0.03567049,  0.03208804,  0.06559916,  0.1147502 ,\n",
       "        0.03285539, -0.00335015,  0.02141946,  0.01743422,  0.00356188,\n",
       "        0.03740939,  0.01987393, -0.0138973 , -0.00584557, -0.01205446,\n",
       "       -0.03609494, -0.14881003, -0.03676271, -0.04278579, -0.2041343 ,\n",
       "       -0.01077421,  0.05209362, -0.00198071,  0.06823368, -0.01504221,\n",
       "        0.02590636], dtype=float32)"
      ]
     },
     "execution_count": 50,
     "metadata": {},
     "output_type": "execute_result"
    }
   ],
   "source": [
    "w_pred"
   ]
  },
  {
   "cell_type": "code",
   "execution_count": 5,
   "id": "falling-tender",
   "metadata": {},
   "outputs": [
    {
     "data": {
      "text/plain": [
       "array([ 0.03597331,  0.04094472, -0.04062497, -0.03214501,  0.13300109,\n",
       "        0.01582367, -0.01072782, -0.00667011, -0.03485004, -0.04461594,\n",
       "        0.0072149 ,  0.08948692,  0.01068651,  0.0945    ,  0.06416709,\n",
       "        0.11793721, -0.05036531,  0.11605453, -0.04607381,  0.12886472,\n",
       "       -0.07517177,  0.1094099 , -0.14892806,  0.11546078, -0.04276541,\n",
       "        0.0440218 ,  0.08822036,  0.05736258, -0.03219866, -0.1089143 ,\n",
       "       -0.02099176,  0.02136542, -0.01528573,  0.0376837 ,  0.10916466,\n",
       "        0.02686227, -0.01793947,  0.06293159, -0.00239908,  0.04774387,\n",
       "        0.10318008,  0.02270579, -0.08384003,  0.0467216 , -0.08453764,\n",
       "       -0.1126596 ,  0.04095422,  0.16299564,  0.02324608, -0.09840321,\n",
       "       -0.06062863, -0.00098917,  0.02074906,  0.10867736,  0.00591856,\n",
       "       -0.03702607,  0.03917286,  0.03631908,  0.09568173,  0.02622367,\n",
       "       -0.18297563, -0.09952974,  0.07529292,  0.13721141, -0.05122282,\n",
       "        0.04109402, -0.0083485 , -0.02724842,  0.0178959 , -0.01292974,\n",
       "        0.04584829, -0.10800822, -0.00070954,  0.08412293, -0.12645903,\n",
       "       -0.06100564,  0.03880786,  0.07400165,  0.11399937,  0.02537919,\n",
       "       -0.03763306,  0.08655306, -0.04641252, -0.12354543, -0.09337219,\n",
       "        0.02458405,  0.02474253,  0.06085989, -0.03006249,  0.02554653,\n",
       "       -0.05082734, -0.13278869,  0.03757695,  0.10195067,  0.1099275 ,\n",
       "       -0.0309913 ], dtype=float32)"
      ]
     },
     "execution_count": 5,
     "metadata": {},
     "output_type": "execute_result"
    }
   ],
   "source": [
    "w_pred"
   ]
  },
  {
   "cell_type": "code",
   "execution_count": 51,
   "id": "sticky-yahoo",
   "metadata": {},
   "outputs": [],
   "source": [
    "w_pred = np.array([ 0.03597331,  0.04094472, -0.04062497, -0.03214501,  0.13300109,\n",
    "        0.01582367, -0.01072782, -0.00667011, -0.03485004, -0.04461594,\n",
    "        0.0072149 ,  0.08948692,  0.01068651,  0.0945    ,  0.06416709,\n",
    "        0.11793721, -0.05036531,  0.11605453, -0.04607381,  0.12886472,\n",
    "       -0.07517177,  0.1094099 , -0.14892806,  0.11546078, -0.04276541,\n",
    "        0.0440218 ,  0.08822036,  0.05736258, -0.03219866, -0.1089143 ,\n",
    "       -0.02099176,  0.02136542, -0.01528573,  0.0376837 ,  0.10916466,\n",
    "        0.02686227, -0.01793947,  0.06293159, -0.00239908,  0.04774387,\n",
    "        0.10318008,  0.02270579, -0.08384003,  0.0467216 , -0.08453764,\n",
    "       -0.1126596 ,  0.04095422,  0.16299564,  0.02324608, -0.09840321,\n",
    "       -0.06062863, -0.00098917,  0.02074906,  0.10867736,  0.00591856,\n",
    "       -0.03702607,  0.03917286,  0.03631908,  0.09568173,  0.02622367,\n",
    "       -0.18297563, -0.09952974,  0.07529292,  0.13721141, -0.05122282,\n",
    "        0.04109402, -0.0083485 , -0.02724842,  0.0178959 , -0.01292974,\n",
    "        0.04584829, -0.10800822, -0.00070954,  0.08412293, -0.12645903,\n",
    "       -0.06100564,  0.03880786,  0.07400165,  0.11399937,  0.02537919,\n",
    "       -0.03763306,  0.08655306, -0.04641252, -0.12354543, -0.09337219,\n",
    "        0.02458405,  0.02474253,  0.06085989, -0.03006249,  0.02554653,\n",
    "       -0.05082734, -0.13278869,  0.03757695,  0.10195067,  0.1099275 ,\n",
    "       -0.0309913 ])"
   ]
  },
  {
   "cell_type": "code",
   "execution_count": 11,
   "id": "introductory-approval",
   "metadata": {},
   "outputs": [],
   "source": [
    "weights = np.clip(w_pred, 0, 1)"
   ]
  },
  {
   "cell_type": "code",
   "execution_count": 12,
   "id": "tracked-mountain",
   "metadata": {},
   "outputs": [
    {
     "data": {
      "text/plain": [
       "3.432822"
      ]
     },
     "execution_count": 12,
     "metadata": {},
     "output_type": "execute_result"
    }
   ],
   "source": [
    "weights.sum()"
   ]
  },
  {
   "cell_type": "code",
   "execution_count": 13,
   "id": "saving-brand",
   "metadata": {},
   "outputs": [],
   "source": [
    "weights = weights / weights.sum()"
   ]
  },
  {
   "cell_type": "code",
   "execution_count": 15,
   "id": "confidential-seattle",
   "metadata": {},
   "outputs": [
    {
     "data": {
      "text/plain": [
       "1.0"
      ]
     },
     "execution_count": 15,
     "metadata": {},
     "output_type": "execute_result"
    }
   ],
   "source": [
    "weights.sum()"
   ]
  },
  {
   "cell_type": "code",
   "execution_count": 16,
   "id": "legislative-assurance",
   "metadata": {},
   "outputs": [
    {
     "data": {
      "text/plain": [
       "array([0.01047922, 0.01192742, 0.        , 0.        , 0.03874395,\n",
       "       0.00460952, 0.        , 0.        , 0.        , 0.        ,\n",
       "       0.00210174, 0.02606803, 0.00311304, 0.02752837, 0.01869223,\n",
       "       0.03435576, 0.        , 0.03380733, 0.        , 0.03753901,\n",
       "       0.        , 0.03187171, 0.        , 0.03363436, 0.        ,\n",
       "       0.01282379, 0.02569908, 0.01671004, 0.        , 0.        ,\n",
       "       0.        , 0.00622386, 0.        , 0.01097747, 0.03180027,\n",
       "       0.00782513, 0.        , 0.01833232, 0.        , 0.01390805,\n",
       "       0.03005693, 0.00661432, 0.        , 0.01361026, 0.        ,\n",
       "       0.        , 0.01193019, 0.04748153, 0.00677171, 0.        ,\n",
       "       0.        , 0.        , 0.00604431, 0.03165832, 0.00172411,\n",
       "       0.        , 0.01141127, 0.01057995, 0.02787262, 0.0076391 ,\n",
       "       0.        , 0.        , 0.02193324, 0.03997044, 0.        ,\n",
       "       0.01197091, 0.        , 0.        , 0.00521317, 0.        ,\n",
       "       0.01335586, 0.        , 0.        , 0.02450548, 0.        ,\n",
       "       0.        , 0.01130494, 0.02155709, 0.03320865, 0.0073931 ,\n",
       "       0.        , 0.02521339, 0.        , 0.        , 0.        ,\n",
       "       0.00716147, 0.00720764, 0.01772882, 0.        , 0.00744185,\n",
       "       0.        , 0.        , 0.01094637, 0.02969879, 0.03202249,\n",
       "       0.        ], dtype=float32)"
      ]
     },
     "execution_count": 16,
     "metadata": {},
     "output_type": "execute_result"
    }
   ],
   "source": [
    "weights"
   ]
  },
  {
   "cell_type": "code",
   "execution_count": 18,
   "id": "signed-resident",
   "metadata": {},
   "outputs": [],
   "source": [
    "submission_1602 = pd.read_csv(\"submission_1602_2.csv\")"
   ]
  },
  {
   "cell_type": "code",
   "execution_count": 23,
   "id": "respective-technology",
   "metadata": {},
   "outputs": [],
   "source": [
    "#submission_1602.iloc[0, :].values[1:].dtype"
   ]
  },
  {
   "cell_type": "code",
   "execution_count": 25,
   "id": "successful-constant",
   "metadata": {},
   "outputs": [
    {
     "name": "stderr",
     "output_type": "stream",
     "text": [
      "Getting candles data for Darwins...: 100%|██████████| 96/96 [00:01<00:00, 49.94it/s]\n"
     ]
    }
   ],
   "source": [
    "candles = read_all_candles()"
   ]
  },
  {
   "cell_type": "code",
   "execution_count": 26,
   "id": "occupational-andorra",
   "metadata": {},
   "outputs": [],
   "source": [
    "asset_names = [k for k in candles.keys()]"
   ]
  },
  {
   "cell_type": "code",
   "execution_count": 57,
   "id": "loose-draft",
   "metadata": {},
   "outputs": [],
   "source": [
    "assets_0_2 = [\n",
    "    asset for asset, weight in zip(asset_names, w_pred)\n",
    "    if weight <= 0\n",
    "]"
   ]
  },
  {
   "cell_type": "code",
   "execution_count": 58,
   "id": "accessible-people",
   "metadata": {},
   "outputs": [
    {
     "data": {
      "text/plain": [
       "['ZVQ',\n",
       " 'NCT',\n",
       " 'OOS',\n",
       " 'CSB',\n",
       " 'UYZ',\n",
       " 'TRO',\n",
       " 'ERO',\n",
       " 'AWW',\n",
       " 'ACY',\n",
       " 'MMY',\n",
       " 'LUG',\n",
       " 'LWK',\n",
       " 'ZCD',\n",
       " 'LHB',\n",
       " 'NYD',\n",
       " 'BFS',\n",
       " 'SKN',\n",
       " 'GGR',\n",
       " 'TER',\n",
       " 'NYP',\n",
       " 'EOP',\n",
       " 'PME',\n",
       " 'FNM',\n",
       " 'EEY',\n",
       " 'ERQ',\n",
       " 'AZG',\n",
       " 'OJG',\n",
       " 'WWT',\n",
       " 'BOT',\n",
       " 'TXR',\n",
       " 'DIG',\n",
       " 'PHI']"
      ]
     },
     "execution_count": 58,
     "metadata": {},
     "output_type": "execute_result"
    }
   ],
   "source": [
    "assets_0_2"
   ]
  },
  {
   "cell_type": "code",
   "execution_count": 35,
   "id": "narrow-income",
   "metadata": {},
   "outputs": [],
   "source": [
    "w_dict = {\n",
    "    asset: w / sum(general_weights_fixer(weights))\n",
    "    for asset, w in zip(asset_names, general_weights_fixer(weights))\n",
    "}"
   ]
  },
  {
   "cell_type": "code",
   "execution_count": 36,
   "id": "labeled-edinburgh",
   "metadata": {},
   "outputs": [
    {
     "data": {
      "text/plain": [
       "1.0"
      ]
     },
     "execution_count": 36,
     "metadata": {},
     "output_type": "execute_result"
    }
   ],
   "source": [
    "sum(w_dict.values())"
   ]
  },
  {
   "cell_type": "code",
   "execution_count": 37,
   "id": "strong-series",
   "metadata": {},
   "outputs": [
    {
     "data": {
      "text/plain": [
       "dict_values([0.009999999776482582, 0.012000000104308128, 0.0, 0.0, 0.039000000804662704, 0.004999999888241291, 0.0, 0.0, 0.0, 0.0, 0.0020000000949949026, 0.026000000536441803, 0.003000000026077032, 0.02800000086426735, 0.01899999938905239, 0.03400000184774399, 0.0, 0.03400000184774399, 0.0, 0.03799999877810478, 0.0, 0.03200000151991844, 0.0, 0.03400000184774399, 0.0, 0.013000000268220901, 0.026000000536441803, 0.017000000923871994, 0.0, 0.0, 0.0, 0.006000000052154064, 0.0, 0.010999999940395355, 0.03200000151991844, 0.00800000037997961, 0.0, 0.017999999225139618, 0.0, 0.014000000432133675, 0.029999999329447746, 0.007000000216066837, 0.0, 0.014000000432133675, 0.0, 0.0, 0.012000000104308128, 0.0439999857917428, 0.007000000216066837, 0.0, 0.0, 0.0, 0.006000000052154064, 0.03200000151991844, 0.0020000000949949026, 0.0, 0.010999999940395355, 0.010999999940395355, 0.02800000086426735, 0.00800000037997961, 0.0, 0.0, 0.02199999988079071, 0.03999999910593033, 0.0, 0.012000000104308128, 0.0, 0.0, 0.004999999888241291, 0.0, 0.013000000268220901, 0.0, 0.0, 0.02500000037252903, 0.0, 0.0, 0.010999999940395355, 0.02199999988079071, 0.032999999821186066, 0.007000000216066837, 0.0, 0.02500000037252903, 0.0, 0.0, 0.0, 0.007000000216066837, 0.007000000216066837, 0.017999999225139618, 0.0, 0.007000000216066837, 0.0, 0.0, 0.010999999940395355, 0.029999999329447746, 0.03200000151991844, 0.0])"
      ]
     },
     "execution_count": 37,
     "metadata": {},
     "output_type": "execute_result"
    }
   ],
   "source": [
    "w_dict.values()"
   ]
  },
  {
   "cell_type": "code",
   "execution_count": 40,
   "id": "strange-psychology",
   "metadata": {},
   "outputs": [],
   "source": [
    "submission = get_submission_markowitz(w_dict, asset_names)"
   ]
  },
  {
   "cell_type": "code",
   "execution_count": 41,
   "id": "circular-eagle",
   "metadata": {},
   "outputs": [],
   "source": [
    "test_submission(submission)"
   ]
  },
  {
   "cell_type": "code",
   "execution_count": 42,
   "id": "complex-latitude",
   "metadata": {},
   "outputs": [
    {
     "data": {
      "text/html": [
       "<div>\n",
       "<style scoped>\n",
       "    .dataframe tbody tr th:only-of-type {\n",
       "        vertical-align: middle;\n",
       "    }\n",
       "\n",
       "    .dataframe tbody tr th {\n",
       "        vertical-align: top;\n",
       "    }\n",
       "\n",
       "    .dataframe thead th {\n",
       "        text-align: right;\n",
       "    }\n",
       "</style>\n",
       "<table border=\"1\" class=\"dataframe\">\n",
       "  <thead>\n",
       "    <tr style=\"text-align: right;\">\n",
       "      <th></th>\n",
       "      <th>allo_ZVQ</th>\n",
       "      <th>allo_NCT</th>\n",
       "      <th>allo_YAX</th>\n",
       "      <th>allo_OOS</th>\n",
       "      <th>allo_GFJ</th>\n",
       "      <th>allo_FIR</th>\n",
       "      <th>allo_USX</th>\n",
       "      <th>allo_FSK</th>\n",
       "      <th>allo_TMF</th>\n",
       "      <th>allo_TDD</th>\n",
       "      <th>...</th>\n",
       "      <th>allo_AZG</th>\n",
       "      <th>allo_OJG</th>\n",
       "      <th>allo_WWT</th>\n",
       "      <th>allo_BOT</th>\n",
       "      <th>allo_TXR</th>\n",
       "      <th>allo_RAT</th>\n",
       "      <th>allo_DIG</th>\n",
       "      <th>allo_SRI</th>\n",
       "      <th>allo_PHI</th>\n",
       "      <th>allo_RWJ</th>\n",
       "    </tr>\n",
       "    <tr>\n",
       "      <th>eod_ts</th>\n",
       "      <th></th>\n",
       "      <th></th>\n",
       "      <th></th>\n",
       "      <th></th>\n",
       "      <th></th>\n",
       "      <th></th>\n",
       "      <th></th>\n",
       "      <th></th>\n",
       "      <th></th>\n",
       "      <th></th>\n",
       "      <th></th>\n",
       "      <th></th>\n",
       "      <th></th>\n",
       "      <th></th>\n",
       "      <th></th>\n",
       "      <th></th>\n",
       "      <th></th>\n",
       "      <th></th>\n",
       "      <th></th>\n",
       "      <th></th>\n",
       "      <th></th>\n",
       "    </tr>\n",
       "  </thead>\n",
       "  <tbody>\n",
       "    <tr>\n",
       "      <th>2020-08-18 00:00:00</th>\n",
       "      <td>0.01</td>\n",
       "      <td>0.012</td>\n",
       "      <td>0.0</td>\n",
       "      <td>0.0</td>\n",
       "      <td>0.039</td>\n",
       "      <td>0.005</td>\n",
       "      <td>0.0</td>\n",
       "      <td>0.0</td>\n",
       "      <td>0.0</td>\n",
       "      <td>0.0</td>\n",
       "      <td>...</td>\n",
       "      <td>0.007</td>\n",
       "      <td>0.018</td>\n",
       "      <td>0.0</td>\n",
       "      <td>0.007</td>\n",
       "      <td>0.0</td>\n",
       "      <td>0.0</td>\n",
       "      <td>0.011</td>\n",
       "      <td>0.03</td>\n",
       "      <td>0.032</td>\n",
       "      <td>0.0</td>\n",
       "    </tr>\n",
       "    <tr>\n",
       "      <th>2020-08-18 01:00:00</th>\n",
       "      <td>0.01</td>\n",
       "      <td>0.012</td>\n",
       "      <td>0.0</td>\n",
       "      <td>0.0</td>\n",
       "      <td>0.039</td>\n",
       "      <td>0.005</td>\n",
       "      <td>0.0</td>\n",
       "      <td>0.0</td>\n",
       "      <td>0.0</td>\n",
       "      <td>0.0</td>\n",
       "      <td>...</td>\n",
       "      <td>0.007</td>\n",
       "      <td>0.018</td>\n",
       "      <td>0.0</td>\n",
       "      <td>0.007</td>\n",
       "      <td>0.0</td>\n",
       "      <td>0.0</td>\n",
       "      <td>0.011</td>\n",
       "      <td>0.03</td>\n",
       "      <td>0.032</td>\n",
       "      <td>0.0</td>\n",
       "    </tr>\n",
       "    <tr>\n",
       "      <th>2020-08-18 02:00:00</th>\n",
       "      <td>0.01</td>\n",
       "      <td>0.012</td>\n",
       "      <td>0.0</td>\n",
       "      <td>0.0</td>\n",
       "      <td>0.039</td>\n",
       "      <td>0.005</td>\n",
       "      <td>0.0</td>\n",
       "      <td>0.0</td>\n",
       "      <td>0.0</td>\n",
       "      <td>0.0</td>\n",
       "      <td>...</td>\n",
       "      <td>0.007</td>\n",
       "      <td>0.018</td>\n",
       "      <td>0.0</td>\n",
       "      <td>0.007</td>\n",
       "      <td>0.0</td>\n",
       "      <td>0.0</td>\n",
       "      <td>0.011</td>\n",
       "      <td>0.03</td>\n",
       "      <td>0.032</td>\n",
       "      <td>0.0</td>\n",
       "    </tr>\n",
       "    <tr>\n",
       "      <th>2020-08-18 03:00:00</th>\n",
       "      <td>0.01</td>\n",
       "      <td>0.012</td>\n",
       "      <td>0.0</td>\n",
       "      <td>0.0</td>\n",
       "      <td>0.039</td>\n",
       "      <td>0.005</td>\n",
       "      <td>0.0</td>\n",
       "      <td>0.0</td>\n",
       "      <td>0.0</td>\n",
       "      <td>0.0</td>\n",
       "      <td>...</td>\n",
       "      <td>0.007</td>\n",
       "      <td>0.018</td>\n",
       "      <td>0.0</td>\n",
       "      <td>0.007</td>\n",
       "      <td>0.0</td>\n",
       "      <td>0.0</td>\n",
       "      <td>0.011</td>\n",
       "      <td>0.03</td>\n",
       "      <td>0.032</td>\n",
       "      <td>0.0</td>\n",
       "    </tr>\n",
       "    <tr>\n",
       "      <th>2020-08-18 04:00:00</th>\n",
       "      <td>0.01</td>\n",
       "      <td>0.012</td>\n",
       "      <td>0.0</td>\n",
       "      <td>0.0</td>\n",
       "      <td>0.039</td>\n",
       "      <td>0.005</td>\n",
       "      <td>0.0</td>\n",
       "      <td>0.0</td>\n",
       "      <td>0.0</td>\n",
       "      <td>0.0</td>\n",
       "      <td>...</td>\n",
       "      <td>0.007</td>\n",
       "      <td>0.018</td>\n",
       "      <td>0.0</td>\n",
       "      <td>0.007</td>\n",
       "      <td>0.0</td>\n",
       "      <td>0.0</td>\n",
       "      <td>0.011</td>\n",
       "      <td>0.03</td>\n",
       "      <td>0.032</td>\n",
       "      <td>0.0</td>\n",
       "    </tr>\n",
       "  </tbody>\n",
       "</table>\n",
       "<p>5 rows × 96 columns</p>\n",
       "</div>"
      ],
      "text/plain": [
       "                     allo_ZVQ  allo_NCT  allo_YAX  allo_OOS  allo_GFJ  \\\n",
       "eod_ts                                                                  \n",
       "2020-08-18 00:00:00      0.01     0.012       0.0       0.0     0.039   \n",
       "2020-08-18 01:00:00      0.01     0.012       0.0       0.0     0.039   \n",
       "2020-08-18 02:00:00      0.01     0.012       0.0       0.0     0.039   \n",
       "2020-08-18 03:00:00      0.01     0.012       0.0       0.0     0.039   \n",
       "2020-08-18 04:00:00      0.01     0.012       0.0       0.0     0.039   \n",
       "\n",
       "                     allo_FIR  allo_USX  allo_FSK  allo_TMF  allo_TDD  ...  \\\n",
       "eod_ts                                                                 ...   \n",
       "2020-08-18 00:00:00     0.005       0.0       0.0       0.0       0.0  ...   \n",
       "2020-08-18 01:00:00     0.005       0.0       0.0       0.0       0.0  ...   \n",
       "2020-08-18 02:00:00     0.005       0.0       0.0       0.0       0.0  ...   \n",
       "2020-08-18 03:00:00     0.005       0.0       0.0       0.0       0.0  ...   \n",
       "2020-08-18 04:00:00     0.005       0.0       0.0       0.0       0.0  ...   \n",
       "\n",
       "                     allo_AZG  allo_OJG  allo_WWT  allo_BOT  allo_TXR  \\\n",
       "eod_ts                                                                  \n",
       "2020-08-18 00:00:00     0.007     0.018       0.0     0.007       0.0   \n",
       "2020-08-18 01:00:00     0.007     0.018       0.0     0.007       0.0   \n",
       "2020-08-18 02:00:00     0.007     0.018       0.0     0.007       0.0   \n",
       "2020-08-18 03:00:00     0.007     0.018       0.0     0.007       0.0   \n",
       "2020-08-18 04:00:00     0.007     0.018       0.0     0.007       0.0   \n",
       "\n",
       "                     allo_RAT  allo_DIG  allo_SRI  allo_PHI  allo_RWJ  \n",
       "eod_ts                                                                 \n",
       "2020-08-18 00:00:00       0.0     0.011      0.03     0.032       0.0  \n",
       "2020-08-18 01:00:00       0.0     0.011      0.03     0.032       0.0  \n",
       "2020-08-18 02:00:00       0.0     0.011      0.03     0.032       0.0  \n",
       "2020-08-18 03:00:00       0.0     0.011      0.03     0.032       0.0  \n",
       "2020-08-18 04:00:00       0.0     0.011      0.03     0.032       0.0  \n",
       "\n",
       "[5 rows x 96 columns]"
      ]
     },
     "execution_count": 42,
     "metadata": {},
     "output_type": "execute_result"
    }
   ],
   "source": [
    "submission.head()"
   ]
  },
  {
   "cell_type": "code",
   "execution_count": 43,
   "id": "undefined-prompt",
   "metadata": {},
   "outputs": [
    {
     "data": {
      "text/plain": [
       "True"
      ]
     },
     "execution_count": 43,
     "metadata": {},
     "output_type": "execute_result"
    }
   ],
   "source": [
    "all(submission.sum(axis=1) == 1)"
   ]
  },
  {
   "cell_type": "code",
   "execution_count": 44,
   "id": "otherwise-canal",
   "metadata": {},
   "outputs": [
    {
     "data": {
      "text/plain": [
       "True"
      ]
     },
     "execution_count": 44,
     "metadata": {},
     "output_type": "execute_result"
    }
   ],
   "source": [
    "all(submission >= 0)"
   ]
  },
  {
   "cell_type": "code",
   "execution_count": 46,
   "id": "biological-crisis",
   "metadata": {},
   "outputs": [],
   "source": [
    "submission.to_csv(\"submission_2203.csv\", header=True, index=True)"
   ]
  },
  {
   "cell_type": "code",
   "execution_count": null,
   "id": "grave-object",
   "metadata": {},
   "outputs": [],
   "source": []
  }
 ],
 "metadata": {
  "kernelspec": {
   "display_name": "Python [conda env:series_temporales] *",
   "language": "python",
   "name": "conda-env-series_temporales-py"
  },
  "language_info": {
   "codemirror_mode": {
    "name": "ipython",
    "version": 3
   },
   "file_extension": ".py",
   "mimetype": "text/x-python",
   "name": "python",
   "nbconvert_exporter": "python",
   "pygments_lexer": "ipython3",
   "version": "3.7.9"
  }
 },
 "nbformat": 4,
 "nbformat_minor": 5
}
