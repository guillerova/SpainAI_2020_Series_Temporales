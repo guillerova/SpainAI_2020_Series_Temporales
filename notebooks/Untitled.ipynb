{
 "cells": [
  {
   "cell_type": "code",
   "execution_count": 38,
   "id": "chief-georgia",
   "metadata": {},
   "outputs": [],
   "source": [
    "import pandas as pd\n",
    "import os\n",
    "from data_utils import get_raw_dataset"
   ]
  },
  {
   "cell_type": "code",
   "execution_count": 2,
   "id": "sapphire-appeal",
   "metadata": {},
   "outputs": [
    {
     "name": "stdout",
     "output_type": "stream",
     "text": [
      "10-year-treasury-bond-rate-yield-chart.csv  IVE_tickbidask.txt\r\n",
      "equity_trades_only_1min.csv\t\t    OIH_adjusted.txt\r\n",
      "IBM_adjusted.txt\t\t\t    OIH_unadjusted.txt\r\n",
      "IBM_unadjusted.txt\t\t\t    WDC_tickbidask.txt\r\n"
     ]
    }
   ],
   "source": [
    "!ls datos_series_temporales"
   ]
  },
  {
   "cell_type": "code",
   "execution_count": 3,
   "id": "political-chuck",
   "metadata": {},
   "outputs": [
    {
     "name": "stdout",
     "output_type": "stream",
     "text": [
      "09/28/2009,09:30:00,50.79,50.7,50.79,100\r",
      "\r\n",
      "09/28/2009,09:30:00,50.71,50.7,50.79,638\r",
      "\r\n",
      "09/28/2009,09:31:32,50.75,50.75,50.76,100\r",
      "\r\n",
      "09/28/2009,09:31:32,50.75,50.75,50.76,100\r",
      "\r\n",
      "09/28/2009,09:31:33,50.75,50.75,50.76,100\r",
      "\r\n",
      "09/28/2009,09:31:33,50.75,50.75,50.76,100\r",
      "\r\n",
      "09/28/2009,09:31:33,50.75,50.75,50.76,100\r",
      "\r\n",
      "09/28/2009,09:31:33,50.75,50.75,50.76,100\r",
      "\r\n",
      "09/28/2009,09:31:33,50.75,50.75,50.76,100\r",
      "\r\n",
      "09/28/2009,09:31:33,50.75,50.75,50.76,100\r",
      "\r\n"
     ]
    }
   ],
   "source": [
    "!head datos_series_temporales/IVE_tickbidask.txt"
   ]
  },
  {
   "cell_type": "code",
   "execution_count": 7,
   "id": "tamil-season",
   "metadata": {},
   "outputs": [
    {
     "name": "stdout",
     "output_type": "stream",
     "text": [
      "02/26/2001,09:41,404.82,404.82,404.82,404.82,4377\r",
      "\r\n",
      "02/26/2001,09:44,406.24,406.24,406.24,406.24,106\r",
      "\r\n",
      "02/26/2001,09:46,407.89,407.89,407.89,407.89,106\r",
      "\r\n",
      "02/26/2001,10:14,411.91,411.91,411.91,411.91,42\r",
      "\r\n",
      "02/26/2001,10:18,414.28,414.28,414.28,414.28,6344\r",
      "\r\n",
      "02/26/2001,10:35,414.28,414.28,414.28,414.28,106\r",
      "\r\n",
      "02/26/2001,10:51,417.12,417.12,417.12,417.12,42\r",
      "\r\n",
      "02/26/2001,11:01,414.85,414.85,414.85,414.85,63\r",
      "\r\n",
      "02/26/2001,11:13,419.01,419.95,419.01,419.95,1269\r",
      "\r\n",
      "02/26/2001,11:20,418.06,418.06,418.06,418.06,21\r",
      "\r\n"
     ]
    }
   ],
   "source": [
    "!head -10 datos_series_temporales/OIH_adjusted.txt"
   ]
  },
  {
   "cell_type": "code",
   "execution_count": 103,
   "id": "according-sterling",
   "metadata": {},
   "outputs": [],
   "source": [
    "def _read_sp500(file):\n",
    "    df =  pd.read_csv(file, names = [\"date\", \"time\", \"price\", \"bid\", \"ask\", \"volume\"], parse_dates=[[\"date\", \"time\"]])\n",
    "    return df"
   ]
  },
  {
   "cell_type": "code",
   "execution_count": 140,
   "id": "unique-musical",
   "metadata": {},
   "outputs": [],
   "source": [
    "def _read_oil(file):\n",
    "    df = pd.read_csv(\n",
    "        file,\n",
    "        names=[\"date\", \"time\", \"open\", \"high\", \"low\", \"close\", \"volume\"],\n",
    "        parse_dates=[[\"date\", \"time\"]]\n",
    "    )\n",
    "    return df"
   ]
  },
  {
   "cell_type": "code",
   "execution_count": 21,
   "id": "synthetic-cursor",
   "metadata": {},
   "outputs": [],
   "source": [
    "sp500 = _read_sp500(\"datos_series_temporales/IVE_tickbidask.txt\")"
   ]
  },
  {
   "cell_type": "code",
   "execution_count": 141,
   "id": "secondary-africa",
   "metadata": {},
   "outputs": [],
   "source": [
    "oil = _read_oil(\"datos_series_temporales/OIH_adjusted.txt\")"
   ]
  },
  {
   "cell_type": "code",
   "execution_count": 22,
   "id": "forced-trouble",
   "metadata": {},
   "outputs": [
    {
     "data": {
      "text/plain": [
       "(8626971, 5)"
      ]
     },
     "execution_count": 22,
     "metadata": {},
     "output_type": "execute_result"
    }
   ],
   "source": [
    "sp500.shape"
   ]
  },
  {
   "cell_type": "code",
   "execution_count": 142,
   "id": "confident-cooper",
   "metadata": {},
   "outputs": [
    {
     "data": {
      "text/plain": [
       "(1815874, 6)"
      ]
     },
     "execution_count": 142,
     "metadata": {},
     "output_type": "execute_result"
    }
   ],
   "source": [
    "oil.shape"
   ]
  },
  {
   "cell_type": "code",
   "execution_count": 143,
   "id": "renewable-organ",
   "metadata": {},
   "outputs": [
    {
     "data": {
      "text/html": [
       "<div>\n",
       "<style scoped>\n",
       "    .dataframe tbody tr th:only-of-type {\n",
       "        vertical-align: middle;\n",
       "    }\n",
       "\n",
       "    .dataframe tbody tr th {\n",
       "        vertical-align: top;\n",
       "    }\n",
       "\n",
       "    .dataframe thead th {\n",
       "        text-align: right;\n",
       "    }\n",
       "</style>\n",
       "<table border=\"1\" class=\"dataframe\">\n",
       "  <thead>\n",
       "    <tr style=\"text-align: right;\">\n",
       "      <th></th>\n",
       "      <th>date_time</th>\n",
       "      <th>open</th>\n",
       "      <th>high</th>\n",
       "      <th>low</th>\n",
       "      <th>close</th>\n",
       "      <th>volume</th>\n",
       "    </tr>\n",
       "  </thead>\n",
       "  <tbody>\n",
       "    <tr>\n",
       "      <th>0</th>\n",
       "      <td>2001-02-26 09:41:00</td>\n",
       "      <td>404.82</td>\n",
       "      <td>404.82</td>\n",
       "      <td>404.82</td>\n",
       "      <td>404.82</td>\n",
       "      <td>4377</td>\n",
       "    </tr>\n",
       "    <tr>\n",
       "      <th>1</th>\n",
       "      <td>2001-02-26 09:44:00</td>\n",
       "      <td>406.24</td>\n",
       "      <td>406.24</td>\n",
       "      <td>406.24</td>\n",
       "      <td>406.24</td>\n",
       "      <td>106</td>\n",
       "    </tr>\n",
       "    <tr>\n",
       "      <th>2</th>\n",
       "      <td>2001-02-26 09:46:00</td>\n",
       "      <td>407.89</td>\n",
       "      <td>407.89</td>\n",
       "      <td>407.89</td>\n",
       "      <td>407.89</td>\n",
       "      <td>106</td>\n",
       "    </tr>\n",
       "    <tr>\n",
       "      <th>3</th>\n",
       "      <td>2001-02-26 10:14:00</td>\n",
       "      <td>411.91</td>\n",
       "      <td>411.91</td>\n",
       "      <td>411.91</td>\n",
       "      <td>411.91</td>\n",
       "      <td>42</td>\n",
       "    </tr>\n",
       "    <tr>\n",
       "      <th>4</th>\n",
       "      <td>2001-02-26 10:18:00</td>\n",
       "      <td>414.28</td>\n",
       "      <td>414.28</td>\n",
       "      <td>414.28</td>\n",
       "      <td>414.28</td>\n",
       "      <td>6344</td>\n",
       "    </tr>\n",
       "  </tbody>\n",
       "</table>\n",
       "</div>"
      ],
      "text/plain": [
       "            date_time    open    high     low   close  volume\n",
       "0 2001-02-26 09:41:00  404.82  404.82  404.82  404.82    4377\n",
       "1 2001-02-26 09:44:00  406.24  406.24  406.24  406.24     106\n",
       "2 2001-02-26 09:46:00  407.89  407.89  407.89  407.89     106\n",
       "3 2001-02-26 10:14:00  411.91  411.91  411.91  411.91      42\n",
       "4 2001-02-26 10:18:00  414.28  414.28  414.28  414.28    6344"
      ]
     },
     "execution_count": 143,
     "metadata": {},
     "output_type": "execute_result"
    }
   ],
   "source": [
    "oil.head()"
   ]
  },
  {
   "cell_type": "code",
   "execution_count": 150,
   "id": "frequent-royalty",
   "metadata": {},
   "outputs": [],
   "source": [
    "def cut_oil(oil_df, assetsdf):\n",
    "    first_date = assetsdf.index[0]\n",
    "    last_date = assetsdf.index[-1]\n",
    "    after_first = oil_df[\"date_time\"] >= first_date\n",
    "    before_last = oil_df[\"date_time\"] <= last_date\n",
    "    between = after_first & before_last\n",
    "    oil_df = oil_df.loc[between]\n",
    "    oil_df.columns = [\"date\"] + [f\"oil_{col}\" for col in oil_df.columns if \"date\" not in col]\n",
    "    oil_df = oil_df.resample(\"H\", on=\"date\").aggregate(\"mean\")\n",
    "    oil_df.fillna(method=\"ffill\", inplace=True)\n",
    "    return oil_df"
   ]
  },
  {
   "cell_type": "code",
   "execution_count": 151,
   "id": "regulated-complaint",
   "metadata": {},
   "outputs": [],
   "source": [
    "oil_cut = cut_oil(oil, assets_df)"
   ]
  },
  {
   "cell_type": "code",
   "execution_count": 152,
   "id": "hearing-repository",
   "metadata": {},
   "outputs": [
    {
     "data": {
      "text/html": [
       "<div>\n",
       "<style scoped>\n",
       "    .dataframe tbody tr th:only-of-type {\n",
       "        vertical-align: middle;\n",
       "    }\n",
       "\n",
       "    .dataframe tbody tr th {\n",
       "        vertical-align: top;\n",
       "    }\n",
       "\n",
       "    .dataframe thead th {\n",
       "        text-align: right;\n",
       "    }\n",
       "</style>\n",
       "<table border=\"1\" class=\"dataframe\">\n",
       "  <thead>\n",
       "    <tr style=\"text-align: right;\">\n",
       "      <th></th>\n",
       "      <th>oil_open</th>\n",
       "      <th>oil_high</th>\n",
       "      <th>oil_low</th>\n",
       "      <th>oil_close</th>\n",
       "      <th>oil_volume</th>\n",
       "    </tr>\n",
       "    <tr>\n",
       "      <th>date</th>\n",
       "      <th></th>\n",
       "      <th></th>\n",
       "      <th></th>\n",
       "      <th></th>\n",
       "      <th></th>\n",
       "    </tr>\n",
       "  </thead>\n",
       "  <tbody>\n",
       "    <tr>\n",
       "      <th>2018-12-19 08:00:00</th>\n",
       "      <td>289.180000</td>\n",
       "      <td>289.180000</td>\n",
       "      <td>289.180000</td>\n",
       "      <td>289.180000</td>\n",
       "      <td>53.000000</td>\n",
       "    </tr>\n",
       "    <tr>\n",
       "      <th>2018-12-19 09:00:00</th>\n",
       "      <td>288.941429</td>\n",
       "      <td>289.236000</td>\n",
       "      <td>288.683143</td>\n",
       "      <td>288.952286</td>\n",
       "      <td>1376.628571</td>\n",
       "    </tr>\n",
       "    <tr>\n",
       "      <th>2018-12-19 10:00:00</th>\n",
       "      <td>291.335000</td>\n",
       "      <td>291.529000</td>\n",
       "      <td>291.116833</td>\n",
       "      <td>291.336000</td>\n",
       "      <td>2281.416667</td>\n",
       "    </tr>\n",
       "    <tr>\n",
       "      <th>2018-12-19 11:00:00</th>\n",
       "      <td>290.732500</td>\n",
       "      <td>290.856333</td>\n",
       "      <td>290.559500</td>\n",
       "      <td>290.720667</td>\n",
       "      <td>1254.316667</td>\n",
       "    </tr>\n",
       "    <tr>\n",
       "      <th>2018-12-19 12:00:00</th>\n",
       "      <td>291.526500</td>\n",
       "      <td>291.634333</td>\n",
       "      <td>291.431833</td>\n",
       "      <td>291.529500</td>\n",
       "      <td>1390.316667</td>\n",
       "    </tr>\n",
       "  </tbody>\n",
       "</table>\n",
       "</div>"
      ],
      "text/plain": [
       "                       oil_open    oil_high     oil_low   oil_close  \\\n",
       "date                                                                  \n",
       "2018-12-19 08:00:00  289.180000  289.180000  289.180000  289.180000   \n",
       "2018-12-19 09:00:00  288.941429  289.236000  288.683143  288.952286   \n",
       "2018-12-19 10:00:00  291.335000  291.529000  291.116833  291.336000   \n",
       "2018-12-19 11:00:00  290.732500  290.856333  290.559500  290.720667   \n",
       "2018-12-19 12:00:00  291.526500  291.634333  291.431833  291.529500   \n",
       "\n",
       "                      oil_volume  \n",
       "date                              \n",
       "2018-12-19 08:00:00    53.000000  \n",
       "2018-12-19 09:00:00  1376.628571  \n",
       "2018-12-19 10:00:00  2281.416667  \n",
       "2018-12-19 11:00:00  1254.316667  \n",
       "2018-12-19 12:00:00  1390.316667  "
      ]
     },
     "execution_count": 152,
     "metadata": {},
     "output_type": "execute_result"
    }
   ],
   "source": [
    "oil_cut.head()"
   ]
  },
  {
   "cell_type": "code",
   "execution_count": 25,
   "id": "handy-seeking",
   "metadata": {},
   "outputs": [],
   "source": [
    "df = sp500.set_index(\"date_time\")"
   ]
  },
  {
   "cell_type": "code",
   "execution_count": 26,
   "id": "cooked-vermont",
   "metadata": {},
   "outputs": [
    {
     "data": {
      "text/html": [
       "<div>\n",
       "<style scoped>\n",
       "    .dataframe tbody tr th:only-of-type {\n",
       "        vertical-align: middle;\n",
       "    }\n",
       "\n",
       "    .dataframe tbody tr th {\n",
       "        vertical-align: top;\n",
       "    }\n",
       "\n",
       "    .dataframe thead th {\n",
       "        text-align: right;\n",
       "    }\n",
       "</style>\n",
       "<table border=\"1\" class=\"dataframe\">\n",
       "  <thead>\n",
       "    <tr style=\"text-align: right;\">\n",
       "      <th></th>\n",
       "      <th>price</th>\n",
       "      <th>bid</th>\n",
       "      <th>ask</th>\n",
       "      <th>volume</th>\n",
       "    </tr>\n",
       "    <tr>\n",
       "      <th>date_time</th>\n",
       "      <th></th>\n",
       "      <th></th>\n",
       "      <th></th>\n",
       "      <th></th>\n",
       "    </tr>\n",
       "  </thead>\n",
       "  <tbody>\n",
       "    <tr>\n",
       "      <th>2009-09-30</th>\n",
       "      <td>51.377042</td>\n",
       "      <td>51.368301</td>\n",
       "      <td>51.384011</td>\n",
       "      <td>233.884076</td>\n",
       "    </tr>\n",
       "    <tr>\n",
       "      <th>2009-10-31</th>\n",
       "      <td>51.348281</td>\n",
       "      <td>51.340591</td>\n",
       "      <td>51.356182</td>\n",
       "      <td>226.439439</td>\n",
       "    </tr>\n",
       "    <tr>\n",
       "      <th>2009-11-30</th>\n",
       "      <td>51.528722</td>\n",
       "      <td>51.519520</td>\n",
       "      <td>51.537647</td>\n",
       "      <td>254.567487</td>\n",
       "    </tr>\n",
       "    <tr>\n",
       "      <th>2009-12-31</th>\n",
       "      <td>53.236331</td>\n",
       "      <td>53.227453</td>\n",
       "      <td>53.243479</td>\n",
       "      <td>289.358402</td>\n",
       "    </tr>\n",
       "    <tr>\n",
       "      <th>2010-01-31</th>\n",
       "      <td>53.916272</td>\n",
       "      <td>53.910540</td>\n",
       "      <td>53.922525</td>\n",
       "      <td>220.264727</td>\n",
       "    </tr>\n",
       "    <tr>\n",
       "      <th>...</th>\n",
       "      <td>...</td>\n",
       "      <td>...</td>\n",
       "      <td>...</td>\n",
       "      <td>...</td>\n",
       "    </tr>\n",
       "    <tr>\n",
       "      <th>2020-10-31</th>\n",
       "      <td>114.078825</td>\n",
       "      <td>114.067478</td>\n",
       "      <td>114.085537</td>\n",
       "      <td>211.418889</td>\n",
       "    </tr>\n",
       "    <tr>\n",
       "      <th>2020-11-30</th>\n",
       "      <td>121.259634</td>\n",
       "      <td>121.245374</td>\n",
       "      <td>121.276746</td>\n",
       "      <td>246.063958</td>\n",
       "    </tr>\n",
       "    <tr>\n",
       "      <th>2020-12-31</th>\n",
       "      <td>126.693219</td>\n",
       "      <td>126.681529</td>\n",
       "      <td>126.702783</td>\n",
       "      <td>230.108560</td>\n",
       "    </tr>\n",
       "    <tr>\n",
       "      <th>2021-01-31</th>\n",
       "      <td>129.591459</td>\n",
       "      <td>129.577746</td>\n",
       "      <td>129.604337</td>\n",
       "      <td>240.702919</td>\n",
       "    </tr>\n",
       "    <tr>\n",
       "      <th>2021-02-28</th>\n",
       "      <td>127.849726</td>\n",
       "      <td>127.833511</td>\n",
       "      <td>127.865049</td>\n",
       "      <td>299.901471</td>\n",
       "    </tr>\n",
       "  </tbody>\n",
       "</table>\n",
       "<p>138 rows × 4 columns</p>\n",
       "</div>"
      ],
      "text/plain": [
       "                 price         bid         ask      volume\n",
       "date_time                                                 \n",
       "2009-09-30   51.377042   51.368301   51.384011  233.884076\n",
       "2009-10-31   51.348281   51.340591   51.356182  226.439439\n",
       "2009-11-30   51.528722   51.519520   51.537647  254.567487\n",
       "2009-12-31   53.236331   53.227453   53.243479  289.358402\n",
       "2010-01-31   53.916272   53.910540   53.922525  220.264727\n",
       "...                ...         ...         ...         ...\n",
       "2020-10-31  114.078825  114.067478  114.085537  211.418889\n",
       "2020-11-30  121.259634  121.245374  121.276746  246.063958\n",
       "2020-12-31  126.693219  126.681529  126.702783  230.108560\n",
       "2021-01-31  129.591459  129.577746  129.604337  240.702919\n",
       "2021-02-28  127.849726  127.833511  127.865049  299.901471\n",
       "\n",
       "[138 rows x 4 columns]"
      ]
     },
     "execution_count": 26,
     "metadata": {},
     "output_type": "execute_result"
    }
   ],
   "source": [
    "df.resample(\"m\").aggregate(\"mean\")"
   ]
  },
  {
   "cell_type": "code",
   "execution_count": 27,
   "id": "assured-swimming",
   "metadata": {},
   "outputs": [],
   "source": [
    "times = pd.to_datetime(df.index)"
   ]
  },
  {
   "cell_type": "code",
   "execution_count": 28,
   "id": "broad-needle",
   "metadata": {},
   "outputs": [
    {
     "data": {
      "text/plain": [
       "Timestamp('2009-09-28 09:30:00')"
      ]
     },
     "execution_count": 28,
     "metadata": {},
     "output_type": "execute_result"
    }
   ],
   "source": [
    "times[0]"
   ]
  },
  {
   "cell_type": "code",
   "execution_count": 29,
   "id": "aware-district",
   "metadata": {},
   "outputs": [
    {
     "data": {
      "text/plain": [
       "date_time  date_time  date_time\n",
       "1          6          43            53.360000\n",
       "           7          0            110.500000\n",
       "                      2            117.560000\n",
       "                      39            61.150000\n",
       "           8          8             60.445000\n",
       "                                      ...    \n",
       "31         18         25           109.650000\n",
       "                      30           111.424348\n",
       "           19         55           116.210000\n",
       "           20         0            111.424348\n",
       "                      12           118.984500\n",
       "Name: price, Length: 13466, dtype: float64"
      ]
     },
     "execution_count": 29,
     "metadata": {},
     "output_type": "execute_result"
    }
   ],
   "source": [
    "df.groupby([times.day, times.hour, times.minute])[\"price\"].mean()\n"
   ]
  },
  {
   "cell_type": "code",
   "execution_count": 32,
   "id": "technological-offer",
   "metadata": {},
   "outputs": [],
   "source": [
    "df_minute = sp500.groupby(sp500.date_time.dt.time)[[\"price\", \"bid\", \"ask\", \"volume\"]].mean()"
   ]
  },
  {
   "cell_type": "code",
   "execution_count": 33,
   "id": "stuffed-switzerland",
   "metadata": {},
   "outputs": [
    {
     "data": {
      "text/html": [
       "<div>\n",
       "<style scoped>\n",
       "    .dataframe tbody tr th:only-of-type {\n",
       "        vertical-align: middle;\n",
       "    }\n",
       "\n",
       "    .dataframe tbody tr th {\n",
       "        vertical-align: top;\n",
       "    }\n",
       "\n",
       "    .dataframe thead th {\n",
       "        text-align: right;\n",
       "    }\n",
       "</style>\n",
       "<table border=\"1\" class=\"dataframe\">\n",
       "  <thead>\n",
       "    <tr style=\"text-align: right;\">\n",
       "      <th></th>\n",
       "      <th>price</th>\n",
       "      <th>bid</th>\n",
       "      <th>ask</th>\n",
       "      <th>volume</th>\n",
       "    </tr>\n",
       "    <tr>\n",
       "      <th>date_time</th>\n",
       "      <th></th>\n",
       "      <th></th>\n",
       "      <th></th>\n",
       "      <th></th>\n",
       "    </tr>\n",
       "  </thead>\n",
       "  <tbody>\n",
       "    <tr>\n",
       "      <th>04:00:00</th>\n",
       "      <td>112.905</td>\n",
       "      <td>57.74</td>\n",
       "      <td>55.165</td>\n",
       "      <td>100.0</td>\n",
       "    </tr>\n",
       "    <tr>\n",
       "      <th>04:00:36</th>\n",
       "      <td>108.950</td>\n",
       "      <td>103.95</td>\n",
       "      <td>108.950</td>\n",
       "      <td>237.0</td>\n",
       "    </tr>\n",
       "    <tr>\n",
       "      <th>04:08:09</th>\n",
       "      <td>115.060</td>\n",
       "      <td>0.00</td>\n",
       "      <td>115.060</td>\n",
       "      <td>238.0</td>\n",
       "    </tr>\n",
       "    <tr>\n",
       "      <th>04:13:00</th>\n",
       "      <td>110.000</td>\n",
       "      <td>109.40</td>\n",
       "      <td>110.000</td>\n",
       "      <td>100.0</td>\n",
       "    </tr>\n",
       "    <tr>\n",
       "      <th>04:23:13</th>\n",
       "      <td>100.500</td>\n",
       "      <td>99.49</td>\n",
       "      <td>0.000</td>\n",
       "      <td>100.0</td>\n",
       "    </tr>\n",
       "  </tbody>\n",
       "</table>\n",
       "</div>"
      ],
      "text/plain": [
       "             price     bid      ask  volume\n",
       "date_time                                  \n",
       "04:00:00   112.905   57.74   55.165   100.0\n",
       "04:00:36   108.950  103.95  108.950   237.0\n",
       "04:08:09   115.060    0.00  115.060   238.0\n",
       "04:13:00   110.000  109.40  110.000   100.0\n",
       "04:23:13   100.500   99.49    0.000   100.0"
      ]
     },
     "execution_count": 33,
     "metadata": {},
     "output_type": "execute_result"
    }
   ],
   "source": [
    "df_minute.head()"
   ]
  },
  {
   "cell_type": "code",
   "execution_count": 34,
   "id": "offensive-jersey",
   "metadata": {},
   "outputs": [
    {
     "data": {
      "text/plain": [
       "(25035, 4)"
      ]
     },
     "execution_count": 34,
     "metadata": {},
     "output_type": "execute_result"
    }
   ],
   "source": [
    "df_minute.shape"
   ]
  },
  {
   "cell_type": "code",
   "execution_count": 35,
   "id": "efficient-delight",
   "metadata": {},
   "outputs": [],
   "source": [
    "df_hour = df.resample(\"H\").aggregate(\"mean\")"
   ]
  },
  {
   "cell_type": "code",
   "execution_count": 36,
   "id": "mineral-berlin",
   "metadata": {},
   "outputs": [
    {
     "data": {
      "text/plain": [
       "(99492, 4)"
      ]
     },
     "execution_count": 36,
     "metadata": {},
     "output_type": "execute_result"
    }
   ],
   "source": [
    "df_hour.shape"
   ]
  },
  {
   "cell_type": "code",
   "execution_count": 37,
   "id": "expired-victorian",
   "metadata": {},
   "outputs": [
    {
     "data": {
      "text/html": [
       "<div>\n",
       "<style scoped>\n",
       "    .dataframe tbody tr th:only-of-type {\n",
       "        vertical-align: middle;\n",
       "    }\n",
       "\n",
       "    .dataframe tbody tr th {\n",
       "        vertical-align: top;\n",
       "    }\n",
       "\n",
       "    .dataframe thead th {\n",
       "        text-align: right;\n",
       "    }\n",
       "</style>\n",
       "<table border=\"1\" class=\"dataframe\">\n",
       "  <thead>\n",
       "    <tr style=\"text-align: right;\">\n",
       "      <th></th>\n",
       "      <th>price</th>\n",
       "      <th>bid</th>\n",
       "      <th>ask</th>\n",
       "      <th>volume</th>\n",
       "    </tr>\n",
       "    <tr>\n",
       "      <th>date_time</th>\n",
       "      <th></th>\n",
       "      <th></th>\n",
       "      <th></th>\n",
       "      <th></th>\n",
       "    </tr>\n",
       "  </thead>\n",
       "  <tbody>\n",
       "    <tr>\n",
       "      <th>2009-09-28 09:00:00</th>\n",
       "      <td>51.048208</td>\n",
       "      <td>51.037449</td>\n",
       "      <td>51.054184</td>\n",
       "      <td>303.945578</td>\n",
       "    </tr>\n",
       "    <tr>\n",
       "      <th>2009-09-28 10:00:00</th>\n",
       "      <td>51.277057</td>\n",
       "      <td>51.267413</td>\n",
       "      <td>51.282441</td>\n",
       "      <td>304.741348</td>\n",
       "    </tr>\n",
       "    <tr>\n",
       "      <th>2009-09-28 11:00:00</th>\n",
       "      <td>51.360257</td>\n",
       "      <td>51.352055</td>\n",
       "      <td>51.364887</td>\n",
       "      <td>344.380952</td>\n",
       "    </tr>\n",
       "    <tr>\n",
       "      <th>2009-09-28 12:00:00</th>\n",
       "      <td>51.460638</td>\n",
       "      <td>51.452312</td>\n",
       "      <td>51.465538</td>\n",
       "      <td>219.145161</td>\n",
       "    </tr>\n",
       "    <tr>\n",
       "      <th>2009-09-28 13:00:00</th>\n",
       "      <td>51.498606</td>\n",
       "      <td>51.488495</td>\n",
       "      <td>51.503692</td>\n",
       "      <td>236.333333</td>\n",
       "    </tr>\n",
       "  </tbody>\n",
       "</table>\n",
       "</div>"
      ],
      "text/plain": [
       "                         price        bid        ask      volume\n",
       "date_time                                                       \n",
       "2009-09-28 09:00:00  51.048208  51.037449  51.054184  303.945578\n",
       "2009-09-28 10:00:00  51.277057  51.267413  51.282441  304.741348\n",
       "2009-09-28 11:00:00  51.360257  51.352055  51.364887  344.380952\n",
       "2009-09-28 12:00:00  51.460638  51.452312  51.465538  219.145161\n",
       "2009-09-28 13:00:00  51.498606  51.488495  51.503692  236.333333"
      ]
     },
     "execution_count": 37,
     "metadata": {},
     "output_type": "execute_result"
    }
   ],
   "source": [
    "df_hour.head()"
   ]
  },
  {
   "cell_type": "code",
   "execution_count": 68,
   "id": "handed-treatment",
   "metadata": {},
   "outputs": [
    {
     "name": "stderr",
     "output_type": "stream",
     "text": [
      "100%|██████████| 96/96 [00:01<00:00, 90.38it/s]\n",
      "100%|██████████| 96/96 [00:00<00:00, 4399.76it/s]\n"
     ]
    }
   ],
   "source": [
    "assets_df = get_raw_dataset(\"trainTimeSeries/trainTimeSeries/TrainCandles\")"
   ]
  },
  {
   "cell_type": "code",
   "execution_count": 69,
   "id": "automatic-marsh",
   "metadata": {},
   "outputs": [
    {
     "data": {
      "text/plain": [
       "(9288, 96)"
      ]
     },
     "execution_count": 69,
     "metadata": {},
     "output_type": "execute_result"
    }
   ],
   "source": [
    "assets_df.shape"
   ]
  },
  {
   "cell_type": "code",
   "execution_count": 70,
   "id": "referenced-shakespeare",
   "metadata": {},
   "outputs": [],
   "source": [
    "assets_df = assets_df.resample(\"H\").aggregate(\"mean\")"
   ]
  },
  {
   "cell_type": "code",
   "execution_count": 72,
   "id": "ecological-europe",
   "metadata": {},
   "outputs": [
    {
     "data": {
      "text/plain": [
       "(13127, 96)"
      ]
     },
     "execution_count": 72,
     "metadata": {},
     "output_type": "execute_result"
    }
   ],
   "source": [
    "assets_df.shape"
   ]
  },
  {
   "cell_type": "code",
   "execution_count": 73,
   "id": "deadly-banana",
   "metadata": {},
   "outputs": [],
   "source": [
    "assets_df.fillna(method=\"ffill\", inplace=True)"
   ]
  },
  {
   "cell_type": "code",
   "execution_count": 74,
   "id": "conscious-bloom",
   "metadata": {},
   "outputs": [
    {
     "data": {
      "text/plain": [
       "Timestamp('2018-12-19 01:00:00', freq='H')"
      ]
     },
     "execution_count": 74,
     "metadata": {},
     "output_type": "execute_result"
    }
   ],
   "source": [
    "assets_df.index[0]"
   ]
  },
  {
   "cell_type": "code",
   "execution_count": 127,
   "id": "tropical-chemical",
   "metadata": {},
   "outputs": [
    {
     "data": {
      "text/plain": [
       "Index(['date_time', 'price', 'bid', 'ask', 'volume'], dtype='object')"
      ]
     },
     "execution_count": 127,
     "metadata": {},
     "output_type": "execute_result"
    }
   ],
   "source": [
    "sp500.columns"
   ]
  },
  {
   "cell_type": "code",
   "execution_count": 133,
   "id": "detected-clear",
   "metadata": {},
   "outputs": [],
   "source": [
    "def cut_sp500(df_sp, assetsdf):\n",
    "    first_date = assetsdf.index[0]\n",
    "    last_date = assetsdf.index[-1]\n",
    "    after_first = df_sp[\"date_time\"] >= first_date\n",
    "    before_last = df_sp[\"date_time\"] <= last_date\n",
    "    between = after_first & before_last\n",
    "    df = df_sp.loc[between]\n",
    "    #df.set_index(\"date_time\", inplace=True)\n",
    "    df.columns = [\"date\"] + [f\"sp500_{col}\" for col in [\"price\", \"bid\", \"ask\", \"volume\"]]\n",
    "    df = df.resample(\"H\", on=\"date\").aggregate(\"mean\")\n",
    "    df.fillna(method=\"ffill\", inplace=True)\n",
    "    return df"
   ]
  },
  {
   "cell_type": "code",
   "execution_count": 134,
   "id": "activated-judgment",
   "metadata": {},
   "outputs": [],
   "source": [
    "sp500_cutted = cut_sp500(sp500, assets_df)"
   ]
  },
  {
   "cell_type": "code",
   "execution_count": 135,
   "id": "private-shelf",
   "metadata": {},
   "outputs": [
    {
     "data": {
      "text/plain": [
       "Index(['sp500_price', 'sp500_bid', 'sp500_ask', 'sp500_volume'], dtype='object')"
      ]
     },
     "execution_count": 135,
     "metadata": {},
     "output_type": "execute_result"
    }
   ],
   "source": [
    "sp500_cutted.columns"
   ]
  },
  {
   "cell_type": "code",
   "execution_count": 136,
   "id": "deadly-canal",
   "metadata": {},
   "outputs": [],
   "source": [
    "merged_df = pd.merge(assets_df, sp500_cutted, on=\"date\", how=\"outer\")"
   ]
  },
  {
   "cell_type": "code",
   "execution_count": 137,
   "id": "ranging-subcommittee",
   "metadata": {},
   "outputs": [
    {
     "data": {
      "text/plain": [
       "(13116, 4)"
      ]
     },
     "execution_count": 137,
     "metadata": {},
     "output_type": "execute_result"
    }
   ],
   "source": [
    "sp500_cutted.shape\n"
   ]
  },
  {
   "cell_type": "code",
   "execution_count": 138,
   "id": "discrete-porter",
   "metadata": {},
   "outputs": [
    {
     "data": {
      "text/plain": [
       "(13127, 100)"
      ]
     },
     "execution_count": 138,
     "metadata": {},
     "output_type": "execute_result"
    }
   ],
   "source": [
    "merged_df.shape"
   ]
  },
  {
   "cell_type": "code",
   "execution_count": 139,
   "id": "brief-dancing",
   "metadata": {},
   "outputs": [
    {
     "data": {
      "text/plain": [
       "ZVQ_close          0\n",
       "NCT_close         21\n",
       "YAX_close       8853\n",
       "OOS_close       1629\n",
       "GFJ_close       3476\n",
       "                ... \n",
       "RWJ_close       1125\n",
       "sp500_price       11\n",
       "sp500_bid         11\n",
       "sp500_ask         11\n",
       "sp500_volume      11\n",
       "Length: 100, dtype: int64"
      ]
     },
     "execution_count": 139,
     "metadata": {},
     "output_type": "execute_result"
    }
   ],
   "source": [
    "merged_df.isna().sum()"
   ]
  },
  {
   "cell_type": "code",
   "execution_count": 120,
   "id": "reduced-folks",
   "metadata": {},
   "outputs": [
    {
     "data": {
      "text/html": [
       "<div>\n",
       "<style scoped>\n",
       "    .dataframe tbody tr th:only-of-type {\n",
       "        vertical-align: middle;\n",
       "    }\n",
       "\n",
       "    .dataframe tbody tr th {\n",
       "        vertical-align: top;\n",
       "    }\n",
       "\n",
       "    .dataframe thead th {\n",
       "        text-align: right;\n",
       "    }\n",
       "</style>\n",
       "<table border=\"1\" class=\"dataframe\">\n",
       "  <thead>\n",
       "    <tr style=\"text-align: right;\">\n",
       "      <th></th>\n",
       "      <th>ZVQ_close</th>\n",
       "      <th>NCT_close</th>\n",
       "      <th>YAX_close</th>\n",
       "      <th>OOS_close</th>\n",
       "      <th>GFJ_close</th>\n",
       "      <th>FIR_close</th>\n",
       "      <th>USX_close</th>\n",
       "      <th>FSK_close</th>\n",
       "      <th>TMF_close</th>\n",
       "      <th>TDD_close</th>\n",
       "      <th>...</th>\n",
       "      <th>AZG_close</th>\n",
       "      <th>OJG_close</th>\n",
       "      <th>WWT_close</th>\n",
       "      <th>BOT_close</th>\n",
       "      <th>TXR_close</th>\n",
       "      <th>RAT_close</th>\n",
       "      <th>DIG_close</th>\n",
       "      <th>SRI_close</th>\n",
       "      <th>PHI_close</th>\n",
       "      <th>RWJ_close</th>\n",
       "    </tr>\n",
       "    <tr>\n",
       "      <th>date</th>\n",
       "      <th></th>\n",
       "      <th></th>\n",
       "      <th></th>\n",
       "      <th></th>\n",
       "      <th></th>\n",
       "      <th></th>\n",
       "      <th></th>\n",
       "      <th></th>\n",
       "      <th></th>\n",
       "      <th></th>\n",
       "      <th></th>\n",
       "      <th></th>\n",
       "      <th></th>\n",
       "      <th></th>\n",
       "      <th></th>\n",
       "      <th></th>\n",
       "      <th></th>\n",
       "      <th></th>\n",
       "      <th></th>\n",
       "      <th></th>\n",
       "      <th></th>\n",
       "    </tr>\n",
       "  </thead>\n",
       "  <tbody>\n",
       "    <tr>\n",
       "      <th>2018-12-19 01:00:00</th>\n",
       "      <td>519.23</td>\n",
       "      <td>NaN</td>\n",
       "      <td>NaN</td>\n",
       "      <td>NaN</td>\n",
       "      <td>NaN</td>\n",
       "      <td>NaN</td>\n",
       "      <td>NaN</td>\n",
       "      <td>154.69</td>\n",
       "      <td>NaN</td>\n",
       "      <td>116.07</td>\n",
       "      <td>...</td>\n",
       "      <td>129.87</td>\n",
       "      <td>NaN</td>\n",
       "      <td>129.98</td>\n",
       "      <td>NaN</td>\n",
       "      <td>NaN</td>\n",
       "      <td>140.36</td>\n",
       "      <td>NaN</td>\n",
       "      <td>92.19</td>\n",
       "      <td>NaN</td>\n",
       "      <td>NaN</td>\n",
       "    </tr>\n",
       "    <tr>\n",
       "      <th>2018-12-19 02:00:00</th>\n",
       "      <td>519.63</td>\n",
       "      <td>NaN</td>\n",
       "      <td>NaN</td>\n",
       "      <td>NaN</td>\n",
       "      <td>NaN</td>\n",
       "      <td>NaN</td>\n",
       "      <td>NaN</td>\n",
       "      <td>155.01</td>\n",
       "      <td>NaN</td>\n",
       "      <td>116.25</td>\n",
       "      <td>...</td>\n",
       "      <td>129.95</td>\n",
       "      <td>NaN</td>\n",
       "      <td>130.02</td>\n",
       "      <td>NaN</td>\n",
       "      <td>NaN</td>\n",
       "      <td>140.55</td>\n",
       "      <td>NaN</td>\n",
       "      <td>92.11</td>\n",
       "      <td>NaN</td>\n",
       "      <td>NaN</td>\n",
       "    </tr>\n",
       "    <tr>\n",
       "      <th>2018-12-19 03:00:00</th>\n",
       "      <td>519.95</td>\n",
       "      <td>NaN</td>\n",
       "      <td>NaN</td>\n",
       "      <td>NaN</td>\n",
       "      <td>NaN</td>\n",
       "      <td>NaN</td>\n",
       "      <td>NaN</td>\n",
       "      <td>155.08</td>\n",
       "      <td>NaN</td>\n",
       "      <td>116.45</td>\n",
       "      <td>...</td>\n",
       "      <td>130.07</td>\n",
       "      <td>NaN</td>\n",
       "      <td>130.10</td>\n",
       "      <td>NaN</td>\n",
       "      <td>NaN</td>\n",
       "      <td>140.51</td>\n",
       "      <td>NaN</td>\n",
       "      <td>92.12</td>\n",
       "      <td>NaN</td>\n",
       "      <td>NaN</td>\n",
       "    </tr>\n",
       "    <tr>\n",
       "      <th>2018-12-19 04:00:00</th>\n",
       "      <td>520.09</td>\n",
       "      <td>NaN</td>\n",
       "      <td>NaN</td>\n",
       "      <td>NaN</td>\n",
       "      <td>NaN</td>\n",
       "      <td>NaN</td>\n",
       "      <td>NaN</td>\n",
       "      <td>155.16</td>\n",
       "      <td>NaN</td>\n",
       "      <td>116.65</td>\n",
       "      <td>...</td>\n",
       "      <td>130.26</td>\n",
       "      <td>NaN</td>\n",
       "      <td>130.50</td>\n",
       "      <td>NaN</td>\n",
       "      <td>NaN</td>\n",
       "      <td>140.57</td>\n",
       "      <td>NaN</td>\n",
       "      <td>92.18</td>\n",
       "      <td>NaN</td>\n",
       "      <td>NaN</td>\n",
       "    </tr>\n",
       "    <tr>\n",
       "      <th>2018-12-19 05:00:00</th>\n",
       "      <td>520.06</td>\n",
       "      <td>NaN</td>\n",
       "      <td>NaN</td>\n",
       "      <td>NaN</td>\n",
       "      <td>NaN</td>\n",
       "      <td>NaN</td>\n",
       "      <td>NaN</td>\n",
       "      <td>155.23</td>\n",
       "      <td>NaN</td>\n",
       "      <td>116.30</td>\n",
       "      <td>...</td>\n",
       "      <td>130.07</td>\n",
       "      <td>NaN</td>\n",
       "      <td>130.28</td>\n",
       "      <td>NaN</td>\n",
       "      <td>NaN</td>\n",
       "      <td>140.50</td>\n",
       "      <td>NaN</td>\n",
       "      <td>92.07</td>\n",
       "      <td>NaN</td>\n",
       "      <td>NaN</td>\n",
       "    </tr>\n",
       "  </tbody>\n",
       "</table>\n",
       "<p>5 rows × 96 columns</p>\n",
       "</div>"
      ],
      "text/plain": [
       "                     ZVQ_close  NCT_close  YAX_close  OOS_close  GFJ_close  \\\n",
       "date                                                                         \n",
       "2018-12-19 01:00:00     519.23        NaN        NaN        NaN        NaN   \n",
       "2018-12-19 02:00:00     519.63        NaN        NaN        NaN        NaN   \n",
       "2018-12-19 03:00:00     519.95        NaN        NaN        NaN        NaN   \n",
       "2018-12-19 04:00:00     520.09        NaN        NaN        NaN        NaN   \n",
       "2018-12-19 05:00:00     520.06        NaN        NaN        NaN        NaN   \n",
       "\n",
       "                     FIR_close  USX_close  FSK_close  TMF_close  TDD_close  \\\n",
       "date                                                                         \n",
       "2018-12-19 01:00:00        NaN        NaN     154.69        NaN     116.07   \n",
       "2018-12-19 02:00:00        NaN        NaN     155.01        NaN     116.25   \n",
       "2018-12-19 03:00:00        NaN        NaN     155.08        NaN     116.45   \n",
       "2018-12-19 04:00:00        NaN        NaN     155.16        NaN     116.65   \n",
       "2018-12-19 05:00:00        NaN        NaN     155.23        NaN     116.30   \n",
       "\n",
       "                     ...  AZG_close  OJG_close  WWT_close  BOT_close  \\\n",
       "date                 ...                                               \n",
       "2018-12-19 01:00:00  ...     129.87        NaN     129.98        NaN   \n",
       "2018-12-19 02:00:00  ...     129.95        NaN     130.02        NaN   \n",
       "2018-12-19 03:00:00  ...     130.07        NaN     130.10        NaN   \n",
       "2018-12-19 04:00:00  ...     130.26        NaN     130.50        NaN   \n",
       "2018-12-19 05:00:00  ...     130.07        NaN     130.28        NaN   \n",
       "\n",
       "                     TXR_close  RAT_close  DIG_close  SRI_close  PHI_close  \\\n",
       "date                                                                         \n",
       "2018-12-19 01:00:00        NaN     140.36        NaN      92.19        NaN   \n",
       "2018-12-19 02:00:00        NaN     140.55        NaN      92.11        NaN   \n",
       "2018-12-19 03:00:00        NaN     140.51        NaN      92.12        NaN   \n",
       "2018-12-19 04:00:00        NaN     140.57        NaN      92.18        NaN   \n",
       "2018-12-19 05:00:00        NaN     140.50        NaN      92.07        NaN   \n",
       "\n",
       "                     RWJ_close  \n",
       "date                            \n",
       "2018-12-19 01:00:00        NaN  \n",
       "2018-12-19 02:00:00        NaN  \n",
       "2018-12-19 03:00:00        NaN  \n",
       "2018-12-19 04:00:00        NaN  \n",
       "2018-12-19 05:00:00        NaN  \n",
       "\n",
       "[5 rows x 96 columns]"
      ]
     },
     "execution_count": 120,
     "metadata": {},
     "output_type": "execute_result"
    }
   ],
   "source": [
    "assets_df.head()"
   ]
  },
  {
   "cell_type": "code",
   "execution_count": 118,
   "id": "colonial-minute",
   "metadata": {},
   "outputs": [
    {
     "data": {
      "text/plain": [
       "(13127, 96)"
      ]
     },
     "execution_count": 118,
     "metadata": {},
     "output_type": "execute_result"
    }
   ],
   "source": [
    "assets_df.shape"
   ]
  },
  {
   "cell_type": "code",
   "execution_count": 119,
   "id": "excited-bobby",
   "metadata": {},
   "outputs": [
    {
     "data": {
      "text/plain": [
       "[Timestamp('2018-12-19 01:00:00', freq='H'),\n",
       " Timestamp('2018-12-19 02:00:00', freq='H'),\n",
       " Timestamp('2018-12-19 03:00:00', freq='H'),\n",
       " Timestamp('2018-12-19 04:00:00', freq='H'),\n",
       " Timestamp('2018-12-19 05:00:00', freq='H'),\n",
       " Timestamp('2018-12-19 06:00:00', freq='H'),\n",
       " Timestamp('2018-12-19 07:00:00', freq='H'),\n",
       " Timestamp('2018-12-19 08:00:00', freq='H'),\n",
       " Timestamp('2020-06-17 21:00:00', freq='H'),\n",
       " Timestamp('2020-06-17 22:00:00', freq='H'),\n",
       " Timestamp('2020-06-17 23:00:00', freq='H')]"
      ]
     },
     "execution_count": 119,
     "metadata": {},
     "output_type": "execute_result"
    }
   ],
   "source": [
    "[idx for idx in assets_df.index if idx not in sp500_cutted.index]"
   ]
  },
  {
   "cell_type": "code",
   "execution_count": 78,
   "id": "accepting-induction",
   "metadata": {},
   "outputs": [
    {
     "data": {
      "text/plain": [
       "price    NaN\n",
       "bid      NaN\n",
       "ask      NaN\n",
       "volume   NaN\n",
       "Name: 2009-10-19 17:00:00, dtype: float64"
      ]
     },
     "execution_count": 78,
     "metadata": {},
     "output_type": "execute_result"
    }
   ],
   "source": [
    "df_hour.loc['2009-10-19 17:00:00']"
   ]
  },
  {
   "cell_type": "code",
   "execution_count": 55,
   "id": "viral-vehicle",
   "metadata": {},
   "outputs": [
    {
     "data": {
      "text/plain": [
       "'2018-12-19 01:00:00'"
      ]
     },
     "execution_count": 55,
     "metadata": {},
     "output_type": "execute_result"
    }
   ],
   "source": [
    "str(assets_df.index[0])"
   ]
  },
  {
   "cell_type": "code",
   "execution_count": 63,
   "id": "unnecessary-median",
   "metadata": {},
   "outputs": [
    {
     "data": {
      "text/plain": [
       "DatetimeIndex(['2009-09-28 09:00:00', '2009-09-28 10:00:00',\n",
       "               '2009-09-28 11:00:00', '2009-09-28 12:00:00',\n",
       "               '2009-09-28 13:00:00', '2009-09-28 14:00:00',\n",
       "               '2009-09-28 15:00:00', '2009-09-28 16:00:00',\n",
       "               '2009-09-28 17:00:00', '2009-09-28 18:00:00',\n",
       "               ...\n",
       "               '2021-02-02 11:00:00', '2021-02-02 12:00:00',\n",
       "               '2021-02-02 13:00:00', '2021-02-02 14:00:00',\n",
       "               '2021-02-02 15:00:00', '2021-02-02 16:00:00',\n",
       "               '2021-02-02 17:00:00', '2021-02-02 18:00:00',\n",
       "               '2021-02-02 19:00:00', '2021-02-02 20:00:00'],\n",
       "              dtype='datetime64[ns]', name='date_time', length=99492, freq='H')"
      ]
     },
     "execution_count": 63,
     "metadata": {},
     "output_type": "execute_result"
    }
   ],
   "source": [
    "df_hour.index"
   ]
  },
  {
   "cell_type": "code",
   "execution_count": 64,
   "id": "virgin-actor",
   "metadata": {},
   "outputs": [
    {
     "data": {
      "text/plain": [
       "DatetimeIndex(['2018-12-19 01:00:00', '2018-12-19 02:00:00',\n",
       "               '2018-12-19 03:00:00', '2018-12-19 04:00:00',\n",
       "               '2018-12-19 05:00:00', '2018-12-19 06:00:00',\n",
       "               '2018-12-19 07:00:00', '2018-12-19 08:00:00',\n",
       "               '2018-12-19 09:00:00', '2018-12-19 10:00:00',\n",
       "               ...\n",
       "               '2019-01-02 00:00:00', '2019-01-02 01:00:00',\n",
       "               '2019-01-02 02:00:00', '2019-01-02 03:00:00',\n",
       "               '2019-01-02 04:00:00', '2019-01-02 05:00:00',\n",
       "               '2019-01-02 06:00:00', '2019-01-02 07:00:00',\n",
       "               '2019-01-02 08:00:00', '2018-12-24 21:00:00'],\n",
       "              dtype='datetime64[ns]', name='date', length=9288, freq=None)"
      ]
     },
     "execution_count": 64,
     "metadata": {},
     "output_type": "execute_result"
    }
   ],
   "source": [
    "assets_df.index"
   ]
  },
  {
   "cell_type": "code",
   "execution_count": 79,
   "id": "dangerous-mirror",
   "metadata": {},
   "outputs": [
    {
     "data": {
      "text/html": [
       "<div>\n",
       "<style scoped>\n",
       "    .dataframe tbody tr th:only-of-type {\n",
       "        vertical-align: middle;\n",
       "    }\n",
       "\n",
       "    .dataframe tbody tr th {\n",
       "        vertical-align: top;\n",
       "    }\n",
       "\n",
       "    .dataframe thead th {\n",
       "        text-align: right;\n",
       "    }\n",
       "</style>\n",
       "<table border=\"1\" class=\"dataframe\">\n",
       "  <thead>\n",
       "    <tr style=\"text-align: right;\">\n",
       "      <th></th>\n",
       "      <th>price</th>\n",
       "      <th>bid</th>\n",
       "      <th>ask</th>\n",
       "      <th>volume</th>\n",
       "    </tr>\n",
       "    <tr>\n",
       "      <th>date_time</th>\n",
       "      <th></th>\n",
       "      <th></th>\n",
       "      <th></th>\n",
       "      <th></th>\n",
       "    </tr>\n",
       "  </thead>\n",
       "  <tbody>\n",
       "    <tr>\n",
       "      <th>2009-09-28 09:00:00</th>\n",
       "      <td>51.048208</td>\n",
       "      <td>51.037449</td>\n",
       "      <td>51.054184</td>\n",
       "      <td>303.945578</td>\n",
       "    </tr>\n",
       "    <tr>\n",
       "      <th>2009-09-28 10:00:00</th>\n",
       "      <td>51.277057</td>\n",
       "      <td>51.267413</td>\n",
       "      <td>51.282441</td>\n",
       "      <td>304.741348</td>\n",
       "    </tr>\n",
       "    <tr>\n",
       "      <th>2009-09-28 11:00:00</th>\n",
       "      <td>51.360257</td>\n",
       "      <td>51.352055</td>\n",
       "      <td>51.364887</td>\n",
       "      <td>344.380952</td>\n",
       "    </tr>\n",
       "    <tr>\n",
       "      <th>2009-09-28 12:00:00</th>\n",
       "      <td>51.460638</td>\n",
       "      <td>51.452312</td>\n",
       "      <td>51.465538</td>\n",
       "      <td>219.145161</td>\n",
       "    </tr>\n",
       "    <tr>\n",
       "      <th>2009-09-28 13:00:00</th>\n",
       "      <td>51.498606</td>\n",
       "      <td>51.488495</td>\n",
       "      <td>51.503692</td>\n",
       "      <td>236.333333</td>\n",
       "    </tr>\n",
       "    <tr>\n",
       "      <th>...</th>\n",
       "      <td>...</td>\n",
       "      <td>...</td>\n",
       "      <td>...</td>\n",
       "      <td>...</td>\n",
       "    </tr>\n",
       "    <tr>\n",
       "      <th>2021-02-02 16:00:00</th>\n",
       "      <td>128.882500</td>\n",
       "      <td>128.772500</td>\n",
       "      <td>129.762500</td>\n",
       "      <td>11063.000000</td>\n",
       "    </tr>\n",
       "    <tr>\n",
       "      <th>2021-02-02 17:00:00</th>\n",
       "      <td>NaN</td>\n",
       "      <td>NaN</td>\n",
       "      <td>NaN</td>\n",
       "      <td>NaN</td>\n",
       "    </tr>\n",
       "    <tr>\n",
       "      <th>2021-02-02 18:00:00</th>\n",
       "      <td>128.890000</td>\n",
       "      <td>128.570000</td>\n",
       "      <td>129.870000</td>\n",
       "      <td>0.000000</td>\n",
       "    </tr>\n",
       "    <tr>\n",
       "      <th>2021-02-02 19:00:00</th>\n",
       "      <td>NaN</td>\n",
       "      <td>NaN</td>\n",
       "      <td>NaN</td>\n",
       "      <td>NaN</td>\n",
       "    </tr>\n",
       "    <tr>\n",
       "      <th>2021-02-02 20:00:00</th>\n",
       "      <td>128.890000</td>\n",
       "      <td>128.870000</td>\n",
       "      <td>129.740000</td>\n",
       "      <td>0.000000</td>\n",
       "    </tr>\n",
       "  </tbody>\n",
       "</table>\n",
       "<p>99492 rows × 4 columns</p>\n",
       "</div>"
      ],
      "text/plain": [
       "                          price         bid         ask        volume\n",
       "date_time                                                            \n",
       "2009-09-28 09:00:00   51.048208   51.037449   51.054184    303.945578\n",
       "2009-09-28 10:00:00   51.277057   51.267413   51.282441    304.741348\n",
       "2009-09-28 11:00:00   51.360257   51.352055   51.364887    344.380952\n",
       "2009-09-28 12:00:00   51.460638   51.452312   51.465538    219.145161\n",
       "2009-09-28 13:00:00   51.498606   51.488495   51.503692    236.333333\n",
       "...                         ...         ...         ...           ...\n",
       "2021-02-02 16:00:00  128.882500  128.772500  129.762500  11063.000000\n",
       "2021-02-02 17:00:00         NaN         NaN         NaN           NaN\n",
       "2021-02-02 18:00:00  128.890000  128.570000  129.870000      0.000000\n",
       "2021-02-02 19:00:00         NaN         NaN         NaN           NaN\n",
       "2021-02-02 20:00:00  128.890000  128.870000  129.740000      0.000000\n",
       "\n",
       "[99492 rows x 4 columns]"
      ]
     },
     "execution_count": 79,
     "metadata": {},
     "output_type": "execute_result"
    }
   ],
   "source": [
    "df_hour"
   ]
  },
  {
   "cell_type": "code",
   "execution_count": 83,
   "id": "buried-lighting",
   "metadata": {},
   "outputs": [
    {
     "data": {
      "text/plain": [
       "price    NaN\n",
       "bid      NaN\n",
       "ask      NaN\n",
       "volume   NaN\n",
       "Name: 2019-01-04 00:00:00, dtype: float64"
      ]
     },
     "execution_count": 83,
     "metadata": {},
     "output_type": "execute_result"
    }
   ],
   "source": [
    "df_hour.loc[\"2019-01-04 00:00:00\"]"
   ]
  },
  {
   "cell_type": "code",
   "execution_count": 84,
   "id": "fleet-merchant",
   "metadata": {},
   "outputs": [
    {
     "data": {
      "text/html": [
       "<div>\n",
       "<style scoped>\n",
       "    .dataframe tbody tr th:only-of-type {\n",
       "        vertical-align: middle;\n",
       "    }\n",
       "\n",
       "    .dataframe tbody tr th {\n",
       "        vertical-align: top;\n",
       "    }\n",
       "\n",
       "    .dataframe thead th {\n",
       "        text-align: right;\n",
       "    }\n",
       "</style>\n",
       "<table border=\"1\" class=\"dataframe\">\n",
       "  <thead>\n",
       "    <tr style=\"text-align: right;\">\n",
       "      <th></th>\n",
       "      <th>price</th>\n",
       "      <th>bid</th>\n",
       "      <th>ask</th>\n",
       "      <th>volume</th>\n",
       "    </tr>\n",
       "    <tr>\n",
       "      <th>date_time</th>\n",
       "      <th></th>\n",
       "      <th></th>\n",
       "      <th></th>\n",
       "      <th></th>\n",
       "    </tr>\n",
       "  </thead>\n",
       "  <tbody>\n",
       "    <tr>\n",
       "      <th>2018-01-01 00:00:00</th>\n",
       "      <td>NaN</td>\n",
       "      <td>NaN</td>\n",
       "      <td>NaN</td>\n",
       "      <td>NaN</td>\n",
       "    </tr>\n",
       "    <tr>\n",
       "      <th>2018-01-01 01:00:00</th>\n",
       "      <td>NaN</td>\n",
       "      <td>NaN</td>\n",
       "      <td>NaN</td>\n",
       "      <td>NaN</td>\n",
       "    </tr>\n",
       "    <tr>\n",
       "      <th>2018-01-01 02:00:00</th>\n",
       "      <td>NaN</td>\n",
       "      <td>NaN</td>\n",
       "      <td>NaN</td>\n",
       "      <td>NaN</td>\n",
       "    </tr>\n",
       "    <tr>\n",
       "      <th>2018-01-01 03:00:00</th>\n",
       "      <td>NaN</td>\n",
       "      <td>NaN</td>\n",
       "      <td>NaN</td>\n",
       "      <td>NaN</td>\n",
       "    </tr>\n",
       "    <tr>\n",
       "      <th>2018-01-01 04:00:00</th>\n",
       "      <td>NaN</td>\n",
       "      <td>NaN</td>\n",
       "      <td>NaN</td>\n",
       "      <td>NaN</td>\n",
       "    </tr>\n",
       "    <tr>\n",
       "      <th>...</th>\n",
       "      <td>...</td>\n",
       "      <td>...</td>\n",
       "      <td>...</td>\n",
       "      <td>...</td>\n",
       "    </tr>\n",
       "    <tr>\n",
       "      <th>2020-02-01 20:00:00</th>\n",
       "      <td>NaN</td>\n",
       "      <td>NaN</td>\n",
       "      <td>NaN</td>\n",
       "      <td>NaN</td>\n",
       "    </tr>\n",
       "    <tr>\n",
       "      <th>2020-02-01 21:00:00</th>\n",
       "      <td>NaN</td>\n",
       "      <td>NaN</td>\n",
       "      <td>NaN</td>\n",
       "      <td>NaN</td>\n",
       "    </tr>\n",
       "    <tr>\n",
       "      <th>2020-02-01 22:00:00</th>\n",
       "      <td>NaN</td>\n",
       "      <td>NaN</td>\n",
       "      <td>NaN</td>\n",
       "      <td>NaN</td>\n",
       "    </tr>\n",
       "    <tr>\n",
       "      <th>2020-02-01 23:00:00</th>\n",
       "      <td>NaN</td>\n",
       "      <td>NaN</td>\n",
       "      <td>NaN</td>\n",
       "      <td>NaN</td>\n",
       "    </tr>\n",
       "    <tr>\n",
       "      <th>2020-02-02 00:00:00</th>\n",
       "      <td>NaN</td>\n",
       "      <td>NaN</td>\n",
       "      <td>NaN</td>\n",
       "      <td>NaN</td>\n",
       "    </tr>\n",
       "  </tbody>\n",
       "</table>\n",
       "<p>18289 rows × 4 columns</p>\n",
       "</div>"
      ],
      "text/plain": [
       "                     price  bid  ask  volume\n",
       "date_time                                   \n",
       "2018-01-01 00:00:00    NaN  NaN  NaN     NaN\n",
       "2018-01-01 01:00:00    NaN  NaN  NaN     NaN\n",
       "2018-01-01 02:00:00    NaN  NaN  NaN     NaN\n",
       "2018-01-01 03:00:00    NaN  NaN  NaN     NaN\n",
       "2018-01-01 04:00:00    NaN  NaN  NaN     NaN\n",
       "...                    ...  ...  ...     ...\n",
       "2020-02-01 20:00:00    NaN  NaN  NaN     NaN\n",
       "2020-02-01 21:00:00    NaN  NaN  NaN     NaN\n",
       "2020-02-01 22:00:00    NaN  NaN  NaN     NaN\n",
       "2020-02-01 23:00:00    NaN  NaN  NaN     NaN\n",
       "2020-02-02 00:00:00    NaN  NaN  NaN     NaN\n",
       "\n",
       "[18289 rows x 4 columns]"
      ]
     },
     "execution_count": 84,
     "metadata": {},
     "output_type": "execute_result"
    }
   ],
   "source": [
    "df_hour.loc[\"2018-01-01 00:00:00\":\"2020-02-02 00:00:00\"]"
   ]
  },
  {
   "cell_type": "code",
   "execution_count": 85,
   "id": "italic-jewel",
   "metadata": {},
   "outputs": [
    {
     "data": {
      "text/plain": [
       "price     74378\n",
       "bid       74378\n",
       "ask       74378\n",
       "volume    74378\n",
       "dtype: int64"
      ]
     },
     "execution_count": 85,
     "metadata": {},
     "output_type": "execute_result"
    }
   ],
   "source": [
    "df_hour.isna().sum()"
   ]
  },
  {
   "cell_type": "code",
   "execution_count": 86,
   "id": "failing-austin",
   "metadata": {},
   "outputs": [
    {
     "data": {
      "text/plain": [
       "date_time    0\n",
       "price        0\n",
       "bid          0\n",
       "ask          0\n",
       "volume       0\n",
       "dtype: int64"
      ]
     },
     "execution_count": 86,
     "metadata": {},
     "output_type": "execute_result"
    }
   ],
   "source": [
    "sp500.isna().sum()"
   ]
  },
  {
   "cell_type": "code",
   "execution_count": 88,
   "id": "invalid-vinyl",
   "metadata": {},
   "outputs": [
    {
     "data": {
      "text/html": [
       "<div>\n",
       "<style scoped>\n",
       "    .dataframe tbody tr th:only-of-type {\n",
       "        vertical-align: middle;\n",
       "    }\n",
       "\n",
       "    .dataframe tbody tr th {\n",
       "        vertical-align: top;\n",
       "    }\n",
       "\n",
       "    .dataframe thead th {\n",
       "        text-align: right;\n",
       "    }\n",
       "</style>\n",
       "<table border=\"1\" class=\"dataframe\">\n",
       "  <thead>\n",
       "    <tr style=\"text-align: right;\">\n",
       "      <th></th>\n",
       "      <th>date_time</th>\n",
       "      <th>price</th>\n",
       "      <th>bid</th>\n",
       "      <th>ask</th>\n",
       "      <th>volume</th>\n",
       "    </tr>\n",
       "  </thead>\n",
       "  <tbody>\n",
       "    <tr>\n",
       "      <th>2018000</th>\n",
       "      <td>2013-12-27 11:24:06</td>\n",
       "      <td>85.1100</td>\n",
       "      <td>85.10</td>\n",
       "      <td>85.11</td>\n",
       "      <td>100</td>\n",
       "    </tr>\n",
       "    <tr>\n",
       "      <th>2018001</th>\n",
       "      <td>2013-12-27 11:24:23</td>\n",
       "      <td>85.0907</td>\n",
       "      <td>85.09</td>\n",
       "      <td>85.10</td>\n",
       "      <td>173</td>\n",
       "    </tr>\n",
       "    <tr>\n",
       "      <th>2018002</th>\n",
       "      <td>2013-12-27 11:24:37</td>\n",
       "      <td>85.0916</td>\n",
       "      <td>85.08</td>\n",
       "      <td>85.10</td>\n",
       "      <td>291</td>\n",
       "    </tr>\n",
       "    <tr>\n",
       "      <th>2018003</th>\n",
       "      <td>2013-12-27 11:24:43</td>\n",
       "      <td>85.0900</td>\n",
       "      <td>85.08</td>\n",
       "      <td>85.10</td>\n",
       "      <td>200</td>\n",
       "    </tr>\n",
       "    <tr>\n",
       "      <th>2018004</th>\n",
       "      <td>2013-12-27 11:24:43</td>\n",
       "      <td>85.0900</td>\n",
       "      <td>85.08</td>\n",
       "      <td>85.10</td>\n",
       "      <td>100</td>\n",
       "    </tr>\n",
       "    <tr>\n",
       "      <th>...</th>\n",
       "      <td>...</td>\n",
       "      <td>...</td>\n",
       "      <td>...</td>\n",
       "      <td>...</td>\n",
       "      <td>...</td>\n",
       "    </tr>\n",
       "    <tr>\n",
       "      <th>2019995</th>\n",
       "      <td>2013-12-31 12:40:06</td>\n",
       "      <td>85.4200</td>\n",
       "      <td>85.42</td>\n",
       "      <td>85.43</td>\n",
       "      <td>280</td>\n",
       "    </tr>\n",
       "    <tr>\n",
       "      <th>2019996</th>\n",
       "      <td>2013-12-31 12:40:06</td>\n",
       "      <td>85.4200</td>\n",
       "      <td>85.41</td>\n",
       "      <td>85.42</td>\n",
       "      <td>100</td>\n",
       "    </tr>\n",
       "    <tr>\n",
       "      <th>2019997</th>\n",
       "      <td>2013-12-31 12:40:19</td>\n",
       "      <td>85.4100</td>\n",
       "      <td>85.40</td>\n",
       "      <td>85.41</td>\n",
       "      <td>100</td>\n",
       "    </tr>\n",
       "    <tr>\n",
       "      <th>2019998</th>\n",
       "      <td>2013-12-31 12:40:19</td>\n",
       "      <td>85.4100</td>\n",
       "      <td>85.40</td>\n",
       "      <td>85.41</td>\n",
       "      <td>100</td>\n",
       "    </tr>\n",
       "    <tr>\n",
       "      <th>2019999</th>\n",
       "      <td>2013-12-31 12:40:28</td>\n",
       "      <td>85.4100</td>\n",
       "      <td>85.41</td>\n",
       "      <td>85.41</td>\n",
       "      <td>100</td>\n",
       "    </tr>\n",
       "  </tbody>\n",
       "</table>\n",
       "<p>2000 rows × 5 columns</p>\n",
       "</div>"
      ],
      "text/plain": [
       "                  date_time    price    bid    ask  volume\n",
       "2018000 2013-12-27 11:24:06  85.1100  85.10  85.11     100\n",
       "2018001 2013-12-27 11:24:23  85.0907  85.09  85.10     173\n",
       "2018002 2013-12-27 11:24:37  85.0916  85.08  85.10     291\n",
       "2018003 2013-12-27 11:24:43  85.0900  85.08  85.10     200\n",
       "2018004 2013-12-27 11:24:43  85.0900  85.08  85.10     100\n",
       "...                     ...      ...    ...    ...     ...\n",
       "2019995 2013-12-31 12:40:06  85.4200  85.42  85.43     280\n",
       "2019996 2013-12-31 12:40:06  85.4200  85.41  85.42     100\n",
       "2019997 2013-12-31 12:40:19  85.4100  85.40  85.41     100\n",
       "2019998 2013-12-31 12:40:19  85.4100  85.40  85.41     100\n",
       "2019999 2013-12-31 12:40:28  85.4100  85.41  85.41     100\n",
       "\n",
       "[2000 rows x 5 columns]"
      ]
     },
     "execution_count": 88,
     "metadata": {},
     "output_type": "execute_result"
    }
   ],
   "source": [
    "sp500.loc[\"2018-01-01 00:00:00\":\"2020-02-02 00:00:00\"]"
   ]
  },
  {
   "cell_type": "code",
   "execution_count": 89,
   "id": "lined-better",
   "metadata": {},
   "outputs": [
    {
     "data": {
      "text/plain": [
       "(8626971, 5)"
      ]
     },
     "execution_count": 89,
     "metadata": {},
     "output_type": "execute_result"
    }
   ],
   "source": [
    "sp500.shape"
   ]
  },
  {
   "cell_type": "code",
   "execution_count": 96,
   "id": "sustained-rwanda",
   "metadata": {},
   "outputs": [
    {
     "data": {
      "text/html": [
       "<div>\n",
       "<style scoped>\n",
       "    .dataframe tbody tr th:only-of-type {\n",
       "        vertical-align: middle;\n",
       "    }\n",
       "\n",
       "    .dataframe tbody tr th {\n",
       "        vertical-align: top;\n",
       "    }\n",
       "\n",
       "    .dataframe thead th {\n",
       "        text-align: right;\n",
       "    }\n",
       "</style>\n",
       "<table border=\"1\" class=\"dataframe\">\n",
       "  <thead>\n",
       "    <tr style=\"text-align: right;\">\n",
       "      <th></th>\n",
       "      <th>date_time</th>\n",
       "      <th>price</th>\n",
       "      <th>bid</th>\n",
       "      <th>ask</th>\n",
       "      <th>volume</th>\n",
       "    </tr>\n",
       "  </thead>\n",
       "  <tbody>\n",
       "    <tr>\n",
       "      <th>6000000</th>\n",
       "      <td>2018-10-08 09:39:36</td>\n",
       "      <td>116.21</td>\n",
       "      <td>116.19</td>\n",
       "      <td>116.21</td>\n",
       "      <td>500</td>\n",
       "    </tr>\n",
       "    <tr>\n",
       "      <th>6000001</th>\n",
       "      <td>2018-10-08 09:39:36</td>\n",
       "      <td>116.21</td>\n",
       "      <td>116.19</td>\n",
       "      <td>116.21</td>\n",
       "      <td>100</td>\n",
       "    </tr>\n",
       "    <tr>\n",
       "      <th>6000002</th>\n",
       "      <td>2018-10-08 09:39:36</td>\n",
       "      <td>116.21</td>\n",
       "      <td>116.19</td>\n",
       "      <td>116.21</td>\n",
       "      <td>500</td>\n",
       "    </tr>\n",
       "    <tr>\n",
       "      <th>6000003</th>\n",
       "      <td>2018-10-08 09:39:36</td>\n",
       "      <td>116.21</td>\n",
       "      <td>116.19</td>\n",
       "      <td>116.21</td>\n",
       "      <td>500</td>\n",
       "    </tr>\n",
       "    <tr>\n",
       "      <th>6000004</th>\n",
       "      <td>2018-10-08 09:39:37</td>\n",
       "      <td>116.21</td>\n",
       "      <td>116.20</td>\n",
       "      <td>116.21</td>\n",
       "      <td>500</td>\n",
       "    </tr>\n",
       "    <tr>\n",
       "      <th>...</th>\n",
       "      <td>...</td>\n",
       "      <td>...</td>\n",
       "      <td>...</td>\n",
       "      <td>...</td>\n",
       "      <td>...</td>\n",
       "    </tr>\n",
       "    <tr>\n",
       "      <th>6999995</th>\n",
       "      <td>2019-09-09 15:36:29</td>\n",
       "      <td>118.92</td>\n",
       "      <td>118.91</td>\n",
       "      <td>118.93</td>\n",
       "      <td>100</td>\n",
       "    </tr>\n",
       "    <tr>\n",
       "      <th>6999996</th>\n",
       "      <td>2019-09-09 15:36:29</td>\n",
       "      <td>118.92</td>\n",
       "      <td>118.91</td>\n",
       "      <td>118.93</td>\n",
       "      <td>100</td>\n",
       "    </tr>\n",
       "    <tr>\n",
       "      <th>6999997</th>\n",
       "      <td>2019-09-09 15:37:05</td>\n",
       "      <td>118.91</td>\n",
       "      <td>118.90</td>\n",
       "      <td>118.91</td>\n",
       "      <td>1800</td>\n",
       "    </tr>\n",
       "    <tr>\n",
       "      <th>6999998</th>\n",
       "      <td>2019-09-09 15:37:05</td>\n",
       "      <td>118.91</td>\n",
       "      <td>118.90</td>\n",
       "      <td>118.91</td>\n",
       "      <td>200</td>\n",
       "    </tr>\n",
       "    <tr>\n",
       "      <th>6999999</th>\n",
       "      <td>2019-09-09 15:37:05</td>\n",
       "      <td>118.91</td>\n",
       "      <td>118.90</td>\n",
       "      <td>118.91</td>\n",
       "      <td>200</td>\n",
       "    </tr>\n",
       "  </tbody>\n",
       "</table>\n",
       "<p>1000000 rows × 5 columns</p>\n",
       "</div>"
      ],
      "text/plain": [
       "                  date_time   price     bid     ask  volume\n",
       "6000000 2018-10-08 09:39:36  116.21  116.19  116.21     500\n",
       "6000001 2018-10-08 09:39:36  116.21  116.19  116.21     100\n",
       "6000002 2018-10-08 09:39:36  116.21  116.19  116.21     500\n",
       "6000003 2018-10-08 09:39:36  116.21  116.19  116.21     500\n",
       "6000004 2018-10-08 09:39:37  116.21  116.20  116.21     500\n",
       "...                     ...     ...     ...     ...     ...\n",
       "6999995 2019-09-09 15:36:29  118.92  118.91  118.93     100\n",
       "6999996 2019-09-09 15:36:29  118.92  118.91  118.93     100\n",
       "6999997 2019-09-09 15:37:05  118.91  118.90  118.91    1800\n",
       "6999998 2019-09-09 15:37:05  118.91  118.90  118.91     200\n",
       "6999999 2019-09-09 15:37:05  118.91  118.90  118.91     200\n",
       "\n",
       "[1000000 rows x 5 columns]"
      ]
     },
     "execution_count": 96,
     "metadata": {},
     "output_type": "execute_result"
    }
   ],
   "source": [
    "sp500[6000000:7000000]"
   ]
  },
  {
   "cell_type": "code",
   "execution_count": 97,
   "id": "fundamental-selling",
   "metadata": {},
   "outputs": [
    {
     "data": {
      "text/html": [
       "<div>\n",
       "<style scoped>\n",
       "    .dataframe tbody tr th:only-of-type {\n",
       "        vertical-align: middle;\n",
       "    }\n",
       "\n",
       "    .dataframe tbody tr th {\n",
       "        vertical-align: top;\n",
       "    }\n",
       "\n",
       "    .dataframe thead th {\n",
       "        text-align: right;\n",
       "    }\n",
       "</style>\n",
       "<table border=\"1\" class=\"dataframe\">\n",
       "  <thead>\n",
       "    <tr style=\"text-align: right;\">\n",
       "      <th></th>\n",
       "      <th>date_time</th>\n",
       "      <th>price</th>\n",
       "      <th>bid</th>\n",
       "      <th>ask</th>\n",
       "      <th>volume</th>\n",
       "    </tr>\n",
       "  </thead>\n",
       "  <tbody>\n",
       "    <tr>\n",
       "      <th>2018000</th>\n",
       "      <td>2013-12-27 11:24:06</td>\n",
       "      <td>85.1100</td>\n",
       "      <td>85.10</td>\n",
       "      <td>85.11</td>\n",
       "      <td>100</td>\n",
       "    </tr>\n",
       "    <tr>\n",
       "      <th>2018001</th>\n",
       "      <td>2013-12-27 11:24:23</td>\n",
       "      <td>85.0907</td>\n",
       "      <td>85.09</td>\n",
       "      <td>85.10</td>\n",
       "      <td>173</td>\n",
       "    </tr>\n",
       "    <tr>\n",
       "      <th>2018002</th>\n",
       "      <td>2013-12-27 11:24:37</td>\n",
       "      <td>85.0916</td>\n",
       "      <td>85.08</td>\n",
       "      <td>85.10</td>\n",
       "      <td>291</td>\n",
       "    </tr>\n",
       "    <tr>\n",
       "      <th>2018003</th>\n",
       "      <td>2013-12-27 11:24:43</td>\n",
       "      <td>85.0900</td>\n",
       "      <td>85.08</td>\n",
       "      <td>85.10</td>\n",
       "      <td>200</td>\n",
       "    </tr>\n",
       "    <tr>\n",
       "      <th>2018004</th>\n",
       "      <td>2013-12-27 11:24:43</td>\n",
       "      <td>85.0900</td>\n",
       "      <td>85.08</td>\n",
       "      <td>85.10</td>\n",
       "      <td>100</td>\n",
       "    </tr>\n",
       "    <tr>\n",
       "      <th>...</th>\n",
       "      <td>...</td>\n",
       "      <td>...</td>\n",
       "      <td>...</td>\n",
       "      <td>...</td>\n",
       "      <td>...</td>\n",
       "    </tr>\n",
       "    <tr>\n",
       "      <th>2018995</th>\n",
       "      <td>2013-12-30 13:59:52</td>\n",
       "      <td>85.1299</td>\n",
       "      <td>85.12</td>\n",
       "      <td>85.13</td>\n",
       "      <td>150</td>\n",
       "    </tr>\n",
       "    <tr>\n",
       "      <th>2018996</th>\n",
       "      <td>2013-12-30 14:00:51</td>\n",
       "      <td>85.1200</td>\n",
       "      <td>85.11</td>\n",
       "      <td>85.12</td>\n",
       "      <td>300</td>\n",
       "    </tr>\n",
       "    <tr>\n",
       "      <th>2018997</th>\n",
       "      <td>2013-12-30 14:00:51</td>\n",
       "      <td>85.1199</td>\n",
       "      <td>85.11</td>\n",
       "      <td>85.12</td>\n",
       "      <td>300</td>\n",
       "    </tr>\n",
       "    <tr>\n",
       "      <th>2018998</th>\n",
       "      <td>2013-12-30 14:00:51</td>\n",
       "      <td>85.1199</td>\n",
       "      <td>85.11</td>\n",
       "      <td>85.12</td>\n",
       "      <td>350</td>\n",
       "    </tr>\n",
       "    <tr>\n",
       "      <th>2018999</th>\n",
       "      <td>2013-12-30 14:00:51</td>\n",
       "      <td>85.1200</td>\n",
       "      <td>85.11</td>\n",
       "      <td>85.12</td>\n",
       "      <td>350</td>\n",
       "    </tr>\n",
       "  </tbody>\n",
       "</table>\n",
       "<p>1000 rows × 5 columns</p>\n",
       "</div>"
      ],
      "text/plain": [
       "                  date_time    price    bid    ask  volume\n",
       "2018000 2013-12-27 11:24:06  85.1100  85.10  85.11     100\n",
       "2018001 2013-12-27 11:24:23  85.0907  85.09  85.10     173\n",
       "2018002 2013-12-27 11:24:37  85.0916  85.08  85.10     291\n",
       "2018003 2013-12-27 11:24:43  85.0900  85.08  85.10     200\n",
       "2018004 2013-12-27 11:24:43  85.0900  85.08  85.10     100\n",
       "...                     ...      ...    ...    ...     ...\n",
       "2018995 2013-12-30 13:59:52  85.1299  85.12  85.13     150\n",
       "2018996 2013-12-30 14:00:51  85.1200  85.11  85.12     300\n",
       "2018997 2013-12-30 14:00:51  85.1199  85.11  85.12     300\n",
       "2018998 2013-12-30 14:00:51  85.1199  85.11  85.12     350\n",
       "2018999 2013-12-30 14:00:51  85.1200  85.11  85.12     350\n",
       "\n",
       "[1000 rows x 5 columns]"
      ]
     },
     "execution_count": 97,
     "metadata": {},
     "output_type": "execute_result"
    }
   ],
   "source": [
    "sp500.loc[\"2018-10-08 09:39:36\":\"2019-09-09 15:37:05\"]"
   ]
  },
  {
   "cell_type": "code",
   "execution_count": 99,
   "id": "hungry-garlic",
   "metadata": {},
   "outputs": [],
   "source": [
    "after_start_date = sp500[\"date_time\"] > \"2018-10-08 09:39:36\"\n",
    "before_end_date = sp500[\"date_time\"] < \"2019-09-09 15:37:05\""
   ]
  },
  {
   "cell_type": "code",
   "execution_count": 101,
   "id": "worthy-nutrition",
   "metadata": {},
   "outputs": [],
   "source": [
    "between_two_dates = after_start_date & before_end_date\n",
    "filtered_dates = sp500.loc[between_two_dates]"
   ]
  },
  {
   "cell_type": "code",
   "execution_count": 102,
   "id": "interim-roads",
   "metadata": {},
   "outputs": [
    {
     "data": {
      "text/html": [
       "<div>\n",
       "<style scoped>\n",
       "    .dataframe tbody tr th:only-of-type {\n",
       "        vertical-align: middle;\n",
       "    }\n",
       "\n",
       "    .dataframe tbody tr th {\n",
       "        vertical-align: top;\n",
       "    }\n",
       "\n",
       "    .dataframe thead th {\n",
       "        text-align: right;\n",
       "    }\n",
       "</style>\n",
       "<table border=\"1\" class=\"dataframe\">\n",
       "  <thead>\n",
       "    <tr style=\"text-align: right;\">\n",
       "      <th></th>\n",
       "      <th>date_time</th>\n",
       "      <th>price</th>\n",
       "      <th>bid</th>\n",
       "      <th>ask</th>\n",
       "      <th>volume</th>\n",
       "    </tr>\n",
       "  </thead>\n",
       "  <tbody>\n",
       "    <tr>\n",
       "      <th>6000004</th>\n",
       "      <td>2018-10-08 09:39:37</td>\n",
       "      <td>116.2100</td>\n",
       "      <td>116.20</td>\n",
       "      <td>116.21</td>\n",
       "      <td>500</td>\n",
       "    </tr>\n",
       "    <tr>\n",
       "      <th>6000005</th>\n",
       "      <td>2018-10-08 09:39:37</td>\n",
       "      <td>116.2100</td>\n",
       "      <td>116.20</td>\n",
       "      <td>116.21</td>\n",
       "      <td>500</td>\n",
       "    </tr>\n",
       "    <tr>\n",
       "      <th>6000006</th>\n",
       "      <td>2018-10-08 09:39:37</td>\n",
       "      <td>116.2100</td>\n",
       "      <td>116.20</td>\n",
       "      <td>116.21</td>\n",
       "      <td>500</td>\n",
       "    </tr>\n",
       "    <tr>\n",
       "      <th>6000007</th>\n",
       "      <td>2018-10-08 09:39:37</td>\n",
       "      <td>116.2100</td>\n",
       "      <td>116.20</td>\n",
       "      <td>116.21</td>\n",
       "      <td>500</td>\n",
       "    </tr>\n",
       "    <tr>\n",
       "      <th>6000008</th>\n",
       "      <td>2018-10-08 09:39:37</td>\n",
       "      <td>116.2100</td>\n",
       "      <td>116.20</td>\n",
       "      <td>116.21</td>\n",
       "      <td>500</td>\n",
       "    </tr>\n",
       "    <tr>\n",
       "      <th>...</th>\n",
       "      <td>...</td>\n",
       "      <td>...</td>\n",
       "      <td>...</td>\n",
       "      <td>...</td>\n",
       "      <td>...</td>\n",
       "    </tr>\n",
       "    <tr>\n",
       "      <th>6999992</th>\n",
       "      <td>2019-09-09 15:36:12</td>\n",
       "      <td>118.9100</td>\n",
       "      <td>118.91</td>\n",
       "      <td>118.92</td>\n",
       "      <td>100</td>\n",
       "    </tr>\n",
       "    <tr>\n",
       "      <th>6999993</th>\n",
       "      <td>2019-09-09 15:36:12</td>\n",
       "      <td>118.9100</td>\n",
       "      <td>118.91</td>\n",
       "      <td>118.92</td>\n",
       "      <td>100</td>\n",
       "    </tr>\n",
       "    <tr>\n",
       "      <th>6999994</th>\n",
       "      <td>2019-09-09 15:36:16</td>\n",
       "      <td>118.9064</td>\n",
       "      <td>118.90</td>\n",
       "      <td>118.92</td>\n",
       "      <td>285</td>\n",
       "    </tr>\n",
       "    <tr>\n",
       "      <th>6999995</th>\n",
       "      <td>2019-09-09 15:36:29</td>\n",
       "      <td>118.9200</td>\n",
       "      <td>118.91</td>\n",
       "      <td>118.93</td>\n",
       "      <td>100</td>\n",
       "    </tr>\n",
       "    <tr>\n",
       "      <th>6999996</th>\n",
       "      <td>2019-09-09 15:36:29</td>\n",
       "      <td>118.9200</td>\n",
       "      <td>118.91</td>\n",
       "      <td>118.93</td>\n",
       "      <td>100</td>\n",
       "    </tr>\n",
       "  </tbody>\n",
       "</table>\n",
       "<p>999993 rows × 5 columns</p>\n",
       "</div>"
      ],
      "text/plain": [
       "                  date_time     price     bid     ask  volume\n",
       "6000004 2018-10-08 09:39:37  116.2100  116.20  116.21     500\n",
       "6000005 2018-10-08 09:39:37  116.2100  116.20  116.21     500\n",
       "6000006 2018-10-08 09:39:37  116.2100  116.20  116.21     500\n",
       "6000007 2018-10-08 09:39:37  116.2100  116.20  116.21     500\n",
       "6000008 2018-10-08 09:39:37  116.2100  116.20  116.21     500\n",
       "...                     ...       ...     ...     ...     ...\n",
       "6999992 2019-09-09 15:36:12  118.9100  118.91  118.92     100\n",
       "6999993 2019-09-09 15:36:12  118.9100  118.91  118.92     100\n",
       "6999994 2019-09-09 15:36:16  118.9064  118.90  118.92     285\n",
       "6999995 2019-09-09 15:36:29  118.9200  118.91  118.93     100\n",
       "6999996 2019-09-09 15:36:29  118.9200  118.91  118.93     100\n",
       "\n",
       "[999993 rows x 5 columns]"
      ]
     },
     "execution_count": 102,
     "metadata": {},
     "output_type": "execute_result"
    }
   ],
   "source": [
    "filtered_dates"
   ]
  },
  {
   "cell_type": "code",
   "execution_count": null,
   "id": "reasonable-joining",
   "metadata": {},
   "outputs": [],
   "source": []
  }
 ],
 "metadata": {
  "kernelspec": {
   "display_name": "Python [conda env:series_temporales] *",
   "language": "python",
   "name": "conda-env-series_temporales-py"
  },
  "language_info": {
   "codemirror_mode": {
    "name": "ipython",
    "version": 3
   },
   "file_extension": ".py",
   "mimetype": "text/x-python",
   "name": "python",
   "nbconvert_exporter": "python",
   "pygments_lexer": "ipython3",
   "version": "3.7.9"
  }
 },
 "nbformat": 4,
 "nbformat_minor": 5
}
